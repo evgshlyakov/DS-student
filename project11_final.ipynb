{
 "cells": [
  {
   "cell_type": "markdown",
   "metadata": {},
   "source": [
    "<div style=\"border:solid Chocolate 2px; padding: 40px\">\n",
    "\n",
    "<b> Евгений, привет!👋</b>\n",
    "\n",
    "Меня зовут Алексей Гриб, и я буду ревьюером твоего проекта. \n",
    "\n",
    "Сразу хочу предложить в дальнейшем общаться на \"ты\" - надеюсь, так будет комфортнее:) Но если это неудобно, обязательно дай знать, и мы придумаем что-нибудь ещё!\n",
    "    \n",
    "Цель ревью - не искать ошибки в твоём проекте, а помочь тебе сделать твою работу ещё лучше, устранив недочёты и приблизив её к реальным задачам аналитика. Поэтому не расстраивайся, если что-то не получилось с первого раза - это нормально, и это поможет тебе вырасти!\n",
    "    \n",
    "Ты можешь найти мои комментарии, обозначенные <font color='green'>зеленым</font>, <font color='gold'>желтым</font> и <font color='red'>красным</font> цветами, например:\n",
    "\n",
    "<br/>\n",
    "\n",
    "<div class=\"alert alert-success\">\n",
    "<h2> Комментарий ревьюера <a class=\"tocSkip\"> </h2>\n",
    "\n",
    "<b>Все отлично!👍:</b> похвала, рекомендации «со звёздочкой», полезные лайфхаки, которые сделают и без того красивое решение ещё более элегантным.\n",
    "</div>\n",
    "\n",
    "<br/>\n",
    "\n",
    "<div class=\"alert alert-warning\">\n",
    "    <h2> Комментарий ревьюера <a class=\"tocSkip\"> </h2>\n",
    "    \n",
    "<b>Некоторые замечания и рекомендации⚠️:</b> некритичные ошибки или развивающие рекомендации на будущее. \n",
    "</div>\n",
    "\n",
    "\n",
    "<br/>\n",
    "<div class=\"alert alert-block alert-danger\">\n",
    "<h2> Комментарий ревьюера <a class=\"tocSkip\"></h2>\n",
    "\n",
    "    \n",
    "<b>На доработку❌:</b>\n",
    "Критичные ошибки, которые обязательно нужно исправить.\n",
    "</div>\n",
    "\n",
    "Я не смогу принять проект, если в нём будет хотя бы одна критичная ошибка или несколько некритичных ошибок - тогда проект нужно будет немного доработать. Но это нестрашно - я обязательно дам тебе подсказку или укажу верное направление.\n",
    "    \n",
    "Пожалуйста, не удаляй мои комментарии, они будут особенно полезны для нашей работы в случае повторной проверки проекта. \n",
    "    \n",
    "Ты также можешь задавать свои вопросы, реагировать на мои комментарии, делать пометки и пояснения - полная творческая свобода! Но маленькая просьба - пускай они будут отличаться от моих комментариев, это поможет избежать путаницы в нашем общении:)\n",
    "Например, вот так:\n",
    "    \n",
    "<div class=\"alert alert-info\">\n",
    "<h2> Комментарий студента <a class=\"tocSkip\"> </h2>\n",
    "\n",
    "*твой текст*\n",
    "</div>\n",
    "    \n",
    "Давай посмотрим на твой проект!"
   ]
  },
  {
   "cell_type": "markdown",
   "metadata": {
    "toc": true
   },
   "source": [
    "<h1>Содержание<span class=\"tocSkip\"></span></h1>\n",
    "<div class=\"toc\"><ul class=\"toc-item\"><li><span><a href=\"#Подготовка\" data-toc-modified-id=\"Подготовка-1\"><span class=\"toc-item-num\">1&nbsp;&nbsp;</span>Подготовка</a></span><ul class=\"toc-item\"><li><span><a href=\"#Вывод-к-первому-разделу\" data-toc-modified-id=\"Вывод-к-первому-разделу-1.1\"><span class=\"toc-item-num\">1.1&nbsp;&nbsp;</span>Вывод к первому разделу</a></span></li></ul></li><li><span><a href=\"#Анализ\" data-toc-modified-id=\"Анализ-2\"><span class=\"toc-item-num\">2&nbsp;&nbsp;</span>Анализ</a></span><ul class=\"toc-item\"><li><span><a href=\"#Вывод-ко-второму-разделу\" data-toc-modified-id=\"Вывод-ко-второму-разделу-2.1\"><span class=\"toc-item-num\">2.1&nbsp;&nbsp;</span>Вывод ко второму разделу</a></span></li></ul></li><li><span><a href=\"#Обучение\" data-toc-modified-id=\"Обучение-3\"><span class=\"toc-item-num\">3&nbsp;&nbsp;</span>Обучение</a></span><ul class=\"toc-item\"><li><span><a href=\"#Вывод-к-третьему-разделу\" data-toc-modified-id=\"Вывод-к-третьему-разделу-3.1\"><span class=\"toc-item-num\">3.1&nbsp;&nbsp;</span>Вывод к третьему разделу</a></span></li></ul></li><li><span><a href=\"#Тестирование\" data-toc-modified-id=\"Тестирование-4\"><span class=\"toc-item-num\">4&nbsp;&nbsp;</span>Тестирование</a></span><ul class=\"toc-item\"><li><span><a href=\"#Вывод-к-четвертому-разделу\" data-toc-modified-id=\"Вывод-к-четвертому-разделу-4.1\"><span class=\"toc-item-num\">4.1&nbsp;&nbsp;</span>Вывод к четвертому разделу</a></span></li></ul></li><li><span><a href=\"#Общий-вывод\" data-toc-modified-id=\"Общий-вывод-5\"><span class=\"toc-item-num\">5&nbsp;&nbsp;</span>Общий вывод</a></span></li></ul></div>"
   ]
  },
  {
   "cell_type": "markdown",
   "metadata": {},
   "source": [
    "#  Прогнозирование заказов такси"
   ]
  },
  {
   "cell_type": "markdown",
   "metadata": {},
   "source": [
    "Компания «Чётенькое такси» собрала исторические данные о заказах такси в аэропортах. \n",
    "\n",
    "Цель исследования: построить модель для предсказания количества заказов такси на следующий час, чтобы привлекать больше водителей в период пиковой нагрузки.\n",
    "\n",
    "Значение метрики *RMSE* на тестовой выборке должно быть не больше 48.\n",
    "\n",
    "Необходимо выполнить следующие шаги:\n",
    "\n",
    "1. Загрузить данные и выполнить их ресемплирование по одному часу.\n",
    "2. Проанализировать данные.\n",
    "3. Обучить разные модели с различными гиперпараметрами. Сделать тестовую выборку размером 10% от исходных данных.\n",
    "4. Проверить данные на тестовой выборке и сделать выводы.\n"
   ]
  },
  {
   "cell_type": "markdown",
   "metadata": {},
   "source": [
    "<div class=\"alert alert-success\">\n",
    "<h2> Комментарий ревьюера <a class=\"tocSkip\"> </h2>\n",
    "\n",
    "<b>Все отлично!👍:</b> Прекрасное вступление!\n",
    "    \n",
    "В нём есть всё, что необходимо, чтобы понять суть проекта с первых строк отчёта!\n",
    "    \n",
    "Спасибо, что есть оглавление в плагине toc и в виде гиперссылок - по проекту удобно перемещаться:)"
   ]
  },
  {
   "cell_type": "markdown",
   "metadata": {},
   "source": [
    "## Подготовка"
   ]
  },
  {
   "cell_type": "code",
   "execution_count": 1,
   "metadata": {},
   "outputs": [],
   "source": [
    "# импорт библиотек\n",
    "\n",
    "import numpy as np\n",
    "import pandas as pd\n",
    "import matplotlib.pyplot as plt\n",
    "\n",
    "from sklearn.tree import DecisionTreeRegressor \n",
    "from sklearn.ensemble import RandomForestRegressor\n",
    "from sklearn.linear_model import LinearRegression\n",
    "from sklearn.metrics import mean_squared_error\n",
    "from sklearn.model_selection import train_test_split, TimeSeriesSplit, cross_val_score, GridSearchCV \n",
    "from sklearn.preprocessing import StandardScaler\n",
    "\n",
    "from statsmodels.tsa.seasonal import seasonal_decompose\n",
    "from statsmodels.tsa.stattools import adfuller\n",
    "\n",
    "from catboost import CatBoostRegressor\n",
    "from lightgbm import LGBMRegressor"
   ]
  },
  {
   "cell_type": "markdown",
   "metadata": {},
   "source": [
    "<div class=\"alert alert-success\">\n",
    "<h2> Комментарий ревьюера <a class=\"tocSkip\"> </h2>\n",
    "\n",
    "<b>Все отлично!👍:</b> Библиотеки импортировали - отлично! Спасибо, что перезапускаешь проект перед отправкой на ревью - это важный шаг, который поможет избежать простых и досадных ошибок при воспроизведении решнеия:)\n",
    "</div>"
   ]
  },
  {
   "cell_type": "code",
   "execution_count": 2,
   "metadata": {},
   "outputs": [
    {
     "data": {
      "text/html": [
       "<div>\n",
       "<style scoped>\n",
       "    .dataframe tbody tr th:only-of-type {\n",
       "        vertical-align: middle;\n",
       "    }\n",
       "\n",
       "    .dataframe tbody tr th {\n",
       "        vertical-align: top;\n",
       "    }\n",
       "\n",
       "    .dataframe thead th {\n",
       "        text-align: right;\n",
       "    }\n",
       "</style>\n",
       "<table border=\"1\" class=\"dataframe\">\n",
       "  <thead>\n",
       "    <tr style=\"text-align: right;\">\n",
       "      <th></th>\n",
       "      <th>datetime</th>\n",
       "      <th>num_orders</th>\n",
       "    </tr>\n",
       "  </thead>\n",
       "  <tbody>\n",
       "    <tr>\n",
       "      <th>0</th>\n",
       "      <td>2018-03-01 00:00:00</td>\n",
       "      <td>9</td>\n",
       "    </tr>\n",
       "    <tr>\n",
       "      <th>1</th>\n",
       "      <td>2018-03-01 00:10:00</td>\n",
       "      <td>14</td>\n",
       "    </tr>\n",
       "    <tr>\n",
       "      <th>2</th>\n",
       "      <td>2018-03-01 00:20:00</td>\n",
       "      <td>28</td>\n",
       "    </tr>\n",
       "    <tr>\n",
       "      <th>3</th>\n",
       "      <td>2018-03-01 00:30:00</td>\n",
       "      <td>20</td>\n",
       "    </tr>\n",
       "    <tr>\n",
       "      <th>4</th>\n",
       "      <td>2018-03-01 00:40:00</td>\n",
       "      <td>32</td>\n",
       "    </tr>\n",
       "  </tbody>\n",
       "</table>\n",
       "</div>"
      ],
      "text/plain": [
       "              datetime  num_orders\n",
       "0  2018-03-01 00:00:00           9\n",
       "1  2018-03-01 00:10:00          14\n",
       "2  2018-03-01 00:20:00          28\n",
       "3  2018-03-01 00:30:00          20\n",
       "4  2018-03-01 00:40:00          32"
      ]
     },
     "execution_count": 2,
     "metadata": {},
     "output_type": "execute_result"
    }
   ],
   "source": [
    "# чтение файла с разных источников\n",
    "\n",
    "try:\n",
    "    taxi = pd.read_csv('/datasets/taxi.csv')\n",
    "except:\n",
    "    taxi = pd.read_csv('C:/Users/Evgenii/Downloads/DS Yandex/Projects/taxi.csv')\n",
    "    \n",
    "taxi.head()"
   ]
  },
  {
   "cell_type": "code",
   "execution_count": 3,
   "metadata": {
    "scrolled": true
   },
   "outputs": [
    {
     "name": "stdout",
     "output_type": "stream",
     "text": [
      "<class 'pandas.core.frame.DataFrame'>\n",
      "RangeIndex: 26496 entries, 0 to 26495\n",
      "Data columns (total 2 columns):\n",
      " #   Column      Non-Null Count  Dtype \n",
      "---  ------      --------------  ----- \n",
      " 0   datetime    26496 non-null  object\n",
      " 1   num_orders  26496 non-null  int64 \n",
      "dtypes: int64(1), object(1)\n",
      "memory usage: 414.1+ KB\n"
     ]
    }
   ],
   "source": [
    "# информация о количестве строк и пропусках\n",
    "taxi.info()"
   ]
  },
  {
   "cell_type": "markdown",
   "metadata": {},
   "source": [
    "<div class=\"alert alert-success\">\n",
    "<h2> Комментарий ревьюера <a class=\"tocSkip\"> </h2>\n",
    "\n",
    "<b>Все отлично!👍:</b>\n",
    "    \n",
    "Данные загрузили - отлично!\n",
    "    \n",
    "Здорово, что ты используешь конструкцию ``try-except`` для путей файлов. Но еще лучше использовать библиотеку `os` - её использование позволит тебе отойти от прописывания путей к файлу (а локальные директории могут меняться часто в зависимости от пользователя) и перейти к автоматическому определению пути к файлу с помощью модуля `path`. Как пример:\n",
    "\n",
    "    import os\n",
    "\n",
    "    pth1 = '/folder_1/data.csv'\n",
    "    pth2 = '/folder_2/data.csv'\n",
    "    \n",
    "    if os.path.exists(pth1):\n",
    "        query_1 = pd.read_csv(pth1)\n",
    "    elif os.path.exists(pth2):\n",
    "        query_1 = pd.read_csv(pth2)\n",
    "    else:\n",
    "        print('Something is wrong')\n",
    "\n",
    "В нём мы указываем только непосредственно директорию с файлом, а уже путь к ней модуль `path` определит самостоятельно.\n",
    "    \n",
    "Также ещё на этапе считывания данных можно спарсить дату и задать индекс-столбец: за первое действие отвечает параметр `parse_dates`, за второе - `index_col`. Это параметры метода Pandas `.read_csv()`.\n",
    "</div>"
   ]
  },
  {
   "cell_type": "markdown",
   "metadata": {},
   "source": [
    "<div class=\"alert alert-info\">\n",
    "<h2> Комментарий студента <a class=\"tocSkip\"> </h2>\n",
    "\n",
    "Добрый день, Алексей!\n",
    "    \n",
    "Благодарю за проверку проекта и подробные комментарии. Довольно-таки много нового материала, не охваченного в Практикуме.\n",
    "    \n",
    "По библиотеке os - спасибо, буду использовать со следующего проекта.)\n",
    "</div>"
   ]
  },
  {
   "cell_type": "markdown",
   "metadata": {},
   "source": [
    "<div class=\"alert alert-success\">\n",
    "<h2> Комментарий ревьюера v.2 <a class=\"tocSkip\"> </h2>\n",
    "\n",
    "<b>Все отлично!👍:</b> Рад, что ревью было полезным:)\n",
    "</div>"
   ]
  },
  {
   "cell_type": "code",
   "execution_count": 4,
   "metadata": {},
   "outputs": [
    {
     "name": "stdout",
     "output_type": "stream",
     "text": [
      "True\n"
     ]
    },
    {
     "data": {
      "text/html": [
       "<div>\n",
       "<style scoped>\n",
       "    .dataframe tbody tr th:only-of-type {\n",
       "        vertical-align: middle;\n",
       "    }\n",
       "\n",
       "    .dataframe tbody tr th {\n",
       "        vertical-align: top;\n",
       "    }\n",
       "\n",
       "    .dataframe thead th {\n",
       "        text-align: right;\n",
       "    }\n",
       "</style>\n",
       "<table border=\"1\" class=\"dataframe\">\n",
       "  <thead>\n",
       "    <tr style=\"text-align: right;\">\n",
       "      <th></th>\n",
       "      <th>num_orders</th>\n",
       "    </tr>\n",
       "    <tr>\n",
       "      <th>datetime</th>\n",
       "      <th></th>\n",
       "    </tr>\n",
       "  </thead>\n",
       "  <tbody>\n",
       "    <tr>\n",
       "      <th>2018-03-01 00:00:00</th>\n",
       "      <td>9</td>\n",
       "    </tr>\n",
       "    <tr>\n",
       "      <th>2018-03-01 00:10:00</th>\n",
       "      <td>14</td>\n",
       "    </tr>\n",
       "    <tr>\n",
       "      <th>2018-03-01 00:20:00</th>\n",
       "      <td>28</td>\n",
       "    </tr>\n",
       "    <tr>\n",
       "      <th>2018-03-01 00:30:00</th>\n",
       "      <td>20</td>\n",
       "    </tr>\n",
       "    <tr>\n",
       "      <th>2018-03-01 00:40:00</th>\n",
       "      <td>32</td>\n",
       "    </tr>\n",
       "  </tbody>\n",
       "</table>\n",
       "</div>"
      ],
      "text/plain": [
       "                     num_orders\n",
       "datetime                       \n",
       "2018-03-01 00:00:00           9\n",
       "2018-03-01 00:10:00          14\n",
       "2018-03-01 00:20:00          28\n",
       "2018-03-01 00:30:00          20\n",
       "2018-03-01 00:40:00          32"
      ]
     },
     "execution_count": 4,
     "metadata": {},
     "output_type": "execute_result"
    }
   ],
   "source": [
    "# перевод дат в индексы, сортировка дат по возрастанию\n",
    "\n",
    "taxi['datetime'] = pd.to_datetime(taxi['datetime'])\n",
    "taxi = taxi.set_index('datetime')\n",
    "\n",
    "taxi.sort_index(inplace=True)\n",
    "print(taxi.index.is_monotonic)\n",
    "\n",
    "taxi.head()"
   ]
  },
  {
   "cell_type": "markdown",
   "metadata": {},
   "source": [
    "<div class=\"alert alert-success\">\n",
    "<h2> Комментарий ревьюера <a class=\"tocSkip\"> </h2>\n",
    "\n",
    "<b>Все отлично!👍:</b> С датой-индексом поработали - порядок!\n",
    "</div>"
   ]
  },
  {
   "cell_type": "code",
   "execution_count": 5,
   "metadata": {
    "scrolled": true
   },
   "outputs": [
    {
     "data": {
      "text/html": [
       "<div>\n",
       "<style scoped>\n",
       "    .dataframe tbody tr th:only-of-type {\n",
       "        vertical-align: middle;\n",
       "    }\n",
       "\n",
       "    .dataframe tbody tr th {\n",
       "        vertical-align: top;\n",
       "    }\n",
       "\n",
       "    .dataframe thead th {\n",
       "        text-align: right;\n",
       "    }\n",
       "</style>\n",
       "<table border=\"1\" class=\"dataframe\">\n",
       "  <thead>\n",
       "    <tr style=\"text-align: right;\">\n",
       "      <th></th>\n",
       "      <th>num_orders</th>\n",
       "    </tr>\n",
       "    <tr>\n",
       "      <th>datetime</th>\n",
       "      <th></th>\n",
       "    </tr>\n",
       "  </thead>\n",
       "  <tbody>\n",
       "    <tr>\n",
       "      <th>2018-03-01 00:00:00</th>\n",
       "      <td>124</td>\n",
       "    </tr>\n",
       "    <tr>\n",
       "      <th>2018-03-01 01:00:00</th>\n",
       "      <td>85</td>\n",
       "    </tr>\n",
       "    <tr>\n",
       "      <th>2018-03-01 02:00:00</th>\n",
       "      <td>71</td>\n",
       "    </tr>\n",
       "    <tr>\n",
       "      <th>2018-03-01 03:00:00</th>\n",
       "      <td>66</td>\n",
       "    </tr>\n",
       "    <tr>\n",
       "      <th>2018-03-01 04:00:00</th>\n",
       "      <td>43</td>\n",
       "    </tr>\n",
       "  </tbody>\n",
       "</table>\n",
       "</div>"
      ],
      "text/plain": [
       "                     num_orders\n",
       "datetime                       \n",
       "2018-03-01 00:00:00         124\n",
       "2018-03-01 01:00:00          85\n",
       "2018-03-01 02:00:00          71\n",
       "2018-03-01 03:00:00          66\n",
       "2018-03-01 04:00:00          43"
      ]
     },
     "execution_count": 5,
     "metadata": {},
     "output_type": "execute_result"
    }
   ],
   "source": [
    "# ресемплирование данных с шагом в один час\n",
    "taxi = taxi.resample('1H').sum()\n",
    "taxi.head()"
   ]
  },
  {
   "cell_type": "code",
   "execution_count": 6,
   "metadata": {},
   "outputs": [
    {
     "name": "stdout",
     "output_type": "stream",
     "text": [
      "<class 'pandas.core.frame.DataFrame'>\n",
      "DatetimeIndex: 4416 entries, 2018-03-01 00:00:00 to 2018-08-31 23:00:00\n",
      "Freq: H\n",
      "Data columns (total 1 columns):\n",
      " #   Column      Non-Null Count  Dtype\n",
      "---  ------      --------------  -----\n",
      " 0   num_orders  4416 non-null   int64\n",
      "dtypes: int64(1)\n",
      "memory usage: 69.0 KB\n"
     ]
    }
   ],
   "source": [
    "# количество строк после ресемплирования\n",
    "taxi.info()"
   ]
  },
  {
   "cell_type": "markdown",
   "metadata": {},
   "source": [
    "<div class=\"alert alert-success\">\n",
    "<h2> Комментарий ревьюера <a class=\"tocSkip\"> </h2>\n",
    "\n",
    "<b>Все отлично!👍</b> \n",
    "    \n",
    "Выполнили ресэмплирование данных с градацией по часу с применением функции суммирования - отличное и наиболее логичное решение для этой задачи!\n",
    "</div>"
   ]
  },
  {
   "cell_type": "markdown",
   "metadata": {},
   "source": [
    "### Вывод к первому разделу\n",
    "\n",
    "*Исходные данные представляют собой число заказов такси за 26.5 тысяч 10-минутных интервалов, с марта по сентябрь 2018 года. Пропусков в данных не имеется, для почасового прогнозирования все данные преобразованы в заказы с часовым интервалом. В результате датасет стал состоять из 4416 строк с количеством заказов такси за каждый час.* \n",
    "\n",
    "*По этим данным будет строиться прогнозирование заказов такси на следующий час.*"
   ]
  },
  {
   "cell_type": "markdown",
   "metadata": {},
   "source": [
    "<div class=\"alert alert-success\">\n",
    "<h2> Комментарий ревьюера <a class=\"tocSkip\"> </h2>\n",
    "\n",
    "<b>Все отлично!👍</b> \n",
    "    \n",
    "Отличный промежуточный вывод!\n",
    "</div>"
   ]
  },
  {
   "cell_type": "markdown",
   "metadata": {},
   "source": [
    "## Анализ"
   ]
  },
  {
   "cell_type": "code",
   "execution_count": 7,
   "metadata": {
    "scrolled": false
   },
   "outputs": [
    {
     "data": {
      "image/png": "[encoded data removed]",
      "text/plain": [
       "<Figure size 864x432 with 1 Axes>"
      ]
     },
     "metadata": {
      "needs_background": "light"
     },
     "output_type": "display_data"
    }
   ],
   "source": [
    "# визуальная проверка на стационарность отсэмплированного ряда\n",
    "taxi['mean'] = taxi['num_orders'].rolling(30, closed='left').mean()\n",
    "taxi['std'] = taxi['num_orders'].rolling(30, closed='left').std()\n",
    "taxi.plot(figsize=(12, 6), title='Число заказов такси с временным рядом в 1 час')\n",
    "\n",
    "plt.xlabel('дата-время')\n",
    "plt.ylabel('заказы')\n",
    "plt.legend(['число заказов', 'скользящее среднее заказов', 'стандартное отклонение']);"
   ]
  },
  {
   "cell_type": "code",
   "execution_count": 8,
   "metadata": {},
   "outputs": [
    {
     "data": {
      "image/png": "[encoded data removed]",
      "text/plain": [
       "<Figure size 864x432 with 1 Axes>"
      ]
     },
     "metadata": {
      "needs_background": "light"
     },
     "output_type": "display_data"
    }
   ],
   "source": [
    "# число заказов такси по часам за 3 произвольных дня\n",
    "taxi['num_orders']['2018-04-09': '2018-04-11'].plot(figsize=(12, 6), title='Число заказов такси по часам с 9 по 11 апреля')\n",
    "\n",
    "plt.xlabel('дата-время')\n",
    "plt.ylabel('заказы');"
   ]
  },
  {
   "cell_type": "code",
   "execution_count": 9,
   "metadata": {},
   "outputs": [
    {
     "data": {
      "image/png": "[encoded data removed]",
      "text/plain": [
       "<Figure size 864x432 with 1 Axes>"
      ]
     },
     "metadata": {
      "needs_background": "light"
     },
     "output_type": "display_data"
    }
   ],
   "source": [
    "# тренд к увеличению при ежедневном числе заказов\n",
    "taxi.resample('1D').sum()['num_orders'].plot(figsize=(12, 6), title='Число заказов такси по дням')\n",
    "\n",
    "plt.xlabel('дата-время')\n",
    "plt.ylabel('заказы');"
   ]
  },
  {
   "cell_type": "markdown",
   "metadata": {},
   "source": [
    "*Исходный ряд заказов такси с часовым интервалом выглядит достаточно стабильно, с пиками заказов в определённые дни и часы. Утренние и поздне-вечерние часы имеют наибольшие пики заказов, а ночные часы, ближе к утру - наименьшие в плане числа заказов.*\n",
    "\n",
    "*Исходный ряд имеет явно выраженный тренд к увеличению числа заказов в июле-августе, в августе также наблюдаются самые большие скачки в числе заказов, что можно связать с периодом активных отпусков и увеличения числа рейсов в аэропорту.*\n",
    "\n",
    "*Сглаженное среднее с окном 30 показывает небольшие колебания и повышательный тренд, что может  говорить о сезонности данных и нестационарности ряда.* \n",
    "\n",
    "*Стандартное отклонение, в целом, стабильно, с небольшими скачками в пиковом августе. Для более точного выявления тенденций посмотрим на сезонность и проверим тяд на стационарность тестом Дики-Фулера.*"
   ]
  },
  {
   "cell_type": "markdown",
   "metadata": {},
   "source": [
    "*Примем 2 гипотезы: нулевую и альтернативную.*\n",
    "\n",
    "*Нулевая гипотеза **H_0**: временной ряд является нестационарным.*\n",
    "\n",
    "*Альтернативная гипотеза **H_a**: временной ряд является стационарным.*"
   ]
  },
  {
   "cell_type": "markdown",
   "metadata": {},
   "source": [
    "<div class=\"alert alert-success\">\n",
    "<h2> Комментарий ревьюера <a class=\"tocSkip\"> </h2>\n",
    "\n",
    "<b>Все отлично!👍</b> \n",
    "    \n",
    "Визуализировали исходный и сглаженный ряды, а также проанализировали стационарность - окей!\n",
    "</div>"
   ]
  },
  {
   "cell_type": "markdown",
   "metadata": {},
   "source": [
    "<div class=\"alert alert-warning\">\n",
    "    <h2> Комментарий ревьюера <a class=\"tocSkip\"> </h2>\n",
    "    \n",
    "<b>Некоторые замечания и рекомендации⚠️:</b> \n",
    "\n",
    "При использовании `.rolling()` в такой постановке скользящее среднее считается с учётом текущего шага - это не совсем верно для задачи временных рядов, так как будет работать только для известных нам значений и сломается на предсказаниях.\n",
    "        \n",
    "Нужно либо использовать `.shift()` перед `.rolling()`, либо параметру `closed` при использовании `.rolling()` передать значение `left`.\n",
    "</div>"
   ]
  },
  {
   "cell_type": "markdown",
   "metadata": {},
   "source": [
    "<div class=\"alert alert-success\">\n",
    "<h2> Комментарий ревьюера v.2 <a class=\"tocSkip\"> </h2>\n",
    "\n",
    "<b>Все отлично!👍:</b> Учтено.\n",
    "</div>"
   ]
  },
  {
   "cell_type": "markdown",
   "metadata": {},
   "source": [
    "<div class=\"alert alert-block alert-danger\">\n",
    "<h2> Комментарий ревьюера <a class=\"tocSkip\"></h2>\n",
    "\n",
    "    \n",
    "<b>На доработку❌:</b>\n",
    "Пара замечаний:\n",
    "1. Скользящее среднее, во-первых, показывает явные колебания по мере развития ряда, во-вторых имеет не очень выраженный, но повышательный тренд - это всё указывает на нестационарность ряда.\n",
    "2. Не сделан вывод из анализа исходного ряда - стоит сделать вывод хотя бы в общем виде о том, как изменяется количество заказов с течением времени и какой прослеживается тренд.\n",
    "3. На график стоит добавить подписи осей Х и Y.\n",
    " </div>"
   ]
  },
  {
   "cell_type": "markdown",
   "metadata": {},
   "source": [
    "<div class=\"alert alert-info\">\n",
    "<h2> Комментарий студента <a class=\"tocSkip\"> </h2>\n",
    "\n",
    "Добавил параметр closed в rolling.\n",
    "    \n",
    "Дополнил вывод по первичному анализу, добавил подписи осей в графики. Посмотрел интуитивно и на признаки сезонности-тренда. Более системно рассмотрел эти признаки далее в анализе декомпозировнных компонентов с помощью соответствующего инструмента библиотеки стат.моделей.\n",
    "</div>"
   ]
  },
  {
   "cell_type": "markdown",
   "metadata": {},
   "source": [
    "<div class=\"alert alert-success\">\n",
    "<h2> Комментарий ревьюера v.2 <a class=\"tocSkip\"> </h2>\n",
    "\n",
    "<b>Все отлично!👍:</b> Учтено.\n",
    "</div>"
   ]
  },
  {
   "cell_type": "code",
   "execution_count": 10,
   "metadata": {},
   "outputs": [
    {
     "name": "stdout",
     "output_type": "stream",
     "text": [
      "Критерий ADF: -10.891452237749158\n",
      "1%-й уровень значимости (критическое значение): -4.373775161444573\n",
      "5%-й уровень значимости (критическое значение): -3.8337377543683258\n",
      "При 1%-м уровне значимости отвергаем нулевую гипотезу – Временной ряд стационарен\n",
      "При 5%-м уровне значимости отвергаем нулевую гипотезу – Временной ряд стационарен\n"
     ]
    }
   ],
   "source": [
    "# тест Дики-Фуллера на стационарность\n",
    "\n",
    "result = adfuller(taxi['num_orders'], regression='ctt')\n",
    "\n",
    "print('Критерий ADF:', result[0])\n",
    "print('1%-й уровень значимости (критическое значение):', result[4]['1%'])\n",
    "print('5%-й уровень значимости (критическое значение):', result[4]['5%'])\n",
    "\n",
    "# проверка статистики теста при 1%-ом уровне значимости\n",
    "if result[0] < result[4]['1%']:\n",
    "    print('При 1%-м уровне значимости отвергаем нулевую гипотезу – Временной ряд стационарен')\n",
    "else:\n",
    "    print('При 1%-м уровне значимости не отвергаем нулевую гипотезу - Временной ряд нестационарен')\n",
    "\n",
    "# проверка статистики теста при 5%-ом уровне значимости\n",
    "if result[0] < result[4]['5%']:\n",
    "    print('При 5%-м уровне значимости отвергаем нулевую гипотезу – Временной ряд стационарен')\n",
    "else:\n",
    "    print('При 5%-м уровне значимости не отвергаем нулевую гипотезу - Временной ряд нестационарен')"
   ]
  },
  {
   "cell_type": "markdown",
   "metadata": {},
   "source": [
    "*Расчётная статистика теста Дики-Фулера меньше, чем его 1%-ая или 5%-ная тестовая статистики. Поэтому отвергаем нулевую гипотезу и принимаем, что ряд является стационарным, соответственно, лучше поддаётся прогнозированию, чем нестационарный.* "
   ]
  },
  {
   "cell_type": "markdown",
   "metadata": {},
   "source": [
    "<div class=\"alert alert-success\">\n",
    "<h2> Комментарий ревьюера <a class=\"tocSkip\"> </h2>\n",
    "\n",
    "<b>Все отлично!👍</b> \n",
    "    \n",
    "Круто, что знаешь про тест Дики-Фуллера для оценки стационарности ряда!\n",
    "</div>"
   ]
  },
  {
   "cell_type": "markdown",
   "metadata": {},
   "source": [
    "<div class=\"alert alert-block alert-danger\">\n",
    "<h2> Комментарий ревьюера <a class=\"tocSkip\"></h2>\n",
    "\n",
    "    \n",
    "<b>На доработку❌:</b>\n",
    "Тем не менее, его корректнее проводить не с помощью сравнения `p-value` и `alpha`, а сравнивая расчётную и тестовую статистики, которую возвращает тест. \n",
    "    \n",
    "Кроме того, было бы полезно провести тест на разных уровнях значимости (1% и 5% подойдут), чтобы понять, совпадают ли результаты - а вдруг отличаться будут?\n",
    "    \n",
    "Тут хорошо описан пример реализации теста Дики-Фуллера с помощью тестовых статистик: https://www.helenkapatsa.ru/tiest-diki-fulliera/.\n",
    " </div>"
   ]
  },
  {
   "cell_type": "markdown",
   "metadata": {},
   "source": [
    "<div class=\"alert alert-info\">\n",
    "<h2> Комментарий студента <a class=\"tocSkip\"> </h2>\n",
    "\n",
    "Переделал тест Дики-Фулера, сравнивая расчётную и тестовую статистики.\n",
    "</div>"
   ]
  },
  {
   "cell_type": "markdown",
   "metadata": {},
   "source": [
    "<div class=\"alert alert-success\">\n",
    "<h2> Комментарий ревьюера v.2 <a class=\"tocSkip\"> </h2>\n",
    "\n",
    "<b>Все отлично!👍:</b> Учтено.\n",
    "</div>"
   ]
  },
  {
   "cell_type": "markdown",
   "metadata": {},
   "source": [
    "*Для более точного трендо-сезонного анализа временного ряда, чем было интуитивно проделано в начале раздела, выделим его декомпозированные компоненты: тренд, сезонность, остатки.*"
   ]
  },
  {
   "cell_type": "code",
   "execution_count": 11,
   "metadata": {
    "scrolled": false
   },
   "outputs": [
    {
     "data": {
      "image/png": "[encoded data removed]",
      "text/plain": [
       "<Figure size 864x432 with 1 Axes>"
      ]
     },
     "metadata": {
      "needs_background": "light"
     },
     "output_type": "display_data"
    }
   ],
   "source": [
    "# график трендовой компоненты\n",
    "decomposed = seasonal_decompose(taxi['num_orders'])\n",
    "decomposed.trend.plot(figsize=(12, 6), title='Трендовая компонента числа заказов такси по часам')\n",
    "\n",
    "plt.xlabel('дата-время')\n",
    "plt.ylabel('заказы');"
   ]
  },
  {
   "cell_type": "markdown",
   "metadata": {},
   "source": [
    "*Число заказов такси достаточно стабильно ранней весной, с середины апреля начинается устойчивый рост, который стабилизируется в промежутке середина мая - середина июня. Далее летом явно выражен бурный рост заказов, который усиливается в августе. В целом, совпадает с периодами наиболее частых отпусков, а поскольку заказы в аэропортах, то связано с увеличением числа рейсов.*"
   ]
  },
  {
   "cell_type": "code",
   "execution_count": 12,
   "metadata": {},
   "outputs": [
    {
     "data": {
      "image/png": "[encoded data removed]",
      "text/plain": [
       "<Figure size 864x432 with 1 Axes>"
      ]
     },
     "metadata": {
      "needs_background": "light"
     },
     "output_type": "display_data"
    }
   ],
   "source": [
    "# график сезонной компоненты\n",
    "decomposed.seasonal['2018-03-01':'2018-03-03'].plot(figsize=(12, 6), title='Сезонная компонента числа заказов такси')\n",
    "\n",
    "plt.xlabel('дата-время')\n",
    "plt.ylabel('изменение заказов');"
   ]
  },
  {
   "cell_type": "markdown",
   "metadata": {},
   "source": [
    "*Сезонность заказов такси выражается в суточной периодичности числа заказов. Больше всего заказов около полуночи, когда и авиарейсов достаточно, и общественный транспорт заканчивает работу. Меньше всего заказов около 6 утра, когда меньше всего прибывающих авиарейсов. Дневные пики заказов - в 10 утра и в 3 часа дня. В целом, можно утверждать, что природа сезонности зависит от частоты прибывающих рейсов, поскольку в аэропортах заказывают такси, в основном, прилетающие пассажиры.* "
   ]
  },
  {
   "cell_type": "code",
   "execution_count": 13,
   "metadata": {},
   "outputs": [
    {
     "data": {
      "image/png": "[encoded data removed]",
      "text/plain": [
       "<Figure size 864x432 with 1 Axes>"
      ]
     },
     "metadata": {
      "needs_background": "light"
     },
     "output_type": "display_data"
    }
   ],
   "source": [
    "# график остаточной компоненты\n",
    "decomposed.resid.plot(figsize=(12, 6), title='Остаточная компонента числа заказов такси по часам')\n",
    "\n",
    "plt.xlabel('дата-время')\n",
    "plt.ylabel('изменение заказов');"
   ]
  },
  {
   "cell_type": "markdown",
   "metadata": {},
   "source": [
    "*Данные остатков, которые не объясняются трендом и сезонностью, достаточно стабильны в течение всего периода наблюдения, с одинаковыми скачками. Исключение: увеличение значений ряда и скачков в августе. Для вывода о полной стационарности ряда можно было бы исключить августовские данные из анализа, но, поскольку, тест Дики-Фулера показал стационарность ряда, то считаю возможным сохранить все данные для дальнейшего прогнозирования.*"
   ]
  },
  {
   "cell_type": "markdown",
   "metadata": {},
   "source": [
    "<div class=\"alert alert-block alert-danger\">\n",
    "<h2> Комментарий ревьюера <a class=\"tocSkip\"></h2>\n",
    "\n",
    "    \n",
    "<b>На доработку❌:</b>\n",
    "Аналитическую часть этого раздела стоит дополнить анализом декомпозированных компонентов ряда:\n",
    "    \n",
    "1. Какой вывод можем сделать по итогу анализа трендовой компннены ряда?\n",
    "2. Сезонную компоненту для лушчего понимания природы сезонности стоит исследовать на более коротком промежутке времени - подойдёт 3-5 суток. Для выполнения этого пункта стоит найти ответы на следующие вопросы:\n",
    "\n",
    "    \n",
    "- какова природа сезонности (часовая, суточная, дневная, недельная, месячная)?;\n",
    "    \n",
    "- в какие периоды (с учётом пункта выше) наблюдаются пики заказов, а в какие - спады?;\n",
    "    \n",
    "- чем обсуловлена природа сезонности? (важно помнить, что у нас данные про заказы такси в аэропортах - как это соотносится с пунктом выше).\n",
    "3. Что видим на графике остатков? Тут можно сделать предположение о стационарности ряда: если остатки ведут себя стабильно и не показывают сильный разброс, можем сделать предположение о стационарности ряда, и наоборот - нестационарный ряд будет показывать на графике разброс."
   ]
  },
  {
   "cell_type": "markdown",
   "metadata": {},
   "source": [
    "<div class=\"alert alert-info\">\n",
    "<h2> Комментарий студента <a class=\"tocSkip\"> </h2>\n",
    "\n",
    "Провёл анализ декомпозированных компонентов ряда выше.\n",
    "</div>"
   ]
  },
  {
   "cell_type": "markdown",
   "metadata": {},
   "source": [
    "<div class=\"alert alert-success\">\n",
    "<h2> Комментарий ревьюера v.2 <a class=\"tocSkip\"> </h2>\n",
    "\n",
    "<b>Все отлично!👍:</b> Учтено.\n",
    "</div>"
   ]
  },
  {
   "cell_type": "code",
   "execution_count": 14,
   "metadata": {},
   "outputs": [],
   "source": [
    "# функция создания признаков у временного ряда\n",
    "def make_features(taxi, max_lag, rolling_mean_size):\n",
    "    \"\"\"\n",
    "    Принимает временной ряд, а возвращает календарные признаки, \n",
    "    отстающие значения с временным лагом \n",
    "    и скользящее среднее по длине окна    \n",
    "    \"\"\"\n",
    "    taxi_f = taxi.copy()\n",
    "    \n",
    "    taxi_f['day'] = taxi_f.index.day\n",
    "    taxi_f['dayofweek'] = taxi_f.index.dayofweek\n",
    "    taxi_f['hour'] = taxi_f.index.hour\n",
    "    \n",
    "    # количество столбцов по длине интервала временного лага\n",
    "    for lag in range(1, max_lag + 1):\n",
    "        taxi_f['lag_{}'.format(lag)] = taxi_f['num_orders'].shift(lag)\n",
    "\n",
    "    # скользящее среднее по длине окна\n",
    "    taxi_f['rolling_mean'] = taxi_f['num_orders'].shift().rolling(rolling_mean_size).mean()\n",
    "    \n",
    "    return taxi_f"
   ]
  },
  {
   "cell_type": "markdown",
   "metadata": {},
   "source": [
    "<div class=\"alert alert-success\">\n",
    "<h2> Комментарий ревьюера <a class=\"tocSkip\"> </h2>\n",
    "\n",
    "<b>Все отлично!👍</b> \n",
    "    \n",
    "Есть функция для создания новых признаков!\n",
    "</div>"
   ]
  },
  {
   "cell_type": "markdown",
   "metadata": {},
   "source": [
    "<div class=\"alert alert-warning\">\n",
    "    <h2> Комментарий ревьюера <a class=\"tocSkip\"> </h2>\n",
    "    \n",
    "<b>Некоторые замечания и рекомендации⚠️:</b> \n",
    "Организация работы функции таким образом, чтобы она работала с глобальной переменной - не самая хорошая практика: если что-то пойдёт не так, придётся заново запускать весь процесс предобработки данных. \n",
    "        \n",
    "Лучше организовывать функцию так, чтобы она принимала на вход набор данных и возвращала результат работы, чтобы его можно было сохранить в новой переменной. Концепт:\n",
    "        \n",
    "    def foo(df):\n",
    "        df.dropna(inplace=True)\n",
    "    \n",
    "    foo(df)\n",
    "        \n",
    "В этом случае изменения необратимы, так как мы модифицировали глобальную переменную `df` - эту переменную придётся загружать в память заново и заново её обрабатывать.\n",
    "        \n",
    "\n",
    "    def foo(df):\n",
    "        return df.dropna()\n",
    "    \n",
    "    foo(df)\n",
    "        \n",
    "        \n",
    "Изменения будут необратимы и в таком случае, даже несмотря на на наличие `return`: несмотря на то, что работаем мы с локальной переменной, функция всё равно работает с объектом в памяти, связанным с глобальной переменной, пусть и через алиас.\n",
    "        \n",
    "    def foo(df):\n",
    "        df_foo = df.copy()\n",
    "        return df_foo.dropna()\n",
    "    \n",
    "    df_new = foo(df)\n",
    "        \n",
    "Здесь внутри функции исходный объект копируется, и работа уже происходит с новым объектом. В этом случае результат работы функции с исходными данными мы складываем в новую переменную - таким образом исходная глобальная переменная не подвергается вмешательству и сохранятся на случай, если функция сработала неправильно.\n",
    "        \n",
    "</div>"
   ]
  },
  {
   "cell_type": "markdown",
   "metadata": {},
   "source": [
    "<div class=\"alert alert-success\">\n",
    "<h2> Комментарий ревьюера v.2 <a class=\"tocSkip\"> </h2>\n",
    "\n",
    "<b>Все отлично!👍:</b> Учтено.\n",
    "</div>"
   ]
  },
  {
   "cell_type": "markdown",
   "metadata": {},
   "source": [
    "<div class=\"alert alert-block alert-danger\">\n",
    "<h2> Комментарий ревьюера <a class=\"tocSkip\"></h2>\n",
    "\n",
    "    \n",
    "<b>На доработку❌:</b>\n",
    "Концептуально выделение признака \"месяц\" из даты - хорошая идея, но конкретно в нашем случае у нас данные только за неполный год и так как данные отстортированы по возрастанию даты, модель сможет работать адекватно только с теми значениями месяца, которые были на обучающей выборке. В оперативных данных таких значений месяца не будет, и модель не сможет работать с ними корректно.\n",
    "        </div>"
   ]
  },
  {
   "cell_type": "markdown",
   "metadata": {},
   "source": [
    "<div class=\"alert alert-info\">\n",
    "<h2> Комментарий студента <a class=\"tocSkip\"> </h2>\n",
    "\n",
    "Да, спасибо, хорошее пояснение по работу функции с глобальной переменной. Исправил.\n",
    "    \n",
    "Месяц убрал из признаков, понял нюанс из-за неполного количества месяцев и отсортированного датасета по возрастанию даты.\n",
    "</div>"
   ]
  },
  {
   "cell_type": "markdown",
   "metadata": {},
   "source": [
    "<div class=\"alert alert-success\">\n",
    "<h2> Комментарий ревьюера v.2 <a class=\"tocSkip\"> </h2>\n",
    "\n",
    "<b>Все отлично!👍:</b> Учтено.\n",
    "</div>"
   ]
  },
  {
   "cell_type": "markdown",
   "metadata": {},
   "source": [
    "*Экспериментально подберём значения длины интервала для отстающих значений по количеству значений между максимумом и минимумом в сезонном интервале, а длину окна - по наименьшей метрике RMSE.* "
   ]
  },
  {
   "cell_type": "code",
   "execution_count": 15,
   "metadata": {},
   "outputs": [
    {
     "name": "stdout",
     "output_type": "stream",
     "text": [
      "Лучшая RMSE: 36.88727787126985\n",
      "Оптимальный lag: 17\n",
      "Оптимальный roll: 26\n"
     ]
    }
   ],
   "source": [
    "# подбор max_lag и rolling_mean_size для вышеприведённой функции по числу значений в сезонном интервале и наименьшей RMSE \n",
    "\n",
    "taxi = taxi.drop(['mean', 'std'], axis=1)\n",
    "\n",
    "# подбор лага для отстающих значений по разнице min и max в сезонном цикле\n",
    "\n",
    "lag_max_min = (decomposed.seasonal['2018-03-01'].idxmax() - decomposed.seasonal['2018-03-01'].idxmin()).seconds / 3600 - 1 \n",
    "lag_min_max = (decomposed.seasonal['2018-03-01'].idxmin() - decomposed.seasonal['2018-03-01'].idxmax()).seconds / 3600 - 1\n",
    "\n",
    "best_lag = int(max(lag_max_min, lag_min_max))\n",
    "\n",
    "# подбор длины окна\n",
    "best_result = 1000\n",
    "\n",
    "for roll in range(3, 49):\n",
    "    taxi_r = taxi.copy()\n",
    "    taxi_r['rolling_mean'] = taxi_r['num_orders'].shift().rolling(roll).mean()\n",
    "    taxi_r = taxi_r.dropna(axis=0)\n",
    "    result = mean_squared_error(taxi_r['num_orders'], taxi_r['rolling_mean'], squared=False)\n",
    "    \n",
    "    if result < best_result:\n",
    "        best_result = result\n",
    "        best_roll = roll\n",
    "                \n",
    "print(\"Лучшая RMSE:\", best_result)\n",
    "print(\"Оптимальный lag:\", best_lag)\n",
    "print(\"Оптимальный roll:\", best_roll)"
   ]
  },
  {
   "cell_type": "markdown",
   "metadata": {},
   "source": [
    "<div class=\"alert alert-success\">\n",
    "<h2> Комментарий ревьюера <a class=\"tocSkip\"> </h2>\n",
    "\n",
    "<b>Все отлично!👍</b> \n",
    "    \n",
    "Отличная идея - подбирать значение лага и окна для сглаживания экспериментально!\n",
    "</div>"
   ]
  },
  {
   "cell_type": "markdown",
   "metadata": {},
   "source": [
    "<div class=\"alert alert-block alert-danger\">\n",
    "<h2> Комментарий ревьюера <a class=\"tocSkip\"></h2>\n",
    "\n",
    "    \n",
    "<b>На доработку❌:</b>\n",
    "Однако промежуточное тестирование на тренировочной выборке проводить не стоит - такой способ тестирования всего лишь будет показывать, насколько модель хорошо запомнила правильные ответы, но не будет оценивать предсказательную способность модели.\n",
    "    \n",
    "Вместо тестирования на тренировочной выборке стоит использовать кросс-валидацию - отлично подойдёт инструмент `cross_val_score()`.\n",
    "    \n",
    "При его использовании важно:\n",
    "- настроить параметр `scoring`: так как нас интересует метрика `RMSE`, ему стоит передать строку `neg_root_mean_squared_error`;\n",
    "- продвинутой настройкой параметра `scoring` является использование собственной оценки, созданной с помощью `make_scorer` (https://scikit-learn.org/stable/modules/generated/sklearn.metrics.make_scorer.html). Этот инструмент позволяет писать любые метрики для проведения кросс-валидации, выходящие за базовый набор метрик пакета `sklearn`. Важно учитвать особенность его работы в случае задачи регрессии: так как по умолчанию инструменты `cross_val_score`, `GridSearchCV` и `RandomizedSearchCV` умеют только максимизировать метрику, из коробки мы можем использовать такой функционал только для задач классификации, где метрика тем лучше, чем выше. Для задач регрессии метрика тем лучше, чем ниже, поэтому тут такой подход работать не будет - при создании объекта `make_scorer` важно настроить параметр `greater_is_better` со значением `False`: в таком случае задача максимизации будет решаться как задача минимизации обратного значения функции, и уже такой подход будет применим для задач регрессии. Однако в этом случае результаты кросс-валидации будут со знаком `-` - для корректного отображения метрик их нужно будет взять по модулю;\n",
    "- настроить стратегию кросс-валидации с учётом специфики временных рядов: использование обычной кросс-валидации при работе с временными рядами - довольно критичная ошибка. За стратегию кросс-валидации отвечает параметр `cv` со значением 5 по умолчанию (можно задать другое), что эквивалентно стандартной кросс-валидации `k-folds`, которая перемешивает объекты обучения при делении на фолды, в результате чего модель учится на данных из будущего. Правильным решением будет использование специального инструмента библиотеки `sklearn` для кросс-валидации временных рядов `TimeSeriesSplit` (подробнее тут: https://scikit-learn.org/stable/modules/generated/sklearn.model_selection.TimeSeriesSplit.html). Он формирует фолды так, чтобы в фолдах для обучения не было данных из фолдов для тестирования, что критически важно при работе с временными рядами. Экземпляр этого валидатора нужно будет передать в параметр `cv` при использовании `cross_val_score` (актуально и для `GridSearchCV`). Также рекомендую почитать статью о сплитовании для временных рядов - даст понимание, как работает `TimeSeriesSplit`: https://medium.com/@Hong_Tang/timeseries-split-with-sklearn-tips-8162c83612b9;\n",
    "- результаты кросс-валидации в случае `cross_val_score` лежат в массиве, который возвращает `cross_val_score` после обучения (стоит взять из него среднее для получения агрегированной оценки).\n",
    "</div>"
   ]
  },
  {
   "cell_type": "markdown",
   "metadata": {},
   "source": [
    "<div class=\"alert alert-info\">\n",
    "<h2> Комментарий студента <a class=\"tocSkip\"> </h2>\n",
    "\n",
    "Понял суть TimeSeriesSplit, по остальным пунктам - повторил материал). Поправил стратегию кросс-валидации, с учётом специфики временных рядов. Как я понял, можно вручную устанавливать не только фолды, но и размеры выборок, а также объекты, которые ни туда, ни сюда. Доверился автоматическому разбиению на трейн-тест в кросс-валидации. \n",
    "</div>"
   ]
  },
  {
   "cell_type": "markdown",
   "metadata": {},
   "source": [
    "<div class=\"alert alert-success\">\n",
    "<h2> Комментарий ревьюера v.2 <a class=\"tocSkip\"> </h2>\n",
    "\n",
    "<b>Все отлично!👍:</b> Учтено.\n",
    "</div>"
   ]
  },
  {
   "cell_type": "code",
   "execution_count": 16,
   "metadata": {},
   "outputs": [
    {
     "data": {
      "text/html": [
       "<div>\n",
       "<style scoped>\n",
       "    .dataframe tbody tr th:only-of-type {\n",
       "        vertical-align: middle;\n",
       "    }\n",
       "\n",
       "    .dataframe tbody tr th {\n",
       "        vertical-align: top;\n",
       "    }\n",
       "\n",
       "    .dataframe thead th {\n",
       "        text-align: right;\n",
       "    }\n",
       "</style>\n",
       "<table border=\"1\" class=\"dataframe\">\n",
       "  <thead>\n",
       "    <tr style=\"text-align: right;\">\n",
       "      <th></th>\n",
       "      <th>num_orders</th>\n",
       "      <th>day</th>\n",
       "      <th>dayofweek</th>\n",
       "      <th>hour</th>\n",
       "      <th>lag_1</th>\n",
       "      <th>lag_2</th>\n",
       "      <th>lag_3</th>\n",
       "      <th>lag_4</th>\n",
       "      <th>lag_5</th>\n",
       "      <th>lag_6</th>\n",
       "      <th>...</th>\n",
       "      <th>lag_9</th>\n",
       "      <th>lag_10</th>\n",
       "      <th>lag_11</th>\n",
       "      <th>lag_12</th>\n",
       "      <th>lag_13</th>\n",
       "      <th>lag_14</th>\n",
       "      <th>lag_15</th>\n",
       "      <th>lag_16</th>\n",
       "      <th>lag_17</th>\n",
       "      <th>rolling_mean</th>\n",
       "    </tr>\n",
       "    <tr>\n",
       "      <th>datetime</th>\n",
       "      <th></th>\n",
       "      <th></th>\n",
       "      <th></th>\n",
       "      <th></th>\n",
       "      <th></th>\n",
       "      <th></th>\n",
       "      <th></th>\n",
       "      <th></th>\n",
       "      <th></th>\n",
       "      <th></th>\n",
       "      <th></th>\n",
       "      <th></th>\n",
       "      <th></th>\n",
       "      <th></th>\n",
       "      <th></th>\n",
       "      <th></th>\n",
       "      <th></th>\n",
       "      <th></th>\n",
       "      <th></th>\n",
       "      <th></th>\n",
       "      <th></th>\n",
       "    </tr>\n",
       "  </thead>\n",
       "  <tbody>\n",
       "    <tr>\n",
       "      <th>2018-03-01 00:00:00</th>\n",
       "      <td>124</td>\n",
       "      <td>1</td>\n",
       "      <td>3</td>\n",
       "      <td>0</td>\n",
       "      <td>NaN</td>\n",
       "      <td>NaN</td>\n",
       "      <td>NaN</td>\n",
       "      <td>NaN</td>\n",
       "      <td>NaN</td>\n",
       "      <td>NaN</td>\n",
       "      <td>...</td>\n",
       "      <td>NaN</td>\n",
       "      <td>NaN</td>\n",
       "      <td>NaN</td>\n",
       "      <td>NaN</td>\n",
       "      <td>NaN</td>\n",
       "      <td>NaN</td>\n",
       "      <td>NaN</td>\n",
       "      <td>NaN</td>\n",
       "      <td>NaN</td>\n",
       "      <td>NaN</td>\n",
       "    </tr>\n",
       "    <tr>\n",
       "      <th>2018-03-01 01:00:00</th>\n",
       "      <td>85</td>\n",
       "      <td>1</td>\n",
       "      <td>3</td>\n",
       "      <td>1</td>\n",
       "      <td>124.0</td>\n",
       "      <td>NaN</td>\n",
       "      <td>NaN</td>\n",
       "      <td>NaN</td>\n",
       "      <td>NaN</td>\n",
       "      <td>NaN</td>\n",
       "      <td>...</td>\n",
       "      <td>NaN</td>\n",
       "      <td>NaN</td>\n",
       "      <td>NaN</td>\n",
       "      <td>NaN</td>\n",
       "      <td>NaN</td>\n",
       "      <td>NaN</td>\n",
       "      <td>NaN</td>\n",
       "      <td>NaN</td>\n",
       "      <td>NaN</td>\n",
       "      <td>NaN</td>\n",
       "    </tr>\n",
       "    <tr>\n",
       "      <th>2018-03-01 02:00:00</th>\n",
       "      <td>71</td>\n",
       "      <td>1</td>\n",
       "      <td>3</td>\n",
       "      <td>2</td>\n",
       "      <td>85.0</td>\n",
       "      <td>124.0</td>\n",
       "      <td>NaN</td>\n",
       "      <td>NaN</td>\n",
       "      <td>NaN</td>\n",
       "      <td>NaN</td>\n",
       "      <td>...</td>\n",
       "      <td>NaN</td>\n",
       "      <td>NaN</td>\n",
       "      <td>NaN</td>\n",
       "      <td>NaN</td>\n",
       "      <td>NaN</td>\n",
       "      <td>NaN</td>\n",
       "      <td>NaN</td>\n",
       "      <td>NaN</td>\n",
       "      <td>NaN</td>\n",
       "      <td>NaN</td>\n",
       "    </tr>\n",
       "    <tr>\n",
       "      <th>2018-03-01 03:00:00</th>\n",
       "      <td>66</td>\n",
       "      <td>1</td>\n",
       "      <td>3</td>\n",
       "      <td>3</td>\n",
       "      <td>71.0</td>\n",
       "      <td>85.0</td>\n",
       "      <td>124.0</td>\n",
       "      <td>NaN</td>\n",
       "      <td>NaN</td>\n",
       "      <td>NaN</td>\n",
       "      <td>...</td>\n",
       "      <td>NaN</td>\n",
       "      <td>NaN</td>\n",
       "      <td>NaN</td>\n",
       "      <td>NaN</td>\n",
       "      <td>NaN</td>\n",
       "      <td>NaN</td>\n",
       "      <td>NaN</td>\n",
       "      <td>NaN</td>\n",
       "      <td>NaN</td>\n",
       "      <td>NaN</td>\n",
       "    </tr>\n",
       "    <tr>\n",
       "      <th>2018-03-01 04:00:00</th>\n",
       "      <td>43</td>\n",
       "      <td>1</td>\n",
       "      <td>3</td>\n",
       "      <td>4</td>\n",
       "      <td>66.0</td>\n",
       "      <td>71.0</td>\n",
       "      <td>85.0</td>\n",
       "      <td>124.0</td>\n",
       "      <td>NaN</td>\n",
       "      <td>NaN</td>\n",
       "      <td>...</td>\n",
       "      <td>NaN</td>\n",
       "      <td>NaN</td>\n",
       "      <td>NaN</td>\n",
       "      <td>NaN</td>\n",
       "      <td>NaN</td>\n",
       "      <td>NaN</td>\n",
       "      <td>NaN</td>\n",
       "      <td>NaN</td>\n",
       "      <td>NaN</td>\n",
       "      <td>NaN</td>\n",
       "    </tr>\n",
       "  </tbody>\n",
       "</table>\n",
       "<p>5 rows × 22 columns</p>\n",
       "</div>"
      ],
      "text/plain": [
       "                     num_orders  day  dayofweek  hour  lag_1  lag_2  lag_3  \\\n",
       "datetime                                                                     \n",
       "2018-03-01 00:00:00         124    1          3     0    NaN    NaN    NaN   \n",
       "2018-03-01 01:00:00          85    1          3     1  124.0    NaN    NaN   \n",
       "2018-03-01 02:00:00          71    1          3     2   85.0  124.0    NaN   \n",
       "2018-03-01 03:00:00          66    1          3     3   71.0   85.0  124.0   \n",
       "2018-03-01 04:00:00          43    1          3     4   66.0   71.0   85.0   \n",
       "\n",
       "                     lag_4  lag_5  lag_6  ...  lag_9  lag_10  lag_11  lag_12  \\\n",
       "datetime                                  ...                                  \n",
       "2018-03-01 00:00:00    NaN    NaN    NaN  ...    NaN     NaN     NaN     NaN   \n",
       "2018-03-01 01:00:00    NaN    NaN    NaN  ...    NaN     NaN     NaN     NaN   \n",
       "2018-03-01 02:00:00    NaN    NaN    NaN  ...    NaN     NaN     NaN     NaN   \n",
       "2018-03-01 03:00:00    NaN    NaN    NaN  ...    NaN     NaN     NaN     NaN   \n",
       "2018-03-01 04:00:00  124.0    NaN    NaN  ...    NaN     NaN     NaN     NaN   \n",
       "\n",
       "                     lag_13  lag_14  lag_15  lag_16  lag_17  rolling_mean  \n",
       "datetime                                                                   \n",
       "2018-03-01 00:00:00     NaN     NaN     NaN     NaN     NaN           NaN  \n",
       "2018-03-01 01:00:00     NaN     NaN     NaN     NaN     NaN           NaN  \n",
       "2018-03-01 02:00:00     NaN     NaN     NaN     NaN     NaN           NaN  \n",
       "2018-03-01 03:00:00     NaN     NaN     NaN     NaN     NaN           NaN  \n",
       "2018-03-01 04:00:00     NaN     NaN     NaN     NaN     NaN           NaN  \n",
       "\n",
       "[5 rows x 22 columns]"
      ]
     },
     "execution_count": 16,
     "metadata": {},
     "output_type": "execute_result"
    }
   ],
   "source": [
    "# создание таблицы с признаками\n",
    "taxi_new = make_features(taxi, best_lag, best_roll)\n",
    "taxi_new.head()"
   ]
  },
  {
   "cell_type": "code",
   "execution_count": 17,
   "metadata": {},
   "outputs": [
    {
     "name": "stdout",
     "output_type": "stream",
     "text": [
      "(3948, 22)\n",
      "(442, 22)\n"
     ]
    }
   ],
   "source": [
    "# делим данные на обучающую и тестовую выборки\n",
    "train, test = train_test_split(taxi_new, shuffle=False, test_size=0.1, random_state=12345)\n",
    "\n",
    "train = train.dropna(axis=0) # удаление пропусков после добавления признаков\n",
    "\n",
    "print(train.shape)\n",
    "print(test.shape)"
   ]
  },
  {
   "cell_type": "code",
   "execution_count": 18,
   "metadata": {
    "scrolled": true
   },
   "outputs": [
    {
     "name": "stdout",
     "output_type": "stream",
     "text": [
      "(3948, 21)\n",
      "(442, 21)\n",
      "(3948,)\n",
      "(442,)\n"
     ]
    }
   ],
   "source": [
    "# определяем признаки и целевой признак в обучающей и тестовой\n",
    "\n",
    "features_train = train.drop(['num_orders'], axis=1)\n",
    "target_train = train['num_orders']\n",
    "\n",
    "features_test = test.drop(['num_orders'], axis=1)\n",
    "target_test = test['num_orders']\n",
    "\n",
    "print(features_train.shape)\n",
    "print(features_test.shape)\n",
    "\n",
    "print(target_train.shape)\n",
    "print(target_test.shape)"
   ]
  },
  {
   "cell_type": "markdown",
   "metadata": {},
   "source": [
    "<div class=\"alert alert-success\">\n",
    "<h2> Комментарий ревьюера <a class=\"tocSkip\"> </h2>\n",
    "\n",
    "<b>Все отлично!👍</b> \n",
    "    \n",
    "Создали новые признаки, выполнили сплитование выборок, а также выделили признаки для обучения и целевой признак - отлично!\n",
    "</div>"
   ]
  },
  {
   "cell_type": "markdown",
   "metadata": {},
   "source": [
    "<div class=\"alert alert-block alert-danger\">\n",
    "<h2> Комментарий ревьюера <a class=\"tocSkip\"></h2>\n",
    "\n",
    "    \n",
    "<b>На доработку❌:</b>\n",
    "При использовании `train_test_split` важно настроить параметр `random_state`, чтобы результаты твоих исследований были всопроивзодимы."
   ]
  },
  {
   "cell_type": "markdown",
   "metadata": {},
   "source": [
    "<div class=\"alert alert-info\">\n",
    "<h2> Комментарий студента <a class=\"tocSkip\"> </h2>\n",
    "\n",
    "Добавил random_state, но вроде как этот параметр и не имеет значения при shuffle=False, объекты в выборках не изменятся.\n",
    "</div>"
   ]
  },
  {
   "cell_type": "markdown",
   "metadata": {},
   "source": [
    "<div class=\"alert alert-success\">\n",
    "<h2> Комментарий ревьюера v.2 <a class=\"tocSkip\"> </h2>\n",
    "\n",
    "<b>Все отлично!👍:</b> Да, в частном случае при отключении перемешивания это не особо играет роли, но в целом студенты часто забывают настраивать этот параметр - на всякий случай отработали и это:)\n",
    "</div>"
   ]
  },
  {
   "cell_type": "markdown",
   "metadata": {},
   "source": [
    "### Вывод ко второму разделу\n",
    "\n",
    "*Первичный анализ заказов такси с часовым интервалом выявляет достаточно стабильный ряд, с пиками заказов в утренние и поздне-вечерние часы, с трендом к увеличению числа заказов в июле-августе. Сглаженное среднее показывает небольшие колебания и повышательный тренд, а стандартное отклонение, в целом, стабильно.* \n",
    "\n",
    "*По тесту Дики-Фуллера временной ряд числа заказов такси был признан стационарным, то есть прогнозирование данных не затруднено.* \n",
    "\n",
    "*Декомпозированный анализ времененного ряда проведён по его следующим компонентам:*\n",
    "\n",
    "    * анализ тренда\n",
    "   Отмечается восходящий тренд, с явным увеличеним закзазов в июле-августе, что корреспондирует с периодами частых отпусков и увеличения авиарейсов.\n",
    "   \n",
    "    * анализ сезонности\n",
    "   Пики (спады) заказов повторяются с суточной периодичностью. Пики заказов: в полночь, в 10 часов, в 15 часов. Спад заказов: в 6 часов утра. \n",
    "  \n",
    "    * анализ остатков (шума)\n",
    "   Остатки, которые не объясняются трендом и сезонностью стабильны в течение всего периода наблюдения, кроме увеличения значений и скачков в августе. Помимо теста Дики-Фулера, стабильность остатков - косвенное подтверждение стационарности ряда.\n",
    "\n",
    "*Созданы следующие признаки для прогнозирования:*\n",
    "  \n",
    "    - календарный день, день недели и час заказа\n",
    "    - отстающие значения заказов такси\n",
    "    - скользящее среднее заказов такси\n",
    "    \n",
    "*\"Экспериментальным путём выявлена длина интервала для отстающих значений (17), и, соответственно, число столбцов, а также длина окна скользящего среднего (26).*\n",
    "\n",
    "*Данные разделены на обучающую (90% данных) и тестовую выборки (10% данных), в каждой выборке определены признаки и целевой признак.*"
   ]
  },
  {
   "cell_type": "markdown",
   "metadata": {},
   "source": [
    "<div class=\"alert alert-success\">\n",
    "<h2> Комментарий ревьюера <a class=\"tocSkip\"> </h2>\n",
    "\n",
    "<b>Все отлично!👍</b> \n",
    "    \n",
    "Отличный промежуточный вывод!\n",
    "</div>"
   ]
  },
  {
   "cell_type": "markdown",
   "metadata": {},
   "source": [
    "<div class=\"alert alert-block alert-danger\">\n",
    "<h2> Комментарий ревьюера <a class=\"tocSkip\"></h2>\n",
    "\n",
    "    \n",
    "<b>На доработку❌:</b>\n",
    "Вывод стоит дополнить результатами анализа компонентов ряда."
   ]
  },
  {
   "cell_type": "markdown",
   "metadata": {},
   "source": [
    "<div class=\"alert alert-info\">\n",
    "<h2> Комментарий студента <a class=\"tocSkip\"> </h2>\n",
    "\n",
    "Да, вывод дополнил.\n",
    "</div>"
   ]
  },
  {
   "cell_type": "markdown",
   "metadata": {},
   "source": [
    "<div class=\"alert alert-success\">\n",
    "<h2> Комментарий ревьюера v.2 <a class=\"tocSkip\"> </h2>\n",
    "\n",
    "<b>Все отлично!👍:</b> Учтено.\n",
    "</div>"
   ]
  },
  {
   "cell_type": "markdown",
   "metadata": {},
   "source": [
    "## Обучение"
   ]
  },
  {
   "cell_type": "code",
   "execution_count": 19,
   "metadata": {},
   "outputs": [
    {
     "name": "stdout",
     "output_type": "stream",
     "text": [
      "Лучшее RMSE для дерева решений: 28.32 при значениях гиперпараметров: {'max_depth': 8, 'min_samples_leaf': 9, 'min_samples_split': 2}\n",
      "CPU times: user 25.1 s, sys: 0 ns, total: 25.1 s\n",
      "Wall time: 25.1 s\n"
     ]
    }
   ],
   "source": [
    "%%time\n",
    "# подбор лучшей модели DecisionTreeRegressor \n",
    "\n",
    "tscv = TimeSeriesSplit(n_splits=7)\n",
    "parameters_grid = {\n",
    "    'max_depth': range(2, 10),\n",
    "    'min_samples_leaf': range(1, 10),\n",
    "    'min_samples_split': range(2, 5)\n",
    "}\n",
    " \n",
    "model = DecisionTreeRegressor(random_state=12345)\n",
    "grid_cv = GridSearchCV(model, parameters_grid, cv=tscv, scoring='neg_root_mean_squared_error', n_jobs=-1)\n",
    "grid_cv.fit(features_train, target_train)\n",
    "\n",
    "print('Лучшее RMSE для дерева решений: {:.2f} при значениях гиперпараметров: {}'.\\\n",
    "      format(-grid_cv.best_score_, grid_cv.best_params_))"
   ]
  },
  {
   "cell_type": "code",
   "execution_count": 20,
   "metadata": {},
   "outputs": [],
   "source": [
    "# фиксируем модель DecisionTreeRegressor с лучшими гиперпараметрами\n",
    "best_tree = grid_cv.best_estimator_"
   ]
  },
  {
   "cell_type": "markdown",
   "metadata": {},
   "source": [
    "<div class=\"alert alert-success\">\n",
    "<h2> Комментарий ревьюера <a class=\"tocSkip\"> </h2>\n",
    "\n",
    "<b>Все отлично!👍</b> \n",
    "    \n",
    "Для решающего дерева оптимизировали гиперпараметры и оценили качество на кросс-валидации - отлично!\n",
    "</div>"
   ]
  },
  {
   "cell_type": "markdown",
   "metadata": {},
   "source": [
    "<div class=\"alert alert-block alert-danger\">\n",
    "<h2> Комментарий ревьюера <a class=\"tocSkip\"></h2>\n",
    "\n",
    "    \n",
    "<b>На доработку❌:</b>\n",
    "Здесь и далее проведена кросс-валидация без учёта специфики временных рядов - основной комментарий об этом был выше."
   ]
  },
  {
   "cell_type": "markdown",
   "metadata": {},
   "source": [
    "<div class=\"alert alert-info\">\n",
    "<h2> Комментарий студента <a class=\"tocSkip\"> </h2>\n",
    "\n",
    "Исправил везде, с учётом специфики временных рядов.\n",
    "</div>"
   ]
  },
  {
   "cell_type": "markdown",
   "metadata": {},
   "source": [
    "<div class=\"alert alert-success\">\n",
    "<h2> Комментарий ревьюера v.2 <a class=\"tocSkip\"> </h2>\n",
    "\n",
    "<b>Все отлично!👍:</b> Учтено.\n",
    "</div>"
   ]
  },
  {
   "cell_type": "code",
   "execution_count": 21,
   "metadata": {
    "scrolled": true
   },
   "outputs": [
    {
     "name": "stdout",
     "output_type": "stream",
     "text": [
      "Fitting 3 folds for each of 36 candidates, totalling 108 fits\n",
      "[CV 1/3; 1/36] START max_depth=2, n_estimators=100..............................\n",
      "[CV 1/3; 1/36] END ............max_depth=2, n_estimators=100; total time=   0.3s\n",
      "[CV 2/3; 1/36] START max_depth=2, n_estimators=100..............................\n",
      "[CV 2/3; 1/36] END ............max_depth=2, n_estimators=100; total time=   0.4s\n",
      "[CV 3/3; 1/36] START max_depth=2, n_estimators=100..............................\n",
      "[CV 3/3; 1/36] END ............max_depth=2, n_estimators=100; total time=   0.5s\n",
      "[CV 1/3; 2/36] START max_depth=2, n_estimators=150..............................\n",
      "[CV 1/3; 2/36] END ............max_depth=2, n_estimators=150; total time=   0.4s\n",
      "[CV 2/3; 2/36] START max_depth=2, n_estimators=150..............................\n",
      "[CV 2/3; 2/36] END ............max_depth=2, n_estimators=150; total time=   0.6s\n",
      "[CV 3/3; 2/36] START max_depth=2, n_estimators=150..............................\n",
      "[CV 3/3; 2/36] END ............max_depth=2, n_estimators=150; total time=   0.8s\n",
      "[CV 1/3; 3/36] START max_depth=2, n_estimators=200..............................\n",
      "[CV 1/3; 3/36] END ............max_depth=2, n_estimators=200; total time=   0.5s\n",
      "[CV 2/3; 3/36] START max_depth=2, n_estimators=200..............................\n",
      "[CV 2/3; 3/36] END ............max_depth=2, n_estimators=200; total time=   0.8s\n",
      "[CV 3/3; 3/36] START max_depth=2, n_estimators=200..............................\n",
      "[CV 3/3; 3/36] END ............max_depth=2, n_estimators=200; total time=   1.0s\n",
      "[CV 1/3; 4/36] START max_depth=2, n_estimators=250..............................\n",
      "[CV 1/3; 4/36] END ............max_depth=2, n_estimators=250; total time=   0.6s\n",
      "[CV 2/3; 4/36] START max_depth=2, n_estimators=250..............................\n",
      "[CV 2/3; 4/36] END ............max_depth=2, n_estimators=250; total time=   0.9s\n",
      "[CV 3/3; 4/36] START max_depth=2, n_estimators=250..............................\n",
      "[CV 3/3; 4/36] END ............max_depth=2, n_estimators=250; total time=   1.3s\n",
      "[CV 1/3; 5/36] START max_depth=2, n_estimators=300..............................\n",
      "[CV 1/3; 5/36] END ............max_depth=2, n_estimators=300; total time=   0.7s\n",
      "[CV 2/3; 5/36] START max_depth=2, n_estimators=300..............................\n",
      "[CV 2/3; 5/36] END ............max_depth=2, n_estimators=300; total time=   1.2s\n",
      "[CV 3/3; 5/36] START max_depth=2, n_estimators=300..............................\n",
      "[CV 3/3; 5/36] END ............max_depth=2, n_estimators=300; total time=   1.5s\n",
      "[CV 1/3; 6/36] START max_depth=2, n_estimators=350..............................\n",
      "[CV 1/3; 6/36] END ............max_depth=2, n_estimators=350; total time=   0.9s\n",
      "[CV 2/3; 6/36] START max_depth=2, n_estimators=350..............................\n",
      "[CV 2/3; 6/36] END ............max_depth=2, n_estimators=350; total time=   1.3s\n",
      "[CV 3/3; 6/36] START max_depth=2, n_estimators=350..............................\n",
      "[CV 3/3; 6/36] END ............max_depth=2, n_estimators=350; total time=   1.9s\n",
      "[CV 1/3; 7/36] START max_depth=2, n_estimators=400..............................\n",
      "[CV 1/3; 7/36] END ............max_depth=2, n_estimators=400; total time=   1.0s\n",
      "[CV 2/3; 7/36] START max_depth=2, n_estimators=400..............................\n",
      "[CV 2/3; 7/36] END ............max_depth=2, n_estimators=400; total time=   1.5s\n",
      "[CV 3/3; 7/36] START max_depth=2, n_estimators=400..............................\n",
      "[CV 3/3; 7/36] END ............max_depth=2, n_estimators=400; total time=   2.0s\n",
      "[CV 1/3; 8/36] START max_depth=2, n_estimators=450..............................\n",
      "[CV 1/3; 8/36] END ............max_depth=2, n_estimators=450; total time=   1.1s\n",
      "[CV 2/3; 8/36] START max_depth=2, n_estimators=450..............................\n",
      "[CV 2/3; 8/36] END ............max_depth=2, n_estimators=450; total time=   1.7s\n",
      "[CV 3/3; 8/36] START max_depth=2, n_estimators=450..............................\n",
      "[CV 3/3; 8/36] END ............max_depth=2, n_estimators=450; total time=   2.3s\n",
      "[CV 1/3; 9/36] START max_depth=2, n_estimators=500..............................\n",
      "[CV 1/3; 9/36] END ............max_depth=2, n_estimators=500; total time=   1.2s\n",
      "[CV 2/3; 9/36] START max_depth=2, n_estimators=500..............................\n",
      "[CV 2/3; 9/36] END ............max_depth=2, n_estimators=500; total time=   1.9s\n",
      "[CV 3/3; 9/36] START max_depth=2, n_estimators=500..............................\n",
      "[CV 3/3; 9/36] END ............max_depth=2, n_estimators=500; total time=   2.6s\n",
      "[CV 1/3; 10/36] START max_depth=3, n_estimators=100.............................\n",
      "[CV 1/3; 10/36] END ...........max_depth=3, n_estimators=100; total time=   0.3s\n",
      "[CV 2/3; 10/36] START max_depth=3, n_estimators=100.............................\n",
      "[CV 2/3; 10/36] END ...........max_depth=3, n_estimators=100; total time=   0.5s\n",
      "[CV 3/3; 10/36] START max_depth=3, n_estimators=100.............................\n",
      "[CV 3/3; 10/36] END ...........max_depth=3, n_estimators=100; total time=   0.7s\n",
      "[CV 1/3; 11/36] START max_depth=3, n_estimators=150.............................\n",
      "[CV 1/3; 11/36] END ...........max_depth=3, n_estimators=150; total time=   0.5s\n",
      "[CV 2/3; 11/36] START max_depth=3, n_estimators=150.............................\n",
      "[CV 2/3; 11/36] END ...........max_depth=3, n_estimators=150; total time=   0.8s\n",
      "[CV 3/3; 11/36] START max_depth=3, n_estimators=150.............................\n",
      "[CV 3/3; 11/36] END ...........max_depth=3, n_estimators=150; total time=   1.0s\n",
      "[CV 1/3; 12/36] START max_depth=3, n_estimators=200.............................\n",
      "[CV 1/3; 12/36] END ...........max_depth=3, n_estimators=200; total time=   0.6s\n",
      "[CV 2/3; 12/36] START max_depth=3, n_estimators=200.............................\n",
      "[CV 2/3; 12/36] END ...........max_depth=3, n_estimators=200; total time=   1.0s\n",
      "[CV 3/3; 12/36] START max_depth=3, n_estimators=200.............................\n",
      "[CV 3/3; 12/36] END ...........max_depth=3, n_estimators=200; total time=   1.4s\n",
      "[CV 1/3; 13/36] START max_depth=3, n_estimators=250.............................\n",
      "[CV 1/3; 13/36] END ...........max_depth=3, n_estimators=250; total time=   0.8s\n",
      "[CV 2/3; 13/36] START max_depth=3, n_estimators=250.............................\n",
      "[CV 2/3; 13/36] END ...........max_depth=3, n_estimators=250; total time=   1.4s\n",
      "[CV 3/3; 13/36] START max_depth=3, n_estimators=250.............................\n",
      "[CV 3/3; 13/36] END ...........max_depth=3, n_estimators=250; total time=   1.8s\n",
      "[CV 1/3; 14/36] START max_depth=3, n_estimators=300.............................\n",
      "[CV 1/3; 14/36] END ...........max_depth=3, n_estimators=300; total time=   1.0s\n",
      "[CV 2/3; 14/36] START max_depth=3, n_estimators=300.............................\n",
      "[CV 2/3; 14/36] END ...........max_depth=3, n_estimators=300; total time=   1.5s\n",
      "[CV 3/3; 14/36] START max_depth=3, n_estimators=300.............................\n",
      "[CV 3/3; 14/36] END ...........max_depth=3, n_estimators=300; total time=   2.3s\n",
      "[CV 1/3; 15/36] START max_depth=3, n_estimators=350.............................\n",
      "[CV 1/3; 15/36] END ...........max_depth=3, n_estimators=350; total time=   1.1s\n",
      "[CV 2/3; 15/36] START max_depth=3, n_estimators=350.............................\n",
      "[CV 2/3; 15/36] END ...........max_depth=3, n_estimators=350; total time=   1.9s\n",
      "[CV 3/3; 15/36] START max_depth=3, n_estimators=350.............................\n",
      "[CV 3/3; 15/36] END ...........max_depth=3, n_estimators=350; total time=   2.5s\n",
      "[CV 1/3; 16/36] START max_depth=3, n_estimators=400.............................\n",
      "[CV 1/3; 16/36] END ...........max_depth=3, n_estimators=400; total time=   1.3s\n",
      "[CV 2/3; 16/36] START max_depth=3, n_estimators=400.............................\n",
      "[CV 2/3; 16/36] END ...........max_depth=3, n_estimators=400; total time=   2.0s\n",
      "[CV 3/3; 16/36] START max_depth=3, n_estimators=400.............................\n",
      "[CV 3/3; 16/36] END ...........max_depth=3, n_estimators=400; total time=   2.8s\n",
      "[CV 1/3; 17/36] START max_depth=3, n_estimators=450.............................\n",
      "[CV 1/3; 17/36] END ...........max_depth=3, n_estimators=450; total time=   1.4s\n",
      "[CV 2/3; 17/36] START max_depth=3, n_estimators=450.............................\n",
      "[CV 2/3; 17/36] END ...........max_depth=3, n_estimators=450; total time=   2.4s\n",
      "[CV 3/3; 17/36] START max_depth=3, n_estimators=450.............................\n",
      "[CV 3/3; 17/36] END ...........max_depth=3, n_estimators=450; total time=   3.3s\n",
      "[CV 1/3; 18/36] START max_depth=3, n_estimators=500.............................\n",
      "[CV 1/3; 18/36] END ...........max_depth=3, n_estimators=500; total time=   1.6s\n",
      "[CV 2/3; 18/36] START max_depth=3, n_estimators=500.............................\n",
      "[CV 2/3; 18/36] END ...........max_depth=3, n_estimators=500; total time=   2.6s\n",
      "[CV 3/3; 18/36] START max_depth=3, n_estimators=500.............................\n",
      "[CV 3/3; 18/36] END ...........max_depth=3, n_estimators=500; total time=   3.6s\n",
      "[CV 1/3; 19/36] START max_depth=4, n_estimators=100.............................\n",
      "[CV 1/3; 19/36] END ...........max_depth=4, n_estimators=100; total time=   0.4s\n",
      "[CV 2/3; 19/36] START max_depth=4, n_estimators=100.............................\n",
      "[CV 2/3; 19/36] END ...........max_depth=4, n_estimators=100; total time=   0.7s\n",
      "[CV 3/3; 19/36] START max_depth=4, n_estimators=100.............................\n",
      "[CV 3/3; 19/36] END ...........max_depth=4, n_estimators=100; total time=   1.0s\n",
      "[CV 1/3; 20/36] START max_depth=4, n_estimators=150.............................\n",
      "[CV 1/3; 20/36] END ...........max_depth=4, n_estimators=150; total time=   0.6s\n",
      "[CV 2/3; 20/36] START max_depth=4, n_estimators=150.............................\n",
      "[CV 2/3; 20/36] END ...........max_depth=4, n_estimators=150; total time=   1.0s\n",
      "[CV 3/3; 20/36] START max_depth=4, n_estimators=150.............................\n",
      "[CV 3/3; 20/36] END ...........max_depth=4, n_estimators=150; total time=   1.5s\n",
      "[CV 1/3; 21/36] START max_depth=4, n_estimators=200.............................\n",
      "[CV 1/3; 21/36] END ...........max_depth=4, n_estimators=200; total time=   0.8s\n",
      "[CV 2/3; 21/36] START max_depth=4, n_estimators=200.............................\n",
      "[CV 2/3; 21/36] END ...........max_depth=4, n_estimators=200; total time=   1.3s\n",
      "[CV 3/3; 21/36] START max_depth=4, n_estimators=200.............................\n",
      "[CV 3/3; 21/36] END ...........max_depth=4, n_estimators=200; total time=   1.9s\n",
      "[CV 1/3; 22/36] START max_depth=4, n_estimators=250.............................\n",
      "[CV 1/3; 22/36] END ...........max_depth=4, n_estimators=250; total time=   1.0s\n",
      "[CV 2/3; 22/36] START max_depth=4, n_estimators=250.............................\n",
      "[CV 2/3; 22/36] END ...........max_depth=4, n_estimators=250; total time=   1.6s\n",
      "[CV 3/3; 22/36] START max_depth=4, n_estimators=250.............................\n",
      "[CV 3/3; 22/36] END ...........max_depth=4, n_estimators=250; total time=   2.4s\n",
      "[CV 1/3; 23/36] START max_depth=4, n_estimators=300.............................\n",
      "[CV 1/3; 23/36] END ...........max_depth=4, n_estimators=300; total time=   1.2s\n",
      "[CV 2/3; 23/36] START max_depth=4, n_estimators=300.............................\n",
      "[CV 2/3; 23/36] END ...........max_depth=4, n_estimators=300; total time=   2.0s\n",
      "[CV 3/3; 23/36] START max_depth=4, n_estimators=300.............................\n",
      "[CV 3/3; 23/36] END ...........max_depth=4, n_estimators=300; total time=   2.8s\n",
      "[CV 1/3; 24/36] START max_depth=4, n_estimators=350.............................\n",
      "[CV 1/3; 24/36] END ...........max_depth=4, n_estimators=350; total time=   1.4s\n",
      "[CV 2/3; 24/36] START max_depth=4, n_estimators=350.............................\n",
      "[CV 2/3; 24/36] END ...........max_depth=4, n_estimators=350; total time=   2.3s\n",
      "[CV 3/3; 24/36] START max_depth=4, n_estimators=350.............................\n",
      "[CV 3/3; 24/36] END ...........max_depth=4, n_estimators=350; total time=   3.3s\n",
      "[CV 1/3; 25/36] START max_depth=4, n_estimators=400.............................\n",
      "[CV 1/3; 25/36] END ...........max_depth=4, n_estimators=400; total time=   1.6s\n",
      "[CV 2/3; 25/36] START max_depth=4, n_estimators=400.............................\n",
      "[CV 2/3; 25/36] END ...........max_depth=4, n_estimators=400; total time=   2.6s\n",
      "[CV 3/3; 25/36] START max_depth=4, n_estimators=400.............................\n",
      "[CV 3/3; 25/36] END ...........max_depth=4, n_estimators=400; total time=   3.7s\n",
      "[CV 1/3; 26/36] START max_depth=4, n_estimators=450.............................\n",
      "[CV 1/3; 26/36] END ...........max_depth=4, n_estimators=450; total time=   1.8s\n",
      "[CV 2/3; 26/36] START max_depth=4, n_estimators=450.............................\n",
      "[CV 2/3; 26/36] END ...........max_depth=4, n_estimators=450; total time=   3.0s\n",
      "[CV 3/3; 26/36] START max_depth=4, n_estimators=450.............................\n",
      "[CV 3/3; 26/36] END ...........max_depth=4, n_estimators=450; total time=   4.1s\n",
      "[CV 1/3; 27/36] START max_depth=4, n_estimators=500.............................\n",
      "[CV 1/3; 27/36] END ...........max_depth=4, n_estimators=500; total time=   2.0s\n",
      "[CV 2/3; 27/36] START max_depth=4, n_estimators=500.............................\n",
      "[CV 2/3; 27/36] END ...........max_depth=4, n_estimators=500; total time=   3.3s\n",
      "[CV 3/3; 27/36] START max_depth=4, n_estimators=500.............................\n",
      "[CV 3/3; 27/36] END ...........max_depth=4, n_estimators=500; total time=   4.6s\n",
      "[CV 1/3; 28/36] START max_depth=5, n_estimators=100.............................\n",
      "[CV 1/3; 28/36] END ...........max_depth=5, n_estimators=100; total time=   0.5s\n",
      "[CV 2/3; 28/36] START max_depth=5, n_estimators=100.............................\n",
      "[CV 2/3; 28/36] END ...........max_depth=5, n_estimators=100; total time=   0.8s\n",
      "[CV 3/3; 28/36] START max_depth=5, n_estimators=100.............................\n",
      "[CV 3/3; 28/36] END ...........max_depth=5, n_estimators=100; total time=   1.2s\n",
      "[CV 1/3; 29/36] START max_depth=5, n_estimators=150.............................\n",
      "[CV 1/3; 29/36] END ...........max_depth=5, n_estimators=150; total time=   0.7s\n",
      "[CV 2/3; 29/36] START max_depth=5, n_estimators=150.............................\n",
      "[CV 2/3; 29/36] END ...........max_depth=5, n_estimators=150; total time=   1.2s\n",
      "[CV 3/3; 29/36] START max_depth=5, n_estimators=150.............................\n",
      "[CV 3/3; 29/36] END ...........max_depth=5, n_estimators=150; total time=   1.8s\n",
      "[CV 1/3; 30/36] START max_depth=5, n_estimators=200.............................\n",
      "[CV 1/3; 30/36] END ...........max_depth=5, n_estimators=200; total time=   1.0s\n",
      "[CV 2/3; 30/36] START max_depth=5, n_estimators=200.............................\n",
      "[CV 2/3; 30/36] END ...........max_depth=5, n_estimators=200; total time=   1.7s\n",
      "[CV 3/3; 30/36] START max_depth=5, n_estimators=200.............................\n",
      "[CV 3/3; 30/36] END ...........max_depth=5, n_estimators=200; total time=   2.4s\n",
      "[CV 1/3; 31/36] START max_depth=5, n_estimators=250.............................\n",
      "[CV 1/3; 31/36] END ...........max_depth=5, n_estimators=250; total time=   1.3s\n",
      "[CV 2/3; 31/36] START max_depth=5, n_estimators=250.............................\n",
      "[CV 2/3; 31/36] END ...........max_depth=5, n_estimators=250; total time=   2.0s\n",
      "[CV 3/3; 31/36] START max_depth=5, n_estimators=250.............................\n",
      "[CV 3/3; 31/36] END ...........max_depth=5, n_estimators=250; total time=   2.9s\n",
      "[CV 1/3; 32/36] START max_depth=5, n_estimators=300.............................\n",
      "[CV 1/3; 32/36] END ...........max_depth=5, n_estimators=300; total time=   1.4s\n",
      "[CV 2/3; 32/36] START max_depth=5, n_estimators=300.............................\n",
      "[CV 2/3; 32/36] END ...........max_depth=5, n_estimators=300; total time=   2.4s\n",
      "[CV 3/3; 32/36] START max_depth=5, n_estimators=300.............................\n",
      "[CV 3/3; 32/36] END ...........max_depth=5, n_estimators=300; total time=   3.5s\n",
      "[CV 1/3; 33/36] START max_depth=5, n_estimators=350.............................\n",
      "[CV 1/3; 33/36] END ...........max_depth=5, n_estimators=350; total time=   1.6s\n",
      "[CV 2/3; 33/36] START max_depth=5, n_estimators=350.............................\n",
      "[CV 2/3; 33/36] END ...........max_depth=5, n_estimators=350; total time=   2.8s\n",
      "[CV 3/3; 33/36] START max_depth=5, n_estimators=350.............................\n",
      "[CV 3/3; 33/36] END ...........max_depth=5, n_estimators=350; total time=   4.1s\n",
      "[CV 1/3; 34/36] START max_depth=5, n_estimators=400.............................\n",
      "[CV 1/3; 34/36] END ...........max_depth=5, n_estimators=400; total time=   1.8s\n",
      "[CV 2/3; 34/36] START max_depth=5, n_estimators=400.............................\n",
      "[CV 2/3; 34/36] END ...........max_depth=5, n_estimators=400; total time=   3.3s\n",
      "[CV 3/3; 34/36] START max_depth=5, n_estimators=400.............................\n",
      "[CV 3/3; 34/36] END ...........max_depth=5, n_estimators=400; total time=   4.5s\n",
      "[CV 1/3; 35/36] START max_depth=5, n_estimators=450.............................\n",
      "[CV 1/3; 35/36] END ...........max_depth=5, n_estimators=450; total time=   2.0s\n",
      "[CV 2/3; 35/36] START max_depth=5, n_estimators=450.............................\n",
      "[CV 2/3; 35/36] END ...........max_depth=5, n_estimators=450; total time=   3.5s\n",
      "[CV 3/3; 35/36] START max_depth=5, n_estimators=450.............................\n",
      "[CV 3/3; 35/36] END ...........max_depth=5, n_estimators=450; total time=   5.1s\n",
      "[CV 1/3; 36/36] START max_depth=5, n_estimators=500.............................\n",
      "[CV 1/3; 36/36] END ...........max_depth=5, n_estimators=500; total time=   2.3s\n",
      "[CV 2/3; 36/36] START max_depth=5, n_estimators=500.............................\n",
      "[CV 2/3; 36/36] END ...........max_depth=5, n_estimators=500; total time=   3.9s\n",
      "[CV 3/3; 36/36] START max_depth=5, n_estimators=500.............................\n",
      "[CV 3/3; 36/36] END ...........max_depth=5, n_estimators=500; total time=   5.6s\n",
      "Лучшее RMSE для случайного леса: 30.59 при значениях гиперпараметров: {'max_depth': 5, 'n_estimators': 100}\n",
      "CPU times: user 3min 12s, sys: 615 ms, total: 3min 13s\n",
      "Wall time: 3min 13s\n"
     ]
    }
   ],
   "source": [
    "%%time\n",
    "# подбор лучшей модели RandomForestRegressor\n",
    "\n",
    "tscv = TimeSeriesSplit(n_splits=3)\n",
    "parameters_grid = {\n",
    "    'n_estimators': range(100, 501, 50),\n",
    "    'max_depth': range(2, 6)\n",
    "    \n",
    "}\n",
    " \n",
    "model = RandomForestRegressor(random_state=12345)\n",
    "grid_cv = GridSearchCV(model, parameters_grid, cv=tscv, scoring='neg_root_mean_squared_error', n_jobs=-1, verbose=10)\n",
    "grid_cv.fit(features_train, target_train)\n",
    "\n",
    "print('Лучшее RMSE для случайного леса: {:.2f} при значениях гиперпараметров: {}'.\\\n",
    "      format(-grid_cv.best_score_, grid_cv.best_params_))"
   ]
  },
  {
   "cell_type": "code",
   "execution_count": 22,
   "metadata": {},
   "outputs": [],
   "source": [
    "# фиксируем модель RandomForestRegressor с лучшими гиперпараметрами\n",
    "best_forest = grid_cv.best_estimator_"
   ]
  },
  {
   "cell_type": "markdown",
   "metadata": {},
   "source": [
    "<div class=\"alert alert-success\">\n",
    "<h2> Комментарий ревьюера <a class=\"tocSkip\"> </h2>\n",
    "\n",
    "<b>Все отлично!👍</b> \n",
    "    \n",
    "Для случайного леса оптимизировали гиперпараметры и оценили качество на кросс-валидации - отлично!\n",
    "</div>"
   ]
  },
  {
   "cell_type": "code",
   "execution_count": 23,
   "metadata": {},
   "outputs": [
    {
     "name": "stdout",
     "output_type": "stream",
     "text": [
      "[CV] START .....................................................................\n",
      "[CV] END .............................. score: (test=-28.956) total time=   0.0s\n",
      "[CV] START .....................................................................\n",
      "[CV] END .............................. score: (test=-29.889) total time=   0.1s\n",
      "[CV] START .....................................................................\n",
      "[CV] END .............................. score: (test=-36.293) total time=   0.0s\n",
      "RMSE линейной регрессии: 31.71\n"
     ]
    },
    {
     "name": "stderr",
     "output_type": "stream",
     "text": [
      "[Parallel(n_jobs=-1)]: Using backend SequentialBackend with 1 concurrent workers.\n",
      "[Parallel(n_jobs=-1)]: Done   1 out of   1 | elapsed:    0.0s remaining:    0.0s\n",
      "[Parallel(n_jobs=-1)]: Done   2 out of   2 | elapsed:    0.1s remaining:    0.0s\n",
      "[Parallel(n_jobs=-1)]: Done   3 out of   3 | elapsed:    0.1s remaining:    0.0s\n",
      "[Parallel(n_jobs=-1)]: Done   3 out of   3 | elapsed:    0.1s finished\n"
     ]
    }
   ],
   "source": [
    "# для линейной регрессии применим масштабирование StandardScaler к признакам\n",
    "scaler = StandardScaler()\n",
    "features_train_sc = features_train.copy()\n",
    "scaler.fit(features_train_sc)\n",
    "features_train_sc = scaler.transform(features_train_sc)\n",
    "\n",
    "# найдём метрику RMSE у LinearRegression с помощью кросс-валидации\n",
    "model = LinearRegression()\n",
    "\n",
    "scores = cross_val_score(model, features_train_sc, target_train, \n",
    "                         scoring='neg_root_mean_squared_error', cv=tscv, n_jobs=-1, verbose=10)\n",
    "\n",
    "final_score = -scores.mean()\n",
    "\n",
    "print('RMSE линейной регрессии: {:.2f}'.format(final_score))"
   ]
  },
  {
   "cell_type": "markdown",
   "metadata": {},
   "source": [
    "<div class=\"alert alert-success\">\n",
    "<h2> Комментарий ревьюера <a class=\"tocSkip\"> </h2>\n",
    "\n",
    "<b>Все отлично!👍</b> \n",
    "    \n",
    "Оценили линейную регрессию на кросс-валидации - отлично!\n",
    "</div>"
   ]
  },
  {
   "cell_type": "code",
   "execution_count": 24,
   "metadata": {},
   "outputs": [
    {
     "name": "stdout",
     "output_type": "stream",
     "text": [
      "Fitting 3 folds for each of 8 candidates, totalling 24 fits\n",
      "[CV 1/3; 1/8] START depth=5, iterations=900, learning_rate=0.5..................\n",
      "[CV 1/3; 1/8] END depth=5, iterations=900, learning_rate=0.5; total time=   2.7s\n",
      "[CV 2/3; 1/8] START depth=5, iterations=900, learning_rate=0.5..................\n",
      "[CV 2/3; 1/8] END depth=5, iterations=900, learning_rate=0.5; total time=   2.8s\n",
      "[CV 3/3; 1/8] START depth=5, iterations=900, learning_rate=0.5..................\n",
      "[CV 3/3; 1/8] END depth=5, iterations=900, learning_rate=0.5; total time=   3.0s\n",
      "[CV 1/3; 2/8] START depth=5, iterations=900, learning_rate=0.7..................\n",
      "[CV 1/3; 2/8] END depth=5, iterations=900, learning_rate=0.7; total time=   2.4s\n",
      "[CV 2/3; 2/8] START depth=5, iterations=900, learning_rate=0.7..................\n",
      "[CV 2/3; 2/8] END depth=5, iterations=900, learning_rate=0.7; total time=   2.9s\n",
      "[CV 3/3; 2/8] START depth=5, iterations=900, learning_rate=0.7..................\n",
      "[CV 3/3; 2/8] END depth=5, iterations=900, learning_rate=0.7; total time=   3.1s\n",
      "[CV 1/3; 3/8] START depth=5, iterations=1100, learning_rate=0.5.................\n",
      "[CV 1/3; 3/8] END depth=5, iterations=1100, learning_rate=0.5; total time=   2.8s\n",
      "[CV 2/3; 3/8] START depth=5, iterations=1100, learning_rate=0.5.................\n",
      "[CV 2/3; 3/8] END depth=5, iterations=1100, learning_rate=0.5; total time=   3.3s\n",
      "[CV 3/3; 3/8] START depth=5, iterations=1100, learning_rate=0.5.................\n",
      "[CV 3/3; 3/8] END depth=5, iterations=1100, learning_rate=0.5; total time=   3.7s\n",
      "[CV 1/3; 4/8] START depth=5, iterations=1100, learning_rate=0.7.................\n",
      "[CV 1/3; 4/8] END depth=5, iterations=1100, learning_rate=0.7; total time=   2.9s\n",
      "[CV 2/3; 4/8] START depth=5, iterations=1100, learning_rate=0.7.................\n",
      "[CV 2/3; 4/8] END depth=5, iterations=1100, learning_rate=0.7; total time=   3.6s\n",
      "[CV 3/3; 4/8] START depth=5, iterations=1100, learning_rate=0.7.................\n",
      "[CV 3/3; 4/8] END depth=5, iterations=1100, learning_rate=0.7; total time=   3.9s\n",
      "[CV 1/3; 5/8] START depth=10, iterations=900, learning_rate=0.5.................\n",
      "[CV 1/3; 5/8] END depth=10, iterations=900, learning_rate=0.5; total time=  25.2s\n",
      "[CV 2/3; 5/8] START depth=10, iterations=900, learning_rate=0.5.................\n",
      "[CV 2/3; 5/8] END depth=10, iterations=900, learning_rate=0.5; total time=  29.8s\n",
      "[CV 3/3; 5/8] START depth=10, iterations=900, learning_rate=0.5.................\n",
      "[CV 3/3; 5/8] END depth=10, iterations=900, learning_rate=0.5; total time=  32.3s\n",
      "[CV 1/3; 6/8] START depth=10, iterations=900, learning_rate=0.7.................\n",
      "[CV 1/3; 6/8] END depth=10, iterations=900, learning_rate=0.7; total time=  24.9s\n",
      "[CV 2/3; 6/8] START depth=10, iterations=900, learning_rate=0.7.................\n",
      "[CV 2/3; 6/8] END depth=10, iterations=900, learning_rate=0.7; total time=  29.5s\n",
      "[CV 3/3; 6/8] START depth=10, iterations=900, learning_rate=0.7.................\n",
      "[CV 3/3; 6/8] END depth=10, iterations=900, learning_rate=0.7; total time=  32.1s\n",
      "[CV 1/3; 7/8] START depth=10, iterations=1100, learning_rate=0.5................\n",
      "[CV 1/3; 7/8] END depth=10, iterations=1100, learning_rate=0.5; total time=  30.5s\n",
      "[CV 2/3; 7/8] START depth=10, iterations=1100, learning_rate=0.5................\n",
      "[CV 2/3; 7/8] END depth=10, iterations=1100, learning_rate=0.5; total time=  36.1s\n",
      "[CV 3/3; 7/8] START depth=10, iterations=1100, learning_rate=0.5................\n",
      "[CV 3/3; 7/8] END depth=10, iterations=1100, learning_rate=0.5; total time=  39.2s\n",
      "[CV 1/3; 8/8] START depth=10, iterations=1100, learning_rate=0.7................\n",
      "[CV 1/3; 8/8] END depth=10, iterations=1100, learning_rate=0.7; total time=  30.2s\n",
      "[CV 2/3; 8/8] START depth=10, iterations=1100, learning_rate=0.7................\n",
      "[CV 2/3; 8/8] END depth=10, iterations=1100, learning_rate=0.7; total time=  36.4s\n",
      "[CV 3/3; 8/8] START depth=10, iterations=1100, learning_rate=0.7................\n",
      "[CV 3/3; 8/8] END depth=10, iterations=1100, learning_rate=0.7; total time=  39.4s\n",
      "Лучшее RMSE для CatBoost: 29.15 при значениях гиперпараметров: {'depth': 10, 'iterations': 900, 'learning_rate': 0.5}\n",
      "CPU times: user 7min 15s, sys: 3.95 s, total: 7min 19s\n",
      "Wall time: 7min 40s\n"
     ]
    }
   ],
   "source": [
    "%%time\n",
    "# подбор лучшей модели CatBoostRegressor\n",
    "\n",
    "model_cat = CatBoostRegressor(random_state=12345, verbose=False)\n",
    "parameters_grid = {'iterations': [900, 1100], 'depth': [5, 10], 'learning_rate': [0.5, 0.7]}\n",
    "\n",
    "grid_cat = GridSearchCV(model_cat, parameters_grid, cv=tscv, scoring='neg_root_mean_squared_error', n_jobs=-1, verbose=10)\n",
    "grid_cat.fit(features_train, target_train)\n",
    "\n",
    "print('Лучшее RMSE для CatBoost: {:.2f} при значениях гиперпараметров: {}'.\\\n",
    "      format(-grid_cat.best_score_, grid_cat.best_params_))"
   ]
  },
  {
   "cell_type": "code",
   "execution_count": 25,
   "metadata": {},
   "outputs": [],
   "source": [
    "# фиксируем модель CatBoostRegressor с лучшими гиперпараметрами\n",
    "best_cat = grid_cat.best_estimator_"
   ]
  },
  {
   "cell_type": "markdown",
   "metadata": {},
   "source": [
    "<div class=\"alert alert-success\">\n",
    "<h2> Комментарий ревьюера <a class=\"tocSkip\"> </h2>\n",
    "\n",
    "<b>Все отлично!👍</b> \n",
    "    \n",
    "Для `CatBoost` оптимизировали гиперпараметры и оценили качество на кросс-валидации - отлично!\n",
    "</div>"
   ]
  },
  {
   "cell_type": "markdown",
   "metadata": {},
   "source": [
    "<div class=\"alert alert-block alert-danger\">\n",
    "<h2> Комментарий ревьюера <a class=\"tocSkip\"></h2>\n",
    "\n",
    "    \n",
    "<b>На доработку❌:</b>\n",
    "Для параметра `iterations` рассматривается очень короткая последовательность: ни один алгоритм, основанный на градиентном спуске, за такое малое количество итераций не успеет сойтись к глобальному минимуму. Значение по умолчанию установлено на 1000 итераций, соответственно вокруг этого значения и стоит искать оптимальное."
   ]
  },
  {
   "cell_type": "markdown",
   "metadata": {},
   "source": [
    "<div class=\"alert alert-info\">\n",
    "<h2> Комментарий студента <a class=\"tocSkip\"> </h2>\n",
    "\n",
    "Изменил предполагаемые значения iterations.\n",
    "</div>"
   ]
  },
  {
   "cell_type": "markdown",
   "metadata": {},
   "source": [
    "<div class=\"alert alert-success\">\n",
    "<h2> Комментарий ревьюера v.2 <a class=\"tocSkip\"> </h2>\n",
    "\n",
    "<b>Все отлично!👍:</b> Учтено.\n",
    "</div>"
   ]
  },
  {
   "cell_type": "code",
   "execution_count": 26,
   "metadata": {},
   "outputs": [
    {
     "name": "stdout",
     "output_type": "stream",
     "text": [
      "Fitting 3 folds for each of 6 candidates, totalling 18 fits\n",
      "[CV 1/3; 1/6] START learning_rate=0.1, n_estimators=50..........................\n",
      "[CV 1/3; 1/6] END ........learning_rate=0.1, n_estimators=50; total time= 2.2min\n",
      "[CV 2/3; 1/6] START learning_rate=0.1, n_estimators=50..........................\n",
      "[CV 2/3; 1/6] END ........learning_rate=0.1, n_estimators=50; total time= 2.3min\n",
      "[CV 3/3; 1/6] START learning_rate=0.1, n_estimators=50..........................\n",
      "[CV 3/3; 1/6] END ........learning_rate=0.1, n_estimators=50; total time= 2.4min\n",
      "[CV 1/3; 2/6] START learning_rate=0.1, n_estimators=120.........................\n",
      "[CV 1/3; 2/6] END .......learning_rate=0.1, n_estimators=120; total time= 5.2min\n",
      "[CV 2/3; 2/6] START learning_rate=0.1, n_estimators=120.........................\n",
      "[CV 2/3; 2/6] END .......learning_rate=0.1, n_estimators=120; total time= 5.3min\n",
      "[CV 3/3; 2/6] START learning_rate=0.1, n_estimators=120.........................\n",
      "[CV 3/3; 2/6] END .......learning_rate=0.1, n_estimators=120; total time= 6.3min\n",
      "[CV 1/3; 3/6] START learning_rate=0.1, n_estimators=150.........................\n",
      "[CV 1/3; 3/6] END .......learning_rate=0.1, n_estimators=150; total time= 7.4min\n",
      "[CV 2/3; 3/6] START learning_rate=0.1, n_estimators=150.........................\n",
      "[CV 2/3; 3/6] END .......learning_rate=0.1, n_estimators=150; total time= 6.7min\n",
      "[CV 3/3; 3/6] START learning_rate=0.1, n_estimators=150.........................\n",
      "[CV 3/3; 3/6] END .......learning_rate=0.1, n_estimators=150; total time= 7.9min\n",
      "[CV 1/3; 4/6] START learning_rate=0.5, n_estimators=50..........................\n",
      "[CV 1/3; 4/6] END ........learning_rate=0.5, n_estimators=50; total time= 2.6min\n",
      "[CV 2/3; 4/6] START learning_rate=0.5, n_estimators=50..........................\n",
      "[CV 2/3; 4/6] END ........learning_rate=0.5, n_estimators=50; total time= 2.2min\n",
      "[CV 3/3; 4/6] START learning_rate=0.5, n_estimators=50..........................\n",
      "[CV 3/3; 4/6] END ........learning_rate=0.5, n_estimators=50; total time= 2.8min\n",
      "[CV 1/3; 5/6] START learning_rate=0.5, n_estimators=120.........................\n",
      "[CV 1/3; 5/6] END .......learning_rate=0.5, n_estimators=120; total time= 5.0min\n",
      "[CV 2/3; 5/6] START learning_rate=0.5, n_estimators=120.........................\n",
      "[CV 2/3; 5/6] END .......learning_rate=0.5, n_estimators=120; total time= 5.3min\n",
      "[CV 3/3; 5/6] START learning_rate=0.5, n_estimators=120.........................\n",
      "[CV 3/3; 5/6] END .......learning_rate=0.5, n_estimators=120; total time= 5.1min\n",
      "[CV 1/3; 6/6] START learning_rate=0.5, n_estimators=150.........................\n",
      "[CV 1/3; 6/6] END .......learning_rate=0.5, n_estimators=150; total time= 6.5min\n",
      "[CV 2/3; 6/6] START learning_rate=0.5, n_estimators=150.........................\n",
      "[CV 2/3; 6/6] END .......learning_rate=0.5, n_estimators=150; total time= 6.7min\n",
      "[CV 3/3; 6/6] START learning_rate=0.5, n_estimators=150.........................\n",
      "[CV 3/3; 6/6] END .......learning_rate=0.5, n_estimators=150; total time= 6.6min\n",
      "Лучшее RMSE для LGBM: 27.32 при значениях гиперпараметров: {'learning_rate': 0.1, 'n_estimators': 50}\n",
      "CPU times: user 1h 29min 10s, sys: 1min 8s, total: 1h 30min 18s\n",
      "Wall time: 1h 30min 49s\n"
     ]
    }
   ],
   "source": [
    "%%time\n",
    "# подбор лучшей модели LGBMRegressor\n",
    "\n",
    "model_lgb = LGBMRegressor(random_state=12345)\n",
    "parameters_grid = {'n_estimators': [50, 120, 150], 'learning_rate': [0.1, 0.5]}\n",
    "\n",
    "grid_lgb = GridSearchCV(model_lgb, parameters_grid, cv=tscv, scoring='neg_root_mean_squared_error', n_jobs=-1, verbose=10)\n",
    "grid_lgb.fit(features_train, target_train)\n",
    "\n",
    "print('Лучшее RMSE для LGBM: {:.2f} при значениях гиперпараметров: {}'.\\\n",
    "      format(-grid_lgb.best_score_, grid_lgb.best_params_))"
   ]
  },
  {
   "cell_type": "code",
   "execution_count": 27,
   "metadata": {},
   "outputs": [],
   "source": [
    "# фиксируем модель LGBMRegressor с лучшими гиперпараметрами\n",
    "best_lgb = grid_lgb.best_estimator_"
   ]
  },
  {
   "cell_type": "markdown",
   "metadata": {},
   "source": [
    "<div class=\"alert alert-success\">\n",
    "<h2> Комментарий ревьюера <a class=\"tocSkip\"> </h2>\n",
    "\n",
    "<b>Все отлично!👍</b> \n",
    "    \n",
    "Для `LGBMRegressor` оптимизировали гиперпараметры и оценили качество на кросс-валидации - отлично!\n",
    "</div>"
   ]
  },
  {
   "cell_type": "markdown",
   "metadata": {},
   "source": [
    "### Вывод к третьему разделу\n",
    "\n",
    "*Методом кросс-валидации были обучены и посчитаны метрики RMSE на 3-х моделях регресии и на 2-х моделях градиентного бустинга:*\n",
    "\n",
    "    - на модели DecisionTreeRegressor\n",
    "    - на модели RandomForestRegressor\n",
    "    - на модели LinearRegression\n",
    "    - на модели CatBoostRegressor\n",
    "    - на модели LGBMRegressor\n",
    "        \n",
    "*Значения метрики RMSE (отклонения предсказанного числа заказов на следующий час от реального) на обучающей выборке при оптимальных гиперпараметрах получились следующие:*\n",
    "\n",
    "    * DecisionTreeRegressor - 28.3\n",
    "    * RandomForestRegressor - 30.6\n",
    "    * LinearRegression - 31.7\n",
    "    * CatBoostRegressor - 29.2\n",
    "    * LGBMRegressor - 27.3\n",
    "    \n",
    "*Наименьшее значение метрики RMSE у модели LGBMRegressor, её и проверим на тестовой выборке.* "
   ]
  },
  {
   "cell_type": "markdown",
   "metadata": {},
   "source": [
    "<div class=\"alert alert-success\">\n",
    "<h2> Комментарий ревьюера <a class=\"tocSkip\"> </h2>\n",
    "\n",
    "<b>Все отлично!👍</b> \n",
    "    \n",
    "По результатам кросс-валидации выбрали лучшую модель, которую будем тестировать на тестовой выборке - отлично!\n",
    "</div>"
   ]
  },
  {
   "cell_type": "markdown",
   "metadata": {},
   "source": [
    "## Тестирование"
   ]
  },
  {
   "cell_type": "code",
   "execution_count": 28,
   "metadata": {},
   "outputs": [
    {
     "name": "stdout",
     "output_type": "stream",
     "text": [
      "Метрика RMSE у модели LGBMRegressor на тестовой выборке: 43.2677\n"
     ]
    }
   ],
   "source": [
    "# обучение лучшей модели LGBMRegressor\n",
    "best_lgb.fit(features_train, target_train)\n",
    "\n",
    "# предсказание LGBMRegressor на тестовых данных\n",
    "predict_lgb = best_lgb.predict(features_test)\n",
    "\n",
    "# метрика RMSE на тестовых данных\n",
    "rmse_test_lgb = mean_squared_error(target_test, predict_lgb, squared=False)\n",
    "\n",
    "print('Метрика RMSE у модели LGBMRegressor на тестовой выборке: {:.4f}'.format(rmse_test_lgb))"
   ]
  },
  {
   "cell_type": "markdown",
   "metadata": {},
   "source": [
    "<div class=\"alert alert-block alert-danger\">\n",
    "<h2> Комментарий ревьюера v.2 <a class=\"tocSkip\"></h2>\n",
    "\n",
    "    \n",
    "<b>На доработку❌:</b>\n",
    "Пока что трешхолд проекта преодолеть не удалось - стоит вернуться к работе над проектом. Из самого простого рецепта - увеличить число лагов в функции `make_features`."
   ]
  },
  {
   "cell_type": "markdown",
   "metadata": {},
   "source": [
    "<div class=\"alert alert-info\">\n",
    "<h2> Комментарий студента <a class=\"tocSkip\"> </h2>\n",
    "\n",
    "Изменил немного подход к подбору параметров в make_features. Метрика ниже 48-ми\n",
    "</div>"
   ]
  },
  {
   "cell_type": "markdown",
   "metadata": {},
   "source": [
    "<div class=\"alert alert-success\">\n",
    "<h2> Комментарий ревьюера v.3 <a class=\"tocSkip\"> </h2>\n",
    "\n",
    "<b>Все отлично!👍</b> \n",
    "    \n",
    "Отлично!\n",
    "</div>"
   ]
  },
  {
   "cell_type": "markdown",
   "metadata": {},
   "source": [
    "<div class=\"alert alert-success\">\n",
    "<h2> Комментарий ревьюера <a class=\"tocSkip\"> </h2>\n",
    "\n",
    "<b>Все отлично!👍</b> \n",
    "    \n",
    "Лучшую модель протестировали на тестовой выборке - отличный результат!\n",
    "</div>"
   ]
  },
  {
   "cell_type": "markdown",
   "metadata": {},
   "source": [
    "<div class=\"alert alert-warning\">\n",
    "    <h2> Комментарий ревьюера <a class=\"tocSkip\"> </h2>\n",
    "    \n",
    "<b>Некоторые замечания и рекомендации⚠️:</b> \n",
    "\n",
    "Здесь также было бы очень полезно визуализировать предсказания твоей лучшей модели и сравнить их с правильными ответами в формате линейного графика - так мы сможем более наглядно понять, в каких местах твоя модель делает хорошие предсказания, а в каких ошибается.\n",
    "\n",
    "</div>"
   ]
  },
  {
   "cell_type": "markdown",
   "metadata": {},
   "source": [
    "<div class=\"alert alert-info\">\n",
    "<h2> Комментарий студента <a class=\"tocSkip\"> </h2>\n",
    "\n",
    "ОК. Ниже отрисовал\n",
    "</div>"
   ]
  },
  {
   "cell_type": "markdown",
   "metadata": {},
   "source": [
    "<div class=\"alert alert-success\">\n",
    "<h2> Комментарий ревьюера v.2 <a class=\"tocSkip\"> </h2>\n",
    "\n",
    "<b>Все отлично!👍:</b> Учтено.\n",
    "</div>"
   ]
  },
  {
   "cell_type": "code",
   "execution_count": 29,
   "metadata": {
    "scrolled": false
   },
   "outputs": [
    {
     "data": {
      "image/png": "[encoded data removed]",
      "text/plain": [
       "<Figure size 1152x432 with 1 Axes>"
      ]
     },
     "metadata": {
      "needs_background": "light"
     },
     "output_type": "display_data"
    }
   ],
   "source": [
    "# визуализация предсказаний на лучшей модели и реальных значений\n",
    "\n",
    "# создание таблицы правильных ответов и предсказаний на тестовой выборке\n",
    "real_predict = pd.DataFrame(columns = ['real_values', 'predicted_values'])\n",
    "real_predict['real_values'] = target_test.values\n",
    "real_predict['predicted_values'] = predict_lgb\n",
    "real_predict.index = target_test.index\n",
    "\n",
    "# отрисовка графика\n",
    "real_predict.plot(figsize=(16, 6), title='Предсказания и реальные значения числа заказов такси')\n",
    "\n",
    "plt.xlabel('дата-время')\n",
    "plt.ylabel('заказы')\n",
    "plt.legend(['реальные значения', 'предсказания']);"
   ]
  },
  {
   "cell_type": "markdown",
   "metadata": {},
   "source": [
    "*Модель хорошо предсказывает средние и нижнепиковые значения, но отстаёт в предсказании верхнепиковых значений.*"
   ]
  },
  {
   "cell_type": "code",
   "execution_count": 30,
   "metadata": {},
   "outputs": [
    {
     "name": "stdout",
     "output_type": "stream",
     "text": [
      "RMSE у модели, заполненной по предыдущему значению: 59\n"
     ]
    }
   ],
   "source": [
    "# проверка модели на адекватность по заполнению тестовых данных предыдущим значением\n",
    "pred_previous = target_test.shift(fill_value=target_train[-1])\n",
    "\n",
    "print('RMSE у модели, заполненной по предыдущему значению: {:.0f}'.\\\n",
    "      format(mean_squared_error(target_test, pred_previous, squared=False)))"
   ]
  },
  {
   "cell_type": "markdown",
   "metadata": {},
   "source": [
    "<div class=\"alert alert-success\">\n",
    "<h2> Комментарий ревьюера <a class=\"tocSkip\"> </h2>\n",
    "\n",
    "<b>Все отлично!👍</b> \n",
    "    \n",
    "Есть сравнение с наивной моделью - порядок, модель адекватна!\n",
    "</div>"
   ]
  },
  {
   "cell_type": "markdown",
   "metadata": {},
   "source": [
    "### Вывод к четвертому разделу\n",
    "\n",
    "*Тестовые данные, которые были недоступны для обучения модели, увеличили значение метрики RMSE у модели LGBMRegressor с 27 до 43, что, возможно, связано с небольшим размером тестовой выборки.*\n",
    "\n",
    "*Сравнение предсказанных данных с реальными показывает, что модель недостаточно хорошо предсказывает верхнепиковые значения.*\n",
    "\n",
    "*Проверка модели на адекватность показала, что метрика реальной модели не превышает порог адекватности модели (59), предсказанной по предыдущему временному значению целевого признака.*"
   ]
  },
  {
   "cell_type": "markdown",
   "metadata": {},
   "source": [
    "<div class=\"alert alert-success\">\n",
    "<h2> Комментарий ревьюера <a class=\"tocSkip\"> </h2>\n",
    "\n",
    "<b>Все отлично!👍</b> \n",
    "    \n",
    "Отличный промежуточный вывод!\n",
    "</div>"
   ]
  },
  {
   "cell_type": "markdown",
   "metadata": {},
   "source": [
    "## Общий вывод\n",
    "\n",
    "*Целью исследования являлось построение модели для предсказания количества заказов такси на следующий час, чтобы привлекать больше водителей в период пиковой нагрузки. Для реализации цели исследования были выполнены следующие задачи:*\n",
    "\n",
    "\n",
    "\n",
    " 1. **Подготовка данных**\n",
    " \n",
    " \n",
    " 2. **Анализ данных**\n",
    " \n",
    " \n",
    " 3. **Обучение моделей**\n",
    " \n",
    " \n",
    " 4. **Тестирование лучшей модели**\n",
    "  \n",
    " \n",
    " \n",
    " \n",
    " \n",
    " \n",
    " **Задача 1 \"Подготовка данных\"** \n",
    "\n",
    "\n",
    "*Исходные данные представляют собой временной ряд по числу заказов такси в более чем 26 тысяч 10-минутных интервалов, с марта по сентябрь 2018 года. Для предсказания количества заказов такси на следующий час данные преобразованы в 4416 временных интервалов за каждый час.* \n",
    "\n",
    "\n",
    "\n",
    "\n",
    " **Задача 2 \"Анализ данных\"** \n",
    "\n",
    "\n",
    "*Первичный анализ заказов такси с часовым интервалом выявляет достаточно стабильный ряд, с пиками заказов в утренние и поздне-вечерние часы, с трендом к увеличению числа заказов в июле-августе.*\n",
    "\n",
    "*Декомпозированный анализ времененного ряда выявил следующие закономерности:* \n",
    "    \n",
    "    - восходящий тренд, с явным увеличеним закзазов в июле-августе\n",
    "    - сезонность в виде пиков (в 0 часов, 10 часов и 15 часов) и спадов (в 6 часов) заказов с суточной периодичностью\n",
    "    - остатки (шум) стабильны в течение всего периода наблюдения, кроме увеличения значений и скачков в августе\n",
    "\n",
    "*По тесту Дики-Фуллера временной ряд числа заказов такси был признан стационарным, то есть прогнозирование данных не затруднено.* \n",
    "\n",
    "*Созданы следующие признаки для прогнозирования:*\n",
    "  \n",
    "    - календарный день, день недели и час заказа\n",
    "    - отстающие значения заказов такси\n",
    "    - скользящее среднее заказов такси\n",
    "    \n",
    "*Данные разделены на обучающую (90% данных) и тестовую выборки (10% данных), в каждой выборке определены указанные выше признаки и целевой признак (число заказов).*\n",
    "\n",
    "\n",
    " **Задача 3 \"Обучение моделей\"** \n",
    "\n",
    "\n",
    "*Методом кросс-валидации были обучены и посчитаны метрики RMSE (отклонения предсказанного числа заказов такси на следующий час от реального) на следующих 5-ти моделях:*\n",
    "\n",
    "    - RMSE на модели DecisionTreeRegressor - 28.3\n",
    "    - RMSE на модели RandomForestRegressor - 30.6\n",
    "    - RMSE на модели LinearRegression - 31.7\n",
    "    - RMSE на модели CatBoostRegressor - 29.2\n",
    "    - RMSE на модели LGBMRegressor - 27.3 \n",
    "    \n",
    "*По наименьшему значению метрики RMSE модель LGBMRegressor выбрана для финального тестирования.*\n",
    "\n",
    "\n",
    " **Задача 4 \"Тестирование лучшей модели\"** \n",
    "\n",
    "\n",
    "*Значение метрики RMSE на тестовых данных у модели LGBMRegressor составило 43 заказа, что соответствует изначально заявленной цели исследования (не более 48-ми). Модель проверена на адекватность, метрика предсказания по предыдущему значению гораздо выше (59). Таким образом, модель LGBMRegressor рекомендована для внедрения предсказания заказов такси на следующий час.* "
   ]
  },
  {
   "cell_type": "markdown",
   "metadata": {},
   "source": [
    "<div class=\"alert alert-success\">\n",
    "<h2> Комментарий ревьюера <a class=\"tocSkip\"> </h2>\n",
    "\n",
    "<b>Все отлично!👍</b> \n",
    "    \n",
    "Итоговый вывод по проекту тоже на высоте!\n",
    "</div>"
   ]
  },
  {
   "cell_type": "markdown",
   "metadata": {},
   "source": [
    "<div style=\"border:solid Chocolate 2px; padding: 40px\">\n",
    "\n",
    "# Комментарий ревьюера: общий вывод по проекту.\n",
    "\n",
    "Евгений, ты хорошо потрудился над этим проектом - работа получилась на довольно хорошем уровне!\n",
    "\n",
    "Ты верно выполнил все задания проекта, последовательно прошёл все его шаги, получил верные выводы и ничего не упустил в процессе - это классно, ты молодец!\n",
    "    \n",
    "Ты неплохо используешь визуализацию, умело подбираешь тип графиков для объяснения данных. Понравилось также, что ты не ограничился использованием простеньких алгоритмов типа линейной регрессии, а использовал более продвинутые инструменты вроде случайного леса и бустинга. Также реализован механизм подбора гиперпараметров моделей с использованием `GridSearchCV` - несомненный плюс!\n",
    "    \n",
    "В проекте есть рекомендации по повышению его общего качества. Несмотря на то, что они не являются критическими по степени влияния на итоговый результат, они всё же призваны обратить внимание на какие-то ошибки, неточности или узкиие моменты. Такие рекомендации я отметил жёлтыми комментариями. Будет здорово, если ты учтёшь их - так проект станет структурно и содержательно более совершенным.\n",
    "    \n",
    "Также в проекте есть критические замечания. Важно устранить эти замечания, чтобы проект был принят. К ним я оставил комментарии красного цвета, в которых описаны необходимые для устранения замечаний действия.  \n",
    "    \n",
    "Если по тому, что нужно сделать, будут вопросы - оставь их, пожалуйста, в комментариях, и я отвечу на них во время следующего ревью:)\n",
    "    \n",
    "Также буду рад ответить на любые твои вопросы по проекту или на какие-либо другие, если они у тебя имеются - оставь их в комментариях, и я постараюсь ответить:)\n",
    "    \n",
    "Жду твой проект на повторном ревью. До встречи:)"
   ]
  },
  {
   "cell_type": "markdown",
   "metadata": {},
   "source": [
    "<div style=\"border:solid Chocolate 2px; padding: 40px\">\n",
    "\n",
    "# Комментарий ревьюера: общий вывод по проекту v.2.\n",
    "\n",
    "Евгений, спасибо, что прислал проект на повторное ревью: все замечания учтены - мы почти закончили работу над проектом!\n",
    "    \n",
    "Над конечным решением стоит поработать, чтобы выдержать трешхолд по метрике - основную идею оставил в комментарии с меткой `v.2`.\n",
    "    \n",
    "Жду тебя снова:)"
   ]
  },
  {
   "cell_type": "markdown",
   "metadata": {},
   "source": [
    "<div style=\"border:solid Chocolate 2px; padding: 40px\">\n",
    "\n",
    "# Комментарий ревьюера: общий вывод по проекту v.3.\n",
    "\n",
    "Евгений, все замечания учтены - твой проект принят!\n",
    "    \n",
    "Спасибо за качественную работу над проектом, желаю успехов в дальнейшем обучении:)"
   ]
  }
 ],
 "metadata": {
  "ExecuteTimeLog": [
   {
    "duration": 1654,
    "start_time": "2022-12-14T09:33:01.322Z"
   },
   {
    "duration": 213,
    "start_time": "2022-12-14T09:46:26.669Z"
   },
   {
    "duration": 1377,
    "start_time": "2022-12-14T09:46:48.138Z"
   },
   {
    "duration": 153,
    "start_time": "2022-12-14T09:46:49.517Z"
   },
   {
    "duration": 11,
    "start_time": "2022-12-14T09:46:49.671Z"
   },
   {
    "duration": 15,
    "start_time": "2022-12-14T09:46:49.684Z"
   },
   {
    "duration": 8,
    "start_time": "2022-12-14T09:46:49.700Z"
   },
   {
    "duration": 12,
    "start_time": "2022-12-14T09:46:49.709Z"
   },
   {
    "duration": 11,
    "start_time": "2022-12-14T09:46:49.722Z"
   },
   {
    "duration": 9,
    "start_time": "2022-12-14T09:46:49.735Z"
   },
   {
    "duration": 30,
    "start_time": "2022-12-14T09:46:49.745Z"
   },
   {
    "duration": 31,
    "start_time": "2022-12-14T09:46:49.778Z"
   },
   {
    "duration": 9,
    "start_time": "2022-12-14T09:46:49.811Z"
   },
   {
    "duration": 6,
    "start_time": "2022-12-14T09:46:49.821Z"
   },
   {
    "duration": 12666,
    "start_time": "2022-12-14T09:46:49.829Z"
   },
   {
    "duration": 8,
    "start_time": "2022-12-14T09:47:02.497Z"
   },
   {
    "duration": 219936,
    "start_time": "2022-12-14T09:47:02.506Z"
   },
   {
    "duration": 2,
    "start_time": "2022-12-14T09:50:42.444Z"
   },
   {
    "duration": 70,
    "start_time": "2022-12-14T09:50:42.448Z"
   },
   {
    "duration": 2003189,
    "start_time": "2022-12-14T09:50:42.520Z"
   },
   {
    "duration": 104,
    "start_time": "2022-12-14T10:28:05.226Z"
   },
   {
    "duration": 2,
    "start_time": "2022-12-14T10:28:11.559Z"
   },
   {
    "duration": 4,
    "start_time": "2022-12-14T10:28:12.231Z"
   },
   {
    "duration": 598,
    "start_time": "2022-12-14T10:29:44.768Z"
   },
   {
    "duration": 25,
    "start_time": "2022-12-14T10:51:18.757Z"
   },
   {
    "duration": 16119,
    "start_time": "2022-12-14T10:51:24.488Z"
   },
   {
    "duration": 3,
    "start_time": "2022-12-14T10:53:46.666Z"
   },
   {
    "duration": 542,
    "start_time": "2022-12-14T10:55:01.965Z"
   },
   {
    "duration": 1437,
    "start_time": "2022-12-14T10:58:57.157Z"
   },
   {
    "duration": 51,
    "start_time": "2022-12-14T10:58:58.596Z"
   },
   {
    "duration": 13,
    "start_time": "2022-12-14T10:58:58.648Z"
   },
   {
    "duration": 15,
    "start_time": "2022-12-14T10:58:58.664Z"
   },
   {
    "duration": 9,
    "start_time": "2022-12-14T10:58:58.680Z"
   },
   {
    "duration": 23,
    "start_time": "2022-12-14T10:58:58.691Z"
   },
   {
    "duration": 8,
    "start_time": "2022-12-14T10:58:58.716Z"
   },
   {
    "duration": 7,
    "start_time": "2022-12-14T10:58:58.725Z"
   },
   {
    "duration": 27,
    "start_time": "2022-12-14T10:58:58.733Z"
   },
   {
    "duration": 12,
    "start_time": "2022-12-14T10:58:58.762Z"
   },
   {
    "duration": 18,
    "start_time": "2022-12-14T10:58:58.776Z"
   },
   {
    "duration": 8,
    "start_time": "2022-12-14T10:58:58.805Z"
   },
   {
    "duration": 13083,
    "start_time": "2022-12-14T10:58:58.814Z"
   },
   {
    "duration": 3,
    "start_time": "2022-12-14T10:59:11.903Z"
   },
   {
    "duration": 223941,
    "start_time": "2022-12-14T10:59:11.908Z"
   },
   {
    "duration": 2,
    "start_time": "2022-12-14T11:02:55.851Z"
   },
   {
    "duration": 68,
    "start_time": "2022-12-14T11:02:55.855Z"
   },
   {
    "duration": 18980,
    "start_time": "2022-12-14T11:02:55.926Z"
   },
   {
    "duration": 2,
    "start_time": "2022-12-14T11:03:14.908Z"
   },
   {
    "duration": 268596,
    "start_time": "2022-12-14T11:03:14.911Z"
   },
   {
    "duration": 3,
    "start_time": "2022-12-14T11:07:43.508Z"
   },
   {
    "duration": 630,
    "start_time": "2022-12-14T11:07:43.512Z"
   },
   {
    "duration": 4866,
    "start_time": "2022-12-14T11:07:44.144Z"
   },
   {
    "duration": 74,
    "start_time": "2022-12-14T16:53:36.983Z"
   },
   {
    "duration": 3,
    "start_time": "2022-12-14T16:54:29.617Z"
   },
   {
    "duration": 46,
    "start_time": "2022-12-14T16:54:29.812Z"
   },
   {
    "duration": 11,
    "start_time": "2022-12-14T16:54:30.017Z"
   },
   {
    "duration": 13,
    "start_time": "2022-12-14T16:54:30.233Z"
   },
   {
    "duration": 9,
    "start_time": "2022-12-14T16:54:30.473Z"
   },
   {
    "duration": 12,
    "start_time": "2022-12-14T16:54:31.272Z"
   },
   {
    "duration": 9,
    "start_time": "2022-12-14T16:54:31.504Z"
   },
   {
    "duration": 331,
    "start_time": "2022-12-14T16:54:57.666Z"
   },
   {
    "duration": 2167,
    "start_time": "2022-12-14T16:55:24.346Z"
   },
   {
    "duration": 4,
    "start_time": "2022-12-14T16:55:40.397Z"
   },
   {
    "duration": 5,
    "start_time": "2022-12-14T16:56:15.027Z"
   },
   {
    "duration": 12244,
    "start_time": "2022-12-14T16:56:47.883Z"
   },
   {
    "duration": 29,
    "start_time": "2022-12-14T16:57:18.892Z"
   },
   {
    "duration": 11,
    "start_time": "2022-12-14T16:58:38.254Z"
   },
   {
    "duration": 7,
    "start_time": "2022-12-14T16:59:17.317Z"
   },
   {
    "duration": 22163,
    "start_time": "2022-12-14T17:00:20.055Z"
   },
   {
    "duration": 3,
    "start_time": "2022-12-14T17:00:49.594Z"
   },
   {
    "duration": 408982,
    "start_time": "2022-12-14T17:00:53.513Z"
   },
   {
    "duration": 8,
    "start_time": "2022-12-14T17:07:42.497Z"
   },
   {
    "duration": 399,
    "start_time": "2022-12-14T17:07:42.506Z"
   },
   {
    "duration": 26989,
    "start_time": "2022-12-14T17:08:52.760Z"
   },
   {
    "duration": 2,
    "start_time": "2022-12-14T17:09:19.751Z"
   },
   {
    "duration": 73059,
    "start_time": "2022-12-14T17:09:19.755Z"
   },
   {
    "duration": 2,
    "start_time": "2022-12-14T17:10:32.816Z"
   },
   {
    "duration": 509,
    "start_time": "2022-12-14T17:11:10.202Z"
   },
   {
    "duration": 6,
    "start_time": "2022-12-14T17:27:54.866Z"
   },
   {
    "duration": 123,
    "start_time": "2022-12-14T17:30:51.390Z"
   },
   {
    "duration": 14,
    "start_time": "2022-12-14T17:31:30.248Z"
   },
   {
    "duration": 8,
    "start_time": "2022-12-14T17:31:45.239Z"
   },
   {
    "duration": 7,
    "start_time": "2022-12-14T17:32:00.455Z"
   },
   {
    "duration": 18,
    "start_time": "2022-12-14T17:32:48.592Z"
   },
   {
    "duration": 6,
    "start_time": "2022-12-14T17:32:56.793Z"
   },
   {
    "duration": 9,
    "start_time": "2022-12-14T17:33:14.361Z"
   },
   {
    "duration": 5,
    "start_time": "2022-12-14T17:33:27.857Z"
   },
   {
    "duration": 4,
    "start_time": "2022-12-14T17:34:03.713Z"
   },
   {
    "duration": 4,
    "start_time": "2022-12-14T17:34:20.162Z"
   },
   {
    "duration": 1696,
    "start_time": "2022-12-14T18:36:27.945Z"
   },
   {
    "duration": 4,
    "start_time": "2022-12-14T18:36:57.986Z"
   },
   {
    "duration": 53,
    "start_time": "2022-12-14T18:36:58.269Z"
   },
   {
    "duration": 14,
    "start_time": "2022-12-14T18:36:58.475Z"
   },
   {
    "duration": 28,
    "start_time": "2022-12-14T18:36:59.083Z"
   },
   {
    "duration": 12,
    "start_time": "2022-12-14T18:37:01.675Z"
   },
   {
    "duration": 13,
    "start_time": "2022-12-14T18:37:02.218Z"
   },
   {
    "duration": 332,
    "start_time": "2022-12-14T18:37:05.651Z"
   },
   {
    "duration": 4646,
    "start_time": "2022-12-14T18:53:32.980Z"
   },
   {
    "duration": 4703,
    "start_time": "2022-12-14T18:53:47.822Z"
   },
   {
    "duration": 4,
    "start_time": "2022-12-14T19:17:41.118Z"
   },
   {
    "duration": 20774,
    "start_time": "2022-12-14T19:17:49.646Z"
   },
   {
    "duration": 31,
    "start_time": "2022-12-14T19:20:08.192Z"
   },
   {
    "duration": 4,
    "start_time": "2022-12-14T19:20:35.441Z"
   },
   {
    "duration": 45,
    "start_time": "2022-12-14T19:20:35.658Z"
   },
   {
    "duration": 13,
    "start_time": "2022-12-14T19:20:35.921Z"
   },
   {
    "duration": 26,
    "start_time": "2022-12-14T19:20:36.192Z"
   },
   {
    "duration": 11,
    "start_time": "2022-12-14T19:20:36.479Z"
   },
   {
    "duration": 10,
    "start_time": "2022-12-14T19:20:37.016Z"
   },
   {
    "duration": 306,
    "start_time": "2022-12-14T19:20:38.611Z"
   },
   {
    "duration": 4381,
    "start_time": "2022-12-14T19:20:41.730Z"
   },
   {
    "duration": 4,
    "start_time": "2022-12-14T19:20:48.155Z"
   },
   {
    "duration": 12439,
    "start_time": "2022-12-14T19:20:50.219Z"
   },
   {
    "duration": 4,
    "start_time": "2022-12-14T19:22:16.466Z"
   },
   {
    "duration": 46,
    "start_time": "2022-12-14T19:22:16.713Z"
   },
   {
    "duration": 12,
    "start_time": "2022-12-14T19:22:16.922Z"
   },
   {
    "duration": 15,
    "start_time": "2022-12-14T19:22:17.132Z"
   },
   {
    "duration": 12,
    "start_time": "2022-12-14T19:22:17.363Z"
   },
   {
    "duration": 10,
    "start_time": "2022-12-14T19:22:17.594Z"
   },
   {
    "duration": 422,
    "start_time": "2022-12-14T19:22:18.850Z"
   },
   {
    "duration": 4586,
    "start_time": "2022-12-14T19:22:20.834Z"
   },
   {
    "duration": 7,
    "start_time": "2022-12-14T19:22:25.505Z"
   },
   {
    "duration": 20574,
    "start_time": "2022-12-14T19:22:25.515Z"
   },
   {
    "duration": 4,
    "start_time": "2022-12-14T19:23:07.763Z"
   },
   {
    "duration": 45,
    "start_time": "2022-12-14T19:23:07.979Z"
   },
   {
    "duration": 21,
    "start_time": "2022-12-14T19:23:08.203Z"
   },
   {
    "duration": 15,
    "start_time": "2022-12-14T19:23:08.435Z"
   },
   {
    "duration": 12,
    "start_time": "2022-12-14T19:23:08.739Z"
   },
   {
    "duration": 11,
    "start_time": "2022-12-14T19:23:09.146Z"
   },
   {
    "duration": 308,
    "start_time": "2022-12-14T19:23:10.179Z"
   },
   {
    "duration": 4773,
    "start_time": "2022-12-14T19:23:10.642Z"
   },
   {
    "duration": 102,
    "start_time": "2022-12-14T19:23:15.417Z"
   },
   {
    "duration": 12485,
    "start_time": "2022-12-14T19:23:15.525Z"
   },
   {
    "duration": 1401,
    "start_time": "2022-12-14T21:25:53.443Z"
   },
   {
    "duration": 49,
    "start_time": "2022-12-14T21:25:54.846Z"
   },
   {
    "duration": 11,
    "start_time": "2022-12-14T21:25:54.897Z"
   },
   {
    "duration": 15,
    "start_time": "2022-12-14T21:25:54.910Z"
   },
   {
    "duration": 16,
    "start_time": "2022-12-14T21:25:54.926Z"
   },
   {
    "duration": 10,
    "start_time": "2022-12-14T21:25:54.943Z"
   },
   {
    "duration": 462,
    "start_time": "2022-12-14T21:25:54.955Z"
   },
   {
    "duration": 2386,
    "start_time": "2022-12-14T21:25:55.419Z"
   },
   {
    "duration": 93,
    "start_time": "2022-12-14T21:25:57.812Z"
   },
   {
    "duration": 11868,
    "start_time": "2022-12-14T21:25:57.907Z"
   },
   {
    "duration": 37,
    "start_time": "2022-12-14T21:26:09.777Z"
   },
   {
    "duration": 9,
    "start_time": "2022-12-14T21:26:09.815Z"
   },
   {
    "duration": 6,
    "start_time": "2022-12-14T21:26:09.826Z"
   },
   {
    "duration": 21775,
    "start_time": "2022-12-14T21:26:09.833Z"
   },
   {
    "duration": 2,
    "start_time": "2022-12-14T21:26:31.610Z"
   },
   {
    "duration": 392296,
    "start_time": "2022-12-14T21:26:31.613Z"
   },
   {
    "duration": 2,
    "start_time": "2022-12-14T21:33:03.911Z"
   },
   {
    "duration": 600,
    "start_time": "2022-12-14T21:33:03.915Z"
   },
   {
    "duration": 24820,
    "start_time": "2022-12-14T21:33:04.606Z"
   },
   {
    "duration": 3,
    "start_time": "2022-12-14T21:33:29.427Z"
   },
   {
    "duration": 18582,
    "start_time": "2022-12-14T21:33:29.431Z"
   },
   {
    "duration": 2,
    "start_time": "2022-12-14T21:33:48.015Z"
   },
   {
    "duration": 786,
    "start_time": "2022-12-14T21:33:48.019Z"
   },
   {
    "duration": 5,
    "start_time": "2022-12-14T21:33:48.806Z"
   },
   {
    "duration": 2031,
    "start_time": "2022-12-15T21:25:09.551Z"
   },
   {
    "duration": 128,
    "start_time": "2022-12-15T21:25:11.585Z"
   },
   {
    "duration": 11,
    "start_time": "2022-12-15T21:25:11.714Z"
   },
   {
    "duration": 15,
    "start_time": "2022-12-15T21:25:11.727Z"
   },
   {
    "duration": 21,
    "start_time": "2022-12-15T21:25:11.744Z"
   },
   {
    "duration": 20,
    "start_time": "2022-12-15T21:25:11.766Z"
   },
   {
    "duration": 455,
    "start_time": "2022-12-15T21:25:11.881Z"
   },
   {
    "duration": 9726,
    "start_time": "2022-12-15T21:25:13.653Z"
   },
   {
    "duration": 4,
    "start_time": "2022-12-15T21:25:43.332Z"
   },
   {
    "duration": 2031,
    "start_time": "2022-12-17T11:20:46.530Z"
   },
   {
    "duration": 104,
    "start_time": "2022-12-17T11:20:57.239Z"
   },
   {
    "duration": 20,
    "start_time": "2022-12-17T11:21:06.693Z"
   },
   {
    "duration": 16,
    "start_time": "2022-12-17T11:21:09.428Z"
   },
   {
    "duration": 15,
    "start_time": "2022-12-17T11:21:10.029Z"
   },
   {
    "duration": 12,
    "start_time": "2022-12-17T11:21:10.268Z"
   },
   {
    "duration": 486,
    "start_time": "2022-12-17T11:21:12.365Z"
   },
   {
    "duration": 198,
    "start_time": "2022-12-17T11:21:12.854Z"
   },
   {
    "duration": 242,
    "start_time": "2022-12-17T11:21:13.129Z"
   },
   {
    "duration": 4337,
    "start_time": "2022-12-17T11:21:17.989Z"
   },
   {
    "duration": 289,
    "start_time": "2022-12-17T11:21:29.557Z"
   },
   {
    "duration": 190,
    "start_time": "2022-12-17T11:21:30.428Z"
   },
   {
    "duration": 277,
    "start_time": "2022-12-17T11:21:32.323Z"
   },
   {
    "duration": 6,
    "start_time": "2022-12-17T11:21:35.732Z"
   },
   {
    "duration": 33589,
    "start_time": "2022-12-17T11:21:40.957Z"
   },
   {
    "duration": 23,
    "start_time": "2022-12-17T11:22:24.046Z"
   },
   {
    "duration": 16,
    "start_time": "2022-12-17T11:22:29.328Z"
   },
   {
    "duration": 7,
    "start_time": "2022-12-17T11:22:29.982Z"
   },
   {
    "duration": 12907,
    "start_time": "2022-12-17T11:22:54.590Z"
   },
   {
    "duration": 6,
    "start_time": "2022-12-17T11:23:07.499Z"
   },
   {
    "duration": 195634,
    "start_time": "2022-12-17T11:23:07.508Z"
   },
   {
    "duration": 3,
    "start_time": "2022-12-17T11:26:23.147Z"
   },
   {
    "duration": 39,
    "start_time": "2022-12-17T11:26:23.152Z"
   },
   {
    "duration": 459348,
    "start_time": "2022-12-17T11:29:09.949Z"
   },
   {
    "duration": 7,
    "start_time": "2022-12-17T11:36:49.301Z"
   },
   {
    "duration": 4921316,
    "start_time": "2022-12-17T11:43:18.989Z"
   },
   {
    "duration": 16,
    "start_time": "2022-12-17T13:05:20.307Z"
   },
   {
    "duration": 1681676,
    "start_time": "2022-12-17T13:05:31.236Z"
   },
   {
    "duration": 3,
    "start_time": "2022-12-17T13:33:32.914Z"
   },
   {
    "duration": 19,
    "start_time": "2022-12-17T13:43:08.474Z"
   },
   {
    "duration": 19241,
    "start_time": "2022-12-17T13:44:23.876Z"
   },
   {
    "duration": 9532,
    "start_time": "2022-12-17T13:46:15.126Z"
   },
   {
    "duration": 292822,
    "start_time": "2022-12-17T13:47:55.904Z"
   },
   {
    "duration": 3,
    "start_time": "2022-12-17T13:52:48.729Z"
   },
   {
    "duration": 6802,
    "start_time": "2022-12-17T13:52:48.734Z"
   },
   {
    "duration": 44456,
    "start_time": "2022-12-17T13:57:03.171Z"
   },
   {
    "duration": 3,
    "start_time": "2022-12-17T13:57:47.631Z"
   },
   {
    "duration": 3,
    "start_time": "2022-12-17T13:57:58.906Z"
   },
   {
    "duration": 4140,
    "start_time": "2022-12-17T13:58:07.979Z"
   },
   {
    "duration": 207107,
    "start_time": "2022-12-17T13:59:33.028Z"
   },
   {
    "duration": 3,
    "start_time": "2022-12-17T14:03:05.697Z"
   },
   {
    "duration": 12251,
    "start_time": "2022-12-17T14:03:11.072Z"
   },
   {
    "duration": 5,
    "start_time": "2022-12-17T14:04:04.138Z"
   },
   {
    "duration": 7,
    "start_time": "2022-12-17T14:07:33.231Z"
   },
   {
    "duration": 4,
    "start_time": "2022-12-17T14:08:14.534Z"
   },
   {
    "duration": 7,
    "start_time": "2022-12-17T14:08:38.848Z"
   },
   {
    "duration": 18,
    "start_time": "2022-12-17T14:11:08.132Z"
   },
   {
    "duration": 9,
    "start_time": "2022-12-17T14:14:33.936Z"
   },
   {
    "duration": 242,
    "start_time": "2022-12-17T14:16:26.996Z"
   },
   {
    "duration": 13,
    "start_time": "2022-12-17T14:17:42.347Z"
   },
   {
    "duration": 13,
    "start_time": "2022-12-17T14:18:09.492Z"
   },
   {
    "duration": 9,
    "start_time": "2022-12-17T14:18:23.964Z"
   },
   {
    "duration": 6,
    "start_time": "2022-12-17T14:18:54.245Z"
   },
   {
    "duration": 6,
    "start_time": "2022-12-17T14:20:56.658Z"
   },
   {
    "duration": 5,
    "start_time": "2022-12-17T14:21:06.904Z"
   },
   {
    "duration": 16,
    "start_time": "2022-12-17T14:21:36.323Z"
   },
   {
    "duration": 7,
    "start_time": "2022-12-17T14:21:46.097Z"
   },
   {
    "duration": 4,
    "start_time": "2022-12-17T14:22:12.185Z"
   },
   {
    "duration": 16,
    "start_time": "2022-12-17T14:23:32.082Z"
   },
   {
    "duration": 4,
    "start_time": "2022-12-17T14:25:04.108Z"
   },
   {
    "duration": 4,
    "start_time": "2022-12-17T14:25:08.580Z"
   },
   {
    "duration": 5,
    "start_time": "2022-12-17T14:25:23.124Z"
   },
   {
    "duration": 4,
    "start_time": "2022-12-17T14:25:34.629Z"
   },
   {
    "duration": 14,
    "start_time": "2022-12-17T14:26:11.477Z"
   },
   {
    "duration": 321,
    "start_time": "2022-12-17T14:37:38.299Z"
   },
   {
    "duration": 6,
    "start_time": "2022-12-17T14:39:48.972Z"
   },
   {
    "duration": 4,
    "start_time": "2022-12-17T14:40:05.927Z"
   },
   {
    "duration": 258,
    "start_time": "2022-12-17T14:40:55.542Z"
   },
   {
    "duration": 271,
    "start_time": "2022-12-17T14:41:17.773Z"
   },
   {
    "duration": 248,
    "start_time": "2022-12-17T14:41:25.374Z"
   },
   {
    "duration": 263,
    "start_time": "2022-12-17T14:41:33.342Z"
   },
   {
    "duration": 49,
    "start_time": "2022-12-17T14:45:26.074Z"
   },
   {
    "duration": 1561,
    "start_time": "2022-12-17T14:48:37.675Z"
   },
   {
    "duration": 90,
    "start_time": "2022-12-17T14:48:39.239Z"
   },
   {
    "duration": 14,
    "start_time": "2022-12-17T14:48:39.331Z"
   },
   {
    "duration": 16,
    "start_time": "2022-12-17T14:48:39.349Z"
   },
   {
    "duration": 16,
    "start_time": "2022-12-17T14:48:39.367Z"
   },
   {
    "duration": 9,
    "start_time": "2022-12-17T14:48:39.385Z"
   },
   {
    "duration": 444,
    "start_time": "2022-12-17T14:48:39.412Z"
   },
   {
    "duration": 182,
    "start_time": "2022-12-17T14:48:39.857Z"
   },
   {
    "duration": 229,
    "start_time": "2022-12-17T14:48:40.041Z"
   },
   {
    "duration": 1845,
    "start_time": "2022-12-17T14:48:40.273Z"
   },
   {
    "duration": 422,
    "start_time": "2022-12-17T14:48:42.120Z"
   },
   {
    "duration": 178,
    "start_time": "2022-12-17T14:48:42.543Z"
   },
   {
    "duration": 254,
    "start_time": "2022-12-17T14:48:42.723Z"
   },
   {
    "duration": 4,
    "start_time": "2022-12-17T14:48:42.980Z"
   },
   {
    "duration": 29928,
    "start_time": "2022-12-17T14:48:42.986Z"
   },
   {
    "duration": 16,
    "start_time": "2022-12-17T14:49:12.916Z"
   },
   {
    "duration": 8,
    "start_time": "2022-12-17T14:49:12.934Z"
   },
   {
    "duration": 6,
    "start_time": "2022-12-17T14:49:12.944Z"
   },
   {
    "duration": 10794,
    "start_time": "2022-12-17T14:49:12.952Z"
   },
   {
    "duration": 3,
    "start_time": "2022-12-17T14:49:23.748Z"
   },
   {
    "duration": 173471,
    "start_time": "2022-12-17T14:49:23.753Z"
   },
   {
    "duration": 2,
    "start_time": "2022-12-17T14:52:17.226Z"
   },
   {
    "duration": 44,
    "start_time": "2022-12-17T14:52:17.230Z"
   },
   {
    "duration": 287106,
    "start_time": "2022-12-17T14:52:17.276Z"
   },
   {
    "duration": 2,
    "start_time": "2022-12-17T14:57:04.384Z"
   },
   {
    "duration": 26933,
    "start_time": "2022-12-17T14:57:04.387Z"
   },
   {
    "duration": 3,
    "start_time": "2022-12-17T14:57:31.321Z"
   },
   {
    "duration": 485,
    "start_time": "2022-12-17T14:57:31.327Z"
   },
   {
    "duration": 281,
    "start_time": "2022-12-17T14:57:31.814Z"
   },
   {
    "duration": 5,
    "start_time": "2022-12-17T14:57:32.097Z"
   },
   {
    "duration": 9,
    "start_time": "2022-12-17T14:59:16.345Z"
   },
   {
    "duration": 8,
    "start_time": "2022-12-17T15:00:31.817Z"
   },
   {
    "duration": 293,
    "start_time": "2022-12-17T15:01:13.203Z"
   },
   {
    "duration": 1470,
    "start_time": "2022-12-17T15:03:32.933Z"
   },
   {
    "duration": 52,
    "start_time": "2022-12-17T15:03:34.404Z"
   },
   {
    "duration": 13,
    "start_time": "2022-12-17T15:03:34.457Z"
   },
   {
    "duration": 17,
    "start_time": "2022-12-17T15:03:34.472Z"
   },
   {
    "duration": 14,
    "start_time": "2022-12-17T15:03:34.491Z"
   },
   {
    "duration": 10,
    "start_time": "2022-12-17T15:03:34.507Z"
   },
   {
    "duration": 493,
    "start_time": "2022-12-17T15:03:34.519Z"
   },
   {
    "duration": 204,
    "start_time": "2022-12-17T15:03:35.014Z"
   },
   {
    "duration": 224,
    "start_time": "2022-12-17T15:03:35.220Z"
   },
   {
    "duration": 1771,
    "start_time": "2022-12-17T15:03:35.446Z"
   },
   {
    "duration": 428,
    "start_time": "2022-12-17T15:03:37.219Z"
   },
   {
    "duration": 188,
    "start_time": "2022-12-17T15:03:37.649Z"
   },
   {
    "duration": 251,
    "start_time": "2022-12-17T15:03:37.839Z"
   },
   {
    "duration": 5,
    "start_time": "2022-12-17T15:03:38.092Z"
   },
   {
    "duration": 91581,
    "start_time": "2022-12-17T15:03:38.099Z"
   },
   {
    "duration": 17,
    "start_time": "2022-12-17T15:05:09.682Z"
   },
   {
    "duration": 8,
    "start_time": "2022-12-17T15:05:09.712Z"
   },
   {
    "duration": 8,
    "start_time": "2022-12-17T15:05:09.722Z"
   },
   {
    "duration": 11685,
    "start_time": "2022-12-17T15:05:09.732Z"
   },
   {
    "duration": 3,
    "start_time": "2022-12-17T15:05:21.418Z"
   },
   {
    "duration": 172935,
    "start_time": "2022-12-17T15:05:21.423Z"
   },
   {
    "duration": 3,
    "start_time": "2022-12-17T15:08:14.360Z"
   },
   {
    "duration": 48,
    "start_time": "2022-12-17T15:08:14.365Z"
   },
   {
    "duration": 292298,
    "start_time": "2022-12-17T15:08:14.414Z"
   },
   {
    "duration": 4,
    "start_time": "2022-12-17T15:13:06.715Z"
   },
   {
    "duration": 212802,
    "start_time": "2022-12-17T15:13:06.721Z"
   },
   {
    "duration": 4,
    "start_time": "2022-12-17T15:16:39.525Z"
   },
   {
    "duration": 4391,
    "start_time": "2022-12-17T15:16:39.534Z"
   },
   {
    "duration": 450,
    "start_time": "2022-12-17T15:16:43.928Z"
   },
   {
    "duration": 5,
    "start_time": "2022-12-17T15:16:44.380Z"
   },
   {
    "duration": 419,
    "start_time": "2022-12-17T15:18:54.598Z"
   },
   {
    "duration": 49,
    "start_time": "2022-12-17T15:22:50.234Z"
   },
   {
    "duration": 5,
    "start_time": "2022-12-17T15:23:24.736Z"
   },
   {
    "duration": 1502,
    "start_time": "2022-12-17T15:39:55.566Z"
   },
   {
    "duration": 50,
    "start_time": "2022-12-17T15:39:57.071Z"
   },
   {
    "duration": 12,
    "start_time": "2022-12-17T15:39:57.123Z"
   },
   {
    "duration": 15,
    "start_time": "2022-12-17T15:39:57.137Z"
   },
   {
    "duration": 15,
    "start_time": "2022-12-17T15:39:57.153Z"
   },
   {
    "duration": 9,
    "start_time": "2022-12-17T15:39:57.170Z"
   },
   {
    "duration": 482,
    "start_time": "2022-12-17T15:39:57.181Z"
   },
   {
    "duration": 176,
    "start_time": "2022-12-17T15:39:57.665Z"
   },
   {
    "duration": 224,
    "start_time": "2022-12-17T15:39:57.843Z"
   },
   {
    "duration": 4155,
    "start_time": "2022-12-17T15:39:58.069Z"
   },
   {
    "duration": 326,
    "start_time": "2022-12-17T15:40:02.316Z"
   },
   {
    "duration": 178,
    "start_time": "2022-12-17T15:40:02.644Z"
   },
   {
    "duration": 285,
    "start_time": "2022-12-17T15:40:02.824Z"
   },
   {
    "duration": 4,
    "start_time": "2022-12-17T15:40:03.112Z"
   },
   {
    "duration": 31075,
    "start_time": "2022-12-17T15:40:03.118Z"
   },
   {
    "duration": 34,
    "start_time": "2022-12-17T15:40:34.197Z"
   },
   {
    "duration": 23,
    "start_time": "2022-12-17T15:40:34.233Z"
   },
   {
    "duration": 22,
    "start_time": "2022-12-17T15:40:34.258Z"
   },
   {
    "duration": 11632,
    "start_time": "2022-12-17T15:40:34.282Z"
   },
   {
    "duration": 2,
    "start_time": "2022-12-17T15:40:45.916Z"
   },
   {
    "duration": 179141,
    "start_time": "2022-12-17T15:40:45.920Z"
   },
   {
    "duration": 2,
    "start_time": "2022-12-17T15:43:45.063Z"
   },
   {
    "duration": 29,
    "start_time": "2022-12-17T15:43:45.067Z"
   },
   {
    "duration": 276118,
    "start_time": "2022-12-17T15:43:45.115Z"
   },
   {
    "duration": 3,
    "start_time": "2022-12-17T15:48:21.235Z"
   },
   {
    "duration": 639782,
    "start_time": "2022-12-17T15:48:21.239Z"
   },
   {
    "duration": 5,
    "start_time": "2022-12-17T15:59:01.023Z"
   },
   {
    "duration": 6187,
    "start_time": "2022-12-17T15:59:01.031Z"
   },
   {
    "duration": 412,
    "start_time": "2022-12-17T15:59:07.219Z"
   },
   {
    "duration": 6,
    "start_time": "2022-12-17T15:59:07.633Z"
   },
   {
    "duration": 1887,
    "start_time": "2022-12-18T15:37:04.506Z"
   },
   {
    "duration": 102,
    "start_time": "2022-12-18T15:37:06.395Z"
   },
   {
    "duration": 11,
    "start_time": "2022-12-18T15:37:06.499Z"
   },
   {
    "duration": 21,
    "start_time": "2022-12-18T15:37:06.512Z"
   },
   {
    "duration": 19,
    "start_time": "2022-12-18T15:37:06.535Z"
   },
   {
    "duration": 11,
    "start_time": "2022-12-18T15:37:06.556Z"
   },
   {
    "duration": 449,
    "start_time": "2022-12-18T15:37:06.596Z"
   },
   {
    "duration": 176,
    "start_time": "2022-12-18T15:37:07.047Z"
   },
   {
    "duration": 221,
    "start_time": "2022-12-18T15:37:07.225Z"
   },
   {
    "duration": 1749,
    "start_time": "2022-12-18T15:37:07.449Z"
   },
   {
    "duration": 329,
    "start_time": "2022-12-18T15:37:09.201Z"
   },
   {
    "duration": 176,
    "start_time": "2022-12-18T15:37:09.531Z"
   },
   {
    "duration": 251,
    "start_time": "2022-12-18T15:37:09.709Z"
   },
   {
    "duration": 4,
    "start_time": "2022-12-18T15:37:09.963Z"
   },
   {
    "duration": 28028,
    "start_time": "2022-12-18T15:37:09.969Z"
   },
   {
    "duration": 14,
    "start_time": "2022-12-18T15:37:37.999Z"
   },
   {
    "duration": 9,
    "start_time": "2022-12-18T15:37:38.015Z"
   },
   {
    "duration": 6,
    "start_time": "2022-12-18T15:37:38.025Z"
   },
   {
    "duration": 10174,
    "start_time": "2022-12-18T15:37:38.032Z"
   },
   {
    "duration": 2,
    "start_time": "2022-12-18T15:37:48.208Z"
   },
   {
    "duration": 101924,
    "start_time": "2022-12-18T15:37:48.212Z"
   },
   {
    "duration": 0,
    "start_time": "2022-12-18T15:39:30.138Z"
   },
   {
    "duration": 0,
    "start_time": "2022-12-18T15:39:30.139Z"
   },
   {
    "duration": 0,
    "start_time": "2022-12-18T15:39:30.140Z"
   },
   {
    "duration": 1,
    "start_time": "2022-12-18T15:39:30.141Z"
   },
   {
    "duration": 0,
    "start_time": "2022-12-18T15:39:30.142Z"
   },
   {
    "duration": 0,
    "start_time": "2022-12-18T15:39:30.144Z"
   },
   {
    "duration": 0,
    "start_time": "2022-12-18T15:39:30.145Z"
   },
   {
    "duration": 0,
    "start_time": "2022-12-18T15:39:30.147Z"
   },
   {
    "duration": 0,
    "start_time": "2022-12-18T15:39:30.148Z"
   },
   {
    "duration": 71159,
    "start_time": "2022-12-18T15:40:20.272Z"
   },
   {
    "duration": 2,
    "start_time": "2022-12-18T15:41:31.433Z"
   },
   {
    "duration": 50,
    "start_time": "2022-12-18T15:41:31.436Z"
   },
   {
    "duration": 116327,
    "start_time": "2022-12-18T15:41:31.488Z"
   },
   {
    "duration": 2,
    "start_time": "2022-12-18T15:43:27.818Z"
   },
   {
    "duration": 3449887,
    "start_time": "2022-12-18T15:43:27.821Z"
   },
   {
    "duration": 2,
    "start_time": "2022-12-18T16:40:57.709Z"
   },
   {
    "duration": 491,
    "start_time": "2022-12-18T16:40:57.713Z"
   },
   {
    "duration": 316,
    "start_time": "2022-12-18T16:40:58.206Z"
   },
   {
    "duration": 4,
    "start_time": "2022-12-18T16:40:58.524Z"
   },
   {
    "duration": 1666,
    "start_time": "2022-12-18T17:20:42.967Z"
   },
   {
    "duration": 105,
    "start_time": "2022-12-18T17:20:44.636Z"
   },
   {
    "duration": 16,
    "start_time": "2022-12-18T17:20:44.744Z"
   },
   {
    "duration": 18,
    "start_time": "2022-12-18T17:20:44.762Z"
   },
   {
    "duration": 14,
    "start_time": "2022-12-18T17:20:44.782Z"
   },
   {
    "duration": 9,
    "start_time": "2022-12-18T17:20:44.798Z"
   },
   {
    "duration": 442,
    "start_time": "2022-12-18T17:20:44.809Z"
   },
   {
    "duration": 190,
    "start_time": "2022-12-18T17:20:45.252Z"
   },
   {
    "duration": 225,
    "start_time": "2022-12-18T17:20:45.444Z"
   },
   {
    "duration": 1883,
    "start_time": "2022-12-18T17:20:45.673Z"
   },
   {
    "duration": 329,
    "start_time": "2022-12-18T17:20:47.558Z"
   },
   {
    "duration": 180,
    "start_time": "2022-12-18T17:20:47.889Z"
   },
   {
    "duration": 262,
    "start_time": "2022-12-18T17:20:48.071Z"
   },
   {
    "duration": 4,
    "start_time": "2022-12-18T17:20:48.335Z"
   },
   {
    "duration": 30524,
    "start_time": "2022-12-18T17:20:48.341Z"
   },
   {
    "duration": 31,
    "start_time": "2022-12-18T17:21:18.868Z"
   },
   {
    "duration": 9,
    "start_time": "2022-12-18T17:21:18.901Z"
   },
   {
    "duration": 11,
    "start_time": "2022-12-18T17:21:18.912Z"
   },
   {
    "duration": 22615,
    "start_time": "2022-12-18T17:21:18.924Z"
   },
   {
    "duration": 2,
    "start_time": "2022-12-18T17:21:41.542Z"
   },
   {
    "duration": 173403,
    "start_time": "2022-12-18T17:21:41.555Z"
   },
   {
    "duration": 3,
    "start_time": "2022-12-18T17:24:34.960Z"
   },
   {
    "duration": 397,
    "start_time": "2022-12-18T17:24:34.964Z"
   },
   {
    "duration": 369609,
    "start_time": "2022-12-18T17:24:35.363Z"
   },
   {
    "duration": 2,
    "start_time": "2022-12-18T17:30:44.975Z"
   },
   {
    "duration": 5699311,
    "start_time": "2022-12-18T17:30:44.979Z"
   },
   {
    "duration": 3,
    "start_time": "2022-12-18T19:05:44.291Z"
   },
   {
    "duration": 188698,
    "start_time": "2022-12-18T19:05:44.298Z"
   },
   {
    "duration": 337,
    "start_time": "2022-12-18T19:08:53.002Z"
   },
   {
    "duration": 25,
    "start_time": "2022-12-18T19:08:53.341Z"
   },
   {
    "duration": 1634,
    "start_time": "2022-12-18T20:12:39.449Z"
   },
   {
    "duration": 51,
    "start_time": "2022-12-18T20:12:41.092Z"
   },
   {
    "duration": 14,
    "start_time": "2022-12-18T20:12:41.145Z"
   },
   {
    "duration": 52,
    "start_time": "2022-12-18T20:12:41.161Z"
   },
   {
    "duration": 22,
    "start_time": "2022-12-18T20:12:41.214Z"
   },
   {
    "duration": 10,
    "start_time": "2022-12-18T20:12:41.238Z"
   },
   {
    "duration": 569,
    "start_time": "2022-12-18T20:12:41.249Z"
   },
   {
    "duration": 208,
    "start_time": "2022-12-18T20:12:41.821Z"
   },
   {
    "duration": 282,
    "start_time": "2022-12-18T20:12:42.033Z"
   },
   {
    "duration": 7638,
    "start_time": "2022-12-18T20:12:42.319Z"
   },
   {
    "duration": 428,
    "start_time": "2022-12-18T20:12:49.988Z"
   },
   {
    "duration": 295,
    "start_time": "2022-12-18T20:12:50.420Z"
   },
   {
    "duration": 291,
    "start_time": "2022-12-18T20:12:50.717Z"
   },
   {
    "duration": 4,
    "start_time": "2022-12-18T20:12:51.010Z"
   },
   {
    "duration": 35169,
    "start_time": "2022-12-18T20:12:51.016Z"
   },
   {
    "duration": 42,
    "start_time": "2022-12-18T20:13:26.187Z"
   },
   {
    "duration": 10,
    "start_time": "2022-12-18T20:13:26.230Z"
   },
   {
    "duration": 22,
    "start_time": "2022-12-18T20:13:26.258Z"
   },
   {
    "duration": 29813,
    "start_time": "2022-12-18T20:13:26.288Z"
   },
   {
    "duration": 3,
    "start_time": "2022-12-18T20:13:56.105Z"
   },
   {
    "duration": 216000,
    "start_time": "2022-12-18T20:13:56.110Z"
   },
   {
    "duration": 3,
    "start_time": "2022-12-18T20:17:32.112Z"
   },
   {
    "duration": 483,
    "start_time": "2022-12-18T20:17:32.117Z"
   },
   {
    "duration": 550573,
    "start_time": "2022-12-18T20:17:32.663Z"
   },
   {
    "duration": 3,
    "start_time": "2022-12-18T20:26:43.238Z"
   },
   {
    "duration": 5649016,
    "start_time": "2022-12-18T20:26:43.243Z"
   },
   {
    "duration": 8,
    "start_time": "2022-12-18T22:00:52.261Z"
   },
   {
    "duration": 176606,
    "start_time": "2022-12-18T22:00:52.271Z"
   },
   {
    "duration": 351,
    "start_time": "2022-12-18T22:03:48.879Z"
   },
   {
    "duration": 5,
    "start_time": "2022-12-18T22:03:49.232Z"
   },
   {
    "duration": 68,
    "start_time": "2022-12-18T22:08:34.743Z"
   },
   {
    "duration": 4,
    "start_time": "2022-12-18T22:09:57.000Z"
   },
   {
    "duration": 47,
    "start_time": "2022-12-18T22:09:57.464Z"
   },
   {
    "duration": 13,
    "start_time": "2022-12-18T22:09:57.640Z"
   },
   {
    "duration": 14,
    "start_time": "2022-12-18T22:09:58.417Z"
   },
   {
    "duration": 10,
    "start_time": "2022-12-18T22:09:58.817Z"
   },
   {
    "duration": 11,
    "start_time": "2022-12-18T22:09:59.041Z"
   },
   {
    "duration": 317,
    "start_time": "2022-12-18T22:09:59.979Z"
   },
   {
    "duration": 221,
    "start_time": "2022-12-18T22:10:00.298Z"
   },
   {
    "duration": 235,
    "start_time": "2022-12-18T22:10:00.944Z"
   },
   {
    "duration": 3717,
    "start_time": "2022-12-18T22:10:03.944Z"
   },
   {
    "duration": 247,
    "start_time": "2022-12-18T22:10:09.974Z"
   },
   {
    "duration": 177,
    "start_time": "2022-12-18T22:10:10.571Z"
   },
   {
    "duration": 277,
    "start_time": "2022-12-18T22:10:11.304Z"
   },
   {
    "duration": 4,
    "start_time": "2022-12-18T22:10:13.442Z"
   },
   {
    "duration": 46,
    "start_time": "2022-12-18T22:10:21.090Z"
   },
   {
    "duration": 50,
    "start_time": "2022-12-18T22:10:56.201Z"
   },
   {
    "duration": 52,
    "start_time": "2022-12-18T22:12:02.462Z"
   },
   {
    "duration": 55,
    "start_time": "2022-12-18T22:12:48.587Z"
   },
   {
    "duration": 172,
    "start_time": "2022-12-18T22:12:59.635Z"
   },
   {
    "duration": 1601,
    "start_time": "2022-12-18T22:24:24.432Z"
   },
   {
    "duration": 63,
    "start_time": "2022-12-18T22:24:26.036Z"
   },
   {
    "duration": 13,
    "start_time": "2022-12-18T22:24:26.101Z"
   },
   {
    "duration": 27,
    "start_time": "2022-12-18T22:24:26.116Z"
   },
   {
    "duration": 22,
    "start_time": "2022-12-18T22:24:26.145Z"
   },
   {
    "duration": 11,
    "start_time": "2022-12-18T22:24:26.171Z"
   },
   {
    "duration": 502,
    "start_time": "2022-12-18T22:24:26.184Z"
   },
   {
    "duration": 196,
    "start_time": "2022-12-18T22:24:26.688Z"
   },
   {
    "duration": 262,
    "start_time": "2022-12-18T22:24:26.886Z"
   },
   {
    "duration": 4705,
    "start_time": "2022-12-18T22:24:27.156Z"
   },
   {
    "duration": 346,
    "start_time": "2022-12-18T22:24:31.863Z"
   },
   {
    "duration": 186,
    "start_time": "2022-12-18T22:24:32.211Z"
   },
   {
    "duration": 285,
    "start_time": "2022-12-18T22:24:32.399Z"
   },
   {
    "duration": 5,
    "start_time": "2022-12-18T22:24:32.686Z"
   },
   {
    "duration": 204,
    "start_time": "2022-12-18T22:24:32.692Z"
   },
   {
    "duration": 44,
    "start_time": "2022-12-18T22:24:32.899Z"
   },
   {
    "duration": 17,
    "start_time": "2022-12-18T22:24:32.956Z"
   },
   {
    "duration": 18,
    "start_time": "2022-12-18T22:24:32.975Z"
   },
   {
    "duration": 29400,
    "start_time": "2022-12-18T22:24:32.995Z"
   },
   {
    "duration": 2,
    "start_time": "2022-12-18T22:25:02.397Z"
   },
   {
    "duration": 221386,
    "start_time": "2022-12-18T22:25:02.401Z"
   },
   {
    "duration": 3,
    "start_time": "2022-12-18T22:28:43.789Z"
   },
   {
    "duration": 364,
    "start_time": "2022-12-18T22:28:43.794Z"
   },
   {
    "duration": 509208,
    "start_time": "2022-12-18T22:28:44.162Z"
   },
   {
    "duration": 5,
    "start_time": "2022-12-18T22:37:13.372Z"
   },
   {
    "duration": 199964,
    "start_time": "2022-12-18T22:37:13.379Z"
   },
   {
    "duration": 10,
    "start_time": "2022-12-18T22:40:33.344Z"
   },
   {
    "duration": 0,
    "start_time": "2022-12-18T22:40:33.361Z"
   },
   {
    "duration": 0,
    "start_time": "2022-12-18T22:40:33.362Z"
   },
   {
    "duration": 0,
    "start_time": "2022-12-18T22:40:33.363Z"
   },
   {
    "duration": 1408,
    "start_time": "2022-12-18T22:40:41.697Z"
   },
   {
    "duration": 66,
    "start_time": "2022-12-18T22:40:43.108Z"
   },
   {
    "duration": 14,
    "start_time": "2022-12-18T22:40:43.176Z"
   },
   {
    "duration": 19,
    "start_time": "2022-12-18T22:40:43.192Z"
   },
   {
    "duration": 14,
    "start_time": "2022-12-18T22:40:43.212Z"
   },
   {
    "duration": 45,
    "start_time": "2022-12-18T22:40:43.228Z"
   },
   {
    "duration": 501,
    "start_time": "2022-12-18T22:40:43.275Z"
   },
   {
    "duration": 198,
    "start_time": "2022-12-18T22:40:43.778Z"
   },
   {
    "duration": 222,
    "start_time": "2022-12-18T22:40:43.977Z"
   },
   {
    "duration": 4780,
    "start_time": "2022-12-18T22:40:44.202Z"
   },
   {
    "duration": 333,
    "start_time": "2022-12-18T22:40:49.066Z"
   },
   {
    "duration": 190,
    "start_time": "2022-12-18T22:40:49.401Z"
   },
   {
    "duration": 275,
    "start_time": "2022-12-18T22:40:49.593Z"
   },
   {
    "duration": 5,
    "start_time": "2022-12-18T22:40:49.873Z"
   },
   {
    "duration": 162,
    "start_time": "2022-12-18T22:40:49.880Z"
   },
   {
    "duration": 41,
    "start_time": "2022-12-18T22:40:50.043Z"
   },
   {
    "duration": 10,
    "start_time": "2022-12-18T22:40:50.086Z"
   },
   {
    "duration": 7,
    "start_time": "2022-12-18T22:40:50.098Z"
   },
   {
    "duration": 25147,
    "start_time": "2022-12-18T22:40:50.106Z"
   },
   {
    "duration": 7,
    "start_time": "2022-12-18T22:41:15.255Z"
   },
   {
    "duration": 193676,
    "start_time": "2022-12-18T22:41:15.265Z"
   },
   {
    "duration": 3,
    "start_time": "2022-12-18T22:44:28.943Z"
   },
   {
    "duration": 211,
    "start_time": "2022-12-18T22:44:28.948Z"
   },
   {
    "duration": 460132,
    "start_time": "2022-12-18T22:44:29.165Z"
   },
   {
    "duration": 3,
    "start_time": "2022-12-18T22:52:09.299Z"
   },
   {
    "duration": 5449255,
    "start_time": "2022-12-18T22:52:09.303Z"
   },
   {
    "duration": 3,
    "start_time": "2022-12-19T00:22:58.560Z"
   },
   {
    "duration": 149715,
    "start_time": "2022-12-19T00:22:58.567Z"
   },
   {
    "duration": 366,
    "start_time": "2022-12-19T00:25:28.283Z"
   },
   {
    "duration": 16,
    "start_time": "2022-12-19T00:25:28.651Z"
   }
  ],
  "kernelspec": {
   "display_name": "Python 3 (ipykernel)",
   "language": "python",
   "name": "python3"
  },
  "language_info": {
   "codemirror_mode": {
    "name": "ipython",
    "version": 3
   },
   "file_extension": ".py",
   "mimetype": "text/x-python",
   "name": "python",
   "nbconvert_exporter": "python",
   "pygments_lexer": "ipython3",
   "version": "3.9.12"
  },
  "toc": {
   "base_numbering": 1,
   "nav_menu": {},
   "number_sections": true,
   "sideBar": true,
   "skip_h1_title": true,
   "title_cell": "Содержание",
   "title_sidebar": "Contents",
   "toc_cell": true,
   "toc_position": {},
   "toc_section_display": true,
   "toc_window_display": true
  }
 },
 "nbformat": 4,
 "nbformat_minor": 2
}
