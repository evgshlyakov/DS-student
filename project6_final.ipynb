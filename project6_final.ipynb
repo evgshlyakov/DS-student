{
 "cells": [
  {
   "cell_type": "markdown",
   "metadata": {},
   "source": [
    "<div style=\"border:solid blue 2px; padding: 20px\">\n",
    "<b>Привет, Евгений!👋</b>\n",
    "\n",
    "Меня зовут Арсений Казанцев, и я буду ревьюером твоего проекта. Если не против, то давай общаться на «ты» :) Но мы легко можем перейти на «вы», если тебе так будет комфортнее. \n",
    "\n",
    "Моя основная цель — помочь тебе стать крутым специалистом, поэтому давай разберем твой проект и попробуем сделать его еще лучше. Ниже ты найдешь мои комментарии - **пожалуйста, не перемещай, не изменяй и не удаляй их**. Я буду использовать цветовую разметку:\n",
    "\n",
    "<div class=\"alert alert-danger\">\n",
    "<b>Комментарий ревьюера ❌:</b> Так выделены самые важные замечания. Без их отработки проект не будет принят. </div>\n",
    "\n",
    "<div class=\"alert alert-warning\">\n",
    "<b>Комментарий ревьюера ⚠️:</b> Так выделены небольшие замечания. Я надеюсь, что их ты тоже учтешь - твой проект от этого станет только лучше. Но исправлять их необязательно.\n",
    "\n",
    "</div>\n",
    "\n",
    "<div class=\"alert alert-success\">\n",
    "<b>Комментарий ревьюера ✔️:</b> Так я выделяю то, что сделано отлично.</div>\n",
    "\n",
    "Давай работать над проектом в диалоге: **если ты что-то меняешь в проекте или отвечаешь на мои комменатри — пиши об этом.** Мне будет легче отследить изменения, если ты выделишь свои комментарии:\n",
    "<div class=\"alert alert-info\"> <b>Комментарий студента:</b> Например, вот так.</div>"
   ]
  },
  {
   "cell_type": "markdown",
   "metadata": {
    "toc": true
   },
   "source": [
    "<h1>Содержание<span class=\"tocSkip\"></span></h1>\n",
    "<div class=\"toc\"><ul class=\"toc-item\"><li><span><a href=\"#Подготовка-данных\" data-toc-modified-id=\"Подготовка-данных-1\"><span class=\"toc-item-num\">1&nbsp;&nbsp;</span>Подготовка данных</a></span><ul class=\"toc-item\"><li><span><a href=\"#Вывод-к-первому-разделу\" data-toc-modified-id=\"Вывод-к-первому-разделу-1.1\"><span class=\"toc-item-num\">1.1&nbsp;&nbsp;</span>Вывод к первому разделу</a></span></li></ul></li><li><span><a href=\"#Исследование-задачи\" data-toc-modified-id=\"Исследование-задачи-2\"><span class=\"toc-item-num\">2&nbsp;&nbsp;</span>Исследование задачи</a></span><ul class=\"toc-item\"><li><span><a href=\"#Вывод-ко-второму-разделу\" data-toc-modified-id=\"Вывод-ко-второму-разделу-2.1\"><span class=\"toc-item-num\">2.1&nbsp;&nbsp;</span>Вывод ко второму разделу</a></span></li></ul></li><li><span><a href=\"#Борьба-с-дисбалансом\" data-toc-modified-id=\"Борьба-с-дисбалансом-3\"><span class=\"toc-item-num\">3&nbsp;&nbsp;</span>Борьба с дисбалансом</a></span><ul class=\"toc-item\"><li><ul class=\"toc-item\"><li><span><a href=\"#Вывод-к-третьему-разделу\" data-toc-modified-id=\"Вывод-к-третьему-разделу-3.0.1\"><span class=\"toc-item-num\">3.0.1&nbsp;&nbsp;</span>Вывод к третьему разделу</a></span></li></ul></li></ul></li><li><span><a href=\"#Тестирование-модели\" data-toc-modified-id=\"Тестирование-модели-4\"><span class=\"toc-item-num\">4&nbsp;&nbsp;</span>Тестирование модели</a></span></li><li><span><a href=\"#Общий-вывод\" data-toc-modified-id=\"Общий-вывод-5\"><span class=\"toc-item-num\">5&nbsp;&nbsp;</span>Общий вывод</a></span></li><li><span><a href=\"#Чек-лист-готовности-проекта\" data-toc-modified-id=\"Чек-лист-готовности-проекта-6\"><span class=\"toc-item-num\">6&nbsp;&nbsp;</span>Чек-лист готовности проекта</a></span></li></ul></div>"
   ]
  },
  {
   "cell_type": "markdown",
   "metadata": {},
   "source": [
    "# Отток клиентов"
   ]
  },
  {
   "cell_type": "markdown",
   "metadata": {},
   "source": [
    "Из «Бета-Банка» стали уходить клиенты. Каждый месяц. Немного, но заметно. Банковские маркетологи посчитали: сохранять текущих клиентов дешевле, чем привлекать новых.\n",
    "\n",
    "Нужно спрогнозировать, уйдёт клиент из банка в ближайшее время или нет. Имеются исторические данные о поведении клиентов и расторжении договоров с банком. Поведение клиентов включает в себя информацию об их персональных данных, баланса на счету, кредитного рейтинга, примерной зарплаты, количества лет сотрудничества с банком, количества используемых продуктов банка, активности, наличия кредитной карты.\n",
    "\n",
    "Цель исследования: построить модель с предельно большим значением *F1*-меры (не менее 0.59). Нужно проверить *F1*-меру на тестовой выборке.\n",
    "\n",
    "Дополнительно также необходимо измерять *AUC-ROC*, сравнивая её значение с *F1*-мерой.\n",
    "\n",
    "Источник данных: [https://www.kaggle.com/barelydedicated/bank-customer-churn-modeling](https://www.kaggle.com/barelydedicated/bank-customer-churn-modeling)"
   ]
  },
  {
   "cell_type": "markdown",
   "metadata": {},
   "source": [
    "<div class=\"alert alert-success\">\n",
    "<b>Комментарий ревьюера ✔️:</b> Хорошее вступление к твоему проекту. Оно станет еще лучше, если ты добавишь описание данных.</div>"
   ]
  },
  {
   "cell_type": "markdown",
   "metadata": {},
   "source": [
    "## Подготовка данных"
   ]
  },
  {
   "cell_type": "code",
   "execution_count": 1,
   "metadata": {},
   "outputs": [],
   "source": [
    "# импорт библиотек\n",
    "\n",
    "import pandas as pd\n",
    "import seaborn as sns\n",
    "import matplotlib.pyplot as plt\n",
    "import numpy as np\n",
    "import random\n",
    "from tqdm.notebook import tqdm\n",
    "\n",
    "from sklearn.tree import DecisionTreeClassifier \n",
    "from sklearn.ensemble import RandomForestClassifier \n",
    "from sklearn.linear_model import LogisticRegression \n",
    "from sklearn.metrics import f1_score, roc_auc_score\n",
    "from sklearn.model_selection import train_test_split\n",
    "from sklearn.preprocessing import StandardScaler\n",
    "from sklearn.utils import shuffle"
   ]
  },
  {
   "cell_type": "markdown",
   "metadata": {},
   "source": [
    "<div class=\"alert alert-success\">\n",
    "<b>Комментарий ревьюера ✔️:</b> Здорово, что все импорты находятся в одной ячейке, неплохо сгруппирированы. Но, чтобы сделать ещё лучше, приведу рекомендации по стандартам PEP-8.<br>\n",
    "    \n",
    "Импорты могут быть сгруппированы в следующем порядке:\n",
    "\n",
    "1.импорты из стандартной библиотеки\n",
    "    \n",
    "2.импорты сторонних библиотек\n",
    "    \n",
    "3.импорты модулей текущего проекта\n",
    "\n",
    "Вставляйте пустую строку между каждой группой импортов.\n",
    "\n",
    "Ccылка для ознакомления: https://pythonworld.ru/osnovy/pep-8-rukovodstvo-po-napisaniyu-koda-na-python.html</div>\n"
   ]
  },
  {
   "cell_type": "code",
   "execution_count": 2,
   "metadata": {},
   "outputs": [
    {
     "data": {
      "text/html": [
       "<div>\n",
       "<style scoped>\n",
       "    .dataframe tbody tr th:only-of-type {\n",
       "        vertical-align: middle;\n",
       "    }\n",
       "\n",
       "    .dataframe tbody tr th {\n",
       "        vertical-align: top;\n",
       "    }\n",
       "\n",
       "    .dataframe thead th {\n",
       "        text-align: right;\n",
       "    }\n",
       "</style>\n",
       "<table border=\"1\" class=\"dataframe\">\n",
       "  <thead>\n",
       "    <tr style=\"text-align: right;\">\n",
       "      <th></th>\n",
       "      <th>RowNumber</th>\n",
       "      <th>CustomerId</th>\n",
       "      <th>Surname</th>\n",
       "      <th>CreditScore</th>\n",
       "      <th>Geography</th>\n",
       "      <th>Gender</th>\n",
       "      <th>Age</th>\n",
       "      <th>Tenure</th>\n",
       "      <th>Balance</th>\n",
       "      <th>NumOfProducts</th>\n",
       "      <th>HasCrCard</th>\n",
       "      <th>IsActiveMember</th>\n",
       "      <th>EstimatedSalary</th>\n",
       "      <th>Exited</th>\n",
       "    </tr>\n",
       "  </thead>\n",
       "  <tbody>\n",
       "    <tr>\n",
       "      <th>0</th>\n",
       "      <td>1</td>\n",
       "      <td>15634602</td>\n",
       "      <td>Hargrave</td>\n",
       "      <td>619</td>\n",
       "      <td>France</td>\n",
       "      <td>Female</td>\n",
       "      <td>42</td>\n",
       "      <td>2.0</td>\n",
       "      <td>0.00</td>\n",
       "      <td>1</td>\n",
       "      <td>1</td>\n",
       "      <td>1</td>\n",
       "      <td>101348.88</td>\n",
       "      <td>1</td>\n",
       "    </tr>\n",
       "    <tr>\n",
       "      <th>1</th>\n",
       "      <td>2</td>\n",
       "      <td>15647311</td>\n",
       "      <td>Hill</td>\n",
       "      <td>608</td>\n",
       "      <td>Spain</td>\n",
       "      <td>Female</td>\n",
       "      <td>41</td>\n",
       "      <td>1.0</td>\n",
       "      <td>83807.86</td>\n",
       "      <td>1</td>\n",
       "      <td>0</td>\n",
       "      <td>1</td>\n",
       "      <td>112542.58</td>\n",
       "      <td>0</td>\n",
       "    </tr>\n",
       "    <tr>\n",
       "      <th>2</th>\n",
       "      <td>3</td>\n",
       "      <td>15619304</td>\n",
       "      <td>Onio</td>\n",
       "      <td>502</td>\n",
       "      <td>France</td>\n",
       "      <td>Female</td>\n",
       "      <td>42</td>\n",
       "      <td>8.0</td>\n",
       "      <td>159660.80</td>\n",
       "      <td>3</td>\n",
       "      <td>1</td>\n",
       "      <td>0</td>\n",
       "      <td>113931.57</td>\n",
       "      <td>1</td>\n",
       "    </tr>\n",
       "    <tr>\n",
       "      <th>3</th>\n",
       "      <td>4</td>\n",
       "      <td>15701354</td>\n",
       "      <td>Boni</td>\n",
       "      <td>699</td>\n",
       "      <td>France</td>\n",
       "      <td>Female</td>\n",
       "      <td>39</td>\n",
       "      <td>1.0</td>\n",
       "      <td>0.00</td>\n",
       "      <td>2</td>\n",
       "      <td>0</td>\n",
       "      <td>0</td>\n",
       "      <td>93826.63</td>\n",
       "      <td>0</td>\n",
       "    </tr>\n",
       "    <tr>\n",
       "      <th>4</th>\n",
       "      <td>5</td>\n",
       "      <td>15737888</td>\n",
       "      <td>Mitchell</td>\n",
       "      <td>850</td>\n",
       "      <td>Spain</td>\n",
       "      <td>Female</td>\n",
       "      <td>43</td>\n",
       "      <td>2.0</td>\n",
       "      <td>125510.82</td>\n",
       "      <td>1</td>\n",
       "      <td>1</td>\n",
       "      <td>1</td>\n",
       "      <td>79084.10</td>\n",
       "      <td>0</td>\n",
       "    </tr>\n",
       "  </tbody>\n",
       "</table>\n",
       "</div>"
      ],
      "text/plain": [
       "   RowNumber  CustomerId   Surname  CreditScore Geography  Gender  Age  \\\n",
       "0          1    15634602  Hargrave          619    France  Female   42   \n",
       "1          2    15647311      Hill          608     Spain  Female   41   \n",
       "2          3    15619304      Onio          502    France  Female   42   \n",
       "3          4    15701354      Boni          699    France  Female   39   \n",
       "4          5    15737888  Mitchell          850     Spain  Female   43   \n",
       "\n",
       "   Tenure    Balance  NumOfProducts  HasCrCard  IsActiveMember  \\\n",
       "0     2.0       0.00              1          1               1   \n",
       "1     1.0   83807.86              1          0               1   \n",
       "2     8.0  159660.80              3          1               0   \n",
       "3     1.0       0.00              2          0               0   \n",
       "4     2.0  125510.82              1          1               1   \n",
       "\n",
       "   EstimatedSalary  Exited  \n",
       "0        101348.88       1  \n",
       "1        112542.58       0  \n",
       "2        113931.57       1  \n",
       "3         93826.63       0  \n",
       "4         79084.10       0  "
      ]
     },
     "execution_count": 2,
     "metadata": {},
     "output_type": "execute_result"
    }
   ],
   "source": [
    "# чтение файла с разных источников\n",
    "\n",
    "try:\n",
    "    clients = pd.read_csv('/datasets/Churn.csv')\n",
    "except:\n",
    "    clients = pd.read_csv('C:/Users/Evgenii/Downloads/DS Yandex/Projects/Churn.csv')\n",
    "clients.head()"
   ]
  },
  {
   "cell_type": "markdown",
   "metadata": {},
   "source": [
    "<div class=\"alert alert-success\">\n",
    "<b>Комментарий ревьюера ✔️:</b> Все правильно. Тут могу порекомендовать для просмотра датафрейма использовать специальные методы, например, head. Вывод таблицы без них занимает больше времени, следовательно требуется больше ресурсов. </div>"
   ]
  },
  {
   "cell_type": "code",
   "execution_count": 3,
   "metadata": {},
   "outputs": [
    {
     "name": "stdout",
     "output_type": "stream",
     "text": [
      "<class 'pandas.core.frame.DataFrame'>\n",
      "RangeIndex: 10000 entries, 0 to 9999\n",
      "Data columns (total 14 columns):\n",
      " #   Column           Non-Null Count  Dtype  \n",
      "---  ------           --------------  -----  \n",
      " 0   RowNumber        10000 non-null  int64  \n",
      " 1   CustomerId       10000 non-null  int64  \n",
      " 2   Surname          10000 non-null  object \n",
      " 3   CreditScore      10000 non-null  int64  \n",
      " 4   Geography        10000 non-null  object \n",
      " 5   Gender           10000 non-null  object \n",
      " 6   Age              10000 non-null  int64  \n",
      " 7   Tenure           9091 non-null   float64\n",
      " 8   Balance          10000 non-null  float64\n",
      " 9   NumOfProducts    10000 non-null  int64  \n",
      " 10  HasCrCard        10000 non-null  int64  \n",
      " 11  IsActiveMember   10000 non-null  int64  \n",
      " 12  EstimatedSalary  10000 non-null  float64\n",
      " 13  Exited           10000 non-null  int64  \n",
      "dtypes: float64(3), int64(8), object(3)\n",
      "memory usage: 1.1+ MB\n"
     ]
    }
   ],
   "source": [
    "#познакомимся с типом данных и пропусками\n",
    "clients.info()"
   ]
  },
  {
   "cell_type": "code",
   "execution_count": 4,
   "metadata": {},
   "outputs": [
    {
     "data": {
      "text/html": [
       "<div>\n",
       "<style scoped>\n",
       "    .dataframe tbody tr th:only-of-type {\n",
       "        vertical-align: middle;\n",
       "    }\n",
       "\n",
       "    .dataframe tbody tr th {\n",
       "        vertical-align: top;\n",
       "    }\n",
       "\n",
       "    .dataframe thead th {\n",
       "        text-align: right;\n",
       "    }\n",
       "</style>\n",
       "<table border=\"1\" class=\"dataframe\">\n",
       "  <thead>\n",
       "    <tr style=\"text-align: right;\">\n",
       "      <th></th>\n",
       "      <th>row_number</th>\n",
       "      <th>customer_id</th>\n",
       "      <th>surname</th>\n",
       "      <th>credit_score</th>\n",
       "      <th>geography</th>\n",
       "      <th>gender</th>\n",
       "      <th>age</th>\n",
       "      <th>tenure</th>\n",
       "      <th>balance</th>\n",
       "      <th>num_of_products</th>\n",
       "      <th>has_cr_card</th>\n",
       "      <th>is_active_member</th>\n",
       "      <th>estimated_salary</th>\n",
       "      <th>exited</th>\n",
       "    </tr>\n",
       "  </thead>\n",
       "  <tbody>\n",
       "    <tr>\n",
       "      <th>0</th>\n",
       "      <td>1</td>\n",
       "      <td>15634602</td>\n",
       "      <td>Hargrave</td>\n",
       "      <td>619</td>\n",
       "      <td>France</td>\n",
       "      <td>Female</td>\n",
       "      <td>42</td>\n",
       "      <td>2.0</td>\n",
       "      <td>0.00</td>\n",
       "      <td>1</td>\n",
       "      <td>1</td>\n",
       "      <td>1</td>\n",
       "      <td>101348.88</td>\n",
       "      <td>1</td>\n",
       "    </tr>\n",
       "    <tr>\n",
       "      <th>1</th>\n",
       "      <td>2</td>\n",
       "      <td>15647311</td>\n",
       "      <td>Hill</td>\n",
       "      <td>608</td>\n",
       "      <td>Spain</td>\n",
       "      <td>Female</td>\n",
       "      <td>41</td>\n",
       "      <td>1.0</td>\n",
       "      <td>83807.86</td>\n",
       "      <td>1</td>\n",
       "      <td>0</td>\n",
       "      <td>1</td>\n",
       "      <td>112542.58</td>\n",
       "      <td>0</td>\n",
       "    </tr>\n",
       "    <tr>\n",
       "      <th>2</th>\n",
       "      <td>3</td>\n",
       "      <td>15619304</td>\n",
       "      <td>Onio</td>\n",
       "      <td>502</td>\n",
       "      <td>France</td>\n",
       "      <td>Female</td>\n",
       "      <td>42</td>\n",
       "      <td>8.0</td>\n",
       "      <td>159660.80</td>\n",
       "      <td>3</td>\n",
       "      <td>1</td>\n",
       "      <td>0</td>\n",
       "      <td>113931.57</td>\n",
       "      <td>1</td>\n",
       "    </tr>\n",
       "    <tr>\n",
       "      <th>3</th>\n",
       "      <td>4</td>\n",
       "      <td>15701354</td>\n",
       "      <td>Boni</td>\n",
       "      <td>699</td>\n",
       "      <td>France</td>\n",
       "      <td>Female</td>\n",
       "      <td>39</td>\n",
       "      <td>1.0</td>\n",
       "      <td>0.00</td>\n",
       "      <td>2</td>\n",
       "      <td>0</td>\n",
       "      <td>0</td>\n",
       "      <td>93826.63</td>\n",
       "      <td>0</td>\n",
       "    </tr>\n",
       "    <tr>\n",
       "      <th>4</th>\n",
       "      <td>5</td>\n",
       "      <td>15737888</td>\n",
       "      <td>Mitchell</td>\n",
       "      <td>850</td>\n",
       "      <td>Spain</td>\n",
       "      <td>Female</td>\n",
       "      <td>43</td>\n",
       "      <td>2.0</td>\n",
       "      <td>125510.82</td>\n",
       "      <td>1</td>\n",
       "      <td>1</td>\n",
       "      <td>1</td>\n",
       "      <td>79084.10</td>\n",
       "      <td>0</td>\n",
       "    </tr>\n",
       "  </tbody>\n",
       "</table>\n",
       "</div>"
      ],
      "text/plain": [
       "   row_number  customer_id   surname  credit_score geography  gender  age  \\\n",
       "0           1     15634602  Hargrave           619    France  Female   42   \n",
       "1           2     15647311      Hill           608     Spain  Female   41   \n",
       "2           3     15619304      Onio           502    France  Female   42   \n",
       "3           4     15701354      Boni           699    France  Female   39   \n",
       "4           5     15737888  Mitchell           850     Spain  Female   43   \n",
       "\n",
       "   tenure    balance  num_of_products  has_cr_card  is_active_member  \\\n",
       "0     2.0       0.00                1            1                 1   \n",
       "1     1.0   83807.86                1            0                 1   \n",
       "2     8.0  159660.80                3            1                 0   \n",
       "3     1.0       0.00                2            0                 0   \n",
       "4     2.0  125510.82                1            1                 1   \n",
       "\n",
       "   estimated_salary  exited  \n",
       "0         101348.88       1  \n",
       "1         112542.58       0  \n",
       "2         113931.57       1  \n",
       "3          93826.63       0  \n",
       "4          79084.10       0  "
      ]
     },
     "execution_count": 4,
     "metadata": {},
     "output_type": "execute_result"
    }
   ],
   "source": [
    "# переведём название столбцов в змеиный регистр\n",
    "\n",
    "def to_snake_case(value, delimiter='_'):\n",
    "    value = value[0].lower() + value[1:]\n",
    "    for i in value:\n",
    "        if i.isupper():\n",
    "            value = value.replace(i, delimiter + i.lower())\n",
    "    return value  \n",
    "\n",
    "new_cols=[]\n",
    "for cols in clients.columns:\n",
    "    new_cols.append(to_snake_case(cols))\n",
    "    \n",
    "clients.columns = pd.Series(new_cols)\n",
    "clients.head()"
   ]
  },
  {
   "cell_type": "code",
   "execution_count": 5,
   "metadata": {},
   "outputs": [
    {
     "name": "stdout",
     "output_type": "stream",
     "text": [
      "Уникальные значения в столбце row_number (максимум 10): ['1', '10', '100', '1000', '10000', '1001', '1002', '1003', '1004', '1005']\n",
      "Число уникальных в row_number: 10000\n",
      "\n",
      "Уникальные значения в столбце customer_id (максимум 10): ['15565701', '15565706', '15565714', '15565779', '15565796', '15565806', '15565878', '15565879', '15565891', '15565996']\n",
      "Число уникальных в customer_id: 10000\n",
      "\n",
      "Уникальные значения в столбце surname (максимум 10): ['Abazu', 'Abbie', 'Abbott', 'Abdullah', 'Abdulov', 'Abel', 'Abernathy', 'Abramov', 'Abramova', 'Abramovich']\n",
      "Число уникальных в surname: 2932\n",
      "\n",
      "Уникальные значения в столбце credit_score (максимум 10): ['350', '351', '358', '359', '363', '365', '367', '373', '376', '382']\n",
      "Число уникальных в credit_score: 460\n",
      "\n",
      "Уникальные значения в столбце geography (максимум 10): ['France', 'Germany', 'Spain']\n",
      "Число уникальных в geography: 3\n",
      "\n",
      "Уникальные значения в столбце gender (максимум 10): ['Female', 'Male']\n",
      "Число уникальных в gender: 2\n",
      "\n",
      "Уникальные значения в столбце age (максимум 10): ['18', '19', '20', '21', '22', '23', '24', '25', '26', '27']\n",
      "Число уникальных в age: 70\n",
      "\n",
      "Уникальные значения в столбце tenure (максимум 10): ['0.0', '1.0', '10.0', '2.0', '3.0', '4.0', '5.0', '6.0', '7.0', '8.0']\n",
      "Число уникальных в tenure: 11\n",
      "\n",
      "Уникальные значения в столбце balance (максимум 10): ['0.0', '100013.51', '100032.52', '100047.33', '100054.77', '100062.16', '100062.39', '100082.14', '100107.99', '100116.67']\n",
      "Число уникальных в balance: 6382\n",
      "\n",
      "Уникальные значения в столбце num_of_products (максимум 10): ['1', '2', '3', '4']\n",
      "Число уникальных в num_of_products: 4\n",
      "\n",
      "Уникальные значения в столбце has_cr_card (максимум 10): ['0', '1']\n",
      "Число уникальных в has_cr_card: 2\n",
      "\n",
      "Уникальные значения в столбце is_active_member (максимум 10): ['0', '1']\n",
      "Число уникальных в is_active_member: 2\n",
      "\n",
      "Уникальные значения в столбце estimated_salary (максимум 10): ['100015.79', '100060.54', '100075.1', '10008.68', '100101.06', '100127.71', '100130.95', '100137.7', '10014.72', '100153.43']\n",
      "Число уникальных в estimated_salary: 9999\n",
      "\n",
      "Уникальные значения в столбце exited (максимум 10): ['0', '1']\n",
      "Число уникальных в exited: 2\n",
      "\n"
     ]
    }
   ],
   "source": [
    "# познакомимся с уникальными значениями столбцов и их количеством\n",
    "for col in clients.columns:\n",
    "    print(f'Уникальные значения в столбце {col} (максимум 10): {sorted(clients[col].astype(str).unique())[:10]}')\n",
    "    print(f'Число уникальных в {col}: {clients[col].nunique()}')\n",
    "    print()"
   ]
  },
  {
   "cell_type": "markdown",
   "metadata": {},
   "source": [
    "<div class=\"alert alert-success\">\n",
    "<b>Комментарий ревьюера ✔️:</b> Здорово!</div>"
   ]
  },
  {
   "cell_type": "markdown",
   "metadata": {},
   "source": [
    "*В столбце 'tenure' (количество лет сотрудничества с банком) имеется 909 пропусков. Поскольку природа пропусков не ясна, заполним их случайным значением из существующих данных этого столбца. Тем самым мы избежим сильного перевеса какого-то одного значения.*"
   ]
  },
  {
   "cell_type": "code",
   "execution_count": 6,
   "metadata": {
    "scrolled": true
   },
   "outputs": [
    {
     "data": {
      "text/plain": [
       "1.0     952\n",
       "2.0     950\n",
       "8.0     933\n",
       "3.0     928\n",
       "5.0     927\n",
       "7.0     925\n",
       "4.0     885\n",
       "9.0     882\n",
       "6.0     881\n",
       "10.0    446\n",
       "0.0     382\n",
       "Name: tenure, dtype: int64"
      ]
     },
     "execution_count": 6,
     "metadata": {},
     "output_type": "execute_result"
    }
   ],
   "source": [
    "# количество каждого значения столбца tenure до заполнения пропусков\n",
    "clients['tenure'].value_counts()"
   ]
  },
  {
   "cell_type": "code",
   "execution_count": 7,
   "metadata": {
    "scrolled": true
   },
   "outputs": [
    {
     "data": {
      "text/plain": [
       "2.0     1052\n",
       "1.0     1042\n",
       "8.0     1035\n",
       "3.0     1022\n",
       "5.0     1021\n",
       "7.0     1019\n",
       "6.0      977\n",
       "4.0      968\n",
       "9.0      962\n",
       "10.0     486\n",
       "0.0      416\n",
       "Name: tenure, dtype: int64"
      ]
     },
     "execution_count": 7,
     "metadata": {},
     "output_type": "execute_result"
    }
   ],
   "source": [
    "# генерация одних и тех же случайных чисел\n",
    "random.seed(12345)\n",
    "\n",
    "# выберем случайным образом 909 значений из столбца tenure и запишем их в список\n",
    "tenure_to_fill = random.choices(list(clients.loc[clients['tenure'].notna(), 'tenure']), \n",
    "                                k=len(clients[clients['tenure'].isna()]))\n",
    "\n",
    "# заполняем пропуски в столбце tenure списком случайных значений\n",
    "clients.loc[clients['tenure'].isna(), 'tenure'] = tenure_to_fill\n",
    "\n",
    "# количество каждого значения столбца tenure после заполнения пропусков\n",
    "clients['tenure'].value_counts()"
   ]
  },
  {
   "cell_type": "code",
   "execution_count": 8,
   "metadata": {},
   "outputs": [
    {
     "name": "stdout",
     "output_type": "stream",
     "text": [
      "<class 'pandas.core.frame.DataFrame'>\n",
      "RangeIndex: 10000 entries, 0 to 9999\n",
      "Data columns (total 14 columns):\n",
      " #   Column            Non-Null Count  Dtype  \n",
      "---  ------            --------------  -----  \n",
      " 0   row_number        10000 non-null  int64  \n",
      " 1   customer_id       10000 non-null  int64  \n",
      " 2   surname           10000 non-null  object \n",
      " 3   credit_score      10000 non-null  int64  \n",
      " 4   geography         10000 non-null  object \n",
      " 5   gender            10000 non-null  object \n",
      " 6   age               10000 non-null  int64  \n",
      " 7   tenure            10000 non-null  float64\n",
      " 8   balance           10000 non-null  float64\n",
      " 9   num_of_products   10000 non-null  int64  \n",
      " 10  has_cr_card       10000 non-null  int64  \n",
      " 11  is_active_member  10000 non-null  int64  \n",
      " 12  estimated_salary  10000 non-null  float64\n",
      " 13  exited            10000 non-null  int64  \n",
      "dtypes: float64(3), int64(8), object(3)\n",
      "memory usage: 1.1+ MB\n"
     ]
    }
   ],
   "source": [
    "# информация о типе данных и количестве значений после заполнения пропусков \n",
    "clients.info()"
   ]
  },
  {
   "cell_type": "markdown",
   "metadata": {},
   "source": [
    "<div class=\"alert alert-danger\">\n",
    "<b>Комментарий ревьюера ❌:</b> Любое заполнение пропусков должно быть обосновано. Обоснование, что -1 не используется вызывает вопросы. Поэтому пропуски в tenure я бы лучше заполнил модой или же рандомом из существующих значений, так как непонятна природа самих пропусков. Тут еще можно их просто удалить, тк пропусков мало. Фичи tenure и num_of_products советую не переводить в object, так как это явные числовые признаки. Если все таки сделать их object, то при кодировании датафрейм будет содержать больше признаков, а это может лишний раз усложнить модель. </div>"
   ]
  },
  {
   "cell_type": "markdown",
   "metadata": {},
   "source": [
    "<div class=\"alert alert-info\"> <b>Комментарий студента:</b> Привет, Арсений! Благодарю за проверку проекта. Касаемо вышеизложенного комментария: переделал блоки кода выше, заполнив tenure рандомными значениями. Также убрал перевод tenure и num_of_products в objects.</div>"
   ]
  },
  {
   "cell_type": "markdown",
   "metadata": {},
   "source": [
    "<div class=\"alert alert-success\">\n",
    "<b>Комментарий ревьюера v2 ✔️:</b> Отлично, теперь все так.</div>"
   ]
  },
  {
   "cell_type": "markdown",
   "metadata": {},
   "source": [
    "<div class=\"alert alert-danger\">\n",
    "<b>Комментарий ревьюера ❌:</b> Предобработку признаков следует делать в одном блоке. А у тебя получается часть препроцессинга лежит в «Предобработке данных», а другая часть уже в «Исследование задачи». Перенеси, пожалуйста, все в одно место. </div>"
   ]
  },
  {
   "cell_type": "markdown",
   "metadata": {},
   "source": [
    "<div class=\"alert alert-info\"> <b>Комментарий студента:</b> Перенёс всё до начала исследования моделей в предобработку данных. Комментарии тоже перенёс вместе с блоками кода.</div>"
   ]
  },
  {
   "cell_type": "markdown",
   "metadata": {},
   "source": [
    "<div class=\"alert alert-success\">\n",
    "<b>Комментарий ревьюера v2 ✔️:</b> 👍 </div>"
   ]
  },
  {
   "cell_type": "markdown",
   "metadata": {},
   "source": [
    "*Уберём из целевых признаков сугубо справочные данные, которые вряд ли серьёзно стоит рассматривать как влияющие на фактор ухода из банка: номер строки, ID клиента, фамилия клиента.*"
   ]
  },
  {
   "cell_type": "code",
   "execution_count": 9,
   "metadata": {},
   "outputs": [
    {
     "data": {
      "text/html": [
       "<div>\n",
       "<style scoped>\n",
       "    .dataframe tbody tr th:only-of-type {\n",
       "        vertical-align: middle;\n",
       "    }\n",
       "\n",
       "    .dataframe tbody tr th {\n",
       "        vertical-align: top;\n",
       "    }\n",
       "\n",
       "    .dataframe thead th {\n",
       "        text-align: right;\n",
       "    }\n",
       "</style>\n",
       "<table border=\"1\" class=\"dataframe\">\n",
       "  <thead>\n",
       "    <tr style=\"text-align: right;\">\n",
       "      <th></th>\n",
       "      <th>credit_score</th>\n",
       "      <th>age</th>\n",
       "      <th>tenure</th>\n",
       "      <th>balance</th>\n",
       "      <th>num_of_products</th>\n",
       "      <th>has_cr_card</th>\n",
       "      <th>is_active_member</th>\n",
       "      <th>estimated_salary</th>\n",
       "      <th>exited</th>\n",
       "      <th>geography_Germany</th>\n",
       "      <th>geography_Spain</th>\n",
       "      <th>gender_Male</th>\n",
       "    </tr>\n",
       "  </thead>\n",
       "  <tbody>\n",
       "    <tr>\n",
       "      <th>0</th>\n",
       "      <td>619</td>\n",
       "      <td>42</td>\n",
       "      <td>2.0</td>\n",
       "      <td>0.00</td>\n",
       "      <td>1</td>\n",
       "      <td>1</td>\n",
       "      <td>1</td>\n",
       "      <td>101348.88</td>\n",
       "      <td>1</td>\n",
       "      <td>0</td>\n",
       "      <td>0</td>\n",
       "      <td>0</td>\n",
       "    </tr>\n",
       "    <tr>\n",
       "      <th>1</th>\n",
       "      <td>608</td>\n",
       "      <td>41</td>\n",
       "      <td>1.0</td>\n",
       "      <td>83807.86</td>\n",
       "      <td>1</td>\n",
       "      <td>0</td>\n",
       "      <td>1</td>\n",
       "      <td>112542.58</td>\n",
       "      <td>0</td>\n",
       "      <td>0</td>\n",
       "      <td>1</td>\n",
       "      <td>0</td>\n",
       "    </tr>\n",
       "    <tr>\n",
       "      <th>2</th>\n",
       "      <td>502</td>\n",
       "      <td>42</td>\n",
       "      <td>8.0</td>\n",
       "      <td>159660.80</td>\n",
       "      <td>3</td>\n",
       "      <td>1</td>\n",
       "      <td>0</td>\n",
       "      <td>113931.57</td>\n",
       "      <td>1</td>\n",
       "      <td>0</td>\n",
       "      <td>0</td>\n",
       "      <td>0</td>\n",
       "    </tr>\n",
       "    <tr>\n",
       "      <th>3</th>\n",
       "      <td>699</td>\n",
       "      <td>39</td>\n",
       "      <td>1.0</td>\n",
       "      <td>0.00</td>\n",
       "      <td>2</td>\n",
       "      <td>0</td>\n",
       "      <td>0</td>\n",
       "      <td>93826.63</td>\n",
       "      <td>0</td>\n",
       "      <td>0</td>\n",
       "      <td>0</td>\n",
       "      <td>0</td>\n",
       "    </tr>\n",
       "    <tr>\n",
       "      <th>4</th>\n",
       "      <td>850</td>\n",
       "      <td>43</td>\n",
       "      <td>2.0</td>\n",
       "      <td>125510.82</td>\n",
       "      <td>1</td>\n",
       "      <td>1</td>\n",
       "      <td>1</td>\n",
       "      <td>79084.10</td>\n",
       "      <td>0</td>\n",
       "      <td>0</td>\n",
       "      <td>1</td>\n",
       "      <td>0</td>\n",
       "    </tr>\n",
       "  </tbody>\n",
       "</table>\n",
       "</div>"
      ],
      "text/plain": [
       "   credit_score  age  tenure    balance  num_of_products  has_cr_card  \\\n",
       "0           619   42     2.0       0.00                1            1   \n",
       "1           608   41     1.0   83807.86                1            0   \n",
       "2           502   42     8.0  159660.80                3            1   \n",
       "3           699   39     1.0       0.00                2            0   \n",
       "4           850   43     2.0  125510.82                1            1   \n",
       "\n",
       "   is_active_member  estimated_salary  exited  geography_Germany  \\\n",
       "0                 1         101348.88       1                  0   \n",
       "1                 1         112542.58       0                  0   \n",
       "2                 0         113931.57       1                  0   \n",
       "3                 0          93826.63       0                  0   \n",
       "4                 1          79084.10       0                  0   \n",
       "\n",
       "   geography_Spain  gender_Male  \n",
       "0                0            0  \n",
       "1                1            0  \n",
       "2                0            0  \n",
       "3                0            0  \n",
       "4                1            0  "
      ]
     },
     "execution_count": 9,
     "metadata": {},
     "output_type": "execute_result"
    }
   ],
   "source": [
    "# удаление справочных данных из признаков и перекодировка категориальных признаков в one-hot-encoding\n",
    "\n",
    "clients = clients.drop(columns=['row_number', 'customer_id', 'surname'], axis=1)\n",
    "clients_ohe = pd.get_dummies(clients, drop_first=True)\n",
    "clients_ohe.head()"
   ]
  },
  {
   "cell_type": "markdown",
   "metadata": {},
   "source": [
    "<div class=\"alert alert-success\">\n",
    "<b>Комментарий ревьюера ✔️:</b> Отличное решение, согласен.</div>"
   ]
  },
  {
   "cell_type": "code",
   "execution_count": 10,
   "metadata": {},
   "outputs": [],
   "source": [
    "# определим количественные признаки для последующей стандартизации\n",
    "\n",
    "numeric = ['credit_score', 'age', 'tenure', 'balance', 'num_of_products', 'estimated_salary']"
   ]
  },
  {
   "cell_type": "markdown",
   "metadata": {},
   "source": [
    "<div class=\"alert alert-danger\">\n",
    "<b>Комментарий ревьюера ❌:</b> Как правило, при использовании скелера fit делают только на обучающей выборке, а не на всем датасете, поэтому я бы разделил данные заранее и только потом применил StandardScaler. Блок кода с выводом предобработанных данных можно же просто заменить на метод head) </div>"
   ]
  },
  {
   "cell_type": "markdown",
   "metadata": {},
   "source": [
    "<div class=\"alert alert-info\"> <b>Комментарий студента:</b> Сделал ниже обучение скелера на обучающей выборке, после разделения данных на выборки. Я предположил, что имеет значение для обучения модели порядок колонок (масштабированные сначала, затем перекодированные). Вижу, что не имеет).</div>"
   ]
  },
  {
   "cell_type": "markdown",
   "metadata": {},
   "source": [
    "<div class=\"alert alert-success\">\n",
    "<b>Комментарий ревьюера v2 ✔️:</b> Супер. Действительно, порядок значения не имеет.</div>"
   ]
  },
  {
   "cell_type": "code",
   "execution_count": 11,
   "metadata": {},
   "outputs": [
    {
     "data": {
      "text/html": [
       "<div>\n",
       "<style scoped>\n",
       "    .dataframe tbody tr th:only-of-type {\n",
       "        vertical-align: middle;\n",
       "    }\n",
       "\n",
       "    .dataframe tbody tr th {\n",
       "        vertical-align: top;\n",
       "    }\n",
       "\n",
       "    .dataframe thead th {\n",
       "        text-align: right;\n",
       "    }\n",
       "</style>\n",
       "<table border=\"1\" class=\"dataframe\">\n",
       "  <thead>\n",
       "    <tr style=\"text-align: right;\">\n",
       "      <th></th>\n",
       "      <th>credit_score</th>\n",
       "      <th>age</th>\n",
       "      <th>tenure</th>\n",
       "      <th>balance</th>\n",
       "      <th>num_of_products</th>\n",
       "      <th>has_cr_card</th>\n",
       "      <th>is_active_member</th>\n",
       "      <th>estimated_salary</th>\n",
       "      <th>geography_Germany</th>\n",
       "      <th>geography_Spain</th>\n",
       "      <th>gender_Male</th>\n",
       "    </tr>\n",
       "  </thead>\n",
       "  <tbody>\n",
       "    <tr>\n",
       "      <th>0</th>\n",
       "      <td>619</td>\n",
       "      <td>42</td>\n",
       "      <td>2.0</td>\n",
       "      <td>0.00</td>\n",
       "      <td>1</td>\n",
       "      <td>1</td>\n",
       "      <td>1</td>\n",
       "      <td>101348.88</td>\n",
       "      <td>0</td>\n",
       "      <td>0</td>\n",
       "      <td>0</td>\n",
       "    </tr>\n",
       "    <tr>\n",
       "      <th>1</th>\n",
       "      <td>608</td>\n",
       "      <td>41</td>\n",
       "      <td>1.0</td>\n",
       "      <td>83807.86</td>\n",
       "      <td>1</td>\n",
       "      <td>0</td>\n",
       "      <td>1</td>\n",
       "      <td>112542.58</td>\n",
       "      <td>0</td>\n",
       "      <td>1</td>\n",
       "      <td>0</td>\n",
       "    </tr>\n",
       "    <tr>\n",
       "      <th>2</th>\n",
       "      <td>502</td>\n",
       "      <td>42</td>\n",
       "      <td>8.0</td>\n",
       "      <td>159660.80</td>\n",
       "      <td>3</td>\n",
       "      <td>1</td>\n",
       "      <td>0</td>\n",
       "      <td>113931.57</td>\n",
       "      <td>0</td>\n",
       "      <td>0</td>\n",
       "      <td>0</td>\n",
       "    </tr>\n",
       "    <tr>\n",
       "      <th>3</th>\n",
       "      <td>699</td>\n",
       "      <td>39</td>\n",
       "      <td>1.0</td>\n",
       "      <td>0.00</td>\n",
       "      <td>2</td>\n",
       "      <td>0</td>\n",
       "      <td>0</td>\n",
       "      <td>93826.63</td>\n",
       "      <td>0</td>\n",
       "      <td>0</td>\n",
       "      <td>0</td>\n",
       "    </tr>\n",
       "    <tr>\n",
       "      <th>4</th>\n",
       "      <td>850</td>\n",
       "      <td>43</td>\n",
       "      <td>2.0</td>\n",
       "      <td>125510.82</td>\n",
       "      <td>1</td>\n",
       "      <td>1</td>\n",
       "      <td>1</td>\n",
       "      <td>79084.10</td>\n",
       "      <td>0</td>\n",
       "      <td>1</td>\n",
       "      <td>0</td>\n",
       "    </tr>\n",
       "  </tbody>\n",
       "</table>\n",
       "</div>"
      ],
      "text/plain": [
       "   credit_score  age  tenure    balance  num_of_products  has_cr_card  \\\n",
       "0           619   42     2.0       0.00                1            1   \n",
       "1           608   41     1.0   83807.86                1            0   \n",
       "2           502   42     8.0  159660.80                3            1   \n",
       "3           699   39     1.0       0.00                2            0   \n",
       "4           850   43     2.0  125510.82                1            1   \n",
       "\n",
       "   is_active_member  estimated_salary  geography_Germany  geography_Spain  \\\n",
       "0                 1         101348.88                  0                0   \n",
       "1                 1         112542.58                  0                1   \n",
       "2                 0         113931.57                  0                0   \n",
       "3                 0          93826.63                  0                0   \n",
       "4                 1          79084.10                  0                1   \n",
       "\n",
       "   gender_Male  \n",
       "0            0  \n",
       "1            0  \n",
       "2            0  \n",
       "3            0  \n",
       "4            0  "
      ]
     },
     "execution_count": 11,
     "metadata": {},
     "output_type": "execute_result"
    }
   ],
   "source": [
    "# разбивка обработанных данных на признаки и целевой признак\n",
    "features = clients_ohe.drop('exited', axis=1)\n",
    "target = clients_ohe['exited']\n",
    "features.head()"
   ]
  },
  {
   "cell_type": "markdown",
   "metadata": {},
   "source": [
    "<div class=\"alert alert-success\">\n",
    "<b>Комментарий ревьюера ✔️:</b> 👍 </div>"
   ]
  },
  {
   "cell_type": "code",
   "execution_count": 12,
   "metadata": {},
   "outputs": [
    {
     "data": {
      "text/plain": [
       "0    0.7963\n",
       "1    0.2037\n",
       "Name: exited, dtype: float64"
      ]
     },
     "execution_count": 12,
     "metadata": {},
     "output_type": "execute_result"
    }
   ],
   "source": [
    "# баланс классов в целевом признаке\n",
    "target.value_counts(normalize=True)"
   ]
  },
  {
   "cell_type": "code",
   "execution_count": 13,
   "metadata": {
    "scrolled": true
   },
   "outputs": [
    {
     "data": {
      "text/html": [
       "<div>\n",
       "<style scoped>\n",
       "    .dataframe tbody tr th:only-of-type {\n",
       "        vertical-align: middle;\n",
       "    }\n",
       "\n",
       "    .dataframe tbody tr th {\n",
       "        vertical-align: top;\n",
       "    }\n",
       "\n",
       "    .dataframe thead th {\n",
       "        text-align: right;\n",
       "    }\n",
       "</style>\n",
       "<table border=\"1\" class=\"dataframe\">\n",
       "  <thead>\n",
       "    <tr style=\"text-align: right;\">\n",
       "      <th></th>\n",
       "      <th>credit_score</th>\n",
       "      <th>age</th>\n",
       "      <th>tenure</th>\n",
       "      <th>balance</th>\n",
       "      <th>num_of_products</th>\n",
       "      <th>has_cr_card</th>\n",
       "      <th>is_active_member</th>\n",
       "      <th>estimated_salary</th>\n",
       "      <th>geography_Germany</th>\n",
       "      <th>geography_Spain</th>\n",
       "      <th>gender_Male</th>\n",
       "    </tr>\n",
       "  </thead>\n",
       "  <tbody>\n",
       "    <tr>\n",
       "      <th>2837</th>\n",
       "      <td>-1.040434</td>\n",
       "      <td>0.953312</td>\n",
       "      <td>0.343895</td>\n",
       "      <td>0.774657</td>\n",
       "      <td>-0.914708</td>\n",
       "      <td>0</td>\n",
       "      <td>1</td>\n",
       "      <td>-0.119110</td>\n",
       "      <td>1</td>\n",
       "      <td>0</td>\n",
       "      <td>0</td>\n",
       "    </tr>\n",
       "    <tr>\n",
       "      <th>9925</th>\n",
       "      <td>0.454006</td>\n",
       "      <td>-0.095244</td>\n",
       "      <td>1.382506</td>\n",
       "      <td>1.910540</td>\n",
       "      <td>-0.914708</td>\n",
       "      <td>1</td>\n",
       "      <td>1</td>\n",
       "      <td>-0.258658</td>\n",
       "      <td>0</td>\n",
       "      <td>0</td>\n",
       "      <td>0</td>\n",
       "    </tr>\n",
       "    <tr>\n",
       "      <th>8746</th>\n",
       "      <td>0.103585</td>\n",
       "      <td>-0.476537</td>\n",
       "      <td>1.036302</td>\n",
       "      <td>0.481608</td>\n",
       "      <td>0.820981</td>\n",
       "      <td>0</td>\n",
       "      <td>1</td>\n",
       "      <td>1.422836</td>\n",
       "      <td>0</td>\n",
       "      <td>0</td>\n",
       "      <td>1</td>\n",
       "    </tr>\n",
       "    <tr>\n",
       "      <th>660</th>\n",
       "      <td>-0.184996</td>\n",
       "      <td>0.190726</td>\n",
       "      <td>-0.694715</td>\n",
       "      <td>0.088439</td>\n",
       "      <td>-0.914708</td>\n",
       "      <td>1</td>\n",
       "      <td>1</td>\n",
       "      <td>-1.160427</td>\n",
       "      <td>1</td>\n",
       "      <td>0</td>\n",
       "      <td>0</td>\n",
       "    </tr>\n",
       "    <tr>\n",
       "      <th>3610</th>\n",
       "      <td>-0.720933</td>\n",
       "      <td>1.620574</td>\n",
       "      <td>-1.387122</td>\n",
       "      <td>0.879129</td>\n",
       "      <td>-0.914708</td>\n",
       "      <td>1</td>\n",
       "      <td>0</td>\n",
       "      <td>0.113236</td>\n",
       "      <td>0</td>\n",
       "      <td>0</td>\n",
       "      <td>0</td>\n",
       "    </tr>\n",
       "  </tbody>\n",
       "</table>\n",
       "</div>"
      ],
      "text/plain": [
       "      credit_score       age    tenure   balance  num_of_products  \\\n",
       "2837     -1.040434  0.953312  0.343895  0.774657        -0.914708   \n",
       "9925      0.454006 -0.095244  1.382506  1.910540        -0.914708   \n",
       "8746      0.103585 -0.476537  1.036302  0.481608         0.820981   \n",
       "660      -0.184996  0.190726 -0.694715  0.088439        -0.914708   \n",
       "3610     -0.720933  1.620574 -1.387122  0.879129        -0.914708   \n",
       "\n",
       "      has_cr_card  is_active_member  estimated_salary  geography_Germany  \\\n",
       "2837            0                 1         -0.119110                  1   \n",
       "9925            1                 1         -0.258658                  0   \n",
       "8746            0                 1          1.422836                  0   \n",
       "660             1                 1         -1.160427                  1   \n",
       "3610            1                 0          0.113236                  0   \n",
       "\n",
       "      geography_Spain  gender_Male  \n",
       "2837                0            0  \n",
       "9925                0            0  \n",
       "8746                0            1  \n",
       "660                 0            0  \n",
       "3610                0            0  "
      ]
     },
     "execution_count": 13,
     "metadata": {},
     "output_type": "execute_result"
    }
   ],
   "source": [
    "# делим данные на обучающую и валидационную+тестовую выборки, с сохранением баланса классов\n",
    "\n",
    "features_train, features_testval, target_train, target_testval = train_test_split(\n",
    "    features, target, test_size=0.4, random_state=12345, stratify=target)\n",
    "\n",
    "# стандартизируем количественные признаки\n",
    "\n",
    "# устранение вывода предупреждений\n",
    "pd.options.mode.chained_assignment = None\n",
    "\n",
    "# применим StandardScaler к выборкам\n",
    "scaler = StandardScaler()\n",
    "scaler.fit(features_train[numeric])\n",
    "features_train[numeric] = scaler.transform(features_train[numeric])\n",
    "features_testval[numeric] = scaler.transform(features_testval[numeric])\n",
    "\n",
    "features_train.head()"
   ]
  },
  {
   "cell_type": "markdown",
   "metadata": {},
   "source": [
    "<div class=\"alert alert-success\">\n",
    "<b>Комментарий ревьюера ✔️:</b> Все так, а за stratify отдельный лайк:) </div>"
   ]
  },
  {
   "cell_type": "code",
   "execution_count": 14,
   "metadata": {},
   "outputs": [
    {
     "name": "stdout",
     "output_type": "stream",
     "text": [
      "(6000, 11)\n",
      "(6000,)\n"
     ]
    }
   ],
   "source": [
    "# размер обучающей выборки (признаки и целевой признак)\n",
    "\n",
    "print(features_train.shape)\n",
    "print(target_train.shape)"
   ]
  },
  {
   "cell_type": "code",
   "execution_count": 15,
   "metadata": {},
   "outputs": [
    {
     "data": {
      "text/plain": [
       "0    0.796333\n",
       "1    0.203667\n",
       "Name: exited, dtype: float64"
      ]
     },
     "execution_count": 15,
     "metadata": {},
     "output_type": "execute_result"
    }
   ],
   "source": [
    "# баланс классов в целевом признаке обучающей выборки\n",
    "target_train.value_counts(normalize=True)"
   ]
  },
  {
   "cell_type": "code",
   "execution_count": 16,
   "metadata": {},
   "outputs": [],
   "source": [
    "# делим данные на валидационную и тестовую выборки, с сохранением баланса классов\n",
    "\n",
    "features_test, features_val, target_test, target_val= train_test_split(\n",
    "    features_testval, target_testval, test_size=0.5, random_state=12345, stratify=target_testval)"
   ]
  },
  {
   "cell_type": "code",
   "execution_count": 17,
   "metadata": {},
   "outputs": [
    {
     "data": {
      "text/plain": [
       "0    0.796\n",
       "1    0.204\n",
       "Name: exited, dtype: float64"
      ]
     },
     "execution_count": 17,
     "metadata": {},
     "output_type": "execute_result"
    }
   ],
   "source": [
    "# баланс классов в целевом признаке тестовой выборки\n",
    "target_test.value_counts(normalize=True)"
   ]
  },
  {
   "cell_type": "code",
   "execution_count": 18,
   "metadata": {},
   "outputs": [
    {
     "data": {
      "text/plain": [
       "0    0.7965\n",
       "1    0.2035\n",
       "Name: exited, dtype: float64"
      ]
     },
     "execution_count": 18,
     "metadata": {},
     "output_type": "execute_result"
    }
   ],
   "source": [
    "# баланс классов в целевом признаке валидационной выборки\n",
    "target_val.value_counts(normalize=True)"
   ]
  },
  {
   "cell_type": "code",
   "execution_count": 19,
   "metadata": {},
   "outputs": [
    {
     "name": "stdout",
     "output_type": "stream",
     "text": [
      "(2000, 11)\n",
      "(2000,)\n"
     ]
    }
   ],
   "source": [
    "# размер тестовой выборки (признаки и целевой признак)\n",
    "\n",
    "print(features_test.shape)\n",
    "print(target_test.shape)"
   ]
  },
  {
   "cell_type": "code",
   "execution_count": 20,
   "metadata": {},
   "outputs": [
    {
     "name": "stdout",
     "output_type": "stream",
     "text": [
      "(2000, 11)\n",
      "(2000,)\n"
     ]
    }
   ],
   "source": [
    "# размер валидационной выборки (признаки и целевой признак)\n",
    "\n",
    "print(features_val.shape)\n",
    "print(target_val.shape)"
   ]
  },
  {
   "cell_type": "code",
   "execution_count": 21,
   "metadata": {},
   "outputs": [
    {
     "data": {
      "image/png": "[encoded data removed]",
      "text/plain": [
       "<Figure size 1080x432 with 3 Axes>"
      ]
     },
     "metadata": {},
     "output_type": "display_data"
    }
   ],
   "source": [
    "# построим диаграммы балансов классов в каждой выборке\n",
    "\n",
    "plt.suptitle('Доля классов в выборках:',\n",
    "             fontsize=20)\n",
    "\n",
    "plt.subplot(1, 3, 1)\n",
    "target_train.value_counts().plot(kind='pie', figsize=(15, 6), autopct=\"%.2f\")\n",
    "plt.ylabel('Доля классов')\n",
    "plt.title('обучающая выборка', fontsize=15)\n",
    "\n",
    "plt.subplot(1, 3, 2)\n",
    "target_val.value_counts().plot(kind='pie', autopct=\"%.2f\")\n",
    "plt.ylabel('')\n",
    "plt.title('валидационная выборка', fontsize=15)\n",
    "\n",
    "plt.subplot(1, 3, 3)\n",
    "target_test.value_counts().plot(kind='pie', autopct=\"%.2f\")\n",
    "plt.ylabel('')\n",
    "plt.title('тестовая выборка', fontsize=15)\n",
    "\n",
    "plt.show()"
   ]
  },
  {
   "cell_type": "markdown",
   "metadata": {},
   "source": [
    "*После кодировки категориальных признаков и масштабирования количественных, датасет был разделён на обучающую, валидационную и тестовую выборки в соотношении 60-20-20. При разделении на выборки была применена стратификация данных, что позволило во всех трёх выборках сохранить примерно одинаковое соотношение классов 1 и 0 на целевом признаке, как и в исходном датасете (примерно 80% у класса 0 и 20% у класса 1), что и отображено на диаграммах.*"
   ]
  },
  {
   "cell_type": "markdown",
   "metadata": {},
   "source": [
    "<div class=\"alert alert-success\">\n",
    "<b>Комментарий ревьюера ✔️:</b> Баланс классов исследован хорошо. Молодец, что делаешь вывод размеров полученных выборок. Тут еще можно добавить графики для наглядности и  написать вывод о полученных результатах.</div>"
   ]
  },
  {
   "cell_type": "markdown",
   "metadata": {},
   "source": [
    "<div class=\"alert alert-info\"> <b>Комментарий студента:</b> Графики добавил.</div>"
   ]
  },
  {
   "cell_type": "markdown",
   "metadata": {},
   "source": [
    "<div class=\"alert alert-success\">\n",
    "<b>Комментарий ревьюера v2 ✔️:</b> У тебя получился хороший наглядный график.</div>"
   ]
  },
  {
   "cell_type": "markdown",
   "metadata": {},
   "source": [
    "### Вывод к первому разделу \n",
    "\n",
    "*В данных банка собрана информация о клиентах-физических лицах на определённую дату в разрезе их персональных данных, баланса на счету, кредитного рейтинга, примерной зарплаты, количества лет сотрудничества с банком, количества используемых продуктов банка, активности клиента, наличия кредитной карты. В последней колонке указано, рассторг ли клиент договор с банком (значение 1) или нет (значение 0).*\n",
    "\n",
    "*В базу данных входит информация о 10000 клиентах банка, имеется около 1000 пропусков в данных о количестве лет сотрудничества с банком. Для построения полной корректной модели пропуски были заполнены рандомным существующим значением из столбца о количестве лет сотрудничества с банком, что не позволило существенно изменить исходную долю какого-либо значения.*\n",
    "\n",
    "*Для более точной работы модели категориальные признаки (пол и география клиента) были закодированы с помощью one-hot-encoding, а количественные признаки (кредитный рейтинг, возраст, количество лет сотрудничества, баланс на счёте, количество используемых продуктов банка, зарплата) сжаты методом Standard Scaler.*\n",
    "\n",
    "*Данные клиентов банка разделены на признаки и целевой признак (факт ухода клиента) с разбиением на выборки:*\n",
    "\n",
    "    - обучающая (60% данных)\n",
    "    - валидационная (20% данных)\n",
    "    - тестовая (20% данных)\n",
    "    \n",
    "*Во всех выборках с помощью стратификации сохранён исходный баланс классов целевого признака: 80% класс 0 (текущий клиент) и 20% класс 1 (уход из клиентов банка).*\n",
    "\n",
    "*На основании этих обработанных данных построим модель прогноза перспективы ухода клиента из банка.*\n"
   ]
  },
  {
   "cell_type": "markdown",
   "metadata": {},
   "source": [
    "<div class=\"alert alert-warning\">\n",
    "<b>Комментарий ревьюера ⚠️:</b> Отличный структурированный вывод. Но не забудь его исправить/дополнить после исправлений.</div>"
   ]
  },
  {
   "cell_type": "markdown",
   "metadata": {},
   "source": [
    "<div class=\"alert alert-info\"> <b>Комментарий студента:</b> Да, исправил везде выводы, исходя из переделанной предобработки данных.</div>"
   ]
  },
  {
   "cell_type": "markdown",
   "metadata": {},
   "source": [
    "<div class=\"alert alert-success\">\n",
    "<b>Комментарий ревьюера ✔️:</b> 👌 </div>"
   ]
  },
  {
   "cell_type": "markdown",
   "metadata": {},
   "source": [
    "## Исследование задачи"
   ]
  },
  {
   "cell_type": "markdown",
   "metadata": {},
   "source": [
    "*Исследуем данные без учёта дисбаланса классов на трёх моделях: модели дерева решений, модели случайного леса и логистической регрессии. Подберём такие гиперпараметры для каждой модели, чтобы `'f1'` мера была наибольшей. Также будем измерять параллельно показатель `'AUC_ROC'`. В конце выберем оптимальную модель из этих 3-х для валидационной выборки без учёта дисбаланса классов.*"
   ]
  },
  {
   "cell_type": "code",
   "execution_count": 22,
   "metadata": {},
   "outputs": [
    {
     "name": "stdout",
     "output_type": "stream",
     "text": [
      "   depth  train/f1    val/f1 train/auc_roc val/auc_roc\n",
      "1      1       0.0       0.0      0.679673    0.669679\n",
      "2      2  0.515167  0.480363       0.73138    0.723055\n",
      "3      3  0.527209  0.500754      0.791756    0.782625\n",
      "4      4  0.527123  0.477759       0.81736    0.810692\n",
      "5      5  0.543947  0.490879      0.845938    0.822001\n",
      "6      6  0.580376  0.528951      0.864526    0.828735\n",
      "7      7  0.611529  0.553383      0.880452     0.81183\n",
      "8      8  0.618067  0.520249      0.897154    0.810234\n",
      "9      9  0.688953    0.5243      0.915654     0.79225\n",
      "10    10  0.728496  0.553802      0.935407    0.781858\n",
      "11    11  0.772621   0.52149      0.951299    0.757155\n",
      "12    12  0.818141  0.536451      0.967416     0.73817\n",
      "13    13  0.866696  0.513369      0.979694    0.709593\n",
      "14    14  0.903704  0.539974      0.988922    0.698256\n",
      "15    15  0.927288  0.532995      0.994102    0.693079\n",
      "16    16  0.953859   0.52551      0.997442    0.689432\n",
      "17    17  0.970638  0.511685      0.998878    0.689528\n",
      "18    18  0.982224  0.513939      0.999657    0.693326\n",
      "19    19  0.988506    0.5086      0.999909     0.68997\n"
     ]
    },
    {
     "data": {
      "image/png": "[encoded data removed]",
      "text/plain": [
       "<Figure size 432x864 with 3 Axes>"
      ]
     },
     "metadata": {},
     "output_type": "display_data"
    }
   ],
   "source": [
    "# подбор гиперпараметра max_depth для DecisionTreeClassifier\n",
    "# шапка таблицы для построения графика\n",
    "df_gr = pd.DataFrame(columns = ['depth', 'train/f1', 'val/f1', 'train/auc_roc', 'val/auc_roc'])\n",
    "\n",
    "# перебор гиперпараметра в цикле\n",
    "for depth in range(1, 20):\n",
    "    \n",
    "    # инициализация, обучение, предсказание модели, вероятности класса \"1\" на train и val выборках\n",
    "    model = DecisionTreeClassifier(random_state=12345, max_depth=depth)\n",
    "    model.fit(features_train, target_train)\n",
    "    pred_val = model.predict(features_val)\n",
    "    pred_train = model.predict(features_train)\n",
    "    \n",
    "    probabilities_val = model.predict_proba(features_val)\n",
    "    probabilities_one_val = probabilities_val[:, 1]\n",
    "    \n",
    "    probabilities_train = model.predict_proba(features_train)\n",
    "    probabilities_one_train = probabilities_train[:, 1]\n",
    "    \n",
    "    # заполняем таблицу гиперпараметра и метрик f1/auc_roc у train и val\n",
    "    df_gr.loc[depth, 'depth'] = depth\n",
    "    df_gr.loc[depth, 'train/f1'] = f1_score(target_train, pred_train)\n",
    "    df_gr.loc[depth, 'val/f1'] = f1_score(target_val, pred_val)\n",
    "    df_gr.loc[depth, 'train/auc_roc'] = roc_auc_score(target_train, probabilities_one_train)\n",
    "    df_gr.loc[depth, 'val/auc_roc'] = roc_auc_score(target_val, probabilities_one_val)\n",
    "    \n",
    "# выводим метрики f1/auc_roc на каждом изменении гиперпараметра у train и val\n",
    "print(df_gr)\n",
    "\n",
    "# строим графики изменения f1/auc_roc у обучающего и валидационного набора, изменения f1 и auc_roc у val выборки     \n",
    "sns.set_style('darkgrid')    \n",
    "df_gr = df_gr.astype(float)\n",
    "\n",
    "plt.subplots(figsize = (6,12))\n",
    "plt.subplot(3, 1, 1)\n",
    "plt.title(\"F1 score\")\n",
    "sns.lineplot(x=\"depth\", y=\"train/f1\", data=df_gr, label=\"Train Score\")\n",
    "sns.lineplot(x=\"depth\", y=\"val/f1\", data=df_gr, label=\"Val Score\").set(ylabel='f1')\n",
    "\n",
    "plt.subplot(3, 1, 2)\n",
    "plt.title(\"AUC-ROC score\")\n",
    "sns.lineplot(x=\"depth\", y=\"train/auc_roc\", data=df_gr, label=\"Train Score\")\n",
    "sns.lineplot(x=\"depth\", y=\"val/auc_roc\", data=df_gr, label=\"Val Score\").set(ylabel='auc_roc')\n",
    "\n",
    "plt.subplot(3, 1, 3)\n",
    "plt.title(\"F1 vs. AUC-ROC at validation\")\n",
    "sns.lineplot(x=\"depth\", y=\"val/f1\", data=df_gr, label=\"f1_val\", color='g')\n",
    "sns.lineplot(x=\"depth\", y=\"val/auc_roc\", data=df_gr, label=\"auc-roc_val\", color='r').set(ylabel='')\n",
    "\n",
    "plt.subplots_adjust(hspace=0.3)\n",
    "plt.show()"
   ]
  },
  {
   "cell_type": "code",
   "execution_count": 23,
   "metadata": {
    "scrolled": false
   },
   "outputs": [
    {
     "name": "stdout",
     "output_type": "stream",
     "text": [
      "   min_samples_leaf  train/f1    val/f1 train/auc_roc val/auc_roc\n",
      "1                 1  0.728496  0.553802      0.935407    0.781858\n",
      "2                 2  0.705882  0.540299      0.934406    0.778403\n",
      "3                 3  0.697159  0.523529      0.933087    0.791383\n",
      "4                 4  0.686217  0.507331      0.931377    0.783957\n",
      "5                 5  0.693571  0.546985       0.93162    0.785392\n",
      "6                 6  0.691519  0.521986      0.930724    0.787435\n",
      "7                 7  0.685424  0.532394      0.927098     0.78652\n",
      "8                 8  0.676306  0.540311       0.92526    0.788348\n",
      "9                 9  0.652087  0.509091       0.92269    0.800668\n",
      "10               10  0.645582   0.50536      0.921624    0.799458\n",
      "11               11  0.646505  0.524096      0.919814      0.7988\n",
      "12               12   0.64353  0.539394      0.918325    0.814401\n",
      "13               13  0.639801  0.542986      0.916695    0.814047\n",
      "14               14  0.630468  0.540212      0.914103    0.816059\n",
      "15               15  0.631209  0.540212       0.91258    0.812654\n",
      "16               16  0.635781  0.555721      0.910148    0.817373\n",
      "17               17  0.636719  0.549708      0.908996    0.821814\n",
      "18               18  0.631838  0.548961      0.907323    0.820899\n",
      "19               19  0.631992  0.549483       0.90678    0.820926\n"
     ]
    },
    {
     "data": {
      "image/png": "[encoded data removed]",
      "text/plain": [
       "<Figure size 432x864 with 3 Axes>"
      ]
     },
     "metadata": {},
     "output_type": "display_data"
    }
   ],
   "source": [
    "# подбор гиперпараметра min_samples_leaf для DecisionTreeClassifier\n",
    "# шапка таблицы для построения графика\n",
    "df_gr = pd.DataFrame(columns = ['min_samples_leaf', 'train/f1', 'val/f1', 'train/auc_roc', 'val/auc_roc'])\n",
    "\n",
    "# перебор гиперпараметра в цикле\n",
    "for leaf in range(1, 20):\n",
    "    \n",
    "    # инициализация, обучение, предсказание модели, вероятности класса \"1\" на train и val выборках\n",
    "    model = DecisionTreeClassifier(random_state=12345, max_depth=10, min_samples_leaf=leaf)\n",
    "    model.fit(features_train, target_train)\n",
    "    pred_val = model.predict(features_val)\n",
    "    pred_train = model.predict(features_train)\n",
    "    \n",
    "    probabilities_val = model.predict_proba(features_val)\n",
    "    probabilities_one_val = probabilities_val[:, 1]\n",
    "    \n",
    "    probabilities_train = model.predict_proba(features_train)\n",
    "    probabilities_one_train = probabilities_train[:, 1]\n",
    "    \n",
    "    # заполняем таблицу гиперпараметра и метрик f1/auc_roc у train и val\n",
    "    df_gr.loc[leaf, 'min_samples_leaf'] = leaf\n",
    "    df_gr.loc[leaf, 'train/f1'] = f1_score(target_train, pred_train)\n",
    "    df_gr.loc[leaf, 'val/f1'] = f1_score(target_val, pred_val)\n",
    "    df_gr.loc[leaf, 'train/auc_roc'] = roc_auc_score(target_train, probabilities_one_train)\n",
    "    df_gr.loc[leaf, 'val/auc_roc'] = roc_auc_score(target_val, probabilities_one_val)\n",
    "    \n",
    "# выводим метрики f1/auc_roc на каждом изменении гиперпараметра у train и val\n",
    "print(df_gr)\n",
    "\n",
    "# строим графики изменения f1/auc_roc у обучающего и валидационного набора, изменения f1 и auc_roc у val выборки    \n",
    "df_gr = df_gr.astype(float)\n",
    "\n",
    "plt.subplots(figsize = (6,12))\n",
    "plt.subplot(3, 1, 1)\n",
    "plt.title(\"F1 score\")\n",
    "sns.lineplot(x=\"min_samples_leaf\", y=\"train/f1\", data=df_gr, label=\"Train Score\")\n",
    "sns.lineplot(x=\"min_samples_leaf\", y=\"val/f1\", data=df_gr, label=\"Val Score\").set(ylabel='f1')\n",
    "\n",
    "plt.subplot(3, 1, 2)\n",
    "plt.title(\"AUC-ROC score\")\n",
    "sns.lineplot(x=\"min_samples_leaf\", y=\"train/auc_roc\", data=df_gr, label=\"Train Score\")\n",
    "sns.lineplot(x=\"min_samples_leaf\", y=\"val/auc_roc\", data=df_gr, label=\"Val Score\").set(ylabel='auc_roc')\n",
    "\n",
    "plt.subplot(3, 1, 3)\n",
    "plt.title(\"F1 vs. AUC-ROC at validation\")\n",
    "sns.lineplot(x=\"min_samples_leaf\", y=\"val/f1\", data=df_gr, label=\"f1_val\", color='g')\n",
    "sns.lineplot(x=\"min_samples_leaf\", y=\"val/auc_roc\", data=df_gr, label=\"auc-roc_val\", color='r').set(ylabel='')\n",
    "\n",
    "plt.subplots_adjust(hspace=0.3)\n",
    "plt.show()"
   ]
  },
  {
   "cell_type": "code",
   "execution_count": 24,
   "metadata": {
    "scrolled": true
   },
   "outputs": [
    {
     "name": "stdout",
     "output_type": "stream",
     "text": [
      "   min_samples_split  train/f1    val/f1 train/auc_roc val/auc_roc\n",
      "2                  2  0.635781  0.555721      0.910148    0.817373\n",
      "3                  3  0.635781  0.555721      0.910148    0.817373\n",
      "4                  4  0.635781  0.555721      0.910148    0.817373\n",
      "5                  5  0.635781  0.555721      0.910148    0.817373\n",
      "6                  6  0.635781  0.555721      0.910148    0.817373\n",
      "7                  7  0.635781  0.555721      0.910148    0.817373\n",
      "8                  8  0.635781  0.555721      0.910148    0.817373\n",
      "9                  9  0.635781  0.555721      0.910148    0.817373\n",
      "10                10  0.635781  0.555721      0.910148    0.817373\n",
      "11                11  0.635781  0.555721      0.910148    0.817373\n",
      "12                12  0.635781  0.555721      0.910148    0.817373\n",
      "13                13  0.635781  0.555721      0.910148    0.817373\n",
      "14                14  0.635781  0.555721      0.910148    0.817373\n",
      "15                15  0.635781  0.555721      0.910148    0.817373\n",
      "16                16  0.635781  0.555721      0.910148    0.817373\n",
      "17                17  0.635781  0.555721      0.910148    0.817373\n",
      "18                18  0.635781  0.555721      0.910148    0.817373\n",
      "19                19  0.635781  0.555721      0.910148    0.817373\n"
     ]
    },
    {
     "data": {
      "image/png": "[encoded data removed]",
      "text/plain": [
       "<Figure size 432x864 with 3 Axes>"
      ]
     },
     "metadata": {},
     "output_type": "display_data"
    }
   ],
   "source": [
    "# подбор гиперпараметра min_samples_split для DecisionTreeClassifier\n",
    "# шапка таблицы для построения графика\n",
    "df_gr = pd.DataFrame(columns = ['min_samples_split', 'train/f1', 'val/f1', 'train/auc_roc', 'val/auc_roc'])\n",
    "\n",
    "# перебор гиперпараметра в цикле\n",
    "for split in range(2, 20):\n",
    "    \n",
    "    # инициализация, обучение, предсказание модели, вероятности класса \"1\" на train и val выборках\n",
    "    model = DecisionTreeClassifier(random_state=12345, max_depth=10, min_samples_leaf=16, min_samples_split=split)\n",
    "    model.fit(features_train, target_train)\n",
    "    pred_val = model.predict(features_val)\n",
    "    pred_train = model.predict(features_train)\n",
    "    \n",
    "    probabilities_val = model.predict_proba(features_val)\n",
    "    probabilities_one_val = probabilities_val[:, 1]\n",
    "    \n",
    "    probabilities_train = model.predict_proba(features_train)\n",
    "    probabilities_one_train = probabilities_train[:, 1]\n",
    "    \n",
    "    # заполняем таблицу гиперпараметра и метрик f1/auc_roc у train и val\n",
    "    df_gr.loc[split, 'min_samples_split'] = split\n",
    "    df_gr.loc[split, 'train/f1'] = f1_score(target_train, pred_train)\n",
    "    df_gr.loc[split, 'val/f1'] = f1_score(target_val, pred_val)\n",
    "    df_gr.loc[split, 'train/auc_roc'] = roc_auc_score(target_train, probabilities_one_train)\n",
    "    df_gr.loc[split, 'val/auc_roc'] = roc_auc_score(target_val, probabilities_one_val)\n",
    "    \n",
    "# выводим метрики f1/auc_roc на каждом изменении гиперпараметра у train и val\n",
    "print(df_gr)\n",
    "\n",
    "# строим графики изменения f1/auc_roc у обучающего и валидационного набора, изменения f1 и auc_roc у val выборки    \n",
    "df_gr = df_gr.astype(float)\n",
    "\n",
    "plt.subplots(figsize = (6,12))\n",
    "plt.subplot(3, 1, 1)\n",
    "plt.title(\"F1 score\")\n",
    "sns.lineplot(x=\"min_samples_split\", y=\"train/f1\", data=df_gr, label=\"Train Score\")\n",
    "sns.lineplot(x=\"min_samples_split\", y=\"val/f1\", data=df_gr, label=\"Val Score\").set(ylabel='f1')\n",
    "\n",
    "plt.subplot(3, 1, 2)\n",
    "plt.title(\"AUC-ROC score\")\n",
    "sns.lineplot(x=\"min_samples_split\", y=\"train/auc_roc\", data=df_gr, label=\"Train Score\")\n",
    "sns.lineplot(x=\"min_samples_split\", y=\"val/auc_roc\", data=df_gr, label=\"Val Score\").set(ylabel='auc_roc')\n",
    "\n",
    "plt.subplot(3, 1, 3)\n",
    "plt.title(\"F1 vs. AUC-ROC at validation\")\n",
    "sns.lineplot(x=\"min_samples_split\", y=\"val/f1\", data=df_gr, label=\"f1_val\", color='g')\n",
    "sns.lineplot(x=\"min_samples_split\", y=\"val/auc_roc\", data=df_gr, label=\"auc-roc_val\", color='r').set(ylabel='')\n",
    "\n",
    "plt.subplots_adjust(hspace=0.3)\n",
    "plt.show()"
   ]
  },
  {
   "cell_type": "markdown",
   "metadata": {},
   "source": [
    "<div class=\"alert alert-success\">\n",
    "<b>Комментарий ревьюера ✔️:</b> Отличное решение + прекрасная визуализация = 😍 </div>"
   ]
  },
  {
   "cell_type": "markdown",
   "metadata": {},
   "source": [
    "*Оптимальные гиперпараметры, при которых модель достигает максимальной `'f1`' на валидационной выборке, следующие:*\n",
    "\n",
    "    - max_depth - 10\n",
    "    - min_samples_leaf - 16\n",
    "    - min_samples_split - любой\n",
    "    \n",
    "*Проверим, останутся ли они такими, если их задать все вместе, не по отдельности. Создадим тройной цикл, которые переберёт все комбинации гиперпараметров, записав лучшую модель с лучшими гипрепараметрами.*"
   ]
  },
  {
   "cell_type": "code",
   "execution_count": 25,
   "metadata": {},
   "outputs": [
    {
     "data": {
      "application/vnd.jupyter.widget-view+json": {
       "model_id": "046f9e2fc87b4f13bea72b06079b1165",
       "version_major": 2,
       "version_minor": 0
      },
      "text/plain": [
       "  0%|          | 0/19 [00:00<?, ?it/s]"
      ]
     },
     "metadata": {},
     "output_type": "display_data"
    },
    {
     "name": "stdout",
     "output_type": "stream",
     "text": [
      "Лучшая f1_score: 0.562962962962963\n",
      "Глубина дерева: 9\n",
      "min_samples_leaf: 15\n",
      "min_samples_split: 2\n"
     ]
    }
   ],
   "source": [
    "# подбор гиперпараметров max_depth, min_samples_leaf, min_samples_split во всех вариантах для DecisionTreeClassifier\n",
    "\n",
    "best_model_tree = None\n",
    "best_result = 0\n",
    "best_depth = 0\n",
    "best_leaf = 0\n",
    "best_split = 0\n",
    "    \n",
    "for depth in tqdm(range(1, 20)):\n",
    "    for leaf in range(1, 20):\n",
    "        for split in range(2, 10):\n",
    "            \n",
    "            model = DecisionTreeClassifier(random_state=12345, max_depth=depth, min_samples_leaf=leaf,\n",
    "                                          min_samples_split=split)\n",
    "            model.fit(features_train, target_train)\n",
    "            predictions = model.predict(features_val)\n",
    "            result = f1_score(target_val, predictions)\n",
    "            \n",
    "            if result > best_result:\n",
    "                best_model_tree = model\n",
    "                best_result = result\n",
    "                best_depth = depth\n",
    "                best_leaf = leaf\n",
    "                best_split = split\n",
    "                \n",
    "print(\"Лучшая f1_score:\", best_result)\n",
    "print(\"Глубина дерева:\", best_depth)\n",
    "print(\"min_samples_leaf:\", best_leaf)\n",
    "print(\"min_samples_split:\", best_split)"
   ]
  },
  {
   "cell_type": "markdown",
   "metadata": {},
   "source": [
    "<div class=\"alert alert-success\">\n",
    "<b>Комментарий ревьюера ✔️:</b> Круто, что уже знаешь про tqdm </div>"
   ]
  },
  {
   "cell_type": "markdown",
   "metadata": {},
   "source": [
    "*f1 мера стала немного выше, гиперпараметры изменились. Зафиксируем DecisionTreeClassifier c наибольшей f1.*"
   ]
  },
  {
   "cell_type": "code",
   "execution_count": 26,
   "metadata": {},
   "outputs": [
    {
     "name": "stdout",
     "output_type": "stream",
     "text": [
      "F1: 0.562962962962963\n",
      "AUC-ROC: 0.8166911133012829\n"
     ]
    }
   ],
   "source": [
    "# DecisionTreeClassifier с наибольшей f1, метрики f1 и auc_roc\n",
    "\n",
    "best_model_tree.fit(features_train, target_train)\n",
    "pred_val = best_model_tree.predict(features_val)\n",
    "probabilities_val = best_model_tree.predict_proba(features_val)\n",
    "probabilities_one_val = probabilities_val[:, 1]\n",
    "    \n",
    "print(\"F1:\", f1_score(target_val, pred_val))\n",
    "print(\"AUC-ROC:\", roc_auc_score(target_val, probabilities_one_val))"
   ]
  },
  {
   "cell_type": "markdown",
   "metadata": {},
   "source": [
    "<div class=\"alert alert-warning\">\n",
    "<b>Комментарий ревьюера ⚠️:</b> У тебя же уже ранее была определена лучшая модель в переменной best_model_tree, поэтому определять ее заново не имеет смысла, можно было сразу посчитать по ней метрики. </div>"
   ]
  },
  {
   "cell_type": "markdown",
   "metadata": {},
   "source": [
    "<div class=\"alert alert-info\"> <b>Комментарий студента:</b> Убрал здесь и везде далее лишнюю инициализацию.</div>"
   ]
  },
  {
   "cell_type": "code",
   "execution_count": 27,
   "metadata": {},
   "outputs": [
    {
     "name": "stdout",
     "output_type": "stream",
     "text": [
      "   n_estimators  train/f1    val/f1 train/auc_roc val/auc_roc\n",
      "1            10   0.96149  0.521472       0.99938     0.80471\n",
      "2            15  0.986369  0.540059      0.999858    0.814978\n",
      "3            20  0.987593  0.538462      0.999952    0.823505\n",
      "4            25  0.993835  0.533537      0.999989    0.828938\n",
      "5            30  0.994239  0.534954      0.999995    0.827362\n",
      "6            35  0.997539  0.539394      0.999999    0.826743\n",
      "7            40  0.997539  0.539394      0.999999      0.8297\n",
      "8            45  0.999181  0.537538      0.999999    0.833778\n",
      "9            50  0.998771  0.528875           1.0    0.836113\n",
      "10           55  0.999181  0.533733           1.0    0.838412\n",
      "11           60  0.999181  0.533937           1.0    0.841122\n",
      "12           65       1.0  0.531722           1.0    0.841941\n",
      "13           70  0.999181  0.534143           1.0     0.84286\n",
      "14           75       1.0  0.542474           1.0    0.843586\n",
      "15           80       1.0  0.532526           1.0    0.844317\n",
      "16           85       1.0  0.534535           1.0    0.843721\n",
      "17           90  0.999181  0.533333           1.0    0.844906\n",
      "18           95       1.0  0.531722           1.0    0.845168\n",
      "19          100       1.0  0.533937           1.0    0.845612\n",
      "20          105       1.0  0.535552           1.0    0.845564\n",
      "21          110  0.999591   0.52968           1.0    0.845153\n",
      "22          115  0.999591  0.532526           1.0    0.845513\n",
      "23          120  0.999591   0.52968           1.0    0.846117\n",
      "24          125  0.999591  0.532725           1.0    0.846467\n",
      "25          130  0.999591  0.535168           1.0    0.846828\n",
      "26          135       1.0  0.541857           1.0    0.846603\n",
      "27          140       1.0  0.539634           1.0    0.847006\n",
      "28          145       1.0  0.540212           1.0    0.847212\n",
      "29          150       1.0  0.543247           1.0    0.846878\n"
     ]
    },
    {
     "data": {
      "image/png": "[encoded data removed]",
      "text/plain": [
       "<Figure size 432x864 with 3 Axes>"
      ]
     },
     "metadata": {},
     "output_type": "display_data"
    }
   ],
   "source": [
    "# подбор гиперпараметра n_estimators для RandomForestClassifier\n",
    "# шапка таблицы для построения графика\n",
    "df_gr = pd.DataFrame(columns = ['n_estimators', 'train/f1', 'val/f1', 'train/auc_roc', 'val/auc_roc'])\n",
    "count = 0\n",
    "\n",
    "# перебор гиперпараметра в цикле\n",
    "for est in range(10, 151, 5):\n",
    "    count += 1\n",
    "    # инициализация, обучение, предсказание модели, вероятности класса \"1\" на train и val выборках\n",
    "    model = RandomForestClassifier(random_state=12345, n_estimators=est)\n",
    "    model.fit(features_train, target_train)\n",
    "    pred_val = model.predict(features_val)\n",
    "    pred_train = model.predict(features_train)\n",
    "    \n",
    "    probabilities_val = model.predict_proba(features_val)\n",
    "    probabilities_one_val = probabilities_val[:, 1]\n",
    "    \n",
    "    probabilities_train = model.predict_proba(features_train)\n",
    "    probabilities_one_train = probabilities_train[:, 1]\n",
    "    \n",
    "    # заполняем таблицу гиперпараметра и метрик f1/auc_roc у train и val\n",
    "    df_gr.loc[count, 'n_estimators'] = est\n",
    "    df_gr.loc[count, 'train/f1'] = f1_score(target_train, pred_train)\n",
    "    df_gr.loc[count, 'val/f1'] = f1_score(target_val, pred_val)\n",
    "    df_gr.loc[count, 'train/auc_roc'] = roc_auc_score(target_train, probabilities_one_train)\n",
    "    df_gr.loc[count, 'val/auc_roc'] = roc_auc_score(target_val, probabilities_one_val)\n",
    "    \n",
    "# выводим метрики f1/auc_roc на каждом изменении гиперпараметра у train и val\n",
    "print(df_gr)\n",
    "\n",
    "# строим графики изменения f1/auc_roc у обучающего и валидационного набора, изменения f1 и auc_roc у val выборки         \n",
    "df_gr = df_gr.astype(float)\n",
    "\n",
    "plt.subplots(figsize = (6,12))\n",
    "plt.subplot(3, 1, 1)\n",
    "plt.title(\"F1 score\")\n",
    "sns.lineplot(x=\"n_estimators\", y=\"train/f1\", data=df_gr, label=\"Train Score\")\n",
    "sns.lineplot(x=\"n_estimators\", y=\"val/f1\", data=df_gr, label=\"Val Score\").set(ylabel='f1')\n",
    "\n",
    "plt.subplot(3, 1, 2)\n",
    "plt.title(\"AUC-ROC score\")\n",
    "sns.lineplot(x=\"n_estimators\", y=\"train/auc_roc\", data=df_gr, label=\"Train Score\")\n",
    "sns.lineplot(x=\"n_estimators\", y=\"val/auc_roc\", data=df_gr, label=\"Val Score\").set(ylabel='auc_roc')\n",
    "\n",
    "plt.subplot(3, 1, 3)\n",
    "plt.title(\"F1 vs. AUC-ROC at validation\")\n",
    "sns.lineplot(x=\"n_estimators\", y=\"val/f1\", data=df_gr, label=\"f1_val\", color='g')\n",
    "sns.lineplot(x=\"n_estimators\", y=\"val/auc_roc\", data=df_gr, label=\"auc-roc_val\", color='r').set(ylabel='')\n",
    "\n",
    "plt.subplots_adjust(hspace=0.3)\n",
    "plt.show()"
   ]
  },
  {
   "cell_type": "code",
   "execution_count": 28,
   "metadata": {
    "scrolled": true
   },
   "outputs": [
    {
     "name": "stdout",
     "output_type": "stream",
     "text": [
      "   max_depths  train/f1    val/f1 train/auc_roc val/auc_roc\n",
      "1           1       0.0       0.0      0.794938    0.791161\n",
      "2           2  0.125767  0.115741       0.81935    0.815575\n",
      "3           3  0.204828  0.232759       0.83384    0.824636\n",
      "4           4  0.451929  0.432532      0.849078    0.839389\n",
      "5           5  0.518476  0.466431      0.863042    0.846092\n",
      "6           6   0.55618  0.493197      0.879613    0.853171\n",
      "7           7  0.592148  0.513072      0.896608    0.856113\n",
      "8           8  0.619764  0.517915      0.918534    0.858512\n",
      "9           9  0.655738   0.52496      0.940737    0.859784\n",
      "10         10  0.705761  0.530806      0.962328    0.859627\n",
      "11         11  0.750874  0.537125      0.980717    0.858574\n",
      "12         12  0.801741  0.531447      0.990952    0.856905\n",
      "13         13  0.864516  0.540373      0.996712    0.857543\n",
      "14         14  0.915524  0.540958      0.999054    0.853654\n",
      "15         15  0.960442  0.546012      0.999828    0.850381\n",
      "16         16  0.977834  0.535988      0.999978     0.84763\n",
      "17         17  0.992995  0.544343      0.999998    0.848523\n",
      "18         18  0.999181  0.533333           1.0    0.850528\n",
      "19         19  0.998771  0.545455           1.0    0.844318\n",
      "20         20       1.0   0.52968           1.0     0.84762\n",
      "21         21       1.0    0.5387           1.0    0.850663\n",
      "22         22       1.0  0.533742           1.0    0.848297\n",
      "23         23       1.0  0.536364           1.0    0.850337\n",
      "24         24       1.0  0.534143           1.0    0.848971\n",
      "25         25       1.0  0.537405           1.0    0.847913\n",
      "26         26       1.0  0.541033           1.0    0.848153\n",
      "27         27       1.0  0.538813           1.0    0.846514\n",
      "28         28       1.0  0.540212           1.0    0.846956\n",
      "29         29       1.0  0.540212           1.0    0.846865\n",
      "30         30       1.0  0.543247           1.0    0.846878\n"
     ]
    },
    {
     "data": {
      "image/png": "[encoded data removed]",
      "text/plain": [
       "<Figure size 432x864 with 3 Axes>"
      ]
     },
     "metadata": {},
     "output_type": "display_data"
    }
   ],
   "source": [
    "# подбор гиперпараметра max_depth для RandomForestClassifier\n",
    "# шапка таблицы для построения графика\n",
    "df_gr = pd.DataFrame(columns = ['max_depths', 'train/f1', 'val/f1', 'train/auc_roc', 'val/auc_roc'])\n",
    "\n",
    "# перебор гиперпараметра в цикле\n",
    "for depth in range(1, 31):\n",
    "\n",
    "    # инициализация, обучение, предсказание модели, вероятности класса \"1\" на train и val выборках\n",
    "    model = RandomForestClassifier(random_state=12345, n_estimators=150, max_depth=depth)\n",
    "    model.fit(features_train, target_train)\n",
    "    pred_val = model.predict(features_val)\n",
    "    pred_train = model.predict(features_train)\n",
    "    \n",
    "    probabilities_val = model.predict_proba(features_val)\n",
    "    probabilities_one_val = probabilities_val[:, 1]\n",
    "    \n",
    "    probabilities_train = model.predict_proba(features_train)\n",
    "    probabilities_one_train = probabilities_train[:, 1]\n",
    "    \n",
    "    # заполняем таблицу гиперпараметра и метрик f1/auc_roc у train и val\n",
    "    df_gr.loc[depth, 'max_depths'] = depth\n",
    "    df_gr.loc[depth, 'train/f1'] = f1_score(target_train, pred_train)\n",
    "    df_gr.loc[depth, 'val/f1'] = f1_score(target_val, pred_val)\n",
    "    df_gr.loc[depth, 'train/auc_roc'] = roc_auc_score(target_train, probabilities_one_train)\n",
    "    df_gr.loc[depth, 'val/auc_roc'] = roc_auc_score(target_val, probabilities_one_val)\n",
    "    \n",
    "# выводим метрики f1/auc_roc на каждом изменении гиперпараметра у train и val\n",
    "print(df_gr)\n",
    "\n",
    "# строим графики изменения f1/auc_roc у обучающего и валидационного набора, изменения f1 и auc_roc у val выборки         \n",
    "df_gr = df_gr.astype(float)\n",
    "\n",
    "plt.subplots(figsize = (6,12))\n",
    "plt.subplot(3, 1, 1)\n",
    "plt.title(\"F1 score\")\n",
    "sns.lineplot(x=\"max_depths\", y=\"train/f1\", data=df_gr, label=\"Train Score\")\n",
    "sns.lineplot(x=\"max_depths\", y=\"val/f1\", data=df_gr, label=\"Val Score\").set(ylabel='f1')\n",
    "\n",
    "plt.subplot(3, 1, 2)\n",
    "plt.title(\"AUC-ROC score\")\n",
    "sns.lineplot(x=\"max_depths\", y=\"train/auc_roc\", data=df_gr, label=\"Train Score\")\n",
    "sns.lineplot(x=\"max_depths\", y=\"val/auc_roc\", data=df_gr, label=\"Val Score\").set(ylabel='auc_roc')\n",
    "\n",
    "plt.subplot(3, 1, 3)\n",
    "plt.title(\"F1 vs. AUC-ROC at validation\")\n",
    "sns.lineplot(x=\"max_depths\", y=\"val/f1\", data=df_gr, label=\"f1_val\", color='g')\n",
    "sns.lineplot(x=\"max_depths\", y=\"val/auc_roc\", data=df_gr, label=\"auc-roc_val\", color='r').set(ylabel='')\n",
    "\n",
    "plt.subplots_adjust(hspace=0.3)\n",
    "plt.show()"
   ]
  },
  {
   "cell_type": "code",
   "execution_count": 29,
   "metadata": {
    "scrolled": true
   },
   "outputs": [
    {
     "name": "stdout",
     "output_type": "stream",
     "text": [
      "   min_samples_leaf  train/f1    val/f1 train/auc_roc val/auc_roc\n",
      "1                 1  0.960442  0.546012      0.999828    0.850381\n",
      "2                 2  0.846047  0.544892       0.99572    0.853769\n",
      "3                 3  0.775629  0.548287      0.987691    0.856112\n",
      "4                 4  0.728536  0.526814      0.979992    0.858273\n",
      "5                 5  0.704819  0.532488      0.971896     0.85802\n",
      "6                 6  0.680612  0.531847      0.964748    0.853686\n",
      "7                 7   0.65249    0.5248      0.958067    0.858355\n",
      "8                 8  0.639541    0.5216      0.951898    0.856766\n",
      "9                 9  0.631027  0.516234      0.946671    0.859351\n",
      "10               10  0.618393     0.528       0.94163    0.859951\n",
      "11               11  0.607541  0.518639      0.937894    0.859294\n",
      "12               12  0.606061  0.516129      0.933536    0.859348\n",
      "13               13  0.600107  0.516963      0.930466    0.858072\n",
      "14               14  0.592792  0.515498      0.926741    0.859713\n",
      "15               15  0.588488  0.512235      0.923629     0.85854\n",
      "16               16  0.582703  0.511401      0.919658    0.856551\n",
      "17               17  0.584233  0.509804       0.91787    0.856626\n",
      "18               18  0.581169   0.51634      0.916203    0.859729\n",
      "19               19  0.582251  0.510569      0.913656    0.858785\n"
     ]
    },
    {
     "data": {
      "image/png": "[encoded data removed]",
      "text/plain": [
       "<Figure size 432x864 with 3 Axes>"
      ]
     },
     "metadata": {},
     "output_type": "display_data"
    }
   ],
   "source": [
    "# подбор гиперпараметра min_samples_leaf для RandomForestClassifier\n",
    "# шапка таблицы для построения графика\n",
    "df_gr = pd.DataFrame(columns = ['min_samples_leaf', 'train/f1', 'val/f1', 'train/auc_roc', 'val/auc_roc'])\n",
    "\n",
    "# перебор гиперпараметра в цикле\n",
    "for leaf in range(1, 20):\n",
    "    \n",
    "    # инициализация, обучение, предсказание модели, вероятности класса \"1\" на train и val выборках\n",
    "    model = RandomForestClassifier(random_state=12345, n_estimators=150, max_depth=15, min_samples_leaf=leaf)\n",
    "    model.fit(features_train, target_train)\n",
    "    pred_val = model.predict(features_val)\n",
    "    pred_train = model.predict(features_train)\n",
    "    \n",
    "    probabilities_val = model.predict_proba(features_val)\n",
    "    probabilities_one_val = probabilities_val[:, 1]\n",
    "    \n",
    "    probabilities_train = model.predict_proba(features_train)\n",
    "    probabilities_one_train = probabilities_train[:, 1]\n",
    "    \n",
    "    # заполняем таблицу гиперпараметра и метрик f1/auc_roc у train и val\n",
    "    df_gr.loc[leaf, 'min_samples_leaf'] = leaf\n",
    "    df_gr.loc[leaf, 'train/f1'] = f1_score(target_train, pred_train)\n",
    "    df_gr.loc[leaf, 'val/f1'] = f1_score(target_val, pred_val)\n",
    "    df_gr.loc[leaf, 'train/auc_roc'] = roc_auc_score(target_train, probabilities_one_train)\n",
    "    df_gr.loc[leaf, 'val/auc_roc'] = roc_auc_score(target_val, probabilities_one_val)\n",
    "    \n",
    "# выводим метрики f1/auc_roc на каждом изменении гиперпараметра у train и val\n",
    "print(df_gr)\n",
    "\n",
    "# строим графики изменения f1/auc_roc у обучающего и валидационного набора, изменения f1 и auc_roc у val выборки    \n",
    "df_gr = df_gr.astype(float)\n",
    "\n",
    "plt.subplots(figsize = (6,12))\n",
    "plt.subplot(3, 1, 1)\n",
    "plt.title(\"F1 score\")\n",
    "sns.lineplot(x=\"min_samples_leaf\", y=\"train/f1\", data=df_gr, label=\"Train Score\")\n",
    "sns.lineplot(x=\"min_samples_leaf\", y=\"val/f1\", data=df_gr, label=\"Val Score\").set(ylabel='f1')\n",
    "\n",
    "plt.subplot(3, 1, 2)\n",
    "plt.title(\"AUC-ROC score\")\n",
    "sns.lineplot(x=\"min_samples_leaf\", y=\"train/auc_roc\", data=df_gr, label=\"Train Score\")\n",
    "sns.lineplot(x=\"min_samples_leaf\", y=\"val/auc_roc\", data=df_gr, label=\"Val Score\").set(ylabel='auc_roc')\n",
    "\n",
    "plt.subplot(3, 1, 3)\n",
    "plt.title(\"F1 vs. AUC-ROC at validation\")\n",
    "sns.lineplot(x=\"min_samples_leaf\", y=\"val/f1\", data=df_gr, label=\"f1_val\", color='g')\n",
    "sns.lineplot(x=\"min_samples_leaf\", y=\"val/auc_roc\", data=df_gr, label=\"auc-roc_val\", color='r').set(ylabel='')\n",
    "\n",
    "plt.subplots_adjust(hspace=0.3)\n",
    "plt.show()"
   ]
  },
  {
   "cell_type": "markdown",
   "metadata": {},
   "source": [
    "<div class=\"alert alert-success\">\n",
    "<b>Комментарий ревьюера ✔️:</b> 👍 </div>"
   ]
  },
  {
   "cell_type": "markdown",
   "metadata": {},
   "source": [
    "*Оптимальные гиперпараметры, при которых модель RandomForestClassifier достигает максимальной `'f1`' на валидационной выборке, следующие:*\n",
    "\n",
    "    - n_estimators - 150\n",
    "    - max_depth - 15\n",
    "    - min_samples_leaf - 3\n",
    "    \n",
    "*Проверим, останутся ли они такими, если их задать все вместе, не по отдельности. Создадим тройной цикл, которые переберёт все комбинации гиперпараметров, записав лучшую модель с лучшими гипрепараметрами.*\n"
   ]
  },
  {
   "cell_type": "code",
   "execution_count": 30,
   "metadata": {},
   "outputs": [
    {
     "data": {
      "application/vnd.jupyter.widget-view+json": {
       "model_id": "3658a8cfe23c43c4aa1474764d81693c",
       "version_major": 2,
       "version_minor": 0
      },
      "text/plain": [
       "  0%|          | 0/9 [00:00<?, ?it/s]"
      ]
     },
     "metadata": {},
     "output_type": "display_data"
    },
    {
     "name": "stdout",
     "output_type": "stream",
     "text": [
      "Лучшая f1_score: 0.5727272727272728\n",
      "Количество деревьев: 10\n",
      "Глубина дерева: 17\n",
      "min_samples_leaf: 3\n"
     ]
    }
   ],
   "source": [
    "# подбор гиперпараметров n_estimators, max_depth, min_samples_leaf во всех вариантах для RandomForestClassifier\n",
    "\n",
    "best_model_forest = None\n",
    "best_result = 0\n",
    "best_est = 0\n",
    "best_depth = 0\n",
    "best_leaf = 0\n",
    "    \n",
    "for est in tqdm(range(10, 100, 10)):\n",
    "    for depth in range(1, 21):\n",
    "        for leaf in range(1, 10):\n",
    "            \n",
    "            model = RandomForestClassifier(random_state=12345, n_estimators=est, max_depth=depth, min_samples_leaf=leaf)\n",
    "            model.fit(features_train, target_train)\n",
    "            predictions = model.predict(features_val)\n",
    "            result = f1_score(target_val, predictions)\n",
    "            \n",
    "            if result > best_result:\n",
    "                best_model_forest = model\n",
    "                best_result = result\n",
    "                best_est = est\n",
    "                best_depth = depth\n",
    "                best_leaf = leaf\n",
    "                \n",
    "print(\"Лучшая f1_score:\", best_result)\n",
    "print(\"Количество деревьев:\", best_est)\n",
    "print(\"Глубина дерева:\", best_depth)\n",
    "print(\"min_samples_leaf:\", best_leaf)"
   ]
  },
  {
   "cell_type": "markdown",
   "metadata": {},
   "source": [
    "<div class=\"alert alert-danger\">\n",
    "<b>Комментарий ревьюера ❌:</b> Следует запустить. </div>"
   ]
  },
  {
   "cell_type": "markdown",
   "metadata": {},
   "source": [
    "<div class=\"alert alert-info\"> <b>Комментарий студента:</b> Здесь и далее везде раскомментированы коды.</div>"
   ]
  },
  {
   "cell_type": "markdown",
   "metadata": {},
   "source": [
    "<div class=\"alert alert-success\">\n",
    "<b>Комментарий ревьюера v2 ✔️:</b> Отлично </div>"
   ]
  },
  {
   "cell_type": "markdown",
   "metadata": {},
   "source": [
    "*f1 мера увеличилась, гиперпараметры изменились, их и зафиксируем, чтобы проверить, повлияет ли гиперпараметр min_samples_split на увеличение f1.* "
   ]
  },
  {
   "cell_type": "code",
   "execution_count": 31,
   "metadata": {
    "scrolled": true
   },
   "outputs": [
    {
     "name": "stdout",
     "output_type": "stream",
     "text": [
      "   min_samples_split  train/f1    val/f1 train/auc_roc val/auc_roc\n",
      "2                  2  0.772212  0.572727      0.978825    0.826923\n",
      "3                  3  0.772212  0.572727      0.978825    0.826923\n",
      "4                  4  0.772212  0.572727      0.978825    0.826923\n",
      "5                  5  0.772212  0.572727      0.978825    0.826923\n",
      "6                  6  0.772212  0.572727      0.978825    0.826923\n",
      "7                  7  0.763133  0.540212      0.977235    0.834136\n",
      "8                  8  0.758621  0.544615      0.974695    0.835089\n",
      "9                  9   0.75048  0.561934      0.970584    0.826587\n",
      "10                10  0.741171  0.517241      0.967897    0.829415\n",
      "11                11  0.731636  0.558912      0.964883      0.8269\n",
      "12                12  0.723197  0.553191      0.962983    0.830427\n",
      "13                13     0.693  0.511848      0.961773    0.833752\n",
      "14                14  0.703102  0.552147      0.960751    0.839528\n",
      "15                15  0.709931  0.533128      0.958211    0.832339\n",
      "16                16  0.689277  0.536434      0.957373    0.829969\n",
      "17                17  0.684524   0.54878      0.954123    0.831344\n",
      "18                18  0.682828  0.552672      0.952486    0.832006\n",
      "19                19  0.676353  0.540958      0.949944    0.835052\n"
     ]
    },
    {
     "data": {
      "image/png": "[encoded data removed]",
      "text/plain": [
       "<Figure size 432x864 with 3 Axes>"
      ]
     },
     "metadata": {},
     "output_type": "display_data"
    }
   ],
   "source": [
    "# подбор гиперпараметра min_samples_split для RandomForestClassifier\n",
    "# шапка таблицы для построения графика\n",
    "df_gr = pd.DataFrame(columns = ['min_samples_split', 'train/f1', 'val/f1', 'train/auc_roc', 'val/auc_roc'])\n",
    "\n",
    "# перебор гиперпараметра в цикле\n",
    "for split in range(2, 20):\n",
    "    \n",
    "    # инициализация, обучение, предсказание модели, вероятности класса \"1\" на train и val выборках\n",
    "    model = RandomForestClassifier(random_state=12345, n_estimators=10, max_depth=17, min_samples_leaf=3,\n",
    "                                   min_samples_split=split)\n",
    "    model.fit(features_train, target_train)\n",
    "    pred_val = model.predict(features_val)\n",
    "    pred_train = model.predict(features_train)\n",
    "    \n",
    "    probabilities_val = model.predict_proba(features_val)\n",
    "    probabilities_one_val = probabilities_val[:, 1]\n",
    "    \n",
    "    probabilities_train = model.predict_proba(features_train)\n",
    "    probabilities_one_train = probabilities_train[:, 1]\n",
    "    \n",
    "    # заполняем таблицу гиперпараметра и метрик f1/auc_roc у train и val\n",
    "    df_gr.loc[split, 'min_samples_split'] = split\n",
    "    df_gr.loc[split, 'train/f1'] = f1_score(target_train, pred_train)\n",
    "    df_gr.loc[split, 'val/f1'] = f1_score(target_val, pred_val)\n",
    "    df_gr.loc[split, 'train/auc_roc'] = roc_auc_score(target_train, probabilities_one_train)\n",
    "    df_gr.loc[split, 'val/auc_roc'] = roc_auc_score(target_val, probabilities_one_val)\n",
    "    \n",
    "# выводим метрики f1/auc_roc на каждом изменении гиперпараметра у train и val\n",
    "print(df_gr)\n",
    "\n",
    "# строим графики изменения f1/auc_roc у обучающего и валидационного набора, изменения f1 и auc_roc у val выборки    \n",
    "df_gr = df_gr.astype(float)\n",
    "\n",
    "plt.subplots(figsize = (6,12))\n",
    "plt.subplot(3, 1, 1)\n",
    "plt.title(\"F1 score\")\n",
    "sns.lineplot(x=\"min_samples_split\", y=\"train/f1\", data=df_gr, label=\"Train Score\")\n",
    "sns.lineplot(x=\"min_samples_split\", y=\"val/f1\", data=df_gr, label=\"Val Score\").set(ylabel='f1')\n",
    "\n",
    "plt.subplot(3, 1, 2)\n",
    "plt.title(\"AUC-ROC score\")\n",
    "sns.lineplot(x=\"min_samples_split\", y=\"train/auc_roc\", data=df_gr, label=\"Train Score\")\n",
    "sns.lineplot(x=\"min_samples_split\", y=\"val/auc_roc\", data=df_gr, label=\"Val Score\").set(ylabel='auc_roc')\n",
    "\n",
    "plt.subplot(3, 1, 3)\n",
    "plt.title(\"F1 vs. AUC-ROC at validation\")\n",
    "sns.lineplot(x=\"min_samples_split\", y=\"val/f1\", data=df_gr, label=\"f1_val\", color='g')\n",
    "sns.lineplot(x=\"min_samples_split\", y=\"val/auc_roc\", data=df_gr, label=\"auc-roc_val\", color='r').set(ylabel='')\n",
    "\n",
    "plt.subplots_adjust(hspace=0.3)\n",
    "plt.show()"
   ]
  },
  {
   "cell_type": "markdown",
   "metadata": {},
   "source": [
    "*Значения min_samples_split, отличные от дефолтного, только уменьшают f1 меру. Поэтому зафиксируем гиперпараметры, приведенные выше, в качестве оптимальных для RandomForestClassifier.*"
   ]
  },
  {
   "cell_type": "code",
   "execution_count": 32,
   "metadata": {},
   "outputs": [
    {
     "name": "stdout",
     "output_type": "stream",
     "text": [
      "F1: 0.5727272727272728\n",
      "AUC-ROC: 0.8269232252283101\n"
     ]
    }
   ],
   "source": [
    "# RandomForestClassifier с наибольшей f1, метрики f1 и auc_roc\n",
    "\n",
    "best_model_forest.fit(features_train, target_train)\n",
    "pred_val = best_model_forest.predict(features_val)\n",
    "probabilities_val = best_model_forest.predict_proba(features_val)\n",
    "probabilities_one_val = probabilities_val[:, 1]\n",
    "    \n",
    "print(\"F1:\", f1_score(target_val, pred_val))\n",
    "print(\"AUC-ROC:\", roc_auc_score(target_val, probabilities_one_val)) "
   ]
  },
  {
   "cell_type": "code",
   "execution_count": 33,
   "metadata": {},
   "outputs": [
    {
     "name": "stdout",
     "output_type": "stream",
     "text": [
      "F1: 0.2953271028037383\n",
      "AUC-ROC: 0.7470382555128318\n"
     ]
    }
   ],
   "source": [
    "# модель LogisticRegression, гиперпараметры оптимальны в основном дефолтные, кроме tol\n",
    "\n",
    "model = LogisticRegression(random_state=12345, tol=20)\n",
    "model.fit(features_train, target_train)\n",
    "pred_val = model.predict(features_val)\n",
    "probabilities_val = model.predict_proba(features_val)\n",
    "probabilities_one_val = probabilities_val[:, 1]\n",
    "    \n",
    "print(\"F1:\", f1_score(target_val, pred_val))\n",
    "print(\"AUC-ROC:\", roc_auc_score(target_val, probabilities_one_val)) "
   ]
  },
  {
   "cell_type": "code",
   "execution_count": 34,
   "metadata": {},
   "outputs": [
    {
     "name": "stdout",
     "output_type": "stream",
     "text": [
      "                 C  train/f1    val/f1 train/auc_roc val/auc_roc\n",
      "1              0.0       0.0       0.0      0.747438    0.729759\n",
      "2              0.0       0.0       0.0      0.747508    0.729825\n",
      "3              0.0       0.0       0.0      0.747661    0.730001\n",
      "4              0.0       0.0       0.0      0.747878     0.73027\n",
      "5              0.0       0.0       0.0      0.748605    0.731254\n",
      "6              0.0       0.0       0.0      0.748586    0.731229\n",
      "7              0.0       0.0       0.0      0.748517    0.731143\n",
      "8              0.0       0.0       0.0      0.748405    0.730973\n",
      "9              0.0       0.0       0.0      0.747136    0.729403\n",
      "10             0.0       0.0       0.0      0.747181    0.729458\n",
      "11             0.0       0.0       0.0      0.747395    0.729696\n",
      "12             0.0       0.0       0.0      0.747752    0.730086\n",
      "13             0.0       0.0       0.0      0.747225    0.729538\n",
      "14        0.000001       0.0       0.0       0.74745    0.729778\n",
      "15        0.000001       0.0       0.0      0.747632    0.729975\n",
      "16        0.000001       0.0       0.0      0.747792    0.730151\n",
      "17        0.000002       0.0       0.0      0.747943    0.730364\n",
      "18        0.000003       0.0       0.0      0.747993    0.730453\n",
      "19        0.000004       0.0       0.0      0.748086    0.730598\n",
      "20        0.000005       0.0       0.0      0.748172    0.730688\n",
      "21        0.000007       0.0       0.0      0.748258      0.7308\n",
      "22        0.000009       0.0       0.0      0.748649    0.731223\n",
      "23        0.000013       0.0       0.0      0.748113    0.730597\n",
      "24        0.000018       0.0       0.0       0.74862    0.731183\n",
      "25        0.000025       0.0       0.0      0.748731    0.731326\n",
      "26        0.000034       0.0       0.0      0.748942    0.731608\n",
      "27        0.000048       0.0       0.0      0.749234    0.732037\n",
      "28        0.000066       0.0       0.0      0.749256    0.732032\n",
      "29        0.000091       0.0       0.0      0.749807     0.73279\n",
      "30        0.000126       0.0       0.0      0.750601    0.733916\n",
      "31        0.000175       0.0       0.0      0.751183    0.734673\n",
      "32        0.000242       0.0       0.0      0.752661    0.736636\n",
      "33        0.000335       0.0       0.0      0.753645    0.737813\n",
      "34        0.000464       0.0       0.0      0.755477    0.739914\n",
      "35        0.000643       0.0       0.0       0.75769    0.743099\n",
      "36         0.00089       0.0  0.004878      0.757883    0.743168\n",
      "37        0.001233  0.009701  0.004854      0.759702    0.745428\n",
      "38        0.001707  0.031521  0.009569       0.76165    0.748255\n",
      "39        0.002364  0.062595  0.023364      0.763347    0.750092\n",
      "40        0.003275  0.107511  0.054054      0.764398    0.750691\n",
      "41        0.004535  0.142139  0.092308      0.765445    0.752056\n",
      "42         0.00628  0.178896  0.133047      0.765692    0.751863\n",
      "43        0.008697  0.214966  0.163522      0.765459    0.751227\n",
      "44        0.012045  0.238885  0.193018      0.764935     0.75066\n",
      "45        0.016681   0.26442  0.217742      0.764471    0.749975\n",
      "46        0.023101  0.280255  0.252465      0.763995    0.749463\n",
      "47        0.031993  0.301934  0.279612      0.763349     0.74847\n",
      "48        0.044306  0.304833   0.28131      0.763032    0.748118\n",
      "49        0.061359  0.310811  0.280769      0.762798    0.747941\n",
      "50        0.084975  0.313797  0.288973      0.762622    0.747738\n",
      "51        0.117681  0.316748  0.288425      0.762469    0.747536\n",
      "52        0.162975  0.316172  0.291667      0.762342    0.747374\n",
      "53        0.225702  0.320869  0.290019      0.762247    0.747325\n",
      "54        0.312572  0.320289  0.290019      0.762186    0.747205\n",
      "55        0.432876  0.320289  0.293233      0.762145    0.747134\n",
      "56        0.599484  0.320096  0.292135      0.762111    0.747097\n",
      "57        0.830218  0.319712  0.292135      0.762093    0.747061\n",
      "58        1.149757  0.319712  0.295327      0.762075    0.747027\n",
      "59        1.592283  0.319712  0.294227      0.762065     0.74702\n",
      "60        2.205131  0.319712  0.294227      0.762063    0.746994\n",
      "61        3.053856  0.320528  0.294227      0.762057    0.746966\n",
      "62        4.229243  0.320528  0.294227      0.762049     0.74696\n",
      "63        5.857021  0.320528  0.294227      0.762047    0.746963\n",
      "64        8.111308  0.321536  0.294227      0.762045    0.746958\n",
      "65        11.23324  0.322542  0.294227      0.762039    0.746953\n",
      "66       15.556761  0.322542  0.294227      0.762037    0.746947\n",
      "67       21.544347  0.322542  0.294227      0.762038    0.746944\n",
      "68       29.836472  0.322542  0.294227      0.762039    0.746946\n",
      "69       41.320124  0.322542  0.294227      0.762038    0.746947\n",
      "70       57.223677  0.322542  0.294227      0.762037    0.746949\n",
      "71        79.24829  0.322542  0.294227      0.762036    0.746949\n",
      "72      109.749877  0.322542  0.294227      0.762036     0.74695\n",
      "73      151.991108  0.322542  0.294227      0.762036     0.74695\n",
      "74      210.490414  0.322542  0.294227      0.762037     0.74695\n",
      "75      291.505306  0.322542  0.294227      0.762036    0.746949\n",
      "76      403.701726  0.322542  0.294227      0.762036    0.746947\n",
      "77      559.081018  0.322542  0.294227      0.762035    0.746947\n",
      "78      774.263683  0.322542  0.294227      0.762035    0.746947\n",
      "79     1072.267222  0.322542  0.294227      0.762035    0.746947\n",
      "80     1484.968262  0.322542  0.294227      0.762035    0.746947\n",
      "81     2056.512308  0.322542  0.294227      0.762035    0.746947\n",
      "82     2848.035868  0.322542  0.294227      0.762035    0.746947\n",
      "83     3944.206059  0.322542  0.294227      0.762035    0.746947\n",
      "84     5462.277218  0.322542  0.294227      0.762035    0.746946\n",
      "85     7564.633276  0.322542  0.294227      0.762035    0.746946\n",
      "86    10476.157528  0.322542  0.294227      0.762035    0.746946\n",
      "87    14508.287785  0.322542  0.294227      0.762035    0.746946\n",
      "88    20092.330026  0.322542  0.294227      0.762035    0.746946\n",
      "89    27825.594022  0.322542  0.294227      0.762035    0.746946\n",
      "90    38535.285937  0.322542  0.294227      0.762035    0.746946\n",
      "91    53366.992312  0.322542  0.294227      0.762035    0.746946\n",
      "92    73907.220335  0.322542  0.294227      0.762035    0.746946\n",
      "93    102353.10219  0.322542  0.294227      0.762035    0.746946\n",
      "94   141747.416293  0.322542  0.294227      0.762035    0.746946\n",
      "95   196304.065004  0.322542  0.294227      0.762035    0.746946\n",
      "96   271858.824273  0.322542  0.294227      0.762035    0.746946\n",
      "97   376493.580679  0.322542  0.294227      0.762035    0.746946\n",
      "98     521400.8288  0.322542  0.294227      0.762035    0.746946\n",
      "99   722080.901839  0.322542  0.294227      0.762035    0.746946\n",
      "100      1000000.0  0.322542  0.294227      0.762035    0.746946\n"
     ]
    },
    {
     "data": {
      "image/png": "[encoded data removed]",
      "text/plain": [
       "<Figure size 432x864 with 3 Axes>"
      ]
     },
     "metadata": {},
     "output_type": "display_data"
    }
   ],
   "source": [
    "# подбор гиперпараметра C для LogisticRegression\n",
    "\n",
    "pd.options.display.max_rows = 100\n",
    "\n",
    "# шапка таблицы для построения графика\n",
    "df_gr = pd.DataFrame(columns = ['C', 'train/f1', 'val/f1', 'train/auc_roc', 'val/auc_roc'])\n",
    "count = 0\n",
    "# перебор гиперпараметра в цикле логарифмической шкалы для большего охвата данных\n",
    "for c in np.logspace(-8, 6, num=100):\n",
    "    count += 1\n",
    "    # инициализация, обучение, предсказание модели, вероятности класса \"1\" на train и val выборках\n",
    "    model = LogisticRegression(random_state=12345, tol=20, C=c)\n",
    "    model.fit(features_train, target_train)\n",
    "    pred_val = model.predict(features_val)\n",
    "    pred_train = model.predict(features_train)\n",
    "    \n",
    "    probabilities_val = model.predict_proba(features_val)\n",
    "    probabilities_one_val = probabilities_val[:, 1]\n",
    "    \n",
    "    probabilities_train = model.predict_proba(features_train)\n",
    "    probabilities_one_train = probabilities_train[:, 1]\n",
    "    \n",
    "    # заполняем таблицу гиперпараметра и метрик f1/auc_roc у train и val\n",
    "    df_gr.loc[count, 'C'] = c\n",
    "    df_gr.loc[count, 'train/f1'] = f1_score(target_train, pred_train)\n",
    "    df_gr.loc[count, 'val/f1'] = f1_score(target_val, pred_val)\n",
    "    df_gr.loc[count, 'train/auc_roc'] = roc_auc_score(target_train, probabilities_one_train)\n",
    "    df_gr.loc[count, 'val/auc_roc'] = roc_auc_score(target_val, probabilities_one_val)\n",
    "    \n",
    "# выводим метрики f1/auc_roc на каждом изменении гиперпараметра у train и val\n",
    "print(df_gr)\n",
    "\n",
    "# строим графики изменения f1/auc_roc у обучающего и валидационного набора, изменения f1 и auc_roc у val выборки    \n",
    "df_gr = df_gr.astype(float)\n",
    "\n",
    "plt.subplots(figsize = (6,12))\n",
    "plt.subplot(3, 1, 1)\n",
    "plt.title(\"F1 score\")\n",
    "sns.lineplot(x=\"C\", y=\"train/f1\", data=df_gr, label=\"Train Score\")\n",
    "sns.lineplot(x=\"C\", y=\"val/f1\", data=df_gr, label=\"Val Score\").set(ylabel='f1')\n",
    "\n",
    "plt.subplot(3, 1, 2)\n",
    "plt.title(\"AUC-ROC score\")\n",
    "sns.lineplot(x=\"C\", y=\"train/auc_roc\", data=df_gr, label=\"Train Score\")\n",
    "sns.lineplot(x=\"C\", y=\"val/auc_roc\", data=df_gr, label=\"Val Score\").set(ylabel='auc_roc')\n",
    "\n",
    "plt.subplot(3, 1, 3)\n",
    "plt.title(\"F1 vs. AUC-ROC at validation\")\n",
    "sns.lineplot(x=\"C\", y=\"val/f1\", data=df_gr, label=\"f1_val\", color='g')\n",
    "sns.lineplot(x=\"C\", y=\"val/auc_roc\", data=df_gr, label=\"auc-roc_val\", color='r').set(ylabel='')\n",
    "\n",
    "plt.subplots_adjust(hspace=0.3)\n",
    "plt.show()"
   ]
  },
  {
   "cell_type": "code",
   "execution_count": 35,
   "metadata": {},
   "outputs": [
    {
     "name": "stdout",
     "output_type": "stream",
     "text": [
      "F1: 0.2953271028037383\n",
      "AUC-ROC: 0.7470382555128318\n"
     ]
    }
   ],
   "source": [
    "# RandomForestClassifier с наибольшей f1, метрики f1 и auc_roc\n",
    "\n",
    "best_model_regr = LogisticRegression(random_state=12345, tol=20, C=1)\n",
    "best_model_regr.fit(features_train, target_train)\n",
    "pred_val = best_model_regr.predict(features_val)\n",
    "probabilities_val = best_model_regr.predict_proba(features_val)\n",
    "probabilities_one_val = probabilities_val[:, 1]\n",
    "    \n",
    "print(\"F1:\", f1_score(target_val, pred_val))\n",
    "print(\"AUC-ROC:\", roc_auc_score(target_val, probabilities_one_val)) "
   ]
  },
  {
   "cell_type": "markdown",
   "metadata": {},
   "source": [
    "### Вывод ко второму разделу \n",
    "\n",
    "\n",
    "*Были обучены с подбором гиперпараметров (на обучающей выборке) и проверены на f1 score и auc_roc score (на обучающей и валидационной выборках) следующие типы моделей:*\n",
    "\n",
    "    - модель дерева решений (DecisionTreeClassifier)\n",
    "    - модель случайного леса (RandomForestClassifier)\n",
    "    - модель логистической регрессии (LogisticRegression)\n",
    "    \n",
    "**Модель дерева решений (DecisionTreeClassifier)**\n",
    "\n",
    "*Подобраны следующие оптимальные гиперпараметры: максимальная глубина дерева (max_depth) - 9, минимальное количество примеров для разделения (min_samples_leaf) - 15, минимальное количество объектов для разделения (min_samples_split) - 2. Удалось достичь f1 score - 0.563, метрика AUC_ROC у этой оптимальной модели - 0.817*\n",
    "\n",
    "\n",
    "**Модель случайного леса (RandomForestClassifier)**\n",
    "\n",
    "*Подобраны следующие оптимальные гиперпараметры: количество деревьев (n_estimators) - 10, max_depth - 17, min_samples_leaf - 3. Удалось достичь f1 score - 0.573, метрика AUC_ROC у этой оптимальной модели - 0.827*\n",
    "\n",
    "**Модель логистической регрессии (LogisticRegression)**\n",
    "\n",
    "*Подобраны следующие оптимальные гиперпараметры: C(регуляризация) - 1, допуск (tol) - 20. Удалось достичь f1 score - 0.295, метрика AUC_ROC у этой оптимальной модели - 0.747*\n",
    "\n",
    "*Даже модель с наибольшим f1 score (**RandomForestClassifier**) в 0.573 не дотягивает до требуемого значения в 0.59, поэтому необходимо повысить эту метрику, устраняя дисбаланс классов в целевом признаке. Метрики AUC_ROC не сильно отличаются друг от друга, модели далеки от случайных, у модели с наибольшим f1 score значение метрики AUC_ROC - 0.827.*\n"
   ]
  },
  {
   "cell_type": "markdown",
   "metadata": {},
   "source": [
    "<div class=\"alert alert-success\">\n",
    "<b>Комментарий ревьюера ✔️:</b> Отличный вывод, молодец! </div>"
   ]
  },
  {
   "cell_type": "markdown",
   "metadata": {},
   "source": [
    "## Борьба с дисбалансом"
   ]
  },
  {
   "cell_type": "markdown",
   "metadata": {},
   "source": [
    "*Посмотрим, как поведут себя модели с оптимальными гиперпараметрами без учёта дисбаланса классов, если мы сбалансируем классы путём присвоения классу 1 большего веса, указав это в гиперпараметре.*"
   ]
  },
  {
   "cell_type": "code",
   "execution_count": 36,
   "metadata": {},
   "outputs": [
    {
     "name": "stdout",
     "output_type": "stream",
     "text": [
      "F1: 0.47602441150828245\n",
      "AUC-ROC: 0.7542072118343304\n"
     ]
    }
   ],
   "source": [
    "# LogisticRegression сбалансированные классы\n",
    "\n",
    "best_model_regr = LogisticRegression(random_state=12345, tol=20, C=1, class_weight='balanced')\n",
    "best_model_regr.fit(features_train, target_train)\n",
    "pred_val = best_model_regr.predict(features_val)\n",
    "probabilities_val = best_model_regr.predict_proba(features_val)\n",
    "probabilities_one_val = probabilities_val[:, 1]\n",
    "    \n",
    "print(\"F1:\", f1_score(target_val, pred_val))\n",
    "print(\"AUC-ROC:\", roc_auc_score(target_val, probabilities_one_val)) "
   ]
  },
  {
   "cell_type": "code",
   "execution_count": 37,
   "metadata": {},
   "outputs": [
    {
     "name": "stdout",
     "output_type": "stream",
     "text": [
      "F1: 0.5740498034076015\n",
      "AUC-ROC: 0.8285504302453456\n"
     ]
    }
   ],
   "source": [
    "# RandomForestClassifier сбалансированные классы\n",
    "\n",
    "best_model_forest = RandomForestClassifier(random_state=12345, n_estimators=10, max_depth=17, \n",
    "                                           min_samples_leaf=3, class_weight='balanced')\n",
    "best_model_forest.fit(features_train, target_train)\n",
    "pred_val = best_model_forest.predict(features_val)\n",
    "probabilities_val = best_model_forest.predict_proba(features_val)\n",
    "probabilities_one_val = probabilities_val[:, 1]\n",
    "    \n",
    "print(\"F1:\", f1_score(target_val, pred_val))\n",
    "print(\"AUC-ROC:\", roc_auc_score(target_val, probabilities_one_val)) "
   ]
  },
  {
   "cell_type": "code",
   "execution_count": 38,
   "metadata": {},
   "outputs": [
    {
     "name": "stdout",
     "output_type": "stream",
     "text": [
      "F1: 0.5267249757045676\n",
      "AUC-ROC: 0.8024334041283194\n"
     ]
    }
   ],
   "source": [
    "# DecisionTreeClassifier сбалансированные классы\n",
    "\n",
    "best_model_tree = DecisionTreeClassifier(random_state=12345, max_depth=9, min_samples_leaf=15, \n",
    "                                         min_samples_split=2, class_weight='balanced')\n",
    "best_model_tree.fit(features_train, target_train)\n",
    "pred_val = best_model_tree.predict(features_val)\n",
    "probabilities_val = best_model_tree.predict_proba(features_val)\n",
    "probabilities_one_val = probabilities_val[:, 1]\n",
    "    \n",
    "print(\"F1:\", f1_score(target_val, pred_val))\n",
    "print(\"AUC-ROC:\", roc_auc_score(target_val, probabilities_one_val))  "
   ]
  },
  {
   "cell_type": "markdown",
   "metadata": {},
   "source": [
    "<div class=\"alert alert-success\">\n",
    "<b>Комментарий ревьюера ✔️:</b> Все так. </div>"
   ]
  },
  {
   "cell_type": "markdown",
   "metadata": {},
   "source": [
    "*Как видим, f1 мера увеличилась у модели LogisticRegression, у RandomForestClassifier практически не изменилась, а у DecisionTreeClassifier уменьшилась. Попробуем подобрать другие гиперпараметры у этих моделей со сбалансированными классами.*"
   ]
  },
  {
   "cell_type": "code",
   "execution_count": 39,
   "metadata": {},
   "outputs": [
    {
     "data": {
      "application/vnd.jupyter.widget-view+json": {
       "model_id": "f9a40590c1994554b3e99208fc40b6a7",
       "version_major": 2,
       "version_minor": 0
      },
      "text/plain": [
       "  0%|          | 0/19 [00:00<?, ?it/s]"
      ]
     },
     "metadata": {},
     "output_type": "display_data"
    },
    {
     "name": "stdout",
     "output_type": "stream",
     "text": [
      "Лучшая f1_score: 0.5735567970204841\n",
      "Глубина дерева: 8\n",
      "min_samples_leaf: 18\n",
      "min_samples_split: 2\n"
     ]
    }
   ],
   "source": [
    "# подбор гиперпараметров max_depth, min_samples_leaf, min_samples_split для DecisionTreeClassifier\n",
    "\n",
    "best_model_tree = None\n",
    "best_result = 0\n",
    "best_depth = 0\n",
    "best_leaf = 0\n",
    "best_split = 0\n",
    "    \n",
    "for depth in tqdm(range(1, 20)):\n",
    "    for leaf in range(1, 20):\n",
    "        for split in range(2, 10):\n",
    "            \n",
    "            model = DecisionTreeClassifier(random_state=12345, max_depth=depth, min_samples_leaf=leaf,\n",
    "                                          min_samples_split=split, class_weight='balanced')\n",
    "            model.fit(features_train, target_train)\n",
    "            predictions = model.predict(features_val)\n",
    "            result = f1_score(target_val, predictions)\n",
    "            \n",
    "            if result > best_result:\n",
    "                best_model_tree = model\n",
    "                best_result = result\n",
    "                best_depth = depth\n",
    "                best_leaf = leaf\n",
    "                best_split = split\n",
    "                \n",
    "print(\"Лучшая f1_score:\", best_result)\n",
    "print(\"Глубина дерева:\", best_depth)\n",
    "print(\"min_samples_leaf:\", best_leaf)\n",
    "print(\"min_samples_split:\", best_split)"
   ]
  },
  {
   "cell_type": "code",
   "execution_count": 40,
   "metadata": {},
   "outputs": [
    {
     "name": "stdout",
     "output_type": "stream",
     "text": [
      "F1: 0.5735567970204841\n",
      "AUC-ROC: 0.8239086544171289\n"
     ]
    }
   ],
   "source": [
    "# DecisionTreeClassifier при сбалансированных классах с наибольшей f1, метрики f1 и auc_roc\n",
    "\n",
    "best_model_tree.fit(features_train, target_train)\n",
    "pred_val = best_model_tree.predict(features_val)\n",
    "probabilities_val = best_model_tree.predict_proba(features_val)\n",
    "probabilities_one_val = probabilities_val[:, 1]\n",
    "    \n",
    "f1_tree = f1_score(target_val, pred_val)\n",
    "auc_roc_tree = roc_auc_score(target_val, probabilities_one_val)\n",
    "\n",
    "print(\"F1:\", f1_tree)\n",
    "print(\"AUC-ROC:\", auc_roc_tree)"
   ]
  },
  {
   "cell_type": "markdown",
   "metadata": {},
   "source": [
    "<div class=\"alert alert-success\">\n",
    "<b>Комментарий ревьюера ✔️:</b> Супер! </div>"
   ]
  },
  {
   "cell_type": "markdown",
   "metadata": {},
   "source": [
    "*F1 мера у DecisionTreeClassifier со сбалансированными классами увеличилась при подборе оптимальных гиперпараметров.*"
   ]
  },
  {
   "cell_type": "code",
   "execution_count": 41,
   "metadata": {},
   "outputs": [
    {
     "data": {
      "application/vnd.jupyter.widget-view+json": {
       "model_id": "2d05d35f07394f988a7841340353ef97",
       "version_major": 2,
       "version_minor": 0
      },
      "text/plain": [
       "  0%|          | 0/10 [00:00<?, ?it/s]"
      ]
     },
     "metadata": {},
     "output_type": "display_data"
    },
    {
     "name": "stdout",
     "output_type": "stream",
     "text": [
      "Лучшая f1_score: 0.6309662398137369\n",
      "Количество деревьев: 30\n",
      "Глубина дерева: 13\n",
      "min_samples_leaf: 8\n"
     ]
    }
   ],
   "source": [
    "# подбор гиперпараметров n_estimators, max_depth, min_samples_leaf для RandomForestClassifier\n",
    "\n",
    "best_model_forest = None\n",
    "best_result = 0\n",
    "best_est = 0\n",
    "best_depth = 0\n",
    "best_leaf = 0\n",
    "    \n",
    "for est in tqdm(range(10, 101, 10)):\n",
    "    for depth in range(1, 21):\n",
    "        for leaf in range(1, 10):\n",
    "            \n",
    "            model = RandomForestClassifier(random_state=12345, n_estimators=est, max_depth=depth, \n",
    "                                           min_samples_leaf=leaf, class_weight='balanced')\n",
    "            model.fit(features_train, target_train)\n",
    "            predictions = model.predict(features_val)\n",
    "            result = f1_score(target_val, predictions)\n",
    "            \n",
    "            if result > best_result:\n",
    "                best_model_forest = model\n",
    "                best_result = result\n",
    "                best_est = est\n",
    "                best_depth = depth\n",
    "                best_leaf = leaf\n",
    "                \n",
    "print(\"Лучшая f1_score:\", best_result)\n",
    "print(\"Количество деревьев:\", best_est)\n",
    "print(\"Глубина дерева:\", best_depth)\n",
    "print(\"min_samples_leaf:\", best_leaf)"
   ]
  },
  {
   "cell_type": "markdown",
   "metadata": {},
   "source": [
    "<div class=\"alert alert-danger\">\n",
    "<b>Комментарий ревьюера ❌:</b> Результаты этого блока кода (как и тех, что закомменчены далее) нужно оценить и проверить, поэтому лучше раскомментируй и запусти. Ничего страшного, что это займет больше времени. А так сам код сделан отлично! </div>"
   ]
  },
  {
   "cell_type": "markdown",
   "metadata": {},
   "source": [
    "<div class=\"alert alert-success\">\n",
    "<b>Комментарий ревьюера v2 ✔️:</b> 👍 </div>"
   ]
  },
  {
   "cell_type": "markdown",
   "metadata": {},
   "source": [
    "*F1 мера у RandomForestClassifier со сбалансированными классами резко увеличилась, превысив требуемое значение.*"
   ]
  },
  {
   "cell_type": "code",
   "execution_count": 42,
   "metadata": {},
   "outputs": [
    {
     "name": "stdout",
     "output_type": "stream",
     "text": [
      "F1: 0.6309662398137369\n",
      "AUC-ROC: 0.859972453192792\n"
     ]
    }
   ],
   "source": [
    "# RandomForestClassifier при сбалансированных классах с наибольшей f1, метрики f1 и auc_roc\n",
    "\n",
    "best_model_forest.fit(features_train, target_train)\n",
    "pred_val = best_model_forest.predict(features_val)\n",
    "probabilities_val = best_model_forest.predict_proba(features_val)\n",
    "probabilities_one_val = probabilities_val[:, 1]\n",
    "    \n",
    "f1_forest = f1_score(target_val, pred_val)\n",
    "auc_roc_forest = roc_auc_score(target_val, probabilities_one_val)\n",
    "\n",
    "print(\"F1:\", f1_forest)\n",
    "print(\"AUC-ROC:\", auc_roc_forest) "
   ]
  },
  {
   "cell_type": "markdown",
   "metadata": {},
   "source": [
    "<div class=\"alert alert-warning\">\n",
    "<b>Комментарий ревьюера ⚠️:</b> В предыдущей ячейке ты уже нашел лучшую модель, поэтому можно сразу использовать ее для вычислений метрик, а не заново создавать новую модельку с такими же гиперпараметрами. </div>"
   ]
  },
  {
   "cell_type": "code",
   "execution_count": 43,
   "metadata": {},
   "outputs": [
    {
     "name": "stdout",
     "output_type": "stream",
     "text": [
      "                 C  train/f1    val/f1 train/auc_roc val/auc_roc\n",
      "1              0.0  0.477703  0.462562      0.748202    0.730697\n",
      "2              0.0  0.477703  0.462562      0.748202    0.730697\n",
      "3              0.0  0.477703  0.462562      0.748202    0.730697\n",
      "4              0.0  0.477703  0.462562      0.748202    0.730697\n",
      "5              0.0  0.477703  0.462562      0.748202    0.730697\n",
      "6              0.0  0.477703  0.462562      0.748202    0.730697\n",
      "7              0.0  0.477703  0.462562      0.748202    0.730697\n",
      "8              0.0  0.477703  0.462562      0.748202    0.730697\n",
      "9              0.0  0.477703  0.462562      0.748202    0.730697\n",
      "10             0.0  0.477703  0.462562      0.748202    0.730697\n",
      "11             0.0  0.477703  0.462562      0.748202    0.730697\n",
      "12             0.0  0.477703  0.462562      0.748202    0.730697\n",
      "13             0.0  0.477703  0.462562      0.748202    0.730697\n",
      "14        0.000001  0.477703  0.462562      0.748202    0.730697\n",
      "15        0.000001  0.477703  0.462562      0.748202    0.730697\n",
      "16        0.000001  0.477703  0.462562      0.748202    0.730697\n",
      "17        0.000002  0.477703  0.462562      0.748202    0.730697\n",
      "18        0.000003  0.477703  0.462562      0.748202    0.730697\n",
      "19        0.000004  0.477703  0.462562      0.748202    0.730697\n",
      "20        0.000005  0.477703  0.462562      0.748202    0.730697\n",
      "21        0.000007  0.477703  0.462562      0.748202    0.730697\n",
      "22        0.000009  0.477703  0.462562      0.748202    0.730697\n",
      "23        0.000013  0.477703  0.462562      0.748202    0.730697\n",
      "24        0.000018  0.477703  0.462562      0.748202    0.730697\n",
      "25        0.000025  0.477703  0.462562      0.748202    0.730697\n",
      "26        0.000034  0.477703  0.462562      0.748202    0.730697\n",
      "27        0.000048  0.477703  0.462562      0.748202    0.730697\n",
      "28        0.000066  0.477703  0.462562      0.748202    0.730697\n",
      "29        0.000091  0.477703  0.462562      0.748202    0.730697\n",
      "30        0.000126  0.477703  0.462562      0.748202    0.730697\n",
      "31        0.000175  0.477703  0.462562      0.748202    0.730697\n",
      "32        0.000242  0.477703  0.462562      0.748202    0.730697\n",
      "33        0.000335  0.477703  0.462562      0.748202    0.730697\n",
      "34        0.000464  0.493744   0.48396      0.755578    0.740917\n",
      "35        0.000643  0.496129  0.482309      0.756682    0.742585\n",
      "36         0.00089  0.497951  0.484449      0.757629    0.744186\n",
      "37        0.001233  0.496433  0.478452      0.759539    0.745778\n",
      "38        0.001707  0.498059   0.48288      0.760751     0.74761\n",
      "39        0.002364  0.499038  0.487946      0.759499    0.747455\n",
      "40        0.003275  0.501372  0.489536      0.762859     0.75097\n",
      "41        0.004535  0.501389  0.494903      0.763379    0.752059\n",
      "42         0.00628  0.502814  0.494826      0.763696    0.752814\n",
      "43        0.008697  0.502516  0.495726      0.763923    0.753357\n",
      "44        0.012045  0.502998   0.49571      0.764051    0.753649\n",
      "45        0.016681  0.503793  0.497608      0.764143     0.75382\n",
      "46        0.023101  0.497599  0.475599      0.766405    0.752827\n",
      "47        0.031993  0.494611  0.478723      0.766238     0.75254\n",
      "48        0.044306  0.494167  0.479222      0.766085    0.752273\n",
      "49        0.061359  0.494167   0.48099      0.765955    0.752119\n",
      "50        0.084975  0.493126  0.477954      0.765831    0.751901\n",
      "51        0.117681  0.493265  0.477954      0.765755    0.751729\n",
      "52        0.162975  0.492823  0.477954      0.765693    0.751647\n",
      "53        0.225702  0.492684  0.475771       0.76564    0.751551\n",
      "54        0.312572   0.49239  0.475771      0.765617    0.751483\n",
      "55        0.432876    0.4915  0.477113      0.765598    0.751443\n",
      "56        0.599484   0.49195  0.477533      0.765591    0.751419\n",
      "57        0.830218   0.49195  0.477533      0.765582    0.751385\n",
      "58        1.149757   0.49195  0.477533      0.765568     0.75136\n",
      "59        1.592283   0.49195  0.477113      0.765556    0.751345\n",
      "60        2.205131  0.492097  0.477113      0.765552    0.751338\n",
      "61        3.053856  0.492243  0.477113      0.765548    0.751334\n",
      "62        4.229243  0.492243  0.477113      0.765549    0.751335\n",
      "63        5.857021  0.492243  0.477113      0.765547    0.751325\n",
      "64        8.111308  0.492243  0.477113      0.765546    0.751314\n",
      "65        11.23324  0.492243  0.478452      0.765543    0.751309\n",
      "66       15.556761  0.492243  0.478452      0.765542    0.751304\n",
      "67       21.544347  0.492243  0.478452      0.765541    0.751303\n",
      "68       29.836472  0.492243  0.478452       0.76554    0.751303\n",
      "69       41.320124  0.492243  0.478452      0.765539    0.751304\n",
      "70       57.223677  0.492243  0.478452      0.765539    0.751303\n",
      "71        79.24829  0.492243  0.478452      0.765538      0.7513\n",
      "72      109.749877  0.492243  0.478452      0.765537    0.751298\n",
      "73      151.991108  0.492243  0.478452      0.765537      0.7513\n",
      "74      210.490414  0.492243  0.478452      0.765537      0.7513\n",
      "75      291.505306  0.492243  0.478452      0.765537      0.7513\n",
      "76      403.701726  0.492243  0.478452      0.765536    0.751297\n",
      "77      559.081018  0.492243  0.478452      0.765536    0.751297\n",
      "78      774.263683  0.492243  0.478452      0.765536    0.751297\n",
      "79     1072.267222  0.492243  0.478452      0.765536    0.751295\n",
      "80     1484.968262  0.492243  0.478452      0.765536    0.751295\n",
      "81     2056.512308  0.492243  0.478452      0.765536    0.751295\n",
      "82     2848.035868  0.492243  0.478452      0.765536    0.751295\n",
      "83     3944.206059  0.492243  0.478452      0.765536    0.751295\n",
      "84     5462.277218  0.492243  0.478452      0.765536    0.751295\n",
      "85     7564.633276  0.492243  0.478452      0.765535    0.751295\n",
      "86    10476.157528  0.492243  0.478452      0.765535    0.751295\n",
      "87    14508.287785  0.492243  0.478452      0.765535    0.751295\n",
      "88    20092.330026  0.492243  0.478452      0.765535    0.751295\n",
      "89    27825.594022  0.492243  0.478452      0.765535    0.751295\n",
      "90    38535.285937  0.492243  0.478452      0.765535    0.751295\n",
      "91    53366.992312  0.492243  0.478452      0.765535    0.751295\n",
      "92    73907.220335  0.492243  0.478452      0.765535    0.751295\n",
      "93    102353.10219  0.492243  0.478452      0.765535    0.751295\n",
      "94   141747.416293  0.492243  0.478452      0.765535    0.751295\n",
      "95   196304.065004  0.492243  0.478452      0.765535    0.751295\n",
      "96   271858.824273  0.492243  0.478452      0.765535    0.751295\n",
      "97   376493.580679  0.492243  0.478452      0.765535    0.751295\n",
      "98     521400.8288  0.492243  0.478452      0.765535    0.751295\n",
      "99   722080.901839  0.492243  0.478452      0.765535    0.751295\n",
      "100      1000000.0  0.492243  0.478452      0.765535    0.751295\n"
     ]
    },
    {
     "data": {
      "image/png": "[encoded data removed]",
      "text/plain": [
       "<Figure size 432x864 with 3 Axes>"
      ]
     },
     "metadata": {},
     "output_type": "display_data"
    }
   ],
   "source": [
    "# подбор гиперпараметра С для LogisticRegression со сбалансированными классами\n",
    "pd.options.display.max_rows = 100\n",
    "\n",
    "# шапка таблицы для построения графика\n",
    "df_gr = pd.DataFrame(columns = ['C', 'train/f1', 'val/f1', 'train/auc_roc', 'val/auc_roc'])\n",
    "count = 0\n",
    "# перебор гиперпараметра в цикле по логарифмической шкале\n",
    "for c in np.logspace(-8, 6, num=100):\n",
    "    count += 1\n",
    "    # инициализация, обучение, предсказание модели, вероятности класса \"1\" на train и val выборках\n",
    "    model = LogisticRegression(random_state=12345, tol=100, C=c, class_weight='balanced')\n",
    "    model.fit(features_train, target_train)\n",
    "    pred_val = model.predict(features_val)\n",
    "    pred_train = model.predict(features_train)\n",
    "    \n",
    "    probabilities_val = model.predict_proba(features_val)\n",
    "    probabilities_one_val = probabilities_val[:, 1]\n",
    "    \n",
    "    probabilities_train = model.predict_proba(features_train)\n",
    "    probabilities_one_train = probabilities_train[:, 1]\n",
    "    \n",
    "    # заполняем таблицу гиперпараметра и метрик f1/auc_roc у train и val\n",
    "    df_gr.loc[count, 'C'] = c\n",
    "    df_gr.loc[count, 'train/f1'] = f1_score(target_train, pred_train)\n",
    "    df_gr.loc[count, 'val/f1'] = f1_score(target_val, pred_val)\n",
    "    df_gr.loc[count, 'train/auc_roc'] = roc_auc_score(target_train, probabilities_one_train)\n",
    "    df_gr.loc[count, 'val/auc_roc'] = roc_auc_score(target_val, probabilities_one_val)\n",
    "    \n",
    "# выводим метрики f1/auc_roc на каждом изменении гиперпараметра у train и val\n",
    "print(df_gr)\n",
    "\n",
    "# строим графики изменения f1/auc_roc у обучающего и валидационного набора, изменения f1 и auc_roc у val выборки    \n",
    "df_gr = df_gr.astype(float)\n",
    "\n",
    "plt.subplots(figsize = (6,12))\n",
    "plt.subplot(3, 1, 1)\n",
    "plt.title(\"F1 score\")\n",
    "sns.lineplot(x=\"C\", y=\"train/f1\", data=df_gr, label=\"Train Score\")\n",
    "sns.lineplot(x=\"C\", y=\"val/f1\", data=df_gr, label=\"Val Score\").set(ylabel='f1')\n",
    "\n",
    "plt.subplot(3, 1, 2)\n",
    "plt.title(\"AUC-ROC score\")\n",
    "sns.lineplot(x=\"C\", y=\"train/auc_roc\", data=df_gr, label=\"Train Score\")\n",
    "sns.lineplot(x=\"C\", y=\"val/auc_roc\", data=df_gr, label=\"Val Score\").set(ylabel='auc_roc')\n",
    "\n",
    "plt.subplot(3, 1, 3)\n",
    "plt.title(\"F1 vs. AUC-ROC at validation\")\n",
    "sns.lineplot(x=\"C\", y=\"val/f1\", data=df_gr, label=\"f1_val\", color='g')\n",
    "sns.lineplot(x=\"C\", y=\"val/auc_roc\", data=df_gr, label=\"auc-roc_val\", color='r').set(ylabel='')\n",
    "\n",
    "plt.subplots_adjust(hspace=0.3)\n",
    "plt.show()"
   ]
  },
  {
   "cell_type": "code",
   "execution_count": 44,
   "metadata": {},
   "outputs": [
    {
     "name": "stdout",
     "output_type": "stream",
     "text": [
      "F1: 0.4976076555023924\n",
      "AUC-ROC: 0.7538139063562792\n"
     ]
    }
   ],
   "source": [
    "# LogisticRegression при сбалансированных классах с наибольшей f1, метрики f1 и auc_roc\n",
    "\n",
    "best_model_regr = LogisticRegression(random_state=12345, tol=100, C=0.0166, class_weight='balanced')\n",
    "best_model_regr.fit(features_train, target_train)\n",
    "pred_val = best_model_regr.predict(features_val)\n",
    "probabilities_val = best_model_regr.predict_proba(features_val)\n",
    "probabilities_one_val = probabilities_val[:, 1]\n",
    "\n",
    "f1_regr = f1_score(target_val, pred_val)\n",
    "auc_roc_regr = roc_auc_score(target_val, probabilities_one_val)\n",
    "\n",
    "print(\"F1:\", f1_regr)\n",
    "print(\"AUC-ROC:\", auc_roc_regr) "
   ]
  },
  {
   "cell_type": "code",
   "execution_count": 45,
   "metadata": {},
   "outputs": [
    {
     "data": {
      "text/html": [
       "<div>\n",
       "<style scoped>\n",
       "    .dataframe tbody tr th:only-of-type {\n",
       "        vertical-align: middle;\n",
       "    }\n",
       "\n",
       "    .dataframe tbody tr th {\n",
       "        vertical-align: top;\n",
       "    }\n",
       "\n",
       "    .dataframe thead th {\n",
       "        text-align: right;\n",
       "    }\n",
       "</style>\n",
       "<table border=\"1\" class=\"dataframe\">\n",
       "  <thead>\n",
       "    <tr style=\"text-align: right;\">\n",
       "      <th></th>\n",
       "      <th>model</th>\n",
       "      <th>class_weight</th>\n",
       "      <th>f1</th>\n",
       "      <th>auc_roc</th>\n",
       "    </tr>\n",
       "  </thead>\n",
       "  <tbody>\n",
       "    <tr>\n",
       "      <th>0</th>\n",
       "      <td>DecisionTreeClassifier</td>\n",
       "      <td>balanced</td>\n",
       "      <td>0.573557</td>\n",
       "      <td>0.823909</td>\n",
       "    </tr>\n",
       "    <tr>\n",
       "      <th>1</th>\n",
       "      <td>RandomForestClassifier</td>\n",
       "      <td>balanced</td>\n",
       "      <td>0.630966</td>\n",
       "      <td>0.859972</td>\n",
       "    </tr>\n",
       "    <tr>\n",
       "      <th>2</th>\n",
       "      <td>LogisticRegression</td>\n",
       "      <td>balanced</td>\n",
       "      <td>0.497608</td>\n",
       "      <td>0.753814</td>\n",
       "    </tr>\n",
       "  </tbody>\n",
       "</table>\n",
       "</div>"
      ],
      "text/plain": [
       "                    model class_weight        f1   auc_roc\n",
       "0  DecisionTreeClassifier     balanced  0.573557  0.823909\n",
       "1  RandomForestClassifier     balanced  0.630966  0.859972\n",
       "2      LogisticRegression     balanced  0.497608  0.753814"
      ]
     },
     "execution_count": 45,
     "metadata": {},
     "output_type": "execute_result"
    }
   ],
   "source": [
    "# сведём наши оптимальные метрики при сбалансированных классах для разных моделей в таблицу\n",
    "\n",
    "df_balanced = pd.DataFrame(columns = ['model', 'class_weight', 'f1', 'auc_roc'])\n",
    "df_balanced.loc[0] = ['DecisionTreeClassifier', 'balanced', f1_tree, auc_roc_tree]\n",
    "df_balanced.loc[1] = ['RandomForestClassifier', 'balanced', f1_forest, auc_roc_forest]\n",
    "df_balanced.loc[2] = ['LogisticRegression', 'balanced', f1_regr, auc_roc_regr]\n",
    "df_balanced"
   ]
  },
  {
   "cell_type": "markdown",
   "metadata": {},
   "source": [
    "*В целом, удалось сильно улучшить метрики моделей при сбалансированных классах по сравнению с оптимальными без учёта дисбаланса классов. Но рассмотрим и другие методы борьбы с дисбалансом: балансировка путём увеличения или уменьшения числа классов.*"
   ]
  },
  {
   "cell_type": "markdown",
   "metadata": {},
   "source": [
    "<div class=\"alert alert-success\">\n",
    "<b>Комментарий ревьюера ✔️:</b> Тут все как надо, так держать! </div>"
   ]
  },
  {
   "cell_type": "code",
   "execution_count": 46,
   "metadata": {},
   "outputs": [],
   "source": [
    "#функция увеличения класса 1 в определённое число раз\n",
    "\n",
    "def upsample(features, target, repeat):\n",
    "    features_zeros = features[target == 0]\n",
    "    features_ones = features[target == 1]\n",
    "    target_zeros = target[target == 0]\n",
    "    target_ones = target[target == 1]\n",
    "\n",
    "    features_upsampled = pd.concat([features_zeros] + [features_ones] * repeat)\n",
    "    target_upsampled = pd.concat([target_zeros] + [target_ones] * repeat)\n",
    "    \n",
    "    features_upsampled, target_upsampled = shuffle(\n",
    "        features_upsampled, target_upsampled, random_state=12345)\n",
    "    \n",
    "    return features_upsampled, target_upsampled"
   ]
  },
  {
   "cell_type": "markdown",
   "metadata": {},
   "source": [
    "*Выясним, при каком параметре repeat функции upsample доля класса 1 станет примерно 50%, то есть классы станут примерно равными. Обучим модели на изменённой обучающей выборке с примерно равными классами. Подберём оптимальные гиперпараметры, посчитаем метрики.*"
   ]
  },
  {
   "cell_type": "code",
   "execution_count": 47,
   "metadata": {},
   "outputs": [
    {
     "name": "stdout",
     "output_type": "stream",
     "text": [
      "Увеличение класса 1 в 2 | Доля класса 1 в целевом признаке: 0.33841041262808086\n",
      "Увеличение класса 1 в 3 | Доля класса 1 в целевом признаке: 0.4341544291804832\n",
      "Увеличение класса 1 в 4 | Доля класса 1 в целевом признаке: 0.5056900475894889\n",
      "Увеличение класса 1 в 5 | Доля класса 1 в целевом признаке: 0.5611682586333578\n"
     ]
    }
   ],
   "source": [
    "# поиск параметра repeat, чтобы классы были примерно равными\n",
    "for i in range(2, 6):\n",
    "    features_upsampled, target_upsampled = upsample(features_train, target_train, i)\n",
    "    print(\"Увеличение класса 1 в\", i, \"| Доля класса 1 в целевом признаке:\",target_upsampled.value_counts(normalize=True)[1])"
   ]
  },
  {
   "cell_type": "markdown",
   "metadata": {},
   "source": [
    "*Оптимальное значение параметра repeat для сбалансированности классов - 4*"
   ]
  },
  {
   "cell_type": "markdown",
   "metadata": {},
   "source": [
    "<div class=\"alert alert-warning\">\n",
    "<b>Комментарий ревьюера ⚠️:</b> Мы же знаем, как отличаются доли классов. Поэтому можно сразу сделать их более менее равными, а не перебирать коэффициенты 2, 3 и 4 </div>"
   ]
  },
  {
   "cell_type": "markdown",
   "metadata": {},
   "source": [
    "<div class=\"alert alert-info\"> <b>Комментарий студента:</b> Так и сделал, проставил коэффициент, при котором классы примерно равны.</div>"
   ]
  },
  {
   "cell_type": "code",
   "execution_count": 48,
   "metadata": {
    "scrolled": false
   },
   "outputs": [
    {
     "data": {
      "application/vnd.jupyter.widget-view+json": {
       "model_id": "333600788eae48be9cc4d7d6b3153459",
       "version_major": 2,
       "version_minor": 0
      },
      "text/plain": [
       "  0%|          | 0/15 [00:00<?, ?it/s]"
      ]
     },
     "metadata": {},
     "output_type": "display_data"
    },
    {
     "name": "stdout",
     "output_type": "stream",
     "text": [
      "Доля класса 1 в целевом признаке: 0.5056900475894889\n",
      "Лучшая f1_score: 0.6223175965665236\n",
      "AUС-ROC лучшей f1 модели: 0.856364839415687\n",
      "Количество деревьев: 90\n",
      "Глубина дерева: 10\n",
      "min_samples_leaf: 5\n"
     ]
    }
   ],
   "source": [
    "# подбор гиперпараметров n_estimators, max_depth, min_samples_leaf для RandomForestClassifier при копировании класса 1\n",
    "\n",
    "best_model_forest = None\n",
    "best_result = 0\n",
    "best_est = 0\n",
    "best_depth = 0\n",
    "best_leaf = 0\n",
    "features_upsampled, target_upsampled = upsample(features_train, target_train, 4)\n",
    "    \n",
    "for est in tqdm(range(10, 151, 10)):\n",
    "    for depth in range(1, 15):\n",
    "        for leaf in range(1, 10):\n",
    "            \n",
    "            model = RandomForestClassifier(random_state=12345, n_estimators=est, max_depth=depth, \n",
    "                                            min_samples_leaf=leaf)\n",
    "            model.fit(features_upsampled, target_upsampled)\n",
    "            predictions = model.predict(features_val)\n",
    "            result = f1_score(target_val, predictions)\n",
    "            \n",
    "            if result > best_result:\n",
    "                best_model_forest = model\n",
    "                best_result = result\n",
    "                best_est = est\n",
    "                best_depth = depth\n",
    "                best_leaf = leaf\n",
    "    \n",
    "best_model_forest.fit(features_upsampled, target_upsampled)\n",
    "pred_val = best_model_forest.predict(features_val)\n",
    "probabilities_val = best_model_forest.predict_proba(features_val)\n",
    "probabilities_one_val = probabilities_val[:, 1]\n",
    "    \n",
    "print(\"Доля класса 1 в целевом признаке:\",target_upsampled.value_counts(normalize=True)[1])\n",
    "print(\"Лучшая f1_score:\", best_result)\n",
    "print(\"AUС-ROC лучшей f1 модели:\", roc_auc_score(target_val, probabilities_one_val))\n",
    "print(\"Количество деревьев:\", best_est)\n",
    "print(\"Глубина дерева:\", best_depth)\n",
    "print(\"min_samples_leaf:\", best_leaf)"
   ]
  },
  {
   "cell_type": "markdown",
   "metadata": {},
   "source": [
    "<div class=\"alert alert-danger\">\n",
    "<b>Комментарий ревьюера ❌:</b> Следует запустить. </div>"
   ]
  },
  {
   "cell_type": "code",
   "execution_count": 49,
   "metadata": {},
   "outputs": [
    {
     "name": "stdout",
     "output_type": "stream",
     "text": [
      "F1: 0.6223175965665236\n",
      "AUC-ROC: 0.856364839415687\n"
     ]
    }
   ],
   "source": [
    "# метрики оптимальной модели RandomForestClassifier при upsampling класса 1\n",
    "\n",
    "best_model_forest.fit(features_upsampled, target_upsampled)\n",
    "pred_val = best_model_forest.predict(features_val)\n",
    "\n",
    "probabilities_val = best_model_forest.predict_proba(features_val)\n",
    "probabilities_one_val = probabilities_val[:, 1]\n",
    "\n",
    "f1_forest = f1_score(target_val, pred_val)\n",
    "auc_roc_forest = roc_auc_score(target_val, probabilities_one_val)\n",
    "\n",
    "print(\"F1:\", f1_forest)\n",
    "print(\"AUC-ROC:\", auc_roc_forest)"
   ]
  },
  {
   "cell_type": "code",
   "execution_count": 50,
   "metadata": {
    "scrolled": false
   },
   "outputs": [
    {
     "data": {
      "application/vnd.jupyter.widget-view+json": {
       "model_id": "0d69710edc6940b0bcce7d9411b88442",
       "version_major": 2,
       "version_minor": 0
      },
      "text/plain": [
       "  0%|          | 0/19 [00:00<?, ?it/s]"
      ]
     },
     "metadata": {},
     "output_type": "display_data"
    },
    {
     "name": "stdout",
     "output_type": "stream",
     "text": [
      "Доля класса 1 в целевом признаке: 0.5056900475894889\n",
      "Лучшая f1_score: 0.5714285714285714\n",
      "AUС-ROC лучшей f1 модели: 0.8186514711938442\n",
      "Глубина дерева: 8\n",
      "min_samples_leaf: 17\n",
      "min_samples_split: 2\n"
     ]
    }
   ],
   "source": [
    "# подбор гиперпараметров max_depth, min_samples_leaf, min_samples_split для DecisionTreeClassifier при копировании класса 1\n",
    "    \n",
    "\n",
    "best_model_tree = None\n",
    "best_result = 0\n",
    "best_depth = 0\n",
    "best_leaf = 0\n",
    "best_split = 0\n",
    "features_upsampled, target_upsampled = upsample(features_train, target_train, 4)\n",
    "    \n",
    "for depth in tqdm(range(1, 20)):\n",
    "    for leaf in range(1, 20):\n",
    "        for split in range(2, 10):\n",
    "            \n",
    "            model = DecisionTreeClassifier(random_state=12345, max_depth=depth, min_samples_leaf=leaf,\n",
    "                                            min_samples_split=split)\n",
    "            model.fit(features_upsampled, target_upsampled)\n",
    "            predictions = model.predict(features_val)\n",
    "            result = f1_score(target_val, predictions)\n",
    "            \n",
    "            if result > best_result:\n",
    "                best_model_tree = model\n",
    "                best_result = result\n",
    "                best_depth = depth\n",
    "                best_leaf = leaf\n",
    "                best_split = split\n",
    "\n",
    "best_model_tree.fit(features_upsampled, target_upsampled)\n",
    "probabilities_val = best_model_tree.predict_proba(features_val)\n",
    "probabilities_one_val = probabilities_val[:, 1]\n",
    "    \n",
    "print(\"Доля класса 1 в целевом признаке:\",target_upsampled.value_counts(normalize=True)[1])\n",
    "print(\"Лучшая f1_score:\", best_result)\n",
    "print(\"AUС-ROC лучшей f1 модели:\", roc_auc_score(target_val, probabilities_one_val))\n",
    "print(\"Глубина дерева:\", best_depth)\n",
    "print(\"min_samples_leaf:\", best_leaf)\n",
    "print(\"min_samples_split:\", best_split)"
   ]
  },
  {
   "cell_type": "markdown",
   "metadata": {},
   "source": [
    "<div class=\"alert alert-danger\">\n",
    "<b>Комментарий ревьюера ❌:</b> Следует запустить. </div>"
   ]
  },
  {
   "cell_type": "code",
   "execution_count": 51,
   "metadata": {},
   "outputs": [
    {
     "name": "stdout",
     "output_type": "stream",
     "text": [
      "F1: 0.5714285714285714\n",
      "AUC-ROC: 0.8186514711938442\n"
     ]
    }
   ],
   "source": [
    "# метрики оптимальной модели DecisionTreeClassifier при upsampling класса 1\n",
    "\n",
    "best_model_tree.fit(features_upsampled, target_upsampled)\n",
    "pred_val = best_model_tree.predict(features_val)\n",
    "\n",
    "probabilities_val = best_model_tree.predict_proba(features_val)\n",
    "probabilities_one_val = probabilities_val[:, 1]\n",
    "\n",
    "f1_tree = f1_score(target_val, pred_val)\n",
    "auc_roc_tree = roc_auc_score(target_val, probabilities_one_val)\n",
    "\n",
    "print(\"F1:\", f1_tree)\n",
    "print(\"AUC-ROC:\", auc_roc_tree) "
   ]
  },
  {
   "cell_type": "code",
   "execution_count": 52,
   "metadata": {},
   "outputs": [
    {
     "data": {
      "application/vnd.jupyter.widget-view+json": {
       "model_id": "e57e79c122934fe4b629ffa1a51e1f51",
       "version_major": 2,
       "version_minor": 0
      },
      "text/plain": [
       "  0%|          | 0/100 [00:00<?, ?it/s]"
      ]
     },
     "metadata": {},
     "output_type": "display_data"
    },
    {
     "name": "stdout",
     "output_type": "stream",
     "text": [
      "Доля класса 1 в целевом признаке: 0.5056900475894889\n",
      "Лучшая f1_score: 0.4966698382492864\n",
      "AUС-ROC лучшей f1 модели: 0.7530350072722953\n",
      "C: 0.08497534359086438\n"
     ]
    }
   ],
   "source": [
    "# подбор гиперпараметра С для LogisticRegression при копировании класса 1\n",
    "\n",
    "best_model_regr = None\n",
    "best_result = 0\n",
    "best_c = 0\n",
    "features_upsampled, target_upsampled = upsample(features_train, target_train, 4)\n",
    "    \n",
    "    \n",
    "for c in tqdm(np.logspace(-8, 6, num=100)):\n",
    "    model = LogisticRegression(random_state=12345, tol=200, C=c)\n",
    "    model.fit(features_upsampled, target_upsampled)\n",
    "    predictions = model.predict(features_val)\n",
    "    result = f1_score(target_val, predictions)\n",
    "            \n",
    "    if result > best_result:\n",
    "        best_model_regr = model\n",
    "        best_result = result\n",
    "        best_c = c\n",
    "    \n",
    "best_model_regr.fit(features_upsampled, target_upsampled)\n",
    "probabilities_val = best_model_regr.predict_proba(features_val)\n",
    "probabilities_one_val = probabilities_val[:, 1]\n",
    "    \n",
    "print(\"Доля класса 1 в целевом признаке:\",target_upsampled.value_counts(normalize=True)[1])\n",
    "print(\"Лучшая f1_score:\", best_result)\n",
    "print(\"AUС-ROC лучшей f1 модели:\", roc_auc_score(target_val, probabilities_one_val))\n",
    "print(\"C:\", best_c)"
   ]
  },
  {
   "cell_type": "code",
   "execution_count": 53,
   "metadata": {},
   "outputs": [
    {
     "name": "stdout",
     "output_type": "stream",
     "text": [
      "F1: 0.4966698382492864\n",
      "AUC-ROC: 0.7530350072722953\n"
     ]
    }
   ],
   "source": [
    "# метрики оптимальной модели LogisticRegression при upsampling класса 1\n",
    "\n",
    "best_model_regr.fit(features_upsampled, target_upsampled)\n",
    "pred_val = best_model_regr.predict(features_val)\n",
    "\n",
    "probabilities_val = best_model_regr.predict_proba(features_val)\n",
    "probabilities_one_val = probabilities_val[:, 1]\n",
    "\n",
    "f1_regr = f1_score(target_val, pred_val)\n",
    "auc_roc_regr = roc_auc_score(target_val, probabilities_one_val)\n",
    "\n",
    "print(\"F1:\", f1_regr)\n",
    "print(\"AUC-ROC:\", auc_roc_regr)"
   ]
  },
  {
   "cell_type": "code",
   "execution_count": 54,
   "metadata": {
    "scrolled": true
   },
   "outputs": [
    {
     "data": {
      "text/html": [
       "<div>\n",
       "<style scoped>\n",
       "    .dataframe tbody tr th:only-of-type {\n",
       "        vertical-align: middle;\n",
       "    }\n",
       "\n",
       "    .dataframe tbody tr th {\n",
       "        vertical-align: top;\n",
       "    }\n",
       "\n",
       "    .dataframe thead th {\n",
       "        text-align: right;\n",
       "    }\n",
       "</style>\n",
       "<table border=\"1\" class=\"dataframe\">\n",
       "  <thead>\n",
       "    <tr style=\"text-align: right;\">\n",
       "      <th></th>\n",
       "      <th>model</th>\n",
       "      <th>balance_type</th>\n",
       "      <th>f1</th>\n",
       "      <th>auc_roc</th>\n",
       "    </tr>\n",
       "  </thead>\n",
       "  <tbody>\n",
       "    <tr>\n",
       "      <th>0</th>\n",
       "      <td>DecisionTreeClassifier</td>\n",
       "      <td>upsampling</td>\n",
       "      <td>0.571429</td>\n",
       "      <td>0.818651</td>\n",
       "    </tr>\n",
       "    <tr>\n",
       "      <th>1</th>\n",
       "      <td>RandomForestClassifier</td>\n",
       "      <td>upsampling</td>\n",
       "      <td>0.622318</td>\n",
       "      <td>0.856365</td>\n",
       "    </tr>\n",
       "    <tr>\n",
       "      <th>2</th>\n",
       "      <td>LogisticRegression</td>\n",
       "      <td>upsampling</td>\n",
       "      <td>0.496670</td>\n",
       "      <td>0.753035</td>\n",
       "    </tr>\n",
       "  </tbody>\n",
       "</table>\n",
       "</div>"
      ],
      "text/plain": [
       "                    model balance_type        f1   auc_roc\n",
       "0  DecisionTreeClassifier   upsampling  0.571429  0.818651\n",
       "1  RandomForestClassifier   upsampling  0.622318  0.856365\n",
       "2      LogisticRegression   upsampling  0.496670  0.753035"
      ]
     },
     "execution_count": 54,
     "metadata": {},
     "output_type": "execute_result"
    }
   ],
   "source": [
    "# сведём наши оптимальные метрики при сбалансированных классах для разных моделей в таблицу\n",
    "\n",
    "df_upsampled = pd.DataFrame(columns = ['model', 'balance_type', 'f1', 'auc_roc'])\n",
    "df_upsampled.loc[0] = ['DecisionTreeClassifier', 'upsampling', f1_tree, auc_roc_tree]\n",
    "df_upsampled.loc[1] = ['RandomForestClassifier', 'upsampling', f1_forest, auc_roc_forest]\n",
    "df_upsampled.loc[2] = ['LogisticRegression', 'upsampling', f1_regr, auc_roc_regr]\n",
    "df_upsampled"
   ]
  },
  {
   "cell_type": "markdown",
   "metadata": {},
   "source": [
    "<div class=\"alert alert-warning\">\n",
    "<b>Комментарий ревьюера ⚠️:</b> Выбор коэффициентов тоже не очень понятен. Тут тоже можно сразу попробовать подобрать коэффициент так, чтобы доли классов были приблизительно равными. </div>"
   ]
  },
  {
   "cell_type": "markdown",
   "metadata": {},
   "source": [
    "<div class=\"alert alert-info\"> <b>Комментарий студента:</b> Так и сделал, проставил коэффициент, при котором классы примерно равны.</div>"
   ]
  },
  {
   "cell_type": "code",
   "execution_count": 55,
   "metadata": {},
   "outputs": [],
   "source": [
    "#функция уменьшения класса 0 в определённое число раз\n",
    "\n",
    "def downsample(features, target, fraction):\n",
    "    features_zeros = features[target == 0]\n",
    "    features_ones = features[target == 1]\n",
    "    target_zeros = target[target == 0]\n",
    "    target_ones = target[target == 1]\n",
    "\n",
    "    features_downsampled = pd.concat(\n",
    "        [features_zeros.sample(frac=fraction, random_state=12345)] + [features_ones])\n",
    "    target_downsampled = pd.concat(\n",
    "        [target_zeros.sample(frac=fraction, random_state=12345)] + [target_ones])\n",
    "    \n",
    "    features_downsampled, target_downsampled = shuffle(\n",
    "        features_downsampled, target_downsampled, random_state=12345)\n",
    "    \n",
    "    return features_downsampled, target_downsampled"
   ]
  },
  {
   "cell_type": "markdown",
   "metadata": {},
   "source": [
    "*Рассмотрим для каждой модели уменьшение класса 0. Выясним, при каком параметре fraction функции downsample доля класса 1 станет примерно 50%, то есть классы станут примерно равными. Обучим модели на изменённой обучающей выборке с примерно равными классами. Подберём оптимальные гиперпараметры, посчитаем метрики.*"
   ]
  },
  {
   "cell_type": "code",
   "execution_count": 56,
   "metadata": {},
   "outputs": [
    {
     "name": "stdout",
     "output_type": "stream",
     "text": [
      "Доля изменения класса 0: 0.1 | Доля класса 1 в целевом признаке: 0.7188235294117648\n",
      "Доля изменения класса 0: 0.15 | Доля класса 1 в целевом признаке: 0.630221763795771\n",
      "Доля изменения класса 0: 0.2 | Доля класса 1 в целевом признаке: 0.5610651974288338\n",
      "Доля изменения класса 0: 0.25 | Доля класса 1 в целевом признаке: 0.5055854364915184\n",
      "Доля изменения класса 0: 0.3 | Доля класса 1 в целевом признаке: 0.46026365348399245\n",
      "Доля изменения класса 0: 0.35 | Доля класса 1 в целевом признаке: 0.42225293711126466\n",
      "Доля изменения класса 0: 0.4 | Доля класса 1 в целевом признаке: 0.3900414937759336\n"
     ]
    }
   ],
   "source": [
    "# поиск параметра fraction, чтобы классы были примерно равными\n",
    "for i in np.arange(0.1, 0.4, 0.05):\n",
    "    features_downsampled, target_downsampled = downsample(features_train, target_train, i)\n",
    "    print(\"Доля изменения класса 0:\", round(i,2), \n",
    "          \"| Доля класса 1 в целевом признаке:\",target_downsampled.value_counts(normalize=True)[1])"
   ]
  },
  {
   "cell_type": "markdown",
   "metadata": {},
   "source": [
    "*Оптимальное значение параметра fraction - 0.25, то есть при уменьшении класса 0 в 4 раза доли классов станут примерно равными.*"
   ]
  },
  {
   "cell_type": "code",
   "execution_count": 57,
   "metadata": {},
   "outputs": [
    {
     "data": {
      "application/vnd.jupyter.widget-view+json": {
       "model_id": "d7258a175cb44eda9b992572ea0eb0ff",
       "version_major": 2,
       "version_minor": 0
      },
      "text/plain": [
       "  0%|          | 0/15 [00:00<?, ?it/s]"
      ]
     },
     "metadata": {},
     "output_type": "display_data"
    },
    {
     "name": "stdout",
     "output_type": "stream",
     "text": [
      "Доля класса 1 в целевом признаке: 0.5057947019867549\n",
      "Лучшая f1_score: 0.6007827788649707\n",
      "AUС-ROC лучшей f1 модели: 0.8471992794026694\n",
      "Количество деревьев: 20\n",
      "Глубина дерева: 6\n",
      "min_samples_leaf: 8\n"
     ]
    }
   ],
   "source": [
    "# подбор гиперпараметров n_estimators, max_depth, min_samples_leaf для RandomForestClassifier при уменьшении класса 0\n",
    "\n",
    "best_model_forest = None\n",
    "best_result = 0\n",
    "best_est = 0\n",
    "best_depth = 0\n",
    "best_leaf = 0\n",
    "features_downsampled, target_downsampled = downsample(features_train, target_train, 0.25)\n",
    "    \n",
    "for est in tqdm(range(10, 151, 10)):\n",
    "    for depth in range(1, 15):\n",
    "        for leaf in range(1, 10):\n",
    "            \n",
    "            model = RandomForestClassifier(random_state=12345, n_estimators=est, max_depth=depth, \n",
    "                                            min_samples_leaf=leaf)\n",
    "            model.fit(features_downsampled, target_downsampled)\n",
    "            predictions = model.predict(features_val)\n",
    "            result = f1_score(target_val, predictions)\n",
    "            \n",
    "            if result > best_result:\n",
    "                best_model_forest = model\n",
    "                best_result = result\n",
    "                best_est = est\n",
    "                best_depth = depth\n",
    "                best_leaf = leaf\n",
    "    \n",
    "best_model_forest.fit(features_downsampled, target_downsampled)\n",
    "pred_val = best_model_forest.predict(features_val)\n",
    "probabilities_val = best_model_forest.predict_proba(features_val)\n",
    "probabilities_one_val = probabilities_val[:, 1]\n",
    "    \n",
    "print(\"Доля класса 1 в целевом признаке:\",target_downsampled.value_counts(normalize=True)[1])\n",
    "print(\"Лучшая f1_score:\", best_result)\n",
    "print(\"AUС-ROC лучшей f1 модели:\", roc_auc_score(target_val, probabilities_one_val))\n",
    "print(\"Количество деревьев:\", best_est)\n",
    "print(\"Глубина дерева:\", best_depth)\n",
    "print(\"min_samples_leaf:\", best_leaf)"
   ]
  },
  {
   "cell_type": "markdown",
   "metadata": {},
   "source": [
    "<div class=\"alert alert-danger\">\n",
    "<b>Комментарий ревьюера ❌:</b> Следует запустить. </div>"
   ]
  },
  {
   "cell_type": "code",
   "execution_count": 58,
   "metadata": {},
   "outputs": [
    {
     "name": "stdout",
     "output_type": "stream",
     "text": [
      "F1: 0.6007827788649707\n",
      "AUC-ROC: 0.8471992794026694\n"
     ]
    }
   ],
   "source": [
    "# метрики оптимальной модели RandomForestClassifier при downsampling класса 0\n",
    "\n",
    "best_model_forest.fit(features_downsampled, target_downsampled)\n",
    "pred_val = best_model_forest.predict(features_val)\n",
    "\n",
    "probabilities_val = best_model_forest.predict_proba(features_val)\n",
    "probabilities_one_val = probabilities_val[:, 1]\n",
    "\n",
    "f1_forest = f1_score(target_val, pred_val)\n",
    "auc_roc_forest = roc_auc_score(target_val, probabilities_one_val)\n",
    "\n",
    "print(\"F1:\", f1_forest)\n",
    "print(\"AUC-ROC:\", auc_roc_forest)"
   ]
  },
  {
   "cell_type": "code",
   "execution_count": 59,
   "metadata": {},
   "outputs": [
    {
     "data": {
      "application/vnd.jupyter.widget-view+json": {
       "model_id": "8266f087279e4e80b886c710f34143f2",
       "version_major": 2,
       "version_minor": 0
      },
      "text/plain": [
       "  0%|          | 0/19 [00:00<?, ?it/s]"
      ]
     },
     "metadata": {},
     "output_type": "display_data"
    },
    {
     "name": "stdout",
     "output_type": "stream",
     "text": [
      "Доля класса 1 в целевом признаке: 0.5057947019867549\n",
      "Лучшая f1_score: 0.5670789724072313\n",
      "AUС-ROC лучшей f1 модели: 0.8311817210122294\n",
      "Глубина дерева: 6\n",
      "min_samples_leaf: 3\n",
      "min_samples_split: 7\n"
     ]
    }
   ],
   "source": [
    "# подбор гиперпараметров max_depth, min_samples_leaf, min_samples_split для DecisionTreeClassifier при уменьшении класса 0\n",
    "    \n",
    "best_model_tree = None\n",
    "best_result = 0\n",
    "best_depth = 0\n",
    "best_leaf = 0\n",
    "best_split = 0\n",
    "features_downsampled, target_downsampled = downsample(features_train, target_train, 0.25)\n",
    "    \n",
    "for depth in tqdm(range(1, 20)):\n",
    "    for leaf in range(1, 20):\n",
    "        for split in range(2, 10):\n",
    "            \n",
    "            model = DecisionTreeClassifier(random_state=12345, max_depth=depth, min_samples_leaf=leaf,\n",
    "                                            min_samples_split=split)\n",
    "            model.fit(features_downsampled, target_downsampled)\n",
    "            predictions = model.predict(features_val)\n",
    "            result = f1_score(target_val, predictions)\n",
    "            \n",
    "            if result > best_result:\n",
    "                best_model_tree = model\n",
    "                best_result = result\n",
    "                best_depth = depth\n",
    "                best_leaf = leaf\n",
    "                best_split = split\n",
    "\n",
    "best_model_tree.fit(features_downsampled, target_downsampled)\n",
    "probabilities_val = best_model_tree.predict_proba(features_val)\n",
    "probabilities_one_val = probabilities_val[:, 1]\n",
    "    \n",
    "print(\"Доля класса 1 в целевом признаке:\",target_downsampled.value_counts(normalize=True)[1])\n",
    "print(\"Лучшая f1_score:\", best_result)\n",
    "print(\"AUС-ROC лучшей f1 модели:\", roc_auc_score(target_val, probabilities_one_val))\n",
    "print(\"Глубина дерева:\", best_depth)\n",
    "print(\"min_samples_leaf:\", best_leaf)\n",
    "print(\"min_samples_split:\", best_split)"
   ]
  },
  {
   "cell_type": "code",
   "execution_count": 60,
   "metadata": {},
   "outputs": [
    {
     "name": "stdout",
     "output_type": "stream",
     "text": [
      "F1: 0.5670789724072313\n",
      "AUC-ROC: 0.8311817210122294\n"
     ]
    }
   ],
   "source": [
    "# метрики оптимальной модели DecisionTreeClassifier при downsampling класса 0\n",
    "\n",
    "best_model_tree.fit(features_downsampled, target_downsampled)\n",
    "pred_val = best_model_tree.predict(features_val)\n",
    "\n",
    "probabilities_val = best_model_tree.predict_proba(features_val)\n",
    "probabilities_one_val = probabilities_val[:, 1]\n",
    "\n",
    "f1_tree = f1_score(target_val, pred_val)\n",
    "auc_roc_tree = roc_auc_score(target_val, probabilities_one_val)\n",
    "\n",
    "print(\"F1:\", f1_tree)\n",
    "print(\"AUC-ROC:\", auc_roc_tree)"
   ]
  },
  {
   "cell_type": "code",
   "execution_count": 61,
   "metadata": {},
   "outputs": [
    {
     "data": {
      "application/vnd.jupyter.widget-view+json": {
       "model_id": "98877f78b47849ebbaea2f85c19aab53",
       "version_major": 2,
       "version_minor": 0
      },
      "text/plain": [
       "  0%|          | 0/100 [00:00<?, ?it/s]"
      ]
     },
     "metadata": {},
     "output_type": "display_data"
    },
    {
     "name": "stdout",
     "output_type": "stream",
     "text": [
      "Доля класса 1 в целевом признаке: 0.5057947019867549\n",
      "Лучшая f1_score: 0.497164461247637\n",
      "AUС-ROC лучшей f1 модели: 0.7519399214314468\n",
      "C: 0.08497534359086438\n"
     ]
    }
   ],
   "source": [
    "# подбор гиперпараметра С для LogisticRegression при при уменьшении класса 0\n",
    "\n",
    "best_model_regr = None\n",
    "best_result = 0\n",
    "best_c = 0\n",
    "features_downsampled, target_downsampled = downsample(features_train, target_train, 0.25)\n",
    "    \n",
    "    \n",
    "for c in tqdm(np.logspace(-8, 6, num=100)):\n",
    "    model = LogisticRegression(random_state=12345, tol=50, C=c)\n",
    "    model.fit(features_downsampled, target_downsampled)\n",
    "    predictions = model.predict(features_val)\n",
    "    result = f1_score(target_val, predictions)\n",
    "            \n",
    "    if result > best_result:\n",
    "        best_model_regr = model\n",
    "        best_result = result\n",
    "        best_c = c\n",
    "    \n",
    "best_model_regr.fit(features_downsampled, target_downsampled)\n",
    "probabilities_val = best_model_regr.predict_proba(features_val)\n",
    "probabilities_one_val = probabilities_val[:, 1]\n",
    "    \n",
    "print(\"Доля класса 1 в целевом признаке:\",target_downsampled.value_counts(normalize=True)[1])\n",
    "print(\"Лучшая f1_score:\", best_result)\n",
    "print(\"AUС-ROC лучшей f1 модели:\", roc_auc_score(target_val, probabilities_one_val))\n",
    "print(\"C:\", best_c)"
   ]
  },
  {
   "cell_type": "code",
   "execution_count": 62,
   "metadata": {},
   "outputs": [
    {
     "name": "stdout",
     "output_type": "stream",
     "text": [
      "F1: 0.497164461247637\n",
      "AUC-ROC: 0.7519399214314468\n"
     ]
    }
   ],
   "source": [
    "# метрики оптимальной модели LogisticRegression при downsampling класса 0\n",
    "\n",
    "best_model_regr.fit(features_downsampled, target_downsampled)\n",
    "pred_val = best_model_regr.predict(features_val)\n",
    "\n",
    "probabilities_val = best_model_regr.predict_proba(features_val)\n",
    "probabilities_one_val = probabilities_val[:, 1]\n",
    "\n",
    "f1_regr = f1_score(target_val, pred_val)\n",
    "auc_roc_regr = roc_auc_score(target_val, probabilities_one_val)\n",
    "\n",
    "print(\"F1:\", f1_regr)\n",
    "print(\"AUC-ROC:\", auc_roc_regr)"
   ]
  },
  {
   "cell_type": "code",
   "execution_count": 63,
   "metadata": {
    "scrolled": true
   },
   "outputs": [
    {
     "data": {
      "text/html": [
       "<div>\n",
       "<style scoped>\n",
       "    .dataframe tbody tr th:only-of-type {\n",
       "        vertical-align: middle;\n",
       "    }\n",
       "\n",
       "    .dataframe tbody tr th {\n",
       "        vertical-align: top;\n",
       "    }\n",
       "\n",
       "    .dataframe thead th {\n",
       "        text-align: right;\n",
       "    }\n",
       "</style>\n",
       "<table border=\"1\" class=\"dataframe\">\n",
       "  <thead>\n",
       "    <tr style=\"text-align: right;\">\n",
       "      <th></th>\n",
       "      <th>model</th>\n",
       "      <th>balance_type</th>\n",
       "      <th>f1</th>\n",
       "      <th>auc_roc</th>\n",
       "    </tr>\n",
       "  </thead>\n",
       "  <tbody>\n",
       "    <tr>\n",
       "      <th>0</th>\n",
       "      <td>DecisionTreeClassifier</td>\n",
       "      <td>downsampling</td>\n",
       "      <td>0.567079</td>\n",
       "      <td>0.831182</td>\n",
       "    </tr>\n",
       "    <tr>\n",
       "      <th>1</th>\n",
       "      <td>RandomForestClassifier</td>\n",
       "      <td>downsampling</td>\n",
       "      <td>0.600783</td>\n",
       "      <td>0.847199</td>\n",
       "    </tr>\n",
       "    <tr>\n",
       "      <th>2</th>\n",
       "      <td>LogisticRegression</td>\n",
       "      <td>downsampling</td>\n",
       "      <td>0.497164</td>\n",
       "      <td>0.751940</td>\n",
       "    </tr>\n",
       "  </tbody>\n",
       "</table>\n",
       "</div>"
      ],
      "text/plain": [
       "                    model  balance_type        f1   auc_roc\n",
       "0  DecisionTreeClassifier  downsampling  0.567079  0.831182\n",
       "1  RandomForestClassifier  downsampling  0.600783  0.847199\n",
       "2      LogisticRegression  downsampling  0.497164  0.751940"
      ]
     },
     "execution_count": 63,
     "metadata": {},
     "output_type": "execute_result"
    }
   ],
   "source": [
    "# сведём наши оптимальные метрики при сбалансированных классах для разных моделей в таблицу\n",
    "\n",
    "df_downsampled = pd.DataFrame(columns = ['model', 'balance_type', 'f1', 'auc_roc'])\n",
    "df_downsampled.loc[0] = ['DecisionTreeClassifier', 'downsampling', f1_tree, auc_roc_tree]\n",
    "df_downsampled.loc[1] = ['RandomForestClassifier', 'downsampling', f1_forest, auc_roc_forest]\n",
    "df_downsampled.loc[2] = ['LogisticRegression', 'downsampling', f1_regr, auc_roc_regr]\n",
    "df_downsampled"
   ]
  },
  {
   "cell_type": "markdown",
   "metadata": {},
   "source": [
    "#### Вывод к третьему разделу \n",
    "\n",
    "*Для устранения дисбаланса между классами 0 и 1 были применены следующие методы:*\n",
    "\n",
    "    - балансирование классов автоматически, придав классу 1 больший вес \n",
    "    (указание 'class_weight='balanced' в гиперпараметрах)\n",
    "    \n",
    "    - метод upsampling (увеличение доли класса 1 путём копирования объектов)\n",
    "    \n",
    "    - метод downsampling (уменьшение доли класса 0 путём отбрасывания объектов случайным образом)\n",
    "\n",
    "*\n",
    "\n",
    "**Балансирование классов автоматически**\n",
    "\n",
    "\n",
    "*Для каждой из моделей были подобраны оптимальные гиперпараметры при 'class_weight='balanced', чтобы F1 мера была наибольшей.*\n",
    "\n",
    "*Были достигнуты следующие наивысшие F1 значения для каждой из моделей:*\n",
    "\n",
    "***DecisionTreeClassifier*** - *F1 мера 0.574, при этом AUC-ROC метрика 0.824*\n",
    "\n",
    "***RandomForestClassifier*** - *F1 мера 0.631, при этом AUC-ROC метрика 0.860*\n",
    "\n",
    "***LogisticRegression*** - *F1 мера 0.498, при этом AUC-ROC метрика 0.754*\n",
    "\n",
    "*\n",
    "\n",
    "**Метод upsampling**\n",
    "\n",
    "*Число объектов класса 1 было увеличено путём копирования в 4 раза, чтобы доли классов стали примерно равными. Для каждой из моделей были подобраны оптимальные гиперпараметры, чтобы F1 мера была наибольшей.\n",
    "\n",
    "*Были достигнуты следующие наивысшие F1 значения для каждой из моделей:*\n",
    "\n",
    "***DecisionTreeClassifier*** - *F1 мера 0.571, при этом AUC-ROC метрика 0.819*\n",
    "\n",
    "***RandomForestClassifier*** - *F1 мера 0.622, при этом AUC-ROC метрика 0.856*\n",
    "\n",
    "***LogisticRegression*** - *F1 мера 0.497, при этом AUC-ROC метрика 0.753*\n",
    "\n",
    "*\n",
    "\n",
    "**Метод downsampling**\n",
    "\n",
    "*Число объектов класса 0 было отброшено случайным образом, доля объектов класса 0 была изменена в 0.25 раз (уменьшилась в 4 раза), чтобы доли классов стали примерно равными. Для каждой из моделей были подобраны оптимальные гиперпараметры, чтобы F1 мера была наибольшей.\n",
    "\n",
    "*Были достигнуты следующие наивысшие F1 значения для каждой из моделей:*\n",
    "\n",
    "***DecisionTreeClassifier*** - *F1 мера 0.567, при этом AUC-ROC метрика 0.831*\n",
    "\n",
    "***RandomForestClassifier*** - *F1 мера 0.600, при этом AUC-ROC метрика 0.847*\n",
    "\n",
    "***LogisticRegression*** - *F1 мера 0.497, при этом AUC-ROC метрика 0.752*\n",
    "\n",
    "*\n",
    "\n",
    "*В качестве оптимальной модели для финального тестирования можно выбрать модель* ***RandomForestClassifier*** *при автоматическом балансировании классов со следующими гиперпараметрами: количество деревьев (n_estimators) - 30, глубина дерева (max_depth) - 13, min_samples_leaf - 8. F1 score - 0.631, метрика AUC_ROC - 0.860 (модель далека от случайной).*\n"
   ]
  },
  {
   "cell_type": "markdown",
   "metadata": {},
   "source": [
    "<div class=\"alert alert-success\">\n",
    "<b>Комментарий ревьюера ✔️:</b> Вывод получился хорошим. Можно добавить больше промежуточных комментариев. </div>"
   ]
  },
  {
   "cell_type": "markdown",
   "metadata": {},
   "source": [
    "## Тестирование модели"
   ]
  },
  {
   "cell_type": "code",
   "execution_count": 64,
   "metadata": {},
   "outputs": [
    {
     "name": "stdout",
     "output_type": "stream",
     "text": [
      "F1: 0.6500566251415628\n",
      "AUC-ROC: 0.8731725416297174\n"
     ]
    }
   ],
   "source": [
    "# инициализация оптимальной модели для тестовой выборки\n",
    "best_model = RandomForestClassifier(random_state=12345, n_estimators=30, max_depth=13, \n",
    "                                           min_samples_leaf=8, class_weight='balanced')\n",
    "\n",
    "# обучение модели на всём объёме данных обучающей и валидационной выборок\n",
    "best_model.fit(pd.concat([features_train, features_val]), pd.concat([target_train, target_val]))\n",
    "\n",
    "# предсказания целевых признаков и вероятностей классов на тестовой выборке\n",
    "pred_test = best_model.predict(features_test)\n",
    "probabilities_test = best_model.predict_proba(features_test)\n",
    "probabilities_one_test = probabilities_test[:, 1]\n",
    "\n",
    "# подсчёт метрик\n",
    "f1_final = f1_score(target_test, pred_test)\n",
    "auc_roc_final = roc_auc_score(target_test, probabilities_one_test)\n",
    "\n",
    "# вывод значений метрик на экран\n",
    "print(\"F1:\", f1_final)\n",
    "print(\"AUC-ROC:\", auc_roc_final) "
   ]
  },
  {
   "cell_type": "markdown",
   "metadata": {},
   "source": [
    "*В результате тестирования модели на нигде не фигурировавшей ранее выборке получена f1 мера со значением 0.65, метрика AUC-ROC - 0.873.*"
   ]
  },
  {
   "cell_type": "markdown",
   "metadata": {},
   "source": [
    "<div class=\"alert alert-success\">\n",
    "<b>Комментарий ревьюера ✔️:</b> Все правильно. Обучение модели на трейне и валидации было отличным решением. Метрики получились достаточно высокими. Вывод есть.👏 </div>"
   ]
  },
  {
   "cell_type": "markdown",
   "metadata": {},
   "source": [
    "## Общий вывод"
   ]
  },
  {
   "cell_type": "markdown",
   "metadata": {},
   "source": [
    "*Целью исследования являлось построение модели, которая по банковским данных клиента предсказывала бы, уйдёт клиент из банка или останется. Основной метрикой модели являлась F1-мера, нужно было достичь её значения не менее 0.59. Для реализации данной цели были решены следующие задачи:*\n",
    "\n",
    "\n",
    " 1. **Подготовка данных для модели**\n",
    " \n",
    " \n",
    " 2. **Исследование данных без учёта дисбаланса**\n",
    " \n",
    " \n",
    " 3. **Устранение дисбаланса**\n",
    " \n",
    "      \n",
    " 4. **Финальное тестирование модели**\n",
    " \n",
    " \n",
    " \n",
    " **Задача 1 \"Подготовка данных для модели\"** \n",
    "\n",
    "*В базу данных входит информация о 10000 клиентах банка, имелось около 1000 пропусков в данных о количестве лет сотрудничества с банком, которые были заполнены рандомным значением из существующих данных, тем самым практически не нарушив пропорций значений. В остальном данные полные и позволяют строить модель прогноза перспективы ухода клиента из банка.*\n",
    "\n",
    "*Категориальные нецифровые данные были перекодированы с помощью one-hpt-encoding, а остальные данные сжаты с помощью масштабирования Standard Scaler.*\n",
    "\n",
    "*Далее все данные клиентов банка разделены на признаки и целевой признак (факт ухода клиента) с разбиением на обучающую выборку (60% данных), валидационную (20%) и тестовую (20%).*\n",
    "\n",
    "*Во всех выборках сохранён исходный баланс классов целевого признака: 80% класс 0 (текущий клиент) и 20% класс 1 (уход из клиентов банка).*\n",
    "\n",
    "\n",
    "**Задача 2 \"Исследование данных без учёта дисбаланса\"** \n",
    "\n",
    "\n",
    "*С сохранением текущего баланса классов 80/20 были обучены с подбором гиперпараметров (на обучающей выборке) и проверены на f1 score и auc_roc score (на обучающей и валидационной выборках) следующие типы моделей: модель дерева решений (DecisionTreeClassifier), модель случайного леса (RandomForestClassifier) и модель логистической регрессии (LogisticRegression).*\n",
    "    \n",
    "*Удалось достичь следующих значений метрики f1 (f1 мера как среднее гармоническое полноты и точности):*\n",
    "\n",
    "    - 0.563 для DecisionTreeClassifier\n",
    "    - 0.573 для RandomForestClassifier\n",
    "    - 0.295 для LogisticRegression\n",
    "\n",
    "*Даже модель с наибольшим f1 меры (RandomForestClassifier) в 0.573 не дотягивает до требуемого значения в 0.59, поэтому для повышения этой метрики необходимо было устранять дисбаланс классов в целевом признаке. Метрики AUC_ROC у данных моделей не сильно отличаются друг от друга, модели далеки от случайных, у модели с наибольшим f1 score значение метрики AUC_ROC - 0.827.*\n",
    "\n",
    "\n",
    "**Задача 3 \"Устранение дисбаланса\"**\n",
    "\n",
    "*Для устранения дисбаланса между классами 0 и 1 были применены методы upsampling (увеличение доли класса 1 путём копирования объектов), downsampling (уменьшение доли класса 0 путём отбрасывания объектов случайным образом) и метод балансирования классов при указании в гиперпараметрах моделей (назначение классу 1 большего веса).*\n",
    "\n",
    "*В методе upsampling число объектов класса 1 было увеличено путём копирования в 4 раза. Соответственно, были подобраны оптимальные гиперпараметры для каждой из моделей при примерно равных долях классов 0 и 1. В результате оптимальной оказалась модель RandomForestClassifier со значением f1 меры 0.622, при этом AUC-ROC метрика 0.856.*\n",
    "\n",
    "\n",
    "*В методе downsampling число объектов класса 0 было отброшено случайным образом, доля объектов класса 0 изменилась в 0.25 раз (уменьшилась в 4 раза). Соответственно, были подобраны оптимальные гиперпараметры для каждой из моделей при примерно равных долях классов 0 и 1. В результате оптимальной оказалась модель RandomForestClassifier со значением f1 меры 0.6, при этом AUC-ROC метрика 0.847.*\n",
    "\n",
    "*В методе балансирования классов путём указания сбалансированного веса в гиперпараметрах моделей самой оптимальной оказалась модель RandomForestClassifier со значением f1 меры 0.631, при этом AUC-ROC метрика 0.860.*\n",
    "\n",
    "*Таким образом, в качестве оптимальной модели для финального тестирования была выбрана модель RandomForestClassifier при автоматическом балансировании классов со следующими гиперпараметрами: количество деревьев (n_estimators) - 30, глубина дерева (max_depth) - 13, min_samples_leaf - 8. F1 score - 0.631, метрика AUC_ROC - 0.860 (модель далека от случайной).*\n",
    "\n",
    "\n",
    "**Задача 4 \"Финальное тестирование модели**\n",
    "\n",
    "*В результате тестирования выбранной лучшей модели на тестовой выборке получена f1 мера со значением 0.650, метрика AUC-ROC - 0.873.*\n",
    "\n",
    "*В целом, объём базы данных банковских клиентов и состав признаков позволил выполнить задачу в построении модели предсказания ухода клиента из банка со значением F1 меры выше запланированной.*\n"
   ]
  },
  {
   "cell_type": "markdown",
   "metadata": {},
   "source": [
    "## Чек-лист готовности проекта"
   ]
  },
  {
   "cell_type": "markdown",
   "metadata": {},
   "source": [
    "Поставьте 'x' в выполненных пунктах. Далее нажмите Shift+Enter."
   ]
  },
  {
   "cell_type": "markdown",
   "metadata": {},
   "source": [
    "- [x]  Jupyter Notebook открыт\n",
    "- [x]  Весь код выполняется без ошибок\n",
    "- [x]  Ячейки с кодом расположены в порядке исполнения\n",
    "- [x]  Выполнен шаг 1: данные подготовлены\n",
    "- [x]  Выполнен шаг 2: задача исследована\n",
    "    - [x]  Исследован баланс классов\n",
    "    - [x]  Изучены модели без учёта дисбаланса\n",
    "    - [x]  Написаны выводы по результатам исследования\n",
    "- [x]  Выполнен шаг 3: учтён дисбаланс\n",
    "    - [x]  Применено несколько способов борьбы с дисбалансом\n",
    "    - [x]  Написаны выводы по результатам исследования\n",
    "- [x]  Выполнен шаг 4: проведено тестирование\n",
    "- [x]  Удалось достичь *F1*-меры не менее 0.59\n",
    "- [x]  Исследована метрика *AUC-ROC*"
   ]
  },
  {
   "cell_type": "markdown",
   "metadata": {},
   "source": [
    "<div style=\"border:solid blue 2px; padding: 20px\">\n",
    "<b>Итоговый комментарий ревьюера</b>\n",
    "<div class=\"alert alert-block alert-success\">\n",
    "<b>✔️ Комментарий ревьюера:</b>\n",
    "Мне очень понравилась твоя работа. Спасибо тебе большое, за хорошее оформление проекта.\n",
    "Чувствуется уверенное знание материала и владение питоном в целом. \n",
    "</div>\n",
    "<b>Но нужно кое-что поправить:</b>\n",
    "<div class=\"alert alert-block alert-danger\">\n",
    "<ul>1) Корректно обработать пропуски в tenure.</ul>\n",
    "<ul>2) Перенести предобработку данных в первый блок.</ul>\n",
    "<ul>3) Сделать fit скелера только на обучающей выборке.</ul>\n",
    "<ul>4) Запустить закомментированные ячейки.</ul>\n",
    "</div>\n",
    "\n",
    "<b>Осталось совсем немного, буду ждать твою работу на повторное ревью 🙂</b></div>"
   ]
  },
  {
   "cell_type": "markdown",
   "metadata": {},
   "source": [
    "<div style=\"border:solid blue 2px; padding: 20px\">\n",
    "<b>Итоговый комментарий ревьюера v2</b>\n",
    "<div class=\"alert alert-block alert-success\">\n",
    "<b>✔️ Комментарий ревьюера:</b>\n",
    "Все недочеты исправлены, проект выполнен и принят. Ты - большой молодец и проделал огромную работу. Особенно хочу отметить твои графики, которые у тебя получаются просто потрясающе.\n",
    "</div>\n",
    "\n",
    "<b>От себя лично хочу пожелать тебе продолжать учиться с пользой и главное с удовольствием. Надеюсь, что мои советы и комментарии были полезными для тебя. Удачи!</b></div>"
   ]
  },
  {
   "cell_type": "code",
   "execution_count": null,
   "metadata": {},
   "outputs": [],
   "source": []
  }
 ],
 "metadata": {
  "ExecuteTimeLog": [
   {
    "duration": 15553,
    "start_time": "2022-10-05T13:03:19.781Z"
   },
   {
    "duration": 198,
    "start_time": "2022-10-05T13:03:35.336Z"
   },
   {
    "duration": 13,
    "start_time": "2022-10-05T13:03:35.535Z"
   },
   {
    "duration": 15,
    "start_time": "2022-10-05T13:03:35.550Z"
   },
   {
    "duration": 113,
    "start_time": "2022-10-05T13:03:35.567Z"
   },
   {
    "duration": 27,
    "start_time": "2022-10-05T13:03:35.683Z"
   },
   {
    "duration": 32,
    "start_time": "2022-10-05T13:03:35.713Z"
   },
   {
    "duration": 63,
    "start_time": "2022-10-05T13:03:35.747Z"
   },
   {
    "duration": 18,
    "start_time": "2022-10-05T13:03:35.812Z"
   },
   {
    "duration": 7,
    "start_time": "2022-10-05T13:03:35.833Z"
   },
   {
    "duration": 10,
    "start_time": "2022-10-05T13:03:35.842Z"
   },
   {
    "duration": 22,
    "start_time": "2022-10-05T13:03:35.854Z"
   },
   {
    "duration": 20,
    "start_time": "2022-10-05T13:03:35.878Z"
   },
   {
    "duration": 24,
    "start_time": "2022-10-05T13:03:35.900Z"
   },
   {
    "duration": 19,
    "start_time": "2022-10-05T13:03:35.926Z"
   },
   {
    "duration": 19,
    "start_time": "2022-10-05T13:03:35.947Z"
   },
   {
    "duration": 9,
    "start_time": "2022-10-05T13:03:35.967Z"
   },
   {
    "duration": 14,
    "start_time": "2022-10-05T13:03:35.977Z"
   },
   {
    "duration": 1473,
    "start_time": "2022-10-05T13:03:35.992Z"
   },
   {
    "duration": 1408,
    "start_time": "2022-10-05T13:03:37.467Z"
   },
   {
    "duration": 1442,
    "start_time": "2022-10-05T13:03:38.877Z"
   },
   {
    "duration": 70521,
    "start_time": "2022-10-05T13:03:40.321Z"
   },
   {
    "duration": 53,
    "start_time": "2022-10-05T13:04:50.845Z"
   },
   {
    "duration": 23382,
    "start_time": "2022-10-05T13:04:50.901Z"
   },
   {
    "duration": 35368,
    "start_time": "2022-10-05T13:05:14.289Z"
   },
   {
    "duration": 22297,
    "start_time": "2022-10-05T13:05:49.659Z"
   },
   {
    "duration": 3,
    "start_time": "2022-10-05T13:06:11.958Z"
   },
   {
    "duration": 3654,
    "start_time": "2022-10-05T13:06:11.965Z"
   },
   {
    "duration": 134,
    "start_time": "2022-10-05T13:06:15.621Z"
   },
   {
    "duration": 633,
    "start_time": "2022-10-05T13:06:15.757Z"
   },
   {
    "duration": 47549,
    "start_time": "2022-10-05T13:06:16.392Z"
   },
   {
    "duration": 452,
    "start_time": "2022-10-05T13:07:03.943Z"
   },
   {
    "duration": 414,
    "start_time": "2022-10-05T13:07:04.397Z"
   },
   {
    "duration": 295,
    "start_time": "2022-10-05T13:07:04.813Z"
   },
   {
    "duration": 34,
    "start_time": "2022-10-05T13:07:05.109Z"
   },
   {
    "duration": 73065,
    "start_time": "2022-10-05T13:07:05.144Z"
   },
   {
    "duration": 41,
    "start_time": "2022-10-05T13:08:18.211Z"
   },
   {
    "duration": 3,
    "start_time": "2022-10-05T13:08:18.254Z"
   },
   {
    "duration": 903,
    "start_time": "2022-10-05T13:08:18.258Z"
   },
   {
    "duration": 49700,
    "start_time": "2022-10-05T13:08:19.163Z"
   },
   {
    "duration": 340,
    "start_time": "2022-10-05T13:09:08.865Z"
   },
   {
    "duration": 202,
    "start_time": "2022-10-05T13:09:09.209Z"
   },
   {
    "duration": 10,
    "start_time": "2022-10-05T13:09:09.413Z"
   },
   {
    "duration": 7,
    "start_time": "2022-10-05T13:09:09.425Z"
   },
   {
    "duration": 355,
    "start_time": "2022-10-05T13:09:09.433Z"
   },
   {
    "duration": 21,
    "start_time": "2022-10-05T13:09:09.791Z"
   },
   {
    "duration": 242,
    "start_time": "2022-10-05T13:09:09.814Z"
   },
   {
    "duration": 4,
    "start_time": "2022-10-05T13:09:10.058Z"
   },
   {
    "duration": 59,
    "start_time": "2022-10-05T13:09:10.064Z"
   },
   {
    "duration": 21,
    "start_time": "2022-10-05T13:09:10.126Z"
   },
   {
    "duration": 250,
    "start_time": "2022-10-05T13:09:10.149Z"
   },
   {
    "duration": 118389,
    "start_time": "2022-10-05T13:09:10.401Z"
   },
   {
    "duration": 413,
    "start_time": "2022-10-05T13:11:08.793Z"
   },
   {
    "duration": 425,
    "start_time": "2022-10-05T13:11:09.209Z"
   },
   {
    "duration": 4,
    "start_time": "2022-10-05T13:11:09.636Z"
   },
   {
    "duration": 11,
    "start_time": "2022-10-05T13:11:09.642Z"
   },
   {
    "duration": 481,
    "start_time": "2022-10-05T13:11:09.655Z"
   },
   {
    "duration": 22,
    "start_time": "2022-10-05T13:11:10.139Z"
   },
   {
    "duration": 243,
    "start_time": "2022-10-05T13:11:10.164Z"
   },
   {
    "duration": 219690,
    "start_time": "2022-10-05T13:11:10.409Z"
   },
   {
    "duration": 30,
    "start_time": "2022-10-05T13:14:50.101Z"
   },
   {
    "duration": 224,
    "start_time": "2022-10-05T13:14:50.133Z"
   },
   {
    "duration": 144132,
    "start_time": "2022-10-05T13:14:50.358Z"
   },
   {
    "duration": 299,
    "start_time": "2022-10-05T13:17:14.492Z"
   },
   {
    "duration": 307,
    "start_time": "2022-10-05T13:17:14.794Z"
   },
   {
    "duration": 1121,
    "start_time": "2022-10-05T13:17:15.103Z"
   },
   {
    "duration": 1368,
    "start_time": "2022-10-08T18:15:00.981Z"
   },
   {
    "duration": 52,
    "start_time": "2022-10-08T18:15:02.351Z"
   },
   {
    "duration": 20,
    "start_time": "2022-10-08T18:15:02.404Z"
   },
   {
    "duration": 34,
    "start_time": "2022-10-08T18:15:02.427Z"
   },
   {
    "duration": 113,
    "start_time": "2022-10-08T18:15:02.463Z"
   },
   {
    "duration": 6,
    "start_time": "2022-10-08T18:15:02.577Z"
   },
   {
    "duration": 14,
    "start_time": "2022-10-08T18:15:02.584Z"
   },
   {
    "duration": 26,
    "start_time": "2022-10-08T18:15:02.615Z"
   },
   {
    "duration": 27,
    "start_time": "2022-10-08T18:15:02.643Z"
   },
   {
    "duration": 3,
    "start_time": "2022-10-08T18:15:02.673Z"
   },
   {
    "duration": 18,
    "start_time": "2022-10-08T18:15:02.677Z"
   },
   {
    "duration": 8,
    "start_time": "2022-10-08T18:15:02.696Z"
   },
   {
    "duration": 49,
    "start_time": "2022-10-08T18:15:02.705Z"
   },
   {
    "duration": 4,
    "start_time": "2022-10-08T18:15:02.755Z"
   },
   {
    "duration": 6,
    "start_time": "2022-10-08T18:15:02.760Z"
   },
   {
    "duration": 8,
    "start_time": "2022-10-08T18:15:02.767Z"
   },
   {
    "duration": 6,
    "start_time": "2022-10-08T18:15:02.777Z"
   },
   {
    "duration": 30,
    "start_time": "2022-10-08T18:15:02.785Z"
   },
   {
    "duration": 3,
    "start_time": "2022-10-08T18:15:02.816Z"
   },
   {
    "duration": 6,
    "start_time": "2022-10-08T18:15:02.820Z"
   },
   {
    "duration": 241,
    "start_time": "2022-10-08T18:15:02.843Z"
   },
   {
    "duration": 1322,
    "start_time": "2022-10-08T18:15:03.086Z"
   },
   {
    "duration": 1394,
    "start_time": "2022-10-08T18:15:04.411Z"
   },
   {
    "duration": 1262,
    "start_time": "2022-10-08T18:15:05.806Z"
   },
   {
    "duration": 66266,
    "start_time": "2022-10-08T18:15:07.070Z"
   },
   {
    "duration": 36,
    "start_time": "2022-10-08T18:16:13.337Z"
   },
   {
    "duration": 24086,
    "start_time": "2022-10-08T18:16:13.374Z"
   },
   {
    "duration": 38321,
    "start_time": "2022-10-08T18:16:37.465Z"
   },
   {
    "duration": 24591,
    "start_time": "2022-10-08T18:17:15.788Z"
   },
   {
    "duration": 451708,
    "start_time": "2022-10-08T18:17:40.381Z"
   },
   {
    "duration": 2710,
    "start_time": "2022-10-08T18:25:12.091Z"
   },
   {
    "duration": 98,
    "start_time": "2022-10-08T18:25:14.808Z"
   },
   {
    "duration": 110,
    "start_time": "2022-10-08T18:25:14.925Z"
   },
   {
    "duration": 54020,
    "start_time": "2022-10-08T18:25:15.037Z"
   },
   {
    "duration": 81,
    "start_time": "2022-10-08T18:26:09.058Z"
   },
   {
    "duration": 327,
    "start_time": "2022-10-08T18:26:09.208Z"
   },
   {
    "duration": 237,
    "start_time": "2022-10-08T18:26:09.540Z"
   },
   {
    "duration": 48,
    "start_time": "2022-10-08T18:26:09.779Z"
   },
   {
    "duration": 69301,
    "start_time": "2022-10-08T18:26:09.832Z"
   },
   {
    "duration": 32,
    "start_time": "2022-10-08T18:27:19.134Z"
   },
   {
    "duration": 547719,
    "start_time": "2022-10-08T18:27:19.167Z"
   },
   {
    "duration": 218,
    "start_time": "2022-10-08T18:36:26.887Z"
   },
   {
    "duration": 33762,
    "start_time": "2022-10-08T18:36:27.108Z"
   },
   {
    "duration": 156,
    "start_time": "2022-10-08T18:37:00.872Z"
   },
   {
    "duration": 110,
    "start_time": "2022-10-08T18:37:01.035Z"
   },
   {
    "duration": 9,
    "start_time": "2022-10-08T18:37:01.223Z"
   },
   {
    "duration": 40,
    "start_time": "2022-10-08T18:37:01.233Z"
   },
   {
    "duration": 1000732,
    "start_time": "2022-10-08T18:37:01.275Z"
   },
   {
    "duration": 747,
    "start_time": "2022-10-08T18:53:42.009Z"
   },
   {
    "duration": 85234,
    "start_time": "2022-10-08T18:53:42.758Z"
   },
   {
    "duration": 49,
    "start_time": "2022-10-08T18:55:07.994Z"
   },
   {
    "duration": 20470,
    "start_time": "2022-10-08T18:55:08.045Z"
   },
   {
    "duration": 210,
    "start_time": "2022-10-08T18:55:28.517Z"
   },
   {
    "duration": 204,
    "start_time": "2022-10-08T18:55:28.728Z"
   },
   {
    "duration": 4,
    "start_time": "2022-10-08T18:55:28.933Z"
   },
   {
    "duration": 48,
    "start_time": "2022-10-08T18:55:28.939Z"
   },
   {
    "duration": 411448,
    "start_time": "2022-10-08T18:55:28.989Z"
   },
   {
    "duration": 80,
    "start_time": "2022-10-08T19:02:20.439Z"
   },
   {
    "duration": 31028,
    "start_time": "2022-10-08T19:02:20.524Z"
   },
   {
    "duration": 17,
    "start_time": "2022-10-08T19:02:51.554Z"
   },
   {
    "duration": 17639,
    "start_time": "2022-10-08T19:02:51.572Z"
   },
   {
    "duration": 208,
    "start_time": "2022-10-08T19:03:09.219Z"
   },
   {
    "duration": 19,
    "start_time": "2022-10-08T19:03:09.516Z"
   },
   {
    "duration": 264,
    "start_time": "2022-10-08T19:03:09.536Z"
   }
  ],
  "kernelspec": {
   "display_name": "Python 3 (ipykernel)",
   "language": "python",
   "name": "python3"
  },
  "language_info": {
   "codemirror_mode": {
    "name": "ipython",
    "version": 3
   },
   "file_extension": ".py",
   "mimetype": "text/x-python",
   "name": "python",
   "nbconvert_exporter": "python",
   "pygments_lexer": "ipython3",
   "version": "3.9.12"
  },
  "toc": {
   "base_numbering": 1,
   "nav_menu": {},
   "number_sections": true,
   "sideBar": true,
   "skip_h1_title": true,
   "title_cell": "Содержание",
   "title_sidebar": "Contents",
   "toc_cell": true,
   "toc_position": {
    "height": "calc(100% - 180px)",
    "left": "10px",
    "top": "150px",
    "width": "165px"
   },
   "toc_section_display": true,
   "toc_window_display": true
  }
 },
 "nbformat": 4,
 "nbformat_minor": 2
}
