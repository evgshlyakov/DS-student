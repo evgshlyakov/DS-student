{
 "cells": [
  {
   "cell_type": "markdown",
   "metadata": {},
   "source": [
    "<div style=\"border:solid Chocolate 2px; padding: 40px\">\n",
    "\n",
    "<b>Привет!👋</b>\n",
    "\n",
    "Меня зовут Роман Абрамов, я буду ревьюером твоего проекта. Ты можешь обращаться ко мне на \"ты\"😏 Надеюсь, тебя также не смутит, если я буду обращаться к тебе на \"ты\", но если это неудобно, обязательно скажи об этом!\n",
    "\n",
    "Пожалуйста, не удаляй мои комментарии, они будут особенно полезны для нашей работы в случае повторной проверки проекта.\n",
    "\n",
    "Ты также можешь реагировать на мои комментарии своими, выделяя их цветами и наиболее понравившимся тебе способом оформления, но явно  отличающимся от моих комментариев. Это нужно, чтобы не создавалась путаница😉\n",
    "\n",
    "Ты можешь найти мои комментарии, обозначенные <font color='green'>зеленым</font>, <font color='gold'>желтым</font> и <font color='red'>красным</font> цветами, например:\n",
    "\n",
    "<br/>\n",
    "\n",
    "<div class=\"alert alert-success\">\n",
    "<h2> Комментарий ревьюера <a class=\"tocSkip\"> </h2>\n",
    "\n",
    "<b>Все отлично!👍:</b> В случае, если решение на отдельном шаге является полностью правильным.\n",
    "</div>\n",
    "\n",
    "<br/>\n",
    "\n",
    "<div class=\"alert alert-warning\">\n",
    "    <h2> Комментарий ревьюера <a class=\"tocSkip\"> </h2>\n",
    "\n",
    "<b>Некоторые замечания и рекомендации💡:</b> В случае, когда решение на отдельном шаге станет еще лучше, если внести небольшие коррективы. Желтые замечания и рекомендации необязательны к исправлению - на то это и рекомендации. Они больше ориентированы на улучшение твоих навыков\n",
    "</div>\n",
    "\n",
    "\n",
    "<br/>\n",
    "<div class=\"alert alert-block alert-danger\">\n",
    "<h2> Комментарий ревьюера <a class=\"tocSkip\"></h2>\n",
    "\n",
    "\n",
    "<b>На доработку🤔:</b>\n",
    " В случае, когда решение на отдельном шаге требует существенной переработки и внесения правок. Напоминаю, что проект не может быть принят с первого раза, если ревью содержит комментарии, рекомендующие доработать шаги.\n",
    "</div>\n",
    "\n",
    "Увидев у тебя неточность, в первый раз я лишь укажу на ее наличие и дам тебе возможность самому найти и исправить ее. На реальной работе твой руководитель будет поступать также. Но если ты пока не справишься с такой задачей - при следующей проверке я дам более точную подсказку!🤓"
   ]
  },
  {
   "cell_type": "markdown",
   "metadata": {},
   "source": [
    "<div class=\"alert alert-success\">\n",
    "\n",
    "<h2> Комментарий ревьюера 2 итерация <a class=\"tocSkip\"> </h2>\n",
    "\n",
    "Привет! Почти все верно, указал замечание на верхнюю границу года регистрации "
   ]
  },
  {
   "cell_type": "markdown",
   "metadata": {},
   "source": [
    "# Определение стоимости автомобилей"
   ]
  },
  {
   "cell_type": "markdown",
   "metadata": {},
   "source": [
    "Сервис по продаже автомобилей с пробегом «Не бит, не крашен» разрабатывает приложение для привлечения новых клиентов. В нём можно быстро узнать рыночную стоимость своего автомобиля. В нашем распоряжении исторические данные: технические характеристики, комплектации и цены автомобилей. \n",
    "\n",
    "Цель исследования: построить модель для определения стоимости автомобиля, с учётом наилучшего качества предсказания, наименьшего времени предсказания и наименьшего времени обучения. \n"
   ]
  },
  {
   "cell_type": "markdown",
   "metadata": {},
   "source": [
    "<h1>Содержание<span class=\"tocSkip\"></span></h1>\n",
    "<div class=\"toc\"><ul class=\"toc-item\"><li><span><a href=\"#Подготовка-данных\" data-toc-modified-id=\"Подготовка-данных-1\"><span class=\"toc-item-num\">1&nbsp;&nbsp;</span>Подготовка данных<a name=\"paragraph1\"></a></a></span><ul class=\"toc-item\"><li><span><a href=\"#Вывод-к-первому-разделу\" data-toc-modified-id=\"Вывод-к-первому-разделу-1.1\"><span class=\"toc-item-num\">1.1&nbsp;&nbsp;</span>Вывод к первому разделу<a name=\"subparagraph1\"></a></a></span></li></ul></li><li><span><a href=\"#Обучение-моделей\" data-toc-modified-id=\"Обучение-моделей-2\"><span class=\"toc-item-num\">2&nbsp;&nbsp;</span>Обучение моделей<a name=\"paragraph2\"></a></a></span><ul class=\"toc-item\"><li><span><a href=\"#Вывод-ко-второму-разделу\" data-toc-modified-id=\"Вывод-ко-второму-разделу-2.1\"><span class=\"toc-item-num\">2.1&nbsp;&nbsp;</span>Вывод ко второму разделу<a name=\"subparagraph2\"></a></a></span></li></ul></li><li><span><a href=\"#Анализ-моделей\" data-toc-modified-id=\"Анализ-моделей-3\"><span class=\"toc-item-num\">3&nbsp;&nbsp;</span>Анализ моделей<a name=\"paragraph3\"></a></a></span><ul class=\"toc-item\"><li><span><a href=\"#Вывод-к-третьему-разделу\" data-toc-modified-id=\"Вывод-к-третьему-разделу-3.1\"><span class=\"toc-item-num\">3.1&nbsp;&nbsp;</span>Вывод к третьему разделу<a name=\"subparagraph3\"></a></a></span></li></ul></li><li><span><a href=\"#Общий-вывод\" data-toc-modified-id=\"Общий-вывод-4\"><span class=\"toc-item-num\">4&nbsp;&nbsp;</span>Общий вывод<a name=\"paragraph4\"></a></a></span></li><li><span><a href=\"#Чек-лист-проверки\" data-toc-modified-id=\"Чек-лист-проверки-5\"><span class=\"toc-item-num\">5&nbsp;&nbsp;</span>Чек-лист проверки<a name=\"paragraph5\"></a></a></span></li></ul></div>"
   ]
  },
  {
   "cell_type": "markdown",
   "metadata": {},
   "source": [
    "## Подготовка данных"
   ]
  },
  {
   "cell_type": "code",
   "execution_count": 1,
   "metadata": {},
   "outputs": [],
   "source": [
    "# импорт библиотек\n",
    "\n",
    "import random\n",
    "import time\n",
    "\n",
    "import numpy as np\n",
    "import pandas as pd\n",
    "import matplotlib.pyplot as plt\n",
    "\n",
    "from sklearn.tree import DecisionTreeRegressor  \n",
    "from sklearn.linear_model import LinearRegression\n",
    "from sklearn.metrics import mean_squared_error\n",
    "from sklearn.model_selection import train_test_split, cross_validate, GridSearchCV\n",
    "from sklearn.preprocessing import StandardScaler, OrdinalEncoder \n",
    "from sklearn.dummy import DummyRegressor\n",
    "\n",
    "from catboost import CatBoostRegressor\n",
    "from lightgbm import LGBMRegressor"
   ]
  },
  {
   "cell_type": "markdown",
   "metadata": {},
   "source": [
    "<div class=\"alert alert-warning\">\n",
    "    <h2> Комментарий ревьюера <a class=\"tocSkip\"> </h2>\n",
    "\n",
    "<b>Некоторые замечания и рекомендации💡:</b>\n",
    "\n",
    "Супер, что импорты были собраны в одну ячейку, но так же стоит соблюдать рекомендации PEP-8 при написании кода. У импортов есть тоже определенные правила. Это сделано для повышения читабельность и простоты работы с кодом.  <br>\n",
    "\n",
    "https://pythonworld.ru/osnovy/pep-8-rukovodstvo-po-napisaniyu-koda-na-python.html\n",
    "\n"
   ]
  },
  {
   "cell_type": "markdown",
   "metadata": {},
   "source": [
    "<div class=\"alert alert-info\"> <b>Комментарий студента:</b> Привет, Роман! Благодарю за проверку проекта. Постараюсь учесть все рекоммендации. Касаемо вышеизложенного комментария: переставил импорты местами, но и отделил сторонние библиотеки пробелом для повышения читабельности.</div>"
   ]
  },
  {
   "cell_type": "markdown",
   "metadata": {},
   "source": [
    "<div class=\"alert alert-success\">\n",
    "\n",
    "<h2> Комментарий ревьюера 2 итерация <a class=\"tocSkip\"> </h2>\n",
    "\n",
    "Супер!"
   ]
  },
  {
   "cell_type": "code",
   "execution_count": 2,
   "metadata": {
    "scrolled": true
   },
   "outputs": [
    {
     "data": {
      "text/html": [
       "<div>\n",
       "<style scoped>\n",
       "    .dataframe tbody tr th:only-of-type {\n",
       "        vertical-align: middle;\n",
       "    }\n",
       "\n",
       "    .dataframe tbody tr th {\n",
       "        vertical-align: top;\n",
       "    }\n",
       "\n",
       "    .dataframe thead th {\n",
       "        text-align: right;\n",
       "    }\n",
       "</style>\n",
       "<table border=\"1\" class=\"dataframe\">\n",
       "  <thead>\n",
       "    <tr style=\"text-align: right;\">\n",
       "      <th></th>\n",
       "      <th>DateCrawled</th>\n",
       "      <th>Price</th>\n",
       "      <th>VehicleType</th>\n",
       "      <th>RegistrationYear</th>\n",
       "      <th>Gearbox</th>\n",
       "      <th>Power</th>\n",
       "      <th>Model</th>\n",
       "      <th>Kilometer</th>\n",
       "      <th>RegistrationMonth</th>\n",
       "      <th>FuelType</th>\n",
       "      <th>Brand</th>\n",
       "      <th>Repaired</th>\n",
       "      <th>DateCreated</th>\n",
       "      <th>NumberOfPictures</th>\n",
       "      <th>PostalCode</th>\n",
       "      <th>LastSeen</th>\n",
       "    </tr>\n",
       "  </thead>\n",
       "  <tbody>\n",
       "    <tr>\n",
       "      <th>0</th>\n",
       "      <td>2016-03-24 11:52:17</td>\n",
       "      <td>480</td>\n",
       "      <td>NaN</td>\n",
       "      <td>1993</td>\n",
       "      <td>manual</td>\n",
       "      <td>0</td>\n",
       "      <td>golf</td>\n",
       "      <td>150000</td>\n",
       "      <td>0</td>\n",
       "      <td>petrol</td>\n",
       "      <td>volkswagen</td>\n",
       "      <td>NaN</td>\n",
       "      <td>2016-03-24 00:00:00</td>\n",
       "      <td>0</td>\n",
       "      <td>70435</td>\n",
       "      <td>2016-04-07 03:16:57</td>\n",
       "    </tr>\n",
       "    <tr>\n",
       "      <th>1</th>\n",
       "      <td>2016-03-24 10:58:45</td>\n",
       "      <td>18300</td>\n",
       "      <td>coupe</td>\n",
       "      <td>2011</td>\n",
       "      <td>manual</td>\n",
       "      <td>190</td>\n",
       "      <td>NaN</td>\n",
       "      <td>125000</td>\n",
       "      <td>5</td>\n",
       "      <td>gasoline</td>\n",
       "      <td>audi</td>\n",
       "      <td>yes</td>\n",
       "      <td>2016-03-24 00:00:00</td>\n",
       "      <td>0</td>\n",
       "      <td>66954</td>\n",
       "      <td>2016-04-07 01:46:50</td>\n",
       "    </tr>\n",
       "    <tr>\n",
       "      <th>2</th>\n",
       "      <td>2016-03-14 12:52:21</td>\n",
       "      <td>9800</td>\n",
       "      <td>suv</td>\n",
       "      <td>2004</td>\n",
       "      <td>auto</td>\n",
       "      <td>163</td>\n",
       "      <td>grand</td>\n",
       "      <td>125000</td>\n",
       "      <td>8</td>\n",
       "      <td>gasoline</td>\n",
       "      <td>jeep</td>\n",
       "      <td>NaN</td>\n",
       "      <td>2016-03-14 00:00:00</td>\n",
       "      <td>0</td>\n",
       "      <td>90480</td>\n",
       "      <td>2016-04-05 12:47:46</td>\n",
       "    </tr>\n",
       "    <tr>\n",
       "      <th>3</th>\n",
       "      <td>2016-03-17 16:54:04</td>\n",
       "      <td>1500</td>\n",
       "      <td>small</td>\n",
       "      <td>2001</td>\n",
       "      <td>manual</td>\n",
       "      <td>75</td>\n",
       "      <td>golf</td>\n",
       "      <td>150000</td>\n",
       "      <td>6</td>\n",
       "      <td>petrol</td>\n",
       "      <td>volkswagen</td>\n",
       "      <td>no</td>\n",
       "      <td>2016-03-17 00:00:00</td>\n",
       "      <td>0</td>\n",
       "      <td>91074</td>\n",
       "      <td>2016-03-17 17:40:17</td>\n",
       "    </tr>\n",
       "    <tr>\n",
       "      <th>4</th>\n",
       "      <td>2016-03-31 17:25:20</td>\n",
       "      <td>3600</td>\n",
       "      <td>small</td>\n",
       "      <td>2008</td>\n",
       "      <td>manual</td>\n",
       "      <td>69</td>\n",
       "      <td>fabia</td>\n",
       "      <td>90000</td>\n",
       "      <td>7</td>\n",
       "      <td>gasoline</td>\n",
       "      <td>skoda</td>\n",
       "      <td>no</td>\n",
       "      <td>2016-03-31 00:00:00</td>\n",
       "      <td>0</td>\n",
       "      <td>60437</td>\n",
       "      <td>2016-04-06 10:17:21</td>\n",
       "    </tr>\n",
       "  </tbody>\n",
       "</table>\n",
       "</div>"
      ],
      "text/plain": [
       "           DateCrawled  Price VehicleType  RegistrationYear Gearbox  Power  \\\n",
       "0  2016-03-24 11:52:17    480         NaN              1993  manual      0   \n",
       "1  2016-03-24 10:58:45  18300       coupe              2011  manual    190   \n",
       "2  2016-03-14 12:52:21   9800         suv              2004    auto    163   \n",
       "3  2016-03-17 16:54:04   1500       small              2001  manual     75   \n",
       "4  2016-03-31 17:25:20   3600       small              2008  manual     69   \n",
       "\n",
       "   Model  Kilometer  RegistrationMonth  FuelType       Brand Repaired  \\\n",
       "0   golf     150000                  0    petrol  volkswagen      NaN   \n",
       "1    NaN     125000                  5  gasoline        audi      yes   \n",
       "2  grand     125000                  8  gasoline        jeep      NaN   \n",
       "3   golf     150000                  6    petrol  volkswagen       no   \n",
       "4  fabia      90000                  7  gasoline       skoda       no   \n",
       "\n",
       "           DateCreated  NumberOfPictures  PostalCode             LastSeen  \n",
       "0  2016-03-24 00:00:00                 0       70435  2016-04-07 03:16:57  \n",
       "1  2016-03-24 00:00:00                 0       66954  2016-04-07 01:46:50  \n",
       "2  2016-03-14 00:00:00                 0       90480  2016-04-05 12:47:46  \n",
       "3  2016-03-17 00:00:00                 0       91074  2016-03-17 17:40:17  \n",
       "4  2016-03-31 00:00:00                 0       60437  2016-04-06 10:17:21  "
      ]
     },
     "execution_count": 2,
     "metadata": {},
     "output_type": "execute_result"
    }
   ],
   "source": [
    "# чтение файла с разных источников\n",
    "\n",
    "try:\n",
    "    autos = pd.read_csv('/datasets/autos.csv')\n",
    "except:\n",
    "    autos = pd.read_csv('C:/Users/Evgenii/Downloads/DS Yandex/Projects/autos.csv')\n",
    "    \n",
    "autos.head()"
   ]
  },
  {
   "cell_type": "code",
   "execution_count": 3,
   "metadata": {},
   "outputs": [
    {
     "data": {
      "text/html": [
       "<div>\n",
       "<style scoped>\n",
       "    .dataframe tbody tr th:only-of-type {\n",
       "        vertical-align: middle;\n",
       "    }\n",
       "\n",
       "    .dataframe tbody tr th {\n",
       "        vertical-align: top;\n",
       "    }\n",
       "\n",
       "    .dataframe thead th {\n",
       "        text-align: right;\n",
       "    }\n",
       "</style>\n",
       "<table border=\"1\" class=\"dataframe\">\n",
       "  <thead>\n",
       "    <tr style=\"text-align: right;\">\n",
       "      <th></th>\n",
       "      <th>date_crawled</th>\n",
       "      <th>price</th>\n",
       "      <th>vehicle_type</th>\n",
       "      <th>registration_year</th>\n",
       "      <th>gearbox</th>\n",
       "      <th>power</th>\n",
       "      <th>model</th>\n",
       "      <th>kilometer</th>\n",
       "      <th>registration_month</th>\n",
       "      <th>fuel_type</th>\n",
       "      <th>brand</th>\n",
       "      <th>repaired</th>\n",
       "      <th>date_created</th>\n",
       "      <th>number_of_pictures</th>\n",
       "      <th>postal_code</th>\n",
       "      <th>last_seen</th>\n",
       "    </tr>\n",
       "  </thead>\n",
       "  <tbody>\n",
       "    <tr>\n",
       "      <th>0</th>\n",
       "      <td>2016-03-24 11:52:17</td>\n",
       "      <td>480</td>\n",
       "      <td>NaN</td>\n",
       "      <td>1993</td>\n",
       "      <td>manual</td>\n",
       "      <td>0</td>\n",
       "      <td>golf</td>\n",
       "      <td>150000</td>\n",
       "      <td>0</td>\n",
       "      <td>petrol</td>\n",
       "      <td>volkswagen</td>\n",
       "      <td>NaN</td>\n",
       "      <td>2016-03-24 00:00:00</td>\n",
       "      <td>0</td>\n",
       "      <td>70435</td>\n",
       "      <td>2016-04-07 03:16:57</td>\n",
       "    </tr>\n",
       "    <tr>\n",
       "      <th>1</th>\n",
       "      <td>2016-03-24 10:58:45</td>\n",
       "      <td>18300</td>\n",
       "      <td>coupe</td>\n",
       "      <td>2011</td>\n",
       "      <td>manual</td>\n",
       "      <td>190</td>\n",
       "      <td>NaN</td>\n",
       "      <td>125000</td>\n",
       "      <td>5</td>\n",
       "      <td>gasoline</td>\n",
       "      <td>audi</td>\n",
       "      <td>yes</td>\n",
       "      <td>2016-03-24 00:00:00</td>\n",
       "      <td>0</td>\n",
       "      <td>66954</td>\n",
       "      <td>2016-04-07 01:46:50</td>\n",
       "    </tr>\n",
       "    <tr>\n",
       "      <th>2</th>\n",
       "      <td>2016-03-14 12:52:21</td>\n",
       "      <td>9800</td>\n",
       "      <td>suv</td>\n",
       "      <td>2004</td>\n",
       "      <td>auto</td>\n",
       "      <td>163</td>\n",
       "      <td>grand</td>\n",
       "      <td>125000</td>\n",
       "      <td>8</td>\n",
       "      <td>gasoline</td>\n",
       "      <td>jeep</td>\n",
       "      <td>NaN</td>\n",
       "      <td>2016-03-14 00:00:00</td>\n",
       "      <td>0</td>\n",
       "      <td>90480</td>\n",
       "      <td>2016-04-05 12:47:46</td>\n",
       "    </tr>\n",
       "    <tr>\n",
       "      <th>3</th>\n",
       "      <td>2016-03-17 16:54:04</td>\n",
       "      <td>1500</td>\n",
       "      <td>small</td>\n",
       "      <td>2001</td>\n",
       "      <td>manual</td>\n",
       "      <td>75</td>\n",
       "      <td>golf</td>\n",
       "      <td>150000</td>\n",
       "      <td>6</td>\n",
       "      <td>petrol</td>\n",
       "      <td>volkswagen</td>\n",
       "      <td>no</td>\n",
       "      <td>2016-03-17 00:00:00</td>\n",
       "      <td>0</td>\n",
       "      <td>91074</td>\n",
       "      <td>2016-03-17 17:40:17</td>\n",
       "    </tr>\n",
       "    <tr>\n",
       "      <th>4</th>\n",
       "      <td>2016-03-31 17:25:20</td>\n",
       "      <td>3600</td>\n",
       "      <td>small</td>\n",
       "      <td>2008</td>\n",
       "      <td>manual</td>\n",
       "      <td>69</td>\n",
       "      <td>fabia</td>\n",
       "      <td>90000</td>\n",
       "      <td>7</td>\n",
       "      <td>gasoline</td>\n",
       "      <td>skoda</td>\n",
       "      <td>no</td>\n",
       "      <td>2016-03-31 00:00:00</td>\n",
       "      <td>0</td>\n",
       "      <td>60437</td>\n",
       "      <td>2016-04-06 10:17:21</td>\n",
       "    </tr>\n",
       "  </tbody>\n",
       "</table>\n",
       "</div>"
      ],
      "text/plain": [
       "          date_crawled  price vehicle_type  registration_year gearbox  power  \\\n",
       "0  2016-03-24 11:52:17    480          NaN               1993  manual      0   \n",
       "1  2016-03-24 10:58:45  18300        coupe               2011  manual    190   \n",
       "2  2016-03-14 12:52:21   9800          suv               2004    auto    163   \n",
       "3  2016-03-17 16:54:04   1500        small               2001  manual     75   \n",
       "4  2016-03-31 17:25:20   3600        small               2008  manual     69   \n",
       "\n",
       "   model  kilometer  registration_month fuel_type       brand repaired  \\\n",
       "0   golf     150000                   0    petrol  volkswagen      NaN   \n",
       "1    NaN     125000                   5  gasoline        audi      yes   \n",
       "2  grand     125000                   8  gasoline        jeep      NaN   \n",
       "3   golf     150000                   6    petrol  volkswagen       no   \n",
       "4  fabia      90000                   7  gasoline       skoda       no   \n",
       "\n",
       "          date_created  number_of_pictures  postal_code            last_seen  \n",
       "0  2016-03-24 00:00:00                   0        70435  2016-04-07 03:16:57  \n",
       "1  2016-03-24 00:00:00                   0        66954  2016-04-07 01:46:50  \n",
       "2  2016-03-14 00:00:00                   0        90480  2016-04-05 12:47:46  \n",
       "3  2016-03-17 00:00:00                   0        91074  2016-03-17 17:40:17  \n",
       "4  2016-03-31 00:00:00                   0        60437  2016-04-06 10:17:21  "
      ]
     },
     "execution_count": 3,
     "metadata": {},
     "output_type": "execute_result"
    }
   ],
   "source": [
    "# переведём название столбцов в змеиный регистр\n",
    "\n",
    "def to_snake_case(value, delimiter='_'):\n",
    "    value = value[0].lower() + value[1:]\n",
    "    for i in value:\n",
    "        if i.isupper():\n",
    "            value = value.replace(i, delimiter + i.lower())\n",
    "    return value  \n",
    "\n",
    "new_cols=[]\n",
    "for cols in autos.columns:\n",
    "    new_cols.append(to_snake_case(cols))\n",
    "    \n",
    "autos.columns = pd.Series(new_cols)\n",
    "autos.head()"
   ]
  },
  {
   "cell_type": "markdown",
   "metadata": {},
   "source": [
    "<div class=\"alert alert-success\">\n",
    "<h2> Комментарий ревьюера <a class=\"tocSkip\"> </h2>\n",
    "\n",
    "<b>Все отлично!👍:</b> \n",
    "\n",
    "Супер, что переводишь все в снейк кейс - так это соответствует наименованию PEP-8"
   ]
  },
  {
   "cell_type": "code",
   "execution_count": 4,
   "metadata": {
    "scrolled": false
   },
   "outputs": [
    {
     "name": "stdout",
     "output_type": "stream",
     "text": [
      "<class 'pandas.core.frame.DataFrame'>\n",
      "RangeIndex: 354369 entries, 0 to 354368\n",
      "Data columns (total 16 columns):\n",
      " #   Column              Non-Null Count   Dtype \n",
      "---  ------              --------------   ----- \n",
      " 0   date_crawled        354369 non-null  object\n",
      " 1   price               354369 non-null  int64 \n",
      " 2   vehicle_type        316879 non-null  object\n",
      " 3   registration_year   354369 non-null  int64 \n",
      " 4   gearbox             334536 non-null  object\n",
      " 5   power               354369 non-null  int64 \n",
      " 6   model               334664 non-null  object\n",
      " 7   kilometer           354369 non-null  int64 \n",
      " 8   registration_month  354369 non-null  int64 \n",
      " 9   fuel_type           321474 non-null  object\n",
      " 10  brand               354369 non-null  object\n",
      " 11  repaired            283215 non-null  object\n",
      " 12  date_created        354369 non-null  object\n",
      " 13  number_of_pictures  354369 non-null  int64 \n",
      " 14  postal_code         354369 non-null  int64 \n",
      " 15  last_seen           354369 non-null  object\n",
      "dtypes: int64(7), object(9)\n",
      "memory usage: 43.3+ MB\n"
     ]
    }
   ],
   "source": [
    "# посмотрим на столбцы с пропусками\n",
    "autos.info()"
   ]
  },
  {
   "cell_type": "markdown",
   "metadata": {},
   "source": [
    "*Данные по столбцу \"model\" имеют практический и здравый смысл только при сочетании со столбцом \"brand\", поэтому объединим эти два столбца в один. Так станет понятно, по какой конкретно машине определяется цена.* "
   ]
  },
  {
   "cell_type": "code",
   "execution_count": 5,
   "metadata": {},
   "outputs": [
    {
     "data": {
      "text/html": [
       "<div>\n",
       "<style scoped>\n",
       "    .dataframe tbody tr th:only-of-type {\n",
       "        vertical-align: middle;\n",
       "    }\n",
       "\n",
       "    .dataframe tbody tr th {\n",
       "        vertical-align: top;\n",
       "    }\n",
       "\n",
       "    .dataframe thead th {\n",
       "        text-align: right;\n",
       "    }\n",
       "</style>\n",
       "<table border=\"1\" class=\"dataframe\">\n",
       "  <thead>\n",
       "    <tr style=\"text-align: right;\">\n",
       "      <th></th>\n",
       "      <th>date_crawled</th>\n",
       "      <th>price</th>\n",
       "      <th>vehicle_type</th>\n",
       "      <th>registration_year</th>\n",
       "      <th>gearbox</th>\n",
       "      <th>power</th>\n",
       "      <th>model</th>\n",
       "      <th>kilometer</th>\n",
       "      <th>registration_month</th>\n",
       "      <th>fuel_type</th>\n",
       "      <th>brand</th>\n",
       "      <th>repaired</th>\n",
       "      <th>date_created</th>\n",
       "      <th>number_of_pictures</th>\n",
       "      <th>postal_code</th>\n",
       "      <th>last_seen</th>\n",
       "      <th>brand_model</th>\n",
       "    </tr>\n",
       "  </thead>\n",
       "  <tbody>\n",
       "    <tr>\n",
       "      <th>0</th>\n",
       "      <td>2016-03-24 11:52:17</td>\n",
       "      <td>480</td>\n",
       "      <td>NaN</td>\n",
       "      <td>1993</td>\n",
       "      <td>manual</td>\n",
       "      <td>0</td>\n",
       "      <td>golf</td>\n",
       "      <td>150000</td>\n",
       "      <td>0</td>\n",
       "      <td>petrol</td>\n",
       "      <td>volkswagen</td>\n",
       "      <td>NaN</td>\n",
       "      <td>2016-03-24 00:00:00</td>\n",
       "      <td>0</td>\n",
       "      <td>70435</td>\n",
       "      <td>2016-04-07 03:16:57</td>\n",
       "      <td>volkswagen golf</td>\n",
       "    </tr>\n",
       "    <tr>\n",
       "      <th>1</th>\n",
       "      <td>2016-03-24 10:58:45</td>\n",
       "      <td>18300</td>\n",
       "      <td>coupe</td>\n",
       "      <td>2011</td>\n",
       "      <td>manual</td>\n",
       "      <td>190</td>\n",
       "      <td></td>\n",
       "      <td>125000</td>\n",
       "      <td>5</td>\n",
       "      <td>gasoline</td>\n",
       "      <td>audi</td>\n",
       "      <td>yes</td>\n",
       "      <td>2016-03-24 00:00:00</td>\n",
       "      <td>0</td>\n",
       "      <td>66954</td>\n",
       "      <td>2016-04-07 01:46:50</td>\n",
       "      <td>audi</td>\n",
       "    </tr>\n",
       "    <tr>\n",
       "      <th>2</th>\n",
       "      <td>2016-03-14 12:52:21</td>\n",
       "      <td>9800</td>\n",
       "      <td>suv</td>\n",
       "      <td>2004</td>\n",
       "      <td>auto</td>\n",
       "      <td>163</td>\n",
       "      <td>grand</td>\n",
       "      <td>125000</td>\n",
       "      <td>8</td>\n",
       "      <td>gasoline</td>\n",
       "      <td>jeep</td>\n",
       "      <td>NaN</td>\n",
       "      <td>2016-03-14 00:00:00</td>\n",
       "      <td>0</td>\n",
       "      <td>90480</td>\n",
       "      <td>2016-04-05 12:47:46</td>\n",
       "      <td>jeep grand</td>\n",
       "    </tr>\n",
       "    <tr>\n",
       "      <th>3</th>\n",
       "      <td>2016-03-17 16:54:04</td>\n",
       "      <td>1500</td>\n",
       "      <td>small</td>\n",
       "      <td>2001</td>\n",
       "      <td>manual</td>\n",
       "      <td>75</td>\n",
       "      <td>golf</td>\n",
       "      <td>150000</td>\n",
       "      <td>6</td>\n",
       "      <td>petrol</td>\n",
       "      <td>volkswagen</td>\n",
       "      <td>no</td>\n",
       "      <td>2016-03-17 00:00:00</td>\n",
       "      <td>0</td>\n",
       "      <td>91074</td>\n",
       "      <td>2016-03-17 17:40:17</td>\n",
       "      <td>volkswagen golf</td>\n",
       "    </tr>\n",
       "    <tr>\n",
       "      <th>4</th>\n",
       "      <td>2016-03-31 17:25:20</td>\n",
       "      <td>3600</td>\n",
       "      <td>small</td>\n",
       "      <td>2008</td>\n",
       "      <td>manual</td>\n",
       "      <td>69</td>\n",
       "      <td>fabia</td>\n",
       "      <td>90000</td>\n",
       "      <td>7</td>\n",
       "      <td>gasoline</td>\n",
       "      <td>skoda</td>\n",
       "      <td>no</td>\n",
       "      <td>2016-03-31 00:00:00</td>\n",
       "      <td>0</td>\n",
       "      <td>60437</td>\n",
       "      <td>2016-04-06 10:17:21</td>\n",
       "      <td>skoda fabia</td>\n",
       "    </tr>\n",
       "  </tbody>\n",
       "</table>\n",
       "</div>"
      ],
      "text/plain": [
       "          date_crawled  price vehicle_type  registration_year gearbox  power  \\\n",
       "0  2016-03-24 11:52:17    480          NaN               1993  manual      0   \n",
       "1  2016-03-24 10:58:45  18300        coupe               2011  manual    190   \n",
       "2  2016-03-14 12:52:21   9800          suv               2004    auto    163   \n",
       "3  2016-03-17 16:54:04   1500        small               2001  manual     75   \n",
       "4  2016-03-31 17:25:20   3600        small               2008  manual     69   \n",
       "\n",
       "   model  kilometer  registration_month fuel_type       brand repaired  \\\n",
       "0   golf     150000                   0    petrol  volkswagen      NaN   \n",
       "1            125000                   5  gasoline        audi      yes   \n",
       "2  grand     125000                   8  gasoline        jeep      NaN   \n",
       "3   golf     150000                   6    petrol  volkswagen       no   \n",
       "4  fabia      90000                   7  gasoline       skoda       no   \n",
       "\n",
       "          date_created  number_of_pictures  postal_code            last_seen  \\\n",
       "0  2016-03-24 00:00:00                   0        70435  2016-04-07 03:16:57   \n",
       "1  2016-03-24 00:00:00                   0        66954  2016-04-07 01:46:50   \n",
       "2  2016-03-14 00:00:00                   0        90480  2016-04-05 12:47:46   \n",
       "3  2016-03-17 00:00:00                   0        91074  2016-03-17 17:40:17   \n",
       "4  2016-03-31 00:00:00                   0        60437  2016-04-06 10:17:21   \n",
       "\n",
       "       brand_model  \n",
       "0  volkswagen golf  \n",
       "1             audi  \n",
       "2       jeep grand  \n",
       "3  volkswagen golf  \n",
       "4      skoda fabia  "
      ]
     },
     "execution_count": 5,
     "metadata": {},
     "output_type": "execute_result"
    }
   ],
   "source": [
    "# объединение brand и model\n",
    "\n",
    "autos['model'] = autos['model'].fillna('') # заполнение пропусков у model пустотой\n",
    "autos['brand_model'] = autos['brand'] + ' ' + autos['model'] # объединение\n",
    "autos['brand_model'] = autos['brand_model'].apply(lambda x: x.rstrip()) # удаление пробела в конце строки\n",
    "autos.head()"
   ]
  },
  {
   "cell_type": "markdown",
   "metadata": {},
   "source": [
    "<div class=\"alert alert-success\">\n",
    "<h2> Комментарий ревьюера <a class=\"tocSkip\"> </h2>\n",
    "\n",
    "<b>Все отлично!👍:</b> \n",
    "\n",
    "Интересная идея! Хотя так у нас расширяется пространство и бренд уже не так явно влияет - возможно, стоило бы провести два эксперимента - с твоим преобразованием и без, чтобы посмотреть на влияние и выбрать лучшее преобразование с помощью метрики"
   ]
  },
  {
   "cell_type": "code",
   "execution_count": 6,
   "metadata": {},
   "outputs": [
    {
     "name": "stdout",
     "output_type": "stream",
     "text": [
      "Уникальные значения в столбце date_crawled (максимум 50): ['2016-03-05 14:06:22', '2016-03-05 14:06:23', '2016-03-05 14:06:24', '2016-03-05 14:06:25', '2016-03-05 14:06:26', '2016-03-05 14:06:27', '2016-03-05 14:06:28', '2016-03-05 14:06:29', '2016-03-05 14:06:30', '2016-03-05 14:06:40', '2016-03-05 14:06:47', '2016-03-05 14:06:48', '2016-03-05 14:06:50', '2016-03-05 14:07:00', '2016-03-05 14:07:01', '2016-03-05 14:07:02', '2016-03-05 14:07:03', '2016-03-05 14:07:04', '2016-03-05 14:07:05', '2016-03-05 14:07:06', '2016-03-05 14:07:07', '2016-03-05 14:07:08', '2016-03-05 14:07:09', '2016-03-05 14:07:20', '2016-03-05 14:07:21', '2016-03-05 14:07:25', '2016-03-05 14:07:26', '2016-03-05 14:07:27', '2016-03-05 14:07:28', '2016-03-05 14:07:29', '2016-03-05 14:07:30', '2016-03-05 14:07:39', '2016-03-05 14:07:40', '2016-03-05 14:07:41', '2016-03-05 14:07:43', '2016-03-05 14:07:44', '2016-03-05 14:07:45', '2016-03-05 14:07:46', '2016-03-05 14:07:47', '2016-03-05 14:07:48', '2016-03-05 14:07:59', '2016-03-05 14:08:00', '2016-03-05 14:08:01', '2016-03-05 14:08:04', '2016-03-05 14:08:05', '2016-03-05 14:08:06', '2016-03-05 14:08:07', '2016-03-05 14:08:08', '2016-03-05 14:08:18', '2016-03-05 14:08:19']\n",
      "Число уникальных в date_crawled: 271174\n",
      "\n",
      "Уникальные значения в столбце price (максимум 50): ['0', '1', '10', '100', '1000', '10000', '10001', '10009', '1001', '1003', '10050', '10080', '10089', '1009', '10090', '10099', '101', '1010', '10100', '10111', '10150', '10175', '10180', '10190', '10198', '10199', '1020', '10200', '10220', '10222', '10230', '10240', '10249', '1025', '10250', '1026', '10260', '10280', '10288', '10290', '10295', '10299', '1030', '10300', '1031', '10310', '10317', '10328', '1033', '10333']\n",
      "Число уникальных в price: 3731\n",
      "\n",
      "Уникальные значения в столбце vehicle_type (максимум 50): ['bus', 'convertible', 'coupe', 'nan', 'other', 'sedan', 'small', 'suv', 'wagon']\n",
      "Число уникальных в vehicle_type: 8\n",
      "\n",
      "Уникальные значения в столбце registration_year (максимум 50): ['1000', '1001', '1039', '1111', '1200', '1234', '1253', '1255', '1300', '1400', '1500', '1600', '1602', '1688', '1800', '1910', '1915', '1919', '1920', '1923', '1925', '1927', '1928', '1929', '1930', '1931', '1932', '1933', '1934', '1935', '1936', '1937', '1938', '1940', '1941', '1942', '1943', '1944', '1945', '1946', '1947', '1948', '1949', '1950', '1951', '1952', '1953', '1954', '1955', '1956']\n",
      "Число уникальных в registration_year: 151\n",
      "\n",
      "Уникальные значения в столбце gearbox (максимум 50): ['auto', 'manual', 'nan']\n",
      "Число уникальных в gearbox: 2\n",
      "\n",
      "Уникальные значения в столбце power (максимум 50): ['0', '1', '10', '100', '1000', '10000', '1001', '1002', '1003', '1004', '1005', '101', '1011', '10110', '1012', '1016', '1017', '102', '1021', '10218', '1024', '103', '10311', '10317', '104', '105', '10520', '10522', '1054', '1055', '1056', '106', '1062', '107', '10710', '1079', '108', '1082', '109', '1090', '10910', '10912', '11', '110', '1100', '11011', '1102', '11025', '1103', '1105']\n",
      "Число уникальных в power: 712\n",
      "\n",
      "Уникальные значения в столбце model (максимум 50): ['', '100', '145', '147', '156', '159', '1_reihe', '1er', '200', '2_reihe', '300c', '3_reihe', '3er', '4_reihe', '500', '5_reihe', '5er', '601', '6_reihe', '6er', '7er', '80', '850', '90', '900', '9000', '911', 'a1', 'a2', 'a3', 'a4', 'a5', 'a6', 'a8', 'a_klasse', 'accord', 'agila', 'alhambra', 'almera', 'altea', 'amarok', 'antara', 'arosa', 'astra', 'auris', 'avensis', 'aveo', 'aygo', 'b_klasse', 'b_max']\n",
      "Число уникальных в model: 251\n",
      "\n",
      "Уникальные значения в столбце kilometer (максимум 50): ['10000', '100000', '125000', '150000', '20000', '30000', '40000', '5000', '50000', '60000', '70000', '80000', '90000']\n",
      "Число уникальных в kilometer: 13\n",
      "\n",
      "Уникальные значения в столбце registration_month (максимум 50): ['0', '1', '10', '11', '12', '2', '3', '4', '5', '6', '7', '8', '9']\n",
      "Число уникальных в registration_month: 13\n",
      "\n",
      "Уникальные значения в столбце fuel_type (максимум 50): ['cng', 'electric', 'gasoline', 'hybrid', 'lpg', 'nan', 'other', 'petrol']\n",
      "Число уникальных в fuel_type: 7\n",
      "\n",
      "Уникальные значения в столбце brand (максимум 50): ['alfa_romeo', 'audi', 'bmw', 'chevrolet', 'chrysler', 'citroen', 'dacia', 'daewoo', 'daihatsu', 'fiat', 'ford', 'honda', 'hyundai', 'jaguar', 'jeep', 'kia', 'lada', 'lancia', 'land_rover', 'mazda', 'mercedes_benz', 'mini', 'mitsubishi', 'nissan', 'opel', 'peugeot', 'porsche', 'renault', 'rover', 'saab', 'seat', 'skoda', 'smart', 'sonstige_autos', 'subaru', 'suzuki', 'toyota', 'trabant', 'volkswagen', 'volvo']\n",
      "Число уникальных в brand: 40\n",
      "\n",
      "Уникальные значения в столбце repaired (максимум 50): ['nan', 'no', 'yes']\n",
      "Число уникальных в repaired: 2\n",
      "\n",
      "Уникальные значения в столбце date_created (максимум 50): ['2014-03-10 00:00:00', '2015-03-20 00:00:00', '2015-06-18 00:00:00', '2015-08-07 00:00:00', '2015-08-10 00:00:00', '2015-09-04 00:00:00', '2015-09-09 00:00:00', '2015-11-02 00:00:00', '2015-11-08 00:00:00', '2015-11-10 00:00:00', '2015-11-12 00:00:00', '2015-11-17 00:00:00', '2015-11-23 00:00:00', '2015-11-24 00:00:00', '2015-12-05 00:00:00', '2015-12-06 00:00:00', '2015-12-17 00:00:00', '2015-12-27 00:00:00', '2015-12-30 00:00:00', '2016-01-02 00:00:00', '2016-01-03 00:00:00', '2016-01-06 00:00:00', '2016-01-07 00:00:00', '2016-01-08 00:00:00', '2016-01-10 00:00:00', '2016-01-13 00:00:00', '2016-01-15 00:00:00', '2016-01-16 00:00:00', '2016-01-17 00:00:00', '2016-01-18 00:00:00', '2016-01-19 00:00:00', '2016-01-20 00:00:00', '2016-01-22 00:00:00', '2016-01-23 00:00:00', '2016-01-24 00:00:00', '2016-01-25 00:00:00', '2016-01-26 00:00:00', '2016-01-27 00:00:00', '2016-01-28 00:00:00', '2016-01-29 00:00:00', '2016-01-30 00:00:00', '2016-01-31 00:00:00', '2016-02-01 00:00:00', '2016-02-02 00:00:00', '2016-02-03 00:00:00', '2016-02-04 00:00:00', '2016-02-05 00:00:00', '2016-02-06 00:00:00', '2016-02-07 00:00:00', '2016-02-08 00:00:00']\n",
      "Число уникальных в date_created: 109\n",
      "\n",
      "Уникальные значения в столбце number_of_pictures (максимум 50): ['0']\n",
      "Число уникальных в number_of_pictures: 1\n",
      "\n",
      "Уникальные значения в столбце postal_code (максимум 50): ['10115', '10117', '10119', '10178', '10179', '10243', '10245', '10247', '10249', '10315', '10317', '10318', '10319', '10365', '10367', '10369', '10405', '10407', '10409', '10435', '10437', '10439', '10551', '10553', '10555', '10557', '10559', '10585', '10587', '10589', '10623', '10625', '10627', '10629', '1067', '1068', '1069', '10707', '10709', '10711', '10713', '10715', '10717', '10719', '10777', '10779', '10781', '10783', '10785', '10787']\n",
      "Число уникальных в postal_code: 8143\n",
      "\n",
      "Уникальные значения в столбце last_seen (максимум 50): ['2016-03-05 14:15:08', '2016-03-05 14:15:16', '2016-03-05 14:15:39', '2016-03-05 14:18:30', '2016-03-05 14:25:59', '2016-03-05 14:35:28', '2016-03-05 14:44:11', '2016-03-05 14:44:41', '2016-03-05 14:45:04', '2016-03-05 14:45:26', '2016-03-05 14:45:30', '2016-03-05 14:45:37', '2016-03-05 14:45:46', '2016-03-05 14:45:59', '2016-03-05 14:46:02', '2016-03-05 14:46:10', '2016-03-05 14:46:36', '2016-03-05 14:46:54', '2016-03-05 14:47:11', '2016-03-05 14:49:34', '2016-03-05 14:51:28', '2016-03-05 14:52:08', '2016-03-05 14:55:01', '2016-03-05 15:13:03', '2016-03-05 15:15:38', '2016-03-05 15:16:11', '2016-03-05 15:16:37', '2016-03-05 15:16:44', '2016-03-05 15:16:45', '2016-03-05 15:16:47', '2016-03-05 15:17:00', '2016-03-05 15:17:16', '2016-03-05 15:17:30', '2016-03-05 15:17:56', '2016-03-05 15:18:00', '2016-03-05 15:28:10', '2016-03-05 15:29:21', '2016-03-05 15:38:31', '2016-03-05 15:41:30', '2016-03-05 15:42:32', '2016-03-05 15:42:35', '2016-03-05 15:43:27', '2016-03-05 15:44:36', '2016-03-05 15:45:43', '2016-03-05 15:45:50', '2016-03-05 15:45:53', '2016-03-05 15:46:00', '2016-03-05 15:46:02', '2016-03-05 15:46:46', '2016-03-05 15:46:53']\n",
      "Число уникальных в last_seen: 179150\n",
      "\n",
      "Уникальные значения в столбце brand_model (максимум 50): ['alfa_romeo', 'alfa_romeo 145', 'alfa_romeo 147', 'alfa_romeo 156', 'alfa_romeo 159', 'alfa_romeo other', 'alfa_romeo spider', 'audi', 'audi 100', 'audi 200', 'audi 80', 'audi 90', 'audi a1', 'audi a2', 'audi a3', 'audi a4', 'audi a5', 'audi a6', 'audi a8', 'audi other', 'audi q3', 'audi q5', 'audi q7', 'audi tt', 'bmw', 'bmw 1er', 'bmw 3er', 'bmw 5er', 'bmw 6er', 'bmw 7er', 'bmw i3', 'bmw m_reihe', 'bmw other', 'bmw x_reihe', 'bmw z_reihe', 'chevrolet', 'chevrolet aveo', 'chevrolet captiva', 'chevrolet matiz', 'chevrolet other', 'chevrolet spark', 'chrysler', 'chrysler 300c', 'chrysler crossfire', 'chrysler grand', 'chrysler other', 'chrysler ptcruiser', 'chrysler voyager', 'citroen', 'citroen berlingo']\n",
      "Число уникальных в brand_model: 337\n",
      "\n"
     ]
    }
   ],
   "source": [
    "# познакомимся с уникальными значениями столбцов и их количеством\n",
    "\n",
    "for col in autos.columns:\n",
    "    print(f'Уникальные значения в столбце {col} (максимум 50): {sorted(autos[col].astype(str).unique())[:50]}')\n",
    "    print(f'Число уникальных в {col}: {autos[col].nunique()}')\n",
    "    print()"
   ]
  },
  {
   "cell_type": "code",
   "execution_count": 7,
   "metadata": {
    "scrolled": false
   },
   "outputs": [
    {
     "data": {
      "text/html": [
       "<div>\n",
       "<style scoped>\n",
       "    .dataframe tbody tr th:only-of-type {\n",
       "        vertical-align: middle;\n",
       "    }\n",
       "\n",
       "    .dataframe tbody tr th {\n",
       "        vertical-align: top;\n",
       "    }\n",
       "\n",
       "    .dataframe thead th {\n",
       "        text-align: right;\n",
       "    }\n",
       "</style>\n",
       "<table border=\"1\" class=\"dataframe\">\n",
       "  <thead>\n",
       "    <tr style=\"text-align: right;\">\n",
       "      <th></th>\n",
       "      <th>price</th>\n",
       "      <th>registration_year</th>\n",
       "      <th>power</th>\n",
       "      <th>kilometer</th>\n",
       "      <th>registration_month</th>\n",
       "      <th>number_of_pictures</th>\n",
       "      <th>postal_code</th>\n",
       "    </tr>\n",
       "  </thead>\n",
       "  <tbody>\n",
       "    <tr>\n",
       "      <th>count</th>\n",
       "      <td>354369.000000</td>\n",
       "      <td>354369.000000</td>\n",
       "      <td>354369.000000</td>\n",
       "      <td>354369.000000</td>\n",
       "      <td>354369.000000</td>\n",
       "      <td>354369.0</td>\n",
       "      <td>354369.000000</td>\n",
       "    </tr>\n",
       "    <tr>\n",
       "      <th>mean</th>\n",
       "      <td>4416.656776</td>\n",
       "      <td>2004.234448</td>\n",
       "      <td>110.094337</td>\n",
       "      <td>128211.172535</td>\n",
       "      <td>5.714645</td>\n",
       "      <td>0.0</td>\n",
       "      <td>50508.689087</td>\n",
       "    </tr>\n",
       "    <tr>\n",
       "      <th>std</th>\n",
       "      <td>4514.158514</td>\n",
       "      <td>90.227958</td>\n",
       "      <td>189.850405</td>\n",
       "      <td>37905.341530</td>\n",
       "      <td>3.726421</td>\n",
       "      <td>0.0</td>\n",
       "      <td>25783.096248</td>\n",
       "    </tr>\n",
       "    <tr>\n",
       "      <th>min</th>\n",
       "      <td>0.000000</td>\n",
       "      <td>1000.000000</td>\n",
       "      <td>0.000000</td>\n",
       "      <td>5000.000000</td>\n",
       "      <td>0.000000</td>\n",
       "      <td>0.0</td>\n",
       "      <td>1067.000000</td>\n",
       "    </tr>\n",
       "    <tr>\n",
       "      <th>25%</th>\n",
       "      <td>1050.000000</td>\n",
       "      <td>1999.000000</td>\n",
       "      <td>69.000000</td>\n",
       "      <td>125000.000000</td>\n",
       "      <td>3.000000</td>\n",
       "      <td>0.0</td>\n",
       "      <td>30165.000000</td>\n",
       "    </tr>\n",
       "    <tr>\n",
       "      <th>50%</th>\n",
       "      <td>2700.000000</td>\n",
       "      <td>2003.000000</td>\n",
       "      <td>105.000000</td>\n",
       "      <td>150000.000000</td>\n",
       "      <td>6.000000</td>\n",
       "      <td>0.0</td>\n",
       "      <td>49413.000000</td>\n",
       "    </tr>\n",
       "    <tr>\n",
       "      <th>75%</th>\n",
       "      <td>6400.000000</td>\n",
       "      <td>2008.000000</td>\n",
       "      <td>143.000000</td>\n",
       "      <td>150000.000000</td>\n",
       "      <td>9.000000</td>\n",
       "      <td>0.0</td>\n",
       "      <td>71083.000000</td>\n",
       "    </tr>\n",
       "    <tr>\n",
       "      <th>max</th>\n",
       "      <td>20000.000000</td>\n",
       "      <td>9999.000000</td>\n",
       "      <td>20000.000000</td>\n",
       "      <td>150000.000000</td>\n",
       "      <td>12.000000</td>\n",
       "      <td>0.0</td>\n",
       "      <td>99998.000000</td>\n",
       "    </tr>\n",
       "  </tbody>\n",
       "</table>\n",
       "</div>"
      ],
      "text/plain": [
       "               price  registration_year          power      kilometer  \\\n",
       "count  354369.000000      354369.000000  354369.000000  354369.000000   \n",
       "mean     4416.656776        2004.234448     110.094337  128211.172535   \n",
       "std      4514.158514          90.227958     189.850405   37905.341530   \n",
       "min         0.000000        1000.000000       0.000000    5000.000000   \n",
       "25%      1050.000000        1999.000000      69.000000  125000.000000   \n",
       "50%      2700.000000        2003.000000     105.000000  150000.000000   \n",
       "75%      6400.000000        2008.000000     143.000000  150000.000000   \n",
       "max     20000.000000        9999.000000   20000.000000  150000.000000   \n",
       "\n",
       "       registration_month  number_of_pictures    postal_code  \n",
       "count       354369.000000            354369.0  354369.000000  \n",
       "mean             5.714645                 0.0   50508.689087  \n",
       "std              3.726421                 0.0   25783.096248  \n",
       "min              0.000000                 0.0    1067.000000  \n",
       "25%              3.000000                 0.0   30165.000000  \n",
       "50%              6.000000                 0.0   49413.000000  \n",
       "75%              9.000000                 0.0   71083.000000  \n",
       "max             12.000000                 0.0   99998.000000  "
      ]
     },
     "execution_count": 7,
     "metadata": {},
     "output_type": "execute_result"
    }
   ],
   "source": [
    "# минимальные и максимальные значения числовых колонок\n",
    "autos.describe()"
   ]
  },
  {
   "cell_type": "markdown",
   "metadata": {},
   "source": [
    "*Пропуски в категориальных колонках 'vehicle_type', 'gearbox', 'fuel_type' можно заполнить самой частой соответствующей категорией (модой) в автомобиле такой же марки-модели.*\n",
    "\n",
    "*Пропуски в категориальной колонке 'repaired' можно заполнить как \"no_info\" с учётом того, что есть 'yes', 'no' и отсутствие каких-либо закономерностей с характеристиками авто.* "
   ]
  },
  {
   "cell_type": "markdown",
   "metadata": {},
   "source": [
    "<div class=\"alert alert-success\">\n",
    "<h2> Комментарий ревьюера <a class=\"tocSkip\"> </h2>\n",
    "\n",
    "<b>Все отлично!👍:</b> \n",
    "\n",
    "Отлично, что объясняешь принятые меры - так самому можно не забыть, почему выбрал тот или иной путь и объяснять другому человеку намного проще :)"
   ]
  },
  {
   "cell_type": "code",
   "execution_count": 8,
   "metadata": {
    "scrolled": false
   },
   "outputs": [
    {
     "name": "stdout",
     "output_type": "stream",
     "text": [
      "<class 'pandas.core.frame.DataFrame'>\n",
      "RangeIndex: 354369 entries, 0 to 354368\n",
      "Data columns (total 17 columns):\n",
      " #   Column              Non-Null Count   Dtype \n",
      "---  ------              --------------   ----- \n",
      " 0   date_crawled        354369 non-null  object\n",
      " 1   price               354369 non-null  int64 \n",
      " 2   vehicle_type        354369 non-null  object\n",
      " 3   registration_year   354369 non-null  int64 \n",
      " 4   gearbox             354369 non-null  object\n",
      " 5   power               354369 non-null  int64 \n",
      " 6   model               354369 non-null  object\n",
      " 7   kilometer           354369 non-null  int64 \n",
      " 8   registration_month  354369 non-null  int64 \n",
      " 9   fuel_type           354369 non-null  object\n",
      " 10  brand               354369 non-null  object\n",
      " 11  repaired            354369 non-null  object\n",
      " 12  date_created        354369 non-null  object\n",
      " 13  number_of_pictures  354369 non-null  int64 \n",
      " 14  postal_code         354369 non-null  int64 \n",
      " 15  last_seen           354369 non-null  object\n",
      " 16  brand_model         354369 non-null  object\n",
      "dtypes: int64(7), object(10)\n",
      "memory usage: 46.0+ MB\n"
     ]
    }
   ],
   "source": [
    "# заполнение пропусков категориальных столбцов 'vehicle_type', 'gearbox', 'fuel_type'\n",
    "\n",
    "for col in ['vehicle_type', 'gearbox', 'fuel_type']:\n",
    "\n",
    "    autos[col] = autos[col].fillna(\n",
    "        autos.groupby('brand_model')[col].transform(lambda x: x.mode()[0]))\n",
    "\n",
    "# заполнение пропусков категориального столбца 'repaired'\n",
    "\n",
    "autos['repaired'] = autos['repaired'].fillna('no_info')\n",
    "autos.info()"
   ]
  },
  {
   "cell_type": "markdown",
   "metadata": {},
   "source": [
    "<div class=\"alert alert-success\">\n",
    "<h2> Комментарий ревьюера <a class=\"tocSkip\"> </h2>\n",
    "\n",
    "<b>Все отлично!👍:</b> \n",
    "\n",
    "Супер, что не просто удаляешь данные, а заполняешь - мы не можем удалять просто так слишком много данных от первоначального набора просто из-за отсутствия данных. Лучше сохранять 80 - 90% изначальных данных.\n",
    "        \n",
    "        \n",
    "Если у нас есть пропуски или аномалии в данных для обучения, то, скорее всего, будут пропуски и аномалии и в реальных данных. Если мы просто удалим эти данные то тут возникнет две проблемы минимум:\n",
    "    \n",
    "1. Мы подаем данные с большей информацией, следовательно метрики относительно прода будут завышены, так как в тех данных будут пропуски и модель, скорее всего, будет работать с ними хуже\n",
    "2. Модель в принципе не видела данных с пропусками или аномалий, поэтому либо процент ситуаций, где она не сработает будет выше, либо метрики на этих данных будут ниже.\n",
    "    \n",
    "Как минимум два фактора, которые влияют на объективную оценку нашего алгоритма для реального мира."
   ]
  },
  {
   "cell_type": "markdown",
   "metadata": {},
   "source": [
    "*Удалим нижние выбросы в целевом признаке - ценах, примем нереальными цены менее 100*"
   ]
  },
  {
   "cell_type": "code",
   "execution_count": 9,
   "metadata": {
    "scrolled": true
   },
   "outputs": [
    {
     "data": {
      "image/png": "[encoded data removed]",
      "text/plain": [
       "<Figure size 864x432 with 1 Axes>"
      ]
     },
     "metadata": {},
     "output_type": "display_data"
    }
   ],
   "source": [
    "# удаление аномально низких цен\n",
    "autos = autos.drop(autos[autos['price'] < 100].index)\n",
    "\n",
    "# диаграмма распределения цен автомобилей после обработки\n",
    "fig, ax = plt.subplots(figsize=(12,6))\n",
    "\n",
    "ax.boxplot(autos['price'])\n",
    "\n",
    "ax.set_xticklabels(['цена'])\n",
    "ax.set_ylabel('цена в евро')\n",
    "ax.grid(axis='y', linewidth=0.3, linestyle='--')\n",
    "ax.set_title('Диаграмма распределения цен автомобилей', fontsize=15)\n",
    "fig.set_facecolor('oldlace')\n",
    "\n",
    "plt.show()"
   ]
  },
  {
   "cell_type": "markdown",
   "metadata": {},
   "source": [
    "<div class=\"alert alert-success\">\n",
    "<h2> Комментарий ревьюера <a class=\"tocSkip\"> </h2>\n",
    "\n",
    "<b>Все отлично!👍:</b> \n",
    "\n",
    "Хорошо. Пользователи вряд ли обрадуются, если их автомобилю покажут цену 0"
   ]
  },
  {
   "cell_type": "markdown",
   "metadata": {},
   "source": [
    "*Удалим неправдоподобные года регистрации авто - как прошедшие, так и будущие. По нижней границе - автомобили с годом регистрации ранее 1920 (вероятно, таких ходовых авто - едеиничные экземпляры), по верхней границе - по максимальному году создания анкеты.*"
   ]
  },
  {
   "cell_type": "code",
   "execution_count": 10,
   "metadata": {},
   "outputs": [
    {
     "name": "stdout",
     "output_type": "stream",
     "text": [
      "2016-04-07 00:00:00\n"
     ]
    }
   ],
   "source": [
    "# перевод в формат date-time столбца даты создания анкеты, вывод максимального значения\n",
    "autos['date_created'] = pd.to_datetime(autos['date_created'], format='%Y-%m-%d %H:%M:%S')\n",
    "print(autos['date_created'].max())"
   ]
  },
  {
   "cell_type": "code",
   "execution_count": 11,
   "metadata": {
    "scrolled": false
   },
   "outputs": [
    {
     "data": {
      "image/png": "[encoded data removed]",
      "text/plain": [
       "<Figure size 864x432 with 1 Axes>"
      ]
     },
     "metadata": {},
     "output_type": "display_data"
    }
   ],
   "source": [
    "# удаление странных годов регистрации авто\n",
    "\n",
    "autos = autos.drop(autos[(autos['registration_year'] < 1920) | \n",
    "                         (autos['registration_year'] > autos['date_created'].dt.year.max())].index)\n",
    "\n",
    "# диаграмма распределения годов регистрации автомобилей после обработки\n",
    "fig, ax = plt.subplots(figsize=(12,6))\n",
    "\n",
    "ax.boxplot(autos['registration_year'])\n",
    "\n",
    "ax.set_xticklabels(['год выпуска'])\n",
    "ax.set_ylabel('год')\n",
    "ax.grid(axis='y', linewidth=0.3, linestyle='--')\n",
    "ax.set_title('Диаграмма распределения года выпуска автомобилей', fontsize=15)\n",
    "fig.set_facecolor('oldlace')\n",
    "\n",
    "plt.show()"
   ]
  },
  {
   "cell_type": "code",
   "execution_count": 12,
   "metadata": {},
   "outputs": [
    {
     "data": {
      "text/plain": [
       "2016"
      ]
     },
     "execution_count": 12,
     "metadata": {},
     "output_type": "execute_result"
    }
   ],
   "source": [
    "# проверка максимального года регистрации\n",
    "autos['registration_year'].max()"
   ]
  },
  {
   "cell_type": "markdown",
   "metadata": {},
   "source": [
    "<div class=\"alert alert-block alert-danger\">\n",
    "<h2> Комментарий ревьюера <a class=\"tocSkip\"></h2>\n",
    "\n",
    "\n",
    "<b>На доработку🤔:</b>\n",
    "\n",
    "Стоит посмотреть на дату сбора данных, чтобы изменить верхнюю границ\n",
    "    у"
   ]
  },
  {
   "cell_type": "markdown",
   "metadata": {},
   "source": [
    "<div class=\"alert alert-info\"> <b>Комментарий студента:</b> Да, логично, что год регистрации не должен быть более года создания объявления. Так как таких значений довольно много, то все несуразные данные с годами типа 9999 удалил, как сделал и раньше. Но заменил года типа 2017 и 2018 на год создания объявления. Скорее всего, какая-то техническая погрешность, и удалять такие данные не совсем корректно.</div>"
   ]
  },
  {
   "cell_type": "markdown",
   "metadata": {},
   "source": [
    "<div class=\"alert alert-block alert-danger\">\n",
    "<h2> Комментарий ревьюера 2 итерация <a class=\"tocSkip\"></h2>\n",
    "\n",
    "\n",
    "<b>На доработку🤔:</b>\n",
    "\n",
    "Отличная идея с заменой года регистрации на создание, но у нас и тут, и там может быть ошибка. Ещё стоит верхнюю границу сделать 2016 годом, так как у нас все данные были получены тогда и довольно странно, что год регистраици даже 2020 есть, который вроде как недалеко от нас"
   ]
  },
  {
   "cell_type": "markdown",
   "metadata": {},
   "source": [
    "<div class=\"alert alert-info\"> <b>Комментарий студента - 2:</b> Про ошибку в данных да, я не продумал. Верхняя граница установлена в 2016 год, это максимальный год регистрации авто.</div>"
   ]
  },
  {
   "cell_type": "markdown",
   "metadata": {},
   "source": [
    "*Довольно-таки значительное число авто с неправдоподобной (странной) мощностью. Имеет смысл заменить эти странные значения на среднюю мощность по конкретному автомобилю.* "
   ]
  },
  {
   "cell_type": "code",
   "execution_count": 13,
   "metadata": {},
   "outputs": [
    {
     "data": {
      "image/png": "[encoded data removed]",
      "text/plain": [
       "<Figure size 864x432 with 1 Axes>"
      ]
     },
     "metadata": {},
     "output_type": "display_data"
    }
   ],
   "source": [
    "# замена странных мощностей на пустые значения\n",
    "autos.loc[(autos['power'] > 700) | (autos['power'] < 20), 'power'] = np.nan\n",
    "\n",
    "# заполнение пустых значений по средней мощности конкретного автомобиля\n",
    "autos['power'] = autos['power'].fillna(autos.groupby('brand_model')['power'].transform('mean'))\n",
    "autos = autos.dropna(subset = ['power']) # удаление строки, где не удалось заполнить пропуск\n",
    "autos['power'] = autos['power'].round(0)\n",
    "autos['power'] = autos['power'].astype(int)\n",
    "\n",
    "# диаграмма распределения мощностей автомобилей после обработки\n",
    "fig, ax = plt.subplots(figsize=(12,6))\n",
    "\n",
    "ax.boxplot(autos['power'])\n",
    "\n",
    "ax.set_xticklabels(['мощность'])\n",
    "ax.set_ylabel('л.с.')\n",
    "ax.grid(axis='y', linewidth=0.3, linestyle='--')\n",
    "ax.set_title('Диаграмма распределения мощности автомобилей', fontsize=15)\n",
    "fig.set_facecolor('oldlace')\n",
    "\n",
    "plt.show()"
   ]
  },
  {
   "cell_type": "markdown",
   "metadata": {},
   "source": [
    "<div class=\"alert alert-success\">\n",
    "<h2> Комментарий ревьюера <a class=\"tocSkip\"> </h2>\n",
    "\n",
    "<b>Все отлично!👍:</b> \n",
    "\n",
    "Супер, что смотришь на каждый столбец данных и не просто удаляешь странности, а заменяешь их хотя бы на средние и моды"
   ]
  },
  {
   "cell_type": "code",
   "execution_count": 14,
   "metadata": {
    "scrolled": false
   },
   "outputs": [
    {
     "data": {
      "image/png": "[encoded data removed]",
      "text/plain": [
       "<Figure size 864x432 with 1 Axes>"
      ]
     },
     "metadata": {},
     "output_type": "display_data"
    }
   ],
   "source": [
    "# диаграмма распределения пробегов автомобилей \n",
    "# отсутствие странных значений\n",
    "\n",
    "fig, ax = plt.subplots(figsize=(12,6))\n",
    "\n",
    "ax.boxplot(autos['kilometer'])\n",
    "\n",
    "ax.set_xticklabels(['пробег'])\n",
    "ax.set_ylabel('км')\n",
    "ax.grid(axis='y', linewidth=0.3, linestyle='--')\n",
    "ax.set_title('Диаграмма распределения пробегов автомобилей', fontsize=15)\n",
    "fig.set_facecolor('oldlace')\n",
    "\n",
    "plt.show()"
   ]
  },
  {
   "cell_type": "markdown",
   "metadata": {},
   "source": [
    "*Нулевой месяц в регистрации автомобилей целесообразно заменить рандомным месяцем из существующего массива данных. Тем самым не нарушится структура распределения данных.*"
   ]
  },
  {
   "cell_type": "code",
   "execution_count": 15,
   "metadata": {},
   "outputs": [
    {
     "data": {
      "text/plain": [
       "3     32568\n",
       "6     29654\n",
       "0     28215\n",
       "4     27544\n",
       "5     27430\n",
       "7     25693\n",
       "10    24734\n",
       "11    22923\n",
       "12    22826\n",
       "9     22589\n",
       "1     21781\n",
       "8     21286\n",
       "2     20047\n",
       "Name: registration_month, dtype: int64"
      ]
     },
     "execution_count": 15,
     "metadata": {},
     "output_type": "execute_result"
    }
   ],
   "source": [
    "# количество значений каждого месяца до заполнения пропусков\n",
    "autos['registration_month'].value_counts()"
   ]
  },
  {
   "cell_type": "code",
   "execution_count": 16,
   "metadata": {},
   "outputs": [
    {
     "data": {
      "text/plain": [
       "3     35645\n",
       "6     32445\n",
       "4     30185\n",
       "5     30005\n",
       "7     28143\n",
       "10    27141\n",
       "12    24977\n",
       "11    24974\n",
       "9     24751\n",
       "1     23832\n",
       "8     23324\n",
       "2     21868\n",
       "Name: registration_month, dtype: int64"
      ]
     },
     "execution_count": 16,
     "metadata": {},
     "output_type": "execute_result"
    }
   ],
   "source": [
    "# генерация одних и тех же случайных чисел\n",
    "random.seed(12345)\n",
    "\n",
    "# выберем случайным образом 31513 значений из столбца registration_month и запишем их в список\n",
    "months_to_fill = random.choices(list(autos.loc[autos['registration_month'] != 0, 'registration_month']), \n",
    "                                k=len(autos[autos['registration_month'] == 0]))\n",
    "\n",
    "# заменяем нули в столбце registration_month списком случайных значений\n",
    "autos.loc[autos['registration_month'] == 0, 'registration_month'] = months_to_fill\n",
    "\n",
    "# количество значений каждого месяца после заполнения пропусков\n",
    "autos['registration_month'].value_counts()"
   ]
  },
  {
   "cell_type": "code",
   "execution_count": 17,
   "metadata": {},
   "outputs": [],
   "source": [
    "# удаление малоинформативного столбца с одним уникальным значением\n",
    "autos = autos.drop(['number_of_pictures'], axis=1)"
   ]
  },
  {
   "cell_type": "markdown",
   "metadata": {},
   "source": [
    "<div class=\"alert alert-success\">\n",
    "<h2> Комментарий ревьюера <a class=\"tocSkip\"> </h2>\n",
    "\n",
    "<b>Все отлично!👍:</b> \n",
    "\n",
    "Все верно, дополнительные признаки, которые не несут информации нам не нужны\n",
    "    "
   ]
  },
  {
   "cell_type": "code",
   "execution_count": 18,
   "metadata": {},
   "outputs": [
    {
     "data": {
      "image/png": "[encoded data removed]",
      "text/plain": [
       "<Figure size 864x432 with 1 Axes>"
      ]
     },
     "metadata": {},
     "output_type": "display_data"
    }
   ],
   "source": [
    "# диаграмма распределения индексов регистрации автомобилей \n",
    "# отсутствие странных значений, 4 и 5-значные индексы\n",
    "\n",
    "fig, ax = plt.subplots(figsize=(12,6))\n",
    "\n",
    "ax.boxplot(autos['postal_code'])\n",
    "\n",
    "ax.set_xticklabels(['почтовый индекс'])\n",
    "ax.set_ylabel('индекс')\n",
    "ax.grid(axis='y', linewidth=0.3, linestyle='--')\n",
    "ax.set_title('Диаграмма распределения почтовых индексов у автомобилей', fontsize=15)\n",
    "fig.set_facecolor('oldlace')\n",
    "\n",
    "plt.show()"
   ]
  },
  {
   "cell_type": "code",
   "execution_count": 19,
   "metadata": {},
   "outputs": [
    {
     "data": {
      "text/html": [
       "<div>\n",
       "<style scoped>\n",
       "    .dataframe tbody tr th:only-of-type {\n",
       "        vertical-align: middle;\n",
       "    }\n",
       "\n",
       "    .dataframe tbody tr th {\n",
       "        vertical-align: top;\n",
       "    }\n",
       "\n",
       "    .dataframe thead th {\n",
       "        text-align: right;\n",
       "    }\n",
       "</style>\n",
       "<table border=\"1\" class=\"dataframe\">\n",
       "  <thead>\n",
       "    <tr style=\"text-align: right;\">\n",
       "      <th></th>\n",
       "      <th>date_crawled</th>\n",
       "      <th>price</th>\n",
       "      <th>vehicle_type</th>\n",
       "      <th>registration_year</th>\n",
       "      <th>gearbox</th>\n",
       "      <th>power</th>\n",
       "      <th>model</th>\n",
       "      <th>kilometer</th>\n",
       "      <th>registration_month</th>\n",
       "      <th>fuel_type</th>\n",
       "      <th>brand</th>\n",
       "      <th>repaired</th>\n",
       "      <th>date_created</th>\n",
       "      <th>postal_code</th>\n",
       "      <th>last_seen</th>\n",
       "      <th>brand_model</th>\n",
       "    </tr>\n",
       "  </thead>\n",
       "  <tbody>\n",
       "    <tr>\n",
       "      <th>14</th>\n",
       "      <td>2016-03-21 12:57:01</td>\n",
       "      <td>17999</td>\n",
       "      <td>suv</td>\n",
       "      <td>2011</td>\n",
       "      <td>manual</td>\n",
       "      <td>190</td>\n",
       "      <td>navara</td>\n",
       "      <td>70000</td>\n",
       "      <td>3</td>\n",
       "      <td>gasoline</td>\n",
       "      <td>nissan</td>\n",
       "      <td>no</td>\n",
       "      <td>2016-03-21</td>\n",
       "      <td>4177</td>\n",
       "      <td>2016-04-06 07:45:42</td>\n",
       "      <td>nissan navara</td>\n",
       "    </tr>\n",
       "    <tr>\n",
       "      <th>23</th>\n",
       "      <td>2016-03-12 19:43:07</td>\n",
       "      <td>450</td>\n",
       "      <td>small</td>\n",
       "      <td>1997</td>\n",
       "      <td>manual</td>\n",
       "      <td>50</td>\n",
       "      <td>arosa</td>\n",
       "      <td>150000</td>\n",
       "      <td>5</td>\n",
       "      <td>petrol</td>\n",
       "      <td>seat</td>\n",
       "      <td>no</td>\n",
       "      <td>2016-03-12</td>\n",
       "      <td>9526</td>\n",
       "      <td>2016-03-21 01:46:11</td>\n",
       "      <td>seat arosa</td>\n",
       "    </tr>\n",
       "    <tr>\n",
       "      <th>36</th>\n",
       "      <td>2016-03-11 11:50:37</td>\n",
       "      <td>1600</td>\n",
       "      <td>other</td>\n",
       "      <td>1991</td>\n",
       "      <td>manual</td>\n",
       "      <td>75</td>\n",
       "      <td>kadett</td>\n",
       "      <td>70000</td>\n",
       "      <td>2</td>\n",
       "      <td>petrol</td>\n",
       "      <td>opel</td>\n",
       "      <td>no_info</td>\n",
       "      <td>2016-03-11</td>\n",
       "      <td>2943</td>\n",
       "      <td>2016-04-07 03:46:09</td>\n",
       "      <td>opel kadett</td>\n",
       "    </tr>\n",
       "    <tr>\n",
       "      <th>63</th>\n",
       "      <td>2016-03-08 12:54:47</td>\n",
       "      <td>7000</td>\n",
       "      <td>sedan</td>\n",
       "      <td>2006</td>\n",
       "      <td>auto</td>\n",
       "      <td>105</td>\n",
       "      <td>jetta</td>\n",
       "      <td>100000</td>\n",
       "      <td>10</td>\n",
       "      <td>gasoline</td>\n",
       "      <td>volkswagen</td>\n",
       "      <td>no</td>\n",
       "      <td>2016-03-08</td>\n",
       "      <td>6242</td>\n",
       "      <td>2016-03-11 17:16:18</td>\n",
       "      <td>volkswagen jetta</td>\n",
       "    </tr>\n",
       "    <tr>\n",
       "      <th>64</th>\n",
       "      <td>2016-03-07 22:36:54</td>\n",
       "      <td>14999</td>\n",
       "      <td>convertible</td>\n",
       "      <td>2007</td>\n",
       "      <td>manual</td>\n",
       "      <td>218</td>\n",
       "      <td>3er</td>\n",
       "      <td>50000</td>\n",
       "      <td>8</td>\n",
       "      <td>petrol</td>\n",
       "      <td>bmw</td>\n",
       "      <td>no</td>\n",
       "      <td>2016-03-07</td>\n",
       "      <td>1129</td>\n",
       "      <td>2016-03-15 10:17:59</td>\n",
       "      <td>bmw 3er</td>\n",
       "    </tr>\n",
       "    <tr>\n",
       "      <th>...</th>\n",
       "      <td>...</td>\n",
       "      <td>...</td>\n",
       "      <td>...</td>\n",
       "      <td>...</td>\n",
       "      <td>...</td>\n",
       "      <td>...</td>\n",
       "      <td>...</td>\n",
       "      <td>...</td>\n",
       "      <td>...</td>\n",
       "      <td>...</td>\n",
       "      <td>...</td>\n",
       "      <td>...</td>\n",
       "      <td>...</td>\n",
       "      <td>...</td>\n",
       "      <td>...</td>\n",
       "      <td>...</td>\n",
       "    </tr>\n",
       "    <tr>\n",
       "      <th>354304</th>\n",
       "      <td>2016-03-05 16:44:46</td>\n",
       "      <td>850</td>\n",
       "      <td>sedan</td>\n",
       "      <td>1989</td>\n",
       "      <td>manual</td>\n",
       "      <td>113</td>\n",
       "      <td>80</td>\n",
       "      <td>150000</td>\n",
       "      <td>3</td>\n",
       "      <td>petrol</td>\n",
       "      <td>audi</td>\n",
       "      <td>yes</td>\n",
       "      <td>2016-03-05</td>\n",
       "      <td>9127</td>\n",
       "      <td>2016-03-16 05:17:34</td>\n",
       "      <td>audi 80</td>\n",
       "    </tr>\n",
       "    <tr>\n",
       "      <th>354311</th>\n",
       "      <td>2016-03-08 20:43:20</td>\n",
       "      <td>3000</td>\n",
       "      <td>sedan</td>\n",
       "      <td>2006</td>\n",
       "      <td>manual</td>\n",
       "      <td>105</td>\n",
       "      <td>golf</td>\n",
       "      <td>150000</td>\n",
       "      <td>6</td>\n",
       "      <td>gasoline</td>\n",
       "      <td>volkswagen</td>\n",
       "      <td>no</td>\n",
       "      <td>2016-03-08</td>\n",
       "      <td>1217</td>\n",
       "      <td>2016-03-08 20:43:20</td>\n",
       "      <td>volkswagen golf</td>\n",
       "    </tr>\n",
       "    <tr>\n",
       "      <th>354337</th>\n",
       "      <td>2016-03-26 14:38:18</td>\n",
       "      <td>11500</td>\n",
       "      <td>sedan</td>\n",
       "      <td>2004</td>\n",
       "      <td>auto</td>\n",
       "      <td>445</td>\n",
       "      <td>7er</td>\n",
       "      <td>125000</td>\n",
       "      <td>9</td>\n",
       "      <td>petrol</td>\n",
       "      <td>bmw</td>\n",
       "      <td>no_info</td>\n",
       "      <td>2016-03-26</td>\n",
       "      <td>4107</td>\n",
       "      <td>2016-04-06 20:45:16</td>\n",
       "      <td>bmw 7er</td>\n",
       "    </tr>\n",
       "    <tr>\n",
       "      <th>354348</th>\n",
       "      <td>2016-03-20 18:47:59</td>\n",
       "      <td>5900</td>\n",
       "      <td>sedan</td>\n",
       "      <td>2006</td>\n",
       "      <td>manual</td>\n",
       "      <td>105</td>\n",
       "      <td>golf</td>\n",
       "      <td>150000</td>\n",
       "      <td>9</td>\n",
       "      <td>gasoline</td>\n",
       "      <td>volkswagen</td>\n",
       "      <td>no</td>\n",
       "      <td>2016-03-20</td>\n",
       "      <td>1217</td>\n",
       "      <td>2016-04-07 02:44:27</td>\n",
       "      <td>volkswagen golf</td>\n",
       "    </tr>\n",
       "    <tr>\n",
       "      <th>354353</th>\n",
       "      <td>2016-03-31 18:50:37</td>\n",
       "      <td>1999</td>\n",
       "      <td>sedan</td>\n",
       "      <td>1997</td>\n",
       "      <td>manual</td>\n",
       "      <td>150</td>\n",
       "      <td>a3</td>\n",
       "      <td>150000</td>\n",
       "      <td>12</td>\n",
       "      <td>petrol</td>\n",
       "      <td>audi</td>\n",
       "      <td>no</td>\n",
       "      <td>2016-03-31</td>\n",
       "      <td>4275</td>\n",
       "      <td>2016-04-06 12:46:41</td>\n",
       "      <td>audi a3</td>\n",
       "    </tr>\n",
       "  </tbody>\n",
       "</table>\n",
       "<p>16245 rows × 16 columns</p>\n",
       "</div>"
      ],
      "text/plain": [
       "               date_crawled  price vehicle_type  registration_year gearbox  \\\n",
       "14      2016-03-21 12:57:01  17999          suv               2011  manual   \n",
       "23      2016-03-12 19:43:07    450        small               1997  manual   \n",
       "36      2016-03-11 11:50:37   1600        other               1991  manual   \n",
       "63      2016-03-08 12:54:47   7000        sedan               2006    auto   \n",
       "64      2016-03-07 22:36:54  14999  convertible               2007  manual   \n",
       "...                     ...    ...          ...                ...     ...   \n",
       "354304  2016-03-05 16:44:46    850        sedan               1989  manual   \n",
       "354311  2016-03-08 20:43:20   3000        sedan               2006  manual   \n",
       "354337  2016-03-26 14:38:18  11500        sedan               2004    auto   \n",
       "354348  2016-03-20 18:47:59   5900        sedan               2006  manual   \n",
       "354353  2016-03-31 18:50:37   1999        sedan               1997  manual   \n",
       "\n",
       "        power   model  kilometer  registration_month fuel_type       brand  \\\n",
       "14        190  navara      70000                   3  gasoline      nissan   \n",
       "23         50   arosa     150000                   5    petrol        seat   \n",
       "36         75  kadett      70000                   2    petrol        opel   \n",
       "63        105   jetta     100000                  10  gasoline  volkswagen   \n",
       "64        218     3er      50000                   8    petrol         bmw   \n",
       "...       ...     ...        ...                 ...       ...         ...   \n",
       "354304    113      80     150000                   3    petrol        audi   \n",
       "354311    105    golf     150000                   6  gasoline  volkswagen   \n",
       "354337    445     7er     125000                   9    petrol         bmw   \n",
       "354348    105    golf     150000                   9  gasoline  volkswagen   \n",
       "354353    150      a3     150000                  12    petrol        audi   \n",
       "\n",
       "       repaired date_created  postal_code            last_seen  \\\n",
       "14           no   2016-03-21         4177  2016-04-06 07:45:42   \n",
       "23           no   2016-03-12         9526  2016-03-21 01:46:11   \n",
       "36      no_info   2016-03-11         2943  2016-04-07 03:46:09   \n",
       "63           no   2016-03-08         6242  2016-03-11 17:16:18   \n",
       "64           no   2016-03-07         1129  2016-03-15 10:17:59   \n",
       "...         ...          ...          ...                  ...   \n",
       "354304      yes   2016-03-05         9127  2016-03-16 05:17:34   \n",
       "354311       no   2016-03-08         1217  2016-03-08 20:43:20   \n",
       "354337  no_info   2016-03-26         4107  2016-04-06 20:45:16   \n",
       "354348       no   2016-03-20         1217  2016-04-07 02:44:27   \n",
       "354353       no   2016-03-31         4275  2016-04-06 12:46:41   \n",
       "\n",
       "             brand_model  \n",
       "14         nissan navara  \n",
       "23            seat arosa  \n",
       "36           opel kadett  \n",
       "63      volkswagen jetta  \n",
       "64               bmw 3er  \n",
       "...                  ...  \n",
       "354304           audi 80  \n",
       "354311   volkswagen golf  \n",
       "354337           bmw 7er  \n",
       "354348   volkswagen golf  \n",
       "354353           audi a3  \n",
       "\n",
       "[16245 rows x 16 columns]"
      ]
     },
     "execution_count": 19,
     "metadata": {},
     "output_type": "execute_result"
    }
   ],
   "source": [
    "autos[autos['postal_code'] < 10000]"
   ]
  },
  {
   "cell_type": "code",
   "execution_count": 20,
   "metadata": {
    "scrolled": true
   },
   "outputs": [
    {
     "name": "stdout",
     "output_type": "stream",
     "text": [
      "<class 'pandas.core.frame.DataFrame'>\n",
      "Int64Index: 327290 entries, 0 to 354368\n",
      "Data columns (total 16 columns):\n",
      " #   Column              Non-Null Count   Dtype         \n",
      "---  ------              --------------   -----         \n",
      " 0   date_crawled        327290 non-null  datetime64[ns]\n",
      " 1   price               327290 non-null  int64         \n",
      " 2   vehicle_type        327290 non-null  object        \n",
      " 3   registration_year   327290 non-null  int64         \n",
      " 4   gearbox             327290 non-null  object        \n",
      " 5   power               327290 non-null  int64         \n",
      " 6   model               327290 non-null  object        \n",
      " 7   kilometer           327290 non-null  int64         \n",
      " 8   registration_month  327290 non-null  int64         \n",
      " 9   fuel_type           327290 non-null  object        \n",
      " 10  brand               327290 non-null  object        \n",
      " 11  repaired            327290 non-null  object        \n",
      " 12  date_created        327290 non-null  datetime64[ns]\n",
      " 13  postal_code         327290 non-null  int64         \n",
      " 14  last_seen           327290 non-null  datetime64[ns]\n",
      " 15  brand_model         327290 non-null  object        \n",
      "dtypes: datetime64[ns](3), int64(6), object(7)\n",
      "memory usage: 42.4+ MB\n"
     ]
    }
   ],
   "source": [
    "# преобразование соответствующих столбцов в формат дата-время\n",
    "autos['date_crawled'] = pd.to_datetime(autos['date_crawled'], format='%Y-%m-%d %H:%M:%S')\n",
    "autos['last_seen'] = pd.to_datetime(autos['last_seen'], format='%Y-%m-%d %H:%M:%S')\n",
    "autos.info()"
   ]
  },
  {
   "cell_type": "markdown",
   "metadata": {},
   "source": [
    "*Из колонок с датами можно узнать время, которое потребовалось, чтобы продать авто (подразумеваем, что дата последней активности пользователя - это, вероятней всего, дата продажи).*"
   ]
  },
  {
   "cell_type": "code",
   "execution_count": 21,
   "metadata": {
    "scrolled": true
   },
   "outputs": [
    {
     "data": {
      "text/plain": [
       "array([ 14,  22,   0,   6,   2,   4,  11,  17,  16,  13,   9,  19,   1,\n",
       "        27,  12,   8,   3,  18,  51,  21,  28,  15,  20,   5,  25,   7,\n",
       "        23,  24,  10,  32,  29,  26,  55,  30,  31,  33,  37,  41, 384,\n",
       "        35,  36,  48,  45,  40, 136,  42,  52,  63,  61,  34,  49, 122,\n",
       "        53,  47,  60,  38,  39,  50,  44,  46,  59,  88,  43, 141, 759,\n",
       "        74,  58,  94, 193, 146,  91,  54, 133,  56,  62, 108, 244,  68,\n",
       "        65,  96, 135,  70,  80,  89, 125,  83, 150,  81,  69,  72, 239,\n",
       "        95,  67,  64,  78,  57,  98,  66, 109, 110, 149, 121,  73,  76,\n",
       "        71, 209, 292,  99,  97])"
      ]
     },
     "execution_count": 21,
     "metadata": {},
     "output_type": "execute_result"
    }
   ],
   "source": [
    "# получение информации о времени от создания объявления до последней активности пользователя\n",
    "\n",
    "autos['sales_days'] = (autos['last_seen'] - autos['date_created']).dt.days\n",
    "autos['sales_days'].unique()"
   ]
  },
  {
   "cell_type": "code",
   "execution_count": 22,
   "metadata": {},
   "outputs": [
    {
     "data": {
      "text/plain": [
       "1442"
      ]
     },
     "execution_count": 22,
     "metadata": {},
     "output_type": "execute_result"
    }
   ],
   "source": [
    "# определение границ выбросов по квартилям\n",
    "\n",
    "min_, q1, q3, max_ = autos['sales_days'].quantile([0, 0.25, 0.75, 1])\n",
    "iqr = q3 - q1\n",
    "range_min = max(min_, q1 - 1.5 * iqr)\n",
    "range_max = min(max_, q3 + 1.5 * iqr)\n",
    "\n",
    "# предполагаемое число строк на удаление по границам выбросов в 1.5 iqr\n",
    "len(autos[(autos['sales_days'] < range_min) | (autos['sales_days'] > range_max)])"
   ]
  },
  {
   "cell_type": "markdown",
   "metadata": {},
   "source": [
    "*Удалим строки с числом дней продаж более 100. Это кажется адекватнее, чем удалять более 7000 строк по границе выше 1.5 iqr.*"
   ]
  },
  {
   "cell_type": "code",
   "execution_count": 23,
   "metadata": {},
   "outputs": [
    {
     "data": {
      "image/png": "[encoded data removed]",
      "text/plain": [
       "<Figure size 864x432 with 1 Axes>"
      ]
     },
     "metadata": {},
     "output_type": "display_data"
    }
   ],
   "source": [
    "# удаление числа дней продаж более 100\n",
    "autos = autos.drop(autos[autos['sales_days'] > 100].index)\n",
    "\n",
    "# диаграмма распределения дней продаж автомобилей \n",
    "\n",
    "fig, ax = plt.subplots(figsize=(12,6))\n",
    "\n",
    "ax.boxplot(autos['sales_days'])\n",
    "\n",
    "ax.set_xticklabels(['дней продаж'])\n",
    "ax.set_ylabel('дни')\n",
    "ax.grid(axis='y', linewidth=0.3, linestyle='--')\n",
    "ax.set_title('Диаграмма распределения дней продаж автомобилей', fontsize=15)\n",
    "fig.set_facecolor('oldlace')\n",
    "\n",
    "plt.show()"
   ]
  },
  {
   "cell_type": "code",
   "execution_count": 24,
   "metadata": {},
   "outputs": [
    {
     "name": "stdout",
     "output_type": "stream",
     "text": [
      "<class 'pandas.core.frame.DataFrame'>\n",
      "Int64Index: 327268 entries, 0 to 354368\n",
      "Data columns (total 17 columns):\n",
      " #   Column              Non-Null Count   Dtype         \n",
      "---  ------              --------------   -----         \n",
      " 0   date_crawled        327268 non-null  datetime64[ns]\n",
      " 1   price               327268 non-null  int64         \n",
      " 2   vehicle_type        327268 non-null  category      \n",
      " 3   registration_year   327268 non-null  int64         \n",
      " 4   gearbox             327268 non-null  category      \n",
      " 5   power               327268 non-null  int64         \n",
      " 6   model               327268 non-null  object        \n",
      " 7   kilometer           327268 non-null  int64         \n",
      " 8   registration_month  327268 non-null  int64         \n",
      " 9   fuel_type           327268 non-null  category      \n",
      " 10  brand               327268 non-null  object        \n",
      " 11  repaired            327268 non-null  category      \n",
      " 12  date_created        327268 non-null  datetime64[ns]\n",
      " 13  postal_code         327268 non-null  int64         \n",
      " 14  last_seen           327268 non-null  datetime64[ns]\n",
      " 15  brand_model         327268 non-null  category      \n",
      " 16  sales_days          327268 non-null  int64         \n",
      "dtypes: category(5), datetime64[ns](3), int64(7), object(2)\n",
      "memory usage: 34.3+ MB\n"
     ]
    }
   ],
   "source": [
    "# изменение типа категориальных столбцов на category для бустинга\n",
    "autos = autos.astype({'vehicle_type': 'category', \n",
    "                      'gearbox': 'category', \n",
    "                      'fuel_type': 'category', \n",
    "                      'repaired': 'category', \n",
    "                      'brand_model': 'category'})\n",
    "autos.info()"
   ]
  },
  {
   "cell_type": "code",
   "execution_count": 25,
   "metadata": {},
   "outputs": [
    {
     "data": {
      "text/plain": [
       "volkswagen golf                  26580\n",
       "bmw 3er                          18570\n",
       "volkswagen polo                  11915\n",
       "opel corsa                       11441\n",
       "opel astra                        9958\n",
       "                                 ...  \n",
       "rover rangerover                     3\n",
       "rover discovery                      2\n",
       "rover freelander                     2\n",
       "land_rover range_rover_evoque        2\n",
       "rover defender                       1\n",
       "Name: brand_model, Length: 336, dtype: int64"
      ]
     },
     "execution_count": 25,
     "metadata": {},
     "output_type": "execute_result"
    }
   ],
   "source": [
    "# количество уникальных автомобилей в базе\n",
    "autos['brand_model'].value_counts()"
   ]
  },
  {
   "cell_type": "code",
   "execution_count": 26,
   "metadata": {
    "scrolled": true
   },
   "outputs": [
    {
     "name": "stdout",
     "output_type": "stream",
     "text": [
      "volkswagen golf                  26580\n",
      "bmw 3er                          18570\n",
      "volkswagen polo                  11915\n",
      "opel corsa                       11441\n",
      "opel astra                        9958\n",
      "                                 ...  \n",
      "rover rangerover                     3\n",
      "rover discovery                      2\n",
      "rover freelander                     2\n",
      "land_rover range_rover_evoque        2\n",
      "rover defender                       0\n",
      "Name: brand_model, Length: 336, dtype: int64\n",
      "\n",
      "<class 'pandas.core.frame.DataFrame'>\n",
      "Int64Index: 327267 entries, 0 to 354368\n",
      "Data columns (total 17 columns):\n",
      " #   Column              Non-Null Count   Dtype         \n",
      "---  ------              --------------   -----         \n",
      " 0   date_crawled        327267 non-null  datetime64[ns]\n",
      " 1   price               327267 non-null  int64         \n",
      " 2   vehicle_type        327267 non-null  category      \n",
      " 3   registration_year   327267 non-null  int64         \n",
      " 4   gearbox             327267 non-null  category      \n",
      " 5   power               327267 non-null  int64         \n",
      " 6   model               327267 non-null  object        \n",
      " 7   kilometer           327267 non-null  int64         \n",
      " 8   registration_month  327267 non-null  int64         \n",
      " 9   fuel_type           327267 non-null  category      \n",
      " 10  brand               327267 non-null  object        \n",
      " 11  repaired            327267 non-null  category      \n",
      " 12  date_created        327267 non-null  datetime64[ns]\n",
      " 13  postal_code         327267 non-null  int64         \n",
      " 14  last_seen           327267 non-null  datetime64[ns]\n",
      " 15  brand_model         327267 non-null  category      \n",
      " 16  sales_days          327267 non-null  int64         \n",
      "dtypes: category(5), datetime64[ns](3), int64(7), object(2)\n",
      "memory usage: 34.3+ MB\n",
      "None\n"
     ]
    }
   ],
   "source": [
    "# удаление строки с одним уникальным автомобилем (для сбалансированности выборок)\n",
    "\n",
    "autos = autos.drop(autos[autos['brand_model'].isin(\n",
    "    autos['brand_model'].value_counts()[autos['brand_model'].value_counts() == 1].index)\n",
    "                ].index)\n",
    "print(autos['brand_model'].value_counts())\n",
    "print()\n",
    "print(autos.info())"
   ]
  },
  {
   "cell_type": "markdown",
   "metadata": {},
   "source": [
    "<div class=\"alert alert-success\">\n",
    "<h2> Комментарий ревьюера <a class=\"tocSkip\"> </h2>\n",
    "\n",
    "<b>Все отлично!👍:</b> \n",
    "\n",
    "Вряд ли одна строчка сильно повлияет на результат, но идея тоже неплохая. Можно было бы не удалять, а просто заменить на какой-нибудь other, если модели редко встречаются - так мы бы и данные сохранили, и уменьшили пространство признака"
   ]
  },
  {
   "cell_type": "code",
   "execution_count": 27,
   "metadata": {},
   "outputs": [
    {
     "data": {
      "text/html": [
       "<div>\n",
       "<style scoped>\n",
       "    .dataframe tbody tr th:only-of-type {\n",
       "        vertical-align: middle;\n",
       "    }\n",
       "\n",
       "    .dataframe tbody tr th {\n",
       "        vertical-align: top;\n",
       "    }\n",
       "\n",
       "    .dataframe thead th {\n",
       "        text-align: right;\n",
       "    }\n",
       "</style>\n",
       "<table border=\"1\" class=\"dataframe\">\n",
       "  <thead>\n",
       "    <tr style=\"text-align: right;\">\n",
       "      <th></th>\n",
       "      <th>vehicle_type</th>\n",
       "      <th>registration_year</th>\n",
       "      <th>gearbox</th>\n",
       "      <th>power</th>\n",
       "      <th>kilometer</th>\n",
       "      <th>registration_month</th>\n",
       "      <th>fuel_type</th>\n",
       "      <th>repaired</th>\n",
       "      <th>brand_model</th>\n",
       "      <th>sales_days</th>\n",
       "    </tr>\n",
       "  </thead>\n",
       "  <tbody>\n",
       "    <tr>\n",
       "      <th>0</th>\n",
       "      <td>sedan</td>\n",
       "      <td>1993</td>\n",
       "      <td>manual</td>\n",
       "      <td>105</td>\n",
       "      <td>150000</td>\n",
       "      <td>9</td>\n",
       "      <td>petrol</td>\n",
       "      <td>no_info</td>\n",
       "      <td>volkswagen golf</td>\n",
       "      <td>14</td>\n",
       "    </tr>\n",
       "    <tr>\n",
       "      <th>1</th>\n",
       "      <td>coupe</td>\n",
       "      <td>2011</td>\n",
       "      <td>manual</td>\n",
       "      <td>190</td>\n",
       "      <td>125000</td>\n",
       "      <td>5</td>\n",
       "      <td>gasoline</td>\n",
       "      <td>yes</td>\n",
       "      <td>audi</td>\n",
       "      <td>14</td>\n",
       "    </tr>\n",
       "    <tr>\n",
       "      <th>2</th>\n",
       "      <td>suv</td>\n",
       "      <td>2004</td>\n",
       "      <td>auto</td>\n",
       "      <td>163</td>\n",
       "      <td>125000</td>\n",
       "      <td>8</td>\n",
       "      <td>gasoline</td>\n",
       "      <td>no_info</td>\n",
       "      <td>jeep grand</td>\n",
       "      <td>22</td>\n",
       "    </tr>\n",
       "    <tr>\n",
       "      <th>3</th>\n",
       "      <td>small</td>\n",
       "      <td>2001</td>\n",
       "      <td>manual</td>\n",
       "      <td>75</td>\n",
       "      <td>150000</td>\n",
       "      <td>6</td>\n",
       "      <td>petrol</td>\n",
       "      <td>no</td>\n",
       "      <td>volkswagen golf</td>\n",
       "      <td>0</td>\n",
       "    </tr>\n",
       "    <tr>\n",
       "      <th>4</th>\n",
       "      <td>small</td>\n",
       "      <td>2008</td>\n",
       "      <td>manual</td>\n",
       "      <td>69</td>\n",
       "      <td>90000</td>\n",
       "      <td>7</td>\n",
       "      <td>gasoline</td>\n",
       "      <td>no</td>\n",
       "      <td>skoda fabia</td>\n",
       "      <td>6</td>\n",
       "    </tr>\n",
       "  </tbody>\n",
       "</table>\n",
       "</div>"
      ],
      "text/plain": [
       "  vehicle_type  registration_year gearbox  power  kilometer  \\\n",
       "0        sedan               1993  manual    105     150000   \n",
       "1        coupe               2011  manual    190     125000   \n",
       "2          suv               2004    auto    163     125000   \n",
       "3        small               2001  manual     75     150000   \n",
       "4        small               2008  manual     69      90000   \n",
       "\n",
       "   registration_month fuel_type repaired      brand_model  sales_days  \n",
       "0                   9    petrol  no_info  volkswagen golf          14  \n",
       "1                   5  gasoline      yes             audi          14  \n",
       "2                   8  gasoline  no_info       jeep grand          22  \n",
       "3                   6    petrol       no  volkswagen golf           0  \n",
       "4                   7  gasoline       no      skoda fabia           6  "
      ]
     },
     "execution_count": 27,
     "metadata": {},
     "output_type": "execute_result"
    }
   ],
   "source": [
    "# формируем признаки и целевой признак\n",
    "features = autos.drop(['date_crawled', 'price', 'model', 'brand', 'date_created', 'postal_code', 'last_seen'], axis=1)\n",
    "target = autos['price']\n",
    "features.head()"
   ]
  },
  {
   "cell_type": "markdown",
   "metadata": {},
   "source": [
    "<div class=\"alert alert-success\">\n",
    "<h2> Комментарий ревьюера <a class=\"tocSkip\"> </h2>\n",
    "\n",
    "<b>Все отлично!👍:</b> \n",
    "\n",
    "Отлично, что отбрасываешь ненужные признаки. Но с этим тоже нужно быть осторожнее - из них можно извлечь более полезные. Например, страну из PostalCode или время, которое прошло после создания объявления \n",
    "    \n",
    "Кстати, PostalCode просто так тоже не очень оставлять - слишком много уникальных значений, поэтому рекомендовал бы все же отбросить, если не собираешься преобразовывать в более обобщенные значения"
   ]
  },
  {
   "cell_type": "markdown",
   "metadata": {},
   "source": [
    "<div class=\"alert alert-info\"> <b>Комментарий студента:</b> Postal Code исключил из признаков. Невозможно по ним достоверно определить страну или хотя бы регион, слишком много стран имеют 4-значные и 5-значные индексы. Вместо него извлёк время после создания объявления до последней активности пользователя (время, потребовавшееся на продажу) - autos['sales_days']. Удалил выбросы и добавил эти данные в признаки. Метрика улучшилась.</div>"
   ]
  },
  {
   "cell_type": "markdown",
   "metadata": {},
   "source": [
    "<div class=\"alert alert-success\">\n",
    "\n",
    "<h2> Комментарий ревьюера 2 итерация <a class=\"tocSkip\"> </h2>\n",
    "\n",
    "Отлично"
   ]
  },
  {
   "cell_type": "markdown",
   "metadata": {},
   "source": [
    "### Вывод к первому разделу\n",
    "\n",
    "*Исходные данные представляют собой объекты в количестве более 354 тыс. автомобилей с информацией об их основных предпродажных показателях, таких как марка и модель авто, год и месяц первоначальной регистрации, пробег, тип кузова, трансмиссии и топлива, мощность, региональная принадлежность и некоторые другие. Целевым признаком является цена автомобиля, которую необходимо предсказать. Подготовка данных включала в себя:*\n",
    "\n",
    "    - заполнение пропусков в данных\n",
    "    - устранение аномальных значений в данных\n",
    "    - определение несущественных признаков, которыми можно пренебречь при предсказании цены автомобиля\n",
    "    \n",
    "*Пропуски заполнены в следующих столбцах:*\n",
    "\n",
    "    * тип кузова\n",
    "    * тип трансмиссии\n",
    "    * тип топлива\n",
    "    * была ли машина в ремонте\n",
    "    \n",
    "*Аномальные значения путём удаления или замены устранены в следующих столбцах:*\n",
    "\n",
    "    * цена автомобиля\n",
    "    * год первоначальной регистрации\n",
    "    * мощность автомобиля\n",
    "    * месяц первоначальной регистрации\n",
    "    \n",
    "*Несущественные признаки для предсказания цены автомобиля сложились из дато-временных столбцов по скачиванию анкет, внесения автомобиля в базу и последней активности пользователя, а также малоинформативных почтовых индексов, по которым затруднительно достоверно определить регион продажи автомобиля. Этими факторами можно пренебречь при предсказании цены автомобиля. Однако из дато-временных данных можно рассчитать число дней продажи автомобиля. Этот расчётный показатель был добавлен в список признаков.*\n",
    "\n",
    "*Кроме того, объединены колонки по марке и модели автомобиля, что более существенно для определения цены автомобиля, чем модель и марка авто по отдельности.*\n",
    "\n",
    "*Таким образом, в результате подготовки данных удалено около 7.6% исходного датасета и сформированы датасеты признаков и целевого признака (цены) для последующего обучения моделей.*"
   ]
  },
  {
   "cell_type": "markdown",
   "metadata": {},
   "source": [
    "<div class=\"alert alert-success\">\n",
    "<h2> Комментарий ревьюера <a class=\"tocSkip\"> </h2>\n",
    "\n",
    "<b>Все отлично!👍:</b> \n",
    "\n",
    "Отличная предобработка данных. Молодец, что объясняешь свое решение и пишешь вывод по итогам работы.\n",
    "\n",
    "Что можно попробовать ещё:  воспользоваться инструментами для работой с аномалиями, например удалить или восстановить данные, которые не вмещаются в 1.5 iqr. Тут неплохой гайд есть по этому (но перед удалением необходимо все равно сделать проверку - адекватно ли удалять эти значения)\n",
    "    \n",
    "Общий гайд по работе с выбросами\n",
    "    \n",
    "https://towardsdatascience.com/a-complete-guide-for-detecting-and-dealing-with-outliers-bad26b1e92b6\n",
    "    \n",
    "Объяснение 1.5 iqr\n",
    "    \n",
    "https://towardsdatascience.com/why-1-5-in-iqr-method-of-outlier-detection-5d07fdc82097\n",
    "    \n"
   ]
  },
  {
   "cell_type": "markdown",
   "metadata": {},
   "source": [
    "<div class=\"alert alert-info\"> <b>Комментарий студента:</b> Да, можно удалять и восстанавливать по 1.5 iqr. В данных autos['sales_days'] определил границы выбросов по 1.5 iqr., но всё же удалял данные, исходя из здравого смысла. Собственно, диаграммы и показывают границы выбросов, но примерно.</div>"
   ]
  },
  {
   "cell_type": "markdown",
   "metadata": {},
   "source": [
    "<div class=\"alert alert-success\">\n",
    "\n",
    "<h2> Комментарий ревьюера 2 итерация <a class=\"tocSkip\"> </h2>\n",
    "\n",
    "Да, согласен. Здравый смысл - лучший инструмент :) Иногда все же не знаешь предметной области и можно воспользоваться другими подходами"
   ]
  },
  {
   "cell_type": "markdown",
   "metadata": {},
   "source": [
    "## Обучение моделей"
   ]
  },
  {
   "cell_type": "code",
   "execution_count": 28,
   "metadata": {},
   "outputs": [
    {
     "name": "stdout",
     "output_type": "stream",
     "text": [
      "(245450, 10)\n",
      "(81817, 10)\n",
      "(245450,)\n",
      "(81817,)\n"
     ]
    }
   ],
   "source": [
    "# делим данные на обучающую и тестовую выборки\n",
    "features_train, features_test, target_train, target_test = train_test_split(\n",
    "    features, target, test_size=0.25, random_state=12345, stratify=features['brand_model'])\n",
    "\n",
    "print(features_train.shape)\n",
    "print(features_test.shape)\n",
    "print(target_train.shape)\n",
    "print(target_test.shape)"
   ]
  },
  {
   "cell_type": "code",
   "execution_count": 29,
   "metadata": {
    "scrolled": false
   },
   "outputs": [
    {
     "data": {
      "text/html": [
       "<div>\n",
       "<style scoped>\n",
       "    .dataframe tbody tr th:only-of-type {\n",
       "        vertical-align: middle;\n",
       "    }\n",
       "\n",
       "    .dataframe tbody tr th {\n",
       "        vertical-align: top;\n",
       "    }\n",
       "\n",
       "    .dataframe thead th {\n",
       "        text-align: right;\n",
       "    }\n",
       "</style>\n",
       "<table border=\"1\" class=\"dataframe\">\n",
       "  <thead>\n",
       "    <tr style=\"text-align: right;\">\n",
       "      <th></th>\n",
       "      <th>registration_year</th>\n",
       "      <th>power</th>\n",
       "      <th>kilometer</th>\n",
       "      <th>registration_month</th>\n",
       "      <th>sales_days</th>\n",
       "      <th>vehicle_type_convertible</th>\n",
       "      <th>vehicle_type_coupe</th>\n",
       "      <th>vehicle_type_other</th>\n",
       "      <th>vehicle_type_sedan</th>\n",
       "      <th>vehicle_type_small</th>\n",
       "      <th>...</th>\n",
       "      <th>brand_model_volvo</th>\n",
       "      <th>brand_model_volvo 850</th>\n",
       "      <th>brand_model_volvo c_reihe</th>\n",
       "      <th>brand_model_volvo other</th>\n",
       "      <th>brand_model_volvo s60</th>\n",
       "      <th>brand_model_volvo v40</th>\n",
       "      <th>brand_model_volvo v50</th>\n",
       "      <th>brand_model_volvo v60</th>\n",
       "      <th>brand_model_volvo v70</th>\n",
       "      <th>brand_model_volvo xc_reihe</th>\n",
       "    </tr>\n",
       "  </thead>\n",
       "  <tbody>\n",
       "    <tr>\n",
       "      <th>215848</th>\n",
       "      <td>1995</td>\n",
       "      <td>320</td>\n",
       "      <td>100000</td>\n",
       "      <td>7</td>\n",
       "      <td>19</td>\n",
       "      <td>1</td>\n",
       "      <td>0</td>\n",
       "      <td>0</td>\n",
       "      <td>0</td>\n",
       "      <td>0</td>\n",
       "      <td>...</td>\n",
       "      <td>0</td>\n",
       "      <td>0</td>\n",
       "      <td>0</td>\n",
       "      <td>0</td>\n",
       "      <td>0</td>\n",
       "      <td>0</td>\n",
       "      <td>0</td>\n",
       "      <td>0</td>\n",
       "      <td>0</td>\n",
       "      <td>0</td>\n",
       "    </tr>\n",
       "    <tr>\n",
       "      <th>216935</th>\n",
       "      <td>2006</td>\n",
       "      <td>140</td>\n",
       "      <td>90000</td>\n",
       "      <td>11</td>\n",
       "      <td>7</td>\n",
       "      <td>0</td>\n",
       "      <td>0</td>\n",
       "      <td>0</td>\n",
       "      <td>0</td>\n",
       "      <td>0</td>\n",
       "      <td>...</td>\n",
       "      <td>0</td>\n",
       "      <td>0</td>\n",
       "      <td>0</td>\n",
       "      <td>0</td>\n",
       "      <td>0</td>\n",
       "      <td>0</td>\n",
       "      <td>0</td>\n",
       "      <td>0</td>\n",
       "      <td>0</td>\n",
       "      <td>0</td>\n",
       "    </tr>\n",
       "    <tr>\n",
       "      <th>91170</th>\n",
       "      <td>1996</td>\n",
       "      <td>60</td>\n",
       "      <td>150000</td>\n",
       "      <td>12</td>\n",
       "      <td>3</td>\n",
       "      <td>0</td>\n",
       "      <td>0</td>\n",
       "      <td>0</td>\n",
       "      <td>0</td>\n",
       "      <td>1</td>\n",
       "      <td>...</td>\n",
       "      <td>0</td>\n",
       "      <td>0</td>\n",
       "      <td>0</td>\n",
       "      <td>0</td>\n",
       "      <td>0</td>\n",
       "      <td>0</td>\n",
       "      <td>0</td>\n",
       "      <td>0</td>\n",
       "      <td>0</td>\n",
       "      <td>0</td>\n",
       "    </tr>\n",
       "    <tr>\n",
       "      <th>345053</th>\n",
       "      <td>2005</td>\n",
       "      <td>95</td>\n",
       "      <td>100000</td>\n",
       "      <td>9</td>\n",
       "      <td>17</td>\n",
       "      <td>0</td>\n",
       "      <td>0</td>\n",
       "      <td>0</td>\n",
       "      <td>1</td>\n",
       "      <td>0</td>\n",
       "      <td>...</td>\n",
       "      <td>0</td>\n",
       "      <td>0</td>\n",
       "      <td>0</td>\n",
       "      <td>0</td>\n",
       "      <td>0</td>\n",
       "      <td>0</td>\n",
       "      <td>0</td>\n",
       "      <td>0</td>\n",
       "      <td>0</td>\n",
       "      <td>0</td>\n",
       "    </tr>\n",
       "    <tr>\n",
       "      <th>63327</th>\n",
       "      <td>2010</td>\n",
       "      <td>75</td>\n",
       "      <td>125000</td>\n",
       "      <td>8</td>\n",
       "      <td>15</td>\n",
       "      <td>0</td>\n",
       "      <td>0</td>\n",
       "      <td>0</td>\n",
       "      <td>0</td>\n",
       "      <td>1</td>\n",
       "      <td>...</td>\n",
       "      <td>0</td>\n",
       "      <td>0</td>\n",
       "      <td>0</td>\n",
       "      <td>0</td>\n",
       "      <td>0</td>\n",
       "      <td>0</td>\n",
       "      <td>0</td>\n",
       "      <td>0</td>\n",
       "      <td>0</td>\n",
       "      <td>0</td>\n",
       "    </tr>\n",
       "  </tbody>\n",
       "</table>\n",
       "<p>5 rows × 356 columns</p>\n",
       "</div>"
      ],
      "text/plain": [
       "        registration_year  power  kilometer  registration_month  sales_days  \\\n",
       "215848               1995    320     100000                   7          19   \n",
       "216935               2006    140      90000                  11           7   \n",
       "91170                1996     60     150000                  12           3   \n",
       "345053               2005     95     100000                   9          17   \n",
       "63327                2010     75     125000                   8          15   \n",
       "\n",
       "        vehicle_type_convertible  vehicle_type_coupe  vehicle_type_other  \\\n",
       "215848                         1                   0                   0   \n",
       "216935                         0                   0                   0   \n",
       "91170                          0                   0                   0   \n",
       "345053                         0                   0                   0   \n",
       "63327                          0                   0                   0   \n",
       "\n",
       "        vehicle_type_sedan  vehicle_type_small  ...  brand_model_volvo  \\\n",
       "215848                   0                   0  ...                  0   \n",
       "216935                   0                   0  ...                  0   \n",
       "91170                    0                   1  ...                  0   \n",
       "345053                   1                   0  ...                  0   \n",
       "63327                    0                   1  ...                  0   \n",
       "\n",
       "        brand_model_volvo 850  brand_model_volvo c_reihe  \\\n",
       "215848                      0                          0   \n",
       "216935                      0                          0   \n",
       "91170                       0                          0   \n",
       "345053                      0                          0   \n",
       "63327                       0                          0   \n",
       "\n",
       "        brand_model_volvo other  brand_model_volvo s60  brand_model_volvo v40  \\\n",
       "215848                        0                      0                      0   \n",
       "216935                        0                      0                      0   \n",
       "91170                         0                      0                      0   \n",
       "345053                        0                      0                      0   \n",
       "63327                         0                      0                      0   \n",
       "\n",
       "        brand_model_volvo v50  brand_model_volvo v60  brand_model_volvo v70  \\\n",
       "215848                      0                      0                      0   \n",
       "216935                      0                      0                      0   \n",
       "91170                       0                      0                      0   \n",
       "345053                      0                      0                      0   \n",
       "63327                       0                      0                      0   \n",
       "\n",
       "        brand_model_volvo xc_reihe  \n",
       "215848                           0  \n",
       "216935                           0  \n",
       "91170                            0  \n",
       "345053                           0  \n",
       "63327                            0  \n",
       "\n",
       "[5 rows x 356 columns]"
      ]
     },
     "execution_count": 29,
     "metadata": {},
     "output_type": "execute_result"
    }
   ],
   "source": [
    "# кодируем методом one-hot-encoding категориальные признаки для линейной регрессии\n",
    "features_train_ohe = pd.get_dummies(features_train, drop_first=True)\n",
    "features_test_ohe = pd.get_dummies(features_test, drop_first=True)\n",
    "features_train_ohe.head()"
   ]
  },
  {
   "cell_type": "code",
   "execution_count": 30,
   "metadata": {},
   "outputs": [
    {
     "data": {
      "text/html": [
       "<div>\n",
       "<style scoped>\n",
       "    .dataframe tbody tr th:only-of-type {\n",
       "        vertical-align: middle;\n",
       "    }\n",
       "\n",
       "    .dataframe tbody tr th {\n",
       "        vertical-align: top;\n",
       "    }\n",
       "\n",
       "    .dataframe thead th {\n",
       "        text-align: right;\n",
       "    }\n",
       "</style>\n",
       "<table border=\"1\" class=\"dataframe\">\n",
       "  <thead>\n",
       "    <tr style=\"text-align: right;\">\n",
       "      <th></th>\n",
       "      <th>vehicle_type</th>\n",
       "      <th>registration_year</th>\n",
       "      <th>gearbox</th>\n",
       "      <th>power</th>\n",
       "      <th>kilometer</th>\n",
       "      <th>registration_month</th>\n",
       "      <th>fuel_type</th>\n",
       "      <th>repaired</th>\n",
       "      <th>brand_model</th>\n",
       "      <th>sales_days</th>\n",
       "    </tr>\n",
       "  </thead>\n",
       "  <tbody>\n",
       "    <tr>\n",
       "      <th>215848</th>\n",
       "      <td>1.0</td>\n",
       "      <td>1995</td>\n",
       "      <td>0.0</td>\n",
       "      <td>320</td>\n",
       "      <td>100000</td>\n",
       "      <td>7</td>\n",
       "      <td>6.0</td>\n",
       "      <td>0.0</td>\n",
       "      <td>176.0</td>\n",
       "      <td>19</td>\n",
       "    </tr>\n",
       "    <tr>\n",
       "      <th>216935</th>\n",
       "      <td>0.0</td>\n",
       "      <td>2006</td>\n",
       "      <td>1.0</td>\n",
       "      <td>140</td>\n",
       "      <td>90000</td>\n",
       "      <td>11</td>\n",
       "      <td>6.0</td>\n",
       "      <td>0.0</td>\n",
       "      <td>55.0</td>\n",
       "      <td>7</td>\n",
       "    </tr>\n",
       "    <tr>\n",
       "      <th>91170</th>\n",
       "      <td>5.0</td>\n",
       "      <td>1996</td>\n",
       "      <td>0.0</td>\n",
       "      <td>60</td>\n",
       "      <td>150000</td>\n",
       "      <td>12</td>\n",
       "      <td>6.0</td>\n",
       "      <td>1.0</td>\n",
       "      <td>317.0</td>\n",
       "      <td>3</td>\n",
       "    </tr>\n",
       "    <tr>\n",
       "      <th>345053</th>\n",
       "      <td>4.0</td>\n",
       "      <td>2005</td>\n",
       "      <td>1.0</td>\n",
       "      <td>95</td>\n",
       "      <td>100000</td>\n",
       "      <td>9</td>\n",
       "      <td>6.0</td>\n",
       "      <td>0.0</td>\n",
       "      <td>189.0</td>\n",
       "      <td>17</td>\n",
       "    </tr>\n",
       "    <tr>\n",
       "      <th>63327</th>\n",
       "      <td>5.0</td>\n",
       "      <td>2010</td>\n",
       "      <td>1.0</td>\n",
       "      <td>75</td>\n",
       "      <td>125000</td>\n",
       "      <td>8</td>\n",
       "      <td>6.0</td>\n",
       "      <td>1.0</td>\n",
       "      <td>298.0</td>\n",
       "      <td>15</td>\n",
       "    </tr>\n",
       "  </tbody>\n",
       "</table>\n",
       "</div>"
      ],
      "text/plain": [
       "        vehicle_type  registration_year  gearbox  power  kilometer  \\\n",
       "215848           1.0               1995      0.0    320     100000   \n",
       "216935           0.0               2006      1.0    140      90000   \n",
       "91170            5.0               1996      0.0     60     150000   \n",
       "345053           4.0               2005      1.0     95     100000   \n",
       "63327            5.0               2010      1.0     75     125000   \n",
       "\n",
       "        registration_month  fuel_type  repaired  brand_model  sales_days  \n",
       "215848                   7        6.0       0.0        176.0          19  \n",
       "216935                  11        6.0       0.0         55.0           7  \n",
       "91170                   12        6.0       1.0        317.0           3  \n",
       "345053                   9        6.0       0.0        189.0          17  \n",
       "63327                    8        6.0       1.0        298.0          15  "
      ]
     },
     "execution_count": 30,
     "metadata": {},
     "output_type": "execute_result"
    }
   ],
   "source": [
    "# для DecisionTreeRegressor и LGBMRegressor применим кодирование OrdinalEncoder к категориальным признакам\n",
    "cat_features = ['vehicle_type', 'gearbox', 'fuel_type', 'repaired', 'brand_model']\n",
    "\n",
    "enc = OrdinalEncoder()\n",
    "features_train_oe = features_train.copy()\n",
    "\n",
    "enc.fit(features_train_oe[cat_features])\n",
    "features_train_oe[cat_features] = enc.transform(features_train_oe[cat_features])\n",
    "\n",
    "features_train_oe.head()"
   ]
  },
  {
   "cell_type": "code",
   "execution_count": 31,
   "metadata": {},
   "outputs": [
    {
     "name": "stdout",
     "output_type": "stream",
     "text": [
      "Лучшая RMSE для дерева решений: 1851.81 при значениях гиперпараметров: {'max_depth': 15, 'min_samples_leaf': 10}\n",
      "CPU times: user 19.9 s, sys: 43.1 ms, total: 20 s\n",
      "Wall time: 20 s\n"
     ]
    }
   ],
   "source": [
    "%%time\n",
    "# подбор лучшей модели DecisionTreeRegressor\n",
    "\n",
    "parameters_grid = {'max_depth': [2, 10, 15], 'min_samples_leaf': [2, 5, 10]}\n",
    " \n",
    "model = DecisionTreeRegressor(random_state=12345)\n",
    "grid_cv = GridSearchCV(model, parameters_grid, cv=5, scoring='neg_root_mean_squared_error', n_jobs=-1)\n",
    "grid_cv.fit(features_train_oe, target_train)\n",
    "\n",
    "print('Лучшая RMSE для дерева решений: {:.2f} при значениях гиперпараметров: {}'.\\\n",
    "      format(-grid_cv.best_score_, grid_cv.best_params_))"
   ]
  },
  {
   "cell_type": "markdown",
   "metadata": {},
   "source": [
    "<div class=\"alert alert-block alert-danger\">\n",
    "<h2> Комментарий ревьюера <a class=\"tocSkip\"></h2>\n",
    "\n",
    "\n",
    "<b>На доработку🤔:</b>\n",
    "\n",
    "Стоит выбирать энкодеры исходя из модели, с которой они используются. Например, для древовидных моделей лучше подходит OrdinalEncoding, а для линейной регрессии - OneHotEncoding. CatBoost и LGBM вообще сами могут кодировать и это зачастую лучше, чем реализация из другой библиотеки. Иначе модели могут хуже работать с неправильной кодировкой и, соответственно, мы не получаем лучшие метрики для них\n",
    "    \n",
    "https://towardsdatascience.com/one-hot-encoding-is-making-your-tree-based-ensembles-worse-heres-why-d64b282b5769"
   ]
  },
  {
   "cell_type": "markdown",
   "metadata": {},
   "source": [
    "<div class=\"alert alert-info\"> <b>Комментарий студента:</b> Для древовидной модели подал на обучение данные, кодированные в OrdinalEncoding.</div>"
   ]
  },
  {
   "cell_type": "markdown",
   "metadata": {},
   "source": [
    "<div class=\"alert alert-success\">\n",
    "\n",
    "<h2> Комментарий ревьюера 2 итерация <a class=\"tocSkip\"> </h2>\n",
    "\n",
    "Отлично"
   ]
  },
  {
   "cell_type": "code",
   "execution_count": 32,
   "metadata": {},
   "outputs": [
    {
     "name": "stdout",
     "output_type": "stream",
     "text": [
      "RMSE для линейной регрессии: 2663.17\n",
      "CPU times: user 1min 16s, sys: 35.7 s, total: 1min 51s\n",
      "Wall time: 1min 52s\n"
     ]
    }
   ],
   "source": [
    "%%time\n",
    "# для линейной регрессии применим масштабирование StandardScaler к цифровым признакам\n",
    "numeric = ['registration_year', 'power', 'kilometer', 'registration_month', 'sales_days']\n",
    "pd.options.mode.chained_assignment = None\n",
    "\n",
    "scaler = StandardScaler()\n",
    "features_train_ohe_sc = features_train_ohe.copy()\n",
    "\n",
    "scaler.fit(features_train_ohe_sc[numeric])\n",
    "features_train_ohe_sc[numeric] = scaler.transform(features_train_ohe_sc[numeric])\n",
    "\n",
    "# обучение модели LinearRegression\n",
    "model = LinearRegression()\n",
    "\n",
    "scores = cross_validate(model, features_train_ohe_sc, target_train, \n",
    "                        scoring='neg_root_mean_squared_error', cv=5, n_jobs=-1)\n",
    "\n",
    "final_score = -scores['test_score'].mean()\n",
    "\n",
    "print('RMSE для линейной регрессии: {:.2f}'.format(final_score))"
   ]
  },
  {
   "cell_type": "code",
   "execution_count": 33,
   "metadata": {},
   "outputs": [
    {
     "name": "stdout",
     "output_type": "stream",
     "text": [
      "Лучшая RMSE для CatBoost: 1700.63 при значениях гиперпараметров: {'depth': 10, 'iterations': 40, 'learning_rate': 0.5}\n",
      "CPU times: user 2min 20s, sys: 1.9 s, total: 2min 22s\n",
      "Wall time: 3min 5s\n"
     ]
    }
   ],
   "source": [
    "%%time\n",
    "# подбор лучшей модели CatBoostRegressor\n",
    "# используем категориальные признаки без кодирования\n",
    "\n",
    "model_cat = CatBoostRegressor(random_state=12345, verbose=False, cat_features=cat_features)\n",
    "parameters_grid = {'iterations': [10, 25, 40], 'depth': [5, 10], 'learning_rate': [0.5, 0.7]}\n",
    "\n",
    "grid_cat = GridSearchCV(model_cat, parameters_grid, cv=5, scoring='neg_root_mean_squared_error', n_jobs=-1)\n",
    "grid_cat.fit(features_train, target_train)\n",
    "\n",
    "print('Лучшая RMSE для CatBoost: {:.2f} при значениях гиперпараметров: {}'.\\\n",
    "      format(-grid_cat.best_score_, grid_cat.best_params_))"
   ]
  },
  {
   "cell_type": "code",
   "execution_count": 52,
   "metadata": {},
   "outputs": [
    {
     "name": "stdout",
     "output_type": "stream",
     "text": [
      "Лучшая RMSE для LGBM: 1641.16 при значениях гиперпараметров: {'learning_rate': 0.5, 'n_estimators': 100}\n",
      "CPU times: user 4min 59s, sys: 1.06 s, total: 5min\n",
      "Wall time: 5min 3s\n"
     ]
    }
   ],
   "source": [
    "%%time\n",
    "# подбор лучшей модели LGBMRegressor\n",
    "\n",
    "model_lgb = LGBMRegressor(random_state=12345)\n",
    "parameters_grid = {'n_estimators': [50, 70, 100], 'learning_rate': [0.1, 0.5, 0.7]}\n",
    "\n",
    "grid_lgb = GridSearchCV(model_lgb, parameters_grid, cv=3, scoring='neg_root_mean_squared_error', n_jobs=-1)\n",
    "grid_lgb.fit(features_train_oe, target_train)\n",
    "\n",
    "print('Лучшая RMSE для LGBM: {:.2f} при значениях гиперпараметров: {}'.\\\n",
    "      format(-grid_lgb.best_score_, grid_lgb.best_params_))"
   ]
  },
  {
   "cell_type": "code",
   "execution_count": 53,
   "metadata": {},
   "outputs": [
    {
     "name": "stdout",
     "output_type": "stream",
     "text": [
      "RMSE для Dummy модели: 4547.893521403391\n"
     ]
    }
   ],
   "source": [
    "# проверка моделей на адекватность на обучающей выборке\n",
    "\n",
    "dummy_model = DummyRegressor(strategy=\"mean\") # инициализация DummyRegressor\n",
    "\n",
    "# обучение, предсказание, расчёт RMSE\n",
    "dummy_model.fit(features_train_ohe, target_train)\n",
    "pred_dummy = dummy_model.predict(features_train_ohe)\n",
    "rmse_dummy = mean_squared_error(target_train, pred_dummy, squared=False)\n",
    "\n",
    "print('RMSE для Dummy модели:', rmse_dummy)"
   ]
  },
  {
   "cell_type": "markdown",
   "metadata": {},
   "source": [
    "### Вывод ко второму разделу\n",
    "\n",
    "*Методом кросс-валидации были обучены и посчитаны метрики RMSE на 2-х моделях градиентного бустинга и на 2-х моделях-небустингах:*\n",
    "\n",
    "    - на модели CatBoostRegressor\n",
    "    - на модели LGBMRegressor\n",
    "    - на модели DecisionTreeRegressor\n",
    "    - на модели LinearRegression\n",
    "    \n",
    "*Значения метрики RMSE (отклонения предсказанной цены автомобиля от реальной) на обучающей выборке при оптимальных гиперпараметрах получились следующие:*\n",
    "\n",
    "    * CatBoostRegressor - 1701 евро\n",
    "    * LGBMRegressor - 1641 евро\n",
    "    * DecisionTreeRegressor - 1852 евро\n",
    "    * LinearRegression - 2663 евро\n",
    "    \n",
    "*Модели также были проверены на адекватность путём прогнозирования средней цены по всей выборке, отклонение RMSE у константной модели значительно выше (4548 евро), чем у любой из вышеисследованной модели.* \n",
    "    "
   ]
  },
  {
   "cell_type": "markdown",
   "metadata": {},
   "source": [
    "<div class=\"alert alert-success\">\n",
    "\n",
    "<h2> Комментарий ревьюера 2 итерация <a class=\"tocSkip\"> </h2>\n",
    "\n",
    "Отлично, что делаешь проверку моделей на адекватность. Очень хорошая практика - так можно сравнивать, насколько наша модель вообще лучше случайной монеты и стоили ли затраты на подготовку данных / подбор архитектуры того"
   ]
  },
  {
   "cell_type": "markdown",
   "metadata": {},
   "source": [
    "## Анализ моделей"
   ]
  },
  {
   "cell_type": "markdown",
   "metadata": {},
   "source": [
    "*Рассмотрим значения среднего времени обучения и среднего времени предсказания по всем моделям из предыдущего раздела.*"
   ]
  },
  {
   "cell_type": "code",
   "execution_count": 54,
   "metadata": {
    "scrolled": true
   },
   "outputs": [
    {
     "data": {
      "text/html": [
       "<div>\n",
       "<style scoped>\n",
       "    .dataframe tbody tr th:only-of-type {\n",
       "        vertical-align: middle;\n",
       "    }\n",
       "\n",
       "    .dataframe tbody tr th {\n",
       "        vertical-align: top;\n",
       "    }\n",
       "\n",
       "    .dataframe thead th {\n",
       "        text-align: right;\n",
       "    }\n",
       "</style>\n",
       "<table border=\"1\" class=\"dataframe\">\n",
       "  <thead>\n",
       "    <tr style=\"text-align: right;\">\n",
       "      <th></th>\n",
       "      <th>mean_fit_time</th>\n",
       "      <th>std_fit_time</th>\n",
       "      <th>mean_score_time</th>\n",
       "      <th>std_score_time</th>\n",
       "      <th>param_max_depth</th>\n",
       "      <th>param_min_samples_leaf</th>\n",
       "      <th>params</th>\n",
       "      <th>split0_test_score</th>\n",
       "      <th>split1_test_score</th>\n",
       "      <th>split2_test_score</th>\n",
       "      <th>split3_test_score</th>\n",
       "      <th>split4_test_score</th>\n",
       "      <th>mean_test_score</th>\n",
       "      <th>std_test_score</th>\n",
       "      <th>rank_test_score</th>\n",
       "    </tr>\n",
       "  </thead>\n",
       "  <tbody>\n",
       "    <tr>\n",
       "      <th>0</th>\n",
       "      <td>0.118017</td>\n",
       "      <td>0.009802</td>\n",
       "      <td>0.004646</td>\n",
       "      <td>0.000159</td>\n",
       "      <td>2</td>\n",
       "      <td>2</td>\n",
       "      <td>{'max_depth': 2, 'min_samples_leaf': 2}</td>\n",
       "      <td>-3208.552783</td>\n",
       "      <td>-3199.367345</td>\n",
       "      <td>-3215.549073</td>\n",
       "      <td>-3196.086795</td>\n",
       "      <td>-3190.238896</td>\n",
       "      <td>-3201.958978</td>\n",
       "      <td>9.019183</td>\n",
       "      <td>7</td>\n",
       "    </tr>\n",
       "    <tr>\n",
       "      <th>1</th>\n",
       "      <td>0.112090</td>\n",
       "      <td>0.002502</td>\n",
       "      <td>0.004531</td>\n",
       "      <td>0.000112</td>\n",
       "      <td>2</td>\n",
       "      <td>5</td>\n",
       "      <td>{'max_depth': 2, 'min_samples_leaf': 5}</td>\n",
       "      <td>-3208.552783</td>\n",
       "      <td>-3199.367345</td>\n",
       "      <td>-3215.549073</td>\n",
       "      <td>-3196.086795</td>\n",
       "      <td>-3190.238896</td>\n",
       "      <td>-3201.958978</td>\n",
       "      <td>9.019183</td>\n",
       "      <td>7</td>\n",
       "    </tr>\n",
       "    <tr>\n",
       "      <th>2</th>\n",
       "      <td>0.111576</td>\n",
       "      <td>0.001634</td>\n",
       "      <td>0.004674</td>\n",
       "      <td>0.000201</td>\n",
       "      <td>2</td>\n",
       "      <td>10</td>\n",
       "      <td>{'max_depth': 2, 'min_samples_leaf': 10}</td>\n",
       "      <td>-3208.552783</td>\n",
       "      <td>-3199.367345</td>\n",
       "      <td>-3215.549073</td>\n",
       "      <td>-3196.086795</td>\n",
       "      <td>-3190.238896</td>\n",
       "      <td>-3201.958978</td>\n",
       "      <td>9.019183</td>\n",
       "      <td>7</td>\n",
       "    </tr>\n",
       "    <tr>\n",
       "      <th>3</th>\n",
       "      <td>0.473317</td>\n",
       "      <td>0.007509</td>\n",
       "      <td>0.008341</td>\n",
       "      <td>0.000193</td>\n",
       "      <td>10</td>\n",
       "      <td>2</td>\n",
       "      <td>{'max_depth': 10, 'min_samples_leaf': 2}</td>\n",
       "      <td>-1994.813415</td>\n",
       "      <td>-1988.859422</td>\n",
       "      <td>-2009.872747</td>\n",
       "      <td>-2013.524741</td>\n",
       "      <td>-1979.355036</td>\n",
       "      <td>-1997.285072</td>\n",
       "      <td>12.812207</td>\n",
       "      <td>6</td>\n",
       "    </tr>\n",
       "    <tr>\n",
       "      <th>4</th>\n",
       "      <td>0.474842</td>\n",
       "      <td>0.002160</td>\n",
       "      <td>0.008186</td>\n",
       "      <td>0.000174</td>\n",
       "      <td>10</td>\n",
       "      <td>5</td>\n",
       "      <td>{'max_depth': 10, 'min_samples_leaf': 5}</td>\n",
       "      <td>-1987.611856</td>\n",
       "      <td>-1981.374422</td>\n",
       "      <td>-2008.263683</td>\n",
       "      <td>-2010.142673</td>\n",
       "      <td>-1983.338117</td>\n",
       "      <td>-1994.146150</td>\n",
       "      <td>12.472538</td>\n",
       "      <td>5</td>\n",
       "    </tr>\n",
       "    <tr>\n",
       "      <th>5</th>\n",
       "      <td>0.487105</td>\n",
       "      <td>0.003095</td>\n",
       "      <td>0.008239</td>\n",
       "      <td>0.000180</td>\n",
       "      <td>10</td>\n",
       "      <td>10</td>\n",
       "      <td>{'max_depth': 10, 'min_samples_leaf': 10}</td>\n",
       "      <td>-1988.477447</td>\n",
       "      <td>-1975.674382</td>\n",
       "      <td>-2000.912901</td>\n",
       "      <td>-2006.813176</td>\n",
       "      <td>-1983.782121</td>\n",
       "      <td>-1991.132005</td>\n",
       "      <td>11.327582</td>\n",
       "      <td>4</td>\n",
       "    </tr>\n",
       "    <tr>\n",
       "      <th>6</th>\n",
       "      <td>0.668618</td>\n",
       "      <td>0.013821</td>\n",
       "      <td>0.012660</td>\n",
       "      <td>0.000578</td>\n",
       "      <td>15</td>\n",
       "      <td>2</td>\n",
       "      <td>{'max_depth': 15, 'min_samples_leaf': 2}</td>\n",
       "      <td>-1937.336974</td>\n",
       "      <td>-1915.431010</td>\n",
       "      <td>-1938.890187</td>\n",
       "      <td>-1943.643301</td>\n",
       "      <td>-1926.816113</td>\n",
       "      <td>-1932.423517</td>\n",
       "      <td>10.119602</td>\n",
       "      <td>3</td>\n",
       "    </tr>\n",
       "    <tr>\n",
       "      <th>7</th>\n",
       "      <td>0.649263</td>\n",
       "      <td>0.005327</td>\n",
       "      <td>0.011925</td>\n",
       "      <td>0.000142</td>\n",
       "      <td>15</td>\n",
       "      <td>5</td>\n",
       "      <td>{'max_depth': 15, 'min_samples_leaf': 5}</td>\n",
       "      <td>-1877.005260</td>\n",
       "      <td>-1851.453245</td>\n",
       "      <td>-1888.257808</td>\n",
       "      <td>-1890.541651</td>\n",
       "      <td>-1861.536560</td>\n",
       "      <td>-1873.758905</td>\n",
       "      <td>15.161436</td>\n",
       "      <td>2</td>\n",
       "    </tr>\n",
       "    <tr>\n",
       "      <th>8</th>\n",
       "      <td>0.653175</td>\n",
       "      <td>0.014509</td>\n",
       "      <td>0.012331</td>\n",
       "      <td>0.001012</td>\n",
       "      <td>15</td>\n",
       "      <td>10</td>\n",
       "      <td>{'max_depth': 15, 'min_samples_leaf': 10}</td>\n",
       "      <td>-1854.554777</td>\n",
       "      <td>-1838.592091</td>\n",
       "      <td>-1860.996730</td>\n",
       "      <td>-1863.594844</td>\n",
       "      <td>-1841.296786</td>\n",
       "      <td>-1851.807046</td>\n",
       "      <td>10.159263</td>\n",
       "      <td>1</td>\n",
       "    </tr>\n",
       "  </tbody>\n",
       "</table>\n",
       "</div>"
      ],
      "text/plain": [
       "   mean_fit_time  std_fit_time  mean_score_time  std_score_time  \\\n",
       "0       0.118017      0.009802         0.004646        0.000159   \n",
       "1       0.112090      0.002502         0.004531        0.000112   \n",
       "2       0.111576      0.001634         0.004674        0.000201   \n",
       "3       0.473317      0.007509         0.008341        0.000193   \n",
       "4       0.474842      0.002160         0.008186        0.000174   \n",
       "5       0.487105      0.003095         0.008239        0.000180   \n",
       "6       0.668618      0.013821         0.012660        0.000578   \n",
       "7       0.649263      0.005327         0.011925        0.000142   \n",
       "8       0.653175      0.014509         0.012331        0.001012   \n",
       "\n",
       "  param_max_depth param_min_samples_leaf  \\\n",
       "0               2                      2   \n",
       "1               2                      5   \n",
       "2               2                     10   \n",
       "3              10                      2   \n",
       "4              10                      5   \n",
       "5              10                     10   \n",
       "6              15                      2   \n",
       "7              15                      5   \n",
       "8              15                     10   \n",
       "\n",
       "                                      params  split0_test_score  \\\n",
       "0    {'max_depth': 2, 'min_samples_leaf': 2}       -3208.552783   \n",
       "1    {'max_depth': 2, 'min_samples_leaf': 5}       -3208.552783   \n",
       "2   {'max_depth': 2, 'min_samples_leaf': 10}       -3208.552783   \n",
       "3   {'max_depth': 10, 'min_samples_leaf': 2}       -1994.813415   \n",
       "4   {'max_depth': 10, 'min_samples_leaf': 5}       -1987.611856   \n",
       "5  {'max_depth': 10, 'min_samples_leaf': 10}       -1988.477447   \n",
       "6   {'max_depth': 15, 'min_samples_leaf': 2}       -1937.336974   \n",
       "7   {'max_depth': 15, 'min_samples_leaf': 5}       -1877.005260   \n",
       "8  {'max_depth': 15, 'min_samples_leaf': 10}       -1854.554777   \n",
       "\n",
       "   split1_test_score  split2_test_score  split3_test_score  split4_test_score  \\\n",
       "0       -3199.367345       -3215.549073       -3196.086795       -3190.238896   \n",
       "1       -3199.367345       -3215.549073       -3196.086795       -3190.238896   \n",
       "2       -3199.367345       -3215.549073       -3196.086795       -3190.238896   \n",
       "3       -1988.859422       -2009.872747       -2013.524741       -1979.355036   \n",
       "4       -1981.374422       -2008.263683       -2010.142673       -1983.338117   \n",
       "5       -1975.674382       -2000.912901       -2006.813176       -1983.782121   \n",
       "6       -1915.431010       -1938.890187       -1943.643301       -1926.816113   \n",
       "7       -1851.453245       -1888.257808       -1890.541651       -1861.536560   \n",
       "8       -1838.592091       -1860.996730       -1863.594844       -1841.296786   \n",
       "\n",
       "   mean_test_score  std_test_score  rank_test_score  \n",
       "0     -3201.958978        9.019183                7  \n",
       "1     -3201.958978        9.019183                7  \n",
       "2     -3201.958978        9.019183                7  \n",
       "3     -1997.285072       12.812207                6  \n",
       "4     -1994.146150       12.472538                5  \n",
       "5     -1991.132005       11.327582                4  \n",
       "6     -1932.423517       10.119602                3  \n",
       "7     -1873.758905       15.161436                2  \n",
       "8     -1851.807046       10.159263                1  "
      ]
     },
     "execution_count": 54,
     "metadata": {},
     "output_type": "execute_result"
    }
   ],
   "source": [
    "# Таблица с результатами работы модели DecisionTreeRegressor при каждой комбинации гиперпараметров\n",
    "results = pd.DataFrame(grid_cv.cv_results_)\n",
    "results"
   ]
  },
  {
   "cell_type": "code",
   "execution_count": 55,
   "metadata": {},
   "outputs": [
    {
     "data": {
      "text/plain": [
       "0.41644470956590446"
      ]
     },
     "execution_count": 55,
     "metadata": {},
     "output_type": "execute_result"
    }
   ],
   "source": [
    "# среднее время обучения DecisionTreeRegressor\n",
    "results['mean_fit_time'].mean()"
   ]
  },
  {
   "cell_type": "code",
   "execution_count": 56,
   "metadata": {},
   "outputs": [
    {
     "data": {
      "text/plain": [
       "0.008392545912000868"
      ]
     },
     "execution_count": 56,
     "metadata": {},
     "output_type": "execute_result"
    }
   ],
   "source": [
    "# среднее время предсказания DecisionTreeRegressor\n",
    "results['mean_score_time'].mean()"
   ]
  },
  {
   "cell_type": "code",
   "execution_count": 57,
   "metadata": {},
   "outputs": [
    {
     "data": {
      "text/html": [
       "<div>\n",
       "<style scoped>\n",
       "    .dataframe tbody tr th:only-of-type {\n",
       "        vertical-align: middle;\n",
       "    }\n",
       "\n",
       "    .dataframe tbody tr th {\n",
       "        vertical-align: top;\n",
       "    }\n",
       "\n",
       "    .dataframe thead th {\n",
       "        text-align: right;\n",
       "    }\n",
       "</style>\n",
       "<table border=\"1\" class=\"dataframe\">\n",
       "  <thead>\n",
       "    <tr style=\"text-align: right;\">\n",
       "      <th></th>\n",
       "      <th>fit_time</th>\n",
       "      <th>score_time</th>\n",
       "      <th>test_score</th>\n",
       "    </tr>\n",
       "  </thead>\n",
       "  <tbody>\n",
       "    <tr>\n",
       "      <th>0</th>\n",
       "      <td>24.303301</td>\n",
       "      <td>0.299514</td>\n",
       "      <td>-2652.975450</td>\n",
       "    </tr>\n",
       "    <tr>\n",
       "      <th>1</th>\n",
       "      <td>22.496992</td>\n",
       "      <td>0.242720</td>\n",
       "      <td>-2642.039939</td>\n",
       "    </tr>\n",
       "    <tr>\n",
       "      <th>2</th>\n",
       "      <td>19.710167</td>\n",
       "      <td>0.236245</td>\n",
       "      <td>-2673.672520</td>\n",
       "    </tr>\n",
       "    <tr>\n",
       "      <th>3</th>\n",
       "      <td>22.202967</td>\n",
       "      <td>0.297027</td>\n",
       "      <td>-2661.039633</td>\n",
       "    </tr>\n",
       "    <tr>\n",
       "      <th>4</th>\n",
       "      <td>21.599350</td>\n",
       "      <td>0.237923</td>\n",
       "      <td>-2686.143485</td>\n",
       "    </tr>\n",
       "  </tbody>\n",
       "</table>\n",
       "</div>"
      ],
      "text/plain": [
       "    fit_time  score_time   test_score\n",
       "0  24.303301    0.299514 -2652.975450\n",
       "1  22.496992    0.242720 -2642.039939\n",
       "2  19.710167    0.236245 -2673.672520\n",
       "3  22.202967    0.297027 -2661.039633\n",
       "4  21.599350    0.237923 -2686.143485"
      ]
     },
     "execution_count": 57,
     "metadata": {},
     "output_type": "execute_result"
    }
   ],
   "source": [
    "# Таблица с результатами работы модели LinearRegression на каждом фолде кросс-валидации\n",
    "pd.DataFrame(scores)"
   ]
  },
  {
   "cell_type": "code",
   "execution_count": 58,
   "metadata": {},
   "outputs": [
    {
     "data": {
      "text/plain": [
       "22.06255531311035"
      ]
     },
     "execution_count": 58,
     "metadata": {},
     "output_type": "execute_result"
    }
   ],
   "source": [
    "# среднее время обучения DecisionTreeRegressor\n",
    "scores['fit_time'].mean()"
   ]
  },
  {
   "cell_type": "code",
   "execution_count": 59,
   "metadata": {},
   "outputs": [
    {
     "data": {
      "text/plain": [
       "0.26268587112426756"
      ]
     },
     "execution_count": 59,
     "metadata": {},
     "output_type": "execute_result"
    }
   ],
   "source": [
    "# среднее время предсказания DecisionTreeRegressor\n",
    "scores['score_time'].mean()"
   ]
  },
  {
   "cell_type": "code",
   "execution_count": 60,
   "metadata": {
    "scrolled": true
   },
   "outputs": [
    {
     "data": {
      "text/html": [
       "<div>\n",
       "<style scoped>\n",
       "    .dataframe tbody tr th:only-of-type {\n",
       "        vertical-align: middle;\n",
       "    }\n",
       "\n",
       "    .dataframe tbody tr th {\n",
       "        vertical-align: top;\n",
       "    }\n",
       "\n",
       "    .dataframe thead th {\n",
       "        text-align: right;\n",
       "    }\n",
       "</style>\n",
       "<table border=\"1\" class=\"dataframe\">\n",
       "  <thead>\n",
       "    <tr style=\"text-align: right;\">\n",
       "      <th></th>\n",
       "      <th>mean_fit_time</th>\n",
       "      <th>std_fit_time</th>\n",
       "      <th>mean_score_time</th>\n",
       "      <th>std_score_time</th>\n",
       "      <th>param_depth</th>\n",
       "      <th>param_iterations</th>\n",
       "      <th>param_learning_rate</th>\n",
       "      <th>params</th>\n",
       "      <th>split0_test_score</th>\n",
       "      <th>split1_test_score</th>\n",
       "      <th>split2_test_score</th>\n",
       "      <th>split3_test_score</th>\n",
       "      <th>split4_test_score</th>\n",
       "      <th>mean_test_score</th>\n",
       "      <th>std_test_score</th>\n",
       "      <th>rank_test_score</th>\n",
       "    </tr>\n",
       "  </thead>\n",
       "  <tbody>\n",
       "    <tr>\n",
       "      <th>0</th>\n",
       "      <td>1.590583</td>\n",
       "      <td>0.040000</td>\n",
       "      <td>0.029256</td>\n",
       "      <td>0.003684</td>\n",
       "      <td>5</td>\n",
       "      <td>10</td>\n",
       "      <td>0.5</td>\n",
       "      <td>{'depth': 5, 'iterations': 10, 'learning_rate'...</td>\n",
       "      <td>-2015.396599</td>\n",
       "      <td>-2001.641117</td>\n",
       "      <td>-2031.078637</td>\n",
       "      <td>-2030.415542</td>\n",
       "      <td>-2012.112718</td>\n",
       "      <td>-2018.128923</td>\n",
       "      <td>11.262008</td>\n",
       "      <td>12</td>\n",
       "    </tr>\n",
       "    <tr>\n",
       "      <th>1</th>\n",
       "      <td>1.502795</td>\n",
       "      <td>0.044288</td>\n",
       "      <td>0.027714</td>\n",
       "      <td>0.002013</td>\n",
       "      <td>5</td>\n",
       "      <td>10</td>\n",
       "      <td>0.7</td>\n",
       "      <td>{'depth': 5, 'iterations': 10, 'learning_rate'...</td>\n",
       "      <td>-2011.213068</td>\n",
       "      <td>-1979.675353</td>\n",
       "      <td>-2012.801058</td>\n",
       "      <td>-1998.132309</td>\n",
       "      <td>-2002.155395</td>\n",
       "      <td>-2000.795436</td>\n",
       "      <td>11.896736</td>\n",
       "      <td>11</td>\n",
       "    </tr>\n",
       "    <tr>\n",
       "      <th>2</th>\n",
       "      <td>2.328201</td>\n",
       "      <td>0.037788</td>\n",
       "      <td>0.029485</td>\n",
       "      <td>0.000951</td>\n",
       "      <td>5</td>\n",
       "      <td>25</td>\n",
       "      <td>0.5</td>\n",
       "      <td>{'depth': 5, 'iterations': 25, 'learning_rate'...</td>\n",
       "      <td>-1864.056040</td>\n",
       "      <td>-1852.845111</td>\n",
       "      <td>-1885.744714</td>\n",
       "      <td>-1886.819017</td>\n",
       "      <td>-1868.438529</td>\n",
       "      <td>-1871.580682</td>\n",
       "      <td>13.041025</td>\n",
       "      <td>10</td>\n",
       "    </tr>\n",
       "    <tr>\n",
       "      <th>3</th>\n",
       "      <td>2.350146</td>\n",
       "      <td>0.047956</td>\n",
       "      <td>0.030565</td>\n",
       "      <td>0.001395</td>\n",
       "      <td>5</td>\n",
       "      <td>25</td>\n",
       "      <td>0.7</td>\n",
       "      <td>{'depth': 5, 'iterations': 25, 'learning_rate'...</td>\n",
       "      <td>-1864.086846</td>\n",
       "      <td>-1835.738499</td>\n",
       "      <td>-1861.772271</td>\n",
       "      <td>-1864.230280</td>\n",
       "      <td>-1843.599022</td>\n",
       "      <td>-1853.885384</td>\n",
       "      <td>11.903011</td>\n",
       "      <td>9</td>\n",
       "    </tr>\n",
       "    <tr>\n",
       "      <th>4</th>\n",
       "      <td>3.195176</td>\n",
       "      <td>0.080258</td>\n",
       "      <td>0.032330</td>\n",
       "      <td>0.003143</td>\n",
       "      <td>5</td>\n",
       "      <td>40</td>\n",
       "      <td>0.5</td>\n",
       "      <td>{'depth': 5, 'iterations': 40, 'learning_rate'...</td>\n",
       "      <td>-1813.943829</td>\n",
       "      <td>-1801.653191</td>\n",
       "      <td>-1831.544690</td>\n",
       "      <td>-1829.470489</td>\n",
       "      <td>-1803.111209</td>\n",
       "      <td>-1815.944682</td>\n",
       "      <td>12.643226</td>\n",
       "      <td>6</td>\n",
       "    </tr>\n",
       "    <tr>\n",
       "      <th>5</th>\n",
       "      <td>3.240146</td>\n",
       "      <td>0.134791</td>\n",
       "      <td>0.032034</td>\n",
       "      <td>0.003159</td>\n",
       "      <td>5</td>\n",
       "      <td>40</td>\n",
       "      <td>0.7</td>\n",
       "      <td>{'depth': 5, 'iterations': 40, 'learning_rate'...</td>\n",
       "      <td>-1814.758940</td>\n",
       "      <td>-1790.717519</td>\n",
       "      <td>-1807.803107</td>\n",
       "      <td>-1814.769352</td>\n",
       "      <td>-1798.142899</td>\n",
       "      <td>-1805.238363</td>\n",
       "      <td>9.479025</td>\n",
       "      <td>5</td>\n",
       "    </tr>\n",
       "    <tr>\n",
       "      <th>6</th>\n",
       "      <td>2.042505</td>\n",
       "      <td>0.085906</td>\n",
       "      <td>0.029896</td>\n",
       "      <td>0.001513</td>\n",
       "      <td>10</td>\n",
       "      <td>10</td>\n",
       "      <td>0.5</td>\n",
       "      <td>{'depth': 10, 'iterations': 10, 'learning_rate...</td>\n",
       "      <td>-1828.362325</td>\n",
       "      <td>-1810.103925</td>\n",
       "      <td>-1833.329473</td>\n",
       "      <td>-1831.544352</td>\n",
       "      <td>-1813.013630</td>\n",
       "      <td>-1823.270741</td>\n",
       "      <td>9.737847</td>\n",
       "      <td>7</td>\n",
       "    </tr>\n",
       "    <tr>\n",
       "      <th>7</th>\n",
       "      <td>1.994957</td>\n",
       "      <td>0.030351</td>\n",
       "      <td>0.029230</td>\n",
       "      <td>0.000672</td>\n",
       "      <td>10</td>\n",
       "      <td>10</td>\n",
       "      <td>0.7</td>\n",
       "      <td>{'depth': 10, 'iterations': 10, 'learning_rate...</td>\n",
       "      <td>-1831.154861</td>\n",
       "      <td>-1809.257569</td>\n",
       "      <td>-1839.023862</td>\n",
       "      <td>-1835.963046</td>\n",
       "      <td>-1805.019141</td>\n",
       "      <td>-1824.083696</td>\n",
       "      <td>14.125156</td>\n",
       "      <td>8</td>\n",
       "    </tr>\n",
       "    <tr>\n",
       "      <th>8</th>\n",
       "      <td>3.617743</td>\n",
       "      <td>0.067287</td>\n",
       "      <td>0.033122</td>\n",
       "      <td>0.001057</td>\n",
       "      <td>10</td>\n",
       "      <td>25</td>\n",
       "      <td>0.5</td>\n",
       "      <td>{'depth': 10, 'iterations': 25, 'learning_rate...</td>\n",
       "      <td>-1746.171663</td>\n",
       "      <td>-1723.482500</td>\n",
       "      <td>-1740.498557</td>\n",
       "      <td>-1741.177592</td>\n",
       "      <td>-1729.337123</td>\n",
       "      <td>-1736.133487</td>\n",
       "      <td>8.384508</td>\n",
       "      <td>4</td>\n",
       "    </tr>\n",
       "    <tr>\n",
       "      <th>9</th>\n",
       "      <td>3.539094</td>\n",
       "      <td>0.072052</td>\n",
       "      <td>0.031856</td>\n",
       "      <td>0.000764</td>\n",
       "      <td>10</td>\n",
       "      <td>25</td>\n",
       "      <td>0.7</td>\n",
       "      <td>{'depth': 10, 'iterations': 25, 'learning_rate...</td>\n",
       "      <td>-1745.168526</td>\n",
       "      <td>-1721.713633</td>\n",
       "      <td>-1742.917370</td>\n",
       "      <td>-1740.760844</td>\n",
       "      <td>-1717.007218</td>\n",
       "      <td>-1733.513518</td>\n",
       "      <td>11.734484</td>\n",
       "      <td>3</td>\n",
       "    </tr>\n",
       "    <tr>\n",
       "      <th>10</th>\n",
       "      <td>5.056154</td>\n",
       "      <td>0.068077</td>\n",
       "      <td>0.034754</td>\n",
       "      <td>0.000985</td>\n",
       "      <td>10</td>\n",
       "      <td>40</td>\n",
       "      <td>0.5</td>\n",
       "      <td>{'depth': 10, 'iterations': 40, 'learning_rate...</td>\n",
       "      <td>-1712.114361</td>\n",
       "      <td>-1684.216292</td>\n",
       "      <td>-1700.911160</td>\n",
       "      <td>-1710.776583</td>\n",
       "      <td>-1695.149582</td>\n",
       "      <td>-1700.633596</td>\n",
       "      <td>10.337964</td>\n",
       "      <td>1</td>\n",
       "    </tr>\n",
       "    <tr>\n",
       "      <th>11</th>\n",
       "      <td>5.042997</td>\n",
       "      <td>0.073612</td>\n",
       "      <td>0.034034</td>\n",
       "      <td>0.000964</td>\n",
       "      <td>10</td>\n",
       "      <td>40</td>\n",
       "      <td>0.7</td>\n",
       "      <td>{'depth': 10, 'iterations': 40, 'learning_rate...</td>\n",
       "      <td>-1706.534901</td>\n",
       "      <td>-1689.685842</td>\n",
       "      <td>-1714.734870</td>\n",
       "      <td>-1711.786335</td>\n",
       "      <td>-1690.990372</td>\n",
       "      <td>-1702.746464</td>\n",
       "      <td>10.474531</td>\n",
       "      <td>2</td>\n",
       "    </tr>\n",
       "  </tbody>\n",
       "</table>\n",
       "</div>"
      ],
      "text/plain": [
       "    mean_fit_time  std_fit_time  mean_score_time  std_score_time param_depth  \\\n",
       "0        1.590583      0.040000         0.029256        0.003684           5   \n",
       "1        1.502795      0.044288         0.027714        0.002013           5   \n",
       "2        2.328201      0.037788         0.029485        0.000951           5   \n",
       "3        2.350146      0.047956         0.030565        0.001395           5   \n",
       "4        3.195176      0.080258         0.032330        0.003143           5   \n",
       "5        3.240146      0.134791         0.032034        0.003159           5   \n",
       "6        2.042505      0.085906         0.029896        0.001513          10   \n",
       "7        1.994957      0.030351         0.029230        0.000672          10   \n",
       "8        3.617743      0.067287         0.033122        0.001057          10   \n",
       "9        3.539094      0.072052         0.031856        0.000764          10   \n",
       "10       5.056154      0.068077         0.034754        0.000985          10   \n",
       "11       5.042997      0.073612         0.034034        0.000964          10   \n",
       "\n",
       "   param_iterations param_learning_rate  \\\n",
       "0                10                 0.5   \n",
       "1                10                 0.7   \n",
       "2                25                 0.5   \n",
       "3                25                 0.7   \n",
       "4                40                 0.5   \n",
       "5                40                 0.7   \n",
       "6                10                 0.5   \n",
       "7                10                 0.7   \n",
       "8                25                 0.5   \n",
       "9                25                 0.7   \n",
       "10               40                 0.5   \n",
       "11               40                 0.7   \n",
       "\n",
       "                                               params  split0_test_score  \\\n",
       "0   {'depth': 5, 'iterations': 10, 'learning_rate'...       -2015.396599   \n",
       "1   {'depth': 5, 'iterations': 10, 'learning_rate'...       -2011.213068   \n",
       "2   {'depth': 5, 'iterations': 25, 'learning_rate'...       -1864.056040   \n",
       "3   {'depth': 5, 'iterations': 25, 'learning_rate'...       -1864.086846   \n",
       "4   {'depth': 5, 'iterations': 40, 'learning_rate'...       -1813.943829   \n",
       "5   {'depth': 5, 'iterations': 40, 'learning_rate'...       -1814.758940   \n",
       "6   {'depth': 10, 'iterations': 10, 'learning_rate...       -1828.362325   \n",
       "7   {'depth': 10, 'iterations': 10, 'learning_rate...       -1831.154861   \n",
       "8   {'depth': 10, 'iterations': 25, 'learning_rate...       -1746.171663   \n",
       "9   {'depth': 10, 'iterations': 25, 'learning_rate...       -1745.168526   \n",
       "10  {'depth': 10, 'iterations': 40, 'learning_rate...       -1712.114361   \n",
       "11  {'depth': 10, 'iterations': 40, 'learning_rate...       -1706.534901   \n",
       "\n",
       "    split1_test_score  split2_test_score  split3_test_score  \\\n",
       "0        -2001.641117       -2031.078637       -2030.415542   \n",
       "1        -1979.675353       -2012.801058       -1998.132309   \n",
       "2        -1852.845111       -1885.744714       -1886.819017   \n",
       "3        -1835.738499       -1861.772271       -1864.230280   \n",
       "4        -1801.653191       -1831.544690       -1829.470489   \n",
       "5        -1790.717519       -1807.803107       -1814.769352   \n",
       "6        -1810.103925       -1833.329473       -1831.544352   \n",
       "7        -1809.257569       -1839.023862       -1835.963046   \n",
       "8        -1723.482500       -1740.498557       -1741.177592   \n",
       "9        -1721.713633       -1742.917370       -1740.760844   \n",
       "10       -1684.216292       -1700.911160       -1710.776583   \n",
       "11       -1689.685842       -1714.734870       -1711.786335   \n",
       "\n",
       "    split4_test_score  mean_test_score  std_test_score  rank_test_score  \n",
       "0        -2012.112718     -2018.128923       11.262008               12  \n",
       "1        -2002.155395     -2000.795436       11.896736               11  \n",
       "2        -1868.438529     -1871.580682       13.041025               10  \n",
       "3        -1843.599022     -1853.885384       11.903011                9  \n",
       "4        -1803.111209     -1815.944682       12.643226                6  \n",
       "5        -1798.142899     -1805.238363        9.479025                5  \n",
       "6        -1813.013630     -1823.270741        9.737847                7  \n",
       "7        -1805.019141     -1824.083696       14.125156                8  \n",
       "8        -1729.337123     -1736.133487        8.384508                4  \n",
       "9        -1717.007218     -1733.513518       11.734484                3  \n",
       "10       -1695.149582     -1700.633596       10.337964                1  \n",
       "11       -1690.990372     -1702.746464       10.474531                2  "
      ]
     },
     "execution_count": 60,
     "metadata": {},
     "output_type": "execute_result"
    }
   ],
   "source": [
    "# Таблица с результатами работы модели CatBoostRegressor при каждой комбинации гиперпараметров\n",
    "results_cat = pd.DataFrame(grid_cat.cv_results_)\n",
    "results_cat"
   ]
  },
  {
   "cell_type": "code",
   "execution_count": 61,
   "metadata": {},
   "outputs": [
    {
     "data": {
      "text/plain": [
       "2.95837466319402"
      ]
     },
     "execution_count": 61,
     "metadata": {},
     "output_type": "execute_result"
    }
   ],
   "source": [
    "# среднее время обучения CatBoostRegressor\n",
    "results_cat['mean_fit_time'].mean()"
   ]
  },
  {
   "cell_type": "code",
   "execution_count": 62,
   "metadata": {},
   "outputs": [
    {
     "data": {
      "text/plain": [
       "0.031189664204915365"
      ]
     },
     "execution_count": 62,
     "metadata": {},
     "output_type": "execute_result"
    }
   ],
   "source": [
    "# среднее время предсказания CatBoostRegressor\n",
    "results_cat['mean_score_time'].mean()"
   ]
  },
  {
   "cell_type": "code",
   "execution_count": 63,
   "metadata": {},
   "outputs": [
    {
     "data": {
      "text/html": [
       "<div>\n",
       "<style scoped>\n",
       "    .dataframe tbody tr th:only-of-type {\n",
       "        vertical-align: middle;\n",
       "    }\n",
       "\n",
       "    .dataframe tbody tr th {\n",
       "        vertical-align: top;\n",
       "    }\n",
       "\n",
       "    .dataframe thead th {\n",
       "        text-align: right;\n",
       "    }\n",
       "</style>\n",
       "<table border=\"1\" class=\"dataframe\">\n",
       "  <thead>\n",
       "    <tr style=\"text-align: right;\">\n",
       "      <th></th>\n",
       "      <th>mean_fit_time</th>\n",
       "      <th>std_fit_time</th>\n",
       "      <th>mean_score_time</th>\n",
       "      <th>std_score_time</th>\n",
       "      <th>param_learning_rate</th>\n",
       "      <th>param_n_estimators</th>\n",
       "      <th>params</th>\n",
       "      <th>split0_test_score</th>\n",
       "      <th>split1_test_score</th>\n",
       "      <th>split2_test_score</th>\n",
       "      <th>mean_test_score</th>\n",
       "      <th>std_test_score</th>\n",
       "      <th>rank_test_score</th>\n",
       "    </tr>\n",
       "  </thead>\n",
       "  <tbody>\n",
       "    <tr>\n",
       "      <th>0</th>\n",
       "      <td>28.751968</td>\n",
       "      <td>7.832259</td>\n",
       "      <td>0.405027</td>\n",
       "      <td>0.004414</td>\n",
       "      <td>0.1</td>\n",
       "      <td>50</td>\n",
       "      <td>{'learning_rate': 0.1, 'n_estimators': 50}</td>\n",
       "      <td>-1779.185235</td>\n",
       "      <td>-1792.340915</td>\n",
       "      <td>-1768.810028</td>\n",
       "      <td>-1780.112059</td>\n",
       "      <td>9.628773</td>\n",
       "      <td>9</td>\n",
       "    </tr>\n",
       "    <tr>\n",
       "      <th>1</th>\n",
       "      <td>26.796463</td>\n",
       "      <td>6.507141</td>\n",
       "      <td>0.569938</td>\n",
       "      <td>0.041797</td>\n",
       "      <td>0.1</td>\n",
       "      <td>70</td>\n",
       "      <td>{'learning_rate': 0.1, 'n_estimators': 70}</td>\n",
       "      <td>-1727.943838</td>\n",
       "      <td>-1741.125781</td>\n",
       "      <td>-1718.971504</td>\n",
       "      <td>-1729.347041</td>\n",
       "      <td>9.098708</td>\n",
       "      <td>8</td>\n",
       "    </tr>\n",
       "    <tr>\n",
       "      <th>2</th>\n",
       "      <td>22.063711</td>\n",
       "      <td>6.476883</td>\n",
       "      <td>0.735351</td>\n",
       "      <td>0.044394</td>\n",
       "      <td>0.1</td>\n",
       "      <td>100</td>\n",
       "      <td>{'learning_rate': 0.1, 'n_estimators': 100}</td>\n",
       "      <td>-1689.626641</td>\n",
       "      <td>-1706.385654</td>\n",
       "      <td>-1678.669493</td>\n",
       "      <td>-1691.560596</td>\n",
       "      <td>11.397413</td>\n",
       "      <td>6</td>\n",
       "    </tr>\n",
       "    <tr>\n",
       "      <th>3</th>\n",
       "      <td>2.631248</td>\n",
       "      <td>0.627980</td>\n",
       "      <td>0.298362</td>\n",
       "      <td>0.002942</td>\n",
       "      <td>0.5</td>\n",
       "      <td>50</td>\n",
       "      <td>{'learning_rate': 0.5, 'n_estimators': 50}</td>\n",
       "      <td>-1677.857585</td>\n",
       "      <td>-1702.835848</td>\n",
       "      <td>-1667.729985</td>\n",
       "      <td>-1682.807806</td>\n",
       "      <td>14.753167</td>\n",
       "      <td>4</td>\n",
       "    </tr>\n",
       "    <tr>\n",
       "      <th>4</th>\n",
       "      <td>3.030184</td>\n",
       "      <td>0.478110</td>\n",
       "      <td>0.375060</td>\n",
       "      <td>0.038804</td>\n",
       "      <td>0.5</td>\n",
       "      <td>70</td>\n",
       "      <td>{'learning_rate': 0.5, 'n_estimators': 70}</td>\n",
       "      <td>-1657.192979</td>\n",
       "      <td>-1674.918746</td>\n",
       "      <td>-1648.183674</td>\n",
       "      <td>-1660.098466</td>\n",
       "      <td>11.106227</td>\n",
       "      <td>2</td>\n",
       "    </tr>\n",
       "    <tr>\n",
       "      <th>5</th>\n",
       "      <td>3.659394</td>\n",
       "      <td>0.405724</td>\n",
       "      <td>0.499583</td>\n",
       "      <td>0.002272</td>\n",
       "      <td>0.5</td>\n",
       "      <td>100</td>\n",
       "      <td>{'learning_rate': 0.5, 'n_estimators': 100}</td>\n",
       "      <td>-1637.114844</td>\n",
       "      <td>-1655.862055</td>\n",
       "      <td>-1630.495335</td>\n",
       "      <td>-1641.157411</td>\n",
       "      <td>10.743196</td>\n",
       "      <td>1</td>\n",
       "    </tr>\n",
       "    <tr>\n",
       "      <th>6</th>\n",
       "      <td>2.836545</td>\n",
       "      <td>1.040072</td>\n",
       "      <td>0.270279</td>\n",
       "      <td>0.039984</td>\n",
       "      <td>0.7</td>\n",
       "      <td>50</td>\n",
       "      <td>{'learning_rate': 0.7, 'n_estimators': 50}</td>\n",
       "      <td>-1711.722343</td>\n",
       "      <td>-1703.118347</td>\n",
       "      <td>-1690.682199</td>\n",
       "      <td>-1701.840963</td>\n",
       "      <td>8.636963</td>\n",
       "      <td>7</td>\n",
       "    </tr>\n",
       "    <tr>\n",
       "      <th>7</th>\n",
       "      <td>2.525024</td>\n",
       "      <td>0.045464</td>\n",
       "      <td>0.309437</td>\n",
       "      <td>0.001098</td>\n",
       "      <td>0.7</td>\n",
       "      <td>70</td>\n",
       "      <td>{'learning_rate': 0.7, 'n_estimators': 70}</td>\n",
       "      <td>-1689.301996</td>\n",
       "      <td>-1693.331260</td>\n",
       "      <td>-1670.971387</td>\n",
       "      <td>-1684.534881</td>\n",
       "      <td>9.730879</td>\n",
       "      <td>5</td>\n",
       "    </tr>\n",
       "    <tr>\n",
       "      <th>8</th>\n",
       "      <td>3.226525</td>\n",
       "      <td>0.174404</td>\n",
       "      <td>0.439659</td>\n",
       "      <td>0.042428</td>\n",
       "      <td>0.7</td>\n",
       "      <td>100</td>\n",
       "      <td>{'learning_rate': 0.7, 'n_estimators': 100}</td>\n",
       "      <td>-1673.728434</td>\n",
       "      <td>-1679.600144</td>\n",
       "      <td>-1654.623745</td>\n",
       "      <td>-1669.317441</td>\n",
       "      <td>10.662950</td>\n",
       "      <td>3</td>\n",
       "    </tr>\n",
       "  </tbody>\n",
       "</table>\n",
       "</div>"
      ],
      "text/plain": [
       "   mean_fit_time  std_fit_time  mean_score_time  std_score_time  \\\n",
       "0      28.751968      7.832259         0.405027        0.004414   \n",
       "1      26.796463      6.507141         0.569938        0.041797   \n",
       "2      22.063711      6.476883         0.735351        0.044394   \n",
       "3       2.631248      0.627980         0.298362        0.002942   \n",
       "4       3.030184      0.478110         0.375060        0.038804   \n",
       "5       3.659394      0.405724         0.499583        0.002272   \n",
       "6       2.836545      1.040072         0.270279        0.039984   \n",
       "7       2.525024      0.045464         0.309437        0.001098   \n",
       "8       3.226525      0.174404         0.439659        0.042428   \n",
       "\n",
       "  param_learning_rate param_n_estimators  \\\n",
       "0                 0.1                 50   \n",
       "1                 0.1                 70   \n",
       "2                 0.1                100   \n",
       "3                 0.5                 50   \n",
       "4                 0.5                 70   \n",
       "5                 0.5                100   \n",
       "6                 0.7                 50   \n",
       "7                 0.7                 70   \n",
       "8                 0.7                100   \n",
       "\n",
       "                                        params  split0_test_score  \\\n",
       "0   {'learning_rate': 0.1, 'n_estimators': 50}       -1779.185235   \n",
       "1   {'learning_rate': 0.1, 'n_estimators': 70}       -1727.943838   \n",
       "2  {'learning_rate': 0.1, 'n_estimators': 100}       -1689.626641   \n",
       "3   {'learning_rate': 0.5, 'n_estimators': 50}       -1677.857585   \n",
       "4   {'learning_rate': 0.5, 'n_estimators': 70}       -1657.192979   \n",
       "5  {'learning_rate': 0.5, 'n_estimators': 100}       -1637.114844   \n",
       "6   {'learning_rate': 0.7, 'n_estimators': 50}       -1711.722343   \n",
       "7   {'learning_rate': 0.7, 'n_estimators': 70}       -1689.301996   \n",
       "8  {'learning_rate': 0.7, 'n_estimators': 100}       -1673.728434   \n",
       "\n",
       "   split1_test_score  split2_test_score  mean_test_score  std_test_score  \\\n",
       "0       -1792.340915       -1768.810028     -1780.112059        9.628773   \n",
       "1       -1741.125781       -1718.971504     -1729.347041        9.098708   \n",
       "2       -1706.385654       -1678.669493     -1691.560596       11.397413   \n",
       "3       -1702.835848       -1667.729985     -1682.807806       14.753167   \n",
       "4       -1674.918746       -1648.183674     -1660.098466       11.106227   \n",
       "5       -1655.862055       -1630.495335     -1641.157411       10.743196   \n",
       "6       -1703.118347       -1690.682199     -1701.840963        8.636963   \n",
       "7       -1693.331260       -1670.971387     -1684.534881        9.730879   \n",
       "8       -1679.600144       -1654.623745     -1669.317441       10.662950   \n",
       "\n",
       "   rank_test_score  \n",
       "0                9  \n",
       "1                8  \n",
       "2                6  \n",
       "3                4  \n",
       "4                2  \n",
       "5                1  \n",
       "6                7  \n",
       "7                5  \n",
       "8                3  "
      ]
     },
     "execution_count": 63,
     "metadata": {},
     "output_type": "execute_result"
    }
   ],
   "source": [
    "# Таблица с результатами работы модели LGBMRegressor при каждой комбинации гиперпараметров\n",
    "results_lgb = pd.DataFrame(grid_lgb.cv_results_)\n",
    "results_lgb"
   ]
  },
  {
   "cell_type": "code",
   "execution_count": 64,
   "metadata": {},
   "outputs": [
    {
     "data": {
      "text/plain": [
       "10.613451401392618"
      ]
     },
     "execution_count": 64,
     "metadata": {},
     "output_type": "execute_result"
    }
   ],
   "source": [
    "# среднее время обучения LGBMRegressor\n",
    "results_lgb['mean_fit_time'].mean()"
   ]
  },
  {
   "cell_type": "code",
   "execution_count": 65,
   "metadata": {},
   "outputs": [
    {
     "data": {
      "text/plain": [
       "0.4336328683076081"
      ]
     },
     "execution_count": 65,
     "metadata": {},
     "output_type": "execute_result"
    }
   ],
   "source": [
    "# среднее время предсказания LGBMRegressor\n",
    "results_lgb['mean_score_time'].mean()"
   ]
  },
  {
   "cell_type": "code",
   "execution_count": 66,
   "metadata": {},
   "outputs": [
    {
     "data": {
      "text/html": [
       "<div>\n",
       "<style scoped>\n",
       "    .dataframe tbody tr th:only-of-type {\n",
       "        vertical-align: middle;\n",
       "    }\n",
       "\n",
       "    .dataframe tbody tr th {\n",
       "        vertical-align: top;\n",
       "    }\n",
       "\n",
       "    .dataframe thead th {\n",
       "        text-align: right;\n",
       "    }\n",
       "</style>\n",
       "<table border=\"1\" class=\"dataframe\">\n",
       "  <thead>\n",
       "    <tr style=\"text-align: right;\">\n",
       "      <th></th>\n",
       "      <th>fit_time</th>\n",
       "      <th>score_time</th>\n",
       "      <th>RMSE</th>\n",
       "    </tr>\n",
       "  </thead>\n",
       "  <tbody>\n",
       "    <tr>\n",
       "      <th>DecisionTreeRegressor</th>\n",
       "      <td>0.416445</td>\n",
       "      <td>0.008393</td>\n",
       "      <td>1851.807046</td>\n",
       "    </tr>\n",
       "    <tr>\n",
       "      <th>LinearRegression</th>\n",
       "      <td>22.062555</td>\n",
       "      <td>0.262686</td>\n",
       "      <td>2663.174205</td>\n",
       "    </tr>\n",
       "    <tr>\n",
       "      <th>CatBoostRegressor</th>\n",
       "      <td>2.958375</td>\n",
       "      <td>0.031190</td>\n",
       "      <td>1700.633596</td>\n",
       "    </tr>\n",
       "    <tr>\n",
       "      <th>LGBMRegressor</th>\n",
       "      <td>10.613451</td>\n",
       "      <td>0.433633</td>\n",
       "      <td>1641.157411</td>\n",
       "    </tr>\n",
       "  </tbody>\n",
       "</table>\n",
       "</div>"
      ],
      "text/plain": [
       "                        fit_time  score_time         RMSE\n",
       "DecisionTreeRegressor   0.416445    0.008393  1851.807046\n",
       "LinearRegression       22.062555    0.262686  2663.174205\n",
       "CatBoostRegressor       2.958375    0.031190  1700.633596\n",
       "LGBMRegressor          10.613451    0.433633  1641.157411"
      ]
     },
     "execution_count": 66,
     "metadata": {},
     "output_type": "execute_result"
    }
   ],
   "source": [
    "# сведём все данные по времени обучения, предсказания и RMSE в одну таблицу\n",
    "\n",
    "df_times = pd.DataFrame({\n",
    "    'fit_time': [results['mean_fit_time'].mean(), scores['fit_time'].mean(), \n",
    "                 results_cat['mean_fit_time'].mean(), results_lgb['mean_fit_time'].mean()],\n",
    "                      \n",
    "    'score_time': [results['mean_score_time'].mean(), scores['score_time'].mean(), \n",
    "                   results_cat['mean_score_time'].mean(), results_lgb['mean_score_time'].mean()],\n",
    "    \n",
    "    'RMSE': [-results[results['rank_test_score'] == 1]['mean_test_score'].values[0],\n",
    "            -scores['test_score'].mean(),\n",
    "            -results_cat[results_cat['rank_test_score'] == 1]['mean_test_score'].values[0],\n",
    "            -results_lgb[results_lgb['rank_test_score'] == 1]['mean_test_score'].values[0]]\n",
    "                     })\n",
    "\n",
    "df_times.index = ['DecisionTreeRegressor', 'LinearRegression', 'CatBoostRegressor', 'LGBMRegressor']\n",
    "df_times"
   ]
  },
  {
   "cell_type": "markdown",
   "metadata": {},
   "source": [
    "*Наименьшее значение метрики у модели LGBMRegressor, однако наименьшее время обучения и предсказания у модели DecisionTreeRegressor. Большое различие в метриках RMSE этих моделей (1641 против 1852) делает решающим выбор в пользу качества (модели LGBMRegressor). Проверим её на тестовой выборке.*"
   ]
  },
  {
   "cell_type": "markdown",
   "metadata": {},
   "source": [
    "<div class=\"alert alert-success\">\n",
    "<h2> Комментарий ревьюера <a class=\"tocSkip\"> </h2>\n",
    "\n",
    "<b>Все отлично!👍:</b> \n",
    "\n",
    "Супер, что включил в анализ все параметры, которые требуются в ТЗ и объясняешь, почему делаешь акцент на причинах выбора лучшей модели"
   ]
  },
  {
   "cell_type": "code",
   "execution_count": 67,
   "metadata": {},
   "outputs": [
    {
     "name": "stdout",
     "output_type": "stream",
     "text": [
      "Время обучения LGBMRegressor на оптимальных гиперпараметрах: 374.4372458457947\n"
     ]
    }
   ],
   "source": [
    "# обучение лучшей модели LGBMRegressor, с указанием времени обучения\n",
    "\n",
    "best_lgb = grid_lgb.best_estimator_\n",
    "\n",
    "start = time.time()\n",
    "\n",
    "best_lgb.fit(features_train_oe, target_train)\n",
    "\n",
    "fit_test_time = time.time() - start\n",
    "\n",
    "print('Время обучения LGBMRegressor на оптимальных гиперпараметрах:', fit_test_time)"
   ]
  },
  {
   "cell_type": "code",
   "execution_count": 68,
   "metadata": {},
   "outputs": [
    {
     "name": "stdout",
     "output_type": "stream",
     "text": [
      "Время предсказания LGBMRegressor на тестовой выборке: 0.408294677734375\n",
      "\n",
      "Метрика RMSE у модели LGBMRegressor на тестовой выборке: 1630.370215086693\n"
     ]
    }
   ],
   "source": [
    "# предсказание лучшей модели LGBMRegressor на тестовой выборке, с указанием времени предсказания\n",
    "\n",
    "# кодирование features_test в OrdinalEncoding\n",
    "features_test_oe = features_test.copy()\n",
    "features_test_oe[cat_features] = enc.transform(features_test_oe[cat_features]) \n",
    "\n",
    "start = time.time()\n",
    "\n",
    "predict_lgb = best_lgb.predict(features_test_oe)\n",
    "\n",
    "score_test_time = time.time() - start\n",
    "\n",
    "rmse_test_lgb = mean_squared_error(target_test, predict_lgb, squared=False)\n",
    "\n",
    "print('Время предсказания LGBMRegressor на тестовой выборке:', score_test_time)\n",
    "print()\n",
    "print('Метрика RMSE у модели LGBMRegressor на тестовой выборке:', rmse_test_lgb)"
   ]
  },
  {
   "cell_type": "markdown",
   "metadata": {},
   "source": [
    "<div class=\"alert alert-success\">\n",
    "<h2> Комментарий ревьюера <a class=\"tocSkip\"> </h2>\n",
    "\n",
    "<b>Все отлично!👍:</b> \n",
    "\n",
    "Супер, что делаешь тестирование отдельно - все верно"
   ]
  },
  {
   "cell_type": "markdown",
   "metadata": {},
   "source": [
    "### Вывод к третьему разделу\n",
    "\n",
    "*По результатам обучения на кросс-валидации можно оцениить среднее время обучения и среднее время предсказания у каждой из моделей:*\n",
    "\n",
    "    - DecisionTreeRegressor (обучение - 0.4 с, предсказание - 0.008 с)\n",
    "    - LinearRegression\t  (обучение - 22.1 с, предсказание - 0.3 с)\n",
    "    - CatBoostRegressor     (обучение - 3 с, предсказание - 0.03 с)\n",
    "    - LGBMRegressor         (обучение - 10.6 с, предсказание - 0.4 с)\n",
    "    \n",
    "*Быстрее всех работает модель DecisionTreeRegressor. Однако, как было исследовано в предыдущем разделе, метрика RMSE лучше у модели LGBMRegressor (1641 против 1852 у DecisionTreeRegressor). Так как разница в качестве существенна, был сделан выбор в пользу более качественной модели, LGBMRegressor.*\n",
    "\n",
    "*По результатам проверки LGBMRegressor на тестовой выборке, время обучения может быть различным и варьироваться от 200 до 400 секунд, время предсказания - 0.4 с. Метрика RMSE стала 1630 евро против 1641 евро на обучающей выборке.*\n",
    "\n"
   ]
  },
  {
   "cell_type": "markdown",
   "metadata": {},
   "source": [
    "## Общий вывод\n",
    "\n",
    "*Целью исследования являлось построение модели для определения стоимости автомобиля, с учётом наилучшего качества предсказания, наименьшего времени предсказания и наименьшего времени обучения. Для реализации цели исследования выполнены следующие задачи:*\n",
    "\n",
    "\n",
    " 1. **Подготовка данных**\n",
    " \n",
    " \n",
    " 2. **Обучение различных моделей**\n",
    " \n",
    " \n",
    " 3. **Анализ моделей в разрезе времени предсказания, обучения и точности**\n",
    "  \n",
    " \n",
    " \n",
    " \n",
    " **Задача 1 \"Подготовка данных\"** \n",
    "\n",
    "\n",
    "*Исходные данные представляют собой характеристики более чем 354 тыс. автомобилей по следующим параметрам: марка и модель авто, год и месяц первоначальной регистрации, пробег, тип кузова, трансмиссии и топлива, мощность, региональная принадлежность, дата внесения в базу. Целевым признаком является цена автомобиля, которую необходимо предсказать. Подготовка данных включала в себя:*\n",
    "\n",
    "    - заполнение пропусков в данных\n",
    "    - устранение аномальных значений в данных\n",
    "    - определение существенных признаков, которые необходимы для предсказании цены автомобиля\n",
    "    \n",
    "*Пропуски заполнены в данных о типе кузова, трансмисии и топлива, наличии у машины существенного ремонта.*\n",
    "\n",
    "*Аномальные значения, в основном выбросы больших и малых значений, устранены в данных о цене автомобиля, годе и месяце первоначальной регистрации, а также мощности автомобиля.*\n",
    "\n",
    "*Для определения существенных признаков исключены из анализа данные по скачиванию анкет, внесения автомобиля в базу и последней активности пользователя, но при этом рассчитаны из этих данных число дней продажи автомобиля. Также объединены данные по марке и модели авто как отражающие наиболее объективную картину для определения цены. Исключены из признаков также почтовые индексы, так как непонятно, к какой стране они относятся.*\n",
    "\n",
    "*В результате подготовки данных удалено около 7.6% исходного датасета и сформированы признаки и целевой признак (features и target).*\n",
    "\n",
    "\n",
    "**Задача 1 \"Обучение различных моделей\"** \n",
    "\n",
    "\n",
    "*Методом кросс-валидации были обучены и посчитаны метрики RMSE (отклонения предсказанной цены автомобиля от реальной) на 2-х моделях градиентного бустинга и на 2-х моделях-небустингах:*\n",
    "\n",
    "    - RMSE на модели CatBoostRegressor - 1701 евро\n",
    "    - RMSE на модели LGBMRegressor - 1641 евро\n",
    "    - RMSE на модели DecisionTreeRegressor - 1852 евро\n",
    "    - RMSE на модели LinearRegression - 2663 евро\n",
    "    \n",
    "*Все предсказания у вышеперечисленных моделей значительно точнее предсказаний константной модели.*\n",
    "\n",
    "\n",
    "**Задача 3 \"Анализ моделей в разрезе времени предсказания, обучения и точности\"** \n",
    "\n",
    "\n",
    "*Среднее время обучения и среднее время предсказания у каждой из моделей:*\n",
    "\n",
    "    - DecisionTreeRegressor (обучение - 0.4 с, предсказание - 0.008 с)\n",
    "    - LinearRegression\t  (обучение - 22.1 с, предсказание - 0.3 с)\n",
    "    - CatBoostRegressor     (обучение - 3 с, предсказание - 0.03 с)\n",
    "    - LGBMRegressor         (обучение - 10.6 с, предсказание - 0.4 с)\n",
    "\n",
    "*По результатам оптимального сочетания времени предсказания, обучения и метрики RMSE, модель LGBMRegressor выбрана для финального тестирования.*\n",
    "\n",
    "*По результатам проверки LGBMRegressor на тестовой выборке, время обучения может быть различным и варьироваться от 200 до 400 секунд, время предсказания - 0.4 с., метрика RMSE - 1630 евро. Модель LGBMRegressor рекомендована для внедрение в приложение по предсказанию рыночной цены автомобиля.*"
   ]
  },
  {
   "cell_type": "markdown",
   "metadata": {},
   "source": [
    "<div class=\"alert alert-success\">\n",
    "<h2> Комментарий ревьюера <a class=\"tocSkip\"> </h2>\n",
    "\n",
    "<b>Все отлично!👍:</b> \n",
    "\n",
    "Молодец, что пишешь получившиеся метрики - это делает отчет более информативным. Так же супер, что пишешь основные этапы - так сразу можно понять, что было сделано и не нужно искать какую-то информацию детально в отчете"
   ]
  },
  {
   "cell_type": "markdown",
   "metadata": {},
   "source": [
    "<div style=\"border:solid Chocolate 2px; padding: 40px\">\n",
    "\n",
    "**Общий вывод по проекту (комментарий ревьера)**\n",
    "\n",
    "Спасибо за твой проект! Есть несколько моментов, помеченных красным, которые стоит исправить. Если хочешь получить ещё больше опыта - попробуй воспользоваться частью советов из желтых комментариев. В целом, логика проекта верна, так что уверен, что тебе не составит труда исправить все остальное.\n",
    "\n",
    "**Отмечу отдельные положительные моменты проекта🙂**:\n",
    "\n",
    "* Блоки кода структурированы и логичны\n",
    "* Комментирование работы по ходу отчета и объяснение решений\n",
    "* Детальная работа с данными и хороший анализ моделей\n",
    "    \n",
    "**На что стоит обратить внимание🤓**:\n",
    "\n",
    "* Деревья решений тоже стоит делать на OrdinalEncoding :)\n",
    "* Остальные рекомендации ты найдешь в моих комментариях!\n",
    "\n",
    "\n",
    "**Желаю удачи и жду твой проект на повторное ревью!**😉\n"
   ]
  },
  {
   "cell_type": "markdown",
   "metadata": {},
   "source": [
    "## Чек-лист проверки"
   ]
  },
  {
   "cell_type": "markdown",
   "metadata": {},
   "source": [
    "Поставьте 'x' в выполненных пунктах. Далее нажмите Shift+Enter."
   ]
  },
  {
   "cell_type": "markdown",
   "metadata": {},
   "source": [
    "- [x]  Jupyter Notebook открыт\n",
    "- [x]  Весь код выполняется без ошибок\n",
    "- [x]  Ячейки с кодом расположены в порядке исполнения\n",
    "- [x]  Выполнена загрузка и подготовка данных\n",
    "- [x]  Выполнено обучение моделей\n",
    "- [x]  Есть анализ скорости работы и качества моделей"
   ]
  },
  {
   "cell_type": "code",
   "execution_count": null,
   "metadata": {},
   "outputs": [],
   "source": []
  }
 ],
 "metadata": {
  "ExecuteTimeLog": [
   {
    "duration": 1595,
    "start_time": "2022-11-30T18:54:02.699Z"
   },
   {
    "duration": 2916,
    "start_time": "2022-11-30T18:54:04.296Z"
   },
   {
    "duration": 15,
    "start_time": "2022-11-30T18:54:07.214Z"
   },
   {
    "duration": 140,
    "start_time": "2022-11-30T18:54:07.231Z"
   },
   {
    "duration": 196,
    "start_time": "2022-11-30T18:54:07.372Z"
   },
   {
    "duration": 2745,
    "start_time": "2022-11-30T18:54:07.569Z"
   },
   {
    "duration": 209,
    "start_time": "2022-11-30T18:54:10.316Z"
   },
   {
    "duration": 793,
    "start_time": "2022-11-30T18:54:10.527Z"
   },
   {
    "duration": 233,
    "start_time": "2022-11-30T18:54:11.322Z"
   },
   {
    "duration": 214,
    "start_time": "2022-11-30T18:54:11.557Z"
   },
   {
    "duration": 243,
    "start_time": "2022-11-30T18:54:11.773Z"
   },
   {
    "duration": 254,
    "start_time": "2022-11-30T18:54:12.017Z"
   },
   {
    "duration": 7,
    "start_time": "2022-11-30T18:54:12.273Z"
   },
   {
    "duration": 84,
    "start_time": "2022-11-30T18:54:12.281Z"
   },
   {
    "duration": 43,
    "start_time": "2022-11-30T18:54:12.367Z"
   },
   {
    "duration": 138,
    "start_time": "2022-11-30T18:54:12.412Z"
   },
   {
    "duration": 30,
    "start_time": "2022-11-30T18:54:12.551Z"
   },
   {
    "duration": 335,
    "start_time": "2022-11-30T18:54:12.583Z"
   },
   {
    "duration": 5,
    "start_time": "2022-11-30T18:54:12.920Z"
   },
   {
    "duration": 172,
    "start_time": "2022-11-30T18:54:12.937Z"
   },
   {
    "duration": 95,
    "start_time": "2022-11-30T18:54:13.111Z"
   },
   {
    "duration": 30,
    "start_time": "2022-11-30T18:54:13.207Z"
   },
   {
    "duration": 5,
    "start_time": "2022-11-30T18:54:13.239Z"
   },
   {
    "duration": 350,
    "start_time": "2022-11-30T18:54:13.246Z"
   },
   {
    "duration": 22,
    "start_time": "2022-11-30T18:54:13.598Z"
   },
   {
    "duration": 715,
    "start_time": "2022-11-30T18:54:13.622Z"
   },
   {
    "duration": 18,
    "start_time": "2022-11-30T18:54:14.339Z"
   },
   {
    "duration": 16,
    "start_time": "2022-11-30T18:54:14.360Z"
   },
   {
    "duration": 36905,
    "start_time": "2022-11-30T18:54:14.377Z"
   },
   {
    "duration": 4,
    "start_time": "2022-11-30T19:20:18.213Z"
   },
   {
    "duration": 68939,
    "start_time": "2022-11-30T19:26:26.923Z"
   },
   {
    "duration": 4,
    "start_time": "2022-11-30T19:27:35.864Z"
   },
   {
    "duration": 188928,
    "start_time": "2022-11-30T19:31:52.009Z"
   },
   {
    "duration": 5,
    "start_time": "2022-11-30T19:35:00.939Z"
   },
   {
    "duration": 1676,
    "start_time": "2022-12-01T10:08:35.575Z"
   },
   {
    "duration": 2998,
    "start_time": "2022-12-01T10:08:37.254Z"
   },
   {
    "duration": 17,
    "start_time": "2022-12-01T10:08:40.254Z"
   },
   {
    "duration": 163,
    "start_time": "2022-12-01T10:08:40.274Z"
   },
   {
    "duration": 214,
    "start_time": "2022-12-01T10:08:40.439Z"
   },
   {
    "duration": 2992,
    "start_time": "2022-12-01T10:08:40.655Z"
   },
   {
    "duration": 219,
    "start_time": "2022-12-01T10:08:43.649Z"
   },
   {
    "duration": 899,
    "start_time": "2022-12-01T10:08:43.870Z"
   },
   {
    "duration": 263,
    "start_time": "2022-12-01T10:08:44.771Z"
   },
   {
    "duration": 259,
    "start_time": "2022-12-01T10:08:45.037Z"
   },
   {
    "duration": 262,
    "start_time": "2022-12-01T10:08:45.297Z"
   },
   {
    "duration": 276,
    "start_time": "2022-12-01T10:08:45.561Z"
   },
   {
    "duration": 17,
    "start_time": "2022-12-01T10:08:45.839Z"
   },
   {
    "duration": 72,
    "start_time": "2022-12-01T10:08:45.858Z"
   },
   {
    "duration": 61,
    "start_time": "2022-12-01T10:08:45.931Z"
   },
   {
    "duration": 160,
    "start_time": "2022-12-01T10:08:45.994Z"
   },
   {
    "duration": 35,
    "start_time": "2022-12-01T10:08:46.157Z"
   },
   {
    "duration": 362,
    "start_time": "2022-12-01T10:08:46.194Z"
   },
   {
    "duration": 6,
    "start_time": "2022-12-01T10:08:46.558Z"
   },
   {
    "duration": 202,
    "start_time": "2022-12-01T10:08:46.565Z"
   },
   {
    "duration": 111,
    "start_time": "2022-12-01T10:08:46.769Z"
   },
   {
    "duration": 21,
    "start_time": "2022-12-01T10:08:46.882Z"
   },
   {
    "duration": 7,
    "start_time": "2022-12-01T10:08:46.906Z"
   },
   {
    "duration": 426,
    "start_time": "2022-12-01T10:08:46.915Z"
   },
   {
    "duration": 27,
    "start_time": "2022-12-01T10:08:47.343Z"
   },
   {
    "duration": 986,
    "start_time": "2022-12-01T10:08:47.372Z"
   },
   {
    "duration": 28,
    "start_time": "2022-12-01T10:08:48.360Z"
   },
   {
    "duration": 23,
    "start_time": "2022-12-01T10:08:48.392Z"
   },
   {
    "duration": 200196,
    "start_time": "2022-12-01T10:08:48.418Z"
   },
   {
    "duration": 5,
    "start_time": "2022-12-01T10:12:08.616Z"
   },
   {
    "duration": 26,
    "start_time": "2022-12-01T12:23:24.140Z"
   },
   {
    "duration": 17,
    "start_time": "2022-12-01T12:27:22.669Z"
   },
   {
    "duration": 6,
    "start_time": "2022-12-01T12:29:04.006Z"
   },
   {
    "duration": 6,
    "start_time": "2022-12-01T12:29:14.088Z"
   },
   {
    "duration": 6,
    "start_time": "2022-12-01T12:29:25.200Z"
   },
   {
    "duration": 7,
    "start_time": "2022-12-01T12:30:34.177Z"
   },
   {
    "duration": 6,
    "start_time": "2022-12-01T12:34:51.821Z"
   },
   {
    "duration": 93,
    "start_time": "2022-12-01T12:37:30.025Z"
   },
   {
    "duration": 6,
    "start_time": "2022-12-01T12:39:01.866Z"
   },
   {
    "duration": 5,
    "start_time": "2022-12-01T12:45:29.665Z"
   },
   {
    "duration": 5,
    "start_time": "2022-12-01T12:47:09.468Z"
   },
   {
    "duration": 5,
    "start_time": "2022-12-01T12:48:06.051Z"
   },
   {
    "duration": 6,
    "start_time": "2022-12-01T13:10:48.554Z"
   },
   {
    "duration": 5,
    "start_time": "2022-12-01T13:12:11.243Z"
   },
   {
    "duration": 5,
    "start_time": "2022-12-01T13:12:46.181Z"
   },
   {
    "duration": 1728,
    "start_time": "2022-12-01T14:30:30.155Z"
   },
   {
    "duration": 3116,
    "start_time": "2022-12-01T14:30:31.886Z"
   },
   {
    "duration": 16,
    "start_time": "2022-12-01T14:30:35.004Z"
   },
   {
    "duration": 171,
    "start_time": "2022-12-01T14:30:35.023Z"
   },
   {
    "duration": 208,
    "start_time": "2022-12-01T14:30:35.199Z"
   },
   {
    "duration": 2966,
    "start_time": "2022-12-01T14:30:35.409Z"
   },
   {
    "duration": 233,
    "start_time": "2022-12-01T14:30:38.378Z"
   },
   {
    "duration": 976,
    "start_time": "2022-12-01T14:30:38.613Z"
   },
   {
    "duration": 318,
    "start_time": "2022-12-01T14:30:39.592Z"
   },
   {
    "duration": 255,
    "start_time": "2022-12-01T14:30:39.913Z"
   },
   {
    "duration": 283,
    "start_time": "2022-12-01T14:30:40.171Z"
   },
   {
    "duration": 307,
    "start_time": "2022-12-01T14:30:40.456Z"
   },
   {
    "duration": 8,
    "start_time": "2022-12-01T14:30:40.765Z"
   },
   {
    "duration": 88,
    "start_time": "2022-12-01T14:30:40.775Z"
   },
   {
    "duration": 45,
    "start_time": "2022-12-01T14:30:40.865Z"
   },
   {
    "duration": 168,
    "start_time": "2022-12-01T14:30:40.912Z"
   },
   {
    "duration": 33,
    "start_time": "2022-12-01T14:30:41.081Z"
   },
   {
    "duration": 451,
    "start_time": "2022-12-01T14:30:41.115Z"
   },
   {
    "duration": 8,
    "start_time": "2022-12-01T14:30:41.568Z"
   },
   {
    "duration": 233,
    "start_time": "2022-12-01T14:30:41.578Z"
   },
   {
    "duration": 105,
    "start_time": "2022-12-01T14:30:41.813Z"
   },
   {
    "duration": 17,
    "start_time": "2022-12-01T14:30:41.920Z"
   },
   {
    "duration": 28,
    "start_time": "2022-12-01T14:30:41.939Z"
   },
   {
    "duration": 410,
    "start_time": "2022-12-01T14:30:41.969Z"
   },
   {
    "duration": 25,
    "start_time": "2022-12-01T14:30:42.381Z"
   },
   {
    "duration": 679,
    "start_time": "2022-12-01T14:30:42.408Z"
   },
   {
    "duration": 14,
    "start_time": "2022-12-01T14:30:43.090Z"
   },
   {
    "duration": 205895,
    "start_time": "2022-12-01T14:30:43.107Z"
   },
   {
    "duration": 2249662,
    "start_time": "2022-12-01T14:34:09.004Z"
   },
   {
    "duration": 21,
    "start_time": "2022-12-01T15:11:38.668Z"
   },
   {
    "duration": 16,
    "start_time": "2022-12-01T15:11:38.691Z"
   },
   {
    "duration": 7,
    "start_time": "2022-12-01T15:11:38.708Z"
   },
   {
    "duration": 17,
    "start_time": "2022-12-01T15:11:38.716Z"
   },
   {
    "duration": 23,
    "start_time": "2022-12-01T15:11:38.734Z"
   },
   {
    "duration": 1651,
    "start_time": "2022-12-01T16:21:55.691Z"
   },
   {
    "duration": 1138,
    "start_time": "2022-12-01T16:21:57.345Z"
   },
   {
    "duration": 17,
    "start_time": "2022-12-01T16:21:58.485Z"
   },
   {
    "duration": 125,
    "start_time": "2022-12-01T16:21:58.504Z"
   },
   {
    "duration": 195,
    "start_time": "2022-12-01T16:21:58.631Z"
   },
   {
    "duration": 3040,
    "start_time": "2022-12-01T16:21:58.828Z"
   },
   {
    "duration": 224,
    "start_time": "2022-12-01T16:22:01.869Z"
   },
   {
    "duration": 840,
    "start_time": "2022-12-01T16:22:02.095Z"
   },
   {
    "duration": 267,
    "start_time": "2022-12-01T16:22:02.937Z"
   },
   {
    "duration": 234,
    "start_time": "2022-12-01T16:22:03.212Z"
   },
   {
    "duration": 246,
    "start_time": "2022-12-01T16:22:03.447Z"
   },
   {
    "duration": 268,
    "start_time": "2022-12-01T16:22:03.695Z"
   },
   {
    "duration": 7,
    "start_time": "2022-12-01T16:22:03.965Z"
   },
   {
    "duration": 81,
    "start_time": "2022-12-01T16:22:03.974Z"
   },
   {
    "duration": 44,
    "start_time": "2022-12-01T16:22:04.057Z"
   },
   {
    "duration": 150,
    "start_time": "2022-12-01T16:22:04.103Z"
   },
   {
    "duration": 33,
    "start_time": "2022-12-01T16:22:04.255Z"
   },
   {
    "duration": 323,
    "start_time": "2022-12-01T16:22:04.290Z"
   },
   {
    "duration": 6,
    "start_time": "2022-12-01T16:22:04.615Z"
   },
   {
    "duration": 198,
    "start_time": "2022-12-01T16:22:04.623Z"
   },
   {
    "duration": 110,
    "start_time": "2022-12-01T16:22:04.823Z"
   },
   {
    "duration": 21,
    "start_time": "2022-12-01T16:22:04.935Z"
   },
   {
    "duration": 8,
    "start_time": "2022-12-01T16:22:04.957Z"
   },
   {
    "duration": 360,
    "start_time": "2022-12-01T16:22:04.967Z"
   },
   {
    "duration": 28,
    "start_time": "2022-12-01T16:22:05.329Z"
   },
   {
    "duration": 747,
    "start_time": "2022-12-01T16:22:05.359Z"
   },
   {
    "duration": 15,
    "start_time": "2022-12-01T16:22:06.108Z"
   },
   {
    "duration": 206823,
    "start_time": "2022-12-01T16:22:06.126Z"
   },
   {
    "duration": 8534355,
    "start_time": "2022-12-01T16:25:32.951Z"
   },
   {
    "duration": 34,
    "start_time": "2022-12-01T18:47:47.308Z"
   },
   {
    "duration": 27,
    "start_time": "2022-12-01T18:47:47.344Z"
   },
   {
    "duration": 21,
    "start_time": "2022-12-01T18:47:47.374Z"
   },
   {
    "duration": 13,
    "start_time": "2022-12-01T18:47:47.398Z"
   },
   {
    "duration": 27,
    "start_time": "2022-12-01T18:47:47.414Z"
   },
   {
    "duration": 25,
    "start_time": "2022-12-01T18:49:04.352Z"
   },
   {
    "duration": 8,
    "start_time": "2022-12-01T19:01:05.414Z"
   },
   {
    "duration": 7,
    "start_time": "2022-12-01T19:01:43.933Z"
   },
   {
    "duration": 7,
    "start_time": "2022-12-01T19:01:58.516Z"
   },
   {
    "duration": 142273,
    "start_time": "2022-12-01T19:34:52.049Z"
   },
   {
    "duration": 11,
    "start_time": "2022-12-01T19:38:06.769Z"
   },
   {
    "duration": 14,
    "start_time": "2022-12-01T19:38:53.195Z"
   },
   {
    "duration": 10,
    "start_time": "2022-12-01T19:42:16.767Z"
   },
   {
    "duration": 6,
    "start_time": "2022-12-01T19:44:12.673Z"
   },
   {
    "duration": 5,
    "start_time": "2022-12-01T19:50:20.271Z"
   },
   {
    "duration": 126516,
    "start_time": "2022-12-01T19:52:58.396Z"
   },
   {
    "duration": 10,
    "start_time": "2022-12-01T19:55:04.914Z"
   },
   {
    "duration": 9,
    "start_time": "2022-12-01T19:56:32.591Z"
   },
   {
    "duration": 6,
    "start_time": "2022-12-01T19:57:05.803Z"
   },
   {
    "duration": 9,
    "start_time": "2022-12-01T19:59:16.271Z"
   },
   {
    "duration": 346,
    "start_time": "2022-12-01T20:19:52.029Z"
   },
   {
    "duration": 294,
    "start_time": "2022-12-01T20:20:27.514Z"
   },
   {
    "duration": 131857,
    "start_time": "2022-12-01T20:20:52.063Z"
   },
   {
    "duration": 4,
    "start_time": "2022-12-01T20:35:41.759Z"
   },
   {
    "duration": 5,
    "start_time": "2022-12-01T20:35:45.438Z"
   },
   {
    "duration": 4,
    "start_time": "2022-12-01T20:38:47.088Z"
   },
   {
    "duration": 4,
    "start_time": "2022-12-01T21:15:02.305Z"
   },
   {
    "duration": 4,
    "start_time": "2022-12-01T21:15:49.366Z"
   },
   {
    "duration": 86,
    "start_time": "2022-12-01T21:29:27.869Z"
   },
   {
    "duration": 4,
    "start_time": "2022-12-01T21:36:50.895Z"
   },
   {
    "duration": 49183,
    "start_time": "2022-12-01T22:01:41.540Z"
   },
   {
    "duration": 48697,
    "start_time": "2022-12-01T22:09:57.495Z"
   },
   {
    "duration": 90379,
    "start_time": "2022-12-01T22:18:32.639Z"
   },
   {
    "duration": 174840,
    "start_time": "2022-12-01T22:21:00.809Z"
   },
   {
    "duration": 18,
    "start_time": "2022-12-01T22:31:53.772Z"
   },
   {
    "duration": 21,
    "start_time": "2022-12-01T22:32:23.590Z"
   },
   {
    "duration": 6,
    "start_time": "2022-12-01T22:54:41.892Z"
   },
   {
    "duration": 2365,
    "start_time": "2022-12-01T23:20:18.089Z"
   },
   {
    "duration": 82643,
    "start_time": "2022-12-01T23:21:46.932Z"
   },
   {
    "duration": 372455,
    "start_time": "2022-12-01T23:23:38.964Z"
   },
   {
    "duration": 20,
    "start_time": "2022-12-01T23:59:31.565Z"
   },
   {
    "duration": 13,
    "start_time": "2022-12-02T00:02:01.754Z"
   },
   {
    "duration": 22156,
    "start_time": "2022-12-02T00:03:56.484Z"
   },
   {
    "duration": 1469,
    "start_time": "2022-12-02T09:23:57.174Z"
   },
   {
    "duration": 1159,
    "start_time": "2022-12-02T09:23:58.645Z"
   },
   {
    "duration": 14,
    "start_time": "2022-12-02T09:23:59.806Z"
   },
   {
    "duration": 138,
    "start_time": "2022-12-02T09:23:59.822Z"
   },
   {
    "duration": 185,
    "start_time": "2022-12-02T09:23:59.962Z"
   },
   {
    "duration": 2698,
    "start_time": "2022-12-02T09:24:00.148Z"
   },
   {
    "duration": 200,
    "start_time": "2022-12-02T09:24:02.847Z"
   },
   {
    "duration": 833,
    "start_time": "2022-12-02T09:24:03.048Z"
   },
   {
    "duration": 248,
    "start_time": "2022-12-02T09:24:03.882Z"
   },
   {
    "duration": 207,
    "start_time": "2022-12-02T09:24:04.135Z"
   },
   {
    "duration": 294,
    "start_time": "2022-12-02T09:24:04.344Z"
   },
   {
    "duration": 183,
    "start_time": "2022-12-02T09:24:04.640Z"
   },
   {
    "duration": 14,
    "start_time": "2022-12-02T09:24:04.825Z"
   },
   {
    "duration": 86,
    "start_time": "2022-12-02T09:24:04.840Z"
   },
   {
    "duration": 47,
    "start_time": "2022-12-02T09:24:04.928Z"
   },
   {
    "duration": 153,
    "start_time": "2022-12-02T09:24:04.977Z"
   },
   {
    "duration": 30,
    "start_time": "2022-12-02T09:24:05.134Z"
   },
   {
    "duration": 345,
    "start_time": "2022-12-02T09:24:05.165Z"
   },
   {
    "duration": 5,
    "start_time": "2022-12-02T09:24:05.512Z"
   },
   {
    "duration": 203,
    "start_time": "2022-12-02T09:24:05.519Z"
   },
   {
    "duration": 98,
    "start_time": "2022-12-02T09:24:05.724Z"
   },
   {
    "duration": 27,
    "start_time": "2022-12-02T09:24:05.824Z"
   },
   {
    "duration": 25,
    "start_time": "2022-12-02T09:24:05.853Z"
   },
   {
    "duration": 380,
    "start_time": "2022-12-02T09:24:05.881Z"
   },
   {
    "duration": 24,
    "start_time": "2022-12-02T09:24:06.263Z"
   },
   {
    "duration": 727,
    "start_time": "2022-12-02T09:24:06.290Z"
   },
   {
    "duration": 25,
    "start_time": "2022-12-02T09:24:07.019Z"
   },
   {
    "duration": 204608,
    "start_time": "2022-12-02T09:24:07.046Z"
   },
   {
    "duration": 150406,
    "start_time": "2022-12-02T09:27:31.656Z"
   },
   {
    "duration": 197677,
    "start_time": "2022-12-02T09:30:02.136Z"
   },
   {
    "duration": 119,
    "start_time": "2022-12-02T09:35:49.099Z"
   },
   {
    "duration": 940562,
    "start_time": "2022-12-02T09:36:41.892Z"
   },
   {
    "duration": 60439,
    "start_time": "2022-12-02T09:52:36.769Z"
   },
   {
    "duration": 1531,
    "start_time": "2022-12-02T09:53:47.503Z"
   },
   {
    "duration": 925,
    "start_time": "2022-12-02T09:53:49.038Z"
   },
   {
    "duration": 24,
    "start_time": "2022-12-02T09:53:49.966Z"
   },
   {
    "duration": 178,
    "start_time": "2022-12-02T09:53:49.993Z"
   },
   {
    "duration": 209,
    "start_time": "2022-12-02T09:53:50.173Z"
   },
   {
    "duration": 2991,
    "start_time": "2022-12-02T09:53:50.383Z"
   },
   {
    "duration": 240,
    "start_time": "2022-12-02T09:53:53.376Z"
   },
   {
    "duration": 986,
    "start_time": "2022-12-02T09:53:53.618Z"
   },
   {
    "duration": 264,
    "start_time": "2022-12-02T09:53:54.606Z"
   },
   {
    "duration": 219,
    "start_time": "2022-12-02T09:53:54.873Z"
   },
   {
    "duration": 328,
    "start_time": "2022-12-02T09:53:55.093Z"
   },
   {
    "duration": 183,
    "start_time": "2022-12-02T09:53:55.423Z"
   },
   {
    "duration": 9,
    "start_time": "2022-12-02T09:53:55.608Z"
   },
   {
    "duration": 84,
    "start_time": "2022-12-02T09:53:55.619Z"
   },
   {
    "duration": 54,
    "start_time": "2022-12-02T09:53:55.706Z"
   },
   {
    "duration": 145,
    "start_time": "2022-12-02T09:53:55.762Z"
   },
   {
    "duration": 45,
    "start_time": "2022-12-02T09:53:55.909Z"
   },
   {
    "duration": 418,
    "start_time": "2022-12-02T09:53:55.956Z"
   },
   {
    "duration": 22,
    "start_time": "2022-12-02T09:53:56.377Z"
   },
   {
    "duration": 187,
    "start_time": "2022-12-02T09:53:56.402Z"
   },
   {
    "duration": 112,
    "start_time": "2022-12-02T09:53:56.591Z"
   },
   {
    "duration": 32,
    "start_time": "2022-12-02T09:53:56.706Z"
   },
   {
    "duration": 26,
    "start_time": "2022-12-02T09:53:56.740Z"
   },
   {
    "duration": 451,
    "start_time": "2022-12-02T09:53:56.769Z"
   },
   {
    "duration": 29,
    "start_time": "2022-12-02T09:53:57.221Z"
   },
   {
    "duration": 729,
    "start_time": "2022-12-02T09:53:57.251Z"
   },
   {
    "duration": 17,
    "start_time": "2022-12-02T09:53:57.982Z"
   },
   {
    "duration": 202049,
    "start_time": "2022-12-02T09:53:58.004Z"
   },
   {
    "duration": 196380,
    "start_time": "2022-12-02T09:57:20.056Z"
   },
   {
    "duration": 187949,
    "start_time": "2022-12-02T10:00:36.438Z"
   },
   {
    "duration": 402576,
    "start_time": "2022-12-02T10:03:44.388Z"
   },
   {
    "duration": 7,
    "start_time": "2022-12-02T10:10:26.966Z"
   },
   {
    "duration": 17,
    "start_time": "2022-12-02T10:10:26.975Z"
   },
   {
    "duration": 17,
    "start_time": "2022-12-02T10:10:26.994Z"
   },
   {
    "duration": 11,
    "start_time": "2022-12-02T10:10:27.013Z"
   },
   {
    "duration": 12,
    "start_time": "2022-12-02T10:10:27.026Z"
   },
   {
    "duration": 11,
    "start_time": "2022-12-02T10:10:27.040Z"
   },
   {
    "duration": 22,
    "start_time": "2022-12-02T10:10:27.053Z"
   },
   {
    "duration": 26,
    "start_time": "2022-12-02T10:10:27.077Z"
   },
   {
    "duration": 19,
    "start_time": "2022-12-02T10:10:27.106Z"
   },
   {
    "duration": 12,
    "start_time": "2022-12-02T10:10:27.127Z"
   },
   {
    "duration": 23,
    "start_time": "2022-12-02T10:11:22.394Z"
   },
   {
    "duration": 5,
    "start_time": "2022-12-02T10:21:08.961Z"
   },
   {
    "duration": 1097254,
    "start_time": "2022-12-02T10:28:03.200Z"
   },
   {
    "duration": 125355,
    "start_time": "2022-12-02T11:05:22.286Z"
   },
   {
    "duration": 239108,
    "start_time": "2022-12-02T11:07:33.529Z"
   },
   {
    "duration": 33495,
    "start_time": "2022-12-02T11:18:56.150Z"
   },
   {
    "duration": 184913,
    "start_time": "2022-12-02T11:21:08.665Z"
   },
   {
    "duration": 25,
    "start_time": "2022-12-02T11:28:50.751Z"
   },
   {
    "duration": 52,
    "start_time": "2022-12-02T11:32:35.339Z"
   },
   {
    "duration": 5,
    "start_time": "2022-12-02T11:32:53.941Z"
   },
   {
    "duration": 676,
    "start_time": "2022-12-02T11:37:32.561Z"
   },
   {
    "duration": 2261574,
    "start_time": "2022-12-02T11:40:35.661Z"
   },
   {
    "duration": 572,
    "start_time": "2022-12-02T12:18:22.728Z"
   },
   {
    "duration": 186469,
    "start_time": "2022-12-02T12:19:54.650Z"
   },
   {
    "duration": 1898,
    "start_time": "2022-12-02T12:25:51.561Z"
   },
   {
    "duration": 987,
    "start_time": "2022-12-02T12:25:53.461Z"
   },
   {
    "duration": 32,
    "start_time": "2022-12-02T12:25:54.450Z"
   },
   {
    "duration": 197,
    "start_time": "2022-12-02T12:25:54.485Z"
   },
   {
    "duration": 236,
    "start_time": "2022-12-02T12:25:54.684Z"
   },
   {
    "duration": 4268,
    "start_time": "2022-12-02T12:25:54.922Z"
   },
   {
    "duration": 240,
    "start_time": "2022-12-02T12:25:59.192Z"
   },
   {
    "duration": 871,
    "start_time": "2022-12-02T12:25:59.435Z"
   },
   {
    "duration": 245,
    "start_time": "2022-12-02T12:26:00.309Z"
   },
   {
    "duration": 229,
    "start_time": "2022-12-02T12:26:00.557Z"
   },
   {
    "duration": 338,
    "start_time": "2022-12-02T12:26:00.788Z"
   },
   {
    "duration": 203,
    "start_time": "2022-12-02T12:26:01.128Z"
   },
   {
    "duration": 8,
    "start_time": "2022-12-02T12:26:01.333Z"
   },
   {
    "duration": 128,
    "start_time": "2022-12-02T12:26:01.342Z"
   },
   {
    "duration": 53,
    "start_time": "2022-12-02T12:26:01.473Z"
   },
   {
    "duration": 150,
    "start_time": "2022-12-02T12:26:01.536Z"
   },
   {
    "duration": 47,
    "start_time": "2022-12-02T12:26:01.688Z"
   },
   {
    "duration": 417,
    "start_time": "2022-12-02T12:26:01.738Z"
   },
   {
    "duration": 7,
    "start_time": "2022-12-02T12:26:02.158Z"
   },
   {
    "duration": 353,
    "start_time": "2022-12-02T12:26:02.167Z"
   },
   {
    "duration": 153,
    "start_time": "2022-12-02T12:26:02.522Z"
   },
   {
    "duration": 27,
    "start_time": "2022-12-02T12:26:02.678Z"
   },
   {
    "duration": 29,
    "start_time": "2022-12-02T12:26:02.707Z"
   },
   {
    "duration": 394,
    "start_time": "2022-12-02T12:26:02.738Z"
   },
   {
    "duration": 31,
    "start_time": "2022-12-02T12:26:03.135Z"
   },
   {
    "duration": 801,
    "start_time": "2022-12-02T12:26:03.168Z"
   },
   {
    "duration": 17,
    "start_time": "2022-12-02T12:26:03.971Z"
   },
   {
    "duration": 199119,
    "start_time": "2022-12-02T12:26:03.995Z"
   },
   {
    "duration": 131321,
    "start_time": "2022-12-02T12:29:23.115Z"
   },
   {
    "duration": 190952,
    "start_time": "2022-12-02T12:31:34.438Z"
   },
   {
    "duration": 585,
    "start_time": "2022-12-02T12:34:45.392Z"
   },
   {
    "duration": 279962,
    "start_time": "2022-12-02T12:34:45.980Z"
   },
   {
    "duration": 6,
    "start_time": "2022-12-02T12:39:25.944Z"
   },
   {
    "duration": 28,
    "start_time": "2022-12-02T12:39:25.952Z"
   },
   {
    "duration": 55,
    "start_time": "2022-12-02T12:39:25.981Z"
   },
   {
    "duration": 5,
    "start_time": "2022-12-02T12:39:26.038Z"
   },
   {
    "duration": 25,
    "start_time": "2022-12-02T12:39:26.045Z"
   },
   {
    "duration": 19,
    "start_time": "2022-12-02T12:39:26.072Z"
   },
   {
    "duration": 7,
    "start_time": "2022-12-02T12:39:26.093Z"
   },
   {
    "duration": 25,
    "start_time": "2022-12-02T12:39:26.101Z"
   },
   {
    "duration": 28,
    "start_time": "2022-12-02T12:39:26.127Z"
   },
   {
    "duration": 11,
    "start_time": "2022-12-02T12:39:26.157Z"
   },
   {
    "duration": 29,
    "start_time": "2022-12-02T12:39:26.169Z"
   },
   {
    "duration": 1404282,
    "start_time": "2022-12-02T13:41:36.363Z"
   },
   {
    "duration": 1555299,
    "start_time": "2022-12-02T14:09:43.939Z"
   },
   {
    "duration": 19,
    "start_time": "2022-12-02T14:35:39.241Z"
   },
   {
    "duration": 107,
    "start_time": "2022-12-02T14:45:35.535Z"
   },
   {
    "duration": 898,
    "start_time": "2022-12-02T15:07:31.443Z"
   },
   {
    "duration": 111,
    "start_time": "2022-12-02T15:07:49.336Z"
   },
   {
    "duration": 29201,
    "start_time": "2022-12-02T15:09:22.335Z"
   },
   {
    "duration": 2422,
    "start_time": "2022-12-02T15:10:12.714Z"
   },
   {
    "duration": 22053,
    "start_time": "2022-12-02T15:10:55.594Z"
   },
   {
    "duration": 39118,
    "start_time": "2022-12-02T15:14:33.126Z"
   },
   {
    "duration": 1032812,
    "start_time": "2022-12-02T15:17:09.624Z"
   },
   {
    "duration": 9,
    "start_time": "2022-12-02T18:39:40.610Z"
   },
   {
    "duration": 3,
    "start_time": "2022-12-02T18:39:54.870Z"
   },
   {
    "duration": 4,
    "start_time": "2022-12-02T18:40:12.670Z"
   },
   {
    "duration": 4,
    "start_time": "2022-12-02T18:40:16.898Z"
   },
   {
    "duration": 7,
    "start_time": "2022-12-02T22:38:42.774Z"
   },
   {
    "duration": 12,
    "start_time": "2022-12-02T22:40:01.310Z"
   },
   {
    "duration": 363,
    "start_time": "2022-12-02T23:08:33.162Z"
   },
   {
    "duration": 510,
    "start_time": "2022-12-02T23:13:00.959Z"
   },
   {
    "duration": 6,
    "start_time": "2022-12-03T06:43:59.602Z"
   },
   {
    "duration": 1563,
    "start_time": "2022-12-03T06:44:25.324Z"
   },
   {
    "duration": 1082,
    "start_time": "2022-12-03T06:44:26.890Z"
   },
   {
    "duration": 15,
    "start_time": "2022-12-03T06:44:27.974Z"
   },
   {
    "duration": 140,
    "start_time": "2022-12-03T06:44:27.991Z"
   },
   {
    "duration": 182,
    "start_time": "2022-12-03T06:44:28.133Z"
   },
   {
    "duration": 2509,
    "start_time": "2022-12-03T06:44:28.321Z"
   },
   {
    "duration": 200,
    "start_time": "2022-12-03T06:44:30.831Z"
   },
   {
    "duration": 738,
    "start_time": "2022-12-03T06:44:31.033Z"
   },
   {
    "duration": 226,
    "start_time": "2022-12-03T06:44:31.773Z"
   },
   {
    "duration": 202,
    "start_time": "2022-12-03T06:44:32.001Z"
   },
   {
    "duration": 281,
    "start_time": "2022-12-03T06:44:32.204Z"
   },
   {
    "duration": 166,
    "start_time": "2022-12-03T06:44:32.486Z"
   },
   {
    "duration": 7,
    "start_time": "2022-12-03T06:44:32.653Z"
   },
   {
    "duration": 80,
    "start_time": "2022-12-03T06:44:32.661Z"
   },
   {
    "duration": 40,
    "start_time": "2022-12-03T06:44:32.743Z"
   },
   {
    "duration": 136,
    "start_time": "2022-12-03T06:44:32.785Z"
   },
   {
    "duration": 29,
    "start_time": "2022-12-03T06:44:32.922Z"
   },
   {
    "duration": 337,
    "start_time": "2022-12-03T06:44:32.953Z"
   },
   {
    "duration": 10,
    "start_time": "2022-12-03T06:44:33.292Z"
   },
   {
    "duration": 243,
    "start_time": "2022-12-03T06:44:33.304Z"
   },
   {
    "duration": 93,
    "start_time": "2022-12-03T06:44:33.548Z"
   },
   {
    "duration": 19,
    "start_time": "2022-12-03T06:44:33.642Z"
   },
   {
    "duration": 321,
    "start_time": "2022-12-03T06:44:33.662Z"
   },
   {
    "duration": 589,
    "start_time": "2022-12-03T06:44:33.984Z"
   },
   {
    "duration": 177782,
    "start_time": "2022-12-03T06:44:34.574Z"
   },
   {
    "duration": 142669,
    "start_time": "2022-12-03T06:47:32.358Z"
   },
   {
    "duration": 160053,
    "start_time": "2022-12-03T06:49:55.029Z"
   },
   {
    "duration": 565,
    "start_time": "2022-12-03T06:52:35.085Z"
   },
   {
    "duration": 82671,
    "start_time": "2022-12-03T06:52:35.652Z"
   },
   {
    "duration": 5,
    "start_time": "2022-12-03T06:53:58.325Z"
   },
   {
    "duration": 24,
    "start_time": "2022-12-03T06:53:58.332Z"
   },
   {
    "duration": 10,
    "start_time": "2022-12-03T06:53:58.357Z"
   },
   {
    "duration": 11,
    "start_time": "2022-12-03T06:53:58.368Z"
   },
   {
    "duration": 16,
    "start_time": "2022-12-03T06:53:58.380Z"
   },
   {
    "duration": 9,
    "start_time": "2022-12-03T06:53:58.397Z"
   },
   {
    "duration": 14,
    "start_time": "2022-12-03T06:53:58.407Z"
   },
   {
    "duration": 6,
    "start_time": "2022-12-03T06:53:58.423Z"
   },
   {
    "duration": 21,
    "start_time": "2022-12-03T06:53:58.430Z"
   },
   {
    "duration": 17,
    "start_time": "2022-12-03T06:53:58.453Z"
   },
   {
    "duration": 19,
    "start_time": "2022-12-03T06:53:58.472Z"
   },
   {
    "duration": 181464,
    "start_time": "2022-12-03T06:58:10.865Z"
   },
   {
    "duration": 20,
    "start_time": "2022-12-03T07:06:25.370Z"
   },
   {
    "duration": 52,
    "start_time": "2022-12-03T07:12:01.096Z"
   },
   {
    "duration": 46,
    "start_time": "2022-12-03T07:13:02.656Z"
   },
   {
    "duration": 88,
    "start_time": "2022-12-03T07:13:52.873Z"
   },
   {
    "duration": 90,
    "start_time": "2022-12-03T07:14:34.329Z"
   },
   {
    "duration": 8,
    "start_time": "2022-12-03T07:15:59.875Z"
   },
   {
    "duration": 19,
    "start_time": "2022-12-03T07:44:37.506Z"
   },
   {
    "duration": 4,
    "start_time": "2022-12-03T07:48:20.653Z"
   },
   {
    "duration": 4,
    "start_time": "2022-12-03T07:50:34.023Z"
   },
   {
    "duration": 8,
    "start_time": "2022-12-03T07:52:05.617Z"
   },
   {
    "duration": 4,
    "start_time": "2022-12-03T07:56:44.485Z"
   },
   {
    "duration": 4,
    "start_time": "2022-12-03T07:57:08.789Z"
   },
   {
    "duration": 22,
    "start_time": "2022-12-03T07:58:18.650Z"
   },
   {
    "duration": 5,
    "start_time": "2022-12-03T07:59:50.871Z"
   },
   {
    "duration": 4,
    "start_time": "2022-12-03T07:59:51.439Z"
   },
   {
    "duration": 15,
    "start_time": "2022-12-03T08:01:06.698Z"
   },
   {
    "duration": 4,
    "start_time": "2022-12-03T08:02:01.730Z"
   },
   {
    "duration": 4,
    "start_time": "2022-12-03T08:02:02.387Z"
   },
   {
    "duration": 48,
    "start_time": "2022-12-03T08:08:02.048Z"
   },
   {
    "duration": 8,
    "start_time": "2022-12-03T08:08:18.858Z"
   },
   {
    "duration": 8,
    "start_time": "2022-12-03T08:09:36.803Z"
   },
   {
    "duration": 18,
    "start_time": "2022-12-03T08:15:13.794Z"
   },
   {
    "duration": 11,
    "start_time": "2022-12-03T08:17:43.722Z"
   },
   {
    "duration": 6,
    "start_time": "2022-12-03T08:23:06.063Z"
   },
   {
    "duration": 5,
    "start_time": "2022-12-03T08:23:18.545Z"
   },
   {
    "duration": 7,
    "start_time": "2022-12-03T08:24:20.024Z"
   },
   {
    "duration": 4,
    "start_time": "2022-12-03T08:25:24.617Z"
   },
   {
    "duration": 52,
    "start_time": "2022-12-03T08:26:34.069Z"
   },
   {
    "duration": 14,
    "start_time": "2022-12-03T08:27:13.572Z"
   },
   {
    "duration": 4,
    "start_time": "2022-12-03T08:37:58.343Z"
   },
   {
    "duration": 5,
    "start_time": "2022-12-03T08:43:00.733Z"
   },
   {
    "duration": 3,
    "start_time": "2022-12-03T08:44:37.526Z"
   },
   {
    "duration": 4,
    "start_time": "2022-12-03T08:45:16.550Z"
   },
   {
    "duration": 5953,
    "start_time": "2022-12-03T08:50:45.163Z"
   },
   {
    "duration": 61,
    "start_time": "2022-12-03T09:02:11.575Z"
   },
   {
    "duration": 7,
    "start_time": "2022-12-03T09:20:42.132Z"
   },
   {
    "duration": 1282,
    "start_time": "2022-12-03T10:37:15.362Z"
   },
   {
    "duration": 796,
    "start_time": "2022-12-03T10:37:16.646Z"
   },
   {
    "duration": 14,
    "start_time": "2022-12-03T10:37:17.443Z"
   },
   {
    "duration": 133,
    "start_time": "2022-12-03T10:37:17.458Z"
   },
   {
    "duration": 174,
    "start_time": "2022-12-03T10:37:17.593Z"
   },
   {
    "duration": 2477,
    "start_time": "2022-12-03T10:37:17.769Z"
   },
   {
    "duration": 202,
    "start_time": "2022-12-03T10:37:20.248Z"
   },
   {
    "duration": 749,
    "start_time": "2022-12-03T10:37:20.452Z"
   },
   {
    "duration": 227,
    "start_time": "2022-12-03T10:37:21.203Z"
   },
   {
    "duration": 218,
    "start_time": "2022-12-03T10:37:21.433Z"
   },
   {
    "duration": 285,
    "start_time": "2022-12-03T10:37:21.653Z"
   },
   {
    "duration": 163,
    "start_time": "2022-12-03T10:37:21.940Z"
   },
   {
    "duration": 7,
    "start_time": "2022-12-03T10:37:22.104Z"
   },
   {
    "duration": 81,
    "start_time": "2022-12-03T10:37:22.121Z"
   },
   {
    "duration": 43,
    "start_time": "2022-12-03T10:37:22.204Z"
   },
   {
    "duration": 127,
    "start_time": "2022-12-03T10:37:22.249Z"
   },
   {
    "duration": 30,
    "start_time": "2022-12-03T10:37:22.378Z"
   },
   {
    "duration": 349,
    "start_time": "2022-12-03T10:37:22.410Z"
   },
   {
    "duration": 10,
    "start_time": "2022-12-03T10:37:22.761Z"
   },
   {
    "duration": 190,
    "start_time": "2022-12-03T10:37:22.773Z"
   },
   {
    "duration": 9,
    "start_time": "2022-12-03T10:37:22.964Z"
   },
   {
    "duration": 101,
    "start_time": "2022-12-03T10:37:22.974Z"
   },
   {
    "duration": 16,
    "start_time": "2022-12-03T10:37:23.077Z"
   },
   {
    "duration": 337,
    "start_time": "2022-12-03T10:37:23.094Z"
   },
   {
    "duration": 601,
    "start_time": "2022-12-03T10:37:23.433Z"
   },
   {
    "duration": 181044,
    "start_time": "2022-12-03T10:37:24.035Z"
   },
   {
    "duration": 100542,
    "start_time": "2022-12-03T10:40:25.081Z"
   },
   {
    "duration": 161753,
    "start_time": "2022-12-03T10:42:05.628Z"
   },
   {
    "duration": 502,
    "start_time": "2022-12-03T10:44:47.383Z"
   },
   {
    "duration": 93541,
    "start_time": "2022-12-03T10:44:47.887Z"
   },
   {
    "duration": 7,
    "start_time": "2022-12-03T10:46:21.429Z"
   },
   {
    "duration": 20,
    "start_time": "2022-12-03T10:46:21.437Z"
   },
   {
    "duration": 65,
    "start_time": "2022-12-03T10:46:21.458Z"
   },
   {
    "duration": 10,
    "start_time": "2022-12-03T10:46:21.524Z"
   },
   {
    "duration": 11,
    "start_time": "2022-12-03T10:46:21.535Z"
   },
   {
    "duration": 8,
    "start_time": "2022-12-03T10:46:21.548Z"
   },
   {
    "duration": 9,
    "start_time": "2022-12-03T10:46:21.559Z"
   },
   {
    "duration": 44,
    "start_time": "2022-12-03T10:46:21.569Z"
   },
   {
    "duration": 8,
    "start_time": "2022-12-03T10:46:21.615Z"
   },
   {
    "duration": 7,
    "start_time": "2022-12-03T10:46:21.624Z"
   },
   {
    "duration": 24,
    "start_time": "2022-12-03T10:46:21.632Z"
   },
   {
    "duration": 8,
    "start_time": "2022-12-03T10:46:21.658Z"
   },
   {
    "duration": 6,
    "start_time": "2022-12-03T10:46:21.667Z"
   },
   {
    "duration": 15,
    "start_time": "2022-12-03T10:46:21.675Z"
   },
   {
    "duration": 5624,
    "start_time": "2022-12-03T10:46:21.691Z"
   },
   {
    "duration": 60,
    "start_time": "2022-12-03T10:46:27.317Z"
   },
   {
    "duration": 1611,
    "start_time": "2022-12-05T22:12:44.368Z"
   },
   {
    "duration": 3021,
    "start_time": "2022-12-05T22:12:48.748Z"
   },
   {
    "duration": 15,
    "start_time": "2022-12-05T22:12:52.455Z"
   },
   {
    "duration": 125,
    "start_time": "2022-12-05T22:12:56.371Z"
   },
   {
    "duration": 175,
    "start_time": "2022-12-05T22:13:03.444Z"
   },
   {
    "duration": 2464,
    "start_time": "2022-12-05T22:14:15.872Z"
   },
   {
    "duration": 195,
    "start_time": "2022-12-05T22:14:22.166Z"
   },
   {
    "duration": 756,
    "start_time": "2022-12-05T22:20:54.672Z"
   },
   {
    "duration": 218,
    "start_time": "2022-12-05T22:27:18.629Z"
   },
   {
    "duration": 118,
    "start_time": "2022-12-05T22:41:19.329Z"
   },
   {
    "duration": 20,
    "start_time": "2022-12-05T22:41:27.313Z"
   },
   {
    "duration": 43,
    "start_time": "2022-12-05T22:44:49.048Z"
   },
   {
    "duration": 30,
    "start_time": "2022-12-05T22:50:13.491Z"
   },
   {
    "duration": 21,
    "start_time": "2022-12-05T22:51:36.036Z"
   },
   {
    "duration": 242,
    "start_time": "2022-12-05T23:18:42.009Z"
   },
   {
    "duration": 4,
    "start_time": "2022-12-05T23:20:46.267Z"
   },
   {
    "duration": 3,
    "start_time": "2022-12-05T23:23:16.272Z"
   },
   {
    "duration": 708,
    "start_time": "2022-12-05T23:23:16.752Z"
   },
   {
    "duration": 18,
    "start_time": "2022-12-05T23:23:17.462Z"
   },
   {
    "duration": 117,
    "start_time": "2022-12-05T23:23:17.565Z"
   },
   {
    "duration": 167,
    "start_time": "2022-12-05T23:23:18.566Z"
   },
   {
    "duration": 2438,
    "start_time": "2022-12-05T23:23:20.965Z"
   },
   {
    "duration": 192,
    "start_time": "2022-12-05T23:23:23.406Z"
   },
   {
    "duration": 738,
    "start_time": "2022-12-05T23:23:23.599Z"
   },
   {
    "duration": 205,
    "start_time": "2022-12-05T23:23:26.297Z"
   },
   {
    "duration": 71,
    "start_time": "2022-12-05T23:23:37.102Z"
   },
   {
    "duration": 53,
    "start_time": "2022-12-05T23:23:38.898Z"
   },
   {
    "duration": 8,
    "start_time": "2022-12-05T23:24:10.391Z"
   },
   {
    "duration": 5,
    "start_time": "2022-12-05T23:24:48.142Z"
   },
   {
    "duration": 228,
    "start_time": "2022-12-05T23:25:57.114Z"
   },
   {
    "duration": 6,
    "start_time": "2022-12-05T23:26:14.265Z"
   },
   {
    "duration": 33,
    "start_time": "2022-12-05T23:28:44.974Z"
   },
   {
    "duration": 6,
    "start_time": "2022-12-05T23:28:50.452Z"
   },
   {
    "duration": 45,
    "start_time": "2022-12-06T09:16:42.411Z"
   },
   {
    "duration": 1667,
    "start_time": "2022-12-06T09:16:51.752Z"
   },
   {
    "duration": 2869,
    "start_time": "2022-12-06T09:16:53.421Z"
   },
   {
    "duration": 14,
    "start_time": "2022-12-06T09:16:56.292Z"
   },
   {
    "duration": 117,
    "start_time": "2022-12-06T09:16:56.308Z"
   },
   {
    "duration": 173,
    "start_time": "2022-12-06T09:16:56.426Z"
   },
   {
    "duration": 2541,
    "start_time": "2022-12-06T09:16:56.600Z"
   },
   {
    "duration": 199,
    "start_time": "2022-12-06T09:16:59.142Z"
   },
   {
    "duration": 747,
    "start_time": "2022-12-06T09:16:59.344Z"
   },
   {
    "duration": 266,
    "start_time": "2022-12-06T09:17:00.093Z"
   },
   {
    "duration": 95,
    "start_time": "2022-12-06T09:17:23.440Z"
   },
   {
    "duration": 31,
    "start_time": "2022-12-06T09:19:09.913Z"
   },
   {
    "duration": 35,
    "start_time": "2022-12-06T09:19:46.587Z"
   },
   {
    "duration": 34,
    "start_time": "2022-12-06T09:20:09.889Z"
   },
   {
    "duration": 60,
    "start_time": "2022-12-06T09:21:01.690Z"
   },
   {
    "duration": 6,
    "start_time": "2022-12-06T09:21:49.625Z"
   },
   {
    "duration": 51,
    "start_time": "2022-12-06T09:47:19.249Z"
   },
   {
    "duration": 1407,
    "start_time": "2022-12-06T09:47:37.302Z"
   },
   {
    "duration": 826,
    "start_time": "2022-12-06T09:47:38.711Z"
   },
   {
    "duration": 15,
    "start_time": "2022-12-06T09:47:39.538Z"
   },
   {
    "duration": 118,
    "start_time": "2022-12-06T09:47:39.554Z"
   },
   {
    "duration": 170,
    "start_time": "2022-12-06T09:47:39.674Z"
   },
   {
    "duration": 2623,
    "start_time": "2022-12-06T09:47:39.846Z"
   },
   {
    "duration": 205,
    "start_time": "2022-12-06T09:47:42.471Z"
   },
   {
    "duration": 741,
    "start_time": "2022-12-06T09:47:50.726Z"
   },
   {
    "duration": 251,
    "start_time": "2022-12-06T09:47:55.208Z"
   },
   {
    "duration": 339,
    "start_time": "2022-12-06T09:48:04.150Z"
   },
   {
    "duration": 72,
    "start_time": "2022-12-06T09:48:16.053Z"
   },
   {
    "duration": 33,
    "start_time": "2022-12-06T09:48:26.166Z"
   },
   {
    "duration": 298,
    "start_time": "2022-12-06T09:56:27.157Z"
   },
   {
    "duration": 168,
    "start_time": "2022-12-06T10:06:15.417Z"
   },
   {
    "duration": 8,
    "start_time": "2022-12-06T10:06:18.983Z"
   },
   {
    "duration": 66,
    "start_time": "2022-12-06T10:06:20.648Z"
   },
   {
    "duration": 44,
    "start_time": "2022-12-06T10:06:38.200Z"
   },
   {
    "duration": 125,
    "start_time": "2022-12-06T10:08:04.338Z"
   },
   {
    "duration": 31,
    "start_time": "2022-12-06T10:08:14.186Z"
   },
   {
    "duration": 221,
    "start_time": "2022-12-06T10:08:30.658Z"
   },
   {
    "duration": 11,
    "start_time": "2022-12-06T10:08:33.234Z"
   },
   {
    "duration": 164,
    "start_time": "2022-12-06T10:09:02.298Z"
   },
   {
    "duration": 11,
    "start_time": "2022-12-06T10:09:06.418Z"
   },
   {
    "duration": 93,
    "start_time": "2022-12-06T10:09:10.027Z"
   },
   {
    "duration": 15,
    "start_time": "2022-12-06T10:47:24.729Z"
   },
   {
    "duration": 42,
    "start_time": "2022-12-06T10:48:07.259Z"
   },
   {
    "duration": 18,
    "start_time": "2022-12-06T10:48:55.741Z"
   },
   {
    "duration": 87,
    "start_time": "2022-12-06T10:49:38.404Z"
   },
   {
    "duration": 24,
    "start_time": "2022-12-06T10:49:45.621Z"
   },
   {
    "duration": 15,
    "start_time": "2022-12-06T11:01:50.856Z"
   },
   {
    "duration": 13,
    "start_time": "2022-12-06T11:02:02.177Z"
   },
   {
    "duration": 21,
    "start_time": "2022-12-06T11:24:10.928Z"
   },
   {
    "duration": 42,
    "start_time": "2022-12-06T11:27:55.651Z"
   },
   {
    "duration": 12,
    "start_time": "2022-12-06T11:35:08.988Z"
   },
   {
    "duration": 12,
    "start_time": "2022-12-06T11:35:21.060Z"
   },
   {
    "duration": 13,
    "start_time": "2022-12-06T11:35:33.642Z"
   },
   {
    "duration": 13,
    "start_time": "2022-12-06T11:35:42.363Z"
   },
   {
    "duration": 18,
    "start_time": "2022-12-06T11:37:05.908Z"
   },
   {
    "duration": 13,
    "start_time": "2022-12-06T11:39:47.968Z"
   },
   {
    "duration": 35,
    "start_time": "2022-12-06T11:42:02.345Z"
   },
   {
    "duration": 40,
    "start_time": "2022-12-06T11:53:38.999Z"
   },
   {
    "duration": 15,
    "start_time": "2022-12-06T11:54:49.237Z"
   },
   {
    "duration": 17,
    "start_time": "2022-12-06T11:56:08.655Z"
   },
   {
    "duration": 3,
    "start_time": "2022-12-06T12:34:28.553Z"
   },
   {
    "duration": 23,
    "start_time": "2022-12-06T12:34:36.384Z"
   },
   {
    "duration": 162,
    "start_time": "2022-12-06T12:38:58.926Z"
   },
   {
    "duration": 77,
    "start_time": "2022-12-06T12:43:46.346Z"
   },
   {
    "duration": 11,
    "start_time": "2022-12-06T12:43:48.929Z"
   },
   {
    "duration": 95,
    "start_time": "2022-12-06T12:44:01.387Z"
   },
   {
    "duration": 1411,
    "start_time": "2022-12-06T12:59:21.699Z"
   },
   {
    "duration": 826,
    "start_time": "2022-12-06T12:59:23.113Z"
   },
   {
    "duration": 15,
    "start_time": "2022-12-06T12:59:23.941Z"
   },
   {
    "duration": 117,
    "start_time": "2022-12-06T12:59:24.081Z"
   },
   {
    "duration": 191,
    "start_time": "2022-12-06T12:59:24.506Z"
   },
   {
    "duration": 2608,
    "start_time": "2022-12-06T12:59:24.977Z"
   },
   {
    "duration": 216,
    "start_time": "2022-12-06T12:59:27.587Z"
   },
   {
    "duration": 794,
    "start_time": "2022-12-06T12:59:27.812Z"
   },
   {
    "duration": 236,
    "start_time": "2022-12-06T12:59:28.612Z"
   },
   {
    "duration": 351,
    "start_time": "2022-12-06T12:59:28.850Z"
   },
   {
    "duration": 39,
    "start_time": "2022-12-06T12:59:29.203Z"
   },
   {
    "duration": 302,
    "start_time": "2022-12-06T12:59:42.835Z"
   },
   {
    "duration": 174,
    "start_time": "2022-12-06T12:59:44.731Z"
   },
   {
    "duration": 7,
    "start_time": "2022-12-06T12:59:47.834Z"
   },
   {
    "duration": 74,
    "start_time": "2022-12-06T12:59:50.099Z"
   },
   {
    "duration": 44,
    "start_time": "2022-12-06T12:59:52.314Z"
   },
   {
    "duration": 136,
    "start_time": "2022-12-06T13:00:01.122Z"
   },
   {
    "duration": 32,
    "start_time": "2022-12-06T13:00:03.970Z"
   },
   {
    "duration": 238,
    "start_time": "2022-12-06T13:00:08.052Z"
   },
   {
    "duration": 16,
    "start_time": "2022-12-06T13:00:13.219Z"
   },
   {
    "duration": 38,
    "start_time": "2022-12-06T13:00:15.691Z"
   },
   {
    "duration": 181,
    "start_time": "2022-12-06T13:00:20.051Z"
   },
   {
    "duration": 170,
    "start_time": "2022-12-06T13:00:23.563Z"
   },
   {
    "duration": 9,
    "start_time": "2022-12-06T13:00:29.946Z"
   },
   {
    "duration": 106,
    "start_time": "2022-12-06T13:00:48.979Z"
   },
   {
    "duration": 21,
    "start_time": "2022-12-06T13:02:41.349Z"
   },
   {
    "duration": 304,
    "start_time": "2022-12-06T14:03:50.867Z"
   },
   {
    "duration": 377,
    "start_time": "2022-12-06T14:11:04.539Z"
   },
   {
    "duration": 734,
    "start_time": "2022-12-06T14:11:08.155Z"
   },
   {
    "duration": 565,
    "start_time": "2022-12-06T14:11:36.940Z"
   },
   {
    "duration": 45445,
    "start_time": "2022-12-06T14:13:06.904Z"
   },
   {
    "duration": 19973,
    "start_time": "2022-12-06T14:14:25.958Z"
   },
   {
    "duration": 129,
    "start_time": "2022-12-06T14:19:42.747Z"
   },
   {
    "duration": 133293,
    "start_time": "2022-12-06T14:20:48.629Z"
   },
   {
    "duration": 180374,
    "start_time": "2022-12-06T14:23:01.926Z"
   },
   {
    "duration": 538257,
    "start_time": "2022-12-06T14:26:02.302Z"
   },
   {
    "duration": 8,
    "start_time": "2022-12-06T14:35:00.561Z"
   },
   {
    "duration": 380851,
    "start_time": "2022-12-06T14:37:17.858Z"
   },
   {
    "duration": 1425,
    "start_time": "2022-12-06T14:45:18.108Z"
   },
   {
    "duration": 796,
    "start_time": "2022-12-06T14:45:19.535Z"
   },
   {
    "duration": 22,
    "start_time": "2022-12-06T14:45:20.333Z"
   },
   {
    "duration": 162,
    "start_time": "2022-12-06T14:45:20.357Z"
   },
   {
    "duration": 220,
    "start_time": "2022-12-06T14:45:20.522Z"
   },
   {
    "duration": 2652,
    "start_time": "2022-12-06T14:45:20.744Z"
   },
   {
    "duration": 205,
    "start_time": "2022-12-06T14:45:23.398Z"
   },
   {
    "duration": 794,
    "start_time": "2022-12-06T14:45:23.614Z"
   },
   {
    "duration": 244,
    "start_time": "2022-12-06T14:45:24.410Z"
   },
   {
    "duration": 356,
    "start_time": "2022-12-06T14:45:24.658Z"
   },
   {
    "duration": 35,
    "start_time": "2022-12-06T14:45:25.016Z"
   },
   {
    "duration": 315,
    "start_time": "2022-12-06T14:45:25.053Z"
   },
   {
    "duration": 195,
    "start_time": "2022-12-06T14:45:25.371Z"
   },
   {
    "duration": 8,
    "start_time": "2022-12-06T14:45:25.568Z"
   },
   {
    "duration": 81,
    "start_time": "2022-12-06T14:45:25.578Z"
   },
   {
    "duration": 52,
    "start_time": "2022-12-06T14:45:25.661Z"
   },
   {
    "duration": 149,
    "start_time": "2022-12-06T14:45:25.714Z"
   },
   {
    "duration": 34,
    "start_time": "2022-12-06T14:45:25.865Z"
   },
   {
    "duration": 237,
    "start_time": "2022-12-06T14:45:25.913Z"
   },
   {
    "duration": 17,
    "start_time": "2022-12-06T14:45:26.152Z"
   },
   {
    "duration": 51,
    "start_time": "2022-12-06T14:45:26.171Z"
   },
   {
    "duration": 196,
    "start_time": "2022-12-06T14:45:26.224Z"
   },
   {
    "duration": 215,
    "start_time": "2022-12-06T14:45:26.421Z"
   },
   {
    "duration": 12,
    "start_time": "2022-12-06T14:45:26.638Z"
   },
   {
    "duration": 148,
    "start_time": "2022-12-06T14:45:26.652Z"
   },
   {
    "duration": 23,
    "start_time": "2022-12-06T14:45:26.802Z"
   },
   {
    "duration": 372,
    "start_time": "2022-12-06T14:45:26.828Z"
   },
   {
    "duration": 829,
    "start_time": "2022-12-06T14:45:27.204Z"
   },
   {
    "duration": 538,
    "start_time": "2022-12-06T14:45:28.034Z"
   },
   {
    "duration": 21303,
    "start_time": "2022-12-06T14:45:28.574Z"
   },
   {
    "duration": 127438,
    "start_time": "2022-12-06T14:45:49.880Z"
   },
   {
    "duration": 179873,
    "start_time": "2022-12-06T14:47:57.320Z"
   },
   {
    "duration": 814501,
    "start_time": "2022-12-06T14:50:57.195Z"
   },
   {
    "duration": 8,
    "start_time": "2022-12-06T15:04:31.698Z"
   },
   {
    "duration": 25,
    "start_time": "2022-12-06T15:04:31.708Z"
   },
   {
    "duration": 9,
    "start_time": "2022-12-06T15:04:31.735Z"
   },
   {
    "duration": 10,
    "start_time": "2022-12-06T15:04:31.745Z"
   },
   {
    "duration": 12,
    "start_time": "2022-12-06T15:04:31.757Z"
   },
   {
    "duration": 7,
    "start_time": "2022-12-06T15:04:31.770Z"
   },
   {
    "duration": 13,
    "start_time": "2022-12-06T15:04:31.779Z"
   },
   {
    "duration": 22,
    "start_time": "2022-12-06T15:04:31.793Z"
   },
   {
    "duration": 6,
    "start_time": "2022-12-06T15:04:31.817Z"
   },
   {
    "duration": 8,
    "start_time": "2022-12-06T15:04:31.825Z"
   },
   {
    "duration": 11,
    "start_time": "2022-12-06T15:04:31.835Z"
   },
   {
    "duration": 0,
    "start_time": "2022-12-06T15:04:31.847Z"
   },
   {
    "duration": 0,
    "start_time": "2022-12-06T15:04:31.849Z"
   },
   {
    "duration": 0,
    "start_time": "2022-12-06T15:04:31.850Z"
   },
   {
    "duration": 0,
    "start_time": "2022-12-06T15:04:31.851Z"
   },
   {
    "duration": 0,
    "start_time": "2022-12-06T15:04:31.852Z"
   },
   {
    "duration": 211124,
    "start_time": "2022-12-06T15:04:36.003Z"
   },
   {
    "duration": 20,
    "start_time": "2022-12-06T15:08:07.129Z"
   },
   {
    "duration": 318225,
    "start_time": "2022-12-06T15:09:25.607Z"
   },
   {
    "duration": 10605,
    "start_time": "2022-12-06T15:48:50.917Z"
   },
   {
    "duration": 307915,
    "start_time": "2022-12-06T16:15:56.310Z"
   },
   {
    "duration": 97061,
    "start_time": "2022-12-06T16:25:12.459Z"
   },
   {
    "duration": 1416,
    "start_time": "2022-12-06T16:29:28.594Z"
   },
   {
    "duration": 882,
    "start_time": "2022-12-06T16:29:30.012Z"
   },
   {
    "duration": 22,
    "start_time": "2022-12-06T16:29:30.896Z"
   },
   {
    "duration": 120,
    "start_time": "2022-12-06T16:29:30.920Z"
   },
   {
    "duration": 169,
    "start_time": "2022-12-06T16:29:31.042Z"
   },
   {
    "duration": 2416,
    "start_time": "2022-12-06T16:29:31.213Z"
   },
   {
    "duration": 200,
    "start_time": "2022-12-06T16:29:33.630Z"
   },
   {
    "duration": 745,
    "start_time": "2022-12-06T16:29:33.832Z"
   },
   {
    "duration": 251,
    "start_time": "2022-12-06T16:29:34.579Z"
   },
   {
    "duration": 337,
    "start_time": "2022-12-06T16:29:34.832Z"
   },
   {
    "duration": 33,
    "start_time": "2022-12-06T16:29:35.170Z"
   },
   {
    "duration": 300,
    "start_time": "2022-12-06T16:29:35.213Z"
   },
   {
    "duration": 176,
    "start_time": "2022-12-06T16:29:35.515Z"
   },
   {
    "duration": 7,
    "start_time": "2022-12-06T16:29:35.693Z"
   },
   {
    "duration": 74,
    "start_time": "2022-12-06T16:29:35.701Z"
   },
   {
    "duration": 50,
    "start_time": "2022-12-06T16:29:35.777Z"
   },
   {
    "duration": 132,
    "start_time": "2022-12-06T16:29:35.828Z"
   },
   {
    "duration": 33,
    "start_time": "2022-12-06T16:29:35.962Z"
   },
   {
    "duration": 257,
    "start_time": "2022-12-06T16:29:35.997Z"
   },
   {
    "duration": 15,
    "start_time": "2022-12-06T16:29:36.256Z"
   },
   {
    "duration": 56,
    "start_time": "2022-12-06T16:29:36.273Z"
   },
   {
    "duration": 185,
    "start_time": "2022-12-06T16:29:36.331Z"
   },
   {
    "duration": 176,
    "start_time": "2022-12-06T16:29:36.518Z"
   },
   {
    "duration": 8,
    "start_time": "2022-12-06T16:29:36.696Z"
   },
   {
    "duration": 87,
    "start_time": "2022-12-06T16:29:36.713Z"
   },
   {
    "duration": 21,
    "start_time": "2022-12-06T16:29:36.801Z"
   },
   {
    "duration": 338,
    "start_time": "2022-12-06T16:29:36.824Z"
   },
   {
    "duration": 820,
    "start_time": "2022-12-06T16:29:37.165Z"
   },
   {
    "duration": 531,
    "start_time": "2022-12-06T16:29:37.987Z"
   },
   {
    "duration": 19662,
    "start_time": "2022-12-06T16:29:38.520Z"
   },
   {
    "duration": 99631,
    "start_time": "2022-12-06T16:29:58.184Z"
   },
   {
    "duration": 166191,
    "start_time": "2022-12-06T16:31:37.816Z"
   },
   {
    "duration": 90007,
    "start_time": "2022-12-06T16:34:24.009Z"
   },
   {
    "duration": 7,
    "start_time": "2022-12-06T16:35:54.018Z"
   },
   {
    "duration": 36,
    "start_time": "2022-12-06T16:35:54.027Z"
   },
   {
    "duration": 21,
    "start_time": "2022-12-06T16:35:54.065Z"
   },
   {
    "duration": 37,
    "start_time": "2022-12-06T16:35:54.087Z"
   },
   {
    "duration": 24,
    "start_time": "2022-12-06T16:35:54.126Z"
   },
   {
    "duration": 18,
    "start_time": "2022-12-06T16:35:54.152Z"
   },
   {
    "duration": 19,
    "start_time": "2022-12-06T16:35:54.171Z"
   },
   {
    "duration": 34,
    "start_time": "2022-12-06T16:35:54.192Z"
   },
   {
    "duration": 20,
    "start_time": "2022-12-06T16:35:54.228Z"
   },
   {
    "duration": 27,
    "start_time": "2022-12-06T16:35:54.249Z"
   },
   {
    "duration": 35,
    "start_time": "2022-12-06T16:35:54.278Z"
   },
   {
    "duration": 23,
    "start_time": "2022-12-06T16:35:54.315Z"
   },
   {
    "duration": 20,
    "start_time": "2022-12-06T16:35:54.340Z"
   },
   {
    "duration": 37,
    "start_time": "2022-12-06T16:35:54.362Z"
   },
   {
    "duration": 5601,
    "start_time": "2022-12-06T16:35:54.400Z"
   },
   {
    "duration": 67,
    "start_time": "2022-12-06T16:36:00.003Z"
   },
   {
    "duration": 166947,
    "start_time": "2022-12-06T16:41:14.875Z"
   },
   {
    "duration": 19,
    "start_time": "2022-12-06T16:50:42.717Z"
   },
   {
    "duration": 5,
    "start_time": "2022-12-06T16:50:43.485Z"
   },
   {
    "duration": 5,
    "start_time": "2022-12-06T16:50:44.479Z"
   },
   {
    "duration": 9,
    "start_time": "2022-12-06T16:50:47.052Z"
   },
   {
    "duration": 4,
    "start_time": "2022-12-06T16:50:48.085Z"
   },
   {
    "duration": 4,
    "start_time": "2022-12-06T16:50:48.876Z"
   },
   {
    "duration": 23,
    "start_time": "2022-12-06T16:50:49.901Z"
   },
   {
    "duration": 5,
    "start_time": "2022-12-06T16:50:52.557Z"
   },
   {
    "duration": 5,
    "start_time": "2022-12-06T16:50:53.181Z"
   },
   {
    "duration": 27,
    "start_time": "2022-12-06T16:50:58.125Z"
   },
   {
    "duration": 5,
    "start_time": "2022-12-06T16:51:00.596Z"
   },
   {
    "duration": 5,
    "start_time": "2022-12-06T16:51:04.101Z"
   },
   {
    "duration": 14,
    "start_time": "2022-12-06T16:51:05.677Z"
   },
   {
    "duration": 164675,
    "start_time": "2022-12-06T17:14:33.038Z"
   },
   {
    "duration": 636,
    "start_time": "2022-12-06T17:24:46.285Z"
   },
   {
    "duration": 55439,
    "start_time": "2022-12-06T17:25:14.177Z"
   },
   {
    "duration": 20,
    "start_time": "2022-12-06T17:27:58.900Z"
   },
   {
    "duration": 12,
    "start_time": "2022-12-06T17:28:11.557Z"
   },
   {
    "duration": 570,
    "start_time": "2022-12-06T17:30:56.552Z"
   },
   {
    "duration": 16869,
    "start_time": "2022-12-06T17:49:02.346Z"
   },
   {
    "duration": 31156,
    "start_time": "2022-12-06T17:50:30.156Z"
   },
   {
    "duration": 1354,
    "start_time": "2022-12-06T17:52:07.748Z"
   },
   {
    "duration": 777,
    "start_time": "2022-12-06T17:52:09.104Z"
   },
   {
    "duration": 18,
    "start_time": "2022-12-06T17:52:09.883Z"
   },
   {
    "duration": 111,
    "start_time": "2022-12-06T17:52:09.903Z"
   },
   {
    "duration": 175,
    "start_time": "2022-12-06T17:52:10.015Z"
   },
   {
    "duration": 2647,
    "start_time": "2022-12-06T17:52:10.191Z"
   },
   {
    "duration": 217,
    "start_time": "2022-12-06T17:52:12.840Z"
   },
   {
    "duration": 761,
    "start_time": "2022-12-06T17:52:13.059Z"
   },
   {
    "duration": 238,
    "start_time": "2022-12-06T17:52:13.822Z"
   },
   {
    "duration": 328,
    "start_time": "2022-12-06T17:52:14.062Z"
   },
   {
    "duration": 41,
    "start_time": "2022-12-06T17:52:14.392Z"
   },
   {
    "duration": 307,
    "start_time": "2022-12-06T17:52:14.434Z"
   },
   {
    "duration": 193,
    "start_time": "2022-12-06T17:52:14.743Z"
   },
   {
    "duration": 7,
    "start_time": "2022-12-06T17:52:14.938Z"
   },
   {
    "duration": 79,
    "start_time": "2022-12-06T17:52:14.947Z"
   },
   {
    "duration": 42,
    "start_time": "2022-12-06T17:52:15.028Z"
   },
   {
    "duration": 151,
    "start_time": "2022-12-06T17:52:15.072Z"
   },
   {
    "duration": 32,
    "start_time": "2022-12-06T17:52:15.225Z"
   },
   {
    "duration": 265,
    "start_time": "2022-12-06T17:52:15.259Z"
   },
   {
    "duration": 17,
    "start_time": "2022-12-06T17:52:15.525Z"
   },
   {
    "duration": 43,
    "start_time": "2022-12-06T17:52:15.544Z"
   },
   {
    "duration": 180,
    "start_time": "2022-12-06T17:52:15.589Z"
   },
   {
    "duration": 175,
    "start_time": "2022-12-06T17:52:15.771Z"
   },
   {
    "duration": 9,
    "start_time": "2022-12-06T17:52:15.948Z"
   },
   {
    "duration": 100,
    "start_time": "2022-12-06T17:52:15.958Z"
   },
   {
    "duration": 15,
    "start_time": "2022-12-06T17:52:16.060Z"
   },
   {
    "duration": 326,
    "start_time": "2022-12-06T17:52:16.077Z"
   },
   {
    "duration": 748,
    "start_time": "2022-12-06T17:52:16.406Z"
   },
   {
    "duration": 547,
    "start_time": "2022-12-06T17:52:17.157Z"
   },
   {
    "duration": 19385,
    "start_time": "2022-12-06T17:52:17.713Z"
   },
   {
    "duration": 112113,
    "start_time": "2022-12-06T17:52:37.100Z"
   },
   {
    "duration": 178071,
    "start_time": "2022-12-06T17:54:29.214Z"
   },
   {
    "duration": 519651,
    "start_time": "2022-12-06T17:57:27.287Z"
   },
   {
    "duration": 13,
    "start_time": "2022-12-06T18:06:06.940Z"
   },
   {
    "duration": 81,
    "start_time": "2022-12-06T18:06:06.955Z"
   },
   {
    "duration": 7,
    "start_time": "2022-12-06T18:06:07.037Z"
   },
   {
    "duration": 10,
    "start_time": "2022-12-06T18:06:07.045Z"
   },
   {
    "duration": 11,
    "start_time": "2022-12-06T18:06:07.056Z"
   },
   {
    "duration": 8,
    "start_time": "2022-12-06T18:06:07.068Z"
   },
   {
    "duration": 6,
    "start_time": "2022-12-06T18:06:07.077Z"
   },
   {
    "duration": 55,
    "start_time": "2022-12-06T18:06:07.084Z"
   },
   {
    "duration": 5,
    "start_time": "2022-12-06T18:06:07.141Z"
   },
   {
    "duration": 6,
    "start_time": "2022-12-06T18:06:07.147Z"
   },
   {
    "duration": 21,
    "start_time": "2022-12-06T18:06:07.155Z"
   },
   {
    "duration": 6,
    "start_time": "2022-12-06T18:06:07.178Z"
   },
   {
    "duration": 28,
    "start_time": "2022-12-06T18:06:07.185Z"
   },
   {
    "duration": 19,
    "start_time": "2022-12-06T18:06:07.215Z"
   },
   {
    "duration": 28378,
    "start_time": "2022-12-06T18:06:07.236Z"
   },
   {
    "duration": 735,
    "start_time": "2022-12-06T18:06:35.616Z"
   },
   {
    "duration": 575,
    "start_time": "2022-12-06T18:09:03.368Z"
   },
   {
    "duration": 2279,
    "start_time": "2022-12-07T19:29:04.082Z"
   },
   {
    "duration": 3798,
    "start_time": "2022-12-07T19:29:06.364Z"
   },
   {
    "duration": 22,
    "start_time": "2022-12-07T19:29:10.164Z"
   },
   {
    "duration": 121,
    "start_time": "2022-12-07T19:54:53.074Z"
   },
   {
    "duration": 206,
    "start_time": "2022-12-07T19:54:54.727Z"
   },
   {
    "duration": 2849,
    "start_time": "2022-12-07T19:54:57.598Z"
   },
   {
    "duration": 219,
    "start_time": "2022-12-07T19:55:00.448Z"
   },
   {
    "duration": 790,
    "start_time": "2022-12-07T19:55:06.064Z"
   },
   {
    "duration": 224,
    "start_time": "2022-12-07T19:55:13.406Z"
   },
   {
    "duration": 98,
    "start_time": "2022-12-07T20:04:11.216Z"
   },
   {
    "duration": 99,
    "start_time": "2022-12-07T20:04:33.701Z"
   },
   {
    "duration": 21,
    "start_time": "2022-12-07T20:05:03.976Z"
   },
   {
    "duration": 24,
    "start_time": "2022-12-07T20:14:43.514Z"
   },
   {
    "duration": 143,
    "start_time": "2022-12-07T20:15:58.028Z"
   },
   {
    "duration": 39,
    "start_time": "2022-12-07T20:16:22.995Z"
   },
   {
    "duration": 31,
    "start_time": "2022-12-07T20:16:32.723Z"
   },
   {
    "duration": 248,
    "start_time": "2022-12-07T20:17:36.339Z"
   },
   {
    "duration": 4,
    "start_time": "2022-12-07T20:18:20.664Z"
   },
   {
    "duration": 4,
    "start_time": "2022-12-07T20:19:02.150Z"
   },
   {
    "duration": 339,
    "start_time": "2022-12-07T20:37:56.087Z"
   },
   {
    "duration": 264,
    "start_time": "2022-12-07T20:38:00.102Z"
   },
   {
    "duration": 10,
    "start_time": "2022-12-07T20:38:02.093Z"
   },
   {
    "duration": 108,
    "start_time": "2022-12-07T20:38:02.813Z"
   },
   {
    "duration": 50,
    "start_time": "2022-12-07T20:38:03.317Z"
   },
   {
    "duration": 171,
    "start_time": "2022-12-07T20:38:05.439Z"
   },
   {
    "duration": 42,
    "start_time": "2022-12-07T20:38:06.721Z"
   },
   {
    "duration": 383,
    "start_time": "2022-12-07T20:38:07.502Z"
   },
   {
    "duration": 23,
    "start_time": "2022-12-07T20:38:09.966Z"
   },
   {
    "duration": 35,
    "start_time": "2022-12-07T20:38:10.661Z"
   },
   {
    "duration": 164,
    "start_time": "2022-12-07T20:38:14.597Z"
   },
   {
    "duration": 154,
    "start_time": "2022-12-07T20:38:16.251Z"
   },
   {
    "duration": 9,
    "start_time": "2022-12-07T20:38:22.951Z"
   },
   {
    "duration": 88,
    "start_time": "2022-12-07T20:38:27.549Z"
   },
   {
    "duration": 21,
    "start_time": "2022-12-07T20:40:33.264Z"
   },
   {
    "duration": 305,
    "start_time": "2022-12-07T20:43:14.379Z"
   },
   {
    "duration": 607,
    "start_time": "2022-12-07T20:43:27.139Z"
   },
   {
    "duration": 585,
    "start_time": "2022-12-07T20:43:29.947Z"
   },
   {
    "duration": 18686,
    "start_time": "2022-12-07T20:43:36.746Z"
   },
   {
    "duration": 168389,
    "start_time": "2022-12-07T20:43:55.434Z"
   },
   {
    "duration": 182607,
    "start_time": "2022-12-07T20:46:43.825Z"
   },
   {
    "duration": 2436366,
    "start_time": "2022-12-07T20:49:46.435Z"
   },
   {
    "duration": 6,
    "start_time": "2022-12-07T21:30:22.803Z"
   },
   {
    "duration": 24,
    "start_time": "2022-12-07T21:30:22.811Z"
   },
   {
    "duration": 586518,
    "start_time": "2022-12-07T21:30:32.779Z"
   },
   {
    "duration": 8,
    "start_time": "2022-12-07T21:40:19.299Z"
   },
   {
    "duration": 1585,
    "start_time": "2022-12-07T21:42:16.228Z"
   },
   {
    "duration": 931,
    "start_time": "2022-12-07T21:42:17.816Z"
   },
   {
    "duration": 22,
    "start_time": "2022-12-07T21:42:18.749Z"
   },
   {
    "duration": 171,
    "start_time": "2022-12-07T21:42:18.775Z"
   },
   {
    "duration": 266,
    "start_time": "2022-12-07T21:42:18.948Z"
   },
   {
    "duration": 2926,
    "start_time": "2022-12-07T21:42:19.217Z"
   },
   {
    "duration": 206,
    "start_time": "2022-12-07T21:42:22.144Z"
   },
   {
    "duration": 834,
    "start_time": "2022-12-07T21:42:22.352Z"
   },
   {
    "duration": 241,
    "start_time": "2022-12-07T21:42:23.187Z"
   },
   {
    "duration": 107,
    "start_time": "2022-12-07T21:42:23.430Z"
   },
   {
    "duration": 283,
    "start_time": "2022-12-07T21:42:23.539Z"
   },
   {
    "duration": 8,
    "start_time": "2022-12-07T21:42:23.824Z"
   },
   {
    "duration": 374,
    "start_time": "2022-12-07T21:42:23.834Z"
   },
   {
    "duration": 214,
    "start_time": "2022-12-07T21:42:24.210Z"
   },
   {
    "duration": 8,
    "start_time": "2022-12-07T21:42:24.425Z"
   },
   {
    "duration": 75,
    "start_time": "2022-12-07T21:42:24.435Z"
   },
   {
    "duration": 46,
    "start_time": "2022-12-07T21:42:24.523Z"
   },
   {
    "duration": 159,
    "start_time": "2022-12-07T21:42:24.571Z"
   },
   {
    "duration": 37,
    "start_time": "2022-12-07T21:42:24.732Z"
   },
   {
    "duration": 279,
    "start_time": "2022-12-07T21:42:24.771Z"
   },
   {
    "duration": 20,
    "start_time": "2022-12-07T21:42:25.052Z"
   },
   {
    "duration": 82,
    "start_time": "2022-12-07T21:42:25.074Z"
   },
   {
    "duration": 193,
    "start_time": "2022-12-07T21:42:25.158Z"
   },
   {
    "duration": 158,
    "start_time": "2022-12-07T21:42:25.352Z"
   },
   {
    "duration": 14,
    "start_time": "2022-12-07T21:42:25.512Z"
   },
   {
    "duration": 95,
    "start_time": "2022-12-07T21:42:25.527Z"
   },
   {
    "duration": 17,
    "start_time": "2022-12-07T21:42:25.623Z"
   },
   {
    "duration": 340,
    "start_time": "2022-12-07T21:42:25.643Z"
   },
   {
    "duration": 725,
    "start_time": "2022-12-07T21:42:25.984Z"
   },
   {
    "duration": 619,
    "start_time": "2022-12-07T21:42:26.711Z"
   },
   {
    "duration": 20263,
    "start_time": "2022-12-07T21:42:27.332Z"
   },
   {
    "duration": 240628,
    "start_time": "2022-12-07T21:42:47.597Z"
   },
   {
    "duration": 191519,
    "start_time": "2022-12-07T21:46:48.229Z"
   },
   {
    "duration": 4786182,
    "start_time": "2022-12-07T21:49:59.749Z"
   },
   {
    "duration": 8,
    "start_time": "2022-12-07T23:09:45.933Z"
   },
   {
    "duration": 28,
    "start_time": "2022-12-07T23:09:45.943Z"
   },
   {
    "duration": 54,
    "start_time": "2022-12-07T23:09:45.973Z"
   },
   {
    "duration": 14,
    "start_time": "2022-12-07T23:09:46.028Z"
   },
   {
    "duration": 10,
    "start_time": "2022-12-07T23:09:46.043Z"
   },
   {
    "duration": 9,
    "start_time": "2022-12-07T23:09:46.055Z"
   },
   {
    "duration": 13,
    "start_time": "2022-12-07T23:09:46.065Z"
   },
   {
    "duration": 31,
    "start_time": "2022-12-07T23:09:46.080Z"
   },
   {
    "duration": 10,
    "start_time": "2022-12-07T23:09:46.113Z"
   },
   {
    "duration": 10,
    "start_time": "2022-12-07T23:09:46.124Z"
   },
   {
    "duration": 21,
    "start_time": "2022-12-07T23:09:46.136Z"
   },
   {
    "duration": 10,
    "start_time": "2022-12-07T23:09:46.159Z"
   },
   {
    "duration": 10,
    "start_time": "2022-12-07T23:09:46.170Z"
   },
   {
    "duration": 18,
    "start_time": "2022-12-07T23:09:46.182Z"
   },
   {
    "duration": 304442,
    "start_time": "2022-12-07T23:09:46.201Z"
   },
   {
    "duration": 598,
    "start_time": "2022-12-07T23:14:50.644Z"
   },
   {
    "duration": 2792677,
    "start_time": "2022-12-07T23:36:35.055Z"
   },
   {
    "duration": 1804,
    "start_time": "2022-12-08T05:50:07.505Z"
   },
   {
    "duration": 2922,
    "start_time": "2022-12-08T05:50:09.312Z"
   },
   {
    "duration": 15,
    "start_time": "2022-12-08T05:50:12.236Z"
   },
   {
    "duration": 148,
    "start_time": "2022-12-08T05:50:12.253Z"
   },
   {
    "duration": 205,
    "start_time": "2022-12-08T05:50:12.402Z"
   },
   {
    "duration": 2865,
    "start_time": "2022-12-08T05:50:12.608Z"
   },
   {
    "duration": 247,
    "start_time": "2022-12-08T05:50:15.475Z"
   },
   {
    "duration": 906,
    "start_time": "2022-12-08T05:50:15.725Z"
   },
   {
    "duration": 266,
    "start_time": "2022-12-08T05:50:16.633Z"
   },
   {
    "duration": 151,
    "start_time": "2022-12-08T05:50:16.902Z"
   },
   {
    "duration": 275,
    "start_time": "2022-12-08T05:50:17.055Z"
   },
   {
    "duration": 5,
    "start_time": "2022-12-08T05:50:17.333Z"
   },
   {
    "duration": 331,
    "start_time": "2022-12-08T05:50:17.351Z"
   },
   {
    "duration": 193,
    "start_time": "2022-12-08T05:50:17.684Z"
   },
   {
    "duration": 9,
    "start_time": "2022-12-08T05:50:17.879Z"
   },
   {
    "duration": 108,
    "start_time": "2022-12-08T05:50:17.889Z"
   },
   {
    "duration": 58,
    "start_time": "2022-12-08T05:50:18.000Z"
   },
   {
    "duration": 156,
    "start_time": "2022-12-08T05:50:18.060Z"
   },
   {
    "duration": 42,
    "start_time": "2022-12-08T05:50:18.217Z"
   },
   {
    "duration": 292,
    "start_time": "2022-12-08T05:50:18.261Z"
   },
   {
    "duration": 17,
    "start_time": "2022-12-08T05:50:18.555Z"
   },
   {
    "duration": 39,
    "start_time": "2022-12-08T05:50:18.574Z"
   },
   {
    "duration": 201,
    "start_time": "2022-12-08T05:50:18.614Z"
   },
   {
    "duration": 191,
    "start_time": "2022-12-08T05:50:18.817Z"
   },
   {
    "duration": 11,
    "start_time": "2022-12-08T05:50:19.010Z"
   },
   {
    "duration": 136,
    "start_time": "2022-12-08T05:50:19.023Z"
   },
   {
    "duration": 19,
    "start_time": "2022-12-08T05:50:19.161Z"
   },
   {
    "duration": 350,
    "start_time": "2022-12-08T05:50:19.184Z"
   },
   {
    "duration": 652,
    "start_time": "2022-12-08T05:50:19.536Z"
   },
   {
    "duration": 643,
    "start_time": "2022-12-08T05:50:20.191Z"
   },
   {
    "duration": 20001,
    "start_time": "2022-12-08T05:50:20.835Z"
   },
   {
    "duration": 112115,
    "start_time": "2022-12-08T05:50:40.838Z"
   },
   {
    "duration": 185399,
    "start_time": "2022-12-08T05:52:32.956Z"
   },
   {
    "duration": 2700698,
    "start_time": "2022-12-08T05:55:38.357Z"
   },
   {
    "duration": 7,
    "start_time": "2022-12-08T06:40:39.057Z"
   },
   {
    "duration": 42,
    "start_time": "2022-12-08T06:40:39.066Z"
   },
   {
    "duration": 11,
    "start_time": "2022-12-08T06:40:39.111Z"
   },
   {
    "duration": 28,
    "start_time": "2022-12-08T06:40:39.124Z"
   },
   {
    "duration": 13,
    "start_time": "2022-12-08T06:40:39.154Z"
   },
   {
    "duration": 17,
    "start_time": "2022-12-08T06:40:39.169Z"
   },
   {
    "duration": 15,
    "start_time": "2022-12-08T06:40:39.188Z"
   },
   {
    "duration": 39,
    "start_time": "2022-12-08T06:40:39.206Z"
   },
   {
    "duration": 22,
    "start_time": "2022-12-08T06:40:39.247Z"
   },
   {
    "duration": 11,
    "start_time": "2022-12-08T06:40:39.271Z"
   },
   {
    "duration": 23,
    "start_time": "2022-12-08T06:40:39.283Z"
   },
   {
    "duration": 5,
    "start_time": "2022-12-08T06:40:39.308Z"
   },
   {
    "duration": 11,
    "start_time": "2022-12-08T06:40:39.315Z"
   },
   {
    "duration": 27,
    "start_time": "2022-12-08T06:40:39.328Z"
   },
   {
    "duration": 368104,
    "start_time": "2022-12-08T06:40:39.357Z"
   },
   {
    "duration": 700,
    "start_time": "2022-12-08T06:46:47.463Z"
   },
   {
    "duration": 20611,
    "start_time": "2022-12-08T07:17:02.758Z"
   },
   {
    "duration": 303179,
    "start_time": "2022-12-08T07:18:31.279Z"
   },
   {
    "duration": 9,
    "start_time": "2022-12-08T07:23:59.218Z"
   },
   {
    "duration": 20,
    "start_time": "2022-12-08T07:40:50.112Z"
   },
   {
    "duration": 5,
    "start_time": "2022-12-08T07:40:52.225Z"
   },
   {
    "duration": 5,
    "start_time": "2022-12-08T07:40:53.252Z"
   },
   {
    "duration": 11,
    "start_time": "2022-12-08T07:40:54.313Z"
   },
   {
    "duration": 5,
    "start_time": "2022-12-08T07:40:56.652Z"
   },
   {
    "duration": 4,
    "start_time": "2022-12-08T07:40:57.121Z"
   },
   {
    "duration": 24,
    "start_time": "2022-12-08T07:40:57.534Z"
   },
   {
    "duration": 5,
    "start_time": "2022-12-08T07:41:00.096Z"
   },
   {
    "duration": 6,
    "start_time": "2022-12-08T07:41:00.932Z"
   },
   {
    "duration": 20,
    "start_time": "2022-12-08T07:41:01.809Z"
   },
   {
    "duration": 5,
    "start_time": "2022-12-08T07:41:02.536Z"
   },
   {
    "duration": 5,
    "start_time": "2022-12-08T07:41:03.869Z"
   },
   {
    "duration": 23,
    "start_time": "2022-12-08T07:41:04.629Z"
   },
   {
    "duration": 374442,
    "start_time": "2022-12-08T07:42:06.317Z"
   },
   {
    "duration": 693,
    "start_time": "2022-12-08T07:48:20.760Z"
   }
  ],
  "kernelspec": {
   "display_name": "Python 3 (ipykernel)",
   "language": "python",
   "name": "python3"
  },
  "language_info": {
   "codemirror_mode": {
    "name": "ipython",
    "version": 3
   },
   "file_extension": ".py",
   "mimetype": "text/x-python",
   "name": "python",
   "nbconvert_exporter": "python",
   "pygments_lexer": "ipython3",
   "version": "3.9.12"
  },
  "toc": {
   "base_numbering": 1,
   "nav_menu": {},
   "number_sections": true,
   "sideBar": true,
   "skip_h1_title": true,
   "title_cell": "Table of Contents",
   "title_sidebar": "Contents",
   "toc_cell": false,
   "toc_position": {},
   "toc_section_display": true,
   "toc_window_display": false
  }
 },
 "nbformat": 4,
 "nbformat_minor": 2
}
