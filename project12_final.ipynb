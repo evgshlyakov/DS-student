{
 "cells": [
  {
   "cell_type": "markdown",
   "metadata": {},
   "source": [
    "<img src=\"http://s3.amazonaws.com/pix.iemoji.com/images/emoji/apple/ios-12/256/waving-hand.png\" align=left width=44, heigth=44>\n",
    "<div class=\"alert alert-info\">\n",
    "<b> Комментарий ревьюера</b>\n",
    "\n",
    "\n",
    "Привет, Евгений! Давай знакомиться! Меня зовут Дмитрий Махортов, и я буду проверять твой проект. Сразу предлагаю общение на «ты» 🙂, но если тебе это не комфортно, то дай знать, и мы перейдем на «вы». \n",
    "\n",
    "Моя основная цель — не указать на совершенные тобою ошибки, а поделиться своим опытом и помочь тебе погрузиться в увлекательный мир работы с данными и вырасти в крепкого профи. Это отдаленная цель. А ближайшая - сделать твою работу еще лучше )).\n",
    "   \n",
    "    \n",
    "Все ключевые этапы в работе выполнены, и я вижу что с проектом ты справшяешься. Есть моменты, которые нужно доработать, но я уверен, у тебя все получится.\n",
    "        \n",
    "Расскажу как обычно проходит проверка:    \n",
    "Бывают моменты, которые требуют пристального внимания. Комментарии по ним выделены <span style='background-color:#F7B3A4'> красным цветом </span> и обозначены значком 🛑. После их доработки проект будет принят.  🙂\n",
    " \n",
    "<span style='background-color:#B7EBA7'> Зеленым цветом </span> и значком ✅ отмечены удачные и элегантные решения, на которые можно опираться в будущих проектах. Или советы «со звездочкой», которые помогут тебе в будущем.\n",
    "\n",
    "<span style='background-color:#F9EDA6'>Жёлтым цветом </span> и значком ⚠️ выделено то, что в следующий раз можно сделать по-другому. Ты можешь учесть эти комментарии при выполнении будущих заданий или доработать проект сейчас (однако это не обязательно).\n",
    "\n",
    "Давай работать над проектом в диалоге: **если ты что-то меняешь в проекте по моим рекомендациям — пиши об этом**. Выбери для своих комментариев какой-то заметный цвет, так мне будет легче отследить изменения. Пожалуйста, **не перемещай, не изменяй и не удаляй мои комментарии**. Всё это поможет выполнить повторную проверку твоего проекта оперативнее. \n",
    "</div>"
   ]
  },
  {
   "cell_type": "markdown",
   "metadata": {
    "toc": true
   },
   "source": [
    "<h1>Содержание<span class=\"tocSkip\"></span></h1>\n",
    "<div class=\"toc\"><ul class=\"toc-item\"><li><span><a href=\"#Подготовка\" data-toc-modified-id=\"Подготовка-1\"><span class=\"toc-item-num\">1&nbsp;&nbsp;</span>Подготовка</a></span></li><li><span><a href=\"#Обучение\" data-toc-modified-id=\"Обучение-2\"><span class=\"toc-item-num\">2&nbsp;&nbsp;</span>Обучение</a></span></li><li><span><a href=\"#Выводы\" data-toc-modified-id=\"Выводы-3\"><span class=\"toc-item-num\">3&nbsp;&nbsp;</span>Выводы</a></span></li><li><span><a href=\"#Чек-лист-проверки\" data-toc-modified-id=\"Чек-лист-проверки-4\"><span class=\"toc-item-num\">4&nbsp;&nbsp;</span>Чек-лист проверки</a></span></li></ul></div>"
   ]
  },
  {
   "cell_type": "markdown",
   "metadata": {},
   "source": [
    "# Проект для «Викишоп»"
   ]
  },
  {
   "cell_type": "markdown",
   "metadata": {},
   "source": [
    "Интернет-магазин «Викишоп» запускает новый сервис. Теперь пользователи могут редактировать и дополнять описания товаров, как в вики-сообществах. То есть клиенты предлагают свои правки и комментируют изменения других. Магазину нужен инструмент, который будет искать токсичные комментарии и отправлять их на модерацию. \n",
    "\n",
    "Цель исследования: обучить модель классифицировать комментарии на позитивные и негативные, основываясь на наборе данных с разметкой о токсичности правок.\n",
    "\n",
    "Необходимо построить модель со значением метрики качества *F1* не меньше 0.75. "
   ]
  },
  {
   "cell_type": "markdown",
   "metadata": {},
   "source": [
    "## Подготовка"
   ]
  },
  {
   "cell_type": "code",
   "execution_count": 1,
   "metadata": {},
   "outputs": [],
   "source": [
    "# импорт библиотек\n",
    "\n",
    "import os\n",
    "import re\n",
    "\n",
    "import numpy as np\n",
    "import pandas as pd\n",
    "from tqdm.notebook import tqdm\n",
    "\n",
    "import matplotlib.pyplot as plt\n",
    "import seaborn as sns\n",
    "\n",
    "import nltk\n",
    "from nltk.stem import WordNetLemmatizer \n",
    "from nltk.corpus import wordnet, stopwords\n",
    "\n",
    "from sklearn.linear_model import LogisticRegression\n",
    "from sklearn.tree import DecisionTreeClassifier\n",
    "from sklearn.ensemble import RandomForestClassifier \n",
    "from sklearn.feature_extraction.text import TfidfVectorizer\n",
    "from sklearn.model_selection import train_test_split, GridSearchCV\n",
    "from sklearn.metrics import f1_score\n",
    "from sklearn.utils import shuffle\n",
    "from sklearn.pipeline import Pipeline\n",
    "\n",
    "from lightgbm import LGBMClassifier"
   ]
  },
  {
   "cell_type": "markdown",
   "metadata": {},
   "source": [
    "<img src=\"https://emojigraph.org/media/apple/check-mark-button_2705.png\" align=left width=33, heigth=33>\n",
    "<div class=\"alert alert-success\">\n",
    "Отлично, все нужные библиотеки импортированы в начале ноутбука.Это хорошая практика.</div>"
   ]
  },
  {
   "cell_type": "code",
   "execution_count": 2,
   "metadata": {
    "scrolled": true
   },
   "outputs": [],
   "source": [
    "# чтение файла с разных источников\n",
    "\n",
    "pth1 = '/datasets/toxic_comments.csv'\n",
    "pth2 = 'toxic_comments.csv'\n",
    "\n",
    "if os.path.exists(pth1):\n",
    "    comments = pd.read_csv(pth1, index_col=0)\n",
    "    \n",
    "elif os.path.exists(pth2):\n",
    "    comments = pd.read_csv(pth2, index_col=0)\n",
    "    \n",
    "else:\n",
    "    print('Файл не найден') "
   ]
  },
  {
   "cell_type": "code",
   "execution_count": 3,
   "metadata": {},
   "outputs": [
    {
     "data": {
      "text/html": [
       "<div>\n",
       "<style scoped>\n",
       "    .dataframe tbody tr th:only-of-type {\n",
       "        vertical-align: middle;\n",
       "    }\n",
       "\n",
       "    .dataframe tbody tr th {\n",
       "        vertical-align: top;\n",
       "    }\n",
       "\n",
       "    .dataframe thead th {\n",
       "        text-align: right;\n",
       "    }\n",
       "</style>\n",
       "<table border=\"1\" class=\"dataframe\">\n",
       "  <thead>\n",
       "    <tr style=\"text-align: right;\">\n",
       "      <th></th>\n",
       "      <th>text</th>\n",
       "      <th>toxic</th>\n",
       "    </tr>\n",
       "  </thead>\n",
       "  <tbody>\n",
       "    <tr>\n",
       "      <th>0</th>\n",
       "      <td>Explanation\\nWhy the edits made under my usern...</td>\n",
       "      <td>0</td>\n",
       "    </tr>\n",
       "    <tr>\n",
       "      <th>1</th>\n",
       "      <td>D'aww! He matches this background colour I'm s...</td>\n",
       "      <td>0</td>\n",
       "    </tr>\n",
       "    <tr>\n",
       "      <th>2</th>\n",
       "      <td>Hey man, I'm really not trying to edit war. It...</td>\n",
       "      <td>0</td>\n",
       "    </tr>\n",
       "    <tr>\n",
       "      <th>3</th>\n",
       "      <td>\"\\nMore\\nI can't make any real suggestions on ...</td>\n",
       "      <td>0</td>\n",
       "    </tr>\n",
       "    <tr>\n",
       "      <th>4</th>\n",
       "      <td>You, sir, are my hero. Any chance you remember...</td>\n",
       "      <td>0</td>\n",
       "    </tr>\n",
       "  </tbody>\n",
       "</table>\n",
       "</div>"
      ],
      "text/plain": [
       "                                                text  toxic\n",
       "0  Explanation\\nWhy the edits made under my usern...      0\n",
       "1  D'aww! He matches this background colour I'm s...      0\n",
       "2  Hey man, I'm really not trying to edit war. It...      0\n",
       "3  \"\\nMore\\nI can't make any real suggestions on ...      0\n",
       "4  You, sir, are my hero. Any chance you remember...      0"
      ]
     },
     "execution_count": 3,
     "metadata": {},
     "output_type": "execute_result"
    }
   ],
   "source": [
    "# знакомство с данными\n",
    "comments.head()"
   ]
  },
  {
   "cell_type": "code",
   "execution_count": 4,
   "metadata": {
    "scrolled": true
   },
   "outputs": [
    {
     "name": "stdout",
     "output_type": "stream",
     "text": [
      "<class 'pandas.core.frame.DataFrame'>\n",
      "Int64Index: 159292 entries, 0 to 159450\n",
      "Data columns (total 2 columns):\n",
      " #   Column  Non-Null Count   Dtype \n",
      "---  ------  --------------   ----- \n",
      " 0   text    159292 non-null  object\n",
      " 1   toxic   159292 non-null  int64 \n",
      "dtypes: int64(1), object(1)\n",
      "memory usage: 3.6+ MB\n"
     ]
    }
   ],
   "source": [
    " # информация о пропусках\n",
    "comments.info()"
   ]
  },
  {
   "cell_type": "code",
   "execution_count": 5,
   "metadata": {},
   "outputs": [
    {
     "data": {
      "text/plain": [
       "0"
      ]
     },
     "execution_count": 5,
     "metadata": {},
     "output_type": "execute_result"
    }
   ],
   "source": [
    "# проверка на дубликаты\n",
    "comments.duplicated().sum()"
   ]
  },
  {
   "cell_type": "code",
   "execution_count": 6,
   "metadata": {},
   "outputs": [],
   "source": [
    "# функция очитски текста от всех символов, кроме английских букв и апострофа \n",
    "def clear_text(text):\n",
    "    text_clear = re.sub(r\"[^a-zA-Z' ]\", ' ', text)\n",
    "    text_clear = text_clear.split()\n",
    "    text_clear = ' '.join(text_clear)\n",
    "    return text_clear  "
   ]
  },
  {
   "cell_type": "code",
   "execution_count": 7,
   "metadata": {},
   "outputs": [
    {
     "data": {
      "text/html": [
       "<div>\n",
       "<style scoped>\n",
       "    .dataframe tbody tr th:only-of-type {\n",
       "        vertical-align: middle;\n",
       "    }\n",
       "\n",
       "    .dataframe tbody tr th {\n",
       "        vertical-align: top;\n",
       "    }\n",
       "\n",
       "    .dataframe thead th {\n",
       "        text-align: right;\n",
       "    }\n",
       "</style>\n",
       "<table border=\"1\" class=\"dataframe\">\n",
       "  <thead>\n",
       "    <tr style=\"text-align: right;\">\n",
       "      <th></th>\n",
       "      <th>text</th>\n",
       "      <th>toxic</th>\n",
       "    </tr>\n",
       "  </thead>\n",
       "  <tbody>\n",
       "    <tr>\n",
       "      <th>0</th>\n",
       "      <td>Explanation Why the edits made under my userna...</td>\n",
       "      <td>0</td>\n",
       "    </tr>\n",
       "    <tr>\n",
       "      <th>1</th>\n",
       "      <td>D'aww He matches this background colour I'm se...</td>\n",
       "      <td>0</td>\n",
       "    </tr>\n",
       "    <tr>\n",
       "      <th>2</th>\n",
       "      <td>Hey man I'm really not trying to edit war It's...</td>\n",
       "      <td>0</td>\n",
       "    </tr>\n",
       "    <tr>\n",
       "      <th>3</th>\n",
       "      <td>More I can't make any real suggestions on impr...</td>\n",
       "      <td>0</td>\n",
       "    </tr>\n",
       "    <tr>\n",
       "      <th>4</th>\n",
       "      <td>You sir are my hero Any chance you remember wh...</td>\n",
       "      <td>0</td>\n",
       "    </tr>\n",
       "  </tbody>\n",
       "</table>\n",
       "</div>"
      ],
      "text/plain": [
       "                                                text  toxic\n",
       "0  Explanation Why the edits made under my userna...      0\n",
       "1  D'aww He matches this background colour I'm se...      0\n",
       "2  Hey man I'm really not trying to edit war It's...      0\n",
       "3  More I can't make any real suggestions on impr...      0\n",
       "4  You sir are my hero Any chance you remember wh...      0"
      ]
     },
     "execution_count": 7,
     "metadata": {},
     "output_type": "execute_result"
    }
   ],
   "source": [
    "# очистка от лишних символов столбца с твитами\n",
    "comments['text'] = comments['text'].apply(lambda x: clear_text(x))\n",
    "comments.head()"
   ]
  },
  {
   "cell_type": "markdown",
   "metadata": {},
   "source": [
    "<img src=\"https://emojigraph.org/media/apple/check-mark-button_2705.png\" align=left width=33, heigth=33>\n",
    "<div class=\"alert alert-success\">\n",
    " 👍 </div>"
   ]
  },
  {
   "cell_type": "code",
   "execution_count": 8,
   "metadata": {},
   "outputs": [],
   "source": [
    "# функция лемматизации\n",
    "lemmatizer = WordNetLemmatizer()\n",
    "\n",
    "def get_wordnet_pos(word):\n",
    "    \"\"\"\n",
    "    Определяет тэг, какой частью речи является слово   \n",
    "    \"\"\"\n",
    "    tag = nltk.pos_tag([word])[0][1][0].upper()\n",
    "    tag_dict = {\"J\": wordnet.ADJ,\n",
    "                \"N\": wordnet.NOUN,\n",
    "                \"V\": wordnet.VERB,\n",
    "                \"R\": wordnet.ADV}\n",
    "    return tag_dict.get(tag, wordnet.NOUN)\n",
    "\n",
    "def lemm_english(sentence):\n",
    "    \"\"\"\n",
    "    Лемматизирует набор слов   \n",
    "    \"\"\"\n",
    "    words = nltk.word_tokenize(sentence)\n",
    "    \n",
    "    lemm_sentence = []\n",
    "    \n",
    "    for w in words:\n",
    "        lemm_word = lemmatizer.lemmatize(w, get_wordnet_pos(w))\n",
    "        lemm_sentence.append(lemm_word)\n",
    "    return ' '.join(lemm_sentence).lower()"
   ]
  },
  {
   "cell_type": "markdown",
   "metadata": {},
   "source": [
    "<img src=\"https://emojigraph.org/media/apple/check-mark-button_2705.png\" align=left width=33, heigth=33>\n",
    "<div class=\"alert alert-success\">\n",
    "🔥</div>"
   ]
  },
  {
   "cell_type": "code",
   "execution_count": 9,
   "metadata": {
    "scrolled": true
   },
   "outputs": [
    {
     "name": "stderr",
     "output_type": "stream",
     "text": [
      "[nltk_data] Downloading package averaged_perceptron_tagger to\n",
      "[nltk_data]     /home/jovyan/nltk_data...\n",
      "[nltk_data]   Package averaged_perceptron_tagger is already up-to-\n",
      "[nltk_data]       date!\n"
     ]
    },
    {
     "data": {
      "text/plain": [
       "True"
      ]
     },
     "execution_count": 9,
     "metadata": {},
     "output_type": "execute_result"
    }
   ],
   "source": [
    "nltk.download('averaged_perceptron_tagger')"
   ]
  },
  {
   "cell_type": "code",
   "execution_count": 10,
   "metadata": {},
   "outputs": [
    {
     "name": "stdout",
     "output_type": "stream",
     "text": [
      "CPU times: user 17min 2s, sys: 1min 40s, total: 18min 42s\n",
      "Wall time: 18min 42s\n"
     ]
    },
    {
     "data": {
      "text/html": [
       "<div>\n",
       "<style scoped>\n",
       "    .dataframe tbody tr th:only-of-type {\n",
       "        vertical-align: middle;\n",
       "    }\n",
       "\n",
       "    .dataframe tbody tr th {\n",
       "        vertical-align: top;\n",
       "    }\n",
       "\n",
       "    .dataframe thead th {\n",
       "        text-align: right;\n",
       "    }\n",
       "</style>\n",
       "<table border=\"1\" class=\"dataframe\">\n",
       "  <thead>\n",
       "    <tr style=\"text-align: right;\">\n",
       "      <th></th>\n",
       "      <th>text</th>\n",
       "      <th>toxic</th>\n",
       "      <th>lemm_text</th>\n",
       "    </tr>\n",
       "  </thead>\n",
       "  <tbody>\n",
       "    <tr>\n",
       "      <th>0</th>\n",
       "      <td>Explanation Why the edits made under my userna...</td>\n",
       "      <td>0</td>\n",
       "      <td>explanation why the edits make under my userna...</td>\n",
       "    </tr>\n",
       "    <tr>\n",
       "      <th>1</th>\n",
       "      <td>D'aww He matches this background colour I'm se...</td>\n",
       "      <td>0</td>\n",
       "      <td>d'aww he match this background colour i 'm see...</td>\n",
       "    </tr>\n",
       "    <tr>\n",
       "      <th>2</th>\n",
       "      <td>Hey man I'm really not trying to edit war It's...</td>\n",
       "      <td>0</td>\n",
       "      <td>hey man i 'm really not try to edit war it 's ...</td>\n",
       "    </tr>\n",
       "    <tr>\n",
       "      <th>3</th>\n",
       "      <td>More I can't make any real suggestions on impr...</td>\n",
       "      <td>0</td>\n",
       "      <td>more i ca n't make any real suggestion on impr...</td>\n",
       "    </tr>\n",
       "    <tr>\n",
       "      <th>4</th>\n",
       "      <td>You sir are my hero Any chance you remember wh...</td>\n",
       "      <td>0</td>\n",
       "      <td>you sir be my hero any chance you remember wha...</td>\n",
       "    </tr>\n",
       "    <tr>\n",
       "      <th>...</th>\n",
       "      <td>...</td>\n",
       "      <td>...</td>\n",
       "      <td>...</td>\n",
       "    </tr>\n",
       "    <tr>\n",
       "      <th>159446</th>\n",
       "      <td>And for the second time of asking when your vi...</td>\n",
       "      <td>0</td>\n",
       "      <td>and for the second time of ask when your view ...</td>\n",
       "    </tr>\n",
       "    <tr>\n",
       "      <th>159447</th>\n",
       "      <td>You should be ashamed of yourself That is a ho...</td>\n",
       "      <td>0</td>\n",
       "      <td>you should be ashamed of yourself that be a ho...</td>\n",
       "    </tr>\n",
       "    <tr>\n",
       "      <th>159448</th>\n",
       "      <td>Spitzer Umm theres no actual article for prost...</td>\n",
       "      <td>0</td>\n",
       "      <td>spitzer umm there no actual article for prosti...</td>\n",
       "    </tr>\n",
       "    <tr>\n",
       "      <th>159449</th>\n",
       "      <td>And it looks like it was actually you who put ...</td>\n",
       "      <td>0</td>\n",
       "      <td>and it look like it be actually you who put on...</td>\n",
       "    </tr>\n",
       "    <tr>\n",
       "      <th>159450</th>\n",
       "      <td>And I really don't think you understand I came...</td>\n",
       "      <td>0</td>\n",
       "      <td>and i really do n't think you understand i com...</td>\n",
       "    </tr>\n",
       "  </tbody>\n",
       "</table>\n",
       "<p>159292 rows × 3 columns</p>\n",
       "</div>"
      ],
      "text/plain": [
       "                                                     text  toxic  \\\n",
       "0       Explanation Why the edits made under my userna...      0   \n",
       "1       D'aww He matches this background colour I'm se...      0   \n",
       "2       Hey man I'm really not trying to edit war It's...      0   \n",
       "3       More I can't make any real suggestions on impr...      0   \n",
       "4       You sir are my hero Any chance you remember wh...      0   \n",
       "...                                                   ...    ...   \n",
       "159446  And for the second time of asking when your vi...      0   \n",
       "159447  You should be ashamed of yourself That is a ho...      0   \n",
       "159448  Spitzer Umm theres no actual article for prost...      0   \n",
       "159449  And it looks like it was actually you who put ...      0   \n",
       "159450  And I really don't think you understand I came...      0   \n",
       "\n",
       "                                                lemm_text  \n",
       "0       explanation why the edits make under my userna...  \n",
       "1       d'aww he match this background colour i 'm see...  \n",
       "2       hey man i 'm really not try to edit war it 's ...  \n",
       "3       more i ca n't make any real suggestion on impr...  \n",
       "4       you sir be my hero any chance you remember wha...  \n",
       "...                                                   ...  \n",
       "159446  and for the second time of ask when your view ...  \n",
       "159447  you should be ashamed of yourself that be a ho...  \n",
       "159448  spitzer umm there no actual article for prosti...  \n",
       "159449  and it look like it be actually you who put on...  \n",
       "159450  and i really do n't think you understand i com...  \n",
       "\n",
       "[159292 rows x 3 columns]"
      ]
     },
     "execution_count": 10,
     "metadata": {},
     "output_type": "execute_result"
    }
   ],
   "source": [
    "%%time\n",
    "# лемматизация столбца с твитами\n",
    "# время выполнения кода 16 мин\n",
    "comments['lemm_text'] = comments['text'].apply(lambda x: lemm_english(x))\n",
    "comments"
   ]
  },
  {
   "cell_type": "markdown",
   "metadata": {},
   "source": [
    "<img src=\"https://emojigraph.org/media/apple/check-mark-button_2705.png\" align=left width=33, heigth=33>\n",
    "<div class=\"alert alert-success\">\n",
    "🔥Лемматизация проведена абсолютно корректно</div>"
   ]
  },
  {
   "cell_type": "code",
   "execution_count": 11,
   "metadata": {},
   "outputs": [
    {
     "data": {
      "text/html": [
       "<div>\n",
       "<style scoped>\n",
       "    .dataframe tbody tr th:only-of-type {\n",
       "        vertical-align: middle;\n",
       "    }\n",
       "\n",
       "    .dataframe tbody tr th {\n",
       "        vertical-align: top;\n",
       "    }\n",
       "\n",
       "    .dataframe thead th {\n",
       "        text-align: right;\n",
       "    }\n",
       "</style>\n",
       "<table border=\"1\" class=\"dataframe\">\n",
       "  <thead>\n",
       "    <tr style=\"text-align: right;\">\n",
       "      <th></th>\n",
       "      <th>text</th>\n",
       "      <th>toxic</th>\n",
       "      <th>lemm_text</th>\n",
       "    </tr>\n",
       "  </thead>\n",
       "  <tbody>\n",
       "    <tr>\n",
       "      <th>0</th>\n",
       "      <td>Explanation Why the edits made under my userna...</td>\n",
       "      <td>0</td>\n",
       "      <td>explanation why the edits make under my userna...</td>\n",
       "    </tr>\n",
       "    <tr>\n",
       "      <th>1</th>\n",
       "      <td>D'aww He matches this background colour I'm se...</td>\n",
       "      <td>0</td>\n",
       "      <td>d'aww he match this background colour i 'm see...</td>\n",
       "    </tr>\n",
       "    <tr>\n",
       "      <th>2</th>\n",
       "      <td>Hey man I'm really not trying to edit war It's...</td>\n",
       "      <td>0</td>\n",
       "      <td>hey man i 'm really not try to edit war it 's ...</td>\n",
       "    </tr>\n",
       "    <tr>\n",
       "      <th>3</th>\n",
       "      <td>More I can't make any real suggestions on impr...</td>\n",
       "      <td>0</td>\n",
       "      <td>more i ca n't make any real suggestion on impr...</td>\n",
       "    </tr>\n",
       "    <tr>\n",
       "      <th>4</th>\n",
       "      <td>You sir are my hero Any chance you remember wh...</td>\n",
       "      <td>0</td>\n",
       "      <td>you sir be my hero any chance you remember wha...</td>\n",
       "    </tr>\n",
       "  </tbody>\n",
       "</table>\n",
       "</div>"
      ],
      "text/plain": [
       "                                                text  toxic  \\\n",
       "0  Explanation Why the edits made under my userna...      0   \n",
       "1  D'aww He matches this background colour I'm se...      0   \n",
       "2  Hey man I'm really not trying to edit war It's...      0   \n",
       "3  More I can't make any real suggestions on impr...      0   \n",
       "4  You sir are my hero Any chance you remember wh...      0   \n",
       "\n",
       "                                           lemm_text  \n",
       "0  explanation why the edits make under my userna...  \n",
       "1  d'aww he match this background colour i 'm see...  \n",
       "2  hey man i 'm really not try to edit war it 's ...  \n",
       "3  more i ca n't make any real suggestion on impr...  \n",
       "4  you sir be my hero any chance you remember wha...  "
      ]
     },
     "execution_count": 11,
     "metadata": {},
     "output_type": "execute_result"
    }
   ],
   "source": [
    "# переиндексация данных\n",
    "comments.reset_index(drop=True, inplace=True)\n",
    "comments.head()"
   ]
  },
  {
   "cell_type": "code",
   "execution_count": 12,
   "metadata": {},
   "outputs": [],
   "source": [
    "# выделение стобца признаков и целевого признака\n",
    "features = comments['lemm_text']\n",
    "target = comments['toxic']"
   ]
  },
  {
   "cell_type": "code",
   "execution_count": 13,
   "metadata": {},
   "outputs": [
    {
     "data": {
      "text/plain": [
       "0    0.898388\n",
       "1    0.101612\n",
       "Name: toxic, dtype: float64"
      ]
     },
     "execution_count": 13,
     "metadata": {},
     "output_type": "execute_result"
    }
   ],
   "source": [
    "# баланс классов в целевом признаке\n",
    "target.value_counts(normalize=True)"
   ]
  },
  {
   "cell_type": "markdown",
   "metadata": {},
   "source": [
    "<img src=\"https://emojigraph.org/media/apple/check-mark-button_2705.png\" align=left width=33, heigth=33>\n",
    "<div class=\"alert alert-success\">\n",
    "Молодец, исследован баланс классов. Это важная информация для задачи классификации.</div>"
   ]
  },
  {
   "cell_type": "code",
   "execution_count": 14,
   "metadata": {},
   "outputs": [],
   "source": [
    "# разделение данных на обучающую и тестово-валидационную выборки\n",
    "features_train, features_testval, target_train, target_testval = train_test_split(\n",
    "    features, target, test_size=0.2, random_state=12345)"
   ]
  },
  {
   "cell_type": "code",
   "execution_count": 15,
   "metadata": {},
   "outputs": [
    {
     "name": "stdout",
     "output_type": "stream",
     "text": [
      "(127433,)\n",
      "(127433,)\n",
      "0    0.898331\n",
      "1    0.101669\n",
      "Name: toxic, dtype: float64\n"
     ]
    }
   ],
   "source": [
    "# размерность и доли классов в обучающей выборке\n",
    "print(features_train.shape)\n",
    "print(target_train.shape)\n",
    "print(target_train.value_counts(normalize=True))"
   ]
  },
  {
   "cell_type": "code",
   "execution_count": 16,
   "metadata": {},
   "outputs": [],
   "source": [
    "# разделение данных на валидационную и тестовую выборки\n",
    "features_val, features_test, target_val, target_test = train_test_split(\n",
    "    features_testval, target_testval, test_size=0.5, random_state=12345)"
   ]
  },
  {
   "cell_type": "markdown",
   "metadata": {},
   "source": [
    "<img src=\"https://emojigraph.org/media/apple/check-mark-button_2705.png\" align=left width=33, heigth=33>\n",
    "<div class=\"alert alert-success\">\n",
    "    \n",
    "Данные разделены на выборки. Но я бы посоветовал тебе изменить пропорции и выделить на тест 10%. Причина простая - модели, которые мы обучаем чувствительны к объему обучающих данных. Чем больше слов они увидят в процессе обучения, и оценят их вклад в \"токсичность\", тем лучше будут модели. А для корректного тестирования и 10% данных вполне достаточно, учитывая немаленький размер датасета.\n",
    "\n",
    "    \n",
    "А чтобы не переживать за баланс классов после разделения, используй stratify=True    \n",
    "</div>"
   ]
  },
  {
   "cell_type": "markdown",
   "metadata": {},
   "source": [
    "<div class=\"alert alert-info\"> <b>Комментарий студента:</b> Привет, Дмитрий! Спасибо за проверку и советы. Сейчас немного исправил пропорции обучающая-валидационная-тестовая на 80-10-10 (было 50-35-15). Баланс классов, в общем-то, не меняется.</div>"
   ]
  },
  {
   "cell_type": "markdown",
   "metadata": {},
   "source": [
    "<img src=\"https://emojigraph.org/media/apple/check-mark-button_2705.png\" align=left width=33, heigth=33>\n",
    "<div class=\"alert alert-success\">\n",
    "<b>v2</b> 👍 \n",
    "\n",
    "\n",
    "</div>"
   ]
  },
  {
   "cell_type": "code",
   "execution_count": 17,
   "metadata": {},
   "outputs": [
    {
     "name": "stdout",
     "output_type": "stream",
     "text": [
      "(15929,)\n",
      "(15929,)\n",
      "0    0.899115\n",
      "1    0.100885\n",
      "Name: toxic, dtype: float64\n"
     ]
    }
   ],
   "source": [
    "# размерность и доли классов в валидационной выборке\n",
    "print(features_val.shape)\n",
    "print(target_val.shape)\n",
    "print(target_val.value_counts(normalize=True))"
   ]
  },
  {
   "cell_type": "code",
   "execution_count": 18,
   "metadata": {},
   "outputs": [
    {
     "name": "stdout",
     "output_type": "stream",
     "text": [
      "(15930,)\n",
      "(15930,)\n",
      "0    0.898117\n",
      "1    0.101883\n",
      "Name: toxic, dtype: float64\n"
     ]
    }
   ],
   "source": [
    "# размерность и доли классов в тестовой выборке\n",
    "print(features_test.shape)\n",
    "print(target_test.shape)\n",
    "print(target_test.value_counts(normalize=True))"
   ]
  },
  {
   "cell_type": "code",
   "execution_count": 19,
   "metadata": {
    "scrolled": true
   },
   "outputs": [
    {
     "name": "stderr",
     "output_type": "stream",
     "text": [
      "[nltk_data] Downloading package stopwords to /home/jovyan/nltk_data...\n",
      "[nltk_data]   Package stopwords is already up-to-date!\n"
     ]
    }
   ],
   "source": [
    "# загрузка стоп-слов\n",
    "nltk.download('stopwords')\n",
    "stoplist = set(stopwords.words('english'))"
   ]
  },
  {
   "cell_type": "code",
   "execution_count": 20,
   "metadata": {
    "scrolled": true
   },
   "outputs": [],
   "source": [
    "# инициализация TF-IDF, подсчёт TF-IDF для обучающей и валидационной выборок\n",
    "count_tf_idf = TfidfVectorizer(stop_words=stoplist)\n",
    "tf_idf_train = count_tf_idf.fit_transform(features_train)\n",
    "tf_idf_val = count_tf_idf.transform(features_val)"
   ]
  },
  {
   "cell_type": "markdown",
   "metadata": {},
   "source": [
    "<img src=\"https://upload.wikimedia.org/wikipedia/commons/thumb/8/81/Stop_sign.png/240px-Stop_sign.png\" align=left width=35, heigth=35>\n",
    "<div class=\"alert alert-danger\">\n",
    "Нет смысла менять кодировку. Изменение кодировки увеличивает количество оперативной памяти, необходимой для хранения текстов. Но наши тексты написаны латиницей, поэтому вполне достаточно кодировки по умолчанию.</div>\n"
   ]
  },
  {
   "cell_type": "markdown",
   "metadata": {},
   "source": [
    "<div class=\"alert alert-info\"> <b>Комментарий студента:</b> Убрал кодировку. А я её стал менять, потому что мне код выдавал ошибку *ValueError: np.nan is an invalid document, expected byte or unicode string.* Здесь осталась недосказанность, почему ошибка появилась и почему исчезла).</div>"
   ]
  },
  {
   "cell_type": "markdown",
   "metadata": {},
   "source": [
    "<img src=\"https://emojigraph.org/media/apple/check-mark-button_2705.png\" align=left width=33, heigth=33>\n",
    "<div class=\"alert alert-success\">\n",
    "<b>v2</b> 👍 \n",
    "\n",
    "Я встречал что-то подобное, но у меня это было связано с типами даных объектов (np.array)\n",
    "</div>"
   ]
  },
  {
   "cell_type": "markdown",
   "metadata": {},
   "source": [
    "<img src=\"https://emojigraph.org/media/apple/check-mark-button_2705.png\" align=left width=33, heigth=33>\n",
    "<div class=\"alert alert-success\">\n",
    "👍 Молодец, получены признаки из текстов с помощью TF-IDF. И совершенно верно векторайзер вначале обучен на обучающем наборе и затем применен к тестовому</div>"
   ]
  },
  {
   "cell_type": "markdown",
   "metadata": {},
   "source": [
    "## Обучение"
   ]
  },
  {
   "cell_type": "markdown",
   "metadata": {},
   "source": [
    "*Обучим модель LogisticRegression, передав параметр балансировки классов и подбирая гиперпараметр C*"
   ]
  },
  {
   "cell_type": "code",
   "execution_count": 21,
   "metadata": {
    "scrolled": true
   },
   "outputs": [
    {
     "data": {
      "application/vnd.jupyter.widget-view+json": {
       "model_id": "3e0924c434a943a09247db3adfb6c987",
       "version_major": 2,
       "version_minor": 0
      },
      "text/plain": [
       "  0%|          | 0/14 [00:00<?, ?it/s]"
      ]
     },
     "metadata": {},
     "output_type": "display_data"
    },
    {
     "name": "stdout",
     "output_type": "stream",
     "text": [
      "             С  f1_score\n",
      "0       0.0001  0.684146\n",
      "1     0.000336  0.685254\n",
      "2     0.001129  0.683959\n",
      "3     0.003793  0.674361\n",
      "4     0.012743  0.673896\n",
      "5     0.042813  0.681864\n",
      "6     0.143845  0.711145\n",
      "7     0.483293  0.733141\n",
      "8     1.623777  0.746566\n",
      "9     5.455595  0.763565\n",
      "10   18.329807  0.765908\n",
      "11   61.584821   0.75405\n",
      "12  206.913808   0.73252\n",
      "13  695.192796  0.710651\n"
     ]
    },
    {
     "data": {
      "image/png": "[encoded data removed]",
      "text/plain": [
       "<Figure size 432x288 with 1 Axes>"
      ]
     },
     "metadata": {},
     "output_type": "display_data"
    }
   ],
   "source": [
    "# подбор гиперпараметра С для LogisticRegression\n",
    "# шапка таблицы для построения графика\n",
    "df_c = pd.DataFrame(columns = ['С', 'f1_score'])\n",
    "count = 0\n",
    "\n",
    "for c in tqdm(np.logspace(-4, 6, num=20)[:14]):\n",
    "    model = LogisticRegression(random_state=12345, solver='liblinear', class_weight='balanced', C=c)\n",
    "    model.fit(tf_idf_train, target_train) \n",
    "    pred_val = model.predict(tf_idf_val)\n",
    "    \n",
    "    # заполняем таблицу гиперпараметра и метрики f1\n",
    "    df_c.loc[count, 'С'] = c\n",
    "    df_c.loc[count, 'f1_score'] = f1_score(target_val, pred_val)\n",
    "       \n",
    "    count += 1\n",
    "    \n",
    "# выводим метрику f1 на каждом изменении гиперпараметра C\n",
    "print(df_c)\n",
    "\n",
    "# строим график изменения f1 на валидационном наборе  \n",
    "sns.set_style('darkgrid')\n",
    "df_c = df_c.astype(float)\n",
    "plt.figsize = (6, 12)\n",
    "plt.title(\"F1 score at LogisticRegression validation\")\n",
    "sns.lineplot(x=\"С\", y=\"f1_score\", data=df_c).set(ylabel='f1');"
   ]
  },
  {
   "cell_type": "markdown",
   "metadata": {},
   "source": [
    "*Рассмотрим значения параметра С в меньшем диапазоне, от 6 до 25, где, судя по предыдущей таблице, наивысшие значения метрики F1 на валидационной выборке.* "
   ]
  },
  {
   "cell_type": "code",
   "execution_count": 22,
   "metadata": {
    "scrolled": false
   },
   "outputs": [
    {
     "data": {
      "application/vnd.jupyter.widget-view+json": {
       "model_id": "30e6063cee844953be712305673f73cd",
       "version_major": 2,
       "version_minor": 0
      },
      "text/plain": [
       "  0%|          | 0/20 [00:00<?, ?it/s]"
      ]
     },
     "metadata": {},
     "output_type": "display_data"
    },
    {
     "name": "stdout",
     "output_type": "stream",
     "text": [
      "     С  f1_score\n",
      "0    6  0.763514\n",
      "1    7   0.76414\n",
      "2    8  0.764472\n",
      "3    9  0.766079\n",
      "4   10  0.767561\n",
      "5   11  0.767954\n",
      "6   12  0.765616\n",
      "7   13  0.767155\n",
      "8   14  0.766801\n",
      "9   15  0.765872\n",
      "10  16  0.765737\n",
      "11  17  0.766312\n",
      "12  18  0.766619\n",
      "13  19  0.765908\n",
      "14  20  0.765232\n",
      "15  21  0.765404\n",
      "16  22  0.764383\n",
      "17  23  0.763478\n",
      "18  24  0.762761\n",
      "19  25  0.762485\n"
     ]
    },
    {
     "data": {
      "image/png": "[encoded data removed]",
      "text/plain": [
       "<Figure size 432x288 with 1 Axes>"
      ]
     },
     "metadata": {},
     "output_type": "display_data"
    }
   ],
   "source": [
    "# подбор гиперпараметра С от 6 до 25 для LogisticRegression\n",
    "# шапка таблицы для построения графика\n",
    "df_c1 = pd.DataFrame(columns = ['С', 'f1_score'])\n",
    "count = 0\n",
    "\n",
    "for c in tqdm(range(6, 26)):\n",
    "    model = LogisticRegression(random_state=12345, solver='liblinear', class_weight='balanced', C=c)\n",
    "    model.fit(tf_idf_train, target_train)\n",
    "    pred_val = model.predict(tf_idf_val)\n",
    "    \n",
    "    # заполняем таблицу гиперпараметра и метрики f1\n",
    "    df_c1.loc[count, 'С'] = c\n",
    "    df_c1.loc[count, 'f1_score'] = f1_score(target_val, pred_val)\n",
    "       \n",
    "    count += 1\n",
    "    \n",
    "# выводим метрику f1 на каждом изменении гиперпараметра C\n",
    "print(df_c1)\n",
    "\n",
    "# строим график изменения f1 на валидационном наборе  \n",
    "df_c1 = df_c1.astype(float)\n",
    "plt.figsize = (6, 12)\n",
    "plt.title(\"F1 score at LogisticRegression validation\")\n",
    "sns.lineplot(x=\"С\", y=\"f1_score\", data=df_c1).set(ylabel='f1');    "
   ]
  },
  {
   "cell_type": "code",
   "execution_count": 23,
   "metadata": {},
   "outputs": [
    {
     "data": {
      "text/html": [
       "<div>\n",
       "<style scoped>\n",
       "    .dataframe tbody tr th:only-of-type {\n",
       "        vertical-align: middle;\n",
       "    }\n",
       "\n",
       "    .dataframe tbody tr th {\n",
       "        vertical-align: top;\n",
       "    }\n",
       "\n",
       "    .dataframe thead th {\n",
       "        text-align: right;\n",
       "    }\n",
       "</style>\n",
       "<table border=\"1\" class=\"dataframe\">\n",
       "  <thead>\n",
       "    <tr style=\"text-align: right;\">\n",
       "      <th></th>\n",
       "      <th>С</th>\n",
       "      <th>f1_score</th>\n",
       "    </tr>\n",
       "  </thead>\n",
       "  <tbody>\n",
       "    <tr>\n",
       "      <th>5</th>\n",
       "      <td>11.0</td>\n",
       "      <td>0.767954</td>\n",
       "    </tr>\n",
       "  </tbody>\n",
       "</table>\n",
       "</div>"
      ],
      "text/plain": [
       "      С  f1_score\n",
       "5  11.0  0.767954"
      ]
     },
     "execution_count": 23,
     "metadata": {},
     "output_type": "execute_result"
    }
   ],
   "source": [
    "# значение C при наивысшей метрике F1\n",
    "df_c1[df_c1['f1_score'] == df_c1['f1_score'].max()]"
   ]
  },
  {
   "cell_type": "markdown",
   "metadata": {},
   "source": [
    "<img src=\"https://emojigraph.org/media/apple/check-mark-button_2705.png\" align=left width=33, heigth=33>\n",
    "<div class=\"alert alert-success\">\n",
    " 👍 </div>"
   ]
  },
  {
   "cell_type": "markdown",
   "metadata": {},
   "source": [
    "<img src=\"https://emojigraph.org/media/apple/check-mark-button_2705.png\" align=left width=33, heigth=33>\n",
    "<div class=\"alert alert-success\">\n",
    "Да, линейная регрессия очень хорошо работают с признаками, полученными из текстов. С помощью TF-IDF мы получили очень длинные разряженные вектора. И действительно, они очень длинные (длина около 140 000), при этом очень мало значений отличаются от нуля. Так вот, линейные модели гораздо лучше деревьев справляются с такими признаками и ты поступил совершенно верно, ослабив регуляризацию, что позволило модели лучше подстроитья под данные </div>"
   ]
  },
  {
   "cell_type": "code",
   "execution_count": 39,
   "metadata": {},
   "outputs": [],
   "source": [
    "# сохранение модели с лучшими гиперпараметрами\n",
    "best_model_regr = LogisticRegression(random_state=12345, solver='liblinear', class_weight='balanced', C=11) "
   ]
  },
  {
   "cell_type": "markdown",
   "metadata": {},
   "source": [
    "*Обучим модель RandomForestClassifier, передав параметр балансировки классов и подбирая гиперпараметры количества деревьев, глубины дерева и min_samples_leaf*"
   ]
  },
  {
   "cell_type": "code",
   "execution_count": 25,
   "metadata": {},
   "outputs": [
    {
     "data": {
      "application/vnd.jupyter.widget-view+json": {
       "model_id": "64e41cd7364f4598aba74221582a0615",
       "version_major": 2,
       "version_minor": 0
      },
      "text/plain": [
       "  0%|          | 0/11 [00:00<?, ?it/s]"
      ]
     },
     "metadata": {},
     "output_type": "display_data"
    },
    {
     "name": "stdout",
     "output_type": "stream",
     "text": [
      "Лучшая f1_score: 0.3892524015035501\n",
      "Количество деревьев: 250\n",
      "Глубина дерева: 20\n",
      "min_samples_leaf: 1\n"
     ]
    }
   ],
   "source": [
    "# подбор гиперпараметров в цикле для RandomForestClassifier\n",
    "\n",
    "best_model_forest = None\n",
    "best_result_f = 0\n",
    "best_est = 0\n",
    "best_depth = 0\n",
    "best_leaf = 0\n",
    "\n",
    "for depth in tqdm(range(10, 21)):\n",
    "    for est in range(50, 251, 100):\n",
    "        for leaf in range(1, 4):\n",
    "    \n",
    "            model = RandomForestClassifier(random_state=12345, n_estimators=est, max_depth=depth, \n",
    "                                           min_samples_leaf=3, class_weight='balanced')\n",
    "            model.fit(tf_idf_train, target_train)\n",
    "            pred_val = model.predict(tf_idf_val)\n",
    "            result = f1_score(target_val, pred_val)\n",
    "            \n",
    "            if result > best_result_f:\n",
    "                best_model_forest = model\n",
    "                best_result_f = result\n",
    "                best_est = est\n",
    "                best_depth = depth\n",
    "                best_leaf = leaf\n",
    "                \n",
    "print(\"Лучшая f1_score:\", best_result_f)\n",
    "print(\"Количество деревьев:\", best_est)\n",
    "print(\"Глубина дерева:\", best_depth)\n",
    "print(\"min_samples_leaf:\", best_leaf)"
   ]
  },
  {
   "cell_type": "markdown",
   "metadata": {},
   "source": [
    "<img src=\"https://emojigraph.org/media/apple/check-mark-button_2705.png\" align=left width=33, heigth=33>\n",
    "<div class=\"alert alert-success\">\n",
    " 👍 </div>"
   ]
  },
  {
   "cell_type": "markdown",
   "metadata": {},
   "source": [
    "*Обучим модель DecisionTreeClassifier, передав параметр балансировки классов и подбирая гиперпараметры глубины дерева и min_samples_leaf*"
   ]
  },
  {
   "cell_type": "code",
   "execution_count": 26,
   "metadata": {},
   "outputs": [
    {
     "data": {
      "application/vnd.jupyter.widget-view+json": {
       "model_id": "80712e7bd3e242948334164dc200d669",
       "version_major": 2,
       "version_minor": 0
      },
      "text/plain": [
       "  0%|          | 0/21 [00:00<?, ?it/s]"
      ]
     },
     "metadata": {},
     "output_type": "display_data"
    },
    {
     "name": "stdout",
     "output_type": "stream",
     "text": [
      "Лучшая f1_score: 0.6119850187265918\n",
      "Глубина дерева: 16\n",
      "min_samples_leaf: 9\n"
     ]
    }
   ],
   "source": [
    "# подбор гиперпараметров в цикле для DecisionTreeClassifier\n",
    "\n",
    "best_model_tree = None\n",
    "best_result_t = 0\n",
    "best_depth = 0\n",
    "best_leaf = 0\n",
    "    \n",
    "for depth in tqdm(range(1, 22)):\n",
    "    for leaf in range(1, 12):\n",
    "        \n",
    "        model = DecisionTreeClassifier(random_state=12345, max_depth=depth, min_samples_leaf=leaf, class_weight='balanced')\n",
    "        model.fit(tf_idf_train, target_train)\n",
    "        pred_val = model.predict(tf_idf_val)\n",
    "        result = f1_score(target_val, pred_val)\n",
    "            \n",
    "        if result > best_result_t:\n",
    "            best_model_tree = model\n",
    "            best_result_t = result\n",
    "            best_depth = depth\n",
    "            best_leaf = leaf\n",
    "                \n",
    "print(\"Лучшая f1_score:\", best_result_t)\n",
    "print(\"Глубина дерева:\", best_depth)\n",
    "print(\"min_samples_leaf:\", best_leaf)"
   ]
  },
  {
   "cell_type": "markdown",
   "metadata": {},
   "source": [
    "<img src=\"https://emojigraph.org/media/apple/check-mark-button_2705.png\" align=left width=33, heigth=33>\n",
    "<div class=\"alert alert-success\">\n",
    " 👍 </div>"
   ]
  },
  {
   "cell_type": "markdown",
   "metadata": {},
   "source": [
    "*Обучим модель LogisticRegression, увеличив класс 1 методом upsample до примерного равенства с классом 0 и подбирая гиперпараметр C*"
   ]
  },
  {
   "cell_type": "code",
   "execution_count": 27,
   "metadata": {},
   "outputs": [],
   "source": [
    "#функция увеличения класса 1 в определённое число раз\n",
    "\n",
    "def upsample(features, target, repeat):\n",
    "    features_zeros = features[target == 0]\n",
    "    features_ones = features[target == 1]\n",
    "    target_zeros = target[target == 0]\n",
    "    target_ones = target[target == 1]\n",
    "\n",
    "    features_upsampled = pd.concat([features_zeros] + [features_ones] * repeat)\n",
    "    target_upsampled = pd.concat([target_zeros] + [target_ones] * repeat)\n",
    "    \n",
    "    features_upsampled, target_upsampled = shuffle(\n",
    "        features_upsampled, target_upsampled, random_state=12345)\n",
    "    \n",
    "    return features_upsampled, target_upsampled"
   ]
  },
  {
   "cell_type": "code",
   "execution_count": 28,
   "metadata": {},
   "outputs": [
    {
     "name": "stdout",
     "output_type": "stream",
     "text": [
      "Увеличение класса 1 в 2 | Доля класса 1 в целевом признаке: 0.18457286539543696\n",
      "Увеличение класса 1 в 3 | Доля класса 1 в целевом признаке: 0.2534676709380808\n",
      "Увеличение класса 1 в 4 | Доля класса 1 в целевом признаке: 0.31162771119836924\n",
      "Увеличение класса 1 в 5 | Доля класса 1 в целевом признаке: 0.36138058764790215\n",
      "Увеличение класса 1 в 6 | Доля класса 1 в целевом признаке: 0.40442633952958434\n",
      "Увеличение класса 1 в 7 | Доля класса 1 в целевом признаке: 0.44203559017200456\n",
      "Увеличение класса 1 в 8 | Доля класса 1 в целевом признаке: 0.47517707736389686\n",
      "Увеличение класса 1 в 9 | Доля класса 1 в целевом признаке: 0.5046022823165903\n",
      "Увеличение класса 1 в 10 | Доля класса 1 в целевом признаке: 0.5309031007593111\n"
     ]
    }
   ],
   "source": [
    "# поиск параметра repeat, чтобы классы были примерно равными\n",
    "for i in range(2, 11):\n",
    "    features_upsampled, target_upsampled = upsample(features_train, target_train, i)\n",
    "    print(\"Увеличение класса 1 в\", i, \"| Доля класса 1 в целевом признаке:\",target_upsampled.value_counts(normalize=True)[1])"
   ]
  },
  {
   "cell_type": "code",
   "execution_count": 29,
   "metadata": {},
   "outputs": [],
   "source": [
    "# увеличение строк класса 1 в 9 раз для балансировки с классом 0\n",
    "features_upsampled, target_upsampled = upsample(features_train, target_train, 9)"
   ]
  },
  {
   "cell_type": "code",
   "execution_count": 30,
   "metadata": {},
   "outputs": [],
   "source": [
    "# перевод твитов в формат TF-IDF для увеличенного числа признаков\n",
    "tf_idf_train_upsampled = count_tf_idf.transform(features_upsampled)"
   ]
  },
  {
   "cell_type": "markdown",
   "metadata": {},
   "source": [
    "<img src=\"https://upload.wikimedia.org/wikipedia/commons/thumb/8/81/Stop_sign.png/240px-Stop_sign.png\" align=left width=35, heigth=35>\n",
    "<div class=\"alert alert-danger\">\n",
    "Нет смысла менять кодировку. Изменение кодировки увеличивает количество оперативной памяти, необходимой для хранения текстов. Но наши тексты написаны латиницей, поэтому вполне достаточно кодировки по умолчанию.</div>\n"
   ]
  },
  {
   "cell_type": "markdown",
   "metadata": {},
   "source": [
    "<div class=\"alert alert-info\"> <b>Комментарий студента:</b> Убрал кодировку.</div>"
   ]
  },
  {
   "cell_type": "markdown",
   "metadata": {},
   "source": [
    "<img src=\"https://emojigraph.org/media/apple/check-mark-button_2705.png\" align=left width=33, heigth=33>\n",
    "<div class=\"alert alert-success\">\n",
    "<b>v2</b> 👍 </div>"
   ]
  },
  {
   "cell_type": "markdown",
   "metadata": {},
   "source": [
    "*Подберём гиперпарметр С для модели с upsampled данными, аналогично обычным данным по обучающей выборке*"
   ]
  },
  {
   "cell_type": "code",
   "execution_count": 31,
   "metadata": {},
   "outputs": [
    {
     "data": {
      "application/vnd.jupyter.widget-view+json": {
       "model_id": "a274c0f5b4984ec2bb009ed553a1db87",
       "version_major": 2,
       "version_minor": 0
      },
      "text/plain": [
       "  0%|          | 0/14 [00:00<?, ?it/s]"
      ]
     },
     "metadata": {},
     "output_type": "display_data"
    },
    {
     "name": "stdout",
     "output_type": "stream",
     "text": [
      "             С  f1_score\n",
      "0       0.0001  0.420526\n",
      "1     0.000336  0.614005\n",
      "2     0.001129   0.66135\n",
      "3     0.003793  0.660673\n",
      "4     0.012743  0.670497\n",
      "5     0.042813  0.691284\n",
      "6     0.143845  0.721092\n",
      "7     0.483293   0.73729\n",
      "8     1.623777    0.7548\n",
      "9     5.455595  0.766249\n",
      "10   18.329807  0.757858\n",
      "11   61.584821  0.741201\n",
      "12  206.913808  0.723442\n",
      "13  695.192796  0.700739\n"
     ]
    },
    {
     "data": {
      "image/png": "[encoded data removed]",
      "text/plain": [
       "<Figure size 432x288 with 1 Axes>"
      ]
     },
     "metadata": {},
     "output_type": "display_data"
    }
   ],
   "source": [
    "# подбор гиперпараметра С для LogisticRegression upsampled\n",
    "# шапка таблицы для построения графика\n",
    "df_c2 = pd.DataFrame(columns = ['С', 'f1_score'])\n",
    "count = 0\n",
    "\n",
    "for c in tqdm(np.logspace(-4, 6, num=20)[:14]):\n",
    "    model = LogisticRegression(random_state=12345, solver='liblinear', C=c)\n",
    "    model.fit(tf_idf_train_upsampled, target_upsampled) \n",
    "    pred_val = model.predict(tf_idf_val)\n",
    "    \n",
    "    # заполняем таблицу гиперпараметра и метрики f1\n",
    "    df_c2.loc[count, 'С'] = c\n",
    "    df_c2.loc[count, 'f1_score'] = f1_score(target_val, pred_val)\n",
    "       \n",
    "    count += 1\n",
    "    \n",
    "# выводим метрику f1 на каждом изменении гиперпараметра C\n",
    "print(df_c2)\n",
    "\n",
    "# строим график изменения f1 на валидационном наборе  \n",
    "df_c2 = df_c2.astype(float)\n",
    "plt.figsize = (6, 12)\n",
    "plt.title(\"F1 score at LogisticRegression validation: equal classes\")\n",
    "sns.lineplot(x=\"С\", y=\"f1_score\", data=df_c2).set(ylabel='f1');"
   ]
  },
  {
   "cell_type": "code",
   "execution_count": 32,
   "metadata": {},
   "outputs": [
    {
     "data": {
      "application/vnd.jupyter.widget-view+json": {
       "model_id": "67974d338b3345fd81ec3878fe46265e",
       "version_major": 2,
       "version_minor": 0
      },
      "text/plain": [
       "  0%|          | 0/15 [00:00<?, ?it/s]"
      ]
     },
     "metadata": {},
     "output_type": "display_data"
    },
    {
     "name": "stdout",
     "output_type": "stream",
     "text": [
      "     С  f1_score\n",
      "0    1  0.747507\n",
      "1    2  0.757475\n",
      "2    3  0.761638\n",
      "3    4  0.763143\n",
      "4    5  0.766562\n",
      "5    6  0.767076\n",
      "6    7  0.766543\n",
      "7    8  0.766055\n",
      "8    9  0.764993\n",
      "9   10  0.765652\n",
      "10  11  0.765418\n",
      "11  12  0.764298\n",
      "12  13  0.762815\n",
      "13  14  0.762181\n",
      "14  15  0.761463\n"
     ]
    },
    {
     "data": {
      "image/png": "[encoded data removed]",
      "text/plain": [
       "<Figure size 432x288 with 1 Axes>"
      ]
     },
     "metadata": {},
     "output_type": "display_data"
    }
   ],
   "source": [
    "# подбор гиперпараметра С для LogisticRegression в дипазоне от 1 до 15\n",
    "# шапка таблицы для построения графика\n",
    "df_c3 = pd.DataFrame(columns = ['С', 'f1_score'])\n",
    "count = 0\n",
    "\n",
    "for c in tqdm(range(1, 16)):\n",
    "    model = LogisticRegression(random_state=12345, solver='liblinear', C=c)\n",
    "    model.fit(tf_idf_train_upsampled, target_upsampled)\n",
    "    pred_val = model.predict(tf_idf_val)\n",
    "    \n",
    "    # заполняем таблицу гиперпараметра и метрики f1\n",
    "    df_c3.loc[count, 'С'] = c\n",
    "    df_c3.loc[count, 'f1_score'] = f1_score(target_val, pred_val)\n",
    "       \n",
    "    count += 1\n",
    "    \n",
    "# выводим метрику f1 на каждом изменении гиперпараметра C\n",
    "print(df_c3)\n",
    "\n",
    "# строим график изменения f1 на валидационном наборе  \n",
    "df_c3 = df_c3.astype(float)\n",
    "plt.figsize = (6, 12)\n",
    "plt.title(\"F1 score at LogisticRegression validation: equal classes\")\n",
    "sns.lineplot(x=\"С\", y=\"f1_score\", data=df_c3).set(ylabel='f1');"
   ]
  },
  {
   "cell_type": "code",
   "execution_count": 33,
   "metadata": {},
   "outputs": [
    {
     "data": {
      "text/html": [
       "<div>\n",
       "<style scoped>\n",
       "    .dataframe tbody tr th:only-of-type {\n",
       "        vertical-align: middle;\n",
       "    }\n",
       "\n",
       "    .dataframe tbody tr th {\n",
       "        vertical-align: top;\n",
       "    }\n",
       "\n",
       "    .dataframe thead th {\n",
       "        text-align: right;\n",
       "    }\n",
       "</style>\n",
       "<table border=\"1\" class=\"dataframe\">\n",
       "  <thead>\n",
       "    <tr style=\"text-align: right;\">\n",
       "      <th></th>\n",
       "      <th>С</th>\n",
       "      <th>f1_score</th>\n",
       "    </tr>\n",
       "  </thead>\n",
       "  <tbody>\n",
       "    <tr>\n",
       "      <th>5</th>\n",
       "      <td>6.0</td>\n",
       "      <td>0.767076</td>\n",
       "    </tr>\n",
       "  </tbody>\n",
       "</table>\n",
       "</div>"
      ],
      "text/plain": [
       "     С  f1_score\n",
       "5  6.0  0.767076"
      ]
     },
     "execution_count": 33,
     "metadata": {},
     "output_type": "execute_result"
    }
   ],
   "source": [
    "# значение C при наивысшей метрике F1\n",
    "df_c3[df_c3['f1_score'] == df_c3['f1_score'].max()]"
   ]
  },
  {
   "cell_type": "code",
   "execution_count": 34,
   "metadata": {},
   "outputs": [],
   "source": [
    "# сохранение модели с лучшими гиперпараметрами для LogisticRegression-upsampled\n",
    "best_model_regr_up = LogisticRegression(random_state=12345, solver='liblinear', C=6) "
   ]
  },
  {
   "cell_type": "markdown",
   "metadata": {},
   "source": [
    "*Обучим модель градиентного бустинга LGBMClassifier, подбирая гиперпараметры с помощью кросс-валидации. Для этого объединим обучающую и валидационную выборки.*"
   ]
  },
  {
   "cell_type": "code",
   "execution_count": 35,
   "metadata": {},
   "outputs": [],
   "source": [
    "# объединение признаков (а также целевых признаков) в обучающей и валидационной выборках\n",
    "features_trainval = pd.concat([features_train, features_val])\n",
    "target_trainval = pd.concat([target_train, target_val])"
   ]
  },
  {
   "cell_type": "markdown",
   "metadata": {},
   "source": [
    "<img src=\"https://upload.wikimedia.org/wikipedia/commons/thumb/8/81/Stop_sign.png/240px-Stop_sign.png\" align=left width=35, heigth=35>\n",
    "<div class=\"alert alert-danger\">\n",
    "Нет смысла менять кодировку. Изменение кодировки увеличивает количество оперативной памяти, необходимой для хранения текстов. Но наши тексты написаны латиницей, поэтому вполне достаточно кодировки по умолчанию.</div>\n"
   ]
  },
  {
   "cell_type": "markdown",
   "metadata": {},
   "source": [
    "<div class=\"alert alert-info\"> <b>Комментарий студента:</b> Здесь вообще убрал трансформацию в TF-IDF, так как далее это сделает Pipeline.</div>"
   ]
  },
  {
   "cell_type": "markdown",
   "metadata": {},
   "source": [
    "<img src=\"https://emojigraph.org/media/apple/check-mark-button_2705.png\" align=left width=33, heigth=33>\n",
    "<div class=\"alert alert-success\">\n",
    "<b>v2</b> 👍 </div>"
   ]
  },
  {
   "cell_type": "code",
   "execution_count": 36,
   "metadata": {},
   "outputs": [
    {
     "name": "stdout",
     "output_type": "stream",
     "text": [
      "Fitting 3 folds for each of 6 candidates, totalling 18 fits\n",
      "[CV 1/3; 1/6] START lgb__learning_rate=0.1, lgb__n_estimators=50................\n",
      "[CV 1/3; 1/6] END lgb__learning_rate=0.1, lgb__n_estimators=50; total time= 2.0min\n",
      "[CV 2/3; 1/6] START lgb__learning_rate=0.1, lgb__n_estimators=50................\n",
      "[CV 2/3; 1/6] END lgb__learning_rate=0.1, lgb__n_estimators=50; total time= 1.9min\n",
      "[CV 3/3; 1/6] START lgb__learning_rate=0.1, lgb__n_estimators=50................\n",
      "[CV 3/3; 1/6] END lgb__learning_rate=0.1, lgb__n_estimators=50; total time= 2.4min\n",
      "[CV 1/3; 2/6] START lgb__learning_rate=0.1, lgb__n_estimators=120...............\n",
      "[CV 1/3; 2/6] END lgb__learning_rate=0.1, lgb__n_estimators=120; total time= 3.3min\n",
      "[CV 2/3; 2/6] START lgb__learning_rate=0.1, lgb__n_estimators=120...............\n",
      "[CV 2/3; 2/6] END lgb__learning_rate=0.1, lgb__n_estimators=120; total time= 3.5min\n",
      "[CV 3/3; 2/6] START lgb__learning_rate=0.1, lgb__n_estimators=120...............\n",
      "[CV 3/3; 2/6] END lgb__learning_rate=0.1, lgb__n_estimators=120; total time= 4.5min\n",
      "[CV 1/3; 3/6] START lgb__learning_rate=0.1, lgb__n_estimators=150...............\n",
      "[CV 1/3; 3/6] END lgb__learning_rate=0.1, lgb__n_estimators=150; total time= 4.6min\n",
      "[CV 2/3; 3/6] START lgb__learning_rate=0.1, lgb__n_estimators=150...............\n",
      "[CV 2/3; 3/6] END lgb__learning_rate=0.1, lgb__n_estimators=150; total time=12.1min\n",
      "[CV 3/3; 3/6] START lgb__learning_rate=0.1, lgb__n_estimators=150...............\n",
      "[CV 3/3; 3/6] END lgb__learning_rate=0.1, lgb__n_estimators=150; total time= 5.9min\n",
      "[CV 1/3; 4/6] START lgb__learning_rate=0.5, lgb__n_estimators=50................\n",
      "[CV 1/3; 4/6] END lgb__learning_rate=0.5, lgb__n_estimators=50; total time= 1.7min\n",
      "[CV 2/3; 4/6] START lgb__learning_rate=0.5, lgb__n_estimators=50................\n",
      "[CV 2/3; 4/6] END lgb__learning_rate=0.5, lgb__n_estimators=50; total time= 1.6min\n",
      "[CV 3/3; 4/6] START lgb__learning_rate=0.5, lgb__n_estimators=50................\n",
      "[CV 3/3; 4/6] END lgb__learning_rate=0.5, lgb__n_estimators=50; total time= 1.6min\n",
      "[CV 1/3; 5/6] START lgb__learning_rate=0.5, lgb__n_estimators=120...............\n",
      "[CV 1/3; 5/6] END lgb__learning_rate=0.5, lgb__n_estimators=120; total time= 3.1min\n",
      "[CV 2/3; 5/6] START lgb__learning_rate=0.5, lgb__n_estimators=120...............\n",
      "[CV 2/3; 5/6] END lgb__learning_rate=0.5, lgb__n_estimators=120; total time= 2.8min\n",
      "[CV 3/3; 5/6] START lgb__learning_rate=0.5, lgb__n_estimators=120...............\n",
      "[CV 3/3; 5/6] END lgb__learning_rate=0.5, lgb__n_estimators=120; total time= 2.9min\n",
      "[CV 1/3; 6/6] START lgb__learning_rate=0.5, lgb__n_estimators=150...............\n",
      "[CV 1/3; 6/6] END lgb__learning_rate=0.5, lgb__n_estimators=150; total time= 3.6min\n",
      "[CV 2/3; 6/6] START lgb__learning_rate=0.5, lgb__n_estimators=150...............\n",
      "[CV 2/3; 6/6] END lgb__learning_rate=0.5, lgb__n_estimators=150; total time= 3.5min\n",
      "[CV 3/3; 6/6] START lgb__learning_rate=0.5, lgb__n_estimators=150...............\n",
      "[CV 3/3; 6/6] END lgb__learning_rate=0.5, lgb__n_estimators=150; total time= 3.6min\n",
      "Лучшая F1 для LGBM: 0.7586 при значениях гиперпараметров: {'lgb__learning_rate': 0.5, 'lgb__n_estimators': 120}\n",
      "CPU times: user 1h 7min 58s, sys: 167 ms, total: 1h 7min 59s\n",
      "Wall time: 1h 8min 33s\n"
     ]
    }
   ],
   "source": [
    "%%time\n",
    "# инициализируем Pipeline\n",
    "pipeline = Pipeline(\n",
    "    [\n",
    "        ('tfidf', TfidfVectorizer(stop_words=stoplist)), \n",
    "        ('lgb', LGBMClassifier(random_state=12345)) \n",
    "    ]\n",
    ")\n",
    "\n",
    "# список гиперпараметров для подбора\n",
    "parameters_grid = {\n",
    "    'lgb__n_estimators': [50, 120, 150],\n",
    "    'lgb__learning_rate': [0.1, 0.5]\n",
    "}\n",
    "\n",
    "# подбор лучшей модели LGBMClassifier\n",
    "grid_lgb = GridSearchCV(\n",
    "    estimator=pipeline,\n",
    "    param_grid=parameters_grid,\n",
    "    cv=3,\n",
    "    scoring='f1',\n",
    "    n_jobs=-1,\n",
    "    verbose=10\n",
    ")\n",
    "\n",
    "grid_lgb.fit(features_trainval, target_trainval)\n",
    "\n",
    "print('Лучшая F1 для LGBM: {:.4f} при значениях гиперпараметров: {}'.\\\n",
    "      format(grid_lgb.best_score_, grid_lgb.best_params_))"
   ]
  },
  {
   "cell_type": "markdown",
   "metadata": {},
   "source": [
    "<img src=\"https://upload.wikimedia.org/wikipedia/commons/b/ba/Warning_sign_4.0.png\" align=left width=44, heigth=33>\n",
    "<div class=\"alert alert-warning\">\n",
    "Поиск по сетке использует крос-валидацию.  А кросс-валидация одновремено с извлечением признаков из текстов требует особого подхода. Ты помнишь, что векторайзер мы обучали на обучающей выборке а применяли к тестовой и валидационной. Что происходит при кросс-валидации? Ты разбиваешь большую обучающую выборку на несколько фолдов, из них выделяешь часть на обучение, часть на валидацию.  Но признаки (TF-IDF) уже обучены на всем наборе (обучающий + валидационный). Получается утечка данных. Чтобы избежать её нужно использовать pipeline из векторайзера и модели.\n",
    "    \n",
    "Пример такого пайплайна можно посмотреть в официальной документации\n",
    "    \n",
    "  https://scikit-learn.org/stable/auto_examples/model_selection/plot_grid_search_text_feature_extraction.html\n",
    "    \n",
    "И еще полезные материалы:\n",
    "    \n",
    "  https://newtechaudit.ru/pipeline-v-rabote-s-dannymi/      \n",
    "</div>"
   ]
  },
  {
   "cell_type": "markdown",
   "metadata": {},
   "source": [
    "<div class=\"alert alert-info\"> <b>Комментарий студента:</b> Да, отличный метод. Применил.</div>"
   ]
  },
  {
   "cell_type": "markdown",
   "metadata": {},
   "source": [
    "<img src=\"https://emojigraph.org/media/apple/check-mark-button_2705.png\" align=left width=33, heigth=33>\n",
    "<div class=\"alert alert-success\">\n",
    "<b>v2</b> Снимаю шляпу ))) </div>"
   ]
  },
  {
   "cell_type": "markdown",
   "metadata": {},
   "source": [
    "<img src=\"https://emojigraph.org/media/apple/check-mark-button_2705.png\" align=left width=33, heigth=33>\n",
    "<div class=\"alert alert-success\">\n",
    "Огромное количество экспериментов и подходов. Молодец, прими искреннее восхищение.</div>"
   ]
  },
  {
   "cell_type": "markdown",
   "metadata": {},
   "source": [
    "## Выводы"
   ]
  },
  {
   "cell_type": "code",
   "execution_count": 37,
   "metadata": {},
   "outputs": [
    {
     "data": {
      "text/html": [
       "<div>\n",
       "<style scoped>\n",
       "    .dataframe tbody tr th:only-of-type {\n",
       "        vertical-align: middle;\n",
       "    }\n",
       "\n",
       "    .dataframe tbody tr th {\n",
       "        vertical-align: top;\n",
       "    }\n",
       "\n",
       "    .dataframe thead th {\n",
       "        text-align: right;\n",
       "    }\n",
       "</style>\n",
       "<table border=\"1\" class=\"dataframe\">\n",
       "  <thead>\n",
       "    <tr style=\"text-align: right;\">\n",
       "      <th></th>\n",
       "      <th>model</th>\n",
       "      <th>f1</th>\n",
       "    </tr>\n",
       "  </thead>\n",
       "  <tbody>\n",
       "    <tr>\n",
       "      <th>0</th>\n",
       "      <td>DecisionTreeClassifier</td>\n",
       "      <td>0.611985</td>\n",
       "    </tr>\n",
       "    <tr>\n",
       "      <th>1</th>\n",
       "      <td>RandomForestClassifier</td>\n",
       "      <td>0.389252</td>\n",
       "    </tr>\n",
       "    <tr>\n",
       "      <th>2</th>\n",
       "      <td>LogisticRegression - balanced</td>\n",
       "      <td>0.767954</td>\n",
       "    </tr>\n",
       "    <tr>\n",
       "      <th>3</th>\n",
       "      <td>LogisticRegression - upsampled</td>\n",
       "      <td>0.767076</td>\n",
       "    </tr>\n",
       "    <tr>\n",
       "      <th>4</th>\n",
       "      <td>LGBMClassifier</td>\n",
       "      <td>0.758559</td>\n",
       "    </tr>\n",
       "  </tbody>\n",
       "</table>\n",
       "</div>"
      ],
      "text/plain": [
       "                            model        f1\n",
       "0          DecisionTreeClassifier  0.611985\n",
       "1          RandomForestClassifier  0.389252\n",
       "2   LogisticRegression - balanced  0.767954\n",
       "3  LogisticRegression - upsampled  0.767076\n",
       "4                  LGBMClassifier  0.758559"
      ]
     },
     "execution_count": 37,
     "metadata": {},
     "output_type": "execute_result"
    }
   ],
   "source": [
    "# сведём оптимальные метрики f1 для разных моделей в таблицу\n",
    "\n",
    "df_best = pd.DataFrame(columns = ['model', 'f1'])\n",
    "df_best.loc[0] = ['DecisionTreeClassifier', best_result_t]\n",
    "df_best.loc[1] = ['RandomForestClassifier', best_result_f]\n",
    "df_best.loc[2] = ['LogisticRegression - balanced', df_c1['f1_score'].max()]\n",
    "df_best.loc[3] = ['LogisticRegression - upsampled', df_c3['f1_score'].max()]\n",
    "df_best.loc[4] = ['LGBMClassifier', grid_lgb.best_score_]\n",
    "df_best"
   ]
  },
  {
   "cell_type": "markdown",
   "metadata": {},
   "source": [
    "*По результатом обучения и проверки данных на валидационной выборке (кросс-валидации для LGBMClassifier) наивысшие метрики F1 у моделей LogisticRegression и LGBMClassifier. Для финального тестирования выберем модель LogisticRegression со сбалансированными классами как модель с чуть  большей метрикой F1, чем у LGBMClassifier.*"
   ]
  },
  {
   "cell_type": "code",
   "execution_count": 40,
   "metadata": {},
   "outputs": [],
   "source": [
    "# перевод обучающе-валидационной и тестовой выборок в формат TF-IDF для тестирования LogisticRegression\n",
    "tf_idf_trainval = count_tf_idf.transform(features_trainval)\n",
    "tf_idf_test = count_tf_idf.transform(features_test)"
   ]
  },
  {
   "cell_type": "markdown",
   "metadata": {},
   "source": [
    "<img src=\"https://upload.wikimedia.org/wikipedia/commons/thumb/8/81/Stop_sign.png/240px-Stop_sign.png\" align=left width=35, heigth=35>\n",
    "<div class=\"alert alert-danger\">\n",
    "Нет смысла менять кодировку. Изменение кодировки увеличивает количество оперативной памяти, необходимой для хранения текстов. Но наши тексты написаны латиницей, поэтому вполне достаточно кодировки по умолчанию.</div>\n"
   ]
  },
  {
   "cell_type": "markdown",
   "metadata": {},
   "source": [
    "<div class=\"alert alert-info\"> <b>Комментарий студента:</b> Убрал кодировку. Добавил строку с трансформацией обучающей и валидационной выборок в TF-IDF, так как выбрана LogisticRegression для финального тестирования.</div>"
   ]
  },
  {
   "cell_type": "markdown",
   "metadata": {},
   "source": [
    "<img src=\"https://emojigraph.org/media/apple/check-mark-button_2705.png\" align=left width=33, heigth=33>\n",
    "<div class=\"alert alert-success\">\n",
    "<b>v2</b> 👍 </div>"
   ]
  },
  {
   "cell_type": "code",
   "execution_count": 41,
   "metadata": {},
   "outputs": [
    {
     "name": "stdout",
     "output_type": "stream",
     "text": [
      "Метрика F1 у модели LogisticRegression на тестовой выборке: 0.7622\n"
     ]
    }
   ],
   "source": [
    "# обучение лучшей LogisticRegression на обучающем+валидационном наборах\n",
    "best_model_regr.fit(tf_idf_trainval, target_trainval)\n",
    "\n",
    "# предсказание на тестовом наборе\n",
    "pred_test = best_model_regr.predict(tf_idf_test)\n",
    "\n",
    "# расчёт метрики F1 на тестовой выборке\n",
    "f1_final = f1_score(target_test, pred_test)\n",
    "\n",
    "print('Метрика F1 у модели LogisticRegression на тестовой выборке: {:.4f}'.format(f1_final))"
   ]
  },
  {
   "cell_type": "code",
   "execution_count": null,
   "metadata": {},
   "outputs": [],
   "source": []
  },
  {
   "cell_type": "markdown",
   "metadata": {},
   "source": [
    "<img src=\"https://emojigraph.org/media/apple/check-mark-button_2705.png\" align=left width=33, heigth=33>\n",
    "<div class=\"alert alert-success\">\n",
    "Молодец: \n",
    "    \n",
    "  - выбрана лучшая модель\n",
    "  - тестирование произведено корректно \n",
    "  - достигнута хорошая точность на тестовой выборке\n",
    "</div>\n"
   ]
  },
  {
   "cell_type": "markdown",
   "metadata": {},
   "source": [
    "**Общий вывод**\n",
    "\n",
    "*В данных интернет-магазина собрано около 159 тыс. твитов различного содержания, классифицированных как нейтрально-положительные (значение 0) и токсично-негативные (значение 1). Целью исследования являлось построение модели классификации комментария на положительный или отрицательный. Для реализации данной цели были решены следующие задачи:*\n",
    "\n",
    "\n",
    " 1. **Подготовка данных для модели**\n",
    " \n",
    " \n",
    " 2. **Обучение моделей**\n",
    " \n",
    " \n",
    " 3. **Финальное тестирование модели**\n",
    " \n",
    " \n",
    " \n",
    " **Задача 1 \"Подготовка данных для модели\"** \n",
    "\n",
    "*Базу данных из более 159 тыс. текстовых твитов на английском языке (без пропусков данных и дубликатов) необходимо было преобразовать в цифровой формат. Для этого проведена предварительная работа по очистке текстов от всех символов, кроме английских букв как составной части слов и апострофа как важного элемента сокращения английских выражений.*\n",
    "\n",
    "*Затем все слова были лемматизированы (приведены к начальной форме) с помощью лемматизатора WordNet. Лемматизация проведена с учётом определения, к какой части речи относится слово.*\n",
    "\n",
    "*В данных выделен признак (лемматизированные твиты) и целевой признак (тип комментария) с последующим разбиением на выборки:*\n",
    "\n",
    "    - обучающая (80% данных)\n",
    "    - валидационная (10% данных)\n",
    "    - тестовая (10% данных)\n",
    "    \n",
    "*Во всех выборках практически одинаковый баланс классов: 90% положительных комментариев и 10% отрицательных.*\n",
    "\n",
    "*Наконец, обучающая и тестовая выборки преобразованы в цифровые данные: каждое слово классифицировано по важности (частоте) с помощью величины TF-IDF. При этом малозначимые слова (стоп-слова) типа предлогов, союзов и местоимений исключены из выборки.*\n",
    "\n",
    "\n",
    "\n",
    "**Задача 2 \"Обучение моделей\"** \n",
    "\n",
    "*Обучены следующие типы моделей (с подбором гиперпараметров) и получены соответствующие значения метрики F1:*\n",
    "\n",
    "    - DecisionTreeClassifier: метрика F1 - 0.61 на валидационной выборке\n",
    "    - RandomForestClassifier: метрика F1 - 0.39 на валидационной выборке\n",
    "    - LogisticRegression-сбалансированные классы: метрика F1 - 0.768 на валидационной выборке\n",
    "    - LogisticRegression-увеличение объектов с меньшим классом: метрика F1 - 0.767 на валидационной выборке\n",
    "    - LGBMClassifier: метрика F1 - 0.759 на кросс-валидации\n",
    "\n",
    "*Модели LogisticRegression и LGBMClassifier достигли целевого значения метрики F1 в 0.75. Можно определить эти модели как подходящие для обработки текстов.*  \n",
    "\n",
    "\n",
    "**Задача 2 \"Финальное тестирование модели\"** \n",
    "\n",
    "*Для финального тестирования выбрана модель LogisticRegression со сбалансированными классами как модель с наибольшим значением метрики F1. На тестовой выборке данная модель показала практически идентичный результат метрики (0.762) по сравнению с обучающей выборкой, что позволило преодолеть порог (трешхолд проекта - 0.75) и рекомендовать эту модель для использования в классификации комментариев на положительные и отрицательные.* \n",
    "    "
   ]
  },
  {
   "cell_type": "markdown",
   "metadata": {},
   "source": [
    "<img src=\"https://emojigraph.org/media/apple/check-mark-button_2705.png\" align=left width=33, heigth=33>\n",
    "<div class=\"alert alert-success\">\n",
    " 👍 </div>"
   ]
  },
  {
   "cell_type": "markdown",
   "metadata": {},
   "source": [
    "## Чек-лист проверки"
   ]
  },
  {
   "cell_type": "markdown",
   "metadata": {},
   "source": [
    "- [x]  Jupyter Notebook открыт\n",
    "- [x]  Весь код выполняется без ошибок\n",
    "- [x]  Ячейки с кодом расположены в порядке исполнения\n",
    "- [x]  Данные загружены и подготовлены\n",
    "- [x]  Модели обучены\n",
    "- [x]  Значение метрики *F1* не меньше 0.75\n",
    "- [x]  Выводы написаны"
   ]
  },
  {
   "cell_type": "markdown",
   "metadata": {},
   "source": [
    "<img src=\"http://s3.amazonaws.com/pix.iemoji.com/images/emoji/apple/ios-12/256/waving-hand.png\" align=left width=44, heigth=44>\n",
    "<div class=\"alert alert-info\">\n",
    "<b> Заключительный комментарий</b>\n",
    "Отличная, очень объемная работа. Ты провел предобработку текста и хорошо справился с лемматицией и векторизацией. В обучении моделей ты показал весь спектр используемых техник и понимание роли выборок.\n",
    "    \n",
    "Единственный момент, который нужнодоработать  не стоит перекодировать английский текст в Юникод.\n",
    "\n",
    "Желтые комментарии на твое усмотрение, хотя разобраться с тем,что такое Pipeline крайне полезно.\n",
    "     \n",
    "Жду твоих исправлений :)\n",
    "</div>"
   ]
  },
  {
   "cell_type": "markdown",
   "metadata": {},
   "source": [
    "<img src=\"http://s3.amazonaws.com/pix.iemoji.com/images/emoji/apple/ios-12/256/waving-hand.png\" align=left width=44, heigth=44>\n",
    "<div class=\"alert alert-info\">\n",
    "<b> Заключительный комментарий v2</b>\n",
    "\n",
    "Вижу что ты доработал проект и теперь он может быть принят.\n",
    "    \n",
    "Отдельный рекспект за Pipline.\n",
    "    \n",
    "Проект принят. Поздравляю и желаю дальнейших успехов!    \n",
    "</div>"
   ]
  },
  {
   "cell_type": "code",
   "execution_count": null,
   "metadata": {},
   "outputs": [],
   "source": []
  }
 ],
 "metadata": {
  "ExecuteTimeLog": [
   {
    "duration": 1224,
    "start_time": "2022-12-23T22:04:46.852Z"
   },
   {
    "duration": 3268,
    "start_time": "2022-12-23T22:04:50.646Z"
   },
   {
    "duration": 960,
    "start_time": "2022-12-23T22:05:19.495Z"
   },
   {
    "duration": 42,
    "start_time": "2022-12-23T22:05:33.635Z"
   },
   {
    "duration": 1245,
    "start_time": "2022-12-23T22:07:06.002Z"
   },
   {
    "duration": 3204,
    "start_time": "2022-12-23T22:07:07.249Z"
   },
   {
    "duration": 34,
    "start_time": "2022-12-23T22:07:10.501Z"
   },
   {
    "duration": 8,
    "start_time": "2022-12-23T22:07:26.891Z"
   },
   {
    "duration": 70,
    "start_time": "2022-12-23T22:07:38.424Z"
   },
   {
    "duration": 1134,
    "start_time": "2022-12-23T22:07:48.043Z"
   },
   {
    "duration": 3189,
    "start_time": "2022-12-23T22:07:49.179Z"
   },
   {
    "duration": 34,
    "start_time": "2022-12-23T22:07:57.436Z"
   },
   {
    "duration": 3,
    "start_time": "2022-12-23T22:08:14.088Z"
   },
   {
    "duration": 2480,
    "start_time": "2022-12-23T22:08:15.283Z"
   },
   {
    "duration": 221,
    "start_time": "2022-12-23T22:08:23.336Z"
   },
   {
    "duration": 117,
    "start_time": "2022-12-23T22:08:37.883Z"
   },
   {
    "duration": 2198,
    "start_time": "2022-12-23T22:11:28.582Z"
   },
   {
    "duration": 3,
    "start_time": "2022-12-23T22:11:34.646Z"
   },
   {
    "duration": 13,
    "start_time": "2022-12-23T22:11:36.551Z"
   },
   {
    "duration": 3,
    "start_time": "2022-12-23T22:11:43.463Z"
   },
   {
    "duration": 5,
    "start_time": "2022-12-23T22:11:45.842Z"
   },
   {
    "duration": 48,
    "start_time": "2022-12-23T22:12:09.767Z"
   },
   {
    "duration": 22,
    "start_time": "2022-12-23T22:12:14.640Z"
   },
   {
    "duration": 181,
    "start_time": "2022-12-23T22:12:17.736Z"
   },
   {
    "duration": 4,
    "start_time": "2022-12-23T22:12:35.280Z"
   },
   {
    "duration": 4,
    "start_time": "2022-12-23T22:12:37.339Z"
   },
   {
    "duration": 2,
    "start_time": "2022-12-23T22:12:41.472Z"
   },
   {
    "duration": 6234,
    "start_time": "2022-12-23T22:12:43.446Z"
   },
   {
    "duration": 12,
    "start_time": "2022-12-23T22:12:53.446Z"
   },
   {
    "duration": 4,
    "start_time": "2022-12-23T22:13:13.096Z"
   },
   {
    "duration": 47,
    "start_time": "2022-12-23T22:25:13.352Z"
   },
   {
    "duration": 7,
    "start_time": "2022-12-23T22:25:28.857Z"
   },
   {
    "duration": 1166,
    "start_time": "2022-12-23T22:25:40.980Z"
   },
   {
    "duration": 214,
    "start_time": "2022-12-23T22:25:49.161Z"
   },
   {
    "duration": 3832,
    "start_time": "2022-12-23T22:25:56.637Z"
   },
   {
    "duration": 3,
    "start_time": "2022-12-23T22:26:01.688Z"
   },
   {
    "duration": 11,
    "start_time": "2022-12-23T22:26:04.761Z"
   },
   {
    "duration": 3,
    "start_time": "2022-12-23T22:26:07.140Z"
   },
   {
    "duration": 10,
    "start_time": "2022-12-23T22:26:08.313Z"
   },
   {
    "duration": 73,
    "start_time": "2022-12-23T22:26:14.305Z"
   },
   {
    "duration": 5,
    "start_time": "2022-12-23T22:26:22.041Z"
   },
   {
    "duration": 4,
    "start_time": "2022-12-23T22:26:25.945Z"
   },
   {
    "duration": 91,
    "start_time": "2022-12-23T22:27:12.169Z"
   },
   {
    "duration": 146,
    "start_time": "2022-12-23T22:27:18.098Z"
   },
   {
    "duration": 25,
    "start_time": "2022-12-23T22:27:27.787Z"
   },
   {
    "duration": 5,
    "start_time": "2022-12-23T22:27:29.746Z"
   },
   {
    "duration": 2,
    "start_time": "2022-12-23T22:27:32.707Z"
   },
   {
    "duration": 8122,
    "start_time": "2022-12-23T22:27:35.788Z"
   },
   {
    "duration": 9,
    "start_time": "2022-12-23T22:27:43.912Z"
   },
   {
    "duration": 51426,
    "start_time": "2022-12-23T22:27:52.309Z"
   },
   {
    "duration": 12691,
    "start_time": "2022-12-23T22:30:13.242Z"
   },
   {
    "duration": 1899,
    "start_time": "2022-12-24T11:53:06.586Z"
   },
   {
    "duration": 3563,
    "start_time": "2022-12-24T11:53:33.400Z"
   },
   {
    "duration": 33,
    "start_time": "2022-12-24T11:53:50.365Z"
   },
   {
    "duration": 265,
    "start_time": "2022-12-24T11:54:01.197Z"
   },
   {
    "duration": 3,
    "start_time": "2022-12-24T11:54:08.565Z"
   },
   {
    "duration": 2344,
    "start_time": "2022-12-24T11:54:09.100Z"
   },
   {
    "duration": 22,
    "start_time": "2022-12-24T11:54:11.446Z"
   },
   {
    "duration": 6,
    "start_time": "2022-12-24T11:54:26.717Z"
   },
   {
    "duration": 3091,
    "start_time": "2022-12-24T11:55:03.790Z"
   },
   {
    "duration": 4,
    "start_time": "2022-12-24T11:55:08.047Z"
   },
   {
    "duration": 15,
    "start_time": "2022-12-24T11:55:08.912Z"
   },
   {
    "duration": 3,
    "start_time": "2022-12-24T11:55:11.909Z"
   },
   {
    "duration": 10,
    "start_time": "2022-12-24T11:55:24.974Z"
   },
   {
    "duration": 39,
    "start_time": "2022-12-24T11:56:46.647Z"
   },
   {
    "duration": 6,
    "start_time": "2022-12-24T11:56:47.935Z"
   },
   {
    "duration": 17,
    "start_time": "2022-12-24T11:56:55.767Z"
   },
   {
    "duration": 14,
    "start_time": "2022-12-24T11:56:58.164Z"
   },
   {
    "duration": 6,
    "start_time": "2022-12-24T11:57:02.216Z"
   },
   {
    "duration": 164,
    "start_time": "2022-12-24T11:57:24.296Z"
   },
   {
    "duration": 10802,
    "start_time": "2022-12-24T11:58:39.564Z"
   },
   {
    "duration": 12165,
    "start_time": "2022-12-24T11:59:42.707Z"
   },
   {
    "duration": 25,
    "start_time": "2022-12-24T12:06:51.091Z"
   },
   {
    "duration": 4,
    "start_time": "2022-12-24T12:11:58.089Z"
   },
   {
    "duration": 5,
    "start_time": "2022-12-24T12:12:19.098Z"
   },
   {
    "duration": 3136,
    "start_time": "2022-12-24T12:16:12.638Z"
   },
   {
    "duration": 70,
    "start_time": "2022-12-24T12:21:24.323Z"
   },
   {
    "duration": 10,
    "start_time": "2022-12-24T12:21:41.465Z"
   },
   {
    "duration": 10620,
    "start_time": "2022-12-24T12:23:56.129Z"
   },
   {
    "duration": 4,
    "start_time": "2022-12-24T12:27:48.306Z"
   },
   {
    "duration": 5,
    "start_time": "2022-12-24T12:28:36.234Z"
   },
   {
    "duration": 14537,
    "start_time": "2022-12-24T12:29:16.545Z"
   },
   {
    "duration": 1889,
    "start_time": "2022-12-24T12:34:14.988Z"
   },
   {
    "duration": 6,
    "start_time": "2022-12-24T14:12:10.116Z"
   },
   {
    "duration": 6,
    "start_time": "2022-12-24T14:12:38.336Z"
   },
   {
    "duration": 6,
    "start_time": "2022-12-24T14:13:01.249Z"
   },
   {
    "duration": 0,
    "start_time": "2022-12-24T14:49:20.982Z"
   },
   {
    "duration": 0,
    "start_time": "2022-12-24T14:49:20.983Z"
   },
   {
    "duration": 253271,
    "start_time": "2022-12-24T14:53:09.802Z"
   },
   {
    "duration": 325290,
    "start_time": "2022-12-24T14:58:57.081Z"
   },
   {
    "duration": 180086,
    "start_time": "2022-12-24T15:04:37.484Z"
   },
   {
    "duration": 3,
    "start_time": "2022-12-24T15:07:58.866Z"
   },
   {
    "duration": 25470,
    "start_time": "2022-12-24T15:11:28.717Z"
   },
   {
    "duration": 14,
    "start_time": "2022-12-24T15:12:11.678Z"
   },
   {
    "duration": 4,
    "start_time": "2022-12-24T15:42:14.616Z"
   },
   {
    "duration": 10,
    "start_time": "2022-12-24T16:05:43.000Z"
   },
   {
    "duration": 3990,
    "start_time": "2022-12-24T16:06:12.477Z"
   },
   {
    "duration": 1407,
    "start_time": "2022-12-24T16:07:00.182Z"
   },
   {
    "duration": 4646,
    "start_time": "2022-12-24T16:08:24.599Z"
   },
   {
    "duration": 5125,
    "start_time": "2022-12-24T16:10:58.018Z"
   },
   {
    "duration": 12799083,
    "start_time": "2022-12-24T16:19:57.479Z"
   },
   {
    "duration": 22520,
    "start_time": "2022-12-24T20:04:43.372Z"
   },
   {
    "duration": 35,
    "start_time": "2022-12-24T20:05:50.289Z"
   },
   {
    "duration": 415,
    "start_time": "2022-12-24T20:06:16.060Z"
   },
   {
    "duration": 21560,
    "start_time": "2022-12-24T20:06:32.371Z"
   },
   {
    "duration": 32728,
    "start_time": "2022-12-24T20:07:50.932Z"
   },
   {
    "duration": 72725,
    "start_time": "2022-12-24T20:09:34.454Z"
   },
   {
    "duration": 3,
    "start_time": "2022-12-24T20:13:02.928Z"
   },
   {
    "duration": 12195,
    "start_time": "2022-12-24T20:13:17.080Z"
   },
   {
    "duration": 13,
    "start_time": "2022-12-24T20:13:38.368Z"
   },
   {
    "duration": 3,
    "start_time": "2022-12-24T20:14:00.753Z"
   },
   {
    "duration": 25410,
    "start_time": "2022-12-24T20:14:08.265Z"
   },
   {
    "duration": 13,
    "start_time": "2022-12-24T20:14:33.677Z"
   },
   {
    "duration": 1071892,
    "start_time": "2022-12-24T20:15:24.965Z"
   },
   {
    "duration": 2606,
    "start_time": "2022-12-24T20:34:20.088Z"
   },
   {
    "duration": 4,
    "start_time": "2022-12-24T20:39:03.940Z"
   },
   {
    "duration": 26,
    "start_time": "2022-12-24T20:40:57.623Z"
   },
   {
    "duration": 35,
    "start_time": "2022-12-24T20:43:04.497Z"
   },
   {
    "duration": 6,
    "start_time": "2022-12-24T20:43:43.497Z"
   },
   {
    "duration": 5,
    "start_time": "2022-12-24T20:43:55.985Z"
   },
   {
    "duration": 151,
    "start_time": "2022-12-24T20:44:00.330Z"
   },
   {
    "duration": 270,
    "start_time": "2022-12-24T20:44:14.618Z"
   },
   {
    "duration": 351,
    "start_time": "2022-12-24T20:44:27.650Z"
   },
   {
    "duration": 61,
    "start_time": "2022-12-24T20:47:36.629Z"
   },
   {
    "duration": 4,
    "start_time": "2022-12-24T20:47:49.005Z"
   },
   {
    "duration": 3,
    "start_time": "2022-12-24T20:48:05.303Z"
   },
   {
    "duration": 11273,
    "start_time": "2022-12-24T20:52:29.863Z"
   },
   {
    "duration": 26178,
    "start_time": "2022-12-24T20:57:18.032Z"
   },
   {
    "duration": 20,
    "start_time": "2022-12-24T21:08:14.173Z"
   },
   {
    "duration": 367008,
    "start_time": "2022-12-24T21:15:06.619Z"
   },
   {
    "duration": 358261,
    "start_time": "2022-12-24T21:24:19.439Z"
   },
   {
    "duration": 20857,
    "start_time": "2022-12-24T21:31:05.262Z"
   },
   {
    "duration": 120,
    "start_time": "2022-12-24T21:43:32.569Z"
   },
   {
    "duration": 741261,
    "start_time": "2022-12-24T21:50:16.648Z"
   },
   {
    "duration": 873012,
    "start_time": "2022-12-24T22:03:07.570Z"
   },
   {
    "duration": 1150167,
    "start_time": "2022-12-24T22:20:44.006Z"
   },
   {
    "duration": 1003,
    "start_time": "2022-12-24T22:39:54.182Z"
   },
   {
    "duration": 1026,
    "start_time": "2022-12-24T22:41:11.874Z"
   },
   {
    "duration": 55,
    "start_time": "2022-12-24T22:45:27.649Z"
   },
   {
    "duration": 1036900,
    "start_time": "2022-12-24T22:45:50.281Z"
   },
   {
    "duration": 2795,
    "start_time": "2022-12-24T23:03:26.715Z"
   },
   {
    "duration": 1329736,
    "start_time": "2022-12-24T23:03:51.506Z"
   },
   {
    "duration": 529,
    "start_time": "2022-12-24T23:35:44.697Z"
   },
   {
    "duration": 105169,
    "start_time": "2022-12-24T23:37:15.379Z"
   },
   {
    "duration": 1304,
    "start_time": "2022-12-25T08:58:59.224Z"
   },
   {
    "duration": 3065,
    "start_time": "2022-12-25T08:59:00.530Z"
   },
   {
    "duration": 30,
    "start_time": "2022-12-25T08:59:03.597Z"
   },
   {
    "duration": 224,
    "start_time": "2022-12-25T08:59:03.628Z"
   },
   {
    "duration": 3,
    "start_time": "2022-12-25T08:59:03.854Z"
   },
   {
    "duration": 1958,
    "start_time": "2022-12-25T08:59:03.858Z"
   },
   {
    "duration": 9,
    "start_time": "2022-12-25T08:59:05.818Z"
   },
   {
    "duration": 19,
    "start_time": "2022-12-25T08:59:05.829Z"
   },
   {
    "duration": 2551,
    "start_time": "2022-12-25T08:59:13.423Z"
   },
   {
    "duration": 11,
    "start_time": "2022-12-25T08:59:15.976Z"
   },
   {
    "duration": 27,
    "start_time": "2022-12-25T08:59:15.990Z"
   },
   {
    "duration": 3,
    "start_time": "2022-12-25T08:59:16.878Z"
   },
   {
    "duration": 8,
    "start_time": "2022-12-25T08:59:18.261Z"
   },
   {
    "duration": 33,
    "start_time": "2022-12-25T08:59:20.213Z"
   },
   {
    "duration": 7,
    "start_time": "2022-12-25T08:59:20.653Z"
   },
   {
    "duration": 15,
    "start_time": "2022-12-25T08:59:21.386Z"
   },
   {
    "duration": 6,
    "start_time": "2022-12-25T08:59:21.971Z"
   },
   {
    "duration": 5,
    "start_time": "2022-12-25T08:59:22.381Z"
   },
   {
    "duration": 178,
    "start_time": "2022-12-25T08:59:22.806Z"
   },
   {
    "duration": 8566,
    "start_time": "2022-12-25T08:59:23.365Z"
   },
   {
    "duration": 231124,
    "start_time": "2022-12-25T08:59:35.078Z"
   },
   {
    "duration": 162013,
    "start_time": "2022-12-25T09:03:26.204Z"
   },
   {
    "duration": 3,
    "start_time": "2022-12-25T09:06:08.219Z"
   },
   {
    "duration": 2301,
    "start_time": "2022-12-25T09:06:08.224Z"
   },
   {
    "duration": 161,
    "start_time": "2022-12-25T09:06:10.527Z"
   },
   {
    "duration": 0,
    "start_time": "2022-12-25T09:06:10.690Z"
   },
   {
    "duration": 0,
    "start_time": "2022-12-25T09:06:10.691Z"
   },
   {
    "duration": 0,
    "start_time": "2022-12-25T09:06:10.692Z"
   },
   {
    "duration": 0,
    "start_time": "2022-12-25T09:06:10.693Z"
   },
   {
    "duration": 0,
    "start_time": "2022-12-25T09:06:10.694Z"
   },
   {
    "duration": 0,
    "start_time": "2022-12-25T09:06:10.695Z"
   },
   {
    "duration": 0,
    "start_time": "2022-12-25T09:06:10.696Z"
   },
   {
    "duration": 0,
    "start_time": "2022-12-25T09:06:10.698Z"
   },
   {
    "duration": 0,
    "start_time": "2022-12-25T09:06:10.699Z"
   },
   {
    "duration": 0,
    "start_time": "2022-12-25T09:06:10.700Z"
   },
   {
    "duration": 0,
    "start_time": "2022-12-25T09:06:10.701Z"
   },
   {
    "duration": 0,
    "start_time": "2022-12-25T09:06:10.702Z"
   },
   {
    "duration": 8,
    "start_time": "2022-12-25T09:08:41.404Z"
   },
   {
    "duration": 8709,
    "start_time": "2022-12-25T09:08:41.983Z"
   },
   {
    "duration": 25214,
    "start_time": "2022-12-25T09:08:50.694Z"
   },
   {
    "duration": 1597,
    "start_time": "2022-12-25T09:09:15.910Z"
   },
   {
    "duration": 13,
    "start_time": "2022-12-25T09:09:17.509Z"
   },
   {
    "duration": 15,
    "start_time": "2022-12-25T09:16:45.392Z"
   },
   {
    "duration": 11,
    "start_time": "2022-12-25T09:18:20.329Z"
   },
   {
    "duration": 11,
    "start_time": "2022-12-25T09:18:29.625Z"
   },
   {
    "duration": 1291,
    "start_time": "2022-12-25T12:02:10.600Z"
   },
   {
    "duration": 3145,
    "start_time": "2022-12-25T12:02:11.904Z"
   },
   {
    "duration": 33,
    "start_time": "2022-12-25T12:02:18.608Z"
   },
   {
    "duration": 232,
    "start_time": "2022-12-25T12:02:19.088Z"
   },
   {
    "duration": 3,
    "start_time": "2022-12-25T12:02:19.994Z"
   },
   {
    "duration": 1744,
    "start_time": "2022-12-25T12:02:20.352Z"
   },
   {
    "duration": 9,
    "start_time": "2022-12-25T12:02:22.098Z"
   },
   {
    "duration": 20,
    "start_time": "2022-12-25T12:02:22.108Z"
   },
   {
    "duration": 7,
    "start_time": "2022-12-25T12:02:22.130Z"
   },
   {
    "duration": 2732,
    "start_time": "2022-12-25T12:02:30.865Z"
   },
   {
    "duration": 3,
    "start_time": "2022-12-25T12:02:33.599Z"
   },
   {
    "duration": 16,
    "start_time": "2022-12-25T12:02:33.604Z"
   },
   {
    "duration": 5,
    "start_time": "2022-12-25T12:02:33.622Z"
   },
   {
    "duration": 7,
    "start_time": "2022-12-25T12:02:34.877Z"
   },
   {
    "duration": 27,
    "start_time": "2022-12-25T12:02:38.080Z"
   },
   {
    "duration": 5,
    "start_time": "2022-12-25T12:02:38.848Z"
   },
   {
    "duration": 14,
    "start_time": "2022-12-25T12:02:42.520Z"
   },
   {
    "duration": 5,
    "start_time": "2022-12-25T12:02:42.992Z"
   },
   {
    "duration": 5,
    "start_time": "2022-12-25T12:02:43.424Z"
   },
   {
    "duration": 154,
    "start_time": "2022-12-25T12:02:44.058Z"
   },
   {
    "duration": 8742,
    "start_time": "2022-12-25T12:02:44.592Z"
   },
   {
    "duration": 226960,
    "start_time": "2022-12-25T12:02:53.336Z"
   },
   {
    "duration": 162903,
    "start_time": "2022-12-25T12:06:40.298Z"
   },
   {
    "duration": 3,
    "start_time": "2022-12-25T12:09:23.204Z"
   },
   {
    "duration": 2367,
    "start_time": "2022-12-25T12:09:23.209Z"
   },
   {
    "duration": 909413,
    "start_time": "2022-12-25T12:09:25.578Z"
   },
   {
    "duration": 5,
    "start_time": "2022-12-25T12:36:31.190Z"
   },
   {
    "duration": 276,
    "start_time": "2022-12-25T12:36:33.244Z"
   },
   {
    "duration": 47,
    "start_time": "2022-12-25T12:37:24.686Z"
   },
   {
    "duration": 8350,
    "start_time": "2022-12-25T12:37:25.822Z"
   },
   {
    "duration": 25138,
    "start_time": "2022-12-25T12:37:34.174Z"
   },
   {
    "duration": 345115,
    "start_time": "2022-12-25T12:37:59.314Z"
   },
   {
    "duration": 331785,
    "start_time": "2022-12-25T12:43:44.431Z"
   },
   {
    "duration": 109,
    "start_time": "2022-12-25T13:04:37.507Z"
   },
   {
    "duration": 8,
    "start_time": "2022-12-25T13:05:00.122Z"
   },
   {
    "duration": 8538,
    "start_time": "2022-12-25T13:05:04.290Z"
   },
   {
    "duration": 24961,
    "start_time": "2022-12-25T13:05:12.830Z"
   },
   {
    "duration": 1544,
    "start_time": "2022-12-25T13:05:37.793Z"
   },
   {
    "duration": 13,
    "start_time": "2022-12-25T13:05:39.339Z"
   },
   {
    "duration": 14,
    "start_time": "2022-12-25T13:05:47.173Z"
   },
   {
    "duration": 14,
    "start_time": "2022-12-25T13:07:51.630Z"
   },
   {
    "duration": 11,
    "start_time": "2022-12-25T13:08:38.006Z"
   },
   {
    "duration": 4,
    "start_time": "2022-12-25T16:53:16.962Z"
   },
   {
    "duration": 2071,
    "start_time": "2022-12-25T16:55:22.695Z"
   },
   {
    "duration": 1907,
    "start_time": "2022-12-25T16:56:17.927Z"
   },
   {
    "duration": 24,
    "start_time": "2022-12-25T16:57:52.802Z"
   },
   {
    "duration": 18,
    "start_time": "2022-12-25T16:57:58.632Z"
   },
   {
    "duration": 173,
    "start_time": "2022-12-25T17:00:19.139Z"
   },
   {
    "duration": 652,
    "start_time": "2022-12-25T17:00:38.019Z"
   },
   {
    "duration": 17,
    "start_time": "2022-12-25T17:01:41.498Z"
   },
   {
    "duration": 634,
    "start_time": "2022-12-25T17:02:09.692Z"
   },
   {
    "duration": 998,
    "start_time": "2022-12-25T17:04:23.694Z"
   },
   {
    "duration": 873,
    "start_time": "2022-12-25T17:04:53.190Z"
   },
   {
    "duration": 1388,
    "start_time": "2022-12-25T17:05:46.159Z"
   },
   {
    "duration": 252268,
    "start_time": "2022-12-25T19:04:49.369Z"
   },
   {
    "duration": 133,
    "start_time": "2022-12-25T19:10:09.358Z"
   },
   {
    "duration": 10,
    "start_time": "2022-12-25T19:11:27.486Z"
   },
   {
    "duration": 115,
    "start_time": "2022-12-25T19:12:16.720Z"
   },
   {
    "duration": 145,
    "start_time": "2022-12-25T19:13:54.082Z"
   },
   {
    "duration": 156,
    "start_time": "2022-12-25T19:15:33.412Z"
   },
   {
    "duration": 155,
    "start_time": "2022-12-25T19:16:25.444Z"
   },
   {
    "duration": 4,
    "start_time": "2022-12-25T19:18:33.856Z"
   },
   {
    "duration": 209639,
    "start_time": "2022-12-25T19:18:49.950Z"
   },
   {
    "duration": 145071,
    "start_time": "2022-12-25T19:31:36.904Z"
   },
   {
    "duration": 1104,
    "start_time": "2022-12-25T19:37:18.363Z"
   },
   {
    "duration": 5,
    "start_time": "2022-12-25T19:37:42.827Z"
   },
   {
    "duration": 7,
    "start_time": "2022-12-25T19:38:45.965Z"
   },
   {
    "duration": 542,
    "start_time": "2022-12-25T19:39:03.060Z"
   },
   {
    "duration": 554,
    "start_time": "2022-12-25T19:39:16.350Z"
   },
   {
    "duration": 7,
    "start_time": "2022-12-25T19:39:42.254Z"
   },
   {
    "duration": 1158,
    "start_time": "2022-12-25T19:39:58.366Z"
   },
   {
    "duration": 8,
    "start_time": "2022-12-25T19:40:03.542Z"
   },
   {
    "duration": 1212,
    "start_time": "2022-12-25T19:40:16.566Z"
   },
   {
    "duration": 9,
    "start_time": "2022-12-25T19:40:20.390Z"
   },
   {
    "duration": 1090,
    "start_time": "2022-12-25T19:40:55.407Z"
   },
   {
    "duration": 6,
    "start_time": "2022-12-25T19:41:05.224Z"
   },
   {
    "duration": 12,
    "start_time": "2022-12-25T19:41:39.144Z"
   },
   {
    "duration": 11,
    "start_time": "2022-12-25T19:41:43.808Z"
   },
   {
    "duration": 12,
    "start_time": "2022-12-25T19:41:53.072Z"
   },
   {
    "duration": 5,
    "start_time": "2022-12-25T19:41:56.568Z"
   },
   {
    "duration": 1170,
    "start_time": "2022-12-25T19:42:14.880Z"
   },
   {
    "duration": 1178,
    "start_time": "2022-12-25T19:42:20.241Z"
   },
   {
    "duration": 6,
    "start_time": "2022-12-25T19:42:24.489Z"
   },
   {
    "duration": 13,
    "start_time": "2022-12-25T19:43:08.801Z"
   },
   {
    "duration": 5,
    "start_time": "2022-12-25T19:43:37.514Z"
   },
   {
    "duration": 5,
    "start_time": "2022-12-25T19:43:47.810Z"
   },
   {
    "duration": 5,
    "start_time": "2022-12-25T19:54:22.454Z"
   },
   {
    "duration": 8,
    "start_time": "2022-12-25T19:54:48.142Z"
   },
   {
    "duration": 126275,
    "start_time": "2022-12-25T20:07:15.363Z"
   },
   {
    "duration": 153048,
    "start_time": "2022-12-25T20:10:33.477Z"
   },
   {
    "duration": 525460,
    "start_time": "2022-12-25T20:14:12.699Z"
   },
   {
    "duration": 40,
    "start_time": "2022-12-25T20:42:13.210Z"
   },
   {
    "duration": 78,
    "start_time": "2022-12-25T20:42:48.407Z"
   },
   {
    "duration": 76,
    "start_time": "2022-12-25T20:43:30.392Z"
   },
   {
    "duration": 55,
    "start_time": "2022-12-25T20:43:34.184Z"
   },
   {
    "duration": 2640185,
    "start_time": "2022-12-25T20:43:35.903Z"
   },
   {
    "duration": 930782,
    "start_time": "2022-12-25T21:28:37.495Z"
   },
   {
    "duration": 143903,
    "start_time": "2022-12-25T21:44:28.889Z"
   },
   {
    "duration": 229105,
    "start_time": "2022-12-25T21:53:12.801Z"
   },
   {
    "duration": 4,
    "start_time": "2022-12-25T22:21:44.668Z"
   },
   {
    "duration": 290,
    "start_time": "2022-12-25T22:21:45.405Z"
   },
   {
    "duration": 41,
    "start_time": "2022-12-25T22:21:51.213Z"
   },
   {
    "duration": 1412,
    "start_time": "2022-12-25T22:22:44.030Z"
   },
   {
    "duration": 2996,
    "start_time": "2022-12-25T22:22:46.221Z"
   },
   {
    "duration": 34,
    "start_time": "2022-12-25T22:22:50.110Z"
   },
   {
    "duration": 226,
    "start_time": "2022-12-25T22:22:55.709Z"
   },
   {
    "duration": 3,
    "start_time": "2022-12-25T22:22:56.549Z"
   },
   {
    "duration": 1758,
    "start_time": "2022-12-25T22:22:58.925Z"
   },
   {
    "duration": 9,
    "start_time": "2022-12-25T22:23:00.685Z"
   },
   {
    "duration": 21,
    "start_time": "2022-12-25T22:23:00.696Z"
   },
   {
    "duration": 2626,
    "start_time": "2022-12-25T22:23:07.822Z"
   },
   {
    "duration": 3,
    "start_time": "2022-12-25T22:23:19.135Z"
   },
   {
    "duration": 10,
    "start_time": "2022-12-25T22:23:19.638Z"
   },
   {
    "duration": 3,
    "start_time": "2022-12-25T22:23:24.431Z"
   },
   {
    "duration": 7,
    "start_time": "2022-12-25T22:23:25.358Z"
   },
   {
    "duration": 30,
    "start_time": "2022-12-25T22:23:26.870Z"
   },
   {
    "duration": 5,
    "start_time": "2022-12-25T22:23:30.022Z"
   },
   {
    "duration": 17,
    "start_time": "2022-12-25T22:23:31.085Z"
   },
   {
    "duration": 5,
    "start_time": "2022-12-25T22:23:32.086Z"
   },
   {
    "duration": 5,
    "start_time": "2022-12-25T22:23:32.750Z"
   },
   {
    "duration": 139,
    "start_time": "2022-12-25T22:23:35.382Z"
   },
   {
    "duration": 8686,
    "start_time": "2022-12-25T22:23:38.110Z"
   },
   {
    "duration": 4,
    "start_time": "2022-12-25T22:24:13.575Z"
   },
   {
    "duration": 327,
    "start_time": "2022-12-25T22:24:15.511Z"
   },
   {
    "duration": 43,
    "start_time": "2022-12-25T22:24:21.136Z"
   },
   {
    "duration": 8463,
    "start_time": "2022-12-25T22:24:22.462Z"
   },
   {
    "duration": 340021,
    "start_time": "2022-12-25T22:28:33.636Z"
   },
   {
    "duration": 330326,
    "start_time": "2022-12-25T22:34:43.042Z"
   },
   {
    "duration": 11,
    "start_time": "2022-12-25T22:40:13.370Z"
   },
   {
    "duration": 90,
    "start_time": "2022-12-25T22:41:00.289Z"
   },
   {
    "duration": 212257,
    "start_time": "2022-12-25T22:44:51.724Z"
   },
   {
    "duration": 143978,
    "start_time": "2022-12-25T22:48:23.982Z"
   },
   {
    "duration": 16,
    "start_time": "2022-12-25T22:50:47.962Z"
   },
   {
    "duration": 2,
    "start_time": "2022-12-25T22:50:47.980Z"
   },
   {
    "duration": 1541,
    "start_time": "2022-12-25T22:50:47.983Z"
   },
   {
    "duration": 0,
    "start_time": "2022-12-25T22:50:49.526Z"
   },
   {
    "duration": 525297,
    "start_time": "2022-12-25T22:51:41.868Z"
   },
   {
    "duration": 861459,
    "start_time": "2022-12-25T23:00:27.166Z"
   },
   {
    "duration": 25,
    "start_time": "2022-12-25T23:15:12.043Z"
   },
   {
    "duration": 21,
    "start_time": "2022-12-25T23:16:00.429Z"
   },
   {
    "duration": 73,
    "start_time": "2022-12-26T00:46:53.067Z"
   },
   {
    "duration": 1561,
    "start_time": "2022-12-26T02:23:48.331Z"
   },
   {
    "duration": 739,
    "start_time": "2022-12-26T02:23:49.894Z"
   },
   {
    "duration": 13,
    "start_time": "2022-12-26T02:23:50.634Z"
   },
   {
    "duration": 40,
    "start_time": "2022-12-26T02:23:50.649Z"
   },
   {
    "duration": 234,
    "start_time": "2022-12-26T02:23:50.691Z"
   },
   {
    "duration": 3,
    "start_time": "2022-12-26T02:23:50.928Z"
   },
   {
    "duration": 1882,
    "start_time": "2022-12-26T02:23:50.933Z"
   },
   {
    "duration": 4,
    "start_time": "2022-12-26T02:23:52.817Z"
   },
   {
    "duration": 595,
    "start_time": "2022-12-26T02:23:52.823Z"
   },
   {
    "duration": 2,
    "start_time": "2022-12-26T02:23:53.421Z"
   },
   {
    "duration": 8,
    "start_time": "2022-12-26T02:23:53.425Z"
   },
   {
    "duration": 10,
    "start_time": "2022-12-26T02:23:53.435Z"
   },
   {
    "duration": 1112,
    "start_time": "2022-12-26T02:23:53.446Z"
   },
   {
    "duration": 0,
    "start_time": "2022-12-26T02:23:54.560Z"
   },
   {
    "duration": 0,
    "start_time": "2022-12-26T02:23:54.562Z"
   },
   {
    "duration": 0,
    "start_time": "2022-12-26T02:23:54.563Z"
   },
   {
    "duration": 0,
    "start_time": "2022-12-26T02:23:54.564Z"
   },
   {
    "duration": 0,
    "start_time": "2022-12-26T02:23:54.565Z"
   },
   {
    "duration": 0,
    "start_time": "2022-12-26T02:23:54.566Z"
   },
   {
    "duration": 0,
    "start_time": "2022-12-26T02:23:54.567Z"
   },
   {
    "duration": 0,
    "start_time": "2022-12-26T02:23:54.568Z"
   },
   {
    "duration": 0,
    "start_time": "2022-12-26T02:23:54.569Z"
   },
   {
    "duration": 0,
    "start_time": "2022-12-26T02:23:54.570Z"
   },
   {
    "duration": 0,
    "start_time": "2022-12-26T02:23:54.571Z"
   },
   {
    "duration": 0,
    "start_time": "2022-12-26T02:23:54.572Z"
   },
   {
    "duration": 0,
    "start_time": "2022-12-26T02:23:54.573Z"
   },
   {
    "duration": 0,
    "start_time": "2022-12-26T02:23:54.574Z"
   },
   {
    "duration": 0,
    "start_time": "2022-12-26T02:23:54.575Z"
   },
   {
    "duration": 0,
    "start_time": "2022-12-26T02:23:54.576Z"
   },
   {
    "duration": 0,
    "start_time": "2022-12-26T02:23:54.577Z"
   },
   {
    "duration": 0,
    "start_time": "2022-12-26T02:23:54.578Z"
   },
   {
    "duration": 0,
    "start_time": "2022-12-26T02:23:54.579Z"
   },
   {
    "duration": 1,
    "start_time": "2022-12-26T02:23:54.579Z"
   },
   {
    "duration": 1,
    "start_time": "2022-12-26T02:23:54.580Z"
   },
   {
    "duration": 0,
    "start_time": "2022-12-26T02:23:54.582Z"
   },
   {
    "duration": 0,
    "start_time": "2022-12-26T02:23:54.583Z"
   },
   {
    "duration": 0,
    "start_time": "2022-12-26T02:23:54.583Z"
   },
   {
    "duration": 0,
    "start_time": "2022-12-26T02:23:54.585Z"
   },
   {
    "duration": 0,
    "start_time": "2022-12-26T02:23:54.586Z"
   },
   {
    "duration": 0,
    "start_time": "2022-12-26T02:23:54.587Z"
   },
   {
    "duration": 4,
    "start_time": "2022-12-26T02:26:14.803Z"
   },
   {
    "duration": 727,
    "start_time": "2022-12-26T02:26:15.035Z"
   },
   {
    "duration": 7,
    "start_time": "2022-12-26T02:26:15.764Z"
   },
   {
    "duration": 31,
    "start_time": "2022-12-26T02:26:15.778Z"
   },
   {
    "duration": 196,
    "start_time": "2022-12-26T02:26:16.083Z"
   },
   {
    "duration": 3,
    "start_time": "2022-12-26T02:26:16.683Z"
   },
   {
    "duration": 1785,
    "start_time": "2022-12-26T02:26:17.371Z"
   },
   {
    "duration": 4,
    "start_time": "2022-12-26T02:26:19.452Z"
   },
   {
    "duration": 432,
    "start_time": "2022-12-26T02:26:24.380Z"
   },
   {
    "duration": 71823,
    "start_time": "2022-12-26T02:28:12.422Z"
   },
   {
    "duration": 1584,
    "start_time": "2022-12-26T02:29:57.463Z"
   },
   {
    "duration": 772,
    "start_time": "2022-12-26T02:29:59.049Z"
   },
   {
    "duration": 10,
    "start_time": "2022-12-26T02:29:59.823Z"
   },
   {
    "duration": 34,
    "start_time": "2022-12-26T02:29:59.834Z"
   },
   {
    "duration": 226,
    "start_time": "2022-12-26T02:29:59.878Z"
   },
   {
    "duration": 3,
    "start_time": "2022-12-26T02:30:00.106Z"
   },
   {
    "duration": 1721,
    "start_time": "2022-12-26T02:30:00.110Z"
   },
   {
    "duration": 4,
    "start_time": "2022-12-26T02:30:01.833Z"
   },
   {
    "duration": 241,
    "start_time": "2022-12-26T02:30:01.839Z"
   },
   {
    "duration": 988200,
    "start_time": "2022-12-26T02:30:02.082Z"
   },
   {
    "duration": 2,
    "start_time": "2022-12-26T02:46:30.284Z"
   },
   {
    "duration": 26,
    "start_time": "2022-12-26T02:46:30.288Z"
   },
   {
    "duration": 20,
    "start_time": "2022-12-26T02:46:30.316Z"
   },
   {
    "duration": 7,
    "start_time": "2022-12-26T02:46:30.338Z"
   },
   {
    "duration": 55,
    "start_time": "2022-12-26T02:46:30.347Z"
   },
   {
    "duration": 30,
    "start_time": "2022-12-26T02:46:30.404Z"
   },
   {
    "duration": 6,
    "start_time": "2022-12-26T02:46:30.435Z"
   },
   {
    "duration": 20,
    "start_time": "2022-12-26T02:46:30.443Z"
   },
   {
    "duration": 5,
    "start_time": "2022-12-26T02:46:30.465Z"
   },
   {
    "duration": 15,
    "start_time": "2022-12-26T02:46:30.472Z"
   },
   {
    "duration": 13,
    "start_time": "2022-12-26T02:46:30.489Z"
   },
   {
    "duration": 8441,
    "start_time": "2022-12-26T02:46:30.504Z"
   },
   {
    "duration": 236223,
    "start_time": "2022-12-26T02:46:38.947Z"
   },
   {
    "duration": 161286,
    "start_time": "2022-12-26T02:50:35.178Z"
   },
   {
    "duration": 13,
    "start_time": "2022-12-26T02:53:16.466Z"
   },
   {
    "duration": 25,
    "start_time": "2022-12-26T02:53:16.480Z"
   },
   {
    "duration": 527013,
    "start_time": "2022-12-26T02:53:16.506Z"
   },
   {
    "duration": 883784,
    "start_time": "2022-12-26T03:02:03.522Z"
   },
   {
    "duration": 3,
    "start_time": "2022-12-26T03:16:47.308Z"
   },
   {
    "duration": 328,
    "start_time": "2022-12-26T03:16:47.313Z"
   },
   {
    "duration": 52,
    "start_time": "2022-12-26T03:16:47.643Z"
   },
   {
    "duration": 8914,
    "start_time": "2022-12-26T03:16:47.697Z"
   },
   {
    "duration": 309489,
    "start_time": "2022-12-26T03:16:56.612Z"
   },
   {
    "duration": 328705,
    "start_time": "2022-12-26T03:22:06.103Z"
   },
   {
    "duration": 8,
    "start_time": "2022-12-26T03:27:34.810Z"
   },
   {
    "duration": 5,
    "start_time": "2022-12-26T03:27:34.820Z"
   },
   {
    "duration": 8363,
    "start_time": "2022-12-26T03:27:34.827Z"
   },
   {
    "duration": 2618188,
    "start_time": "2022-12-26T03:27:43.192Z"
   },
   {
    "duration": 23,
    "start_time": "2022-12-26T04:11:21.382Z"
   },
   {
    "duration": 1490,
    "start_time": "2022-12-26T04:11:21.407Z"
   },
   {
    "duration": 226610,
    "start_time": "2022-12-26T04:11:22.899Z"
   },
   {
    "duration": 1802,
    "start_time": "2022-12-26T19:35:46.288Z"
   },
   {
    "duration": 2987,
    "start_time": "2022-12-26T19:35:48.476Z"
   },
   {
    "duration": 9,
    "start_time": "2022-12-26T19:35:51.466Z"
   },
   {
    "duration": 29,
    "start_time": "2022-12-26T19:35:51.477Z"
   },
   {
    "duration": 228,
    "start_time": "2022-12-26T19:35:51.508Z"
   },
   {
    "duration": 3,
    "start_time": "2022-12-26T19:35:51.738Z"
   },
   {
    "duration": 1722,
    "start_time": "2022-12-26T19:35:51.743Z"
   },
   {
    "duration": 5,
    "start_time": "2022-12-26T19:35:53.466Z"
   },
   {
    "duration": 697,
    "start_time": "2022-12-26T19:35:53.472Z"
   },
   {
    "duration": 985215,
    "start_time": "2022-12-26T19:35:54.170Z"
   },
   {
    "duration": 7,
    "start_time": "2022-12-26T19:52:19.387Z"
   },
   {
    "duration": 7,
    "start_time": "2022-12-26T19:52:19.395Z"
   },
   {
    "duration": 31,
    "start_time": "2022-12-26T19:52:19.403Z"
   },
   {
    "duration": 27,
    "start_time": "2022-12-26T19:52:19.436Z"
   },
   {
    "duration": 5,
    "start_time": "2022-12-26T19:52:19.465Z"
   },
   {
    "duration": 15,
    "start_time": "2022-12-26T19:52:19.472Z"
   },
   {
    "duration": 4,
    "start_time": "2022-12-26T19:52:19.489Z"
   },
   {
    "duration": 8,
    "start_time": "2022-12-26T19:52:19.494Z"
   },
   {
    "duration": 24,
    "start_time": "2022-12-26T19:52:19.503Z"
   },
   {
    "duration": 121,
    "start_time": "2022-12-26T19:54:22.000Z"
   },
   {
    "duration": 11,
    "start_time": "2022-12-26T19:54:44.643Z"
   },
   {
    "duration": 11,
    "start_time": "2022-12-26T19:54:59.825Z"
   },
   {
    "duration": 4,
    "start_time": "2022-12-26T19:55:20.997Z"
   },
   {
    "duration": 4,
    "start_time": "2022-12-26T19:55:36.057Z"
   },
   {
    "duration": 5251,
    "start_time": "2022-12-26T20:04:38.772Z"
   },
   {
    "duration": 1955,
    "start_time": "2022-12-26T20:09:38.256Z"
   },
   {
    "duration": 5123,
    "start_time": "2022-12-26T20:26:01.961Z"
   },
   {
    "duration": 235985,
    "start_time": "2022-12-26T20:26:24.643Z"
   },
   {
    "duration": 163727,
    "start_time": "2022-12-26T20:30:57.702Z"
   },
   {
    "duration": 9,
    "start_time": "2022-12-26T20:33:41.431Z"
   },
   {
    "duration": 30,
    "start_time": "2022-12-26T20:33:41.442Z"
   },
   {
    "duration": 504011,
    "start_time": "2022-12-26T20:33:41.474Z"
   },
   {
    "duration": 838844,
    "start_time": "2022-12-26T20:42:05.488Z"
   },
   {
    "duration": 4,
    "start_time": "2022-12-26T20:57:03.504Z"
   },
   {
    "duration": 271,
    "start_time": "2022-12-26T20:57:04.131Z"
   },
   {
    "duration": 38,
    "start_time": "2022-12-26T20:57:07.401Z"
   },
   {
    "duration": 4917,
    "start_time": "2022-12-26T20:57:08.553Z"
   },
   {
    "duration": 311591,
    "start_time": "2022-12-26T20:57:18.049Z"
   },
   {
    "duration": 329599,
    "start_time": "2022-12-26T21:02:29.642Z"
   },
   {
    "duration": 8,
    "start_time": "2022-12-26T21:07:59.242Z"
   },
   {
    "duration": 36,
    "start_time": "2022-12-26T21:07:59.251Z"
   },
   {
    "duration": 4830,
    "start_time": "2022-12-26T21:10:59.383Z"
   },
   {
    "duration": 1811,
    "start_time": "2022-12-26T22:34:52.451Z"
   },
   {
    "duration": 3078,
    "start_time": "2022-12-26T22:34:54.264Z"
   },
   {
    "duration": 10,
    "start_time": "2022-12-26T22:34:57.344Z"
   },
   {
    "duration": 48,
    "start_time": "2022-12-26T22:34:57.356Z"
   },
   {
    "duration": 218,
    "start_time": "2022-12-26T22:34:57.405Z"
   },
   {
    "duration": 3,
    "start_time": "2022-12-26T22:34:57.627Z"
   },
   {
    "duration": 1793,
    "start_time": "2022-12-26T22:34:57.632Z"
   },
   {
    "duration": 5,
    "start_time": "2022-12-26T22:34:59.426Z"
   },
   {
    "duration": 443,
    "start_time": "2022-12-26T22:34:59.432Z"
   },
   {
    "duration": 1041031,
    "start_time": "2022-12-26T22:34:59.877Z"
   },
   {
    "duration": 7,
    "start_time": "2022-12-26T22:52:20.910Z"
   },
   {
    "duration": 37,
    "start_time": "2022-12-26T22:52:20.926Z"
   },
   {
    "duration": 168,
    "start_time": "2022-12-26T22:52:20.965Z"
   },
   {
    "duration": 32,
    "start_time": "2022-12-26T22:52:21.135Z"
   },
   {
    "duration": 5,
    "start_time": "2022-12-26T22:52:21.169Z"
   },
   {
    "duration": 24,
    "start_time": "2022-12-26T22:52:21.176Z"
   },
   {
    "duration": 5,
    "start_time": "2022-12-26T22:52:21.201Z"
   },
   {
    "duration": 21,
    "start_time": "2022-12-26T22:52:21.208Z"
   },
   {
    "duration": 9,
    "start_time": "2022-12-26T22:52:21.230Z"
   },
   {
    "duration": 5209,
    "start_time": "2022-12-26T22:52:21.240Z"
   },
   {
    "duration": 247295,
    "start_time": "2022-12-26T22:52:26.451Z"
   },
   {
    "duration": 174983,
    "start_time": "2022-12-26T22:56:33.748Z"
   },
   {
    "duration": 7,
    "start_time": "2022-12-26T22:59:28.734Z"
   },
   {
    "duration": 26,
    "start_time": "2022-12-26T22:59:28.743Z"
   },
   {
    "duration": 547262,
    "start_time": "2022-12-26T22:59:28.770Z"
   },
   {
    "duration": 901790,
    "start_time": "2022-12-26T23:08:36.033Z"
   },
   {
    "duration": 5,
    "start_time": "2022-12-26T23:23:37.825Z"
   },
   {
    "duration": 343,
    "start_time": "2022-12-26T23:23:37.833Z"
   },
   {
    "duration": 53,
    "start_time": "2022-12-26T23:23:38.178Z"
   },
   {
    "duration": 4906,
    "start_time": "2022-12-26T23:23:38.233Z"
   },
   {
    "duration": 309820,
    "start_time": "2022-12-26T23:23:43.141Z"
   },
   {
    "duration": 328918,
    "start_time": "2022-12-26T23:28:52.963Z"
   },
   {
    "duration": 8,
    "start_time": "2022-12-26T23:34:21.883Z"
   },
   {
    "duration": 6,
    "start_time": "2022-12-26T23:34:21.893Z"
   },
   {
    "duration": 5126,
    "start_time": "2022-12-26T23:34:21.900Z"
   },
   {
    "duration": 4063325,
    "start_time": "2022-12-26T23:34:27.028Z"
   },
   {
    "duration": 23,
    "start_time": "2022-12-27T00:42:10.355Z"
   },
   {
    "duration": 923,
    "start_time": "2022-12-27T00:42:10.379Z"
   },
   {
    "duration": 244149,
    "start_time": "2022-12-27T00:42:11.304Z"
   },
   {
    "duration": 1935,
    "start_time": "2022-12-27T07:56:05.972Z"
   },
   {
    "duration": 2309,
    "start_time": "2022-12-27T07:56:07.910Z"
   },
   {
    "duration": 12,
    "start_time": "2022-12-27T07:56:10.221Z"
   },
   {
    "duration": 34,
    "start_time": "2022-12-27T07:56:10.236Z"
   },
   {
    "duration": 249,
    "start_time": "2022-12-27T07:56:10.272Z"
   },
   {
    "duration": 4,
    "start_time": "2022-12-27T07:56:10.522Z"
   },
   {
    "duration": 2038,
    "start_time": "2022-12-27T07:56:10.527Z"
   },
   {
    "duration": 6,
    "start_time": "2022-12-27T07:56:12.566Z"
   },
   {
    "duration": 549,
    "start_time": "2022-12-27T07:56:12.574Z"
   },
   {
    "duration": 1213655,
    "start_time": "2022-12-27T07:56:13.127Z"
   },
   {
    "duration": 9,
    "start_time": "2022-12-27T08:16:26.784Z"
   },
   {
    "duration": 17,
    "start_time": "2022-12-27T08:16:26.795Z"
   },
   {
    "duration": 50,
    "start_time": "2022-12-27T08:16:26.815Z"
   },
   {
    "duration": 34,
    "start_time": "2022-12-27T08:16:26.867Z"
   },
   {
    "duration": 6,
    "start_time": "2022-12-27T08:16:26.903Z"
   },
   {
    "duration": 35,
    "start_time": "2022-12-27T08:16:26.910Z"
   },
   {
    "duration": 10,
    "start_time": "2022-12-27T08:16:26.947Z"
   },
   {
    "duration": 10,
    "start_time": "2022-12-27T08:16:26.959Z"
   },
   {
    "duration": 6,
    "start_time": "2022-12-27T08:16:26.970Z"
   },
   {
    "duration": 5975,
    "start_time": "2022-12-27T08:16:26.978Z"
   },
   {
    "duration": 234317,
    "start_time": "2022-12-27T08:16:32.955Z"
   },
   {
    "duration": 154014,
    "start_time": "2022-12-27T08:20:27.274Z"
   },
   {
    "duration": 9,
    "start_time": "2022-12-27T08:23:01.290Z"
   },
   {
    "duration": 8,
    "start_time": "2022-12-27T08:23:01.322Z"
   },
   {
    "duration": 589686,
    "start_time": "2022-12-27T08:23:01.333Z"
   },
   {
    "duration": 945850,
    "start_time": "2022-12-27T08:32:51.021Z"
   },
   {
    "duration": 6,
    "start_time": "2022-12-27T08:48:36.873Z"
   },
   {
    "duration": 364,
    "start_time": "2022-12-27T08:48:36.881Z"
   },
   {
    "duration": 45,
    "start_time": "2022-12-27T08:48:37.247Z"
   },
   {
    "duration": 4949,
    "start_time": "2022-12-27T08:48:37.294Z"
   },
   {
    "duration": 310285,
    "start_time": "2022-12-27T08:48:42.245Z"
   },
   {
    "duration": 329431,
    "start_time": "2022-12-27T08:53:52.532Z"
   },
   {
    "duration": 9,
    "start_time": "2022-12-27T08:59:21.965Z"
   },
   {
    "duration": 11,
    "start_time": "2022-12-27T08:59:21.975Z"
   },
   {
    "duration": 5400,
    "start_time": "2022-12-27T08:59:21.987Z"
   },
   {
    "duration": 5,
    "start_time": "2022-12-27T09:33:59.911Z"
   },
   {
    "duration": 125,
    "start_time": "2022-12-27T09:44:01.229Z"
   },
   {
    "duration": 29,
    "start_time": "2022-12-27T09:44:42.812Z"
   },
   {
    "duration": 13,
    "start_time": "2022-12-27T09:46:14.720Z"
   },
   {
    "duration": 13,
    "start_time": "2022-12-27T09:47:35.961Z"
   },
   {
    "duration": 2,
    "start_time": "2022-12-27T10:06:14.901Z"
   },
   {
    "duration": 5,
    "start_time": "2022-12-27T10:26:33.843Z"
   },
   {
    "duration": 49,
    "start_time": "2022-12-27T10:30:17.262Z"
   },
   {
    "duration": 3,
    "start_time": "2022-12-27T10:30:24.590Z"
   },
   {
    "duration": 331,
    "start_time": "2022-12-27T10:39:33.216Z"
   },
   {
    "duration": 6,
    "start_time": "2022-12-27T10:44:01.636Z"
   },
   {
    "duration": 4,
    "start_time": "2022-12-27T10:44:22.511Z"
   },
   {
    "duration": 301,
    "start_time": "2022-12-27T10:44:47.110Z"
   },
   {
    "duration": 5,
    "start_time": "2022-12-27T10:46:06.331Z"
   },
   {
    "duration": 228,
    "start_time": "2022-12-27T10:48:06.697Z"
   },
   {
    "duration": 3,
    "start_time": "2022-12-27T10:51:20.077Z"
   },
   {
    "duration": 3,
    "start_time": "2022-12-27T10:51:20.892Z"
   },
   {
    "duration": 4,
    "start_time": "2022-12-27T10:51:22.452Z"
   },
   {
    "duration": 358435,
    "start_time": "2022-12-27T10:51:40.701Z"
   },
   {
    "duration": 11,
    "start_time": "2022-12-27T11:00:19.149Z"
   },
   {
    "duration": 207,
    "start_time": "2022-12-27T11:01:35.583Z"
   },
   {
    "duration": 3,
    "start_time": "2022-12-27T11:02:55.873Z"
   },
   {
    "duration": 3,
    "start_time": "2022-12-27T11:03:02.002Z"
   },
   {
    "duration": 4,
    "start_time": "2022-12-27T11:03:03.393Z"
   },
   {
    "duration": 3357902,
    "start_time": "2022-12-27T11:03:09.050Z"
   },
   {
    "duration": 59,
    "start_time": "2022-12-27T11:59:06.954Z"
   },
   {
    "duration": 14,
    "start_time": "2022-12-27T12:10:56.942Z"
   },
   {
    "duration": 3141,
    "start_time": "2022-12-27T12:19:08.008Z"
   },
   {
    "duration": 10,
    "start_time": "2022-12-27T12:23:07.884Z"
   },
   {
    "duration": 9,
    "start_time": "2022-12-27T12:23:33.100Z"
   },
   {
    "duration": 861256,
    "start_time": "2022-12-27T12:26:38.681Z"
   },
   {
    "duration": 32,
    "start_time": "2022-12-27T13:10:12.690Z"
   },
   {
    "duration": 6,
    "start_time": "2022-12-27T13:10:17.379Z"
   },
   {
    "duration": 12,
    "start_time": "2022-12-27T13:12:10.453Z"
   },
   {
    "duration": 5,
    "start_time": "2022-12-27T13:12:19.533Z"
   },
   {
    "duration": 7,
    "start_time": "2022-12-27T13:12:24.727Z"
   },
   {
    "duration": 124,
    "start_time": "2022-12-27T13:18:02.313Z"
   },
   {
    "duration": 6439,
    "start_time": "2022-12-27T13:18:07.177Z"
   },
   {
    "duration": 335881,
    "start_time": "2022-12-27T13:19:20.670Z"
   },
   {
    "duration": 215270,
    "start_time": "2022-12-27T13:24:56.554Z"
   },
   {
    "duration": 8,
    "start_time": "2022-12-27T13:28:31.826Z"
   },
   {
    "duration": 626720,
    "start_time": "2022-12-27T13:36:25.627Z"
   },
   {
    "duration": 68839,
    "start_time": "2022-12-27T13:47:56.707Z"
   },
   {
    "duration": 3,
    "start_time": "2022-12-27T13:49:31.423Z"
   },
   {
    "duration": 4,
    "start_time": "2022-12-27T13:51:21.630Z"
   },
   {
    "duration": 739,
    "start_time": "2022-12-27T13:51:25.969Z"
   },
   {
    "duration": 79,
    "start_time": "2022-12-27T13:51:33.787Z"
   },
   {
    "duration": 9511,
    "start_time": "2022-12-27T13:51:37.545Z"
   },
   {
    "duration": 381030,
    "start_time": "2022-12-27T13:52:27.649Z"
   },
   {
    "duration": 468809,
    "start_time": "2022-12-27T14:03:03.174Z"
   },
   {
    "duration": 9,
    "start_time": "2022-12-27T14:13:06.719Z"
   },
   {
    "duration": 3,
    "start_time": "2022-12-27T14:13:18.945Z"
   },
   {
    "duration": 1636,
    "start_time": "2022-12-27T14:14:26.064Z"
   },
   {
    "duration": 786,
    "start_time": "2022-12-27T14:14:27.702Z"
   },
   {
    "duration": 10,
    "start_time": "2022-12-27T14:14:28.489Z"
   },
   {
    "duration": 46,
    "start_time": "2022-12-27T14:14:28.501Z"
   },
   {
    "duration": 236,
    "start_time": "2022-12-27T14:14:28.548Z"
   },
   {
    "duration": 4,
    "start_time": "2022-12-27T14:14:28.785Z"
   },
   {
    "duration": 1946,
    "start_time": "2022-12-27T14:14:28.790Z"
   },
   {
    "duration": 5,
    "start_time": "2022-12-27T14:14:30.737Z"
   },
   {
    "duration": 237,
    "start_time": "2022-12-27T14:14:30.744Z"
   },
   {
    "duration": 1122617,
    "start_time": "2022-12-27T14:14:30.984Z"
   },
   {
    "duration": 14,
    "start_time": "2022-12-27T14:33:13.603Z"
   },
   {
    "duration": 9,
    "start_time": "2022-12-27T14:33:13.619Z"
   },
   {
    "duration": 23,
    "start_time": "2022-12-27T14:33:13.629Z"
   },
   {
    "duration": 31,
    "start_time": "2022-12-27T14:33:13.654Z"
   },
   {
    "duration": 5,
    "start_time": "2022-12-27T14:33:13.687Z"
   },
   {
    "duration": 20,
    "start_time": "2022-12-27T14:33:13.694Z"
   },
   {
    "duration": 6,
    "start_time": "2022-12-27T14:33:13.716Z"
   },
   {
    "duration": 8,
    "start_time": "2022-12-27T14:33:13.724Z"
   },
   {
    "duration": 8,
    "start_time": "2022-12-27T14:33:13.734Z"
   },
   {
    "duration": 6258,
    "start_time": "2022-12-27T14:33:13.743Z"
   },
   {
    "duration": 337339,
    "start_time": "2022-12-27T14:33:20.003Z"
   },
   {
    "duration": 620101,
    "start_time": "2022-12-27T14:38:57.344Z"
   },
   {
    "duration": 9,
    "start_time": "2022-12-27T14:49:17.446Z"
   },
   {
    "duration": 5,
    "start_time": "2022-12-27T14:49:17.457Z"
   },
   {
    "duration": 741750,
    "start_time": "2022-12-27T14:49:17.464Z"
   },
   {
    "duration": 1727711,
    "start_time": "2022-12-27T15:01:39.215Z"
   },
   {
    "duration": 5,
    "start_time": "2022-12-27T15:30:26.927Z"
   },
   {
    "duration": 626,
    "start_time": "2022-12-27T15:30:26.935Z"
   },
   {
    "duration": 80,
    "start_time": "2022-12-27T15:30:27.563Z"
   },
   {
    "duration": 8991,
    "start_time": "2022-12-27T15:30:27.646Z"
   },
   {
    "duration": 385251,
    "start_time": "2022-12-27T15:30:36.639Z"
   },
   {
    "duration": 381167,
    "start_time": "2022-12-27T15:37:01.893Z"
   },
   {
    "duration": 9,
    "start_time": "2022-12-27T15:43:23.061Z"
   },
   {
    "duration": 7,
    "start_time": "2022-12-27T15:43:23.071Z"
   },
   {
    "duration": 12,
    "start_time": "2022-12-27T15:43:23.080Z"
   },
   {
    "duration": 4113348,
    "start_time": "2022-12-27T15:43:23.094Z"
   },
   {
    "duration": 29,
    "start_time": "2022-12-27T16:51:56.445Z"
   },
   {
    "duration": 2142,
    "start_time": "2022-12-27T16:51:56.476Z"
   },
   {
    "duration": 4,
    "start_time": "2022-12-27T16:55:16.425Z"
   },
   {
    "duration": 7151,
    "start_time": "2022-12-27T17:01:17.478Z"
   },
   {
    "duration": 25603,
    "start_time": "2022-12-27T17:02:40.231Z"
   }
  ],
  "kernelspec": {
   "display_name": "Python 3 (ipykernel)",
   "language": "python",
   "name": "python3"
  },
  "language_info": {
   "codemirror_mode": {
    "name": "ipython",
    "version": 3
   },
   "file_extension": ".py",
   "mimetype": "text/x-python",
   "name": "python",
   "nbconvert_exporter": "python",
   "pygments_lexer": "ipython3",
   "version": "3.9.12"
  },
  "toc": {
   "base_numbering": 1,
   "nav_menu": {},
   "number_sections": true,
   "sideBar": true,
   "skip_h1_title": true,
   "title_cell": "Содержание",
   "title_sidebar": "Contents",
   "toc_cell": true,
   "toc_position": {
    "height": "calc(100% - 180px)",
    "left": "10px",
    "top": "150px",
    "width": "302.391px"
   },
   "toc_section_display": true,
   "toc_window_display": false
  }
 },
 "nbformat": 4,
 "nbformat_minor": 2
}
