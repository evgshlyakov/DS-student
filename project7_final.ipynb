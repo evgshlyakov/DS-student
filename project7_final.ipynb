{
 "cells": [
  {
   "cell_type": "markdown",
   "metadata": {},
   "source": [
    "<font color='steelblue' size=5><b>Комментарий ревьюера</b></font>\n",
    "\n",
    "<font color='steelblue'>Привет, Евгений! Меня зовут Михаил Костин, я буду проверять этот проект. Спасибо за проделанную работу! Предлагаю общаться на «ты». Но если это не удобно - дай знать, и мы перейдем на \"вы\".</font>\n",
    "\n",
    "<font color='steelblue'>Я буду использовать различные цвета и знаки, чтобы было удобнее воспринимать мои комментарии:</font>\n",
    "\n",
    "\n",
    "---\n",
    "\n",
    "\n",
    "<font color='steelblue'>синий текст - просто текст комментария</font>\n",
    "\n",
    "<font color='green'>✔️ и зеленый текст - все отлично</font>\n",
    "\n",
    "<font color='darkorange'>⚠️ и оранжевый текст - сделано все правильно, однако есть рекомендации, на что стоит обратить внимание или что в следующий раз можно сделать по-другому. Ты можешь учесть эти комментарии при выполнении будущих заданий или доработать проект сейчас (однако это не обязательно).</font>\n",
    "\n",
    "<font color='crimson'>❌ и красный текст - есть аспекты, с которыми принять проект в данной итерации не получится</font>\n",
    "\n",
    "---\n",
    "\n",
    "<font color='steelblue'>Давай работать над проектом в диалоге: если ты **что-то меняешь** в проекте по моим рекомендациям - **пиши об этом**. Выбери для своих комментариев какой-то заметный цвет, так мне будет легче отследить изменения.\n",
    "Например, так: <b>Комментарий студента</b>\n",
    "\n",
    "Пожалуйста, не удаляй мои комментарии в случае возврата работы, так будет проще разобраться, какие были недочеты, а также сразу увидеть исправленное. \n",
    "\n",
    "<b>Давай смотреть, что получилось!</b></font> "
   ]
  },
  {
   "cell_type": "markdown",
   "metadata": {},
   "source": [
    "# Выбор локации для скважины"
   ]
  },
  {
   "cell_type": "markdown",
   "metadata": {},
   "source": [
    "От добывающей компании «ГлавРосГосНефть» предоставлены пробы нефти в трёх регионах: в каждом из 10 000 месторождений региона измерили качество нефти и объём её запасов. \n",
    "\n",
    "Цель исследования: принять решение, в каком регионе бурить новую скважину, чтобы добыча приносила наибольшую прибыль. \n",
    "\n",
    "Для этого необходимо построить модель машинного обучения по данным геологоразведки в каждом из 3-х регионов на основании трёх значимых признаков нефти в каждой из 100 тысяч предполагаемых скважин региона. Целевой признак: объём запасов в скважине в тыс.баррелях. Необходимо проанализировать возможную прибыль и риски техникой *Bootstrap.*\n",
    "\n",
    "План выбора локации для скважины:\n",
    "\n",
    "- В избранном регионе ищут месторождения, для каждого определяют значения признаков (наши исходные данные);\n",
    "- Строят модель и оценивают объём запасов;\n",
    "- Выбирают месторождения с самым высокими оценками значений. Количество месторождений зависит от бюджета компании и стоимости разработки одной скважины;\n",
    "- Прибыль равна суммарной прибыли отобранных месторождений.\n",
    "\n",
    "# Оглавление\n",
    "\n",
    "\n",
    "1. [Загрузка и подготовка данных](#paragraph1)\n",
    "\n",
    "   1.1. [Вывод](#subparagraph1)\n",
    " \n",
    " \n",
    "2. [Обучение и проверка модели](#paragraph2)\n",
    "\n",
    "   2.1. [Вывод](#subparagraph2)\n",
    "                     \n",
    "\n",
    "3. [Подготовка к расчёту прибыли](#paragraph3)\n",
    "\n",
    "   3.1. [Вывод](#subparagraph3)\n",
    "        \n",
    "\n",
    "4. [Расчёт прибыли и рисков](#paragraph4)\n",
    "\n",
    "   4.1. [Вывод](#subparagraph4)\n",
    "        \n",
    "\n",
    "5. [Общий вывод](#paragraph5)    "
   ]
  },
  {
   "cell_type": "markdown",
   "metadata": {},
   "source": [
    "## Загрузка и подготовка данных<a name=\"paragraph1\"></a>"
   ]
  },
  {
   "cell_type": "code",
   "execution_count": 1,
   "metadata": {},
   "outputs": [],
   "source": [
    "# импорт библиотек\n",
    "\n",
    "import pandas as pd\n",
    "import numpy as np\n",
    "import matplotlib.pyplot as plt\n",
    "\n",
    "from sklearn.preprocessing import StandardScaler\n",
    "from sklearn.model_selection import train_test_split\n",
    "from sklearn.linear_model import LinearRegression\n",
    "from sklearn.metrics import mean_squared_error"
   ]
  },
  {
   "cell_type": "markdown",
   "metadata": {},
   "source": [
    "<font color='steelblue'><b>Комментарий ревьюера: </b></font> ✔️ <br>\n",
    "<font color='green'>\n",
    "Хорошо, есть описание, импорты в одном месте.\n",
    "</font>"
   ]
  },
  {
   "cell_type": "code",
   "execution_count": 2,
   "metadata": {},
   "outputs": [
    {
     "data": {
      "text/html": [
       "<div>\n",
       "<style scoped>\n",
       "    .dataframe tbody tr th:only-of-type {\n",
       "        vertical-align: middle;\n",
       "    }\n",
       "\n",
       "    .dataframe tbody tr th {\n",
       "        vertical-align: top;\n",
       "    }\n",
       "\n",
       "    .dataframe thead th {\n",
       "        text-align: right;\n",
       "    }\n",
       "</style>\n",
       "<table border=\"1\" class=\"dataframe\">\n",
       "  <thead>\n",
       "    <tr style=\"text-align: right;\">\n",
       "      <th></th>\n",
       "      <th>id</th>\n",
       "      <th>f0</th>\n",
       "      <th>f1</th>\n",
       "      <th>f2</th>\n",
       "      <th>product</th>\n",
       "    </tr>\n",
       "  </thead>\n",
       "  <tbody>\n",
       "    <tr>\n",
       "      <th>0</th>\n",
       "      <td>txEyH</td>\n",
       "      <td>0.705745</td>\n",
       "      <td>-0.497823</td>\n",
       "      <td>1.221170</td>\n",
       "      <td>105.280062</td>\n",
       "    </tr>\n",
       "    <tr>\n",
       "      <th>1</th>\n",
       "      <td>2acmU</td>\n",
       "      <td>1.334711</td>\n",
       "      <td>-0.340164</td>\n",
       "      <td>4.365080</td>\n",
       "      <td>73.037750</td>\n",
       "    </tr>\n",
       "    <tr>\n",
       "      <th>2</th>\n",
       "      <td>409Wp</td>\n",
       "      <td>1.022732</td>\n",
       "      <td>0.151990</td>\n",
       "      <td>1.419926</td>\n",
       "      <td>85.265647</td>\n",
       "    </tr>\n",
       "    <tr>\n",
       "      <th>3</th>\n",
       "      <td>iJLyR</td>\n",
       "      <td>-0.032172</td>\n",
       "      <td>0.139033</td>\n",
       "      <td>2.978566</td>\n",
       "      <td>168.620776</td>\n",
       "    </tr>\n",
       "    <tr>\n",
       "      <th>4</th>\n",
       "      <td>Xdl7t</td>\n",
       "      <td>1.988431</td>\n",
       "      <td>0.155413</td>\n",
       "      <td>4.751769</td>\n",
       "      <td>154.036647</td>\n",
       "    </tr>\n",
       "  </tbody>\n",
       "</table>\n",
       "</div>"
      ],
      "text/plain": [
       "      id        f0        f1        f2     product\n",
       "0  txEyH  0.705745 -0.497823  1.221170  105.280062\n",
       "1  2acmU  1.334711 -0.340164  4.365080   73.037750\n",
       "2  409Wp  1.022732  0.151990  1.419926   85.265647\n",
       "3  iJLyR -0.032172  0.139033  2.978566  168.620776\n",
       "4  Xdl7t  1.988431  0.155413  4.751769  154.036647"
      ]
     },
     "metadata": {},
     "output_type": "display_data"
    },
    {
     "data": {
      "text/html": [
       "<div>\n",
       "<style scoped>\n",
       "    .dataframe tbody tr th:only-of-type {\n",
       "        vertical-align: middle;\n",
       "    }\n",
       "\n",
       "    .dataframe tbody tr th {\n",
       "        vertical-align: top;\n",
       "    }\n",
       "\n",
       "    .dataframe thead th {\n",
       "        text-align: right;\n",
       "    }\n",
       "</style>\n",
       "<table border=\"1\" class=\"dataframe\">\n",
       "  <thead>\n",
       "    <tr style=\"text-align: right;\">\n",
       "      <th></th>\n",
       "      <th>id</th>\n",
       "      <th>f0</th>\n",
       "      <th>f1</th>\n",
       "      <th>f2</th>\n",
       "      <th>product</th>\n",
       "    </tr>\n",
       "  </thead>\n",
       "  <tbody>\n",
       "    <tr>\n",
       "      <th>0</th>\n",
       "      <td>kBEdx</td>\n",
       "      <td>-15.001348</td>\n",
       "      <td>-8.276000</td>\n",
       "      <td>-0.005876</td>\n",
       "      <td>3.179103</td>\n",
       "    </tr>\n",
       "    <tr>\n",
       "      <th>1</th>\n",
       "      <td>62mP7</td>\n",
       "      <td>14.272088</td>\n",
       "      <td>-3.475083</td>\n",
       "      <td>0.999183</td>\n",
       "      <td>26.953261</td>\n",
       "    </tr>\n",
       "    <tr>\n",
       "      <th>2</th>\n",
       "      <td>vyE1P</td>\n",
       "      <td>6.263187</td>\n",
       "      <td>-5.948386</td>\n",
       "      <td>5.001160</td>\n",
       "      <td>134.766305</td>\n",
       "    </tr>\n",
       "    <tr>\n",
       "      <th>3</th>\n",
       "      <td>KcrkZ</td>\n",
       "      <td>-13.081196</td>\n",
       "      <td>-11.506057</td>\n",
       "      <td>4.999415</td>\n",
       "      <td>137.945408</td>\n",
       "    </tr>\n",
       "    <tr>\n",
       "      <th>4</th>\n",
       "      <td>AHL4O</td>\n",
       "      <td>12.702195</td>\n",
       "      <td>-8.147433</td>\n",
       "      <td>5.004363</td>\n",
       "      <td>134.766305</td>\n",
       "    </tr>\n",
       "  </tbody>\n",
       "</table>\n",
       "</div>"
      ],
      "text/plain": [
       "      id         f0         f1        f2     product\n",
       "0  kBEdx -15.001348  -8.276000 -0.005876    3.179103\n",
       "1  62mP7  14.272088  -3.475083  0.999183   26.953261\n",
       "2  vyE1P   6.263187  -5.948386  5.001160  134.766305\n",
       "3  KcrkZ -13.081196 -11.506057  4.999415  137.945408\n",
       "4  AHL4O  12.702195  -8.147433  5.004363  134.766305"
      ]
     },
     "metadata": {},
     "output_type": "display_data"
    },
    {
     "data": {
      "text/html": [
       "<div>\n",
       "<style scoped>\n",
       "    .dataframe tbody tr th:only-of-type {\n",
       "        vertical-align: middle;\n",
       "    }\n",
       "\n",
       "    .dataframe tbody tr th {\n",
       "        vertical-align: top;\n",
       "    }\n",
       "\n",
       "    .dataframe thead th {\n",
       "        text-align: right;\n",
       "    }\n",
       "</style>\n",
       "<table border=\"1\" class=\"dataframe\">\n",
       "  <thead>\n",
       "    <tr style=\"text-align: right;\">\n",
       "      <th></th>\n",
       "      <th>id</th>\n",
       "      <th>f0</th>\n",
       "      <th>f1</th>\n",
       "      <th>f2</th>\n",
       "      <th>product</th>\n",
       "    </tr>\n",
       "  </thead>\n",
       "  <tbody>\n",
       "    <tr>\n",
       "      <th>0</th>\n",
       "      <td>fwXo0</td>\n",
       "      <td>-1.146987</td>\n",
       "      <td>0.963328</td>\n",
       "      <td>-0.828965</td>\n",
       "      <td>27.758673</td>\n",
       "    </tr>\n",
       "    <tr>\n",
       "      <th>1</th>\n",
       "      <td>WJtFt</td>\n",
       "      <td>0.262778</td>\n",
       "      <td>0.269839</td>\n",
       "      <td>-2.530187</td>\n",
       "      <td>56.069697</td>\n",
       "    </tr>\n",
       "    <tr>\n",
       "      <th>2</th>\n",
       "      <td>ovLUW</td>\n",
       "      <td>0.194587</td>\n",
       "      <td>0.289035</td>\n",
       "      <td>-5.586433</td>\n",
       "      <td>62.871910</td>\n",
       "    </tr>\n",
       "    <tr>\n",
       "      <th>3</th>\n",
       "      <td>q6cA6</td>\n",
       "      <td>2.236060</td>\n",
       "      <td>-0.553760</td>\n",
       "      <td>0.930038</td>\n",
       "      <td>114.572842</td>\n",
       "    </tr>\n",
       "    <tr>\n",
       "      <th>4</th>\n",
       "      <td>WPMUX</td>\n",
       "      <td>-0.515993</td>\n",
       "      <td>1.716266</td>\n",
       "      <td>5.899011</td>\n",
       "      <td>149.600746</td>\n",
       "    </tr>\n",
       "  </tbody>\n",
       "</table>\n",
       "</div>"
      ],
      "text/plain": [
       "      id        f0        f1        f2     product\n",
       "0  fwXo0 -1.146987  0.963328 -0.828965   27.758673\n",
       "1  WJtFt  0.262778  0.269839 -2.530187   56.069697\n",
       "2  ovLUW  0.194587  0.289035 -5.586433   62.871910\n",
       "3  q6cA6  2.236060 -0.553760  0.930038  114.572842\n",
       "4  WPMUX -0.515993  1.716266  5.899011  149.600746"
      ]
     },
     "metadata": {},
     "output_type": "display_data"
    }
   ],
   "source": [
    "# чтение файла с разных источников\n",
    "\n",
    "try:\n",
    "    geo_1 = pd.read_csv('/datasets/geo_data_0.csv')\n",
    "    geo_2 = pd.read_csv('/datasets/geo_data_1.csv')\n",
    "    geo_3 = pd.read_csv('/datasets/geo_data_2.csv')\n",
    "except:\n",
    "    geo_1 = pd.read_csv('C:/Users/Evgenii/Downloads/DS Yandex/Projects/geo_data_0.csv')\n",
    "    geo_2 = pd.read_csv('C:/Users/Evgenii/Downloads/DS Yandex/Projects/geo_data_1.csv')\n",
    "    geo_3 = pd.read_csv('C:/Users/Evgenii/Downloads/DS Yandex/Projects/geo_data_2.csv')\n",
    "display(geo_1.head())\n",
    "display(geo_2.head())\n",
    "display(geo_3.head())"
   ]
  },
  {
   "cell_type": "code",
   "execution_count": 3,
   "metadata": {},
   "outputs": [
    {
     "name": "stdout",
     "output_type": "stream",
     "text": [
      "<class 'pandas.core.frame.DataFrame'>\n",
      "RangeIndex: 100000 entries, 0 to 99999\n",
      "Data columns (total 5 columns):\n",
      " #   Column   Non-Null Count   Dtype  \n",
      "---  ------   --------------   -----  \n",
      " 0   id       100000 non-null  object \n",
      " 1   f0       100000 non-null  float64\n",
      " 2   f1       100000 non-null  float64\n",
      " 3   f2       100000 non-null  float64\n",
      " 4   product  100000 non-null  float64\n",
      "dtypes: float64(4), object(1)\n",
      "memory usage: 3.4+ MB\n"
     ]
    },
    {
     "data": {
      "text/plain": [
       "None"
      ]
     },
     "metadata": {},
     "output_type": "display_data"
    },
    {
     "name": "stdout",
     "output_type": "stream",
     "text": [
      "<class 'pandas.core.frame.DataFrame'>\n",
      "RangeIndex: 100000 entries, 0 to 99999\n",
      "Data columns (total 5 columns):\n",
      " #   Column   Non-Null Count   Dtype  \n",
      "---  ------   --------------   -----  \n",
      " 0   id       100000 non-null  object \n",
      " 1   f0       100000 non-null  float64\n",
      " 2   f1       100000 non-null  float64\n",
      " 3   f2       100000 non-null  float64\n",
      " 4   product  100000 non-null  float64\n",
      "dtypes: float64(4), object(1)\n",
      "memory usage: 3.4+ MB\n"
     ]
    },
    {
     "data": {
      "text/plain": [
       "None"
      ]
     },
     "metadata": {},
     "output_type": "display_data"
    },
    {
     "name": "stdout",
     "output_type": "stream",
     "text": [
      "<class 'pandas.core.frame.DataFrame'>\n",
      "RangeIndex: 100000 entries, 0 to 99999\n",
      "Data columns (total 5 columns):\n",
      " #   Column   Non-Null Count   Dtype  \n",
      "---  ------   --------------   -----  \n",
      " 0   id       100000 non-null  object \n",
      " 1   f0       100000 non-null  float64\n",
      " 2   f1       100000 non-null  float64\n",
      " 3   f2       100000 non-null  float64\n",
      " 4   product  100000 non-null  float64\n",
      "dtypes: float64(4), object(1)\n",
      "memory usage: 3.4+ MB\n"
     ]
    },
    {
     "data": {
      "text/plain": [
       "None"
      ]
     },
     "metadata": {},
     "output_type": "display_data"
    }
   ],
   "source": [
    "# информация об отсутствии пропусков и типе данных\n",
    "\n",
    "display(geo_1.info())\n",
    "display(geo_2.info())\n",
    "display(geo_3.info())"
   ]
  },
  {
   "cell_type": "code",
   "execution_count": 4,
   "metadata": {},
   "outputs": [
    {
     "data": {
      "text/html": [
       "<div>\n",
       "<style scoped>\n",
       "    .dataframe tbody tr th:only-of-type {\n",
       "        vertical-align: middle;\n",
       "    }\n",
       "\n",
       "    .dataframe tbody tr th {\n",
       "        vertical-align: top;\n",
       "    }\n",
       "\n",
       "    .dataframe thead th {\n",
       "        text-align: right;\n",
       "    }\n",
       "</style>\n",
       "<table border=\"1\" class=\"dataframe\">\n",
       "  <thead>\n",
       "    <tr style=\"text-align: right;\">\n",
       "      <th></th>\n",
       "      <th>f0</th>\n",
       "      <th>f1</th>\n",
       "      <th>f2</th>\n",
       "      <th>product</th>\n",
       "    </tr>\n",
       "  </thead>\n",
       "  <tbody>\n",
       "    <tr>\n",
       "      <th>count</th>\n",
       "      <td>100000.000000</td>\n",
       "      <td>100000.000000</td>\n",
       "      <td>100000.000000</td>\n",
       "      <td>100000.000000</td>\n",
       "    </tr>\n",
       "    <tr>\n",
       "      <th>mean</th>\n",
       "      <td>0.500419</td>\n",
       "      <td>0.250143</td>\n",
       "      <td>2.502647</td>\n",
       "      <td>92.500000</td>\n",
       "    </tr>\n",
       "    <tr>\n",
       "      <th>std</th>\n",
       "      <td>0.871832</td>\n",
       "      <td>0.504433</td>\n",
       "      <td>3.248248</td>\n",
       "      <td>44.288691</td>\n",
       "    </tr>\n",
       "    <tr>\n",
       "      <th>min</th>\n",
       "      <td>-1.408605</td>\n",
       "      <td>-0.848218</td>\n",
       "      <td>-12.088328</td>\n",
       "      <td>0.000000</td>\n",
       "    </tr>\n",
       "    <tr>\n",
       "      <th>25%</th>\n",
       "      <td>-0.072580</td>\n",
       "      <td>-0.200881</td>\n",
       "      <td>0.287748</td>\n",
       "      <td>56.497507</td>\n",
       "    </tr>\n",
       "    <tr>\n",
       "      <th>50%</th>\n",
       "      <td>0.502360</td>\n",
       "      <td>0.250252</td>\n",
       "      <td>2.515969</td>\n",
       "      <td>91.849972</td>\n",
       "    </tr>\n",
       "    <tr>\n",
       "      <th>75%</th>\n",
       "      <td>1.073581</td>\n",
       "      <td>0.700646</td>\n",
       "      <td>4.715088</td>\n",
       "      <td>128.564089</td>\n",
       "    </tr>\n",
       "    <tr>\n",
       "      <th>max</th>\n",
       "      <td>2.362331</td>\n",
       "      <td>1.343769</td>\n",
       "      <td>16.003790</td>\n",
       "      <td>185.364347</td>\n",
       "    </tr>\n",
       "  </tbody>\n",
       "</table>\n",
       "</div>"
      ],
      "text/plain": [
       "                  f0             f1             f2        product\n",
       "count  100000.000000  100000.000000  100000.000000  100000.000000\n",
       "mean        0.500419       0.250143       2.502647      92.500000\n",
       "std         0.871832       0.504433       3.248248      44.288691\n",
       "min        -1.408605      -0.848218     -12.088328       0.000000\n",
       "25%        -0.072580      -0.200881       0.287748      56.497507\n",
       "50%         0.502360       0.250252       2.515969      91.849972\n",
       "75%         1.073581       0.700646       4.715088     128.564089\n",
       "max         2.362331       1.343769      16.003790     185.364347"
      ]
     },
     "metadata": {},
     "output_type": "display_data"
    },
    {
     "data": {
      "text/html": [
       "<div>\n",
       "<style scoped>\n",
       "    .dataframe tbody tr th:only-of-type {\n",
       "        vertical-align: middle;\n",
       "    }\n",
       "\n",
       "    .dataframe tbody tr th {\n",
       "        vertical-align: top;\n",
       "    }\n",
       "\n",
       "    .dataframe thead th {\n",
       "        text-align: right;\n",
       "    }\n",
       "</style>\n",
       "<table border=\"1\" class=\"dataframe\">\n",
       "  <thead>\n",
       "    <tr style=\"text-align: right;\">\n",
       "      <th></th>\n",
       "      <th>f0</th>\n",
       "      <th>f1</th>\n",
       "      <th>f2</th>\n",
       "      <th>product</th>\n",
       "    </tr>\n",
       "  </thead>\n",
       "  <tbody>\n",
       "    <tr>\n",
       "      <th>count</th>\n",
       "      <td>100000.000000</td>\n",
       "      <td>100000.000000</td>\n",
       "      <td>100000.000000</td>\n",
       "      <td>100000.000000</td>\n",
       "    </tr>\n",
       "    <tr>\n",
       "      <th>mean</th>\n",
       "      <td>1.141296</td>\n",
       "      <td>-4.796579</td>\n",
       "      <td>2.494541</td>\n",
       "      <td>68.825000</td>\n",
       "    </tr>\n",
       "    <tr>\n",
       "      <th>std</th>\n",
       "      <td>8.965932</td>\n",
       "      <td>5.119872</td>\n",
       "      <td>1.703572</td>\n",
       "      <td>45.944423</td>\n",
       "    </tr>\n",
       "    <tr>\n",
       "      <th>min</th>\n",
       "      <td>-31.609576</td>\n",
       "      <td>-26.358598</td>\n",
       "      <td>-0.018144</td>\n",
       "      <td>0.000000</td>\n",
       "    </tr>\n",
       "    <tr>\n",
       "      <th>25%</th>\n",
       "      <td>-6.298551</td>\n",
       "      <td>-8.267985</td>\n",
       "      <td>1.000021</td>\n",
       "      <td>26.953261</td>\n",
       "    </tr>\n",
       "    <tr>\n",
       "      <th>50%</th>\n",
       "      <td>1.153055</td>\n",
       "      <td>-4.813172</td>\n",
       "      <td>2.011479</td>\n",
       "      <td>57.085625</td>\n",
       "    </tr>\n",
       "    <tr>\n",
       "      <th>75%</th>\n",
       "      <td>8.621015</td>\n",
       "      <td>-1.332816</td>\n",
       "      <td>3.999904</td>\n",
       "      <td>107.813044</td>\n",
       "    </tr>\n",
       "    <tr>\n",
       "      <th>max</th>\n",
       "      <td>29.421755</td>\n",
       "      <td>18.734063</td>\n",
       "      <td>5.019721</td>\n",
       "      <td>137.945408</td>\n",
       "    </tr>\n",
       "  </tbody>\n",
       "</table>\n",
       "</div>"
      ],
      "text/plain": [
       "                  f0             f1             f2        product\n",
       "count  100000.000000  100000.000000  100000.000000  100000.000000\n",
       "mean        1.141296      -4.796579       2.494541      68.825000\n",
       "std         8.965932       5.119872       1.703572      45.944423\n",
       "min       -31.609576     -26.358598      -0.018144       0.000000\n",
       "25%        -6.298551      -8.267985       1.000021      26.953261\n",
       "50%         1.153055      -4.813172       2.011479      57.085625\n",
       "75%         8.621015      -1.332816       3.999904     107.813044\n",
       "max        29.421755      18.734063       5.019721     137.945408"
      ]
     },
     "metadata": {},
     "output_type": "display_data"
    },
    {
     "data": {
      "text/html": [
       "<div>\n",
       "<style scoped>\n",
       "    .dataframe tbody tr th:only-of-type {\n",
       "        vertical-align: middle;\n",
       "    }\n",
       "\n",
       "    .dataframe tbody tr th {\n",
       "        vertical-align: top;\n",
       "    }\n",
       "\n",
       "    .dataframe thead th {\n",
       "        text-align: right;\n",
       "    }\n",
       "</style>\n",
       "<table border=\"1\" class=\"dataframe\">\n",
       "  <thead>\n",
       "    <tr style=\"text-align: right;\">\n",
       "      <th></th>\n",
       "      <th>f0</th>\n",
       "      <th>f1</th>\n",
       "      <th>f2</th>\n",
       "      <th>product</th>\n",
       "    </tr>\n",
       "  </thead>\n",
       "  <tbody>\n",
       "    <tr>\n",
       "      <th>count</th>\n",
       "      <td>100000.000000</td>\n",
       "      <td>100000.000000</td>\n",
       "      <td>100000.000000</td>\n",
       "      <td>100000.000000</td>\n",
       "    </tr>\n",
       "    <tr>\n",
       "      <th>mean</th>\n",
       "      <td>0.002023</td>\n",
       "      <td>-0.002081</td>\n",
       "      <td>2.495128</td>\n",
       "      <td>95.000000</td>\n",
       "    </tr>\n",
       "    <tr>\n",
       "      <th>std</th>\n",
       "      <td>1.732045</td>\n",
       "      <td>1.730417</td>\n",
       "      <td>3.473445</td>\n",
       "      <td>44.749921</td>\n",
       "    </tr>\n",
       "    <tr>\n",
       "      <th>min</th>\n",
       "      <td>-8.760004</td>\n",
       "      <td>-7.084020</td>\n",
       "      <td>-11.970335</td>\n",
       "      <td>0.000000</td>\n",
       "    </tr>\n",
       "    <tr>\n",
       "      <th>25%</th>\n",
       "      <td>-1.162288</td>\n",
       "      <td>-1.174820</td>\n",
       "      <td>0.130359</td>\n",
       "      <td>59.450441</td>\n",
       "    </tr>\n",
       "    <tr>\n",
       "      <th>50%</th>\n",
       "      <td>0.009424</td>\n",
       "      <td>-0.009482</td>\n",
       "      <td>2.484236</td>\n",
       "      <td>94.925613</td>\n",
       "    </tr>\n",
       "    <tr>\n",
       "      <th>75%</th>\n",
       "      <td>1.158535</td>\n",
       "      <td>1.163678</td>\n",
       "      <td>4.858794</td>\n",
       "      <td>130.595027</td>\n",
       "    </tr>\n",
       "    <tr>\n",
       "      <th>max</th>\n",
       "      <td>7.238262</td>\n",
       "      <td>7.844801</td>\n",
       "      <td>16.739402</td>\n",
       "      <td>190.029838</td>\n",
       "    </tr>\n",
       "  </tbody>\n",
       "</table>\n",
       "</div>"
      ],
      "text/plain": [
       "                  f0             f1             f2        product\n",
       "count  100000.000000  100000.000000  100000.000000  100000.000000\n",
       "mean        0.002023      -0.002081       2.495128      95.000000\n",
       "std         1.732045       1.730417       3.473445      44.749921\n",
       "min        -8.760004      -7.084020     -11.970335       0.000000\n",
       "25%        -1.162288      -1.174820       0.130359      59.450441\n",
       "50%         0.009424      -0.009482       2.484236      94.925613\n",
       "75%         1.158535       1.163678       4.858794     130.595027\n",
       "max         7.238262       7.844801      16.739402     190.029838"
      ]
     },
     "metadata": {},
     "output_type": "display_data"
    }
   ],
   "source": [
    "# посмотрим на числовые характеристики данных: max, min, среднее\n",
    "\n",
    "display(geo_1.describe())\n",
    "display(geo_2.describe())\n",
    "display(geo_3.describe())"
   ]
  },
  {
   "cell_type": "code",
   "execution_count": 5,
   "metadata": {
    "scrolled": true
   },
   "outputs": [
    {
     "data": {
      "image/png": "[encoded data removed]",
      "text/plain": [
       "<Figure size 720x432 with 1 Axes>"
      ]
     },
     "metadata": {
      "needs_background": "light"
     },
     "output_type": "display_data"
    }
   ],
   "source": [
    "# посмотрим на распределение запасов нефти в каждом регионе\n",
    "\n",
    "plt.xlabel('запасы нефти, тыс.барр.')\n",
    "geo_1['product'].plot(kind='hist', histtype='step', bins=10, linewidth=2, label='регион_1', legend=True, \n",
    "                      title='Распределение запасов нефти в трёх регионах', figsize=(10,6))\n",
    "geo_2['product'].plot(kind='hist', histtype='step', bins=10, linewidth=2, label='регион_2', legend=True)\n",
    "geo_3['product'].plot(kind='hist', histtype='step', bins=10, linewidth=2, label='регион_3', legend=True);"
   ]
  },
  {
   "cell_type": "markdown",
   "metadata": {},
   "source": [
    "*В регионах 1 и 3 - нормальное распределение запасов, а в регионе 2 скважины, в основном, либо с очень маленьким, либо с очень большим объёмом запасов.*"
   ]
  },
  {
   "cell_type": "code",
   "execution_count": 6,
   "metadata": {},
   "outputs": [
    {
     "name": "stdout",
     "output_type": "stream",
     "text": [
      "Дубликатов в регионе 1: 0\n",
      "Дубликатов в регионе 2: 0\n",
      "Дубликатов в регионе 3: 0\n"
     ]
    }
   ],
   "source": [
    "# проверка данных на явные дубликаты\n",
    "print(\"Дубликатов в регионе 1:\", geo_1.duplicated().sum())\n",
    "print(\"Дубликатов в регионе 2:\", geo_2.duplicated().sum())\n",
    "print(\"Дубликатов в регионе 3:\", geo_3.duplicated().sum())"
   ]
  },
  {
   "cell_type": "code",
   "execution_count": 7,
   "metadata": {
    "scrolled": true
   },
   "outputs": [
    {
     "data": {
      "text/html": [
       "<div>\n",
       "<style scoped>\n",
       "    .dataframe tbody tr th:only-of-type {\n",
       "        vertical-align: middle;\n",
       "    }\n",
       "\n",
       "    .dataframe tbody tr th {\n",
       "        vertical-align: top;\n",
       "    }\n",
       "\n",
       "    .dataframe thead th {\n",
       "        text-align: right;\n",
       "    }\n",
       "</style>\n",
       "<table border=\"1\" class=\"dataframe\">\n",
       "  <thead>\n",
       "    <tr style=\"text-align: right;\">\n",
       "      <th></th>\n",
       "      <th>id</th>\n",
       "      <th>f0</th>\n",
       "      <th>f1</th>\n",
       "      <th>f2</th>\n",
       "      <th>product</th>\n",
       "    </tr>\n",
       "  </thead>\n",
       "  <tbody>\n",
       "    <tr>\n",
       "      <th>66136</th>\n",
       "      <td>74z30</td>\n",
       "      <td>1.084962</td>\n",
       "      <td>-0.312358</td>\n",
       "      <td>6.990771</td>\n",
       "      <td>127.643327</td>\n",
       "    </tr>\n",
       "    <tr>\n",
       "      <th>64022</th>\n",
       "      <td>74z30</td>\n",
       "      <td>0.741456</td>\n",
       "      <td>0.459229</td>\n",
       "      <td>5.153109</td>\n",
       "      <td>140.771492</td>\n",
       "    </tr>\n",
       "    <tr>\n",
       "      <th>51970</th>\n",
       "      <td>A5aEY</td>\n",
       "      <td>-0.180335</td>\n",
       "      <td>0.935548</td>\n",
       "      <td>-2.094773</td>\n",
       "      <td>33.020205</td>\n",
       "    </tr>\n",
       "    <tr>\n",
       "      <th>3389</th>\n",
       "      <td>A5aEY</td>\n",
       "      <td>-0.039949</td>\n",
       "      <td>0.156872</td>\n",
       "      <td>0.209861</td>\n",
       "      <td>89.249364</td>\n",
       "    </tr>\n",
       "    <tr>\n",
       "      <th>69163</th>\n",
       "      <td>AGS9W</td>\n",
       "      <td>-0.933795</td>\n",
       "      <td>0.116194</td>\n",
       "      <td>-3.655896</td>\n",
       "      <td>19.230453</td>\n",
       "    </tr>\n",
       "    <tr>\n",
       "      <th>42529</th>\n",
       "      <td>AGS9W</td>\n",
       "      <td>1.454747</td>\n",
       "      <td>-0.479651</td>\n",
       "      <td>0.683380</td>\n",
       "      <td>126.370504</td>\n",
       "    </tr>\n",
       "    <tr>\n",
       "      <th>931</th>\n",
       "      <td>HZww2</td>\n",
       "      <td>0.755284</td>\n",
       "      <td>0.368511</td>\n",
       "      <td>1.863211</td>\n",
       "      <td>30.681774</td>\n",
       "    </tr>\n",
       "    <tr>\n",
       "      <th>7530</th>\n",
       "      <td>HZww2</td>\n",
       "      <td>1.061194</td>\n",
       "      <td>-0.373969</td>\n",
       "      <td>10.430210</td>\n",
       "      <td>158.828695</td>\n",
       "    </tr>\n",
       "    <tr>\n",
       "      <th>63593</th>\n",
       "      <td>QcMuo</td>\n",
       "      <td>0.635635</td>\n",
       "      <td>-0.473422</td>\n",
       "      <td>0.862670</td>\n",
       "      <td>64.578675</td>\n",
       "    </tr>\n",
       "    <tr>\n",
       "      <th>1949</th>\n",
       "      <td>QcMuo</td>\n",
       "      <td>0.506563</td>\n",
       "      <td>-0.323775</td>\n",
       "      <td>-2.215583</td>\n",
       "      <td>75.496502</td>\n",
       "    </tr>\n",
       "    <tr>\n",
       "      <th>75715</th>\n",
       "      <td>Tdehs</td>\n",
       "      <td>0.112079</td>\n",
       "      <td>0.430296</td>\n",
       "      <td>3.218993</td>\n",
       "      <td>60.964018</td>\n",
       "    </tr>\n",
       "    <tr>\n",
       "      <th>21426</th>\n",
       "      <td>Tdehs</td>\n",
       "      <td>0.829407</td>\n",
       "      <td>0.298807</td>\n",
       "      <td>-0.049563</td>\n",
       "      <td>96.035308</td>\n",
       "    </tr>\n",
       "    <tr>\n",
       "      <th>92341</th>\n",
       "      <td>TtcGQ</td>\n",
       "      <td>0.110711</td>\n",
       "      <td>1.022689</td>\n",
       "      <td>0.911381</td>\n",
       "      <td>101.318008</td>\n",
       "    </tr>\n",
       "    <tr>\n",
       "      <th>60140</th>\n",
       "      <td>TtcGQ</td>\n",
       "      <td>0.569276</td>\n",
       "      <td>-0.104876</td>\n",
       "      <td>6.440215</td>\n",
       "      <td>85.350186</td>\n",
       "    </tr>\n",
       "    <tr>\n",
       "      <th>89582</th>\n",
       "      <td>bsk9y</td>\n",
       "      <td>0.398908</td>\n",
       "      <td>-0.400253</td>\n",
       "      <td>10.122376</td>\n",
       "      <td>163.433078</td>\n",
       "    </tr>\n",
       "    <tr>\n",
       "      <th>97785</th>\n",
       "      <td>bsk9y</td>\n",
       "      <td>0.378429</td>\n",
       "      <td>0.005837</td>\n",
       "      <td>0.160827</td>\n",
       "      <td>160.637302</td>\n",
       "    </tr>\n",
       "    <tr>\n",
       "      <th>41724</th>\n",
       "      <td>bxg6G</td>\n",
       "      <td>-0.823752</td>\n",
       "      <td>0.546319</td>\n",
       "      <td>3.630479</td>\n",
       "      <td>93.007798</td>\n",
       "    </tr>\n",
       "    <tr>\n",
       "      <th>1364</th>\n",
       "      <td>bxg6G</td>\n",
       "      <td>0.411645</td>\n",
       "      <td>0.856830</td>\n",
       "      <td>-3.653440</td>\n",
       "      <td>73.604260</td>\n",
       "    </tr>\n",
       "    <tr>\n",
       "      <th>16633</th>\n",
       "      <td>fiKDv</td>\n",
       "      <td>0.157341</td>\n",
       "      <td>1.028359</td>\n",
       "      <td>5.585586</td>\n",
       "      <td>95.817889</td>\n",
       "    </tr>\n",
       "    <tr>\n",
       "      <th>90815</th>\n",
       "      <td>fiKDv</td>\n",
       "      <td>0.049883</td>\n",
       "      <td>0.841313</td>\n",
       "      <td>6.394613</td>\n",
       "      <td>137.346586</td>\n",
       "    </tr>\n",
       "  </tbody>\n",
       "</table>\n",
       "</div>"
      ],
      "text/plain": [
       "          id        f0        f1         f2     product\n",
       "66136  74z30  1.084962 -0.312358   6.990771  127.643327\n",
       "64022  74z30  0.741456  0.459229   5.153109  140.771492\n",
       "51970  A5aEY -0.180335  0.935548  -2.094773   33.020205\n",
       "3389   A5aEY -0.039949  0.156872   0.209861   89.249364\n",
       "69163  AGS9W -0.933795  0.116194  -3.655896   19.230453\n",
       "42529  AGS9W  1.454747 -0.479651   0.683380  126.370504\n",
       "931    HZww2  0.755284  0.368511   1.863211   30.681774\n",
       "7530   HZww2  1.061194 -0.373969  10.430210  158.828695\n",
       "63593  QcMuo  0.635635 -0.473422   0.862670   64.578675\n",
       "1949   QcMuo  0.506563 -0.323775  -2.215583   75.496502\n",
       "75715  Tdehs  0.112079  0.430296   3.218993   60.964018\n",
       "21426  Tdehs  0.829407  0.298807  -0.049563   96.035308\n",
       "92341  TtcGQ  0.110711  1.022689   0.911381  101.318008\n",
       "60140  TtcGQ  0.569276 -0.104876   6.440215   85.350186\n",
       "89582  bsk9y  0.398908 -0.400253  10.122376  163.433078\n",
       "97785  bsk9y  0.378429  0.005837   0.160827  160.637302\n",
       "41724  bxg6G -0.823752  0.546319   3.630479   93.007798\n",
       "1364   bxg6G  0.411645  0.856830  -3.653440   73.604260\n",
       "16633  fiKDv  0.157341  1.028359   5.585586   95.817889\n",
       "90815  fiKDv  0.049883  0.841313   6.394613  137.346586"
      ]
     },
     "metadata": {},
     "output_type": "display_data"
    },
    {
     "data": {
      "text/html": [
       "<div>\n",
       "<style scoped>\n",
       "    .dataframe tbody tr th:only-of-type {\n",
       "        vertical-align: middle;\n",
       "    }\n",
       "\n",
       "    .dataframe tbody tr th {\n",
       "        vertical-align: top;\n",
       "    }\n",
       "\n",
       "    .dataframe thead th {\n",
       "        text-align: right;\n",
       "    }\n",
       "</style>\n",
       "<table border=\"1\" class=\"dataframe\">\n",
       "  <thead>\n",
       "    <tr style=\"text-align: right;\">\n",
       "      <th></th>\n",
       "      <th>id</th>\n",
       "      <th>f0</th>\n",
       "      <th>f1</th>\n",
       "      <th>f2</th>\n",
       "      <th>product</th>\n",
       "    </tr>\n",
       "  </thead>\n",
       "  <tbody>\n",
       "    <tr>\n",
       "      <th>5849</th>\n",
       "      <td>5ltQ6</td>\n",
       "      <td>-3.435401</td>\n",
       "      <td>-12.296043</td>\n",
       "      <td>1.999796</td>\n",
       "      <td>57.085625</td>\n",
       "    </tr>\n",
       "    <tr>\n",
       "      <th>84461</th>\n",
       "      <td>5ltQ6</td>\n",
       "      <td>18.213839</td>\n",
       "      <td>2.191999</td>\n",
       "      <td>3.993869</td>\n",
       "      <td>107.813044</td>\n",
       "    </tr>\n",
       "    <tr>\n",
       "      <th>1305</th>\n",
       "      <td>LHZR0</td>\n",
       "      <td>11.170835</td>\n",
       "      <td>-1.945066</td>\n",
       "      <td>3.002872</td>\n",
       "      <td>80.859783</td>\n",
       "    </tr>\n",
       "    <tr>\n",
       "      <th>41906</th>\n",
       "      <td>LHZR0</td>\n",
       "      <td>-8.989672</td>\n",
       "      <td>-4.286607</td>\n",
       "      <td>2.009139</td>\n",
       "      <td>57.085625</td>\n",
       "    </tr>\n",
       "    <tr>\n",
       "      <th>2721</th>\n",
       "      <td>bfPNe</td>\n",
       "      <td>-9.494442</td>\n",
       "      <td>-5.463692</td>\n",
       "      <td>4.006042</td>\n",
       "      <td>110.992147</td>\n",
       "    </tr>\n",
       "    <tr>\n",
       "      <th>82178</th>\n",
       "      <td>bfPNe</td>\n",
       "      <td>-6.202799</td>\n",
       "      <td>-4.820045</td>\n",
       "      <td>2.995107</td>\n",
       "      <td>84.038886</td>\n",
       "    </tr>\n",
       "    <tr>\n",
       "      <th>47591</th>\n",
       "      <td>wt4Uk</td>\n",
       "      <td>-9.091098</td>\n",
       "      <td>-8.109279</td>\n",
       "      <td>-0.002314</td>\n",
       "      <td>3.179103</td>\n",
       "    </tr>\n",
       "    <tr>\n",
       "      <th>82873</th>\n",
       "      <td>wt4Uk</td>\n",
       "      <td>10.259972</td>\n",
       "      <td>-9.376355</td>\n",
       "      <td>4.994297</td>\n",
       "      <td>134.766305</td>\n",
       "    </tr>\n",
       "  </tbody>\n",
       "</table>\n",
       "</div>"
      ],
      "text/plain": [
       "          id         f0         f1        f2     product\n",
       "5849   5ltQ6  -3.435401 -12.296043  1.999796   57.085625\n",
       "84461  5ltQ6  18.213839   2.191999  3.993869  107.813044\n",
       "1305   LHZR0  11.170835  -1.945066  3.002872   80.859783\n",
       "41906  LHZR0  -8.989672  -4.286607  2.009139   57.085625\n",
       "2721   bfPNe  -9.494442  -5.463692  4.006042  110.992147\n",
       "82178  bfPNe  -6.202799  -4.820045  2.995107   84.038886\n",
       "47591  wt4Uk  -9.091098  -8.109279 -0.002314    3.179103\n",
       "82873  wt4Uk  10.259972  -9.376355  4.994297  134.766305"
      ]
     },
     "metadata": {},
     "output_type": "display_data"
    },
    {
     "data": {
      "text/html": [
       "<div>\n",
       "<style scoped>\n",
       "    .dataframe tbody tr th:only-of-type {\n",
       "        vertical-align: middle;\n",
       "    }\n",
       "\n",
       "    .dataframe tbody tr th {\n",
       "        vertical-align: top;\n",
       "    }\n",
       "\n",
       "    .dataframe thead th {\n",
       "        text-align: right;\n",
       "    }\n",
       "</style>\n",
       "<table border=\"1\" class=\"dataframe\">\n",
       "  <thead>\n",
       "    <tr style=\"text-align: right;\">\n",
       "      <th></th>\n",
       "      <th>id</th>\n",
       "      <th>f0</th>\n",
       "      <th>f1</th>\n",
       "      <th>f2</th>\n",
       "      <th>product</th>\n",
       "    </tr>\n",
       "  </thead>\n",
       "  <tbody>\n",
       "    <tr>\n",
       "      <th>45404</th>\n",
       "      <td>KUPhW</td>\n",
       "      <td>0.231846</td>\n",
       "      <td>-1.698941</td>\n",
       "      <td>4.990775</td>\n",
       "      <td>11.716299</td>\n",
       "    </tr>\n",
       "    <tr>\n",
       "      <th>55967</th>\n",
       "      <td>KUPhW</td>\n",
       "      <td>1.211150</td>\n",
       "      <td>3.176408</td>\n",
       "      <td>5.543540</td>\n",
       "      <td>132.831802</td>\n",
       "    </tr>\n",
       "    <tr>\n",
       "      <th>11449</th>\n",
       "      <td>VF7Jo</td>\n",
       "      <td>2.122656</td>\n",
       "      <td>-0.858275</td>\n",
       "      <td>5.746001</td>\n",
       "      <td>181.716817</td>\n",
       "    </tr>\n",
       "    <tr>\n",
       "      <th>49564</th>\n",
       "      <td>VF7Jo</td>\n",
       "      <td>-0.883115</td>\n",
       "      <td>0.560537</td>\n",
       "      <td>0.723601</td>\n",
       "      <td>136.233420</td>\n",
       "    </tr>\n",
       "    <tr>\n",
       "      <th>44378</th>\n",
       "      <td>Vcm5J</td>\n",
       "      <td>-1.229484</td>\n",
       "      <td>-2.439204</td>\n",
       "      <td>1.222909</td>\n",
       "      <td>137.968290</td>\n",
       "    </tr>\n",
       "    <tr>\n",
       "      <th>95090</th>\n",
       "      <td>Vcm5J</td>\n",
       "      <td>2.587702</td>\n",
       "      <td>1.986875</td>\n",
       "      <td>2.482245</td>\n",
       "      <td>92.327572</td>\n",
       "    </tr>\n",
       "    <tr>\n",
       "      <th>28039</th>\n",
       "      <td>xCHr8</td>\n",
       "      <td>1.633027</td>\n",
       "      <td>0.368135</td>\n",
       "      <td>-2.378367</td>\n",
       "      <td>6.120525</td>\n",
       "    </tr>\n",
       "    <tr>\n",
       "      <th>43233</th>\n",
       "      <td>xCHr8</td>\n",
       "      <td>-0.847066</td>\n",
       "      <td>2.101796</td>\n",
       "      <td>5.597130</td>\n",
       "      <td>184.388641</td>\n",
       "    </tr>\n",
       "  </tbody>\n",
       "</table>\n",
       "</div>"
      ],
      "text/plain": [
       "          id        f0        f1        f2     product\n",
       "45404  KUPhW  0.231846 -1.698941  4.990775   11.716299\n",
       "55967  KUPhW  1.211150  3.176408  5.543540  132.831802\n",
       "11449  VF7Jo  2.122656 -0.858275  5.746001  181.716817\n",
       "49564  VF7Jo -0.883115  0.560537  0.723601  136.233420\n",
       "44378  Vcm5J -1.229484 -2.439204  1.222909  137.968290\n",
       "95090  Vcm5J  2.587702  1.986875  2.482245   92.327572\n",
       "28039  xCHr8  1.633027  0.368135 -2.378367    6.120525\n",
       "43233  xCHr8 -0.847066  2.101796  5.597130  184.388641"
      ]
     },
     "metadata": {},
     "output_type": "display_data"
    }
   ],
   "source": [
    "# проверка id скважин на дубликаты и вывод дубликатов id по региону 1\n",
    "id_dupl = geo_1[geo_1['id'].duplicated()]['id'].values\n",
    "display(geo_1.query('id in @id_dupl').sort_values(by='id'))\n",
    "\n",
    "# проверка id скважин на дубликаты и вывод дубликатов id по региону 2\n",
    "id_dupl = geo_2[geo_2['id'].duplicated()]['id'].values\n",
    "display(geo_2.query('id in @id_dupl').sort_values(by='id'))\n",
    "\n",
    "# проверка id скважин на дубликаты и вывод дубликатов id по региону 3\n",
    "id_dupl = geo_3[geo_3['id'].duplicated()]['id'].values\n",
    "display(geo_3.query('id in @id_dupl').sort_values(by='id'))"
   ]
  },
  {
   "cell_type": "markdown",
   "metadata": {},
   "source": [
    "*По условию задачи все скважины уникальны, но тем не менее имеются 10 пар скважин с одним ID в регионе 1, и по 4 пары скважин с одним ID в регионах 2 и 3. Поскольку значения признаков явно свидетельствуют о том, что речь идёт о разных скважинах, то есть веские основания полагать, что скважины с одним и тем же ID всё-таки разные и произошёл технический сбой в наименовании.*\n",
    "\n",
    "*Оставим все данные как есть, тем более, что ID скважины несёт справочную информацию и не будет являться признаком для последующего построения модели.*"
   ]
  },
  {
   "cell_type": "code",
   "execution_count": 8,
   "metadata": {},
   "outputs": [
    {
     "data": {
      "text/html": [
       "<div>\n",
       "<style scoped>\n",
       "    .dataframe tbody tr th:only-of-type {\n",
       "        vertical-align: middle;\n",
       "    }\n",
       "\n",
       "    .dataframe tbody tr th {\n",
       "        vertical-align: top;\n",
       "    }\n",
       "\n",
       "    .dataframe thead th {\n",
       "        text-align: right;\n",
       "    }\n",
       "</style>\n",
       "<table border=\"1\" class=\"dataframe\">\n",
       "  <thead>\n",
       "    <tr style=\"text-align: right;\">\n",
       "      <th></th>\n",
       "      <th>f0</th>\n",
       "      <th>f1</th>\n",
       "      <th>f2</th>\n",
       "      <th>product</th>\n",
       "    </tr>\n",
       "  </thead>\n",
       "  <tbody>\n",
       "    <tr>\n",
       "      <th>f0</th>\n",
       "      <td>1.000000</td>\n",
       "      <td>-0.440723</td>\n",
       "      <td>-0.003153</td>\n",
       "      <td>0.143536</td>\n",
       "    </tr>\n",
       "    <tr>\n",
       "      <th>f1</th>\n",
       "      <td>-0.440723</td>\n",
       "      <td>1.000000</td>\n",
       "      <td>0.001724</td>\n",
       "      <td>-0.192356</td>\n",
       "    </tr>\n",
       "    <tr>\n",
       "      <th>f2</th>\n",
       "      <td>-0.003153</td>\n",
       "      <td>0.001724</td>\n",
       "      <td>1.000000</td>\n",
       "      <td>0.483663</td>\n",
       "    </tr>\n",
       "    <tr>\n",
       "      <th>product</th>\n",
       "      <td>0.143536</td>\n",
       "      <td>-0.192356</td>\n",
       "      <td>0.483663</td>\n",
       "      <td>1.000000</td>\n",
       "    </tr>\n",
       "  </tbody>\n",
       "</table>\n",
       "</div>"
      ],
      "text/plain": [
       "               f0        f1        f2   product\n",
       "f0       1.000000 -0.440723 -0.003153  0.143536\n",
       "f1      -0.440723  1.000000  0.001724 -0.192356\n",
       "f2      -0.003153  0.001724  1.000000  0.483663\n",
       "product  0.143536 -0.192356  0.483663  1.000000"
      ]
     },
     "metadata": {},
     "output_type": "display_data"
    },
    {
     "data": {
      "text/html": [
       "<div>\n",
       "<style scoped>\n",
       "    .dataframe tbody tr th:only-of-type {\n",
       "        vertical-align: middle;\n",
       "    }\n",
       "\n",
       "    .dataframe tbody tr th {\n",
       "        vertical-align: top;\n",
       "    }\n",
       "\n",
       "    .dataframe thead th {\n",
       "        text-align: right;\n",
       "    }\n",
       "</style>\n",
       "<table border=\"1\" class=\"dataframe\">\n",
       "  <thead>\n",
       "    <tr style=\"text-align: right;\">\n",
       "      <th></th>\n",
       "      <th>f0</th>\n",
       "      <th>f1</th>\n",
       "      <th>f2</th>\n",
       "      <th>product</th>\n",
       "    </tr>\n",
       "  </thead>\n",
       "  <tbody>\n",
       "    <tr>\n",
       "      <th>f0</th>\n",
       "      <td>1.000000</td>\n",
       "      <td>0.182287</td>\n",
       "      <td>-0.001777</td>\n",
       "      <td>-0.030491</td>\n",
       "    </tr>\n",
       "    <tr>\n",
       "      <th>f1</th>\n",
       "      <td>0.182287</td>\n",
       "      <td>1.000000</td>\n",
       "      <td>-0.002595</td>\n",
       "      <td>-0.010155</td>\n",
       "    </tr>\n",
       "    <tr>\n",
       "      <th>f2</th>\n",
       "      <td>-0.001777</td>\n",
       "      <td>-0.002595</td>\n",
       "      <td>1.000000</td>\n",
       "      <td>0.999397</td>\n",
       "    </tr>\n",
       "    <tr>\n",
       "      <th>product</th>\n",
       "      <td>-0.030491</td>\n",
       "      <td>-0.010155</td>\n",
       "      <td>0.999397</td>\n",
       "      <td>1.000000</td>\n",
       "    </tr>\n",
       "  </tbody>\n",
       "</table>\n",
       "</div>"
      ],
      "text/plain": [
       "               f0        f1        f2   product\n",
       "f0       1.000000  0.182287 -0.001777 -0.030491\n",
       "f1       0.182287  1.000000 -0.002595 -0.010155\n",
       "f2      -0.001777 -0.002595  1.000000  0.999397\n",
       "product -0.030491 -0.010155  0.999397  1.000000"
      ]
     },
     "metadata": {},
     "output_type": "display_data"
    },
    {
     "data": {
      "text/html": [
       "<div>\n",
       "<style scoped>\n",
       "    .dataframe tbody tr th:only-of-type {\n",
       "        vertical-align: middle;\n",
       "    }\n",
       "\n",
       "    .dataframe tbody tr th {\n",
       "        vertical-align: top;\n",
       "    }\n",
       "\n",
       "    .dataframe thead th {\n",
       "        text-align: right;\n",
       "    }\n",
       "</style>\n",
       "<table border=\"1\" class=\"dataframe\">\n",
       "  <thead>\n",
       "    <tr style=\"text-align: right;\">\n",
       "      <th></th>\n",
       "      <th>f0</th>\n",
       "      <th>f1</th>\n",
       "      <th>f2</th>\n",
       "      <th>product</th>\n",
       "    </tr>\n",
       "  </thead>\n",
       "  <tbody>\n",
       "    <tr>\n",
       "      <th>f0</th>\n",
       "      <td>1.000000</td>\n",
       "      <td>0.000528</td>\n",
       "      <td>-0.000448</td>\n",
       "      <td>-0.001987</td>\n",
       "    </tr>\n",
       "    <tr>\n",
       "      <th>f1</th>\n",
       "      <td>0.000528</td>\n",
       "      <td>1.000000</td>\n",
       "      <td>0.000779</td>\n",
       "      <td>-0.001012</td>\n",
       "    </tr>\n",
       "    <tr>\n",
       "      <th>f2</th>\n",
       "      <td>-0.000448</td>\n",
       "      <td>0.000779</td>\n",
       "      <td>1.000000</td>\n",
       "      <td>0.445871</td>\n",
       "    </tr>\n",
       "    <tr>\n",
       "      <th>product</th>\n",
       "      <td>-0.001987</td>\n",
       "      <td>-0.001012</td>\n",
       "      <td>0.445871</td>\n",
       "      <td>1.000000</td>\n",
       "    </tr>\n",
       "  </tbody>\n",
       "</table>\n",
       "</div>"
      ],
      "text/plain": [
       "               f0        f1        f2   product\n",
       "f0       1.000000  0.000528 -0.000448 -0.001987\n",
       "f1       0.000528  1.000000  0.000779 -0.001012\n",
       "f2      -0.000448  0.000779  1.000000  0.445871\n",
       "product -0.001987 -0.001012  0.445871  1.000000"
      ]
     },
     "metadata": {},
     "output_type": "display_data"
    }
   ],
   "source": [
    "# матрицы корреляции данных для проверки на мультиколлинеарность, утечку данных\n",
    "display(geo_1.corr())\n",
    "display(geo_2.corr())\n",
    "display(geo_3.corr())"
   ]
  },
  {
   "cell_type": "markdown",
   "metadata": {},
   "source": [
    "*Во 2-м регионе признак \"f2\" очень сильно коррелирует с запасами, то есть признак коррелирует с целевым признаком. Поскольку нам неясно, насколько значим этот конкретный признак (вероятно, что значим ввиду малого числа признаков), то имеет смысл включить этот признак в список features для модели линейной регрессии по региону 2.*"
   ]
  },
  {
   "cell_type": "markdown",
   "metadata": {},
   "source": [
    "### Вывод к первому разделу <a name=\"subparagraph1\"></a>\n",
    "\n",
    "*В данных нефтяной компании собрана информация о пробах нефти из 3-х разных регионов. В каждом регионе отобрано 100 тысяч перспективных нефтяных месторождений с информацией о трёх признаках качества нефти и объёме её запасов.* \n",
    "\n",
    "*Данные полные, без пропусков. Значения признаков качества нефти выглядят отмасштабированными, дальнейшая предобработка не требуется. Полных дубликатов строк нет, но есть несколько \"задвоившихся\" уникальных ID скважин, что, вероятно, техническая ошибка. Объёмы запсов нефти регионов 1 и 3 распределены нормально, в регионе 2 - скважины либо с малым объёмом запасов, либо с большим. Аномальных данных типа выбросов не наблюдается. Проверка на мультиколлинеарность показала в регионе 2 большую зависимость одного из признаков от объёма запасов. Ввиду большой вероятности значимости этого признака для определения объёма запасов можно включить этот признак в модель линейной регресии.* \n",
    "\n",
    "*На основании этих данных построим модель предсказания объёмов запасов для каждого региона.*"
   ]
  },
  {
   "cell_type": "markdown",
   "metadata": {},
   "source": [
    "<font color='steelblue'><b>Комментарий ревьюера: </b></font> ✔️ <br>\n",
    "<font color='green'>\n",
    "Отличный анализ! С id действительно есть своего рода противоречие — не все строки с одинаковым id дубликаты. Хорошие полные выводы.\n",
    "</font>"
   ]
  },
  {
   "cell_type": "markdown",
   "metadata": {},
   "source": [
    "<font color='steelblue'><b>Комментарий ревьюера: </b></font> ⚠️ <br>\n",
    "<font color='darkorange'>\n",
    "Также хочу напомнить тебе, что по условиям задачи мы ограничены использованием только линейных моделей, а значит, может иметь место быть проблема [мультиколлинеарности](http://www.machinelearning.ru/wiki/index.php?title=Мультиколлинеарность). Хорошо бы было проверить это перед дальнейшими действиями.\n",
    "    \n",
    "update. Вижу проверку далее по работе, отлично! Но все же мультиколлинеарность влияет на сами линейные модели, так что лучше проверять это до обучения.\n",
    "</font>\n"
   ]
  },
  {
   "cell_type": "markdown",
   "metadata": {},
   "source": [
    "<div class=\"alert alert-info\"> <b>Комментарий студента:</b> Добрый день, Михаил! Благодарю за проверку проекта и содержательные комментарии. По комментарию выше: перенёс проверку на мультиколлинеарность путём вычисления коэффициента корреляции в конец первого раздела.\n",
    "    \n",
    "   Я так понимаю, из статей про мультиколлинеарность, что при сильной зависимости между фичами на линейных моделях лишние признаки надо убрать, а при зависимости фича-таргет смотреть, может ли быть даталик, насколько значим признак для определения таргета, и исходя из этого, принимать решение .</div>"
   ]
  },
  {
   "cell_type": "markdown",
   "metadata": {},
   "source": [
    "<font color='steelblue'><b>Комментарий ревьюера v2: </b></font> ✔️ <br>\n",
    "<font color='green'>\n",
    "Абсолютно верно! При сильной корреляции между фичами для линейных моделей следует удалять одну из них или делать новую фичу взамен этих двух комбинируя их.\n",
    "    \n",
    "Согласен с выводом про фича-таргет.\n",
    "</font> "
   ]
  },
  {
   "cell_type": "markdown",
   "metadata": {},
   "source": [
    "## Обучение и проверка модели<a name=\"paragraph2\"></a>"
   ]
  },
  {
   "cell_type": "code",
   "execution_count": 9,
   "metadata": {},
   "outputs": [],
   "source": [
    "# функция обучения и проверки модели предсказания запасов нефти для каждого региона\n",
    "\n",
    "def region_metrics(geo):\n",
    "    \"\"\"\n",
    "    Строит модель предсказания запасов нефти по признакам её качества и выводит: \n",
    "    - валидационную выборку целевого признака\n",
    "    - предсказания модели\n",
    "    - средний запас предсказанного сырья\n",
    "    - RMSE модели\n",
    "    - RMSE от среднего исходных данных целевого признака\n",
    "    \"\"\"\n",
    "    # делим данные на признаки и целевой признак\n",
    "    features = geo[['f0', 'f1', 'f2']]\n",
    "    target = geo['product']\n",
    "\n",
    "    #разбиение данных на обучающую и валидационную выборку \n",
    "    features_train, features_valid, target_train, target_valid = train_test_split(\n",
    "    features, target, test_size=0.25, random_state=12345)\n",
    "    \n",
    "    # применим масштабирование StandardScaler к признакам\n",
    "    scaler = StandardScaler()\n",
    "    scaler.fit(features_train)\n",
    "    features_train = scaler.transform(features_train)\n",
    "    features_valid = scaler.transform(features_valid)\n",
    "    \n",
    "    # инициализация, обучение и предсказание модели \n",
    "    model = LinearRegression()\n",
    "    model.fit(features_train, target_train)\n",
    "    predicted_valid = model.predict(features_valid)\n",
    "    rmse = mean_squared_error(target_valid, predicted_valid) ** 0.5\n",
    "\n",
    "    # средний предсказанный объём запасов\n",
    "    predicted_product_avg = predicted_valid.mean()\n",
    "\n",
    "    # подсчёт RMSE по усреднённым запасам обучающей выборки\n",
    "    predicted_valid_avg = pd.Series(target_train.mean(), index=target_valid.index)\n",
    "    rmse_avg = mean_squared_error(target_valid, predicted_valid_avg) ** 0.5\n",
    "    \n",
    "    return target_valid, predicted_valid, predicted_product_avg, rmse, rmse_avg"
   ]
  },
  {
   "cell_type": "markdown",
   "metadata": {},
   "source": [
    "<font color='steelblue'><b>Комментарий ревьюера: </b></font> ❌ <br>\n",
    "<font color='darkorange'>\n",
    "Напоминаю тебе, что при использовании линейных моделей действительно важно масштабировать признаки. \n",
    "\n",
    "Приведение значений признаков к одному диапазону ускорит схождение весов при использовании градиентного спуска. Также признаки с наибольшими абсолютными значениями будут вынуждать модель использовать большие, нестабильные коэф-ты. Подробнее можешь прочесть [тут](https://itchef.ru/articles/42114/)\n",
    "    \n",
    "\n",
    "</font>"
   ]
  },
  {
   "cell_type": "markdown",
   "metadata": {},
   "source": [
    "<div class=\"alert alert-info\"> <b>Комментарий студента:</b> Добавил масштабирование признаков в функцию выше.\n",
    "    \n",
    "   Я держал в уме необходимость масштабирования, данные признаков изначально выглядели как уже отмасштабированные. Но у меня не отложилось, что у стандартизированных данных mean=0, std=1 (у нормализованных min=0, max=1). В твоей ссылке на этом чётко акцентируется. Можно было б мне раньше заметить по методу describe(). \n",
    "    \n",
    "Касаемо конкретно этих данных, стандартизация никак не повлияла на последующие результаты (я проверил, что все features действительно сжались до mean=0, std=1), то есть, скорее всего, изначально каким-то другим методом сжали данные. Ещё немного откровением стало из статьи, что для древовидных моделей масштабирование бесполезно, как я понял .</div>"
   ]
  },
  {
   "cell_type": "markdown",
   "metadata": {},
   "source": [
    "<font color='steelblue'><b>Комментарий ревьюера v2: </b></font> ✔️ <br>\n",
    "<font color='green'>\n",
    "Да, для деревянных действительно масштабирование бесполезно.\n",
    "    \n",
    "В нашем случае оно тоже не сыграло роли, но этап важный для линейных моделей и моделей, использующих меру расстояний между признаками, так что лучше не пропускать его \n",
    "</font> "
   ]
  },
  {
   "cell_type": "code",
   "execution_count": 10,
   "metadata": {},
   "outputs": [
    {
     "name": "stdout",
     "output_type": "stream",
     "text": [
      "Cредний предсказанный объём запасов по 1-му региону: 92.59256778438035\n",
      "RMSE по 1-му региону: 37.5794217150813\n",
      "RMSE от среднего объема по 1-му региону: 44.289591053907365\n"
     ]
    }
   ],
   "source": [
    "# выборка, предсказания, средние предсказанные запасы и RMSE по 1-му региону\n",
    "target_1_valid, predicted_1_valid, predicted_product_1_avg, rmse_1, rmse_1_avg = region_metrics(geo_1)\n",
    "\n",
    "# средние предсказанные объемы запасов и RMSE по 1-му региону\n",
    "print(\"Cредний предсказанный объём запасов по 1-му региону:\", predicted_product_1_avg)\n",
    "print(\"RMSE по 1-му региону:\", rmse_1)\n",
    "print(\"RMSE от среднего объема по 1-му региону:\", rmse_1_avg)"
   ]
  },
  {
   "cell_type": "code",
   "execution_count": 11,
   "metadata": {},
   "outputs": [
    {
     "name": "stdout",
     "output_type": "stream",
     "text": [
      "Cредний предсказанный объём запасов по 2-му региону: 68.728546895446\n",
      "RMSE по 2-му региону: 0.8930992867756153\n",
      "RMSE от среднего объема по 2-му региону: 46.02144533725462\n"
     ]
    }
   ],
   "source": [
    "# выборка, предсказания, средние предсказанные запасы и RMSE по 2-му региону\n",
    "target_2_valid, predicted_2_valid, predicted_product_2_avg, rmse_2, rmse_2_avg = region_metrics(geo_2)\n",
    "\n",
    "# средние предсказанные объемы запасов и RMSE по 2-му региону\n",
    "print(\"Cредний предсказанный объём запасов по 2-му региону:\", predicted_product_2_avg)\n",
    "print(\"RMSE по 2-му региону:\", rmse_2)\n",
    "print(\"RMSE от среднего объема по 2-му региону:\", rmse_2_avg)"
   ]
  },
  {
   "cell_type": "code",
   "execution_count": 12,
   "metadata": {},
   "outputs": [
    {
     "name": "stdout",
     "output_type": "stream",
     "text": [
      "Cредний предсказанный объём запасов по 3-му региону: 94.96504596800489\n",
      "RMSE по 3-му региону: 40.02970873393434\n",
      "RMSE от среднего объема по 3-му региону: 44.90234968510566\n"
     ]
    }
   ],
   "source": [
    "# выборка, предсказания, средние предсказанные запасы и RMSE по 3-му региону\n",
    "target_3_valid, predicted_3_valid, predicted_product_3_avg, rmse_3, rmse_3_avg = region_metrics(geo_3)\n",
    "\n",
    "# средние предсказанные объемы запасов и RMSE по 3-му региону\n",
    "print(\"Cредний предсказанный объём запасов по 3-му региону:\", predicted_product_3_avg)\n",
    "print(\"RMSE по 3-му региону:\", rmse_3)\n",
    "print(\"RMSE от среднего объема по 3-му региону:\", rmse_3_avg)"
   ]
  },
  {
   "cell_type": "markdown",
   "metadata": {},
   "source": [
    "*Средний предсказанный объём запасов по 1-му региону - 93 тыс.баррелей, по 2-му - 69 тыс.баррелей, по 3-му - 95 тыс.баррелей, что примерно соответствует типичному фактическому распределению запасов в 1-м и 3-м регионах. По 2-му региону из-за специфики большого количества скважин с малыми и большими запасами среднее предсказание примерно на уровне фактического среднего типичного малого и типичного большого значения запасов.*\n",
    "\n",
    "*Показатель RMSE по 1-му и 3-му регионам немного ниже, чем RMSE от среднего объёма запасов, что говорит о том,что создание модели имеет смысл. RMSE по 2-му региону меньше 1, то есть отклонение модели от факта очень маленькое, модель практически идеальна из-за того, что один из признаков очень сильно коррелирует с запасами и, скорее всего, этот признак значим для определения запасов.*"
   ]
  },
  {
   "cell_type": "markdown",
   "metadata": {},
   "source": [
    "<font color='steelblue'><b>Комментарий ревьюера: </b></font> ✔️ <br>\n",
    "<font color='green'>\n",
    "Отлично! Со всем согласен.\n",
    "</font> "
   ]
  },
  {
   "cell_type": "code",
   "execution_count": 13,
   "metadata": {},
   "outputs": [
    {
     "data": {
      "text/html": [
       "<div>\n",
       "<style scoped>\n",
       "    .dataframe tbody tr th:only-of-type {\n",
       "        vertical-align: middle;\n",
       "    }\n",
       "\n",
       "    .dataframe tbody tr th {\n",
       "        vertical-align: top;\n",
       "    }\n",
       "\n",
       "    .dataframe thead th {\n",
       "        text-align: right;\n",
       "    }\n",
       "</style>\n",
       "<table border=\"1\" class=\"dataframe\">\n",
       "  <thead>\n",
       "    <tr style=\"text-align: right;\">\n",
       "      <th></th>\n",
       "      <th>region</th>\n",
       "      <th>stock_predicted</th>\n",
       "      <th>RMSE</th>\n",
       "      <th>RMSE_av</th>\n",
       "    </tr>\n",
       "  </thead>\n",
       "  <tbody>\n",
       "    <tr>\n",
       "      <th>0</th>\n",
       "      <td>1</td>\n",
       "      <td>92.592568</td>\n",
       "      <td>37.579422</td>\n",
       "      <td>44.289591</td>\n",
       "    </tr>\n",
       "    <tr>\n",
       "      <th>1</th>\n",
       "      <td>2</td>\n",
       "      <td>68.728547</td>\n",
       "      <td>0.893099</td>\n",
       "      <td>46.021445</td>\n",
       "    </tr>\n",
       "    <tr>\n",
       "      <th>2</th>\n",
       "      <td>3</td>\n",
       "      <td>94.965046</td>\n",
       "      <td>40.029709</td>\n",
       "      <td>44.902350</td>\n",
       "    </tr>\n",
       "  </tbody>\n",
       "</table>\n",
       "</div>"
      ],
      "text/plain": [
       "   region  stock_predicted       RMSE    RMSE_av\n",
       "0       1        92.592568  37.579422  44.289591\n",
       "1       2        68.728547   0.893099  46.021445\n",
       "2       3        94.965046  40.029709  44.902350"
      ]
     },
     "execution_count": 13,
     "metadata": {},
     "output_type": "execute_result"
    }
   ],
   "source": [
    "# сведём данные по запасам предсказанного сырья и RMSE в таблицу\n",
    "\n",
    "df_regions = pd.DataFrame(columns = ['region', 'stock_predicted', 'RMSE', 'RMSE_av'])\n",
    "df_regions.loc[0] = [1, predicted_product_1_avg, rmse_1, rmse_1_avg]\n",
    "df_regions.loc[1] = [2, predicted_product_2_avg, rmse_2, rmse_2_avg]\n",
    "df_regions.loc[2] = [3, predicted_product_3_avg, rmse_3, rmse_3_avg]\n",
    "df_regions['region'] = df_regions['region'].astype(int)\n",
    "df_regions"
   ]
  },
  {
   "cell_type": "code",
   "execution_count": 14,
   "metadata": {},
   "outputs": [
    {
     "data": {
      "image/png": "[encoded data removed]",
      "text/plain": [
       "<Figure size 432x288 with 1 Axes>"
      ]
     },
     "metadata": {
      "needs_background": "light"
     },
     "output_type": "display_data"
    }
   ],
   "source": [
    "# диаграмма среднего предсказанного объёма запасов\n",
    "\n",
    "df_regions.set_index('region')['stock_predicted'].plot(kind='bar', rot=0,\n",
    "                                                      title='Средний предсказанный объём запасов по регионам')\n",
    "plt.ylabel('запасы нефти, тыс.барр.')\n",
    "plt.xlabel('регионы');"
   ]
  },
  {
   "cell_type": "code",
   "execution_count": 15,
   "metadata": {
    "scrolled": true
   },
   "outputs": [
    {
     "data": {
      "image/png": "[encoded data removed]",
      "text/plain": [
       "<Figure size 720x432 with 1 Axes>"
      ]
     },
     "metadata": {
      "needs_background": "light"
     },
     "output_type": "display_data"
    }
   ],
   "source": [
    "# диаграммы RMSE в сравнении с RMSE среднего значения\n",
    "\n",
    "df_regions.set_index('region')[['RMSE', 'RMSE_av']].plot(kind='bar', rot=0, figsize=(10,6),\n",
    "                                                        title='RMSE vs. RMSE среднего по регионам')\n",
    "plt.ylabel('запасы нефти, тыс.барр.')\n",
    "plt.xlabel('регионы');"
   ]
  },
  {
   "cell_type": "markdown",
   "metadata": {},
   "source": [
    "### Вывод ко второму разделу <a name=\"subparagraph2\"></a>\n",
    "\n",
    "*Для каждого региона обучена и проверена по метрике RMSE (квадратный корень из средней квадратической ошибки) модель линейной регрессии по предсказанию запасов сырья в скважинах. Исходные данные разбиты на обучающую и валидационную выборки в соотношении 75/25. Средние запсы предсказанного сырья на валидационной выборке получились следующими:*\n",
    "\n",
    "    -регион 1: 92.6 тыс. баррелей\n",
    "    -регион 2: 68.7 тыс. баррелей\n",
    "    -регион 3: 95.0 тыс. баррелей\n",
    "    \n",
    " *В регионе 2 меньше всего ожидаемый средний запас сырья, примерно на 40% меньше, чем в регионах 1 и 3. Данные по средним запасам предсказанного сырья потребуются далее для расчёта прибыльности разработок.*\n",
    " \n",
    "*Данные метрики RMSE на валидационной выборке (отклонения от верных значений) получились следующими:*\n",
    "\n",
    "    -регион 1: 37.6 тыс. баррелей\n",
    "    -регион 2: 0.9 тыс. баррелей\n",
    "    -регион 3: 40 тыс. баррелей\n",
    "    \n",
    "*Отклонения от верных значений по регионам 1 и 3 меньше, чем если бы всегда предсказывали среднее значение запасов из обучающей выборки. То есть модель адекватна, имеет смысл её использовать. Отклонения по региону 2 минимальные в связи с большой зависимостью одного из признаков от запасов.*"
   ]
  },
  {
   "cell_type": "markdown",
   "metadata": {},
   "source": [
    "<font color='steelblue'><b>Комментарий ревьюера: </b></font> ✔️ <br>\n",
    "<font color='green'>\n",
    "Хорошее заключение, дополнительно проведена проверка модели на адекватность 👍\n",
    "</font> "
   ]
  },
  {
   "cell_type": "markdown",
   "metadata": {},
   "source": [
    "## Подготовка к расчёту прибыли<a name=\"paragraph3\"></a>"
   ]
  },
  {
   "cell_type": "code",
   "execution_count": 16,
   "metadata": {},
   "outputs": [],
   "source": [
    "# определение констант в переменные\n",
    "\n",
    "# число исследуемых скважин\n",
    "INV_POINTS = 500 \n",
    "\n",
    "# число выбираемых лучших скважин\n",
    "BEST_POINTS = 200\n",
    "\n",
    "# региональный бюджет на разработку скважин\n",
    "BUDGET = 1e10   \n",
    "\n",
    "# доход с каждой тысячи баррелей \n",
    "INCOME_TH_BARR = 450 * 1000     "
   ]
  },
  {
   "cell_type": "markdown",
   "metadata": {},
   "source": [
    "<font color='steelblue'><b>Комментарий ревьюера: </b></font> ⚠️ <br>\n",
    "<font color='darkorange'>\n",
    "Все хорошо, но хочу обратить внимание на названия констант - по PEP-8 название констант записываются в верхнем регистре ([подробнее](https://peps.python.org/pep-0008/#constants))."
   ]
  },
  {
   "cell_type": "markdown",
   "metadata": {},
   "source": [
    "<div class=\"alert alert-info\"> <b>Комментарий студента:</b> Спасибо, не знал об этом. Где-то видел переменные в верхнем регистре, но списал это на заморочки программиста) </div>"
   ]
  },
  {
   "cell_type": "markdown",
   "metadata": {},
   "source": [
    "<font color='steelblue'><b>Комментарий ревьюера v2: </b></font> ✔️ <br>\n",
    "<font color='green'>\n",
    "На самом деле это полезный навык и хорошо к нему привыкнуть. Такие условные правила позволяют всем писать в одном стиле и, следовательно, улучшают читаемость кода.\n",
    "</font> "
   ]
  },
  {
   "cell_type": "code",
   "execution_count": 17,
   "metadata": {},
   "outputs": [
    {
     "name": "stdout",
     "output_type": "stream",
     "text": [
      "Объём сырья для безубыточной разработки скважины, тыс.барр.: 111.1\n"
     ]
    }
   ],
   "source": [
    "# расходы на скважину\n",
    "budget_per_point = BUDGET / BEST_POINTS     \n",
    "\n",
    "# объём сырья для безубыточной разработки\n",
    "product_0 = budget_per_point / INCOME_TH_BARR   \n",
    "print('Объём сырья для безубыточной разработки скважины, тыс.барр.:', round(product_0, 1))"
   ]
  },
  {
   "cell_type": "code",
   "execution_count": 18,
   "metadata": {},
   "outputs": [
    {
     "name": "stdout",
     "output_type": "stream",
     "text": [
      "Средний запас сырья в 1-м регионе: 92.5\n",
      "Средний запас сырья во 2-м регионе: 68.8\n",
      "Средний запас сырья в 3-м регионе: 95.0\n"
     ]
    }
   ],
   "source": [
    "# средний запас сырья в каждом регионе\n",
    "product_1_avg = geo_1['product'].mean()\n",
    "product_2_avg = geo_2['product'].mean()\n",
    "product_3_avg = geo_3['product'].mean()\n",
    "\n",
    "print('Средний запас сырья в 1-м регионе:', round(product_1_avg, 1))\n",
    "print('Средний запас сырья во 2-м регионе:', round(product_2_avg, 1))\n",
    "print('Средний запас сырья в 3-м регионе:', round(product_3_avg, 1))"
   ]
  },
  {
   "cell_type": "code",
   "execution_count": 19,
   "metadata": {},
   "outputs": [
    {
     "data": {
      "image/png": "[encoded data removed]",
      "text/plain": [
       "<Figure size 720x432 with 1 Axes>"
      ]
     },
     "metadata": {
      "needs_background": "light"
     },
     "output_type": "display_data"
    }
   ],
   "source": [
    "# диаграмма сравнения безубыточного и среднего объёмов\n",
    "\n",
    "df_avg_product = pd.DataFrame(columns = ['регион', 'безубыточный объём', 'средний объём'])\n",
    "df_avg_product.loc[0] = [1, product_0, product_1_avg]\n",
    "df_avg_product.loc[1] = [2, product_0, product_2_avg]\n",
    "df_avg_product.loc[2] = [3, product_0, product_3_avg]\n",
    "df_avg_product['регион'] = df_avg_product['регион'].astype(int)\n",
    "\n",
    "df_avg_product.set_index('регион').plot(kind='bar', rot=0, figsize=(10,6),\n",
    "                                                        title='Безубыточный и средний объём запасов нефти по регионам')\n",
    "plt.ylabel('запасы нефти, тыс.барр.')\n",
    "plt.xlabel('регионы');"
   ]
  },
  {
   "cell_type": "code",
   "execution_count": 20,
   "metadata": {},
   "outputs": [
    {
     "name": "stdout",
     "output_type": "stream",
     "text": [
      "Число безубыточных скважин в 1-м регионе: 36583\n",
      "Число безубыточных скважин во 2-м регионе: 16537\n",
      "Число безубыточных скважин в 3-м регионе: 38178\n"
     ]
    }
   ],
   "source": [
    "# число безубыточных скважин в каждом регионе\n",
    "well_1_profit = geo_1.loc[geo_1['product'] > product_0, 'product'].count()\n",
    "well_2_profit = geo_2.loc[geo_2['product'] > product_0, 'product'].count()\n",
    "well_3_profit = geo_3.loc[geo_3['product'] > product_0, 'product'].count()\n",
    "\n",
    "print('Число безубыточных скважин в 1-м регионе:', well_1_profit)\n",
    "print('Число безубыточных скважин во 2-м регионе:', well_2_profit)\n",
    "print('Число безубыточных скважин в 3-м регионе:', well_3_profit)"
   ]
  },
  {
   "cell_type": "code",
   "execution_count": 21,
   "metadata": {},
   "outputs": [
    {
     "data": {
      "image/png": "[encoded data removed]",
      "text/plain": [
       "<Figure size 432x288 with 1 Axes>"
      ]
     },
     "metadata": {
      "needs_background": "light"
     },
     "output_type": "display_data"
    }
   ],
   "source": [
    "# диаграмма % безубыточных скважин по регионам\n",
    "\n",
    "df_avg_product['% безубыточных'] = [well_1_profit/len(geo_1['product'])*100, well_2_profit/len(geo_2['product'])*100,\n",
    "                                   well_3_profit/len(geo_3['product'])*100]\n",
    "\n",
    "df_avg_product.set_index('регион')['% безубыточных'].plot(kind='bar', rot=0,\n",
    "                                                      title='% безубыточных скважин по регионам')\n",
    "plt.ylabel('% скважин')\n",
    "plt.xlabel('регионы');"
   ]
  },
  {
   "cell_type": "markdown",
   "metadata": {},
   "source": [
    "### Вывод к третьему разделу <a name=\"subparagraph3\"></a>\n",
    "\n",
    "*На основе исходных данных-констант (числа выбираемых скважин, дохода с каждой тысячи баррелей и регионального бюджета на разработку скважин) рассчитан объём нефти, которую надо добыть из скважины, чтобы разработка оказалась безубыточной.*\n",
    "\n",
    "*Безубыточный объём запасов - 111.1 тыс.баррелей, что больше, чем средние запасы в каждом из регионов: по региону 1 - 92.5, региону 2 - 68.8, региону 3 - 95 тыс.баррелей соответственно.*\n",
    "\n",
    "*Очевидно, что есть риск выбора убыточных скважин для последующей разработки. В следующем разделе оценим степень этого риска при выборе нужного нам числа скважин.*\n",
    "\n",
    "*Кроме того, можно оценить процент безубыточных скважин от общего числа в генеральной совокупности скважин. Доля безубыточных скважин по регионам:*\n",
    "\n",
    "    - регион 1 - 36.6% скважин \n",
    "    - регион 2 - 16.5% скважин\n",
    "    - регион 3 - 38.2% скважин\n",
    "\n",
    "*Возможно, прибыль одних скважин перекроет убытки других. В следующем разделе выберем скважины и подсчитаем для них прибыль.*"
   ]
  },
  {
   "cell_type": "markdown",
   "metadata": {},
   "source": [
    "<font color='steelblue'><b>Комментарий ревьюера: </b></font> ✔️ <br>\n",
    "<font color='green'>\n",
    "Все верно. Средние значения говорят, что большинство скважин нам не подходит, поэтому мы и разрабатываем нашу модель — без нее наугад ничего не получится.\n",
    "</font>"
   ]
  },
  {
   "cell_type": "markdown",
   "metadata": {},
   "source": [
    "## Расчёт прибыли и рисков<a name=\"paragraph4\"></a> "
   ]
  },
  {
   "cell_type": "code",
   "execution_count": 22,
   "metadata": {},
   "outputs": [],
   "source": [
    "# функция расчёта прибыли по выбранным скважинам и предсказаниям\n",
    "\n",
    "def profit_region(target_valid, predicted_valid):\n",
    "    \"\"\"\n",
    "    Функция принимает объём запасов и предсказаний модели и выводит общую прибыль для лучших предсказаний \n",
    "    \"\"\"\n",
    "    # выбор 200 лучших предсказаний\n",
    "    best_predictions = pd.Series(predicted_valid).sort_values(ascending=False)[:BEST_POINTS]\n",
    "    \n",
    "    # удаление старой индексаци времён разделения на выборки\n",
    "    target_valid.reset_index(drop=True, inplace=True)\n",
    "    \n",
    "    # целевой объём сырья, соответствующий 200 лучшим предсказаниям\n",
    "    product_total = target_valid[best_predictions.index].sum()\n",
    "    \n",
    "    # расчёт общей прибыли\n",
    "    profit = product_total * INCOME_TH_BARR - BUDGET\n",
    "    \n",
    "    return profit"
   ]
  },
  {
   "cell_type": "code",
   "execution_count": 23,
   "metadata": {},
   "outputs": [
    {
     "name": "stdout",
     "output_type": "stream",
     "text": [
      "Прибыль для лучших скважин 1-го региона: 3320826043.1398506\n",
      "Прибыль для лучших скважин 2-го региона: 2415086696.681511\n",
      "Прибыль для лучших скважин 3-го региона: 2710349963.5998325\n"
     ]
    }
   ],
   "source": [
    "# расчёт прибыли для лучших 200 скважин по каждому региону\n",
    "profit_1 = profit_region(target_1_valid, predicted_1_valid)\n",
    "profit_2 = profit_region(target_2_valid, predicted_2_valid)\n",
    "profit_3 = profit_region(target_3_valid, predicted_3_valid)\n",
    "\n",
    "print('Прибыль для лучших скважин 1-го региона:', profit_1)\n",
    "print('Прибыль для лучших скважин 2-го региона:', profit_2)\n",
    "print('Прибыль для лучших скважин 3-го региона:', profit_3)"
   ]
  },
  {
   "cell_type": "markdown",
   "metadata": {},
   "source": [
    "*Мы рассчитали максимальную прибыль для лучших 200 скважин каждого региона, то есть прибыль при самом благоприятном раскладе выбора скважин (от 2.4 до 3.3 млрд.рублей). Посмотрим, какова будет средняя прибыль, если скважины будем отбирать случайным образом.*"
   ]
  },
  {
   "cell_type": "code",
   "execution_count": 24,
   "metadata": {
    "scrolled": true
   },
   "outputs": [],
   "source": [
    "# функция расчёта прибыли и рисков для каждого региона\n",
    "\n",
    "def profit_distr(target_valid, predicted_valid):\n",
    "    \"\"\"\n",
    "    Функция принимает объём запасов и предсказаний модели и выводит: \n",
    "    - 1000 возможных значений прибыли\n",
    "    - среднюю прибыль\n",
    "    - 95%-й доверительный интервал прибыли\n",
    "    - риск (вероятность) убытков\n",
    "    \"\"\"\n",
    "    \n",
    "    # найдём распределение прибыли из 1000 выборок по 500 точек разаработки\n",
    "    state = np.random.RandomState(12345)\n",
    "\n",
    "    profits = []\n",
    "    for _ in range(1000):\n",
    "    \n",
    "        # случайно выбираем 500 скважин и соответствующие им предсказания\n",
    "        target_subsample = target_valid.sample(n=INV_POINTS, replace=False, random_state=state)\n",
    "        predicted_subsample = predicted_valid[target_subsample.index]\n",
    "    \n",
    "        # заносим в список прибыль 200 лучших скважин из отобранных ранее 500\n",
    "        profits.append(profit_region(target_subsample, predicted_subsample))\n",
    "\n",
    "    profits = pd.Series(profits)\n",
    "    \n",
    "    # средняя прибыль по региону в млн.руб.\n",
    "    profits_mean = round(profits.mean() / 1e6, 1)\n",
    "    \n",
    "    # доверительный 95%-й интервал прибыли по региону в млн.руб\n",
    "    conf_int = [profits.quantile(q=0.025), profits.quantile(q=0.975)]\n",
    "    conf_int = [round(v/1e6, 1) for v in conf_int]\n",
    "    \n",
    "    # риск (вероятность) убытков\n",
    "    losses_prob = round(len(profits[profits < 0]) / len(profits) * 100, 1)\n",
    "    \n",
    "    return profits, profits_mean, conf_int, losses_prob"
   ]
  },
  {
   "cell_type": "code",
   "execution_count": 25,
   "metadata": {
    "scrolled": true
   },
   "outputs": [
    {
     "name": "stdout",
     "output_type": "stream",
     "text": [
      "Средняя прибыль для 1-го региона, млн.руб.: 380.7\n",
      "Доверительный 95%-й интервал прибыли для 1-го региона, млн.руб.: [-126.9, 879.6]\n",
      "Риск убытков для 1-го региона, %: 7.2\n"
     ]
    },
    {
     "data": {
      "image/png": "[encoded data removed]",
      "text/plain": [
       "<Figure size 432x288 with 1 Axes>"
      ]
     },
     "metadata": {
      "needs_background": "light"
     },
     "output_type": "display_data"
    }
   ],
   "source": [
    "# средняя прибыль, интервал и риск убытков для 1-го региона\n",
    "\n",
    "profits_1, profits_mean_1, conf_int_1, losses_prob_1 = profit_distr(target_1_valid, predicted_1_valid)\n",
    "print('Средняя прибыль для 1-го региона, млн.руб.:', profits_mean_1)\n",
    "print('Доверительный 95%-й интервал прибыли для 1-го региона, млн.руб.:', conf_int_1)\n",
    "print('Риск убытков для 1-го региона, %:', losses_prob_1)\n",
    "profits_1.plot(kind='hist', bins=10, title='Распределение прибыли для 1-го региона',);"
   ]
  },
  {
   "cell_type": "code",
   "execution_count": 26,
   "metadata": {},
   "outputs": [
    {
     "name": "stdout",
     "output_type": "stream",
     "text": [
      "Средняя прибыль для 2-го региона, млн.руб.: 448.2\n",
      "Доверительный 95%-й интервал прибыли для 2-го региона, млн.руб.: [70.9, 893.0]\n",
      "Риск убытков для 2-го региона, %: 1.4\n"
     ]
    },
    {
     "data": {
      "image/png": "[encoded data removed]",
      "text/plain": [
       "<Figure size 432x288 with 1 Axes>"
      ]
     },
     "metadata": {
      "needs_background": "light"
     },
     "output_type": "display_data"
    }
   ],
   "source": [
    "# средняя прибыль, интервал и риск убытков для 2-го региона\n",
    "\n",
    "profits_2, profits_mean_2, conf_int_2, losses_prob_2 = profit_distr(target_2_valid, predicted_2_valid)\n",
    "print('Средняя прибыль для 2-го региона, млн.руб.:', profits_mean_2)\n",
    "print('Доверительный 95%-й интервал прибыли для 2-го региона, млн.руб.:', conf_int_2)\n",
    "print('Риск убытков для 2-го региона, %:', losses_prob_2)\n",
    "profits_2.plot(kind='hist', bins=10, title='Распределение прибыли для 2-го региона',);"
   ]
  },
  {
   "cell_type": "code",
   "execution_count": 27,
   "metadata": {},
   "outputs": [
    {
     "name": "stdout",
     "output_type": "stream",
     "text": [
      "Средняя прибыль для 3-го региона, млн.руб.: 402.8\n",
      "Доверительный 95%-й интервал прибыли для 3-го региона, млн.руб.: [-143.7, 963.0]\n",
      "Риск убытков для 3-го региона, %: 7.1\n"
     ]
    },
    {
     "data": {
      "image/png": "[encoded data removed]",
      "text/plain": [
       "<Figure size 432x288 with 1 Axes>"
      ]
     },
     "metadata": {
      "needs_background": "light"
     },
     "output_type": "display_data"
    }
   ],
   "source": [
    "# средняя прибыль, интервал и риск убытков для 3-го региона\n",
    "\n",
    "profits_3, profits_mean_3, conf_int_3, losses_prob_3 = profit_distr(target_3_valid, predicted_3_valid)\n",
    "print('Средняя прибыль для 3-го региона, млн.руб.:', profits_mean_3)\n",
    "print('Доверительный 95%-й интервал прибыли для 3-го региона, млн.руб.:', conf_int_3)\n",
    "print('Риск убытков для 3-го региона, %:', losses_prob_3)\n",
    "profits_3.plot(kind='hist', bins=10, title='Распределение прибыли для 3-го региона',);"
   ]
  },
  {
   "cell_type": "markdown",
   "metadata": {},
   "source": [
    "### Вывод к четвертому разделу <a name=\"subparagraph4\"></a>\n",
    "\n",
    "*Исследовано 500 точек разработки добычи нефти по каждому региону. Из них с помощью техники Bootstrap отобрано случайным образом 1000 выборок из объёма добычи и предсказаний, чтобы уже по 200-м лучшим точкам рассчитать 1000 возможных значений общей прибыли. Распределние возможной прибыли по всем регионам нормальное, значения средней прибыли получены следующие:*\n",
    "\n",
    "    - регион 1 - 380.7 млн.руб.\n",
    "    - регион 2 - 448.2 млн.руб.\n",
    "    - регион 3 - 402.8 млн.руб.\n",
    "    \n",
    "*Наибольшая средняя прибыль у 2-го региона.*   \n",
    "\n",
    "    \n",
    "*95%-й доверительный интервал прибыли показывает, что с 95%-й вероятностью прибыль будет в следующем интервале:*\n",
    "\n",
    "    - регион 1 - [-126.9, 879.6] млн.руб.\n",
    "    - регион 2 - [70.9, 893.0] млн.руб.\n",
    "    - регион 3 - [-143.7, 963.0] млн.руб.\n",
    "\n",
    "*Только во 2-м регионе возможные убытки не будут входить в 95%-й доверительный интервал прибыли, в других регионах в этом интервале будут убыточные скважины.*\n",
    "\n",
    "\n",
    "*Риск (вероятность) убытков рассчитан как количество возможных убытков (отрицательных значений прибыли) к общему числу возможных значений прибыли. Риск убытков для регионов следующий:*\n",
    "\n",
    "    - регион 1 - 7.2% вероятность убытков.\n",
    "    - регион 2 - 1.4% вероятность убытков.\n",
    "    - регион 3 - 7.1% вероятность убытков.\n",
    "    \n",
    "*Наименьший риск убытков у 2-го региона.*\n",
    "    \n",
    "*Согласно изначальным условиям, выбрать нужно регионы с риском убытков менее 2.5%, среди них с наибольшей средней прибылью. Таким условиям в полной мере удовлетворяет регион 2, который и предлагается выбрать для разработки скважины.*\n",
    "\n",
    "\n",
    "\n"
   ]
  },
  {
   "cell_type": "markdown",
   "metadata": {},
   "source": [
    "<font color='steelblue'><b>Комментарий ревьюера: </b></font> ✔️ <br>\n",
    "<font color='green'>\n",
    "Отличная реализация функций, красивое оформление выводов. С результатами согласен!\n",
    "</font> "
   ]
  },
  {
   "cell_type": "markdown",
   "metadata": {},
   "source": [
    "## Общий вывод <a name=\"paragraph5\"></a>"
   ]
  },
  {
   "cell_type": "markdown",
   "metadata": {},
   "source": [
    "*Целью исследования являлся выбор региона из 3-х возможных для бурения новой скважины с расчётом того, что в данном регионе будет достигнута наибольшая прибыль от добычи нефти.  После взятия проб нефти определены три характеристики каждой скважины и были релизованы следующие задачи:*\n",
    "\n",
    " 1. **Загружены и подготовлены данные**\n",
    " \n",
    " \n",
    " 2. **Модель обучена и проверена**\n",
    " \n",
    " \n",
    " 3. **Произведена подготовка к расчёту прибыли**\n",
    " \n",
    "      \n",
    " 4. **Рассчитаны прибыль и риски**\n",
    " \n",
    " \n",
    " \n",
    " **Задача 1 \"Загрузка и подготовка данных\"** \n",
    "\n",
    "\n",
    "*В каждом из 3-х регионе отобрано 100 тысяч перспективных нефтяных месторождений с информацией о трёх признаках качества нефти и объёме её запасов.* \n",
    "\n",
    "*Данные полные, без пропусков. Значения признаков качества нефти выглядят отмасштабированными, дальнейшая предобработка не требуется. Полных дубликатов строк нет, есть дубликаты уникальных ID скважин, которые можно уточнить. Аномальных данных типа выбросов нет.* \n",
    "\n",
    "\n",
    " **Задача 2 \"Обучение и проверка модели\"** \n",
    " \n",
    " *Исходные данные разбиты на обучающую и валидационную выборки в соотношении 75/25. Для каждого региона обучена и проверена по метрике RMSE (квадратный корень из средней квадратической ошибки) модель линейной регрессии по предсказанию запасов сырья в скважинах. Данные метрики RMSE (отклонения от верных значений):*\n",
    "\n",
    "    -регион 1: 37.6 тыс. баррелей\n",
    "    -регион 2: 0.9 тыс. баррелей\n",
    "    -регион 3: 40 тыс. баррелей  \n",
    "\n",
    "*Самые минимальные отклонения по региону 2 в связи с большой зависимостью одного из признаков от запасов. \n",
    " \n",
    "*Средние запсы предсказанного сырья показали, что в регионе 2 меньше всего ожидаемый средний запас сырья (68.7 тыс. баррелей), примерно на 40% меньше, чем в регионах 1 и 3 (92.6 и 95 тыс. баррелей соответственно).*\n",
    "\n",
    "\n",
    "**Задача 3 \"Подготовка к расчёту прибыли\"**\n",
    "\n",
    "\n",
    "*Безубыточный объём нефти, которую надо добыть из скважины: 111.1 тыс.баррелей, что больше, чем средние запасы в каждом из регионов: по региону 1 - 92.5, региону 2 - 68.8, региону 3 - 95 тыс.баррелей соответственно. *\n",
    "\n",
    "*Процент безубыточных скважин от их общего числа в генеральной совокупности:*\n",
    "\n",
    "    - регион 1 - 36.6% скважин \n",
    "    - регион 2 - 16.5% скважин\n",
    "    - регион 3 - 38.2% скважин\n",
    "\n",
    "\n",
    "**Задача 4 \"Рассчёт прибыли и рисков\"**\n",
    "\n",
    "*После выбора 200 лучших точек из всех возможных скважин значения средней прибыли по этим точкам получены следующие:*\n",
    "\n",
    "    - регион 1 - 380.7 млн.руб.\n",
    "    - регион 2 - 448.2 млн.руб.\n",
    "    - регион 3 - 402.8 млн.руб.\n",
    "    \n",
    "*Наибольшая средняя прибыль у 2-го региона.*   \n",
    "\n",
    "    \n",
    "*95%-й доверительный интервал прибыли находится в каждом регионе в следующем промежутке:*\n",
    "\n",
    "    - регион 1 - [-126.9, 879.6] млн.руб.\n",
    "    - регион 2 - [70.9, 893.0] млн.руб.\n",
    "    - регион 3 - [-143.7, 963.0] млн.руб.\n",
    "\n",
    "*Только во 2-м регионе возможные убытки не будут входить в 95%-й доверительный интервал прибыли, в других регионах в этом интервале будут убыточные скважины.*\n",
    "\n",
    "\n",
    "*Риск (вероятность) убытков рассчитан как количество возможных убытков (отрицательных значений прибыли) к общему числу возможных значений прибыли. Риск убытков для регионов следующий:*\n",
    "\n",
    "    - регион 1 - 7.2% вероятность убытков.\n",
    "    - регион 2 - 1.4% вероятность убытков.\n",
    "    - регион 3 - 7.1% вероятность убытков.\n",
    "    \n",
    "*Наименьший риск убытков у 2-го региона.*\n",
    "    \n",
    "*Таким образом, по всем показателям 2-й регион является лучшим, и его рекомендовано использовать для дальнейших нефтяных разработок.*\n"
   ]
  },
  {
   "cell_type": "markdown",
   "metadata": {},
   "source": [
    "<font color='steelblue'><b>Комментарий ревьюера: </b></font> ✔️ <br>\n",
    "<font color='green'>\n",
    "Отличное заключение. Подведены основные полученные результаты и метрики, зафиксирован конечный вывод.\n",
    "</font> "
   ]
  },
  {
   "cell_type": "markdown",
   "metadata": {},
   "source": [
    "## Чек-лист готовности проекта"
   ]
  },
  {
   "cell_type": "markdown",
   "metadata": {},
   "source": [
    "Поставьте 'x' в выполненных пунктах. Далее нажмите Shift+Enter."
   ]
  },
  {
   "cell_type": "markdown",
   "metadata": {},
   "source": [
    "- [x]  Jupyter Notebook открыт\n",
    "- [x]  Весь код выполняется без ошибок\n",
    "- [x]  Ячейки с кодом расположены в порядке исполнения\n",
    "- [x]  Выполнен шаг 1: данные подготовлены\n",
    "- [x]  Выполнен шаг 2: модели обучены и проверены\n",
    "    - [x]  Данные корректно разбиты на обучающую и валидационную выборки\n",
    "    - [x]  Модели обучены, предсказания сделаны\n",
    "    - [x]  Предсказания и правильные ответы на валидационной выборке сохранены\n",
    "    - [x]  На экране напечатаны результаты\n",
    "    - [x]  Сделаны выводы\n",
    "- [x]  Выполнен шаг 3: проведена подготовка к расчёту прибыли\n",
    "    - [x]  Для всех ключевых значений созданы константы Python\n",
    "    - [x]  Посчитано минимальное среднее количество продукта в месторождениях региона, достаточное для разработки\n",
    "    - [x]  По предыдущему пункту сделаны выводы\n",
    "    - [x]  Написана функция расчёта прибыли\n",
    "- [x]  Выполнен шаг 4: посчитаны риски и прибыль\n",
    "    - [x]  Проведена процедура *Bootstrap*\n",
    "    - [x]  Все параметры бутстрепа соответствуют условию\n",
    "    - [x]  Найдены все нужные величины\n",
    "    - [x]  Предложен регион для разработки месторождения\n",
    "    - [x]  Выбор региона обоснован"
   ]
  },
  {
   "cell_type": "markdown",
   "metadata": {},
   "source": [
    "<font color='steelblue'><b>Итоговый комментарий ревьюера</b></font><br>\n",
    "\n",
    "<font color='steelblue'>Евгений, проверять такие проекты как твой в удовольствие :). Спасибо за обилие комментариев по ходу работы и за лаконичный код. В твоем проекте много хороших решений и выделить что-то критическое не вышло из-за отсутствия такового)\n",
    "    \n",
    "<font color='steelblue'>Твой проект готов :) Надеюсь, тебе понравился процесс выполнения и результат. Я возвращаю работу только для того, чтобы узнать, появились ли у тебя ко мне вопросы.\n",
    "    \n",
    "<font color='steelblue'>Надеюсь, комментарии помогут улучшить этот и будущие проекты. Если у тебя появятся вопросы — задавай, я постараюсь ответить.\n",
    "\n",
    "<br>"
   ]
  },
  {
   "cell_type": "markdown",
   "metadata": {},
   "source": [
    "<font color='steelblue'><b>Итоговый комментарий ревьюера v2</b></font><br>\n",
    "\n",
    "<font color='steelblue'>Твой проект готов :) Надеюсь, тебе понравился процесс выполнения и результат.\n",
    "    \n",
    "       \n",
    "Ты проделал большую работу. Надеюсь мои комментарии помогут тебе в будущих проектах. Удачи!\n",
    "  <br>  "
   ]
  },
  {
   "cell_type": "code",
   "execution_count": null,
   "metadata": {},
   "outputs": [],
   "source": []
  }
 ],
 "metadata": {
  "kernelspec": {
   "display_name": "Python 3 (ipykernel)",
   "language": "python",
   "name": "python3"
  },
  "language_info": {
   "codemirror_mode": {
    "name": "ipython",
    "version": 3
   },
   "file_extension": ".py",
   "mimetype": "text/x-python",
   "name": "python",
   "nbconvert_exporter": "python",
   "pygments_lexer": "ipython3",
   "version": "3.9.12"
  },
  "toc": {
   "base_numbering": 1,
   "nav_menu": {},
   "number_sections": true,
   "sideBar": true,
   "skip_h1_title": true,
   "title_cell": "Table of Contents",
   "title_sidebar": "Contents",
   "toc_cell": false,
   "toc_position": {},
   "toc_section_display": true,
   "toc_window_display": false
  }
 },
 "nbformat": 4,
 "nbformat_minor": 2
}
